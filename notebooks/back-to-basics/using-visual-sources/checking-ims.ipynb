{
 "cells": [
  {
   "cell_type": "code",
   "execution_count": 89,
   "id": "5a5efe51-4d55-412b-8e1a-488b13500f16",
   "metadata": {},
   "outputs": [],
   "source": [
    "import pandas as pd\n",
    "import seaborn as sns\n",
    "import matplotlib.pyplot as plt\n",
    "import numpy as np\n",
    "import glob\n",
    "import cv2 as cv\n",
    "import os\n",
    "from IPython.display import clear_output\n",
    "\n",
    "from astropy.io import fits\n",
    "import astropy.units as u\n",
    "from astropy.coordinates import SkyCoord\n",
    "from astropy.wcs.utils import skycoord_to_pixel\n",
    "from astropy.wcs import WCS\n",
    "from astropy.table import Table\n",
    "from tqdm import tqdm\n",
    "\n",
    "import numpy as np"
   ]
  },
  {
   "cell_type": "code",
   "execution_count": 2,
   "id": "a2ed8981-7afe-4c19-a512-b99b78ced45a",
   "metadata": {},
   "outputs": [],
   "source": [
    "combine_fold = 'C:/Users/oryan/Documents/mergers-in-cosmos/cats-to-combine'\n",
    "data_folder = 'C:/Users/oryan/Documents/mergers-in-cosmos/back-to-basics-data'\n",
    "fig_folder = 'C:/Users/oryan/Documents/mergers-in-cosmos/paper-source/figures'\n",
    "fits_folder = 'E:/cosmos-fits'\n",
    "cosmos_folder = 'E:/cosmos-data'"
   ]
  },
  {
   "cell_type": "code",
   "execution_count": 9,
   "id": "7b64e94f-df0c-41cd-b8b2-8c3a49e7c264",
   "metadata": {},
   "outputs": [],
   "source": [
    "df_cat = pd.read_csv(f'{combine_fold}/cosmos2020-categorised-interactions.csv', index_col = 0)"
   ]
  },
  {
   "cell_type": "code",
   "execution_count": 67,
   "id": "c45b372e-0208-4d57-95b9-5a2285d755d2",
   "metadata": {},
   "outputs": [],
   "source": [
    "df_red_tmp = df_cat.query('ez_sfr < 10')\n",
    "df_red = df_red_tmp.query('lp_mass_best > 6.5')"
   ]
  },
  {
   "cell_type": "code",
   "execution_count": 68,
   "id": "d2f81958-1fa1-49d7-9186-99c754df2a9b",
   "metadata": {},
   "outputs": [],
   "source": [
    "df_clsf = pd.read_csv(f'{data_folder}/secondaries-identified.csv', index_col = 0).reset_index().rename(columns = {'index' : 'ORyan23_ID', \"0\" : 'clsf'})"
   ]
  },
  {
   "cell_type": "code",
   "execution_count": 8,
   "id": "d8fa895f-0e73-4e77-b790-486cd1eaec2b",
   "metadata": {},
   "outputs": [],
   "source": [
    "with fits.open(f'{cosmos_folder}/COSMOS2020_CLASSIC_R1_v2.1_p3.fits.gz') as hdul:\n",
    "    data = hdul[1].data"
   ]
  },
  {
   "cell_type": "markdown",
   "id": "dfb88c09-3888-4289-8ec5-e0746f919d50",
   "metadata": {},
   "source": [
    "### Looking at Images"
   ]
  },
  {
   "cell_type": "code",
   "execution_count": 69,
   "id": "1c3b8376-ec0e-4e91-b122-04a8ad444971",
   "metadata": {},
   "outputs": [],
   "source": [
    "df_check = (\n",
    "    df_red.query('category == \"stage1\"')\n",
    ")"
   ]
  },
  {
   "cell_type": "code",
   "execution_count": 71,
   "id": "31184ae1-b90d-4efa-b325-67d6f08bbf84",
   "metadata": {},
   "outputs": [],
   "source": [
    "df_secs = df_check.merge(df_clsf, on = 'ORyan23_ID', how = 'left')"
   ]
  },
  {
   "cell_type": "code",
   "execution_count": 74,
   "id": "8995eedb-b3c7-4dff-80e4-4befa2a79478",
   "metadata": {},
   "outputs": [],
   "source": [
    "df_ns = df_secs.query('clsf == \"n\"')"
   ]
  },
  {
   "cell_type": "code",
   "execution_count": 14,
   "id": "00c78b70-1a56-4c8c-b67d-7a39d146e1a3",
   "metadata": {},
   "outputs": [],
   "source": [
    "def picking_z(ez_z, lp_z):\n",
    "    if np.isnan(ez_z):\n",
    "        if not np.isnan(lp_z):\n",
    "            return lp_z\n",
    "        else:\n",
    "            return np.nan\n",
    "    \n",
    "    if np.isnan(lp_z):\n",
    "        if not np.isnan(ez_z):\n",
    "            return ez_z\n",
    "        else:\n",
    "            return np.nan\n",
    "    \n",
    "    if lp_z < ez_z:\n",
    "        return lp_z\n",
    "    elif ez_z <= lp_z:\n",
    "        return ez_z\n",
    "    else:\n",
    "        return 'what'"
   ]
  },
  {
   "cell_type": "code",
   "execution_count": 15,
   "id": "c5503272-5a98-4efb-aaa0-00d3347f1ad1",
   "metadata": {},
   "outputs": [],
   "source": [
    "def getting_secondary(ra, dec, z, prim_id):\n",
    "    record = data[(data['ALPHA_J2000'] > ra - (15 / (60*60))) & (data['ALPHA_J2000'] < ra + (15 / (60*60))) & (data['DELTA_J2000'] > dec - (15 / (60*60))) & (data['DELTA_J2000'] < dec + (15 / (60*60)))]\n",
    "    \n",
    "    df = Table(record).to_pandas()[['ID', 'ALPHA_J2000', 'DELTA_J2000', 'ez_z_phot', 'lp_zBEST']]\n",
    "    \n",
    "    df_z = (\n",
    "        df\n",
    "        .assign(redshift = df.apply(lambda row: picking_z(row.ez_z_phot, row.lp_zBEST), axis = 1))\n",
    "        .drop(columns = ['ez_z_phot', 'lp_zBEST'])\n",
    "        .dropna()\n",
    "        .query('ID != @prim_id')\n",
    "    )   \n",
    "    \n",
    "    return df_z"
   ]
  },
  {
   "cell_type": "code",
   "execution_count": 61,
   "id": "d385436f-93c9-4854-b290-b76507bfe69e",
   "metadata": {},
   "outputs": [],
   "source": [
    "cat_dict = {}"
   ]
  },
  {
   "cell_type": "code",
   "execution_count": 97,
   "id": "16152ed1-1d22-497f-955c-5183ca3ab87b",
   "metadata": {},
   "outputs": [
    {
     "name": "stderr",
     "output_type": "stream",
     "text": [
      "100%|██████████| 381/381 [11:56<00:00,  1.88s/it]\n"
     ]
    }
   ],
   "source": [
    "for i in tqdm(range(len(df_ns))):\n",
    "    \n",
    "    sourceid = df_ns.ORyan23_ID.iloc[i]\n",
    "    if sourceid in list(cat_dict.keys()):\n",
    "        continue\n",
    "    \n",
    "    fig, ax = plt.subplots(figsize = (8,8))\n",
    "    file_path = f'{fits_folder}/{sourceid}.fits'\n",
    "    assert os.path.exists(file_path)\n",
    "\n",
    "    ra = df_ns.query('ORyan23_ID == @sourceid')['ALPHA_J2000'].iloc[0]\n",
    "    dec = df_ns.query('ORyan23_ID == @sourceid')['DELTA_J2000'].iloc[0]\n",
    "    z_ez = df_ns.query('ORyan23_ID == @sourceid')['ez_z_phot'].iloc[0]\n",
    "    z_lp = df_ns.query('ORyan23_ID == @sourceid')['lp_zBEST'].iloc[0]\n",
    "    id_str = df_ns.query('ORyan23_ID == @sourceid')['ID'].iloc[0]\n",
    "    category = df_ns.query('ORyan23_ID == @sourceid')['category'].iloc[0]\n",
    "\n",
    "    redshift = picking_z(z_ez, z_lp)\n",
    "\n",
    "    prim_coord = SkyCoord(ra = ra * u.deg, dec = dec * u.deg, frame = 'fk5')\n",
    "\n",
    "    df_secs = getting_secondary(ra, dec, redshift, id_str)\n",
    "\n",
    "    with fits.open(file_path) as hdul:\n",
    "        im_data = hdul[0].data\n",
    "        header = hdul[0].header\n",
    "\n",
    "    w = WCS(header)\n",
    "\n",
    "    df_coords = (\n",
    "        df_secs\n",
    "        .assign(coords = df_secs.apply(lambda row: SkyCoord(ra = row.ALPHA_J2000 * u.deg, dec = row.DELTA_J2000 * u.deg, frame = 'fk5'), axis = 1))\n",
    "    )\n",
    "\n",
    "    id_list = list(df_coords.ID)\n",
    "    coords_list = list(df_coords.coords)\n",
    "    z_list = list(df_coords.redshift)\n",
    "\n",
    "    pixs_list = []\n",
    "    for j in coords_list:\n",
    "        pixs_list.append(skycoord_to_pixel(j, w, origin = 0))\n",
    "    pixs_arr = np.array(pixs_list)\n",
    "\n",
    "    prim_pix = np.array(skycoord_to_pixel(prim_coord, w, origin = 0))\n",
    "\n",
    "    ax.imshow(np.log10(im_data), origin = 'lower')\n",
    "    ax.scatter(prim_pix[0], prim_pix[1], s = 10, color='black')\n",
    "    ax.annotate(np.round(redshift, 3), (prim_pix[0], prim_pix[1]), color = 'black')\n",
    "    ax.scatter(pixs_arr[:,0], pixs_arr[:,1], s = 10, color = 'red')\n",
    "    for i, txt in enumerate(z_list):\n",
    "        ax.annotate(f'{np.round(txt, 3)}', (pixs_arr[i,0], pixs_arr[i,1]), color = 'red')\n",
    "    ax.set_xticks([])\n",
    "    ax.set_yticks([])\n",
    "    fig.tight_layout()\n",
    "    plt.show()\n",
    "    \n",
    "    print(f\"Secondary in image: {df_clsf.query('ORyan23_ID == @sourceid').clsf.iloc[0]}\")\n",
    "    print(f'Classified as {category}')\n",
    "    answered = False\n",
    "    while not answered:\n",
    "        test = input('Is this correct?')\n",
    "        if test == 'y':\n",
    "            cat_dict[sourceid] = category\n",
    "            answered = True\n",
    "        elif test == 'n':\n",
    "            cat_dict[sourceid] = input('What is the stage?')\n",
    "            answered = True\n",
    "        else:\n",
    "            print('Please input y or n.')\n",
    "    \n",
    "    plt.close()\n",
    "    clear_output(wait = True)    "
   ]
  },
  {
   "cell_type": "code",
   "execution_count": 98,
   "id": "696f9886-0ea1-44dc-80cc-b1ebf62713f9",
   "metadata": {},
   "outputs": [],
   "source": [
    "df_corr_stage = pd.DataFrame.from_dict(cat_dict, orient = 'index').reset_index().rename(columns = {'index' : 'ORyan23_ID', '0' : 'corr_stage'})"
   ]
  },
  {
   "cell_type": "code",
   "execution_count": 99,
   "id": "43b97b8f-023d-45f1-b5c4-3e7432704822",
   "metadata": {},
   "outputs": [],
   "source": [
    "df_corr_stage.to_csv(f'{combine_fold}/correcting-stage2.csv')"
   ]
  },
  {
   "cell_type": "code",
   "execution_count": null,
   "id": "6381ce42-04d7-4919-8fef-a02cdf0bef5c",
   "metadata": {},
   "outputs": [],
   "source": []
  }
 ],
 "metadata": {
  "kernelspec": {
   "display_name": "Python 3 (ipykernel)",
   "language": "python",
   "name": "python3"
  },
  "language_info": {
   "codemirror_mode": {
    "name": "ipython",
    "version": 3
   },
   "file_extension": ".py",
   "mimetype": "text/x-python",
   "name": "python",
   "nbconvert_exporter": "python",
   "pygments_lexer": "ipython3",
   "version": "3.7.13"
  }
 },
 "nbformat": 4,
 "nbformat_minor": 5
}
