{
 "cells": [
  {
   "cell_type": "code",
   "execution_count": 1,
   "id": "6b48cb45-cc05-4f10-ad46-9705043d58e0",
   "metadata": {},
   "outputs": [],
   "source": [
    "import pandas as pd\n",
    "import seaborn as sns\n",
    "import matplotlib.pyplot as plt\n",
    "import numpy as np\n",
    "import glob\n",
    "import sys\n",
    "import cv2 as cv\n",
    "from tqdm import tqdm\n",
    "\n",
    "from astropy.cosmology import FlatLambdaCDM\n",
    "import astropy.units as u\n",
    "from astropy.io import fits\n",
    "from astropy.coordinates import SkyCoord\n",
    "import astropy.units as u"
   ]
  },
  {
   "cell_type": "code",
   "execution_count": 2,
   "id": "9ef2b246-f3c1-4065-a076-46dfd935f3f5",
   "metadata": {},
   "outputs": [],
   "source": [
    "combine_fold = 'C:/Users/oryan/Documents/mergers-in-cosmos/cats-to-combine'\n",
    "data_folder = 'C:/Users/oryan/Documents/mergers-in-cosmos/back-to-basics-data'\n",
    "fig_folder = 'C:/Users/oryan/Documents/mergers-in-cosmos/paper-source/figures'\n",
    "cos_dat_fold = 'E:/cosmos-data'"
   ]
  },
  {
   "cell_type": "code",
   "execution_count": 3,
   "id": "710d02eb-39da-4ec4-9b27-9c311004c89d",
   "metadata": {},
   "outputs": [
    {
     "name": "stderr",
     "output_type": "stream",
     "text": [
      "C:\\Users\\oryan\\AppData\\Local\\Continuum\\anaconda3\\lib\\site-packages\\IPython\\core\\interactiveshell.py:3457: DtypeWarning: Columns (1) have mixed types.Specify dtype option on import or set low_memory=False.\n",
      "  exec(code_obj, self.user_global_ns, self.user_ns)\n"
     ]
    }
   ],
   "source": [
    "df_cat = pd.read_csv(f'{combine_fold}/dor-all-restaged-full.csv', index_col = 0)"
   ]
  },
  {
   "cell_type": "code",
   "execution_count": 4,
   "id": "3643f898-63cb-4334-84da-8c3e1aa85d54",
   "metadata": {},
   "outputs": [
    {
     "data": {
      "text/html": [
       "<div>\n",
       "<style scoped>\n",
       "    .dataframe tbody tr th:only-of-type {\n",
       "        vertical-align: middle;\n",
       "    }\n",
       "\n",
       "    .dataframe tbody tr th {\n",
       "        vertical-align: top;\n",
       "    }\n",
       "\n",
       "    .dataframe thead th {\n",
       "        text-align: right;\n",
       "    }\n",
       "</style>\n",
       "<table border=\"1\" class=\"dataframe\">\n",
       "  <thead>\n",
       "    <tr style=\"text-align: right;\">\n",
       "      <th></th>\n",
       "      <th>ORyanID_23</th>\n",
       "      <th>ID</th>\n",
       "      <th>category</th>\n",
       "      <th>ALPHA_J2000</th>\n",
       "      <th>DELTA_J2000</th>\n",
       "      <th>X_IMAGE</th>\n",
       "      <th>Y_IMAGE</th>\n",
       "      <th>ERRX2_IMAGE</th>\n",
       "      <th>ERRY2_IMAGE</th>\n",
       "      <th>ERRXY_IMAGE</th>\n",
       "      <th>...</th>\n",
       "      <th>ez_ssfr_p025</th>\n",
       "      <th>ez_ssfr_p160</th>\n",
       "      <th>ez_ssfr_p500</th>\n",
       "      <th>ez_ssfr_p840</th>\n",
       "      <th>ez_ssfr_p975</th>\n",
       "      <th>ez_Av_p025</th>\n",
       "      <th>ez_Av_p160</th>\n",
       "      <th>ez_Av_p500</th>\n",
       "      <th>ez_Av_p840</th>\n",
       "      <th>ez_Av_p975</th>\n",
       "    </tr>\n",
       "  </thead>\n",
       "  <tbody>\n",
       "    <tr>\n",
       "      <th>0</th>\n",
       "      <td>4000705532455</td>\n",
       "      <td>816891</td>\n",
       "      <td>stage4</td>\n",
       "      <td>150.679846</td>\n",
       "      <td>2.196543</td>\n",
       "      <td>9200.399414</td>\n",
       "      <td>21737.232422</td>\n",
       "      <td>0.000052</td>\n",
       "      <td>0.000059</td>\n",
       "      <td>-1.043282e-05</td>\n",
       "      <td>...</td>\n",
       "      <td>-8.931825</td>\n",
       "      <td>-8.911355</td>\n",
       "      <td>-8.899668</td>\n",
       "      <td>-8.883307</td>\n",
       "      <td>-8.872990</td>\n",
       "      <td>0.529107</td>\n",
       "      <td>0.560142</td>\n",
       "      <td>0.599624</td>\n",
       "      <td>0.630920</td>\n",
       "      <td>0.652330</td>\n",
       "    </tr>\n",
       "    <tr>\n",
       "      <th>1</th>\n",
       "      <td>4000705533383</td>\n",
       "      <td>860686</td>\n",
       "      <td>stage3</td>\n",
       "      <td>150.644522</td>\n",
       "      <td>2.237226</td>\n",
       "      <td>10047.978516</td>\n",
       "      <td>22713.351562</td>\n",
       "      <td>0.000051</td>\n",
       "      <td>0.000046</td>\n",
       "      <td>1.571297e-06</td>\n",
       "      <td>...</td>\n",
       "      <td>-9.314209</td>\n",
       "      <td>-9.106611</td>\n",
       "      <td>-8.941274</td>\n",
       "      <td>-8.713107</td>\n",
       "      <td>-8.541205</td>\n",
       "      <td>0.341270</td>\n",
       "      <td>0.545498</td>\n",
       "      <td>0.732327</td>\n",
       "      <td>0.906665</td>\n",
       "      <td>1.020098</td>\n",
       "    </tr>\n",
       "    <tr>\n",
       "      <th>2</th>\n",
       "      <td>4000705539941</td>\n",
       "      <td>1301188</td>\n",
       "      <td>stage2</td>\n",
       "      <td>149.702462</td>\n",
       "      <td>2.654895</td>\n",
       "      <td>32637.949219</td>\n",
       "      <td>32737.013672</td>\n",
       "      <td>0.000064</td>\n",
       "      <td>0.000104</td>\n",
       "      <td>-2.881107e-06</td>\n",
       "      <td>...</td>\n",
       "      <td>-9.794128</td>\n",
       "      <td>-9.784252</td>\n",
       "      <td>-9.766013</td>\n",
       "      <td>-9.743796</td>\n",
       "      <td>-9.727879</td>\n",
       "      <td>0.018737</td>\n",
       "      <td>0.018737</td>\n",
       "      <td>0.018737</td>\n",
       "      <td>0.018737</td>\n",
       "      <td>0.018737</td>\n",
       "    </tr>\n",
       "    <tr>\n",
       "      <th>3</th>\n",
       "      <td>4000705540034</td>\n",
       "      <td>1304538</td>\n",
       "      <td>stage3</td>\n",
       "      <td>149.726828</td>\n",
       "      <td>2.658172</td>\n",
       "      <td>32053.712891</td>\n",
       "      <td>32815.468750</td>\n",
       "      <td>0.000071</td>\n",
       "      <td>0.000086</td>\n",
       "      <td>-6.036952e-06</td>\n",
       "      <td>...</td>\n",
       "      <td>-9.480532</td>\n",
       "      <td>-9.443615</td>\n",
       "      <td>-9.402433</td>\n",
       "      <td>-9.352081</td>\n",
       "      <td>-9.325659</td>\n",
       "      <td>0.302629</td>\n",
       "      <td>0.376027</td>\n",
       "      <td>0.440394</td>\n",
       "      <td>0.508153</td>\n",
       "      <td>0.567727</td>\n",
       "    </tr>\n",
       "    <tr>\n",
       "      <th>4</th>\n",
       "      <td>4000705540064</td>\n",
       "      <td>1310001</td>\n",
       "      <td>stage3</td>\n",
       "      <td>149.701230</td>\n",
       "      <td>2.660343</td>\n",
       "      <td>32667.441406</td>\n",
       "      <td>32867.789062</td>\n",
       "      <td>0.000026</td>\n",
       "      <td>0.000020</td>\n",
       "      <td>-1.023530e-05</td>\n",
       "      <td>...</td>\n",
       "      <td>-9.882174</td>\n",
       "      <td>-9.855921</td>\n",
       "      <td>-9.816085</td>\n",
       "      <td>-9.697225</td>\n",
       "      <td>-9.573506</td>\n",
       "      <td>0.455258</td>\n",
       "      <td>0.482555</td>\n",
       "      <td>0.522239</td>\n",
       "      <td>0.600383</td>\n",
       "      <td>0.660279</td>\n",
       "    </tr>\n",
       "    <tr>\n",
       "      <th>...</th>\n",
       "      <td>...</td>\n",
       "      <td>...</td>\n",
       "      <td>...</td>\n",
       "      <td>...</td>\n",
       "      <td>...</td>\n",
       "      <td>...</td>\n",
       "      <td>...</td>\n",
       "      <td>...</td>\n",
       "      <td>...</td>\n",
       "      <td>...</td>\n",
       "      <td>...</td>\n",
       "      <td>...</td>\n",
       "      <td>...</td>\n",
       "      <td>...</td>\n",
       "      <td>...</td>\n",
       "      <td>...</td>\n",
       "      <td>...</td>\n",
       "      <td>...</td>\n",
       "      <td>...</td>\n",
       "      <td>...</td>\n",
       "      <td>...</td>\n",
       "    </tr>\n",
       "    <tr>\n",
       "      <th>4176</th>\n",
       "      <td>4001204758614_extra</td>\n",
       "      <td>1520733</td>\n",
       "      <td>stage4</td>\n",
       "      <td>149.891374</td>\n",
       "      <td>2.866981</td>\n",
       "      <td>28107.876953</td>\n",
       "      <td>37826.437500</td>\n",
       "      <td>0.000086</td>\n",
       "      <td>0.000104</td>\n",
       "      <td>-9.313976e-07</td>\n",
       "      <td>...</td>\n",
       "      <td>-9.441206</td>\n",
       "      <td>-9.279022</td>\n",
       "      <td>-9.095134</td>\n",
       "      <td>-9.003501</td>\n",
       "      <td>-8.955496</td>\n",
       "      <td>0.120441</td>\n",
       "      <td>0.213251</td>\n",
       "      <td>0.306832</td>\n",
       "      <td>0.556012</td>\n",
       "      <td>0.731876</td>\n",
       "    </tr>\n",
       "    <tr>\n",
       "      <th>4177</th>\n",
       "      <td>4546055995_extra</td>\n",
       "      <td>1520749</td>\n",
       "      <td>stage2</td>\n",
       "      <td>150.383110</td>\n",
       "      <td>2.865367</td>\n",
       "      <td>16320.103516</td>\n",
       "      <td>37787.917969</td>\n",
       "      <td>0.000131</td>\n",
       "      <td>0.000236</td>\n",
       "      <td>7.123858e-05</td>\n",
       "      <td>...</td>\n",
       "      <td>-9.857880</td>\n",
       "      <td>-9.658215</td>\n",
       "      <td>-9.485625</td>\n",
       "      <td>-9.235816</td>\n",
       "      <td>-8.971795</td>\n",
       "      <td>0.162147</td>\n",
       "      <td>0.238640</td>\n",
       "      <td>0.432004</td>\n",
       "      <td>0.592193</td>\n",
       "      <td>0.687256</td>\n",
       "    </tr>\n",
       "    <tr>\n",
       "      <th>4178</th>\n",
       "      <td>4000927318133_extra</td>\n",
       "      <td>1523385</td>\n",
       "      <td>stage3</td>\n",
       "      <td>149.789910</td>\n",
       "      <td>2.865132</td>\n",
       "      <td>30540.179688</td>\n",
       "      <td>37782.648438</td>\n",
       "      <td>0.000045</td>\n",
       "      <td>0.000059</td>\n",
       "      <td>1.600747e-05</td>\n",
       "      <td>...</td>\n",
       "      <td>-9.525900</td>\n",
       "      <td>-9.472779</td>\n",
       "      <td>-9.353454</td>\n",
       "      <td>-9.273221</td>\n",
       "      <td>-9.213521</td>\n",
       "      <td>0.262676</td>\n",
       "      <td>0.355466</td>\n",
       "      <td>0.410356</td>\n",
       "      <td>0.489105</td>\n",
       "      <td>0.566003</td>\n",
       "    </tr>\n",
       "    <tr>\n",
       "      <th>4179</th>\n",
       "      <td>4000747939904_extra</td>\n",
       "      <td>1524909</td>\n",
       "      <td>stage3</td>\n",
       "      <td>150.450581</td>\n",
       "      <td>2.872371</td>\n",
       "      <td>14702.710938</td>\n",
       "      <td>37956.468750</td>\n",
       "      <td>0.000248</td>\n",
       "      <td>0.000292</td>\n",
       "      <td>7.378556e-06</td>\n",
       "      <td>...</td>\n",
       "      <td>-9.556987</td>\n",
       "      <td>-9.385500</td>\n",
       "      <td>-9.154130</td>\n",
       "      <td>-9.026810</td>\n",
       "      <td>-8.938077</td>\n",
       "      <td>0.153294</td>\n",
       "      <td>0.283249</td>\n",
       "      <td>0.436332</td>\n",
       "      <td>0.600615</td>\n",
       "      <td>0.693621</td>\n",
       "    </tr>\n",
       "    <tr>\n",
       "      <th>4180</th>\n",
       "      <td>4001239405815_extra</td>\n",
       "      <td>1529226</td>\n",
       "      <td>stage4</td>\n",
       "      <td>150.372099</td>\n",
       "      <td>2.872333</td>\n",
       "      <td>16584.076172</td>\n",
       "      <td>37955.070312</td>\n",
       "      <td>0.000018</td>\n",
       "      <td>0.000019</td>\n",
       "      <td>5.020723e-06</td>\n",
       "      <td>...</td>\n",
       "      <td>-10.793317</td>\n",
       "      <td>-10.749337</td>\n",
       "      <td>-10.671772</td>\n",
       "      <td>-10.571155</td>\n",
       "      <td>-10.450612</td>\n",
       "      <td>0.541194</td>\n",
       "      <td>0.584935</td>\n",
       "      <td>0.723596</td>\n",
       "      <td>0.791648</td>\n",
       "      <td>0.920438</td>\n",
       "    </tr>\n",
       "  </tbody>\n",
       "</table>\n",
       "<p>4181 rows × 756 columns</p>\n",
       "</div>"
      ],
      "text/plain": [
       "               ORyanID_23       ID category  ALPHA_J2000  DELTA_J2000  \\\n",
       "0           4000705532455   816891   stage4   150.679846     2.196543   \n",
       "1           4000705533383   860686   stage3   150.644522     2.237226   \n",
       "2           4000705539941  1301188   stage2   149.702462     2.654895   \n",
       "3           4000705540034  1304538   stage3   149.726828     2.658172   \n",
       "4           4000705540064  1310001   stage3   149.701230     2.660343   \n",
       "...                   ...      ...      ...          ...          ...   \n",
       "4176  4001204758614_extra  1520733   stage4   149.891374     2.866981   \n",
       "4177     4546055995_extra  1520749   stage2   150.383110     2.865367   \n",
       "4178  4000927318133_extra  1523385   stage3   149.789910     2.865132   \n",
       "4179  4000747939904_extra  1524909   stage3   150.450581     2.872371   \n",
       "4180  4001239405815_extra  1529226   stage4   150.372099     2.872333   \n",
       "\n",
       "           X_IMAGE       Y_IMAGE  ERRX2_IMAGE  ERRY2_IMAGE   ERRXY_IMAGE  ...  \\\n",
       "0      9200.399414  21737.232422     0.000052     0.000059 -1.043282e-05  ...   \n",
       "1     10047.978516  22713.351562     0.000051     0.000046  1.571297e-06  ...   \n",
       "2     32637.949219  32737.013672     0.000064     0.000104 -2.881107e-06  ...   \n",
       "3     32053.712891  32815.468750     0.000071     0.000086 -6.036952e-06  ...   \n",
       "4     32667.441406  32867.789062     0.000026     0.000020 -1.023530e-05  ...   \n",
       "...            ...           ...          ...          ...           ...  ...   \n",
       "4176  28107.876953  37826.437500     0.000086     0.000104 -9.313976e-07  ...   \n",
       "4177  16320.103516  37787.917969     0.000131     0.000236  7.123858e-05  ...   \n",
       "4178  30540.179688  37782.648438     0.000045     0.000059  1.600747e-05  ...   \n",
       "4179  14702.710938  37956.468750     0.000248     0.000292  7.378556e-06  ...   \n",
       "4180  16584.076172  37955.070312     0.000018     0.000019  5.020723e-06  ...   \n",
       "\n",
       "      ez_ssfr_p025  ez_ssfr_p160  ez_ssfr_p500  ez_ssfr_p840  ez_ssfr_p975  \\\n",
       "0        -8.931825     -8.911355     -8.899668     -8.883307     -8.872990   \n",
       "1        -9.314209     -9.106611     -8.941274     -8.713107     -8.541205   \n",
       "2        -9.794128     -9.784252     -9.766013     -9.743796     -9.727879   \n",
       "3        -9.480532     -9.443615     -9.402433     -9.352081     -9.325659   \n",
       "4        -9.882174     -9.855921     -9.816085     -9.697225     -9.573506   \n",
       "...            ...           ...           ...           ...           ...   \n",
       "4176     -9.441206     -9.279022     -9.095134     -9.003501     -8.955496   \n",
       "4177     -9.857880     -9.658215     -9.485625     -9.235816     -8.971795   \n",
       "4178     -9.525900     -9.472779     -9.353454     -9.273221     -9.213521   \n",
       "4179     -9.556987     -9.385500     -9.154130     -9.026810     -8.938077   \n",
       "4180    -10.793317    -10.749337    -10.671772    -10.571155    -10.450612   \n",
       "\n",
       "      ez_Av_p025  ez_Av_p160  ez_Av_p500  ez_Av_p840  ez_Av_p975  \n",
       "0       0.529107    0.560142    0.599624    0.630920    0.652330  \n",
       "1       0.341270    0.545498    0.732327    0.906665    1.020098  \n",
       "2       0.018737    0.018737    0.018737    0.018737    0.018737  \n",
       "3       0.302629    0.376027    0.440394    0.508153    0.567727  \n",
       "4       0.455258    0.482555    0.522239    0.600383    0.660279  \n",
       "...          ...         ...         ...         ...         ...  \n",
       "4176    0.120441    0.213251    0.306832    0.556012    0.731876  \n",
       "4177    0.162147    0.238640    0.432004    0.592193    0.687256  \n",
       "4178    0.262676    0.355466    0.410356    0.489105    0.566003  \n",
       "4179    0.153294    0.283249    0.436332    0.600615    0.693621  \n",
       "4180    0.541194    0.584935    0.723596    0.791648    0.920438  \n",
       "\n",
       "[4181 rows x 756 columns]"
      ]
     },
     "execution_count": 4,
     "metadata": {},
     "output_type": "execute_result"
    }
   ],
   "source": [
    "df_cat"
   ]
  },
  {
   "cell_type": "code",
   "execution_count": 5,
   "id": "65babb47-1098-40c4-8010-2e2fb31e8b95",
   "metadata": {},
   "outputs": [],
   "source": [
    "df_red_tmp = df_cat.query('ez_sfr < 10')\n",
    "df_red = df_red_tmp.query('lp_mass_best > 9.25 and lp_mass_best <= 12.5')"
   ]
  },
  {
   "cell_type": "markdown",
   "id": "af72936a-cd86-49d1-8bee-723c95d5deea",
   "metadata": {},
   "source": [
    "### Cross Matching with AGN Catalogues"
   ]
  },
  {
   "cell_type": "code",
   "execution_count": 6,
   "id": "289e43f3-3406-4097-855f-5322f32b312b",
   "metadata": {},
   "outputs": [
    {
     "data": {
      "text/html": [
       "<div>\n",
       "<style scoped>\n",
       "    .dataframe tbody tr th:only-of-type {\n",
       "        vertical-align: middle;\n",
       "    }\n",
       "\n",
       "    .dataframe tbody tr th {\n",
       "        vertical-align: top;\n",
       "    }\n",
       "\n",
       "    .dataframe thead th {\n",
       "        text-align: right;\n",
       "    }\n",
       "</style>\n",
       "<table border=\"1\" class=\"dataframe\">\n",
       "  <thead>\n",
       "    <tr style=\"text-align: right;\">\n",
       "      <th></th>\n",
       "      <th>ORyanID_23</th>\n",
       "      <th>ID</th>\n",
       "      <th>category</th>\n",
       "      <th>ALPHA_J2000</th>\n",
       "      <th>DELTA_J2000</th>\n",
       "      <th>X_IMAGE</th>\n",
       "      <th>Y_IMAGE</th>\n",
       "      <th>ERRX2_IMAGE</th>\n",
       "      <th>ERRY2_IMAGE</th>\n",
       "      <th>ERRXY_IMAGE</th>\n",
       "      <th>...</th>\n",
       "      <th>ez_ssfr_p025</th>\n",
       "      <th>ez_ssfr_p160</th>\n",
       "      <th>ez_ssfr_p500</th>\n",
       "      <th>ez_ssfr_p840</th>\n",
       "      <th>ez_ssfr_p975</th>\n",
       "      <th>ez_Av_p025</th>\n",
       "      <th>ez_Av_p160</th>\n",
       "      <th>ez_Av_p500</th>\n",
       "      <th>ez_Av_p840</th>\n",
       "      <th>ez_Av_p975</th>\n",
       "    </tr>\n",
       "  </thead>\n",
       "  <tbody>\n",
       "    <tr>\n",
       "      <th>0</th>\n",
       "      <td>4000705532455</td>\n",
       "      <td>816891</td>\n",
       "      <td>stage4</td>\n",
       "      <td>150.679846</td>\n",
       "      <td>2.196543</td>\n",
       "      <td>9200.399414</td>\n",
       "      <td>21737.232422</td>\n",
       "      <td>0.000052</td>\n",
       "      <td>0.000059</td>\n",
       "      <td>-1.043282e-05</td>\n",
       "      <td>...</td>\n",
       "      <td>-8.931825</td>\n",
       "      <td>-8.911355</td>\n",
       "      <td>-8.899668</td>\n",
       "      <td>-8.883307</td>\n",
       "      <td>-8.872990</td>\n",
       "      <td>0.529107</td>\n",
       "      <td>0.560142</td>\n",
       "      <td>0.599624</td>\n",
       "      <td>0.630920</td>\n",
       "      <td>0.652330</td>\n",
       "    </tr>\n",
       "    <tr>\n",
       "      <th>1</th>\n",
       "      <td>4000705533383</td>\n",
       "      <td>860686</td>\n",
       "      <td>stage3</td>\n",
       "      <td>150.644522</td>\n",
       "      <td>2.237226</td>\n",
       "      <td>10047.978516</td>\n",
       "      <td>22713.351562</td>\n",
       "      <td>0.000051</td>\n",
       "      <td>0.000046</td>\n",
       "      <td>1.571297e-06</td>\n",
       "      <td>...</td>\n",
       "      <td>-9.314209</td>\n",
       "      <td>-9.106611</td>\n",
       "      <td>-8.941274</td>\n",
       "      <td>-8.713107</td>\n",
       "      <td>-8.541205</td>\n",
       "      <td>0.341270</td>\n",
       "      <td>0.545498</td>\n",
       "      <td>0.732327</td>\n",
       "      <td>0.906665</td>\n",
       "      <td>1.020098</td>\n",
       "    </tr>\n",
       "    <tr>\n",
       "      <th>3</th>\n",
       "      <td>4000705540034</td>\n",
       "      <td>1304538</td>\n",
       "      <td>stage3</td>\n",
       "      <td>149.726828</td>\n",
       "      <td>2.658172</td>\n",
       "      <td>32053.712891</td>\n",
       "      <td>32815.468750</td>\n",
       "      <td>0.000071</td>\n",
       "      <td>0.000086</td>\n",
       "      <td>-6.036952e-06</td>\n",
       "      <td>...</td>\n",
       "      <td>-9.480532</td>\n",
       "      <td>-9.443615</td>\n",
       "      <td>-9.402433</td>\n",
       "      <td>-9.352081</td>\n",
       "      <td>-9.325659</td>\n",
       "      <td>0.302629</td>\n",
       "      <td>0.376027</td>\n",
       "      <td>0.440394</td>\n",
       "      <td>0.508153</td>\n",
       "      <td>0.567727</td>\n",
       "    </tr>\n",
       "    <tr>\n",
       "      <th>4</th>\n",
       "      <td>4000705540064</td>\n",
       "      <td>1310001</td>\n",
       "      <td>stage3</td>\n",
       "      <td>149.701230</td>\n",
       "      <td>2.660343</td>\n",
       "      <td>32667.441406</td>\n",
       "      <td>32867.789062</td>\n",
       "      <td>0.000026</td>\n",
       "      <td>0.000020</td>\n",
       "      <td>-1.023530e-05</td>\n",
       "      <td>...</td>\n",
       "      <td>-9.882174</td>\n",
       "      <td>-9.855921</td>\n",
       "      <td>-9.816085</td>\n",
       "      <td>-9.697225</td>\n",
       "      <td>-9.573506</td>\n",
       "      <td>0.455258</td>\n",
       "      <td>0.482555</td>\n",
       "      <td>0.522239</td>\n",
       "      <td>0.600383</td>\n",
       "      <td>0.660279</td>\n",
       "    </tr>\n",
       "    <tr>\n",
       "      <th>5</th>\n",
       "      <td>4000705540104</td>\n",
       "      <td>1308927</td>\n",
       "      <td>stage3</td>\n",
       "      <td>149.688716</td>\n",
       "      <td>2.661469</td>\n",
       "      <td>32967.476562</td>\n",
       "      <td>32894.925781</td>\n",
       "      <td>0.000027</td>\n",
       "      <td>0.000027</td>\n",
       "      <td>-7.739382e-06</td>\n",
       "      <td>...</td>\n",
       "      <td>-8.919805</td>\n",
       "      <td>-8.915024</td>\n",
       "      <td>-8.908461</td>\n",
       "      <td>-8.900943</td>\n",
       "      <td>-8.896926</td>\n",
       "      <td>0.886180</td>\n",
       "      <td>0.922628</td>\n",
       "      <td>0.971381</td>\n",
       "      <td>1.015397</td>\n",
       "      <td>1.057468</td>\n",
       "    </tr>\n",
       "    <tr>\n",
       "      <th>...</th>\n",
       "      <td>...</td>\n",
       "      <td>...</td>\n",
       "      <td>...</td>\n",
       "      <td>...</td>\n",
       "      <td>...</td>\n",
       "      <td>...</td>\n",
       "      <td>...</td>\n",
       "      <td>...</td>\n",
       "      <td>...</td>\n",
       "      <td>...</td>\n",
       "      <td>...</td>\n",
       "      <td>...</td>\n",
       "      <td>...</td>\n",
       "      <td>...</td>\n",
       "      <td>...</td>\n",
       "      <td>...</td>\n",
       "      <td>...</td>\n",
       "      <td>...</td>\n",
       "      <td>...</td>\n",
       "      <td>...</td>\n",
       "      <td>...</td>\n",
       "    </tr>\n",
       "    <tr>\n",
       "      <th>4176</th>\n",
       "      <td>4001204758614_extra</td>\n",
       "      <td>1520733</td>\n",
       "      <td>stage4</td>\n",
       "      <td>149.891374</td>\n",
       "      <td>2.866981</td>\n",
       "      <td>28107.876953</td>\n",
       "      <td>37826.437500</td>\n",
       "      <td>0.000086</td>\n",
       "      <td>0.000104</td>\n",
       "      <td>-9.313976e-07</td>\n",
       "      <td>...</td>\n",
       "      <td>-9.441206</td>\n",
       "      <td>-9.279022</td>\n",
       "      <td>-9.095134</td>\n",
       "      <td>-9.003501</td>\n",
       "      <td>-8.955496</td>\n",
       "      <td>0.120441</td>\n",
       "      <td>0.213251</td>\n",
       "      <td>0.306832</td>\n",
       "      <td>0.556012</td>\n",
       "      <td>0.731876</td>\n",
       "    </tr>\n",
       "    <tr>\n",
       "      <th>4177</th>\n",
       "      <td>4546055995_extra</td>\n",
       "      <td>1520749</td>\n",
       "      <td>stage2</td>\n",
       "      <td>150.383110</td>\n",
       "      <td>2.865367</td>\n",
       "      <td>16320.103516</td>\n",
       "      <td>37787.917969</td>\n",
       "      <td>0.000131</td>\n",
       "      <td>0.000236</td>\n",
       "      <td>7.123858e-05</td>\n",
       "      <td>...</td>\n",
       "      <td>-9.857880</td>\n",
       "      <td>-9.658215</td>\n",
       "      <td>-9.485625</td>\n",
       "      <td>-9.235816</td>\n",
       "      <td>-8.971795</td>\n",
       "      <td>0.162147</td>\n",
       "      <td>0.238640</td>\n",
       "      <td>0.432004</td>\n",
       "      <td>0.592193</td>\n",
       "      <td>0.687256</td>\n",
       "    </tr>\n",
       "    <tr>\n",
       "      <th>4178</th>\n",
       "      <td>4000927318133_extra</td>\n",
       "      <td>1523385</td>\n",
       "      <td>stage3</td>\n",
       "      <td>149.789910</td>\n",
       "      <td>2.865132</td>\n",
       "      <td>30540.179688</td>\n",
       "      <td>37782.648438</td>\n",
       "      <td>0.000045</td>\n",
       "      <td>0.000059</td>\n",
       "      <td>1.600747e-05</td>\n",
       "      <td>...</td>\n",
       "      <td>-9.525900</td>\n",
       "      <td>-9.472779</td>\n",
       "      <td>-9.353454</td>\n",
       "      <td>-9.273221</td>\n",
       "      <td>-9.213521</td>\n",
       "      <td>0.262676</td>\n",
       "      <td>0.355466</td>\n",
       "      <td>0.410356</td>\n",
       "      <td>0.489105</td>\n",
       "      <td>0.566003</td>\n",
       "    </tr>\n",
       "    <tr>\n",
       "      <th>4179</th>\n",
       "      <td>4000747939904_extra</td>\n",
       "      <td>1524909</td>\n",
       "      <td>stage3</td>\n",
       "      <td>150.450581</td>\n",
       "      <td>2.872371</td>\n",
       "      <td>14702.710938</td>\n",
       "      <td>37956.468750</td>\n",
       "      <td>0.000248</td>\n",
       "      <td>0.000292</td>\n",
       "      <td>7.378556e-06</td>\n",
       "      <td>...</td>\n",
       "      <td>-9.556987</td>\n",
       "      <td>-9.385500</td>\n",
       "      <td>-9.154130</td>\n",
       "      <td>-9.026810</td>\n",
       "      <td>-8.938077</td>\n",
       "      <td>0.153294</td>\n",
       "      <td>0.283249</td>\n",
       "      <td>0.436332</td>\n",
       "      <td>0.600615</td>\n",
       "      <td>0.693621</td>\n",
       "    </tr>\n",
       "    <tr>\n",
       "      <th>4180</th>\n",
       "      <td>4001239405815_extra</td>\n",
       "      <td>1529226</td>\n",
       "      <td>stage4</td>\n",
       "      <td>150.372099</td>\n",
       "      <td>2.872333</td>\n",
       "      <td>16584.076172</td>\n",
       "      <td>37955.070312</td>\n",
       "      <td>0.000018</td>\n",
       "      <td>0.000019</td>\n",
       "      <td>5.020723e-06</td>\n",
       "      <td>...</td>\n",
       "      <td>-10.793317</td>\n",
       "      <td>-10.749337</td>\n",
       "      <td>-10.671772</td>\n",
       "      <td>-10.571155</td>\n",
       "      <td>-10.450612</td>\n",
       "      <td>0.541194</td>\n",
       "      <td>0.584935</td>\n",
       "      <td>0.723596</td>\n",
       "      <td>0.791648</td>\n",
       "      <td>0.920438</td>\n",
       "    </tr>\n",
       "  </tbody>\n",
       "</table>\n",
       "<p>3404 rows × 756 columns</p>\n",
       "</div>"
      ],
      "text/plain": [
       "               ORyanID_23       ID category  ALPHA_J2000  DELTA_J2000  \\\n",
       "0           4000705532455   816891   stage4   150.679846     2.196543   \n",
       "1           4000705533383   860686   stage3   150.644522     2.237226   \n",
       "3           4000705540034  1304538   stage3   149.726828     2.658172   \n",
       "4           4000705540064  1310001   stage3   149.701230     2.660343   \n",
       "5           4000705540104  1308927   stage3   149.688716     2.661469   \n",
       "...                   ...      ...      ...          ...          ...   \n",
       "4176  4001204758614_extra  1520733   stage4   149.891374     2.866981   \n",
       "4177     4546055995_extra  1520749   stage2   150.383110     2.865367   \n",
       "4178  4000927318133_extra  1523385   stage3   149.789910     2.865132   \n",
       "4179  4000747939904_extra  1524909   stage3   150.450581     2.872371   \n",
       "4180  4001239405815_extra  1529226   stage4   150.372099     2.872333   \n",
       "\n",
       "           X_IMAGE       Y_IMAGE  ERRX2_IMAGE  ERRY2_IMAGE   ERRXY_IMAGE  ...  \\\n",
       "0      9200.399414  21737.232422     0.000052     0.000059 -1.043282e-05  ...   \n",
       "1     10047.978516  22713.351562     0.000051     0.000046  1.571297e-06  ...   \n",
       "3     32053.712891  32815.468750     0.000071     0.000086 -6.036952e-06  ...   \n",
       "4     32667.441406  32867.789062     0.000026     0.000020 -1.023530e-05  ...   \n",
       "5     32967.476562  32894.925781     0.000027     0.000027 -7.739382e-06  ...   \n",
       "...            ...           ...          ...          ...           ...  ...   \n",
       "4176  28107.876953  37826.437500     0.000086     0.000104 -9.313976e-07  ...   \n",
       "4177  16320.103516  37787.917969     0.000131     0.000236  7.123858e-05  ...   \n",
       "4178  30540.179688  37782.648438     0.000045     0.000059  1.600747e-05  ...   \n",
       "4179  14702.710938  37956.468750     0.000248     0.000292  7.378556e-06  ...   \n",
       "4180  16584.076172  37955.070312     0.000018     0.000019  5.020723e-06  ...   \n",
       "\n",
       "      ez_ssfr_p025  ez_ssfr_p160  ez_ssfr_p500  ez_ssfr_p840  ez_ssfr_p975  \\\n",
       "0        -8.931825     -8.911355     -8.899668     -8.883307     -8.872990   \n",
       "1        -9.314209     -9.106611     -8.941274     -8.713107     -8.541205   \n",
       "3        -9.480532     -9.443615     -9.402433     -9.352081     -9.325659   \n",
       "4        -9.882174     -9.855921     -9.816085     -9.697225     -9.573506   \n",
       "5        -8.919805     -8.915024     -8.908461     -8.900943     -8.896926   \n",
       "...            ...           ...           ...           ...           ...   \n",
       "4176     -9.441206     -9.279022     -9.095134     -9.003501     -8.955496   \n",
       "4177     -9.857880     -9.658215     -9.485625     -9.235816     -8.971795   \n",
       "4178     -9.525900     -9.472779     -9.353454     -9.273221     -9.213521   \n",
       "4179     -9.556987     -9.385500     -9.154130     -9.026810     -8.938077   \n",
       "4180    -10.793317    -10.749337    -10.671772    -10.571155    -10.450612   \n",
       "\n",
       "      ez_Av_p025  ez_Av_p160  ez_Av_p500  ez_Av_p840  ez_Av_p975  \n",
       "0       0.529107    0.560142    0.599624    0.630920    0.652330  \n",
       "1       0.341270    0.545498    0.732327    0.906665    1.020098  \n",
       "3       0.302629    0.376027    0.440394    0.508153    0.567727  \n",
       "4       0.455258    0.482555    0.522239    0.600383    0.660279  \n",
       "5       0.886180    0.922628    0.971381    1.015397    1.057468  \n",
       "...          ...         ...         ...         ...         ...  \n",
       "4176    0.120441    0.213251    0.306832    0.556012    0.731876  \n",
       "4177    0.162147    0.238640    0.432004    0.592193    0.687256  \n",
       "4178    0.262676    0.355466    0.410356    0.489105    0.566003  \n",
       "4179    0.153294    0.283249    0.436332    0.600615    0.693621  \n",
       "4180    0.541194    0.584935    0.723596    0.791648    0.920438  \n",
       "\n",
       "[3404 rows x 756 columns]"
      ]
     },
     "execution_count": 6,
     "metadata": {},
     "output_type": "execute_result"
    }
   ],
   "source": [
    "df_red"
   ]
  },
  {
   "cell_type": "code",
   "execution_count": 7,
   "id": "0cf6d040-b9a4-4987-9c92-6b9a3f094b31",
   "metadata": {
    "tags": []
   },
   "outputs": [],
   "source": [
    "def get_redshift(ez_z, lp_z):\n",
    "    if np.isnan(ez_z):\n",
    "        if not np.isnan(lp_z):\n",
    "            return lp_z\n",
    "        else:\n",
    "            return np.nan\n",
    "    \n",
    "    if np.isnan(lp_z):\n",
    "        if not np.isnan(ez_z):\n",
    "            return ez_z\n",
    "        else:\n",
    "            return np.nan\n",
    "    \n",
    "    if lp_z < ez_z:\n",
    "        return lp_z\n",
    "    elif ez_z <= lp_z:\n",
    "        return ez_z\n",
    "    else:\n",
    "        return 'what'"
   ]
  },
  {
   "cell_type": "code",
   "execution_count": 8,
   "id": "baa238f0-59b9-4d9b-ac75-609a7771975f",
   "metadata": {},
   "outputs": [],
   "source": [
    "df_redshifts = df_red.assign(redshift = df_red.apply(lambda row: get_redshift(row.ez_z_phot,row.lp_zBEST), axis = 1))"
   ]
  },
  {
   "cell_type": "code",
   "execution_count": 9,
   "id": "5c94cb22-6093-4d4b-8789-d1bd341fee2c",
   "metadata": {},
   "outputs": [],
   "source": [
    "df_vol_lim = df_redshifts[['ORyanID_23', 'ID', 'redshift', 'ALPHA_J2000', 'DELTA_J2000']].query('redshift <= 1.2')"
   ]
  },
  {
   "cell_type": "code",
   "execution_count": 10,
   "id": "643e16ff-436c-4b30-b02f-92194fdd91c0",
   "metadata": {},
   "outputs": [
    {
     "data": {
      "text/plain": [
       "3378"
      ]
     },
     "execution_count": 10,
     "metadata": {},
     "output_type": "execute_result"
    }
   ],
   "source": [
    "len(df_vol_lim)"
   ]
  },
  {
   "cell_type": "code",
   "execution_count": 37,
   "id": "fe714522-47d1-4e10-a49e-be6e22398a61",
   "metadata": {},
   "outputs": [],
   "source": [
    "df_coords = (\n",
    "    df_cat[['ID', 'ALPHA_J2000', 'DELTA_J2000']]\n",
    "    .rename(columns = {'ALPHA_J2000':'RA','DELTA_J2000':'DEC'})\n",
    "    .set_index('ID')\n",
    ")"
   ]
  },
  {
   "cell_type": "code",
   "execution_count": 38,
   "id": "02baf88a-aea3-4904-85c9-a2ab9bc52e31",
   "metadata": {},
   "outputs": [],
   "source": [
    "coords_dict = df_coords.to_dict(orient='index')"
   ]
  },
  {
   "cell_type": "markdown",
   "id": "71f1fa1d-65a6-4fa9-bad2-d191e0042f4f",
   "metadata": {},
   "source": [
    "### Smolcic Catalogue "
   ]
  },
  {
   "cell_type": "code",
   "execution_count": 39,
   "id": "7acd3a04-b137-4712-9390-4c23e4d1aa5e",
   "metadata": {},
   "outputs": [],
   "source": [
    "with fits.open(f'{cos_dat_fold}/VLA_3GHz_counterpart_array_20170210_paper_smolcic_et_al.fits') as hdul:\n",
    "    smol_rec = hdul[1].data"
   ]
  },
  {
   "cell_type": "code",
   "execution_count": 40,
   "id": "7a52b5c7-e32f-41d6-9332-343034a0b831",
   "metadata": {},
   "outputs": [],
   "source": [
    "# Function that selects the closest object in the MPA_JHU as the galaxy of interest.\n",
    "def get_correct_smolcic_id(ra, dec, tab):\n",
    "    cosmos_coord = SkyCoord(ra = ra * u.deg, dec = dec * u.deg, frame = 'fk5')\n",
    "    \n",
    "    mpa_coords = SkyCoord(ra = tab['RA_VLA_J2000'] * u.deg, dec = tab['DEC_VLA_J2000'] * u.deg, frame = 'fk5')\n",
    "    \n",
    "    seps = list(abs((cosmos_coord.separation(mpa_coords)).to(u.arcsec) / u.arcsec))\n",
    "    \n",
    "    min_ind = seps.index(min(seps))\n",
    "    \n",
    "    return {'smol_ID' : tab[min_ind]['ID_VLA'], 'RA' : tab[min_ind]['RA_VLA_J2000'], 'Dec' : tab[min_ind]['DEC_VLA_J2000']}"
   ]
  },
  {
   "cell_type": "code",
   "execution_count": 41,
   "id": "0513a112-110f-4065-81e6-a8c1005f4084",
   "metadata": {},
   "outputs": [],
   "source": [
    "def matching_smolcic_ids(ra, dec, smol_rec):\n",
    "    arcsec_sep_deg = 10 / (60 * 60)\n",
    "    \n",
    "    matching_tab = smol_rec[(smol_rec['RA_VLA_J2000'] > ra - arcsec_sep_deg) & (smol_rec['RA_VLA_J2000'] < ra + arcsec_sep_deg) & (smol_rec['DEC_VLA_J2000'] > dec - arcsec_sep_deg) & (smol_rec['DEC_VLA_J2000'] < dec + arcsec_sep_deg)]\n",
    "    if len(matching_tab) < 0.5:\n",
    "        return {'smol_ID' : np.nan, 'RA' : np.nan, 'Dec' : np.nan}\n",
    "    elif len(matching_tab) == 1:\n",
    "        return {'smol_ID' : matching_tab['ID_VLA'][0], 'RA' : matching_tab['RA_VLA_J2000'][0], 'Dec' : matching_tab['DEC_VLA_J2000'][0]}\n",
    "    elif len(matching_tab) > 1:\n",
    "        return get_correct_smolcic_id(ra, dec, matching_tab)\n",
    "    else:\n",
    "        print('Somethings gone very wrong!!')\n",
    "        sys.exit()"
   ]
  },
  {
   "cell_type": "code",
   "execution_count": 42,
   "id": "4fd263fa-f5e6-4023-bf82-1953aeb41d5a",
   "metadata": {},
   "outputs": [],
   "source": [
    "smolcic_matched_dict = {}"
   ]
  },
  {
   "cell_type": "code",
   "execution_count": 43,
   "id": "10fcea53-a14c-406b-9c64-5089c0056b45",
   "metadata": {},
   "outputs": [
    {
     "name": "stderr",
     "output_type": "stream",
     "text": [
      "100%|██████████| 4181/4181 [00:27<00:00, 153.48it/s]\n"
     ]
    }
   ],
   "source": [
    "done_ids = list(smolcic_matched_dict.keys())\n",
    "for i in tqdm(list(coords_dict.keys())):\n",
    "    if i in done_ids:\n",
    "        continue\n",
    "    \n",
    "    smolcic_matched_dict[i] = matching_smolcic_ids(coords_dict[i]['RA'], coords_dict[i]['DEC'], smol_rec)"
   ]
  },
  {
   "cell_type": "code",
   "execution_count": 44,
   "id": "08e97d0e-fd3a-40b9-b7e5-4f408cd65880",
   "metadata": {},
   "outputs": [],
   "source": [
    "smolcic_matched_df = pd.DataFrame.from_dict(smolcic_matched_dict, orient = 'index').dropna().reset_index().rename(columns = {'index' : 'ID', 0 : 'smol_id'})"
   ]
  },
  {
   "cell_type": "code",
   "execution_count": 45,
   "id": "d7ffd7fc-4ca7-4bb5-abb4-1941e1ce5cde",
   "metadata": {},
   "outputs": [
    {
     "data": {
      "text/html": [
       "<div>\n",
       "<style scoped>\n",
       "    .dataframe tbody tr th:only-of-type {\n",
       "        vertical-align: middle;\n",
       "    }\n",
       "\n",
       "    .dataframe tbody tr th {\n",
       "        vertical-align: top;\n",
       "    }\n",
       "\n",
       "    .dataframe thead th {\n",
       "        text-align: right;\n",
       "    }\n",
       "</style>\n",
       "<table border=\"1\" class=\"dataframe\">\n",
       "  <thead>\n",
       "    <tr style=\"text-align: right;\">\n",
       "      <th></th>\n",
       "      <th>ID</th>\n",
       "      <th>smol_ID</th>\n",
       "      <th>RA</th>\n",
       "      <th>Dec</th>\n",
       "    </tr>\n",
       "  </thead>\n",
       "  <tbody>\n",
       "    <tr>\n",
       "      <th>0</th>\n",
       "      <td>1264241</td>\n",
       "      <td>1766.0</td>\n",
       "      <td>150.321804</td>\n",
       "      <td>2.617930</td>\n",
       "    </tr>\n",
       "    <tr>\n",
       "      <th>1</th>\n",
       "      <td>844303</td>\n",
       "      <td>350.0</td>\n",
       "      <td>150.059144</td>\n",
       "      <td>2.219995</td>\n",
       "    </tr>\n",
       "    <tr>\n",
       "      <th>2</th>\n",
       "      <td>219965</td>\n",
       "      <td>3890.0</td>\n",
       "      <td>150.224529</td>\n",
       "      <td>1.618718</td>\n",
       "    </tr>\n",
       "    <tr>\n",
       "      <th>3</th>\n",
       "      <td>230625</td>\n",
       "      <td>10131.0</td>\n",
       "      <td>150.231835</td>\n",
       "      <td>1.627988</td>\n",
       "    </tr>\n",
       "    <tr>\n",
       "      <th>4</th>\n",
       "      <td>246486</td>\n",
       "      <td>8866.0</td>\n",
       "      <td>150.233316</td>\n",
       "      <td>1.651868</td>\n",
       "    </tr>\n",
       "    <tr>\n",
       "      <th>...</th>\n",
       "      <td>...</td>\n",
       "      <td>...</td>\n",
       "      <td>...</td>\n",
       "      <td>...</td>\n",
       "    </tr>\n",
       "    <tr>\n",
       "      <th>1207</th>\n",
       "      <td>1519437</td>\n",
       "      <td>2509.0</td>\n",
       "      <td>150.151975</td>\n",
       "      <td>2.860138</td>\n",
       "    </tr>\n",
       "    <tr>\n",
       "      <th>1208</th>\n",
       "      <td>1519536</td>\n",
       "      <td>1517.0</td>\n",
       "      <td>150.380343</td>\n",
       "      <td>2.865278</td>\n",
       "    </tr>\n",
       "    <tr>\n",
       "      <th>1209</th>\n",
       "      <td>1520749</td>\n",
       "      <td>1517.0</td>\n",
       "      <td>150.380343</td>\n",
       "      <td>2.865278</td>\n",
       "    </tr>\n",
       "    <tr>\n",
       "      <th>1210</th>\n",
       "      <td>1524909</td>\n",
       "      <td>8321.0</td>\n",
       "      <td>150.448344</td>\n",
       "      <td>2.875046</td>\n",
       "    </tr>\n",
       "    <tr>\n",
       "      <th>1211</th>\n",
       "      <td>1529226</td>\n",
       "      <td>9348.0</td>\n",
       "      <td>150.373369</td>\n",
       "      <td>2.872455</td>\n",
       "    </tr>\n",
       "  </tbody>\n",
       "</table>\n",
       "<p>1212 rows × 4 columns</p>\n",
       "</div>"
      ],
      "text/plain": [
       "           ID  smol_ID          RA       Dec\n",
       "0     1264241   1766.0  150.321804  2.617930\n",
       "1      844303    350.0  150.059144  2.219995\n",
       "2      219965   3890.0  150.224529  1.618718\n",
       "3      230625  10131.0  150.231835  1.627988\n",
       "4      246486   8866.0  150.233316  1.651868\n",
       "...       ...      ...         ...       ...\n",
       "1207  1519437   2509.0  150.151975  2.860138\n",
       "1208  1519536   1517.0  150.380343  2.865278\n",
       "1209  1520749   1517.0  150.380343  2.865278\n",
       "1210  1524909   8321.0  150.448344  2.875046\n",
       "1211  1529226   9348.0  150.373369  2.872455\n",
       "\n",
       "[1212 rows x 4 columns]"
      ]
     },
     "execution_count": 45,
     "metadata": {},
     "output_type": "execute_result"
    }
   ],
   "source": [
    "smolcic_matched_df"
   ]
  },
  {
   "cell_type": "code",
   "execution_count": 46,
   "id": "31b1c97b-98cb-4cd8-b137-727ed5c94f9e",
   "metadata": {},
   "outputs": [],
   "source": [
    "def dedup_smol(df):\n",
    "    \n",
    "    ra = df.RA.iloc[0]\n",
    "    dec = df.Dec.iloc[0]\n",
    "    \n",
    "    if len(df) == 1:\n",
    "        return {'ID' : int(df.ID.iloc[0]), 'smol_ID' : df.smol_ID.iloc[0], 'smol_RA' : df.RA.iloc[0], 'smol_Dec' : df.Dec.iloc[0]}\n",
    "    \n",
    "    coords = SkyCoord(ra = ra * u.deg, dec = dec * u.deg, frame = 'fk5')\n",
    "    \n",
    "    df_coords = df.assign(coords = df.apply(lambda row: SkyCoord(ra = row.ALPHA_J2000 * u.deg, dec = row.DELTA_J2000 * u.deg, frame = 'fk5'), axis = 1))\n",
    "    \n",
    "    df_seps = df_coords.assign(seps = df_coords.coords.apply(lambda x: np.float64(abs(((x.separation(coords)).to(u.arcsec) / u.arcsec)))))\n",
    "    min_sep = df_seps.seps.min()\n",
    "    min_row = df_seps.query('seps == @min_sep')\n",
    "    return {'ID' : int(min_row.ID),'smol_ID' : min_row.smol_ID.iloc[0], 'smol_RA' : min_row.RA.iloc[0], 'smol_Dec' : min_row.Dec.iloc[0]}"
   ]
  },
  {
   "cell_type": "code",
   "execution_count": 47,
   "id": "18150e7a-3492-4f31-bd35-85ecc0003286",
   "metadata": {},
   "outputs": [],
   "source": [
    "df_smol_merg = (\n",
    "    smolcic_matched_df\n",
    "    .merge(df_cat, on = 'ID', how = 'left')\n",
    "    [['ID', 'smol_ID', 'RA', 'Dec', 'ALPHA_J2000', 'DELTA_J2000']]\n",
    ")"
   ]
  },
  {
   "cell_type": "code",
   "execution_count": 60,
   "id": "3e328d19-b222-4870-a49f-8c39ea8c79a5",
   "metadata": {},
   "outputs": [],
   "source": [
    "smol_dedup_dict = df_smol_merg.groupby('smol_ID').apply(lambda df: dedup_smol(df)).to_dict()"
   ]
  },
  {
   "cell_type": "code",
   "execution_count": 61,
   "id": "00433893-0533-4a46-8f0d-69e986d3e0c7",
   "metadata": {},
   "outputs": [],
   "source": [
    "smol_dedup_df = pd.DataFrame.from_dict(smol_dedup_dict, orient = 'index').reset_index().drop(columns = ['index'])"
   ]
  },
  {
   "cell_type": "code",
   "execution_count": 62,
   "id": "5dbcc558-237a-4450-9e22-c7bdf244a3d9",
   "metadata": {},
   "outputs": [],
   "source": [
    "def getting_smol_info(smol_id, smol_rec):\n",
    "    row = smol_rec[smol_rec['ID_VLA'] == smol_id]\n",
    "    clsfs = [row['SFG'][0], row['Clean_SFG'][0], row['Radio_excess'][0]]\n",
    "    \n",
    "    if clsfs[0] == 'true' and clsfs[1] == 'true':\n",
    "        return 'SFG'\n",
    "    elif clsfs[0] == 'false' and clsfs[1] == 'false':\n",
    "        return 'AGN'\n",
    "    elif clsfs[0] == 'true' and clsfs[1] == 'false':\n",
    "        return 'SFG'\n",
    "    elif clsfs[0] == 'false' and clsfs[1] == 'true':\n",
    "        print('Something wrong: 1')\n",
    "        sys.exit()\n",
    "    elif clsfs[3] == 'true':\n",
    "        return 'Radio_Excess'"
   ]
  },
  {
   "cell_type": "code",
   "execution_count": 96,
   "id": "d35d557c-d6f4-4b17-bfbb-8ff4614e6420",
   "metadata": {},
   "outputs": [],
   "source": [
    "df_tmp_seps = smol_dedup_df.merge(df_cat[['ID', 'ALPHA_J2000', 'DELTA_J2000']], on = 'ID', how = 'left')"
   ]
  },
  {
   "cell_type": "code",
   "execution_count": 97,
   "id": "8cd1d8ab-1fc0-4862-8857-f40b4f8091af",
   "metadata": {},
   "outputs": [],
   "source": [
    "def calc_sep(cos_ra, cos_dec, agn_ra, agn_dec):\n",
    "    cos_coord = SkyCoord(ra = cos_ra * u.deg, dec = cos_dec * u.deg, frame = 'fk5')\n",
    "    agn_coord = SkyCoord(ra = agn_ra * u.deg, dec = agn_dec * u.deg, frame = 'fk5')\n",
    "    sep_arcsec = (cos_coord.separation(agn_coord)).to(u.arcsec).value\n",
    "    return sep_arcsec"
   ]
  },
  {
   "cell_type": "code",
   "execution_count": 98,
   "id": "1e8d59a5-7ffb-4f4a-a89a-8ecc13db14f1",
   "metadata": {},
   "outputs": [],
   "source": [
    "df_seps = (\n",
    "    df_tmp_seps\n",
    "    .assign(seps = df_tmp_seps.apply(lambda row: calc_sep(row.ALPHA_J2000, row.DELTA_J2000, row.smol_RA, row.smol_Dec), axis = 1))\n",
    ")"
   ]
  },
  {
   "cell_type": "code",
   "execution_count": 99,
   "id": "b7d05a46-bfaf-495d-a43d-d0d4221ca137",
   "metadata": {},
   "outputs": [],
   "source": [
    "df_smol_sep_acc = df_seps[['ID', 'smol_ID']]#df_seps.query('seps <= 1')[['ID', 'smol_ID']]"
   ]
  },
  {
   "cell_type": "code",
   "execution_count": 100,
   "id": "ec89b4bf-83f9-4c2b-9418-acc447237003",
   "metadata": {},
   "outputs": [],
   "source": [
    "smol_clsf_dict = {}"
   ]
  },
  {
   "cell_type": "code",
   "execution_count": 101,
   "id": "4b809323-18de-437c-8380-4c36d7c08712",
   "metadata": {},
   "outputs": [],
   "source": [
    "smol_dedup_dict = df_smol_sep_acc.set_index('ID').to_dict(orient = 'index')"
   ]
  },
  {
   "cell_type": "code",
   "execution_count": 102,
   "id": "8415efea-f3e0-495a-9a59-dceb46eb4873",
   "metadata": {},
   "outputs": [
    {
     "name": "stderr",
     "output_type": "stream",
     "text": [
      "100%|██████████| 802/802 [00:05<00:00, 159.83it/s]\n"
     ]
    }
   ],
   "source": [
    "done_ids = list(smol_clsf_dict.keys())\n",
    "for i in tqdm(list(smol_dedup_dict.keys())):\n",
    "    if i in done_ids:\n",
    "        continue\n",
    "    \n",
    "    smol_clsf_dict[i] = getting_smol_info(smol_dedup_dict[i]['smol_ID'], smol_rec)"
   ]
  },
  {
   "cell_type": "code",
   "execution_count": 103,
   "id": "274b01e4-85bb-49e5-b03e-e15a2b7d566d",
   "metadata": {},
   "outputs": [],
   "source": [
    "smol_clsf_df = pd.DataFrame.from_dict(smol_clsf_dict, orient = 'index').reset_index().rename(columns = {'index' : 'ID', 0 : 'agn_clsf'})"
   ]
  },
  {
   "cell_type": "code",
   "execution_count": 104,
   "id": "79416cf7-09d8-4f4f-b7c5-aeca9bf378d3",
   "metadata": {},
   "outputs": [
    {
     "data": {
      "text/plain": [
       "802"
      ]
     },
     "execution_count": 104,
     "metadata": {},
     "output_type": "execute_result"
    }
   ],
   "source": [
    "len(smol_clsf_df)"
   ]
  },
  {
   "cell_type": "code",
   "execution_count": 105,
   "id": "b57fc17c-c476-48d4-9170-7475654894ec",
   "metadata": {},
   "outputs": [
    {
     "data": {
      "text/html": [
       "<div>\n",
       "<style scoped>\n",
       "    .dataframe tbody tr th:only-of-type {\n",
       "        vertical-align: middle;\n",
       "    }\n",
       "\n",
       "    .dataframe tbody tr th {\n",
       "        vertical-align: top;\n",
       "    }\n",
       "\n",
       "    .dataframe thead th {\n",
       "        text-align: right;\n",
       "    }\n",
       "</style>\n",
       "<table border=\"1\" class=\"dataframe\">\n",
       "  <thead>\n",
       "    <tr style=\"text-align: right;\">\n",
       "      <th></th>\n",
       "      <th>ID</th>\n",
       "      <th>agn_clsf</th>\n",
       "    </tr>\n",
       "  </thead>\n",
       "  <tbody>\n",
       "    <tr>\n",
       "      <th>0</th>\n",
       "      <td>404744</td>\n",
       "      <td>AGN</td>\n",
       "    </tr>\n",
       "    <tr>\n",
       "      <th>1</th>\n",
       "      <td>835729</td>\n",
       "      <td>AGN</td>\n",
       "    </tr>\n",
       "    <tr>\n",
       "      <th>2</th>\n",
       "      <td>1152835</td>\n",
       "      <td>AGN</td>\n",
       "    </tr>\n",
       "    <tr>\n",
       "      <th>3</th>\n",
       "      <td>1095588</td>\n",
       "      <td>AGN</td>\n",
       "    </tr>\n",
       "    <tr>\n",
       "      <th>4</th>\n",
       "      <td>1026253</td>\n",
       "      <td>AGN</td>\n",
       "    </tr>\n",
       "    <tr>\n",
       "      <th>...</th>\n",
       "      <td>...</td>\n",
       "      <td>...</td>\n",
       "    </tr>\n",
       "    <tr>\n",
       "      <th>797</th>\n",
       "      <td>1081104</td>\n",
       "      <td>SFG</td>\n",
       "    </tr>\n",
       "    <tr>\n",
       "      <th>798</th>\n",
       "      <td>997145</td>\n",
       "      <td>SFG</td>\n",
       "    </tr>\n",
       "    <tr>\n",
       "      <th>799</th>\n",
       "      <td>1341925</td>\n",
       "      <td>SFG</td>\n",
       "    </tr>\n",
       "    <tr>\n",
       "      <th>800</th>\n",
       "      <td>893170</td>\n",
       "      <td>AGN</td>\n",
       "    </tr>\n",
       "    <tr>\n",
       "      <th>801</th>\n",
       "      <td>1157586</td>\n",
       "      <td>AGN</td>\n",
       "    </tr>\n",
       "  </tbody>\n",
       "</table>\n",
       "<p>802 rows × 2 columns</p>\n",
       "</div>"
      ],
      "text/plain": [
       "          ID agn_clsf\n",
       "0     404744      AGN\n",
       "1     835729      AGN\n",
       "2    1152835      AGN\n",
       "3    1095588      AGN\n",
       "4    1026253      AGN\n",
       "..       ...      ...\n",
       "797  1081104      SFG\n",
       "798   997145      SFG\n",
       "799  1341925      SFG\n",
       "800   893170      AGN\n",
       "801  1157586      AGN\n",
       "\n",
       "[802 rows x 2 columns]"
      ]
     },
     "execution_count": 105,
     "metadata": {},
     "output_type": "execute_result"
    }
   ],
   "source": [
    "smol_clsf_df.drop_duplicates(subset='ID', keep='first')"
   ]
  },
  {
   "cell_type": "code",
   "execution_count": 106,
   "id": "f3d504ea-c3e0-4994-8894-4420bea9d873",
   "metadata": {},
   "outputs": [
    {
     "data": {
      "text/plain": [
       "SFG    551\n",
       "AGN    251\n",
       "Name: agn_clsf, dtype: int64"
      ]
     },
     "execution_count": 106,
     "metadata": {},
     "output_type": "execute_result"
    }
   ],
   "source": [
    "smol_clsf_df.agn_clsf.value_counts()"
   ]
  },
  {
   "cell_type": "code",
   "execution_count": 107,
   "id": "9e9bc384-3069-47a6-ba42-7f6d4ee5aaab",
   "metadata": {},
   "outputs": [],
   "source": [
    "smol_cat_ids = list(smol_clsf_df.ID)"
   ]
  },
  {
   "cell_type": "markdown",
   "id": "0822aece-2ec0-421e-ae62-7327bd877ca4",
   "metadata": {
    "tags": []
   },
   "source": [
    "### The VLA 3GHz Counterpart Array"
   ]
  },
  {
   "cell_type": "code",
   "execution_count": 108,
   "id": "066a434f-a994-46a7-9f59-463f1465d273",
   "metadata": {},
   "outputs": [],
   "source": [
    "with fits.open(f'{cos_dat_fold}/VLA_3GHz_counterpart_array_20170210_paper_delvecchio_et_al.fits') as hdul:\n",
    "    vla_cat = hdul[1].data"
   ]
  },
  {
   "cell_type": "code",
   "execution_count": 109,
   "id": "ce91c733-82cf-4efd-a696-e8f0a0a9dcdd",
   "metadata": {},
   "outputs": [
    {
     "data": {
      "text/plain": [
       "['ID_VLA3',\n",
       " 'RA_VLA3',\n",
       " 'DEC_VLA3',\n",
       " 'Z_BEST',\n",
       " 'Z_TYPE',\n",
       " 'FLUX_INT_3GHz',\n",
       " 'Lradio_10cm',\n",
       " 'Lradio_21cm',\n",
       " 'L_TIR_SF',\n",
       " 'flag_herschel3',\n",
       " 'Mstar',\n",
       " 'SFR_IR',\n",
       " 'NUV_R',\n",
       " 'XRAY_AGN',\n",
       " 'MIR_AGN',\n",
       " 'SED_AGN',\n",
       " 'Radio_excess',\n",
       " 'Class']"
      ]
     },
     "execution_count": 109,
     "metadata": {},
     "output_type": "execute_result"
    }
   ],
   "source": [
    "vla_cat.names"
   ]
  },
  {
   "cell_type": "code",
   "execution_count": 110,
   "id": "4f662a09-f7f7-4635-aa25-25314416552d",
   "metadata": {},
   "outputs": [
    {
     "data": {
      "text/plain": [
       "7729"
      ]
     },
     "execution_count": 110,
     "metadata": {},
     "output_type": "execute_result"
    }
   ],
   "source": [
    "len(vla_cat)"
   ]
  },
  {
   "cell_type": "code",
   "execution_count": 111,
   "id": "67a260ca-833f-4272-9f3e-d6f7c9b129ba",
   "metadata": {},
   "outputs": [],
   "source": [
    "# Function that selects the closest object in the MPA_JHU as the galaxy of interest.\n",
    "def get_correct_vla_id(ra, dec, tab):\n",
    "    cosmos_coord = SkyCoord(ra = ra * u.deg, dec = dec * u.deg, frame = 'fk5')\n",
    "    \n",
    "    mpa_coords = SkyCoord(ra = tab['RA_VLA3'] * u.deg, dec = tab['DEC_VLA3'] * u.deg, frame = 'fk5')\n",
    "    \n",
    "    seps = list(abs((cosmos_coord.separation(mpa_coords)).to(u.arcsec) / u.arcsec))\n",
    "    \n",
    "    min_ind = seps.index(min(seps))\n",
    "    \n",
    "    return {'VLA_ID' : tab[min_ind]['ID_VLA3'], 'RA' : tab[min_ind]['RA_VLA3'], 'Dec' : tab[min_ind]['DEC_VLA3']}"
   ]
  },
  {
   "cell_type": "code",
   "execution_count": 112,
   "id": "12a2fd85-fc44-4512-ac28-0f6457416042",
   "metadata": {},
   "outputs": [],
   "source": [
    "def matching_vla_ids(ra, dec, vla_cat):\n",
    "    arcsec_sep_deg = 10 / (60 * 60)\n",
    "    \n",
    "    matching_tab = vla_cat[(vla_cat['RA_VLA3'] > ra - arcsec_sep_deg) & (vla_cat['RA_VLA3'] < ra + arcsec_sep_deg) & (vla_cat['DEC_VLA3'] > dec - arcsec_sep_deg) & (vla_cat['DEC_VLA3'] < dec + arcsec_sep_deg)]\n",
    "    if len(matching_tab) < 0.5:\n",
    "        return {'VLA_ID' : np.nan, 'RA' : np.nan, 'Dec' : np.nan}\n",
    "    elif len(matching_tab) == 1:\n",
    "        return {'VLA_ID' : matching_tab['ID_VLA3'][0], 'RA' : matching_tab['RA_VLA3'][0], 'Dec' : matching_tab['DEC_VLA3'][0]}\n",
    "    elif len(matching_tab) > 1:\n",
    "        return get_correct_vla_id(ra, dec, matching_tab)\n",
    "    else:\n",
    "        print('Somethings gone very wrong!!')\n",
    "        sys.exit()"
   ]
  },
  {
   "cell_type": "code",
   "execution_count": 113,
   "id": "3c4e53d9-603a-4af0-8c29-37dd3e95ae40",
   "metadata": {},
   "outputs": [],
   "source": [
    "vla_matched_dict = {}"
   ]
  },
  {
   "cell_type": "code",
   "execution_count": 114,
   "id": "9073459f-d069-42b4-8595-14299ef32c30",
   "metadata": {},
   "outputs": [
    {
     "name": "stderr",
     "output_type": "stream",
     "text": [
      "100%|██████████| 4181/4181 [00:21<00:00, 196.08it/s]\n"
     ]
    }
   ],
   "source": [
    "done_ids = list(vla_matched_dict.keys())\n",
    "for i in tqdm(list(coords_dict.keys())):\n",
    "    if i in done_ids:\n",
    "        continue\n",
    "    \n",
    "    vla_matched_dict[i] = matching_vla_ids(coords_dict[i]['RA'], coords_dict[i]['DEC'], vla_cat)"
   ]
  },
  {
   "cell_type": "code",
   "execution_count": 115,
   "id": "35fc8d82-69a5-460d-a692-bc0e5eadd987",
   "metadata": {},
   "outputs": [],
   "source": [
    "vla_matched_df = (\n",
    "    pd.DataFrame.from_dict(vla_matched_dict, orient = 'index')\n",
    "    .dropna()\n",
    "    .reset_index()\n",
    "    .rename(columns = {'index':'ID', 0 : 'VLA_ID_arr'})\n",
    ")"
   ]
  },
  {
   "cell_type": "code",
   "execution_count": 116,
   "id": "ca49af07-62cc-4c15-a2c4-e34f2dfc6e95",
   "metadata": {},
   "outputs": [
    {
     "data": {
      "text/html": [
       "<div>\n",
       "<style scoped>\n",
       "    .dataframe tbody tr th:only-of-type {\n",
       "        vertical-align: middle;\n",
       "    }\n",
       "\n",
       "    .dataframe tbody tr th {\n",
       "        vertical-align: top;\n",
       "    }\n",
       "\n",
       "    .dataframe thead th {\n",
       "        text-align: right;\n",
       "    }\n",
       "</style>\n",
       "<table border=\"1\" class=\"dataframe\">\n",
       "  <thead>\n",
       "    <tr style=\"text-align: right;\">\n",
       "      <th></th>\n",
       "      <th>ID</th>\n",
       "      <th>VLA_ID</th>\n",
       "      <th>RA</th>\n",
       "      <th>Dec</th>\n",
       "    </tr>\n",
       "  </thead>\n",
       "  <tbody>\n",
       "    <tr>\n",
       "      <th>0</th>\n",
       "      <td>1264241</td>\n",
       "      <td>1766.0</td>\n",
       "      <td>150.321804</td>\n",
       "      <td>2.617930</td>\n",
       "    </tr>\n",
       "    <tr>\n",
       "      <th>1</th>\n",
       "      <td>844303</td>\n",
       "      <td>350.0</td>\n",
       "      <td>150.059144</td>\n",
       "      <td>2.219995</td>\n",
       "    </tr>\n",
       "    <tr>\n",
       "      <th>2</th>\n",
       "      <td>246486</td>\n",
       "      <td>8866.0</td>\n",
       "      <td>150.233316</td>\n",
       "      <td>1.651868</td>\n",
       "    </tr>\n",
       "    <tr>\n",
       "      <th>3</th>\n",
       "      <td>250320</td>\n",
       "      <td>8866.0</td>\n",
       "      <td>150.233316</td>\n",
       "      <td>1.651868</td>\n",
       "    </tr>\n",
       "    <tr>\n",
       "      <th>4</th>\n",
       "      <td>1074532</td>\n",
       "      <td>3843.0</td>\n",
       "      <td>149.938835</td>\n",
       "      <td>2.433375</td>\n",
       "    </tr>\n",
       "    <tr>\n",
       "      <th>...</th>\n",
       "      <td>...</td>\n",
       "      <td>...</td>\n",
       "      <td>...</td>\n",
       "      <td>...</td>\n",
       "    </tr>\n",
       "    <tr>\n",
       "      <th>1090</th>\n",
       "      <td>1519437</td>\n",
       "      <td>2509.0</td>\n",
       "      <td>150.151975</td>\n",
       "      <td>2.860138</td>\n",
       "    </tr>\n",
       "    <tr>\n",
       "      <th>1091</th>\n",
       "      <td>1519536</td>\n",
       "      <td>1517.0</td>\n",
       "      <td>150.380343</td>\n",
       "      <td>2.865278</td>\n",
       "    </tr>\n",
       "    <tr>\n",
       "      <th>1092</th>\n",
       "      <td>1520749</td>\n",
       "      <td>1517.0</td>\n",
       "      <td>150.380343</td>\n",
       "      <td>2.865278</td>\n",
       "    </tr>\n",
       "    <tr>\n",
       "      <th>1093</th>\n",
       "      <td>1524909</td>\n",
       "      <td>8321.0</td>\n",
       "      <td>150.448344</td>\n",
       "      <td>2.875046</td>\n",
       "    </tr>\n",
       "    <tr>\n",
       "      <th>1094</th>\n",
       "      <td>1529226</td>\n",
       "      <td>9348.0</td>\n",
       "      <td>150.373369</td>\n",
       "      <td>2.872455</td>\n",
       "    </tr>\n",
       "  </tbody>\n",
       "</table>\n",
       "<p>1095 rows × 4 columns</p>\n",
       "</div>"
      ],
      "text/plain": [
       "           ID  VLA_ID          RA       Dec\n",
       "0     1264241  1766.0  150.321804  2.617930\n",
       "1      844303   350.0  150.059144  2.219995\n",
       "2      246486  8866.0  150.233316  1.651868\n",
       "3      250320  8866.0  150.233316  1.651868\n",
       "4     1074532  3843.0  149.938835  2.433375\n",
       "...       ...     ...         ...       ...\n",
       "1090  1519437  2509.0  150.151975  2.860138\n",
       "1091  1519536  1517.0  150.380343  2.865278\n",
       "1092  1520749  1517.0  150.380343  2.865278\n",
       "1093  1524909  8321.0  150.448344  2.875046\n",
       "1094  1529226  9348.0  150.373369  2.872455\n",
       "\n",
       "[1095 rows x 4 columns]"
      ]
     },
     "execution_count": 116,
     "metadata": {},
     "output_type": "execute_result"
    }
   ],
   "source": [
    "vla_matched_df"
   ]
  },
  {
   "cell_type": "code",
   "execution_count": 117,
   "id": "31868347-7444-45f6-92bd-5ade14835990",
   "metadata": {},
   "outputs": [],
   "source": [
    "def dedup_vla(df):\n",
    "    \n",
    "    ra = df.RA.iloc[0]\n",
    "    dec = df.Dec.iloc[0]\n",
    "    \n",
    "    if len(df) == 1:\n",
    "        return {'ID' : int(df.ID.iloc[0]),'VLA_ID' : df.VLA_ID.iloc[0], 'VLA_RA' : df.RA.iloc[0], 'VLA_Dec' : df.Dec.iloc[0]}\n",
    "    \n",
    "    coords = SkyCoord(ra = ra * u.deg, dec = dec * u.deg, frame = 'fk5')\n",
    "    \n",
    "    df_coords = df.assign(coords = df.apply(lambda row: SkyCoord(ra = row.ALPHA_J2000 * u.deg, dec = row.DELTA_J2000 * u.deg, frame = 'fk5'), axis = 1))\n",
    "    \n",
    "    df_seps = df_coords.assign(seps = df_coords.coords.apply(lambda x: np.float64(abs(((x.separation(coords)).to(u.arcsec) / u.arcsec)))))\n",
    "    min_sep = df_seps.seps.min()\n",
    "    min_row = df_seps.query('seps == @min_sep')\n",
    "    return {'ID' : int(min_row.ID), 'VLA_ID' : min_row.VLA_ID.iloc[0], 'VLA_RA' : min_row.RA.iloc[0], 'VLA_Dec' : min_row.Dec.iloc[0]}"
   ]
  },
  {
   "cell_type": "code",
   "execution_count": 118,
   "id": "bc607c70-3d76-4c8c-adef-1aaaf788c878",
   "metadata": {},
   "outputs": [],
   "source": [
    "df_vla_merg = (\n",
    "    vla_matched_df\n",
    "    .merge(df_cat, on = 'ID', how = 'left')\n",
    "    [['ID', 'VLA_ID', 'RA', 'Dec', 'ALPHA_J2000', 'DELTA_J2000']]\n",
    ")"
   ]
  },
  {
   "cell_type": "code",
   "execution_count": 119,
   "id": "c6a99ddb-67e4-402a-83f6-42a41aa49689",
   "metadata": {},
   "outputs": [],
   "source": [
    "vla_dedup_dict = df_vla_merg.groupby('VLA_ID').apply(lambda df: dedup_vla(df)).to_dict()"
   ]
  },
  {
   "cell_type": "code",
   "execution_count": 120,
   "id": "552c2ae2-83dd-42f0-a773-8b1341110d78",
   "metadata": {},
   "outputs": [
    {
     "data": {
      "text/html": [
       "<div>\n",
       "<style scoped>\n",
       "    .dataframe tbody tr th:only-of-type {\n",
       "        vertical-align: middle;\n",
       "    }\n",
       "\n",
       "    .dataframe tbody tr th {\n",
       "        vertical-align: top;\n",
       "    }\n",
       "\n",
       "    .dataframe thead th {\n",
       "        text-align: right;\n",
       "    }\n",
       "</style>\n",
       "<table border=\"1\" class=\"dataframe\">\n",
       "  <thead>\n",
       "    <tr style=\"text-align: right;\">\n",
       "      <th></th>\n",
       "      <th>ID</th>\n",
       "      <th>VLA_ID</th>\n",
       "      <th>VLA_RA</th>\n",
       "      <th>VLA_Dec</th>\n",
       "    </tr>\n",
       "  </thead>\n",
       "  <tbody>\n",
       "    <tr>\n",
       "      <th>47.0</th>\n",
       "      <td>404744</td>\n",
       "      <td>47.0</td>\n",
       "      <td>150.407410</td>\n",
       "      <td>1.803237</td>\n",
       "    </tr>\n",
       "    <tr>\n",
       "      <th>61.0</th>\n",
       "      <td>835729</td>\n",
       "      <td>61.0</td>\n",
       "      <td>149.649621</td>\n",
       "      <td>2.209249</td>\n",
       "    </tr>\n",
       "    <tr>\n",
       "      <th>66.0</th>\n",
       "      <td>1152835</td>\n",
       "      <td>66.0</td>\n",
       "      <td>150.022658</td>\n",
       "      <td>2.508060</td>\n",
       "    </tr>\n",
       "    <tr>\n",
       "      <th>68.0</th>\n",
       "      <td>1095588</td>\n",
       "      <td>68.0</td>\n",
       "      <td>149.485493</td>\n",
       "      <td>2.454786</td>\n",
       "    </tr>\n",
       "    <tr>\n",
       "      <th>84.0</th>\n",
       "      <td>1026253</td>\n",
       "      <td>84.0</td>\n",
       "      <td>149.952839</td>\n",
       "      <td>2.386293</td>\n",
       "    </tr>\n",
       "    <tr>\n",
       "      <th>...</th>\n",
       "      <td>...</td>\n",
       "      <td>...</td>\n",
       "      <td>...</td>\n",
       "      <td>...</td>\n",
       "    </tr>\n",
       "    <tr>\n",
       "      <th>10808.0</th>\n",
       "      <td>1081104</td>\n",
       "      <td>10808.0</td>\n",
       "      <td>149.641496</td>\n",
       "      <td>2.442626</td>\n",
       "    </tr>\n",
       "    <tr>\n",
       "      <th>10838.0</th>\n",
       "      <td>997145</td>\n",
       "      <td>10838.0</td>\n",
       "      <td>149.471313</td>\n",
       "      <td>2.360339</td>\n",
       "    </tr>\n",
       "    <tr>\n",
       "      <th>10869.0</th>\n",
       "      <td>1341925</td>\n",
       "      <td>10869.0</td>\n",
       "      <td>150.062132</td>\n",
       "      <td>2.696190</td>\n",
       "    </tr>\n",
       "    <tr>\n",
       "      <th>10912.0</th>\n",
       "      <td>893170</td>\n",
       "      <td>10912.0</td>\n",
       "      <td>149.508755</td>\n",
       "      <td>2.261351</td>\n",
       "    </tr>\n",
       "    <tr>\n",
       "      <th>10945.0</th>\n",
       "      <td>1157586</td>\n",
       "      <td>10945.0</td>\n",
       "      <td>150.425829</td>\n",
       "      <td>2.513874</td>\n",
       "    </tr>\n",
       "  </tbody>\n",
       "</table>\n",
       "<p>722 rows × 4 columns</p>\n",
       "</div>"
      ],
      "text/plain": [
       "              ID   VLA_ID      VLA_RA   VLA_Dec\n",
       "47.0      404744     47.0  150.407410  1.803237\n",
       "61.0      835729     61.0  149.649621  2.209249\n",
       "66.0     1152835     66.0  150.022658  2.508060\n",
       "68.0     1095588     68.0  149.485493  2.454786\n",
       "84.0     1026253     84.0  149.952839  2.386293\n",
       "...          ...      ...         ...       ...\n",
       "10808.0  1081104  10808.0  149.641496  2.442626\n",
       "10838.0   997145  10838.0  149.471313  2.360339\n",
       "10869.0  1341925  10869.0  150.062132  2.696190\n",
       "10912.0   893170  10912.0  149.508755  2.261351\n",
       "10945.0  1157586  10945.0  150.425829  2.513874\n",
       "\n",
       "[722 rows x 4 columns]"
      ]
     },
     "execution_count": 120,
     "metadata": {},
     "output_type": "execute_result"
    }
   ],
   "source": [
    "vla_dedup_df = pd.DataFrame.from_dict(vla_dedup_dict, orient = 'index')\n",
    "vla_dedup_df"
   ]
  },
  {
   "cell_type": "code",
   "execution_count": 121,
   "id": "333fe4bf-12a6-4a39-a91c-da2551d35844",
   "metadata": {},
   "outputs": [],
   "source": [
    "vla_checked = (\n",
    "    vla_dedup_df\n",
    "    .assign(in_smol = vla_dedup_df.ID.apply(lambda x: 'y' if x in smol_cat_ids else 'n'))\n",
    ")\n",
    "\n",
    "vla_checked_df = vla_checked.query('in_smol == \"n\"').drop(columns = 'in_smol')"
   ]
  },
  {
   "cell_type": "code",
   "execution_count": 122,
   "id": "cb082ca7-4b91-4a85-acd6-a7edd085310a",
   "metadata": {},
   "outputs": [
    {
     "data": {
      "text/plain": [
       "1"
      ]
     },
     "execution_count": 122,
     "metadata": {},
     "output_type": "execute_result"
    }
   ],
   "source": [
    "len(vla_checked_df)"
   ]
  },
  {
   "cell_type": "code",
   "execution_count": 123,
   "id": "f416de0b-09c3-4e36-bea4-887c72f16e16",
   "metadata": {},
   "outputs": [],
   "source": [
    "vla_checked = (\n",
    "    vla_checked_df\n",
    "    .merge(df_smol_merg[['ID', 'ALPHA_J2000', 'DELTA_J2000']], on = 'ID', how = 'left')\n",
    ")"
   ]
  },
  {
   "cell_type": "code",
   "execution_count": 124,
   "id": "5a5db33b-2499-412d-a75c-93664f374bff",
   "metadata": {},
   "outputs": [
    {
     "data": {
      "text/html": [
       "<div>\n",
       "<style scoped>\n",
       "    .dataframe tbody tr th:only-of-type {\n",
       "        vertical-align: middle;\n",
       "    }\n",
       "\n",
       "    .dataframe tbody tr th {\n",
       "        vertical-align: top;\n",
       "    }\n",
       "\n",
       "    .dataframe thead th {\n",
       "        text-align: right;\n",
       "    }\n",
       "</style>\n",
       "<table border=\"1\" class=\"dataframe\">\n",
       "  <thead>\n",
       "    <tr style=\"text-align: right;\">\n",
       "      <th></th>\n",
       "      <th>ID</th>\n",
       "      <th>VLA_ID</th>\n",
       "      <th>VLA_RA</th>\n",
       "      <th>VLA_Dec</th>\n",
       "      <th>ALPHA_J2000</th>\n",
       "      <th>DELTA_J2000</th>\n",
       "    </tr>\n",
       "  </thead>\n",
       "  <tbody>\n",
       "    <tr>\n",
       "      <th>0</th>\n",
       "      <td>715417</td>\n",
       "      <td>1804.0</td>\n",
       "      <td>149.893611</td>\n",
       "      <td>2.10777</td>\n",
       "      <td>149.896032</td>\n",
       "      <td>2.107181</td>\n",
       "    </tr>\n",
       "  </tbody>\n",
       "</table>\n",
       "</div>"
      ],
      "text/plain": [
       "       ID  VLA_ID      VLA_RA  VLA_Dec  ALPHA_J2000  DELTA_J2000\n",
       "0  715417  1804.0  149.893611  2.10777   149.896032     2.107181"
      ]
     },
     "execution_count": 124,
     "metadata": {},
     "output_type": "execute_result"
    }
   ],
   "source": [
    "vla_checked"
   ]
  },
  {
   "cell_type": "code",
   "execution_count": 125,
   "id": "37389e22-f293-4de2-8994-dc353cd4659e",
   "metadata": {},
   "outputs": [],
   "source": [
    "vla_seps = (\n",
    "    vla_checked\n",
    "    .assign(seps = vla_checked.apply(lambda row: calc_sep(row.ALPHA_J2000, row.DELTA_J2000, row.VLA_RA, row.VLA_Dec), axis = 1))\n",
    ")"
   ]
  },
  {
   "cell_type": "code",
   "execution_count": 126,
   "id": "c4cfddcb-ee96-4e99-84fa-b6e38009f94b",
   "metadata": {},
   "outputs": [],
   "source": [
    "vla_dict =  vla_seps[['ID', 'VLA_ID']].set_index('ID').to_dict(orient = 'index') #vla_seps.query('seps <= 1')[['ID', 'VLA_ID']].set_index('ID').to_dict(orient = 'index')"
   ]
  },
  {
   "cell_type": "code",
   "execution_count": 127,
   "id": "e9c9f1e3-43cb-4c92-8af6-eb9093146f5d",
   "metadata": {},
   "outputs": [
    {
     "data": {
      "text/html": [
       "<div>\n",
       "<style scoped>\n",
       "    .dataframe tbody tr th:only-of-type {\n",
       "        vertical-align: middle;\n",
       "    }\n",
       "\n",
       "    .dataframe tbody tr th {\n",
       "        vertical-align: top;\n",
       "    }\n",
       "\n",
       "    .dataframe thead th {\n",
       "        text-align: right;\n",
       "    }\n",
       "</style>\n",
       "<table border=\"1\" class=\"dataframe\">\n",
       "  <thead>\n",
       "    <tr style=\"text-align: right;\">\n",
       "      <th></th>\n",
       "      <th>ID</th>\n",
       "      <th>VLA_ID</th>\n",
       "      <th>VLA_RA</th>\n",
       "      <th>VLA_Dec</th>\n",
       "      <th>ALPHA_J2000</th>\n",
       "      <th>DELTA_J2000</th>\n",
       "      <th>seps</th>\n",
       "    </tr>\n",
       "  </thead>\n",
       "  <tbody>\n",
       "    <tr>\n",
       "      <th>0</th>\n",
       "      <td>715417</td>\n",
       "      <td>1804.0</td>\n",
       "      <td>149.893611</td>\n",
       "      <td>2.10777</td>\n",
       "      <td>149.896032</td>\n",
       "      <td>2.107181</td>\n",
       "      <td>8.962658</td>\n",
       "    </tr>\n",
       "  </tbody>\n",
       "</table>\n",
       "</div>"
      ],
      "text/plain": [
       "       ID  VLA_ID      VLA_RA  VLA_Dec  ALPHA_J2000  DELTA_J2000      seps\n",
       "0  715417  1804.0  149.893611  2.10777   149.896032     2.107181  8.962658"
      ]
     },
     "execution_count": 127,
     "metadata": {},
     "output_type": "execute_result"
    }
   ],
   "source": [
    "vla_seps"
   ]
  },
  {
   "cell_type": "code",
   "execution_count": 128,
   "id": "6e976d89-252f-4a00-8ff2-728c1acb5c6c",
   "metadata": {},
   "outputs": [
    {
     "data": {
      "text/plain": [
       "1"
      ]
     },
     "execution_count": 128,
     "metadata": {},
     "output_type": "execute_result"
    }
   ],
   "source": [
    "len(vla_dict)"
   ]
  },
  {
   "cell_type": "code",
   "execution_count": 129,
   "id": "902e2206-abcb-4678-9f32-911b6a5e0e10",
   "metadata": {},
   "outputs": [],
   "source": [
    "vla_cat_dict = {}"
   ]
  },
  {
   "cell_type": "code",
   "execution_count": 130,
   "id": "8ad43444-9997-4823-9563-a247537b8c0f",
   "metadata": {},
   "outputs": [],
   "source": [
    "def getting_vla_info(vla_id, vla_cat):\n",
    "    row = vla_cat[vla_cat['ID_VLA3'] == vla_id]\n",
    "    ans = row['CLASS'][0]\n",
    "    \n",
    "    if len(ans) < 0.5:\n",
    "        return 'SFG'\n",
    "    else:\n",
    "        return ans"
   ]
  },
  {
   "cell_type": "code",
   "execution_count": 131,
   "id": "d3af2116-848d-45d3-807b-6395dda1da5a",
   "metadata": {},
   "outputs": [
    {
     "name": "stderr",
     "output_type": "stream",
     "text": [
      "100%|██████████| 1/1 [00:00<00:00, 179.88it/s]\n"
     ]
    }
   ],
   "source": [
    "done_ids = list(vla_cat_dict.keys())\n",
    "for i in tqdm(list(vla_dict.keys())):\n",
    "    if i in done_ids:\n",
    "        continue\n",
    "    \n",
    "    vla_cat_dict[i] = getting_vla_info(vla_dict[i]['VLA_ID'], vla_cat)"
   ]
  },
  {
   "cell_type": "code",
   "execution_count": 132,
   "id": "320d77fa-0c04-4145-9850-d6f8c3d85f90",
   "metadata": {},
   "outputs": [
    {
     "data": {
      "text/html": [
       "<div>\n",
       "<style scoped>\n",
       "    .dataframe tbody tr th:only-of-type {\n",
       "        vertical-align: middle;\n",
       "    }\n",
       "\n",
       "    .dataframe tbody tr th {\n",
       "        vertical-align: top;\n",
       "    }\n",
       "\n",
       "    .dataframe thead th {\n",
       "        text-align: right;\n",
       "    }\n",
       "</style>\n",
       "<table border=\"1\" class=\"dataframe\">\n",
       "  <thead>\n",
       "    <tr style=\"text-align: right;\">\n",
       "      <th></th>\n",
       "      <th>clsf</th>\n",
       "    </tr>\n",
       "  </thead>\n",
       "  <tbody>\n",
       "    <tr>\n",
       "      <th>715417</th>\n",
       "      <td>HLAGN</td>\n",
       "    </tr>\n",
       "  </tbody>\n",
       "</table>\n",
       "</div>"
      ],
      "text/plain": [
       "         clsf\n",
       "715417  HLAGN"
      ]
     },
     "execution_count": 132,
     "metadata": {},
     "output_type": "execute_result"
    }
   ],
   "source": [
    "vla_cat_df = pd.DataFrame.from_dict(vla_cat_dict, orient = 'index').rename(columns = {'index' : 'ID', 0 : 'clsf'}).dropna()\n",
    "vla_cat_df"
   ]
  },
  {
   "cell_type": "code",
   "execution_count": 133,
   "id": "3dff826a-0f48-466d-80ac-bbfcc763c481",
   "metadata": {},
   "outputs": [],
   "source": [
    "vla_cat_ids = list(vla_cat_df.reset_index()['index'])"
   ]
  },
  {
   "cell_type": "markdown",
   "id": "afd7295d-d13f-4c03-8170-262488dfec30",
   "metadata": {},
   "source": [
    "### Applying to Chandra"
   ]
  },
  {
   "cell_type": "code",
   "execution_count": 134,
   "id": "5d742b95-459b-4e54-b4a8-fdb64376e7a8",
   "metadata": {},
   "outputs": [],
   "source": [
    "with fits.open(f'{cos_dat_fold}/chandra_COSMOS_legacy_opt_NIR_counterparts_20160113_4d.fits') as hdul:\n",
    "    chandra_cat = hdul[1].data"
   ]
  },
  {
   "cell_type": "code",
   "execution_count": 135,
   "id": "648e6b28-aa9e-4e56-a04e-458c8294f947",
   "metadata": {},
   "outputs": [
    {
     "data": {
      "text/plain": [
       "4016"
      ]
     },
     "execution_count": 135,
     "metadata": {},
     "output_type": "execute_result"
    }
   ],
   "source": [
    "len(chandra_cat)"
   ]
  },
  {
   "cell_type": "code",
   "execution_count": 136,
   "id": "7eb25213-bb39-4beb-adc9-ab0d59407a95",
   "metadata": {},
   "outputs": [],
   "source": [
    "# Function that selects the closest object in the MPA_JHU as the galaxy of interest.\n",
    "def get_correct_chandra_id(ra, dec, tab):\n",
    "    cosmos_coord = SkyCoord(ra = ra * u.deg, dec = dec * u.deg, frame = 'fk5')\n",
    "    \n",
    "    chandra_coords = SkyCoord(ra = tab['RA_x'] * u.deg, dec = tab['DEC_x'] * u.deg, frame = 'fk5')\n",
    "    \n",
    "    seps = list(abs((cosmos_coord.separation(chandra_coords)).to(u.arcsec) / u.arcsec))\n",
    "    \n",
    "    min_ind = seps.index(min(seps))\n",
    "    \n",
    "    return {'CHANDRA_ID' : tab[min_ind]['id_x'], 'RA' : tab[min_ind]['RA_x'], 'Dec' : tab[min_ind]['DEC_x']}"
   ]
  },
  {
   "cell_type": "code",
   "execution_count": 137,
   "id": "6b6d6de0-fa85-4595-bd4c-edf66fc98960",
   "metadata": {},
   "outputs": [],
   "source": [
    "def matching_chandra_ids(ra, dec, chandra_cat):\n",
    "    arcsec_sep_deg = 10 / (60 * 60)\n",
    "    \n",
    "    matching_tab = chandra_cat[(chandra_cat['RA_x'] > ra - arcsec_sep_deg) & (chandra_cat['RA_x'] < ra + arcsec_sep_deg) & (chandra_cat['DEC_x'] > dec - arcsec_sep_deg) & (chandra_cat['DEC_x'] < dec + arcsec_sep_deg)]\n",
    "    if len(matching_tab) < 0.5:\n",
    "        return {'CHANDRA_ID' : np.nan, 'RA' : np.nan, 'Dec' : np.nan}\n",
    "    elif len(matching_tab) == 1:\n",
    "        return {'CHANDRA_ID' : matching_tab['id_x'][0], 'RA' : matching_tab['RA_x'][0], 'Dec' : matching_tab['DEC_x'][0]}\n",
    "    elif len(matching_tab) > 1:\n",
    "        return get_correct_chandra_id(ra, dec, matching_tab)\n",
    "    else:\n",
    "        print('Somethings gone very wrong!!')\n",
    "        sys.exit()"
   ]
  },
  {
   "cell_type": "code",
   "execution_count": 138,
   "id": "c8a97e10-828c-47fe-b318-3ca855b32495",
   "metadata": {},
   "outputs": [],
   "source": [
    "chandra_matched_dict = {}"
   ]
  },
  {
   "cell_type": "code",
   "execution_count": 139,
   "id": "80035f51-748c-42b7-8f38-043ff07de503",
   "metadata": {},
   "outputs": [
    {
     "name": "stderr",
     "output_type": "stream",
     "text": [
      "100%|██████████| 4181/4181 [00:59<00:00, 70.09it/s]\n"
     ]
    }
   ],
   "source": [
    "done_ids = list(chandra_matched_dict.keys())\n",
    "for i in tqdm(list(coords_dict.keys())):\n",
    "    if i in done_ids:\n",
    "        continue\n",
    "    \n",
    "    chandra_matched_dict[i] = matching_chandra_ids(coords_dict[i]['RA'], coords_dict[i]['DEC'], chandra_cat)"
   ]
  },
  {
   "cell_type": "code",
   "execution_count": 140,
   "id": "613798cb-70e2-4cc1-bcd9-6e7f3a437aec",
   "metadata": {},
   "outputs": [],
   "source": [
    "chandra_matched_df = (\n",
    "    pd.DataFrame.from_dict(chandra_matched_dict, orient = 'index')\n",
    "    .dropna()\n",
    "    .reset_index()\n",
    "    .rename(columns = {'index':'ID'})\n",
    ")"
   ]
  },
  {
   "cell_type": "code",
   "execution_count": 141,
   "id": "3b625c65-cfd9-418d-97e0-2ee61a731401",
   "metadata": {},
   "outputs": [
    {
     "data": {
      "text/html": [
       "<div>\n",
       "<style scoped>\n",
       "    .dataframe tbody tr th:only-of-type {\n",
       "        vertical-align: middle;\n",
       "    }\n",
       "\n",
       "    .dataframe tbody tr th {\n",
       "        vertical-align: top;\n",
       "    }\n",
       "\n",
       "    .dataframe thead th {\n",
       "        text-align: right;\n",
       "    }\n",
       "</style>\n",
       "<table border=\"1\" class=\"dataframe\">\n",
       "  <thead>\n",
       "    <tr style=\"text-align: right;\">\n",
       "      <th></th>\n",
       "      <th>ID</th>\n",
       "      <th>CHANDRA_ID</th>\n",
       "      <th>RA</th>\n",
       "      <th>Dec</th>\n",
       "    </tr>\n",
       "  </thead>\n",
       "  <tbody>\n",
       "    <tr>\n",
       "      <th>0</th>\n",
       "      <td>1264241</td>\n",
       "      <td>lid_2035</td>\n",
       "      <td>150.320007</td>\n",
       "      <td>2.620354</td>\n",
       "    </tr>\n",
       "    <tr>\n",
       "      <th>1</th>\n",
       "      <td>844303</td>\n",
       "      <td>cid_1139</td>\n",
       "      <td>150.059130</td>\n",
       "      <td>2.219824</td>\n",
       "    </tr>\n",
       "    <tr>\n",
       "      <th>2</th>\n",
       "      <td>230625</td>\n",
       "      <td>cid_737</td>\n",
       "      <td>150.231813</td>\n",
       "      <td>1.628142</td>\n",
       "    </tr>\n",
       "    <tr>\n",
       "      <th>3</th>\n",
       "      <td>525757</td>\n",
       "      <td>cid_236</td>\n",
       "      <td>150.027300</td>\n",
       "      <td>1.924484</td>\n",
       "    </tr>\n",
       "    <tr>\n",
       "      <th>4</th>\n",
       "      <td>525280</td>\n",
       "      <td>cid_799</td>\n",
       "      <td>149.912110</td>\n",
       "      <td>1.923509</td>\n",
       "    </tr>\n",
       "    <tr>\n",
       "      <th>...</th>\n",
       "      <td>...</td>\n",
       "      <td>...</td>\n",
       "      <td>...</td>\n",
       "      <td>...</td>\n",
       "    </tr>\n",
       "    <tr>\n",
       "      <th>418</th>\n",
       "      <td>1462750</td>\n",
       "      <td>lid_3224</td>\n",
       "      <td>150.673890</td>\n",
       "      <td>2.814361</td>\n",
       "    </tr>\n",
       "    <tr>\n",
       "      <th>419</th>\n",
       "      <td>1464002</td>\n",
       "      <td>lid_3224</td>\n",
       "      <td>150.673890</td>\n",
       "      <td>2.814361</td>\n",
       "    </tr>\n",
       "    <tr>\n",
       "      <th>420</th>\n",
       "      <td>1464904</td>\n",
       "      <td>lid_3181</td>\n",
       "      <td>150.379151</td>\n",
       "      <td>2.817332</td>\n",
       "    </tr>\n",
       "    <tr>\n",
       "      <th>421</th>\n",
       "      <td>1465158</td>\n",
       "      <td>lid_3224</td>\n",
       "      <td>150.673890</td>\n",
       "      <td>2.814361</td>\n",
       "    </tr>\n",
       "    <tr>\n",
       "      <th>422</th>\n",
       "      <td>1515868</td>\n",
       "      <td>lid_2071</td>\n",
       "      <td>150.149956</td>\n",
       "      <td>2.864182</td>\n",
       "    </tr>\n",
       "  </tbody>\n",
       "</table>\n",
       "<p>423 rows × 4 columns</p>\n",
       "</div>"
      ],
      "text/plain": [
       "          ID CHANDRA_ID          RA       Dec\n",
       "0    1264241   lid_2035  150.320007  2.620354\n",
       "1     844303   cid_1139  150.059130  2.219824\n",
       "2     230625    cid_737  150.231813  1.628142\n",
       "3     525757    cid_236  150.027300  1.924484\n",
       "4     525280    cid_799  149.912110  1.923509\n",
       "..       ...        ...         ...       ...\n",
       "418  1462750   lid_3224  150.673890  2.814361\n",
       "419  1464002   lid_3224  150.673890  2.814361\n",
       "420  1464904   lid_3181  150.379151  2.817332\n",
       "421  1465158   lid_3224  150.673890  2.814361\n",
       "422  1515868   lid_2071  150.149956  2.864182\n",
       "\n",
       "[423 rows x 4 columns]"
      ]
     },
     "execution_count": 141,
     "metadata": {},
     "output_type": "execute_result"
    }
   ],
   "source": [
    "chandra_matched_df"
   ]
  },
  {
   "cell_type": "code",
   "execution_count": 142,
   "id": "c2620385-8555-4de1-ad61-07e901334379",
   "metadata": {},
   "outputs": [],
   "source": [
    "df_chandra_merge = (\n",
    "    chandra_matched_df\n",
    "    .merge(df_red[['ID','ALPHA_J2000','DELTA_J2000']], on = 'ID', how = 'left')\n",
    ")"
   ]
  },
  {
   "cell_type": "code",
   "execution_count": 143,
   "id": "26cca94f-7be6-4683-9485-c6ba553143f7",
   "metadata": {},
   "outputs": [],
   "source": [
    "df_chandra_seps = (\n",
    "    df_chandra_merge\n",
    "    .assign(seps = df_chandra_merge.apply(lambda row: calc_sep(row.RA, row.Dec, row.ALPHA_J2000, row.DELTA_J2000), axis = 1))\n",
    ")"
   ]
  },
  {
   "cell_type": "code",
   "execution_count": 156,
   "id": "97e8223d-28ca-47dd-96a5-c9400480c8f8",
   "metadata": {},
   "outputs": [],
   "source": [
    "df_chandra_seps_rem = df_chandra_seps.dropna().query('seps <= 5')"
   ]
  },
  {
   "cell_type": "code",
   "execution_count": 158,
   "id": "7e38c909-e11c-4888-bcff-272d3750f1b9",
   "metadata": {},
   "outputs": [
    {
     "data": {
      "text/plain": [
       "157"
      ]
     },
     "execution_count": 158,
     "metadata": {},
     "output_type": "execute_result"
    }
   ],
   "source": [
    "len(df_chandra_seps_rem)"
   ]
  },
  {
   "cell_type": "code",
   "execution_count": 159,
   "id": "01fc2537-00a1-4d87-bbde-ccb7d3878747",
   "metadata": {},
   "outputs": [
    {
     "data": {
      "text/html": [
       "<div>\n",
       "<style scoped>\n",
       "    .dataframe tbody tr th:only-of-type {\n",
       "        vertical-align: middle;\n",
       "    }\n",
       "\n",
       "    .dataframe tbody tr th {\n",
       "        vertical-align: top;\n",
       "    }\n",
       "\n",
       "    .dataframe thead th {\n",
       "        text-align: right;\n",
       "    }\n",
       "</style>\n",
       "<table border=\"1\" class=\"dataframe\">\n",
       "  <thead>\n",
       "    <tr style=\"text-align: right;\">\n",
       "      <th></th>\n",
       "      <th>ID</th>\n",
       "      <th>CHANDRA_ID</th>\n",
       "      <th>RA</th>\n",
       "      <th>Dec</th>\n",
       "      <th>ALPHA_J2000</th>\n",
       "      <th>DELTA_J2000</th>\n",
       "      <th>seps</th>\n",
       "    </tr>\n",
       "  </thead>\n",
       "  <tbody>\n",
       "    <tr>\n",
       "      <th>1</th>\n",
       "      <td>844303</td>\n",
       "      <td>cid_1139</td>\n",
       "      <td>150.059130</td>\n",
       "      <td>2.219824</td>\n",
       "      <td>150.059115</td>\n",
       "      <td>2.219933</td>\n",
       "      <td>0.398189</td>\n",
       "    </tr>\n",
       "    <tr>\n",
       "      <th>2</th>\n",
       "      <td>230625</td>\n",
       "      <td>cid_737</td>\n",
       "      <td>150.231813</td>\n",
       "      <td>1.628142</td>\n",
       "      <td>150.231845</td>\n",
       "      <td>1.627975</td>\n",
       "      <td>0.611797</td>\n",
       "    </tr>\n",
       "    <tr>\n",
       "      <th>4</th>\n",
       "      <td>525280</td>\n",
       "      <td>cid_799</td>\n",
       "      <td>149.912110</td>\n",
       "      <td>1.923509</td>\n",
       "      <td>149.912175</td>\n",
       "      <td>1.923344</td>\n",
       "      <td>0.638883</td>\n",
       "    </tr>\n",
       "    <tr>\n",
       "      <th>7</th>\n",
       "      <td>349071</td>\n",
       "      <td>lid_1008</td>\n",
       "      <td>149.867547</td>\n",
       "      <td>1.747775</td>\n",
       "      <td>149.867750</td>\n",
       "      <td>1.747759</td>\n",
       "      <td>0.730922</td>\n",
       "    </tr>\n",
       "    <tr>\n",
       "      <th>12</th>\n",
       "      <td>858361</td>\n",
       "      <td>cid_405</td>\n",
       "      <td>149.779040</td>\n",
       "      <td>2.232796</td>\n",
       "      <td>149.779096</td>\n",
       "      <td>2.232736</td>\n",
       "      <td>0.294004</td>\n",
       "    </tr>\n",
       "    <tr>\n",
       "      <th>...</th>\n",
       "      <td>...</td>\n",
       "      <td>...</td>\n",
       "      <td>...</td>\n",
       "      <td>...</td>\n",
       "      <td>...</td>\n",
       "      <td>...</td>\n",
       "      <td>...</td>\n",
       "    </tr>\n",
       "    <tr>\n",
       "      <th>408</th>\n",
       "      <td>1236245</td>\n",
       "      <td>cid_614</td>\n",
       "      <td>149.991774</td>\n",
       "      <td>2.589941</td>\n",
       "      <td>149.991115</td>\n",
       "      <td>2.590308</td>\n",
       "      <td>2.712790</td>\n",
       "    </tr>\n",
       "    <tr>\n",
       "      <th>409</th>\n",
       "      <td>1272183</td>\n",
       "      <td>cid_726</td>\n",
       "      <td>150.129825</td>\n",
       "      <td>2.624839</td>\n",
       "      <td>150.129809</td>\n",
       "      <td>2.624708</td>\n",
       "      <td>0.474261</td>\n",
       "    </tr>\n",
       "    <tr>\n",
       "      <th>413</th>\n",
       "      <td>1312891</td>\n",
       "      <td>lid_3112</td>\n",
       "      <td>150.402030</td>\n",
       "      <td>2.666955</td>\n",
       "      <td>150.401715</td>\n",
       "      <td>2.666226</td>\n",
       "      <td>2.857708</td>\n",
       "    </tr>\n",
       "    <tr>\n",
       "      <th>419</th>\n",
       "      <td>1464002</td>\n",
       "      <td>lid_3224</td>\n",
       "      <td>150.673890</td>\n",
       "      <td>2.814361</td>\n",
       "      <td>150.674601</td>\n",
       "      <td>2.814980</td>\n",
       "      <td>3.391310</td>\n",
       "    </tr>\n",
       "    <tr>\n",
       "      <th>421</th>\n",
       "      <td>1465158</td>\n",
       "      <td>lid_3224</td>\n",
       "      <td>150.673890</td>\n",
       "      <td>2.814361</td>\n",
       "      <td>150.673865</td>\n",
       "      <td>2.814372</td>\n",
       "      <td>0.099764</td>\n",
       "    </tr>\n",
       "  </tbody>\n",
       "</table>\n",
       "<p>157 rows × 7 columns</p>\n",
       "</div>"
      ],
      "text/plain": [
       "          ID CHANDRA_ID          RA       Dec  ALPHA_J2000  DELTA_J2000  \\\n",
       "1     844303   cid_1139  150.059130  2.219824   150.059115     2.219933   \n",
       "2     230625    cid_737  150.231813  1.628142   150.231845     1.627975   \n",
       "4     525280    cid_799  149.912110  1.923509   149.912175     1.923344   \n",
       "7     349071   lid_1008  149.867547  1.747775   149.867750     1.747759   \n",
       "12    858361    cid_405  149.779040  2.232796   149.779096     2.232736   \n",
       "..       ...        ...         ...       ...          ...          ...   \n",
       "408  1236245    cid_614  149.991774  2.589941   149.991115     2.590308   \n",
       "409  1272183    cid_726  150.129825  2.624839   150.129809     2.624708   \n",
       "413  1312891   lid_3112  150.402030  2.666955   150.401715     2.666226   \n",
       "419  1464002   lid_3224  150.673890  2.814361   150.674601     2.814980   \n",
       "421  1465158   lid_3224  150.673890  2.814361   150.673865     2.814372   \n",
       "\n",
       "         seps  \n",
       "1    0.398189  \n",
       "2    0.611797  \n",
       "4    0.638883  \n",
       "7    0.730922  \n",
       "12   0.294004  \n",
       "..        ...  \n",
       "408  2.712790  \n",
       "409  0.474261  \n",
       "413  2.857708  \n",
       "419  3.391310  \n",
       "421  0.099764  \n",
       "\n",
       "[157 rows x 7 columns]"
      ]
     },
     "execution_count": 159,
     "metadata": {},
     "output_type": "execute_result"
    }
   ],
   "source": [
    "df_chandra_seps_rem"
   ]
  },
  {
   "cell_type": "code",
   "execution_count": 160,
   "id": "96381834-2b01-4b19-8d21-fb51b7c20b43",
   "metadata": {},
   "outputs": [],
   "source": [
    "def dedup_chandra(df):\n",
    "    \n",
    "    ra = df.RA.iloc[0]\n",
    "    dec = df.Dec.iloc[0]\n",
    "    \n",
    "    if len(df) == 1:\n",
    "        return df.ID.iloc[0]\n",
    "    \n",
    "    coords = SkyCoord(ra = ra * u.deg, dec = dec * u.deg, frame = 'fk5')\n",
    "    \n",
    "    df_coords = df.assign(coords = df.apply(lambda row: SkyCoord(ra = row.ALPHA_J2000 * u.deg, dec = row.DELTA_J2000 * u.deg, frame = 'fk5'), axis = 1))\n",
    "    \n",
    "    df_seps = df_coords.assign(seps = df_coords.coords.apply(lambda x: np.float64(abs(((x.separation(coords)).to(u.arcsec) / u.arcsec)))))\n",
    "    min_sep = df_seps.seps.min()\n",
    "    min_row = df_seps.query('seps == @min_sep')\n",
    "    return int(min_row.ID.iloc[0])"
   ]
  },
  {
   "cell_type": "code",
   "execution_count": 161,
   "id": "e31853c2-1bef-4d06-92ed-8263e895c901",
   "metadata": {},
   "outputs": [],
   "source": [
    "chandra_dedup_df = pd.DataFrame(df_chandra_seps_rem.groupby('CHANDRA_ID').apply(lambda df: dedup_chandra(df))).reset_index().rename(columns = {0 : 'ID'})"
   ]
  },
  {
   "cell_type": "code",
   "execution_count": 162,
   "id": "eaee88b7-14cf-4520-9772-c40cff78da6f",
   "metadata": {},
   "outputs": [
    {
     "data": {
      "text/plain": [
       "118"
      ]
     },
     "execution_count": 162,
     "metadata": {},
     "output_type": "execute_result"
    }
   ],
   "source": [
    "len(chandra_dedup_df)"
   ]
  },
  {
   "cell_type": "code",
   "execution_count": 163,
   "id": "2fa13400-66fe-4335-a745-eea64622baa1",
   "metadata": {},
   "outputs": [],
   "source": [
    "chandra_checked_df = (\n",
    "    chandra_dedup_df\n",
    "    .assign(in_cmol = chandra_dedup_df.ID.apply(lambda x: 'y' if x in smol_cat_ids else 'n'))\n",
    "    # .assign(in_vla = chandra_dedup_df.ID.apply(lambda x: 'y' if x in vla_cat_ids else 'n'))\n",
    ")"
   ]
  },
  {
   "cell_type": "code",
   "execution_count": 164,
   "id": "39e44dc8-1df4-48e0-ad4b-3a75ad71144e",
   "metadata": {},
   "outputs": [
    {
     "data": {
      "text/plain": [
       "118"
      ]
     },
     "execution_count": 164,
     "metadata": {},
     "output_type": "execute_result"
    }
   ],
   "source": [
    "len(chandra_checked_df)"
   ]
  },
  {
   "cell_type": "code",
   "execution_count": 165,
   "id": "6caf4a86-1224-44fb-9e23-f22b594305ea",
   "metadata": {},
   "outputs": [],
   "source": [
    "chandra_mpa_checked = chandra_checked_df.query('in_cmol == \"n\"')"
   ]
  },
  {
   "cell_type": "code",
   "execution_count": 166,
   "id": "51e0b27b-4cb8-427d-b719-eea181105c7e",
   "metadata": {},
   "outputs": [
    {
     "data": {
      "text/plain": [
       "49"
      ]
     },
     "execution_count": 166,
     "metadata": {},
     "output_type": "execute_result"
    }
   ],
   "source": [
    "len(chandra_mpa_checked)"
   ]
  },
  {
   "cell_type": "code",
   "execution_count": 167,
   "id": "c64f87ab-1198-4d1c-995a-b2df6e2fe85f",
   "metadata": {},
   "outputs": [],
   "source": [
    "chandra_dict = chandra_mpa_checked.set_index('ID').to_dict(orient = 'index')"
   ]
  },
  {
   "cell_type": "code",
   "execution_count": 168,
   "id": "3429d212-b786-43b0-a4a8-b6b5f67b4db9",
   "metadata": {},
   "outputs": [],
   "source": [
    "chandra_cat_dict = {}"
   ]
  },
  {
   "cell_type": "code",
   "execution_count": 169,
   "id": "297ef472-c128-4783-9840-14ca46db3d24",
   "metadata": {},
   "outputs": [],
   "source": [
    "def getting_chandra_info(chandra_id, chandra_cat):\n",
    "    row = chandra_cat[chandra_cat['id_x'] == chandra_id]    \n",
    "    hard_lum = row['Lx_210'][0]\n",
    "    \n",
    "    if hard_lum < 42:\n",
    "        return 'SFG'\n",
    "    elif hard_lum >= 42:\n",
    "        return 'AGN'\n",
    "    else:\n",
    "        return np.nan"
   ]
  },
  {
   "cell_type": "code",
   "execution_count": 170,
   "id": "3f1f495e-94cd-4162-ab46-c8d8baf91f89",
   "metadata": {},
   "outputs": [
    {
     "name": "stderr",
     "output_type": "stream",
     "text": [
      "100%|██████████| 49/49 [00:00<00:00, 72.58it/s]\n"
     ]
    }
   ],
   "source": [
    "done_ids = list(chandra_cat_dict.keys())\n",
    "for i in tqdm(list(chandra_dict.keys())):\n",
    "    if i in done_ids:\n",
    "        continue\n",
    "    \n",
    "    chandra_cat_dict[i] = getting_chandra_info(chandra_dict[i]['CHANDRA_ID'], chandra_cat)"
   ]
  },
  {
   "cell_type": "code",
   "execution_count": 171,
   "id": "48934864-fb54-472c-a438-8a7cc6122d46",
   "metadata": {},
   "outputs": [
    {
     "data": {
      "text/html": [
       "<div>\n",
       "<style scoped>\n",
       "    .dataframe tbody tr th:only-of-type {\n",
       "        vertical-align: middle;\n",
       "    }\n",
       "\n",
       "    .dataframe tbody tr th {\n",
       "        vertical-align: top;\n",
       "    }\n",
       "\n",
       "    .dataframe thead th {\n",
       "        text-align: right;\n",
       "    }\n",
       "</style>\n",
       "<table border=\"1\" class=\"dataframe\">\n",
       "  <thead>\n",
       "    <tr style=\"text-align: right;\">\n",
       "      <th></th>\n",
       "      <th>clsf</th>\n",
       "    </tr>\n",
       "  </thead>\n",
       "  <tbody>\n",
       "    <tr>\n",
       "      <th>352373</th>\n",
       "      <td>AGN</td>\n",
       "    </tr>\n",
       "    <tr>\n",
       "      <th>788036</th>\n",
       "      <td>AGN</td>\n",
       "    </tr>\n",
       "    <tr>\n",
       "      <th>649583</th>\n",
       "      <td>AGN</td>\n",
       "    </tr>\n",
       "    <tr>\n",
       "      <th>1281486</th>\n",
       "      <td>AGN</td>\n",
       "    </tr>\n",
       "    <tr>\n",
       "      <th>735085</th>\n",
       "      <td>AGN</td>\n",
       "    </tr>\n",
       "    <tr>\n",
       "      <th>806643</th>\n",
       "      <td>AGN</td>\n",
       "    </tr>\n",
       "    <tr>\n",
       "      <th>1010949</th>\n",
       "      <td>AGN</td>\n",
       "    </tr>\n",
       "    <tr>\n",
       "      <th>1070007</th>\n",
       "      <td>AGN</td>\n",
       "    </tr>\n",
       "    <tr>\n",
       "      <th>872909</th>\n",
       "      <td>AGN</td>\n",
       "    </tr>\n",
       "    <tr>\n",
       "      <th>927713</th>\n",
       "      <td>AGN</td>\n",
       "    </tr>\n",
       "    <tr>\n",
       "      <th>793474</th>\n",
       "      <td>SFG</td>\n",
       "    </tr>\n",
       "    <tr>\n",
       "      <th>409401</th>\n",
       "      <td>SFG</td>\n",
       "    </tr>\n",
       "    <tr>\n",
       "      <th>758791</th>\n",
       "      <td>AGN</td>\n",
       "    </tr>\n",
       "    <tr>\n",
       "      <th>975703</th>\n",
       "      <td>AGN</td>\n",
       "    </tr>\n",
       "    <tr>\n",
       "      <th>754058</th>\n",
       "      <td>AGN</td>\n",
       "    </tr>\n",
       "    <tr>\n",
       "      <th>717189</th>\n",
       "      <td>AGN</td>\n",
       "    </tr>\n",
       "    <tr>\n",
       "      <th>997038</th>\n",
       "      <td>AGN</td>\n",
       "    </tr>\n",
       "    <tr>\n",
       "      <th>738151</th>\n",
       "      <td>AGN</td>\n",
       "    </tr>\n",
       "    <tr>\n",
       "      <th>1101500</th>\n",
       "      <td>AGN</td>\n",
       "    </tr>\n",
       "    <tr>\n",
       "      <th>1099730</th>\n",
       "      <td>AGN</td>\n",
       "    </tr>\n",
       "    <tr>\n",
       "      <th>1075798</th>\n",
       "      <td>AGN</td>\n",
       "    </tr>\n",
       "    <tr>\n",
       "      <th>1006709</th>\n",
       "      <td>AGN</td>\n",
       "    </tr>\n",
       "    <tr>\n",
       "      <th>743564</th>\n",
       "      <td>AGN</td>\n",
       "    </tr>\n",
       "    <tr>\n",
       "      <th>561102</th>\n",
       "      <td>AGN</td>\n",
       "    </tr>\n",
       "    <tr>\n",
       "      <th>525280</th>\n",
       "      <td>AGN</td>\n",
       "    </tr>\n",
       "    <tr>\n",
       "      <th>1113260</th>\n",
       "      <td>AGN</td>\n",
       "    </tr>\n",
       "    <tr>\n",
       "      <th>349071</th>\n",
       "      <td>AGN</td>\n",
       "    </tr>\n",
       "    <tr>\n",
       "      <th>408560</th>\n",
       "      <td>AGN</td>\n",
       "    </tr>\n",
       "    <tr>\n",
       "      <th>530483</th>\n",
       "      <td>AGN</td>\n",
       "    </tr>\n",
       "    <tr>\n",
       "      <th>1118857</th>\n",
       "      <td>AGN</td>\n",
       "    </tr>\n",
       "    <tr>\n",
       "      <th>1332879</th>\n",
       "      <td>AGN</td>\n",
       "    </tr>\n",
       "    <tr>\n",
       "      <th>1201560</th>\n",
       "      <td>AGN</td>\n",
       "    </tr>\n",
       "    <tr>\n",
       "      <th>1204844</th>\n",
       "      <td>SFG</td>\n",
       "    </tr>\n",
       "    <tr>\n",
       "      <th>1385569</th>\n",
       "      <td>SFG</td>\n",
       "    </tr>\n",
       "    <tr>\n",
       "      <th>1266054</th>\n",
       "      <td>SFG</td>\n",
       "    </tr>\n",
       "    <tr>\n",
       "      <th>1444584</th>\n",
       "      <td>SFG</td>\n",
       "    </tr>\n",
       "    <tr>\n",
       "      <th>1476171</th>\n",
       "      <td>SFG</td>\n",
       "    </tr>\n",
       "    <tr>\n",
       "      <th>899399</th>\n",
       "      <td>SFG</td>\n",
       "    </tr>\n",
       "    <tr>\n",
       "      <th>1030873</th>\n",
       "      <td>SFG</td>\n",
       "    </tr>\n",
       "    <tr>\n",
       "      <th>1334760</th>\n",
       "      <td>AGN</td>\n",
       "    </tr>\n",
       "    <tr>\n",
       "      <th>1312973</th>\n",
       "      <td>AGN</td>\n",
       "    </tr>\n",
       "    <tr>\n",
       "      <th>1482241</th>\n",
       "      <td>AGN</td>\n",
       "    </tr>\n",
       "    <tr>\n",
       "      <th>591088</th>\n",
       "      <td>AGN</td>\n",
       "    </tr>\n",
       "    <tr>\n",
       "      <th>407411</th>\n",
       "      <td>AGN</td>\n",
       "    </tr>\n",
       "    <tr>\n",
       "      <th>1500256</th>\n",
       "      <td>SFG</td>\n",
       "    </tr>\n",
       "    <tr>\n",
       "      <th>1030078</th>\n",
       "      <td>SFG</td>\n",
       "    </tr>\n",
       "    <tr>\n",
       "      <th>1215578</th>\n",
       "      <td>AGN</td>\n",
       "    </tr>\n",
       "    <tr>\n",
       "      <th>740362</th>\n",
       "      <td>AGN</td>\n",
       "    </tr>\n",
       "    <tr>\n",
       "      <th>938996</th>\n",
       "      <td>AGN</td>\n",
       "    </tr>\n",
       "  </tbody>\n",
       "</table>\n",
       "</div>"
      ],
      "text/plain": [
       "        clsf\n",
       "352373   AGN\n",
       "788036   AGN\n",
       "649583   AGN\n",
       "1281486  AGN\n",
       "735085   AGN\n",
       "806643   AGN\n",
       "1010949  AGN\n",
       "1070007  AGN\n",
       "872909   AGN\n",
       "927713   AGN\n",
       "793474   SFG\n",
       "409401   SFG\n",
       "758791   AGN\n",
       "975703   AGN\n",
       "754058   AGN\n",
       "717189   AGN\n",
       "997038   AGN\n",
       "738151   AGN\n",
       "1101500  AGN\n",
       "1099730  AGN\n",
       "1075798  AGN\n",
       "1006709  AGN\n",
       "743564   AGN\n",
       "561102   AGN\n",
       "525280   AGN\n",
       "1113260  AGN\n",
       "349071   AGN\n",
       "408560   AGN\n",
       "530483   AGN\n",
       "1118857  AGN\n",
       "1332879  AGN\n",
       "1201560  AGN\n",
       "1204844  SFG\n",
       "1385569  SFG\n",
       "1266054  SFG\n",
       "1444584  SFG\n",
       "1476171  SFG\n",
       "899399   SFG\n",
       "1030873  SFG\n",
       "1334760  AGN\n",
       "1312973  AGN\n",
       "1482241  AGN\n",
       "591088   AGN\n",
       "407411   AGN\n",
       "1500256  SFG\n",
       "1030078  SFG\n",
       "1215578  AGN\n",
       "740362   AGN\n",
       "938996   AGN"
      ]
     },
     "execution_count": 171,
     "metadata": {},
     "output_type": "execute_result"
    }
   ],
   "source": [
    "chandra_cat_df = pd.DataFrame.from_dict(chandra_cat_dict, orient = 'index').rename(columns = {'index' : 'ID', 0 : 'clsf'}).dropna()\n",
    "chandra_cat_df"
   ]
  },
  {
   "cell_type": "code",
   "execution_count": 172,
   "id": "b7ac179c-b8e7-4a45-a5fe-95bf771af010",
   "metadata": {},
   "outputs": [
    {
     "data": {
      "text/plain": [
       "AGN    38\n",
       "SFG    11\n",
       "Name: clsf, dtype: int64"
      ]
     },
     "execution_count": 172,
     "metadata": {},
     "output_type": "execute_result"
    }
   ],
   "source": [
    "chandra_cat_df.clsf.value_counts()"
   ]
  },
  {
   "cell_type": "markdown",
   "id": "22cf7cc9-49ab-482a-8019-14a5a56d6609",
   "metadata": {
    "tags": []
   },
   "source": [
    "### Putting it all Together!"
   ]
  },
  {
   "cell_type": "markdown",
   "id": "5ec82795-1594-472f-bbc8-7cbf739e2586",
   "metadata": {},
   "source": [
    "chandra_agn_cat\n",
    "\n",
    "vla_cat_df\n",
    "\n",
    "clsf_df\n",
    "\n",
    "smol_clsf_df"
   ]
  },
  {
   "cell_type": "code",
   "execution_count": 173,
   "id": "82e51d39-a96e-4958-8324-c70ba0547c4e",
   "metadata": {},
   "outputs": [],
   "source": [
    "# vla_cat_comb = vla_cat_df.reset_index().rename(columns = {'index' : 'ID', 'clsf' : 'agn_clsf' })"
   ]
  },
  {
   "cell_type": "code",
   "execution_count": 198,
   "id": "9ae2db55-1ab9-4549-b32a-70352af4f87e",
   "metadata": {
    "tags": []
   },
   "outputs": [],
   "source": [
    "df_agn_cat = pd.concat([\n",
    "    # vla_cat_comb,\n",
    "    smol_clsf_df, \n",
    "    # chandra_cat_df.reset_index().rename(columns = {'index' : 'ID', 'clsf' : 'agn_clsf'})\n",
    "# df_agn_cat = pd.concat([vla_cat_comb, smol_clsf_df])\n",
    "])"
   ]
  },
  {
   "cell_type": "code",
   "execution_count": 199,
   "id": "5ba93980-6641-4644-b696-e39fac42752c",
   "metadata": {},
   "outputs": [
    {
     "data": {
      "text/plain": [
       "802"
      ]
     },
     "execution_count": 199,
     "metadata": {},
     "output_type": "execute_result"
    }
   ],
   "source": [
    "len(df_agn_cat)"
   ]
  },
  {
   "cell_type": "code",
   "execution_count": 200,
   "id": "6b7fcfbf-6633-44af-a7c0-e76ffdc25b55",
   "metadata": {},
   "outputs": [
    {
     "data": {
      "text/html": [
       "<div>\n",
       "<style scoped>\n",
       "    .dataframe tbody tr th:only-of-type {\n",
       "        vertical-align: middle;\n",
       "    }\n",
       "\n",
       "    .dataframe tbody tr th {\n",
       "        vertical-align: top;\n",
       "    }\n",
       "\n",
       "    .dataframe thead th {\n",
       "        text-align: right;\n",
       "    }\n",
       "</style>\n",
       "<table border=\"1\" class=\"dataframe\">\n",
       "  <thead>\n",
       "    <tr style=\"text-align: right;\">\n",
       "      <th></th>\n",
       "      <th>ID</th>\n",
       "      <th>agn_clsf</th>\n",
       "    </tr>\n",
       "  </thead>\n",
       "  <tbody>\n",
       "    <tr>\n",
       "      <th>0</th>\n",
       "      <td>404744</td>\n",
       "      <td>AGN</td>\n",
       "    </tr>\n",
       "    <tr>\n",
       "      <th>1</th>\n",
       "      <td>835729</td>\n",
       "      <td>AGN</td>\n",
       "    </tr>\n",
       "    <tr>\n",
       "      <th>2</th>\n",
       "      <td>1152835</td>\n",
       "      <td>AGN</td>\n",
       "    </tr>\n",
       "    <tr>\n",
       "      <th>3</th>\n",
       "      <td>1095588</td>\n",
       "      <td>AGN</td>\n",
       "    </tr>\n",
       "    <tr>\n",
       "      <th>4</th>\n",
       "      <td>1026253</td>\n",
       "      <td>AGN</td>\n",
       "    </tr>\n",
       "    <tr>\n",
       "      <th>...</th>\n",
       "      <td>...</td>\n",
       "      <td>...</td>\n",
       "    </tr>\n",
       "    <tr>\n",
       "      <th>797</th>\n",
       "      <td>1081104</td>\n",
       "      <td>SFG</td>\n",
       "    </tr>\n",
       "    <tr>\n",
       "      <th>798</th>\n",
       "      <td>997145</td>\n",
       "      <td>SFG</td>\n",
       "    </tr>\n",
       "    <tr>\n",
       "      <th>799</th>\n",
       "      <td>1341925</td>\n",
       "      <td>SFG</td>\n",
       "    </tr>\n",
       "    <tr>\n",
       "      <th>800</th>\n",
       "      <td>893170</td>\n",
       "      <td>AGN</td>\n",
       "    </tr>\n",
       "    <tr>\n",
       "      <th>801</th>\n",
       "      <td>1157586</td>\n",
       "      <td>AGN</td>\n",
       "    </tr>\n",
       "  </tbody>\n",
       "</table>\n",
       "<p>802 rows × 2 columns</p>\n",
       "</div>"
      ],
      "text/plain": [
       "          ID agn_clsf\n",
       "0     404744      AGN\n",
       "1     835729      AGN\n",
       "2    1152835      AGN\n",
       "3    1095588      AGN\n",
       "4    1026253      AGN\n",
       "..       ...      ...\n",
       "797  1081104      SFG\n",
       "798   997145      SFG\n",
       "799  1341925      SFG\n",
       "800   893170      AGN\n",
       "801  1157586      AGN\n",
       "\n",
       "[802 rows x 2 columns]"
      ]
     },
     "execution_count": 200,
     "metadata": {},
     "output_type": "execute_result"
    }
   ],
   "source": [
    "df_agn_cat"
   ]
  },
  {
   "cell_type": "code",
   "execution_count": 201,
   "id": "cef1838a-6e1a-4985-a0e7-2850788cb70e",
   "metadata": {},
   "outputs": [
    {
     "data": {
      "text/plain": [
       "SFG    551\n",
       "AGN    251\n",
       "Name: agn_clsf, dtype: int64"
      ]
     },
     "execution_count": 201,
     "metadata": {},
     "output_type": "execute_result"
    }
   ],
   "source": [
    "df_agn_cat.agn_clsf.value_counts()"
   ]
  },
  {
   "cell_type": "code",
   "execution_count": 202,
   "id": "a23b55d0-b2f7-45ca-88e7-dbf6d70da237",
   "metadata": {},
   "outputs": [
    {
     "data": {
      "text/plain": [
       "802"
      ]
     },
     "execution_count": 202,
     "metadata": {},
     "output_type": "execute_result"
    }
   ],
   "source": [
    "len(df_agn_cat.drop_duplicates(subset='ID', keep='first'))"
   ]
  },
  {
   "cell_type": "code",
   "execution_count": 203,
   "id": "82bb0e2e-bfd0-4c1b-9320-b2f97d70ac85",
   "metadata": {},
   "outputs": [],
   "source": [
    "df_agn_dedup = df_agn_cat.drop_duplicates(subset='ID', keep='first')"
   ]
  },
  {
   "cell_type": "code",
   "execution_count": 204,
   "id": "d5280803-ae15-4a02-bc57-4e20e64167ed",
   "metadata": {},
   "outputs": [
    {
     "data": {
      "text/plain": [
       "SFG    551\n",
       "AGN    251\n",
       "Name: agn_clsf, dtype: int64"
      ]
     },
     "execution_count": 204,
     "metadata": {},
     "output_type": "execute_result"
    }
   ],
   "source": [
    "df_agn_dedup.agn_clsf.value_counts()"
   ]
  },
  {
   "cell_type": "code",
   "execution_count": 205,
   "id": "59565e7f-84db-4563-9a32-641f5aaedd2b",
   "metadata": {},
   "outputs": [],
   "source": [
    "df_agn_dedup.to_csv(f'{combine_fold}/source-agn-cat-fixed.csv')"
   ]
  },
  {
   "cell_type": "code",
   "execution_count": null,
   "id": "b8d8e6da-b78f-4781-90fe-48d916590966",
   "metadata": {},
   "outputs": [],
   "source": []
  }
 ],
 "metadata": {
  "kernelspec": {
   "display_name": "Python 3 (ipykernel)",
   "language": "python",
   "name": "python3"
  },
  "language_info": {
   "codemirror_mode": {
    "name": "ipython",
    "version": 3
   },
   "file_extension": ".py",
   "mimetype": "text/x-python",
   "name": "python",
   "nbconvert_exporter": "python",
   "pygments_lexer": "ipython3",
   "version": "3.7.13"
  }
 },
 "nbformat": 4,
 "nbformat_minor": 5
}
