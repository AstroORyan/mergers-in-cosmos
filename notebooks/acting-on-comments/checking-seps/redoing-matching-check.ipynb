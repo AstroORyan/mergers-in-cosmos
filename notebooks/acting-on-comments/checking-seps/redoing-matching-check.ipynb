{
 "cells": [
  {
   "cell_type": "code",
   "execution_count": 41,
   "id": "426e3ae4-3ed3-4604-9a5b-2dce241bd31c",
   "metadata": {},
   "outputs": [],
   "source": [
    "import pandas as pd\n",
    "import numpy as np\n",
    "import matplotlib.pyplot as plt\n",
    "\n",
    "from tqdm import tqdm\n",
    "tqdm.pandas()\n",
    "\n",
    "from astropy.coordinates import SkyCoord\n",
    "import astropy.units as u"
   ]
  },
  {
   "cell_type": "code",
   "execution_count": 42,
   "id": "4d1606f4-af0b-4b22-a5fe-704c5e30b9f5",
   "metadata": {},
   "outputs": [],
   "source": [
    "combine_fold = 'C:/Users/oryan/Documents/mergers-in-cosmos/cats-to-combine'\n",
    "data_folder = 'C:/Users/oryan/Documents/mergers-in-cosmos/back-to-basics-data'\n",
    "fig_folder = 'C:/Users/oryan/Documents/mergers-in-cosmos/paper-source/figures'\n",
    "orig_folder = 'C:/Users/oryan/Documents/mergers-in-cosmos/data'"
   ]
  },
  {
   "cell_type": "markdown",
   "id": "4df8fc90-f94c-4288-9e80-7094a18d14a1",
   "metadata": {},
   "source": [
    "## Getting the Data"
   ]
  },
  {
   "cell_type": "code",
   "execution_count": 3,
   "id": "e73dace3-f0c3-4a07-abac-7588d9f3fb5b",
   "metadata": {},
   "outputs": [
    {
     "name": "stderr",
     "output_type": "stream",
     "text": [
      "C:\\Users\\oryan\\AppData\\Local\\Continuum\\anaconda3\\lib\\site-packages\\IPython\\core\\interactiveshell.py:3457: DtypeWarning: Columns (1) have mixed types.Specify dtype option on import or set low_memory=False.\n",
      "  exec(code_obj, self.user_global_ns, self.user_ns)\n"
     ]
    },
    {
     "data": {
      "text/html": [
       "<div>\n",
       "<style scoped>\n",
       "    .dataframe tbody tr th:only-of-type {\n",
       "        vertical-align: middle;\n",
       "    }\n",
       "\n",
       "    .dataframe tbody tr th {\n",
       "        vertical-align: top;\n",
       "    }\n",
       "\n",
       "    .dataframe thead th {\n",
       "        text-align: right;\n",
       "    }\n",
       "</style>\n",
       "<table border=\"1\" class=\"dataframe\">\n",
       "  <thead>\n",
       "    <tr style=\"text-align: right;\">\n",
       "      <th></th>\n",
       "      <th>ORyanID_23</th>\n",
       "      <th>ID</th>\n",
       "      <th>category</th>\n",
       "      <th>ALPHA_J2000</th>\n",
       "      <th>DELTA_J2000</th>\n",
       "      <th>X_IMAGE</th>\n",
       "      <th>Y_IMAGE</th>\n",
       "      <th>ERRX2_IMAGE</th>\n",
       "      <th>ERRY2_IMAGE</th>\n",
       "      <th>ERRXY_IMAGE</th>\n",
       "      <th>...</th>\n",
       "      <th>ez_ssfr_p025</th>\n",
       "      <th>ez_ssfr_p160</th>\n",
       "      <th>ez_ssfr_p500</th>\n",
       "      <th>ez_ssfr_p840</th>\n",
       "      <th>ez_ssfr_p975</th>\n",
       "      <th>ez_Av_p025</th>\n",
       "      <th>ez_Av_p160</th>\n",
       "      <th>ez_Av_p500</th>\n",
       "      <th>ez_Av_p840</th>\n",
       "      <th>ez_Av_p975</th>\n",
       "    </tr>\n",
       "  </thead>\n",
       "  <tbody>\n",
       "    <tr>\n",
       "      <th>0</th>\n",
       "      <td>4000705532455</td>\n",
       "      <td>816891</td>\n",
       "      <td>stage4</td>\n",
       "      <td>150.679846</td>\n",
       "      <td>2.196543</td>\n",
       "      <td>9200.399414</td>\n",
       "      <td>21737.232422</td>\n",
       "      <td>0.000052</td>\n",
       "      <td>0.000059</td>\n",
       "      <td>-0.000010</td>\n",
       "      <td>...</td>\n",
       "      <td>-8.931825</td>\n",
       "      <td>-8.911355</td>\n",
       "      <td>-8.899668</td>\n",
       "      <td>-8.883307</td>\n",
       "      <td>-8.872990</td>\n",
       "      <td>0.529107</td>\n",
       "      <td>0.560142</td>\n",
       "      <td>0.599624</td>\n",
       "      <td>0.630920</td>\n",
       "      <td>0.652330</td>\n",
       "    </tr>\n",
       "    <tr>\n",
       "      <th>1</th>\n",
       "      <td>4000705533383</td>\n",
       "      <td>860686</td>\n",
       "      <td>stage3</td>\n",
       "      <td>150.644522</td>\n",
       "      <td>2.237226</td>\n",
       "      <td>10047.978516</td>\n",
       "      <td>22713.351562</td>\n",
       "      <td>0.000051</td>\n",
       "      <td>0.000046</td>\n",
       "      <td>0.000002</td>\n",
       "      <td>...</td>\n",
       "      <td>-9.314209</td>\n",
       "      <td>-9.106611</td>\n",
       "      <td>-8.941274</td>\n",
       "      <td>-8.713107</td>\n",
       "      <td>-8.541205</td>\n",
       "      <td>0.341270</td>\n",
       "      <td>0.545498</td>\n",
       "      <td>0.732327</td>\n",
       "      <td>0.906665</td>\n",
       "      <td>1.020098</td>\n",
       "    </tr>\n",
       "    <tr>\n",
       "      <th>2</th>\n",
       "      <td>4000705539941</td>\n",
       "      <td>1301188</td>\n",
       "      <td>stage2</td>\n",
       "      <td>149.702462</td>\n",
       "      <td>2.654895</td>\n",
       "      <td>32637.949219</td>\n",
       "      <td>32737.013672</td>\n",
       "      <td>0.000064</td>\n",
       "      <td>0.000104</td>\n",
       "      <td>-0.000003</td>\n",
       "      <td>...</td>\n",
       "      <td>-9.794128</td>\n",
       "      <td>-9.784252</td>\n",
       "      <td>-9.766013</td>\n",
       "      <td>-9.743796</td>\n",
       "      <td>-9.727879</td>\n",
       "      <td>0.018737</td>\n",
       "      <td>0.018737</td>\n",
       "      <td>0.018737</td>\n",
       "      <td>0.018737</td>\n",
       "      <td>0.018737</td>\n",
       "    </tr>\n",
       "    <tr>\n",
       "      <th>3</th>\n",
       "      <td>4000705540034</td>\n",
       "      <td>1304538</td>\n",
       "      <td>stage3</td>\n",
       "      <td>149.726828</td>\n",
       "      <td>2.658172</td>\n",
       "      <td>32053.712891</td>\n",
       "      <td>32815.468750</td>\n",
       "      <td>0.000071</td>\n",
       "      <td>0.000086</td>\n",
       "      <td>-0.000006</td>\n",
       "      <td>...</td>\n",
       "      <td>-9.480532</td>\n",
       "      <td>-9.443615</td>\n",
       "      <td>-9.402433</td>\n",
       "      <td>-9.352081</td>\n",
       "      <td>-9.325659</td>\n",
       "      <td>0.302629</td>\n",
       "      <td>0.376027</td>\n",
       "      <td>0.440394</td>\n",
       "      <td>0.508153</td>\n",
       "      <td>0.567727</td>\n",
       "    </tr>\n",
       "    <tr>\n",
       "      <th>4</th>\n",
       "      <td>4000705540064</td>\n",
       "      <td>1310001</td>\n",
       "      <td>stage3</td>\n",
       "      <td>149.701230</td>\n",
       "      <td>2.660343</td>\n",
       "      <td>32667.441406</td>\n",
       "      <td>32867.789062</td>\n",
       "      <td>0.000026</td>\n",
       "      <td>0.000020</td>\n",
       "      <td>-0.000010</td>\n",
       "      <td>...</td>\n",
       "      <td>-9.882174</td>\n",
       "      <td>-9.855921</td>\n",
       "      <td>-9.816085</td>\n",
       "      <td>-9.697225</td>\n",
       "      <td>-9.573506</td>\n",
       "      <td>0.455258</td>\n",
       "      <td>0.482555</td>\n",
       "      <td>0.522239</td>\n",
       "      <td>0.600383</td>\n",
       "      <td>0.660279</td>\n",
       "    </tr>\n",
       "  </tbody>\n",
       "</table>\n",
       "<p>5 rows × 756 columns</p>\n",
       "</div>"
      ],
      "text/plain": [
       "      ORyanID_23       ID category  ALPHA_J2000  DELTA_J2000       X_IMAGE  \\\n",
       "0  4000705532455   816891   stage4   150.679846     2.196543   9200.399414   \n",
       "1  4000705533383   860686   stage3   150.644522     2.237226  10047.978516   \n",
       "2  4000705539941  1301188   stage2   149.702462     2.654895  32637.949219   \n",
       "3  4000705540034  1304538   stage3   149.726828     2.658172  32053.712891   \n",
       "4  4000705540064  1310001   stage3   149.701230     2.660343  32667.441406   \n",
       "\n",
       "        Y_IMAGE  ERRX2_IMAGE  ERRY2_IMAGE  ERRXY_IMAGE  ...  ez_ssfr_p025  \\\n",
       "0  21737.232422     0.000052     0.000059    -0.000010  ...     -8.931825   \n",
       "1  22713.351562     0.000051     0.000046     0.000002  ...     -9.314209   \n",
       "2  32737.013672     0.000064     0.000104    -0.000003  ...     -9.794128   \n",
       "3  32815.468750     0.000071     0.000086    -0.000006  ...     -9.480532   \n",
       "4  32867.789062     0.000026     0.000020    -0.000010  ...     -9.882174   \n",
       "\n",
       "   ez_ssfr_p160  ez_ssfr_p500  ez_ssfr_p840  ez_ssfr_p975  ez_Av_p025  \\\n",
       "0     -8.911355     -8.899668     -8.883307     -8.872990    0.529107   \n",
       "1     -9.106611     -8.941274     -8.713107     -8.541205    0.341270   \n",
       "2     -9.784252     -9.766013     -9.743796     -9.727879    0.018737   \n",
       "3     -9.443615     -9.402433     -9.352081     -9.325659    0.302629   \n",
       "4     -9.855921     -9.816085     -9.697225     -9.573506    0.455258   \n",
       "\n",
       "   ez_Av_p160  ez_Av_p500  ez_Av_p840  ez_Av_p975  \n",
       "0    0.560142    0.599624    0.630920    0.652330  \n",
       "1    0.545498    0.732327    0.906665    1.020098  \n",
       "2    0.018737    0.018737    0.018737    0.018737  \n",
       "3    0.376027    0.440394    0.508153    0.567727  \n",
       "4    0.482555    0.522239    0.600383    0.660279  \n",
       "\n",
       "[5 rows x 756 columns]"
      ]
     },
     "execution_count": 3,
     "metadata": {},
     "output_type": "execute_result"
    }
   ],
   "source": [
    "df_cat = pd.read_csv(f'{combine_fold}/dor-all-restaged-full.csv', index_col = 0)\n",
    "df_cat.head()"
   ]
  },
  {
   "cell_type": "code",
   "execution_count": 4,
   "id": "7e30c44c-f28a-4425-b4b5-b1412d274551",
   "metadata": {},
   "outputs": [
    {
     "data": {
      "text/html": [
       "<div>\n",
       "<style scoped>\n",
       "    .dataframe tbody tr th:only-of-type {\n",
       "        vertical-align: middle;\n",
       "    }\n",
       "\n",
       "    .dataframe tbody tr th {\n",
       "        vertical-align: top;\n",
       "    }\n",
       "\n",
       "    .dataframe thead th {\n",
       "        text-align: right;\n",
       "    }\n",
       "</style>\n",
       "<table border=\"1\" class=\"dataframe\">\n",
       "  <thead>\n",
       "    <tr style=\"text-align: right;\">\n",
       "      <th></th>\n",
       "      <th>SourceID</th>\n",
       "      <th>RA</th>\n",
       "      <th>Dec</th>\n",
       "      <th>int_prediction</th>\n",
       "      <th>references</th>\n",
       "      <th>status</th>\n",
       "    </tr>\n",
       "  </thead>\n",
       "  <tbody>\n",
       "    <tr>\n",
       "      <th>0</th>\n",
       "      <td>4000704963129</td>\n",
       "      <td>187.983807</td>\n",
       "      <td>58.010524</td>\n",
       "      <td>0.958096</td>\n",
       "      <td>No_entry</td>\n",
       "      <td>Unreferenced</td>\n",
       "    </tr>\n",
       "    <tr>\n",
       "      <th>1</th>\n",
       "      <td>4000704963271</td>\n",
       "      <td>187.980323</td>\n",
       "      <td>58.026481</td>\n",
       "      <td>0.966350</td>\n",
       "      <td>No_entry</td>\n",
       "      <td>Unreferenced</td>\n",
       "    </tr>\n",
       "    <tr>\n",
       "      <th>2</th>\n",
       "      <td>4000704963422</td>\n",
       "      <td>187.938181</td>\n",
       "      <td>58.039949</td>\n",
       "      <td>0.956150</td>\n",
       "      <td>No_entry</td>\n",
       "      <td>Unreferenced</td>\n",
       "    </tr>\n",
       "    <tr>\n",
       "      <th>3</th>\n",
       "      <td>4000705131622</td>\n",
       "      <td>217.216271</td>\n",
       "      <td>34.015278</td>\n",
       "      <td>0.987888</td>\n",
       "      <td>No_entry</td>\n",
       "      <td>Unreferenced</td>\n",
       "    </tr>\n",
       "    <tr>\n",
       "      <th>4</th>\n",
       "      <td>4000705131630</td>\n",
       "      <td>217.207839</td>\n",
       "      <td>34.015576</td>\n",
       "      <td>0.984174</td>\n",
       "      <td>No_entry</td>\n",
       "      <td>Unreferenced</td>\n",
       "    </tr>\n",
       "  </tbody>\n",
       "</table>\n",
       "</div>"
      ],
      "text/plain": [
       "        SourceID          RA        Dec  int_prediction references  \\\n",
       "0  4000704963129  187.983807  58.010524        0.958096   No_entry   \n",
       "1  4000704963271  187.980323  58.026481        0.966350   No_entry   \n",
       "2  4000704963422  187.938181  58.039949        0.956150   No_entry   \n",
       "3  4000705131622  217.216271  34.015278        0.987888   No_entry   \n",
       "4  4000705131630  217.207839  34.015576        0.984174   No_entry   \n",
       "\n",
       "         status  \n",
       "0  Unreferenced  \n",
       "1  Unreferenced  \n",
       "2  Unreferenced  \n",
       "3  Unreferenced  \n",
       "4  Unreferenced  "
      ]
     },
     "execution_count": 4,
     "metadata": {},
     "output_type": "execute_result"
    }
   ],
   "source": [
    "or_sample = pd.read_csv(f'{orig_folder}/interacting-catalogue.csv', index_col = 0)\n",
    "or_sample.head()"
   ]
  },
  {
   "cell_type": "markdown",
   "id": "8f037d30-01d1-4587-b035-23c91e1a84db",
   "metadata": {},
   "source": [
    "## Conductiong Matching"
   ]
  },
  {
   "cell_type": "code",
   "execution_count": 5,
   "id": "80a137d3-80fc-4158-8b37-069074a1f17f",
   "metadata": {},
   "outputs": [],
   "source": [
    "df_cat_red = df_cat[['ORyanID_23','ID','ALPHA_J2000','DELTA_J2000']].rename(columns = {'ORyanID_23' : 'SourceID'})"
   ]
  },
  {
   "cell_type": "code",
   "execution_count": 6,
   "id": "43452365-6206-476c-b459-75dc84e89f69",
   "metadata": {},
   "outputs": [
    {
     "data": {
      "text/html": [
       "<div>\n",
       "<style scoped>\n",
       "    .dataframe tbody tr th:only-of-type {\n",
       "        vertical-align: middle;\n",
       "    }\n",
       "\n",
       "    .dataframe tbody tr th {\n",
       "        vertical-align: top;\n",
       "    }\n",
       "\n",
       "    .dataframe thead th {\n",
       "        text-align: right;\n",
       "    }\n",
       "</style>\n",
       "<table border=\"1\" class=\"dataframe\">\n",
       "  <thead>\n",
       "    <tr style=\"text-align: right;\">\n",
       "      <th></th>\n",
       "      <th>SourceID</th>\n",
       "      <th>ID</th>\n",
       "      <th>ALPHA_J2000</th>\n",
       "      <th>DELTA_J2000</th>\n",
       "      <th>RA</th>\n",
       "      <th>Dec</th>\n",
       "    </tr>\n",
       "  </thead>\n",
       "  <tbody>\n",
       "    <tr>\n",
       "      <th>0</th>\n",
       "      <td>4000705532455</td>\n",
       "      <td>816891</td>\n",
       "      <td>150.679846</td>\n",
       "      <td>2.196543</td>\n",
       "      <td>150.679664</td>\n",
       "      <td>2.196615</td>\n",
       "    </tr>\n",
       "    <tr>\n",
       "      <th>1</th>\n",
       "      <td>4000705533383</td>\n",
       "      <td>860686</td>\n",
       "      <td>150.644522</td>\n",
       "      <td>2.237226</td>\n",
       "      <td>150.645125</td>\n",
       "      <td>2.237650</td>\n",
       "    </tr>\n",
       "    <tr>\n",
       "      <th>2</th>\n",
       "      <td>4000705539941</td>\n",
       "      <td>1301188</td>\n",
       "      <td>149.702462</td>\n",
       "      <td>2.654895</td>\n",
       "      <td>149.702652</td>\n",
       "      <td>2.654624</td>\n",
       "    </tr>\n",
       "    <tr>\n",
       "      <th>3</th>\n",
       "      <td>4000705540034</td>\n",
       "      <td>1304538</td>\n",
       "      <td>149.726828</td>\n",
       "      <td>2.658172</td>\n",
       "      <td>149.727017</td>\n",
       "      <td>2.658066</td>\n",
       "    </tr>\n",
       "    <tr>\n",
       "      <th>4</th>\n",
       "      <td>4000705540064</td>\n",
       "      <td>1310001</td>\n",
       "      <td>149.701230</td>\n",
       "      <td>2.660343</td>\n",
       "      <td>149.701495</td>\n",
       "      <td>2.660271</td>\n",
       "    </tr>\n",
       "  </tbody>\n",
       "</table>\n",
       "</div>"
      ],
      "text/plain": [
       "        SourceID       ID  ALPHA_J2000  DELTA_J2000          RA       Dec\n",
       "0  4000705532455   816891   150.679846     2.196543  150.679664  2.196615\n",
       "1  4000705533383   860686   150.644522     2.237226  150.645125  2.237650\n",
       "2  4000705539941  1301188   149.702462     2.654895  149.702652  2.654624\n",
       "3  4000705540034  1304538   149.726828     2.658172  149.727017  2.658066\n",
       "4  4000705540064  1310001   149.701230     2.660343  149.701495  2.660271"
      ]
     },
     "execution_count": 6,
     "metadata": {},
     "output_type": "execute_result"
    }
   ],
   "source": [
    "df_merge = df_cat_red.merge(or_sample[['SourceID', 'RA', 'Dec']], on = 'SourceID', how = 'left').dropna()\n",
    "df_merge.head()"
   ]
  },
  {
   "cell_type": "code",
   "execution_count": 8,
   "id": "6051a775-d5ea-4364-ae47-5a5c3af8a6d3",
   "metadata": {},
   "outputs": [
    {
     "data": {
      "text/plain": [
       "3072"
      ]
     },
     "execution_count": 8,
     "metadata": {},
     "output_type": "execute_result"
    }
   ],
   "source": [
    "len(df_merge)"
   ]
  },
  {
   "cell_type": "code",
   "execution_count": 9,
   "id": "21bbdeab-f062-4d07-ada1-00a99d71cea9",
   "metadata": {},
   "outputs": [
    {
     "data": {
      "text/html": [
       "<div>\n",
       "<style scoped>\n",
       "    .dataframe tbody tr th:only-of-type {\n",
       "        vertical-align: middle;\n",
       "    }\n",
       "\n",
       "    .dataframe tbody tr th {\n",
       "        vertical-align: top;\n",
       "    }\n",
       "\n",
       "    .dataframe thead th {\n",
       "        text-align: right;\n",
       "    }\n",
       "</style>\n",
       "<table border=\"1\" class=\"dataframe\">\n",
       "  <thead>\n",
       "    <tr style=\"text-align: right;\">\n",
       "      <th></th>\n",
       "      <th>SourceID</th>\n",
       "      <th>ID</th>\n",
       "      <th>ALPHA_J2000</th>\n",
       "      <th>DELTA_J2000</th>\n",
       "      <th>RA</th>\n",
       "      <th>Dec</th>\n",
       "    </tr>\n",
       "  </thead>\n",
       "  <tbody>\n",
       "    <tr>\n",
       "      <th>0</th>\n",
       "      <td>4000705532455</td>\n",
       "      <td>816891</td>\n",
       "      <td>150.679846</td>\n",
       "      <td>2.196543</td>\n",
       "      <td>150.679664</td>\n",
       "      <td>2.196615</td>\n",
       "    </tr>\n",
       "    <tr>\n",
       "      <th>1</th>\n",
       "      <td>4000705533383</td>\n",
       "      <td>860686</td>\n",
       "      <td>150.644522</td>\n",
       "      <td>2.237226</td>\n",
       "      <td>150.645125</td>\n",
       "      <td>2.237650</td>\n",
       "    </tr>\n",
       "    <tr>\n",
       "      <th>2</th>\n",
       "      <td>4000705539941</td>\n",
       "      <td>1301188</td>\n",
       "      <td>149.702462</td>\n",
       "      <td>2.654895</td>\n",
       "      <td>149.702652</td>\n",
       "      <td>2.654624</td>\n",
       "    </tr>\n",
       "    <tr>\n",
       "      <th>3</th>\n",
       "      <td>4000705540034</td>\n",
       "      <td>1304538</td>\n",
       "      <td>149.726828</td>\n",
       "      <td>2.658172</td>\n",
       "      <td>149.727017</td>\n",
       "      <td>2.658066</td>\n",
       "    </tr>\n",
       "    <tr>\n",
       "      <th>4</th>\n",
       "      <td>4000705540064</td>\n",
       "      <td>1310001</td>\n",
       "      <td>149.701230</td>\n",
       "      <td>2.660343</td>\n",
       "      <td>149.701495</td>\n",
       "      <td>2.660271</td>\n",
       "    </tr>\n",
       "    <tr>\n",
       "      <th>...</th>\n",
       "      <td>...</td>\n",
       "      <td>...</td>\n",
       "      <td>...</td>\n",
       "      <td>...</td>\n",
       "      <td>...</td>\n",
       "      <td>...</td>\n",
       "    </tr>\n",
       "    <tr>\n",
       "      <th>2560</th>\n",
       "      <td>4001111524196</td>\n",
       "      <td>991056</td>\n",
       "      <td>150.407247</td>\n",
       "      <td>2.356121</td>\n",
       "      <td>150.406927</td>\n",
       "      <td>2.355820</td>\n",
       "    </tr>\n",
       "    <tr>\n",
       "      <th>2561</th>\n",
       "      <td>4001185627710</td>\n",
       "      <td>1294479</td>\n",
       "      <td>149.998094</td>\n",
       "      <td>2.651083</td>\n",
       "      <td>149.997831</td>\n",
       "      <td>2.651329</td>\n",
       "    </tr>\n",
       "    <tr>\n",
       "      <th>2562</th>\n",
       "      <td>6000508613553</td>\n",
       "      <td>1140076</td>\n",
       "      <td>150.610964</td>\n",
       "      <td>2.494102</td>\n",
       "      <td>150.610729</td>\n",
       "      <td>2.494162</td>\n",
       "    </tr>\n",
       "    <tr>\n",
       "      <th>2563</th>\n",
       "      <td>6000518662663</td>\n",
       "      <td>575198</td>\n",
       "      <td>150.421018</td>\n",
       "      <td>1.984436</td>\n",
       "      <td>150.421572</td>\n",
       "      <td>1.985231</td>\n",
       "    </tr>\n",
       "    <tr>\n",
       "      <th>2564</th>\n",
       "      <td>4001323060711</td>\n",
       "      <td>938971</td>\n",
       "      <td>150.097732</td>\n",
       "      <td>2.309578</td>\n",
       "      <td>150.097685</td>\n",
       "      <td>2.310266</td>\n",
       "    </tr>\n",
       "  </tbody>\n",
       "</table>\n",
       "<p>2565 rows × 6 columns</p>\n",
       "</div>"
      ],
      "text/plain": [
       "           SourceID       ID  ALPHA_J2000  DELTA_J2000          RA       Dec\n",
       "0     4000705532455   816891   150.679846     2.196543  150.679664  2.196615\n",
       "1     4000705533383   860686   150.644522     2.237226  150.645125  2.237650\n",
       "2     4000705539941  1301188   149.702462     2.654895  149.702652  2.654624\n",
       "3     4000705540034  1304538   149.726828     2.658172  149.727017  2.658066\n",
       "4     4000705540064  1310001   149.701230     2.660343  149.701495  2.660271\n",
       "...             ...      ...          ...          ...         ...       ...\n",
       "2560  4001111524196   991056   150.407247     2.356121  150.406927  2.355820\n",
       "2561  4001185627710  1294479   149.998094     2.651083  149.997831  2.651329\n",
       "2562  6000508613553  1140076   150.610964     2.494102  150.610729  2.494162\n",
       "2563  6000518662663   575198   150.421018     1.984436  150.421572  1.985231\n",
       "2564  4001323060711   938971   150.097732     2.309578  150.097685  2.310266\n",
       "\n",
       "[2565 rows x 6 columns]"
      ]
     },
     "execution_count": 9,
     "metadata": {},
     "output_type": "execute_result"
    }
   ],
   "source": [
    "df_merge.drop_duplicates('SourceID', keep = 'first')"
   ]
  },
  {
   "cell_type": "code",
   "execution_count": 10,
   "id": "fdab33f8-9b20-4c4d-9a61-9b8407decc10",
   "metadata": {},
   "outputs": [],
   "source": [
    "def calc_sep(cosmos_ra, cosmos_dec, ra, dec):\n",
    "    coord_cosmos = SkyCoord(ra = cosmos_ra * u.deg, dec = cosmos_dec * u.deg, frame = 'fk5')\n",
    "    coord = SkyCoord(ra = ra * u.deg, dec = dec * u.deg, frame = 'fk5')\n",
    "    \n",
    "    sep = coord_cosmos.separation(coord).to(u.arcsec)\n",
    "    \n",
    "    return sep.value"
   ]
  },
  {
   "cell_type": "code",
   "execution_count": 13,
   "id": "87961553-faeb-4ca7-95b4-a7aed130c306",
   "metadata": {},
   "outputs": [
    {
     "name": "stderr",
     "output_type": "stream",
     "text": [
      "100%|██████████| 3072/3072 [00:07<00:00, 418.99it/s]\n"
     ]
    }
   ],
   "source": [
    "df_seps = (\n",
    "    df_merge\n",
    "    .assign(\n",
    "        sep = df_merge.progress_apply(lambda row: calc_sep(row.ALPHA_J2000, row.DELTA_J2000, row.RA, row.Dec), axis = 1)\n",
    "    )\n",
    ")"
   ]
  },
  {
   "cell_type": "code",
   "execution_count": 22,
   "id": "0b0592ea-2c34-497f-8fd2-405ff4705249",
   "metadata": {},
   "outputs": [],
   "source": [
    "df_seps_dedup = df_seps.sort_values('sep', ascending=True).drop_duplicates('SourceID', keep='first')"
   ]
  },
  {
   "cell_type": "code",
   "execution_count": 23,
   "id": "825d46ec-7402-41ad-aa1e-98b41b265e63",
   "metadata": {},
   "outputs": [
    {
     "data": {
      "image/png": "[encoded data removed]",
      "text/plain": [
       "<Figure size 800x800 with 1 Axes>"
      ]
     },
     "metadata": {},
     "output_type": "display_data"
    }
   ],
   "source": [
    "plt.figure(figsize = (8,8))\n",
    "plt.hist(df_seps_dedup.sep, bins = 20, histtype = 'step', color = 'black')\n",
    "plt.show()"
   ]
  },
  {
   "cell_type": "markdown",
   "id": "37ba8254-d4f6-4686-b396-7a744422733c",
   "metadata": {},
   "source": [
    "## Checking Large Separations"
   ]
  },
  {
   "cell_type": "code",
   "execution_count": 30,
   "id": "02f7e8c8-d808-47a5-885a-ada77d9f20b2",
   "metadata": {},
   "outputs": [
    {
     "data": {
      "text/html": [
       "<div>\n",
       "<style scoped>\n",
       "    .dataframe tbody tr th:only-of-type {\n",
       "        vertical-align: middle;\n",
       "    }\n",
       "\n",
       "    .dataframe tbody tr th {\n",
       "        vertical-align: top;\n",
       "    }\n",
       "\n",
       "    .dataframe thead th {\n",
       "        text-align: right;\n",
       "    }\n",
       "</style>\n",
       "<table border=\"1\" class=\"dataframe\">\n",
       "  <thead>\n",
       "    <tr style=\"text-align: right;\">\n",
       "      <th></th>\n",
       "      <th>SourceID</th>\n",
       "      <th>vis_clsf</th>\n",
       "    </tr>\n",
       "  </thead>\n",
       "  <tbody>\n",
       "    <tr>\n",
       "      <th>0</th>\n",
       "      <td>4000705532455</td>\n",
       "      <td>n</td>\n",
       "    </tr>\n",
       "    <tr>\n",
       "      <th>1</th>\n",
       "      <td>4000705532984</td>\n",
       "      <td>nm</td>\n",
       "    </tr>\n",
       "    <tr>\n",
       "      <th>2</th>\n",
       "      <td>4000705533312</td>\n",
       "      <td>y</td>\n",
       "    </tr>\n",
       "    <tr>\n",
       "      <th>3</th>\n",
       "      <td>4000705533383</td>\n",
       "      <td>n</td>\n",
       "    </tr>\n",
       "    <tr>\n",
       "      <th>4</th>\n",
       "      <td>4000705539435</td>\n",
       "      <td>l</td>\n",
       "    </tr>\n",
       "  </tbody>\n",
       "</table>\n",
       "</div>"
      ],
      "text/plain": [
       "        SourceID vis_clsf\n",
       "0  4000705532455        n\n",
       "1  4000705532984       nm\n",
       "2  4000705533312        y\n",
       "3  4000705533383        n\n",
       "4  4000705539435        l"
      ]
     },
     "execution_count": 30,
     "metadata": {},
     "output_type": "execute_result"
    }
   ],
   "source": [
    "df_vis_clsf = (\n",
    "    pd.read_csv(f'{data_folder}/secondaries-identified.csv', index_col = 0)\n",
    "    .reset_index()\n",
    "    .rename(columns = {'index' : 'SourceID', '0' : 'vis_clsf'})\n",
    ")\n",
    "df_vis_clsf.head()"
   ]
  },
  {
   "cell_type": "code",
   "execution_count": 31,
   "id": "02ed9dc9-7e25-4a99-8899-38150debefa5",
   "metadata": {},
   "outputs": [
    {
     "data": {
      "text/plain": [
       "3072"
      ]
     },
     "execution_count": 31,
     "metadata": {},
     "output_type": "execute_result"
    }
   ],
   "source": [
    "len(df_seps)"
   ]
  },
  {
   "cell_type": "code",
   "execution_count": 33,
   "id": "743ca320-bd20-43b5-95d6-53c67c39e2f2",
   "metadata": {},
   "outputs": [],
   "source": [
    "df_seps_clsf = df_seps_dedup.merge(df_vis_clsf, on = 'SourceID', how = 'left')"
   ]
  },
  {
   "cell_type": "code",
   "execution_count": 39,
   "id": "ae62d3d0-0603-490b-9aa7-55d7afce618f",
   "metadata": {},
   "outputs": [],
   "source": [
    "df_rem = df_seps_clsf.query('sep > 3.5').vis_clsf.value_counts()"
   ]
  },
  {
   "cell_type": "code",
   "execution_count": 59,
   "id": "cb0aa15b-6baa-462e-b66d-4a55bc9d6316",
   "metadata": {},
   "outputs": [
    {
     "data": {
      "text/plain": [
       "n    2117\n",
       "y     778\n",
       "b     176\n",
       "m       1\n",
       "Name: vis_clsf, dtype: int64"
      ]
     },
     "execution_count": 59,
     "metadata": {},
     "output_type": "execute_result"
    }
   ],
   "source": [
    "df_seps_clsf.vis_clsf.value_counts()"
   ]
  },
  {
   "cell_type": "code",
   "execution_count": 69,
   "id": "b4bc0952-890d-4327-b977-8191266ab82d",
   "metadata": {},
   "outputs": [],
   "source": [
    "res = ['n','y','b']\n",
    "color = ['black','blue','red']"
   ]
  },
  {
   "cell_type": "code",
   "execution_count": 70,
   "id": "8981d997-8b5b-4069-841f-2b135f68a21d",
   "metadata": {},
   "outputs": [
    {
     "data": {
      "image/png": "[encoded data removed]",
      "text/plain": [
       "<Figure size 800x800 with 1 Axes>"
      ]
     },
     "metadata": {},
     "output_type": "display_data"
    }
   ],
   "source": [
    "fig, ax = plt.subplots(ncols = 1, nrows = 1, figsize = (8,8))\n",
    "for counter, i in enumerate(res):\n",
    "    df_tmp = df_seps_clsf.query('vis_clsf == @i')\n",
    "    ax.hist(df_tmp.sep, bins = 20, histtype = 'step', color = color[counter])\n",
    "plt.show()"
   ]
  },
  {
   "cell_type": "code",
   "execution_count": 40,
   "id": "4743bcfa-5e14-421b-8655-124cffdca1d0",
   "metadata": {},
   "outputs": [
    {
     "data": {
      "text/plain": [
       "n    50\n",
       "b    19\n",
       "y    13\n",
       "Name: vis_clsf, dtype: int64"
      ]
     },
     "execution_count": 40,
     "metadata": {},
     "output_type": "execute_result"
    }
   ],
   "source": [
    "df_rem"
   ]
  },
  {
   "cell_type": "code",
   "execution_count": null,
   "id": "d2fa4d74-2fa4-4b12-9f4d-72a80b00e3f1",
   "metadata": {},
   "outputs": [],
   "source": []
  }
 ],
 "metadata": {
  "kernelspec": {
   "display_name": "Python 3 (ipykernel)",
   "language": "python",
   "name": "python3"
  },
  "language_info": {
   "codemirror_mode": {
    "name": "ipython",
    "version": 3
   },
   "file_extension": ".py",
   "mimetype": "text/x-python",
   "name": "python",
   "nbconvert_exporter": "python",
   "pygments_lexer": "ipython3",
   "version": "3.7.13"
  }
 },
 "nbformat": 4,
 "nbformat_minor": 5
}
