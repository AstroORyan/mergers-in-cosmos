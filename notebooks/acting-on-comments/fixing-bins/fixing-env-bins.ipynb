{
 "cells": [
  {
   "cell_type": "code",
   "execution_count": 1,
   "id": "2270d7e6-2186-4de6-91e7-750537150678",
   "metadata": {},
   "outputs": [],
   "source": [
    "import pandas as pd\n",
    "import seaborn as sns\n",
    "import matplotlib.pyplot as plt\n",
    "import numpy as np\n",
    "import glob\n",
    "import sys\n",
    "import cv2 as cv\n",
    "from tqdm import tqdm\n",
    "tqdm.pandas()\n",
    "from scipy import special\n",
    "from scipy.stats import kstwobign, anderson\n",
    "import scipy.stats.distributions as dist\n",
    "\n",
    "from astropy.cosmology import FlatLambdaCDM\n",
    "import astropy.units as u\n",
    "from astropy.io import fits\n",
    "from astropy.coordinates import SkyCoord\n",
    "import astropy.units as u\n",
    "\n",
    "plt.rcParams['font.size'] = 14"
   ]
  },
  {
   "cell_type": "code",
   "execution_count": 2,
   "id": "27a3dcce-d377-4f27-891f-37fb3898aff4",
   "metadata": {},
   "outputs": [],
   "source": [
    "fold = 'C:/Users/oryan/Documents/mergers-in-cosmos/'\n",
    "combine_fold = 'C:/Users/oryan/Documents/mergers-in-cosmos/cats-to-combine'\n",
    "data_folder = 'C:/Users/oryan/Documents/mergers-in-cosmos/back-to-basics-data'\n",
    "fig_folder = 'C:/Users/oryan/Documents/mergers-in-cosmos/paper-source/figures'\n",
    "res_folder = f'{fold}/results'\n",
    "cos_dat_fold = 'E:/cosmos-data'"
   ]
  },
  {
   "cell_type": "markdown",
   "id": "341a85af-af78-4e04-b63d-679370ecf074",
   "metadata": {},
   "source": [
    "### Importing my Data"
   ]
  },
  {
   "cell_type": "code",
   "execution_count": 3,
   "id": "ca3fdcbc-12be-4a13-9a7b-77c584fe7833",
   "metadata": {},
   "outputs": [
    {
     "name": "stderr",
     "output_type": "stream",
     "text": [
      "C:\\Users\\oryan\\AppData\\Local\\Continuum\\anaconda3\\lib\\site-packages\\IPython\\core\\interactiveshell.py:3457: DtypeWarning: Columns (1) have mixed types.Specify dtype option on import or set low_memory=False.\n",
      "  exec(code_obj, self.user_global_ns, self.user_ns)\n"
     ]
    }
   ],
   "source": [
    "df_cat = pd.read_csv(f'{combine_fold}/dor-all-restaged-full.csv', index_col = 0)"
   ]
  },
  {
   "cell_type": "code",
   "execution_count": 4,
   "id": "7bd73803-658d-4760-a11f-3455edbb73ac",
   "metadata": {},
   "outputs": [
    {
     "data": {
      "text/html": [
       "<div>\n",
       "<style scoped>\n",
       "    .dataframe tbody tr th:only-of-type {\n",
       "        vertical-align: middle;\n",
       "    }\n",
       "\n",
       "    .dataframe tbody tr th {\n",
       "        vertical-align: top;\n",
       "    }\n",
       "\n",
       "    .dataframe thead th {\n",
       "        text-align: right;\n",
       "    }\n",
       "</style>\n",
       "<table border=\"1\" class=\"dataframe\">\n",
       "  <thead>\n",
       "    <tr style=\"text-align: right;\">\n",
       "      <th></th>\n",
       "      <th>ORyanID_23</th>\n",
       "      <th>ID</th>\n",
       "      <th>category</th>\n",
       "      <th>ALPHA_J2000</th>\n",
       "      <th>DELTA_J2000</th>\n",
       "      <th>X_IMAGE</th>\n",
       "      <th>Y_IMAGE</th>\n",
       "      <th>ERRX2_IMAGE</th>\n",
       "      <th>ERRY2_IMAGE</th>\n",
       "      <th>ERRXY_IMAGE</th>\n",
       "      <th>...</th>\n",
       "      <th>ez_ssfr_p025</th>\n",
       "      <th>ez_ssfr_p160</th>\n",
       "      <th>ez_ssfr_p500</th>\n",
       "      <th>ez_ssfr_p840</th>\n",
       "      <th>ez_ssfr_p975</th>\n",
       "      <th>ez_Av_p025</th>\n",
       "      <th>ez_Av_p160</th>\n",
       "      <th>ez_Av_p500</th>\n",
       "      <th>ez_Av_p840</th>\n",
       "      <th>ez_Av_p975</th>\n",
       "    </tr>\n",
       "  </thead>\n",
       "  <tbody>\n",
       "    <tr>\n",
       "      <th>0</th>\n",
       "      <td>4000705532455</td>\n",
       "      <td>816891</td>\n",
       "      <td>stage4</td>\n",
       "      <td>150.679846</td>\n",
       "      <td>2.196543</td>\n",
       "      <td>9200.399414</td>\n",
       "      <td>21737.232422</td>\n",
       "      <td>0.000052</td>\n",
       "      <td>0.000059</td>\n",
       "      <td>-0.000010</td>\n",
       "      <td>...</td>\n",
       "      <td>-8.931825</td>\n",
       "      <td>-8.911355</td>\n",
       "      <td>-8.899668</td>\n",
       "      <td>-8.883307</td>\n",
       "      <td>-8.872990</td>\n",
       "      <td>0.529107</td>\n",
       "      <td>0.560142</td>\n",
       "      <td>0.599624</td>\n",
       "      <td>0.630920</td>\n",
       "      <td>0.652330</td>\n",
       "    </tr>\n",
       "    <tr>\n",
       "      <th>1</th>\n",
       "      <td>4000705533383</td>\n",
       "      <td>860686</td>\n",
       "      <td>stage3</td>\n",
       "      <td>150.644522</td>\n",
       "      <td>2.237226</td>\n",
       "      <td>10047.978516</td>\n",
       "      <td>22713.351562</td>\n",
       "      <td>0.000051</td>\n",
       "      <td>0.000046</td>\n",
       "      <td>0.000002</td>\n",
       "      <td>...</td>\n",
       "      <td>-9.314209</td>\n",
       "      <td>-9.106611</td>\n",
       "      <td>-8.941274</td>\n",
       "      <td>-8.713107</td>\n",
       "      <td>-8.541205</td>\n",
       "      <td>0.341270</td>\n",
       "      <td>0.545498</td>\n",
       "      <td>0.732327</td>\n",
       "      <td>0.906665</td>\n",
       "      <td>1.020098</td>\n",
       "    </tr>\n",
       "    <tr>\n",
       "      <th>2</th>\n",
       "      <td>4000705539941</td>\n",
       "      <td>1301188</td>\n",
       "      <td>stage2</td>\n",
       "      <td>149.702462</td>\n",
       "      <td>2.654895</td>\n",
       "      <td>32637.949219</td>\n",
       "      <td>32737.013672</td>\n",
       "      <td>0.000064</td>\n",
       "      <td>0.000104</td>\n",
       "      <td>-0.000003</td>\n",
       "      <td>...</td>\n",
       "      <td>-9.794128</td>\n",
       "      <td>-9.784252</td>\n",
       "      <td>-9.766013</td>\n",
       "      <td>-9.743796</td>\n",
       "      <td>-9.727879</td>\n",
       "      <td>0.018737</td>\n",
       "      <td>0.018737</td>\n",
       "      <td>0.018737</td>\n",
       "      <td>0.018737</td>\n",
       "      <td>0.018737</td>\n",
       "    </tr>\n",
       "    <tr>\n",
       "      <th>3</th>\n",
       "      <td>4000705540034</td>\n",
       "      <td>1304538</td>\n",
       "      <td>stage3</td>\n",
       "      <td>149.726828</td>\n",
       "      <td>2.658172</td>\n",
       "      <td>32053.712891</td>\n",
       "      <td>32815.468750</td>\n",
       "      <td>0.000071</td>\n",
       "      <td>0.000086</td>\n",
       "      <td>-0.000006</td>\n",
       "      <td>...</td>\n",
       "      <td>-9.480532</td>\n",
       "      <td>-9.443615</td>\n",
       "      <td>-9.402433</td>\n",
       "      <td>-9.352081</td>\n",
       "      <td>-9.325659</td>\n",
       "      <td>0.302629</td>\n",
       "      <td>0.376027</td>\n",
       "      <td>0.440394</td>\n",
       "      <td>0.508153</td>\n",
       "      <td>0.567727</td>\n",
       "    </tr>\n",
       "    <tr>\n",
       "      <th>4</th>\n",
       "      <td>4000705540064</td>\n",
       "      <td>1310001</td>\n",
       "      <td>stage3</td>\n",
       "      <td>149.701230</td>\n",
       "      <td>2.660343</td>\n",
       "      <td>32667.441406</td>\n",
       "      <td>32867.789062</td>\n",
       "      <td>0.000026</td>\n",
       "      <td>0.000020</td>\n",
       "      <td>-0.000010</td>\n",
       "      <td>...</td>\n",
       "      <td>-9.882174</td>\n",
       "      <td>-9.855921</td>\n",
       "      <td>-9.816085</td>\n",
       "      <td>-9.697225</td>\n",
       "      <td>-9.573506</td>\n",
       "      <td>0.455258</td>\n",
       "      <td>0.482555</td>\n",
       "      <td>0.522239</td>\n",
       "      <td>0.600383</td>\n",
       "      <td>0.660279</td>\n",
       "    </tr>\n",
       "  </tbody>\n",
       "</table>\n",
       "<p>5 rows × 756 columns</p>\n",
       "</div>"
      ],
      "text/plain": [
       "      ORyanID_23       ID category  ALPHA_J2000  DELTA_J2000       X_IMAGE  \\\n",
       "0  4000705532455   816891   stage4   150.679846     2.196543   9200.399414   \n",
       "1  4000705533383   860686   stage3   150.644522     2.237226  10047.978516   \n",
       "2  4000705539941  1301188   stage2   149.702462     2.654895  32637.949219   \n",
       "3  4000705540034  1304538   stage3   149.726828     2.658172  32053.712891   \n",
       "4  4000705540064  1310001   stage3   149.701230     2.660343  32667.441406   \n",
       "\n",
       "        Y_IMAGE  ERRX2_IMAGE  ERRY2_IMAGE  ERRXY_IMAGE  ...  ez_ssfr_p025  \\\n",
       "0  21737.232422     0.000052     0.000059    -0.000010  ...     -8.931825   \n",
       "1  22713.351562     0.000051     0.000046     0.000002  ...     -9.314209   \n",
       "2  32737.013672     0.000064     0.000104    -0.000003  ...     -9.794128   \n",
       "3  32815.468750     0.000071     0.000086    -0.000006  ...     -9.480532   \n",
       "4  32867.789062     0.000026     0.000020    -0.000010  ...     -9.882174   \n",
       "\n",
       "   ez_ssfr_p160  ez_ssfr_p500  ez_ssfr_p840  ez_ssfr_p975  ez_Av_p025  \\\n",
       "0     -8.911355     -8.899668     -8.883307     -8.872990    0.529107   \n",
       "1     -9.106611     -8.941274     -8.713107     -8.541205    0.341270   \n",
       "2     -9.784252     -9.766013     -9.743796     -9.727879    0.018737   \n",
       "3     -9.443615     -9.402433     -9.352081     -9.325659    0.302629   \n",
       "4     -9.855921     -9.816085     -9.697225     -9.573506    0.455258   \n",
       "\n",
       "   ez_Av_p160  ez_Av_p500  ez_Av_p840  ez_Av_p975  \n",
       "0    0.560142    0.599624    0.630920    0.652330  \n",
       "1    0.545498    0.732327    0.906665    1.020098  \n",
       "2    0.018737    0.018737    0.018737    0.018737  \n",
       "3    0.376027    0.440394    0.508153    0.567727  \n",
       "4    0.482555    0.522239    0.600383    0.660279  \n",
       "\n",
       "[5 rows x 756 columns]"
      ]
     },
     "execution_count": 4,
     "metadata": {},
     "output_type": "execute_result"
    }
   ],
   "source": [
    "df_cat.head()"
   ]
  },
  {
   "cell_type": "code",
   "execution_count": 5,
   "id": "c28ca1b7-d278-429d-9aa9-2893ac72d6bc",
   "metadata": {},
   "outputs": [],
   "source": [
    "df_red_tmp = df_cat.query('ez_sfr < 10')\n",
    "df_red = df_red_tmp.query('lp_mass_best >= 9.25')"
   ]
  },
  {
   "cell_type": "code",
   "execution_count": 6,
   "id": "a1d9bad3-95b3-4b91-b0a1-07dbca8fb74b",
   "metadata": {},
   "outputs": [
    {
     "data": {
      "text/plain": [
       "3404"
      ]
     },
     "execution_count": 6,
     "metadata": {},
     "output_type": "execute_result"
    }
   ],
   "source": [
    "len(df_red)"
   ]
  },
  {
   "cell_type": "code",
   "execution_count": 7,
   "id": "948e056f-206e-45a9-b6b3-e4bf26da4f1a",
   "metadata": {},
   "outputs": [],
   "source": [
    "def get_redshift(ez_z, lp_z):\n",
    "    if np.isnan(ez_z):\n",
    "        if not np.isnan(lp_z):\n",
    "            return lp_z\n",
    "        else:\n",
    "            return np.nan\n",
    "    \n",
    "    if np.isnan(lp_z):\n",
    "        if not np.isnan(ez_z):\n",
    "            return ez_z\n",
    "        else:\n",
    "            return np.nan\n",
    "    \n",
    "    if lp_z < ez_z:\n",
    "        return lp_z\n",
    "    elif ez_z <= lp_z:\n",
    "        return ez_z\n",
    "    else:\n",
    "        return 'what'"
   ]
  },
  {
   "cell_type": "code",
   "execution_count": 44,
   "id": "736957f4-a483-48e8-9a57-b0c51d4572e7",
   "metadata": {},
   "outputs": [],
   "source": [
    "df_redshifts = (\n",
    "    df_red\n",
    "    .assign(redshift = df_red.apply(lambda row: get_redshift(row.ez_z_phot,row.lp_zBEST), axis = 1))#\n",
    "    .query('redshift <= 1.2')\n",
    ")"
   ]
  },
  {
   "cell_type": "code",
   "execution_count": 45,
   "id": "d7609067-bb2e-42b4-978b-219992ac634a",
   "metadata": {},
   "outputs": [],
   "source": [
    "df_IDS = (\n",
    "    df_redshifts[['ID', 'ID_COSMOS2015']]\n",
    ")"
   ]
  },
  {
   "cell_type": "markdown",
   "id": "9b12f5c1-c26a-4d7e-ada2-9b61dd785351",
   "metadata": {},
   "source": [
    "### Importing Dervish Data"
   ]
  },
  {
   "cell_type": "code",
   "execution_count": 46,
   "id": "25809cbd-9fa0-4c65-bfa1-c51ceccc37e3",
   "metadata": {},
   "outputs": [],
   "source": [
    "environ_data = pd.read_csv(f'{cos_dat_fold}/darvish17-environ.csv')"
   ]
  },
  {
   "cell_type": "code",
   "execution_count": 47,
   "id": "ffc205c7-97b1-44d6-bb19-b419cf14c697",
   "metadata": {},
   "outputs": [
    {
     "data": {
      "text/plain": [
       "45421"
      ]
     },
     "execution_count": 47,
     "metadata": {},
     "output_type": "execute_result"
    }
   ],
   "source": [
    "len(environ_data)"
   ]
  },
  {
   "cell_type": "code",
   "execution_count": 48,
   "id": "6be70005-e6b0-49a8-92fd-f18953bb8177",
   "metadata": {},
   "outputs": [],
   "source": [
    "environ_data_red = environ_data.query('flag == 0').rename(columns = {'ID' : 'ID_COSMOS2015'})"
   ]
  },
  {
   "cell_type": "code",
   "execution_count": 49,
   "id": "b79eb69a-48fb-4ba7-b55a-fdb57780a049",
   "metadata": {},
   "outputs": [
    {
     "data": {
      "text/plain": [
       "38865"
      ]
     },
     "execution_count": 49,
     "metadata": {},
     "output_type": "execute_result"
    }
   ],
   "source": [
    "len(environ_data_red)"
   ]
  },
  {
   "cell_type": "code",
   "execution_count": 50,
   "id": "ce28412d-d1c7-424e-a71b-e965334778cd",
   "metadata": {},
   "outputs": [],
   "source": [
    "# df_noextra = (\n",
    "#     df_red\n",
    "#     .assign(extra_cont = df_red.ORyanID_23.apply(lambda x: 'y' if type(x) == str and 'extra' in x else 'n'))\n",
    "#     .query('extra_cont == \"n\"')\n",
    "#     .drop(columns = ['extra_cont'])\n",
    "# )"
   ]
  },
  {
   "cell_type": "code",
   "execution_count": 51,
   "id": "a53974da-0bea-4040-8727-4bbb9b54a17d",
   "metadata": {},
   "outputs": [],
   "source": [
    "# df_IDS = (\n",
    "#     df_noextra[['ID', 'ID_COSMOS2015']]\n",
    "# )"
   ]
  },
  {
   "cell_type": "code",
   "execution_count": 52,
   "id": "fdb8b359-5505-46d1-b0ec-bba063157617",
   "metadata": {},
   "outputs": [],
   "source": [
    "df_environ_match = (\n",
    "    df_IDS.merge(environ_data_red, on = 'ID_COSMOS2015', how = 'left')\n",
    ")"
   ]
  },
  {
   "cell_type": "code",
   "execution_count": 53,
   "id": "75791f95-4909-4b5c-a23b-6509404fcacb",
   "metadata": {
    "tags": []
   },
   "outputs": [
    {
     "data": {
      "text/html": [
       "<div>\n",
       "<style scoped>\n",
       "    .dataframe tbody tr th:only-of-type {\n",
       "        vertical-align: middle;\n",
       "    }\n",
       "\n",
       "    .dataframe tbody tr th {\n",
       "        vertical-align: top;\n",
       "    }\n",
       "\n",
       "    .dataframe thead th {\n",
       "        text-align: right;\n",
       "    }\n",
       "</style>\n",
       "<table border=\"1\" class=\"dataframe\">\n",
       "  <thead>\n",
       "    <tr style=\"text-align: right;\">\n",
       "      <th></th>\n",
       "      <th>ID</th>\n",
       "      <th>density</th>\n",
       "      <th>environment</th>\n",
       "    </tr>\n",
       "  </thead>\n",
       "  <tbody>\n",
       "    <tr>\n",
       "      <th>1</th>\n",
       "      <td>860686</td>\n",
       "      <td>4.23</td>\n",
       "      <td>field</td>\n",
       "    </tr>\n",
       "    <tr>\n",
       "      <th>2</th>\n",
       "      <td>1304538</td>\n",
       "      <td>0.96</td>\n",
       "      <td>field</td>\n",
       "    </tr>\n",
       "    <tr>\n",
       "      <th>3</th>\n",
       "      <td>1310001</td>\n",
       "      <td>3.08</td>\n",
       "      <td>field</td>\n",
       "    </tr>\n",
       "    <tr>\n",
       "      <th>4</th>\n",
       "      <td>1308927</td>\n",
       "      <td>2.78</td>\n",
       "      <td>field</td>\n",
       "    </tr>\n",
       "    <tr>\n",
       "      <th>5</th>\n",
       "      <td>1311422</td>\n",
       "      <td>2.26</td>\n",
       "      <td>filament</td>\n",
       "    </tr>\n",
       "    <tr>\n",
       "      <th>...</th>\n",
       "      <td>...</td>\n",
       "      <td>...</td>\n",
       "      <td>...</td>\n",
       "    </tr>\n",
       "    <tr>\n",
       "      <th>3321</th>\n",
       "      <td>1407959</td>\n",
       "      <td>29.56</td>\n",
       "      <td>cluster</td>\n",
       "    </tr>\n",
       "    <tr>\n",
       "      <th>3322</th>\n",
       "      <td>1408623</td>\n",
       "      <td>6.72</td>\n",
       "      <td>filament</td>\n",
       "    </tr>\n",
       "    <tr>\n",
       "      <th>3323</th>\n",
       "      <td>1409169</td>\n",
       "      <td>1.12</td>\n",
       "      <td>field</td>\n",
       "    </tr>\n",
       "    <tr>\n",
       "      <th>3324</th>\n",
       "      <td>1410323</td>\n",
       "      <td>1.47</td>\n",
       "      <td>filament</td>\n",
       "    </tr>\n",
       "    <tr>\n",
       "      <th>3326</th>\n",
       "      <td>1415277</td>\n",
       "      <td>3.50</td>\n",
       "      <td>filament</td>\n",
       "    </tr>\n",
       "  </tbody>\n",
       "</table>\n",
       "<p>2214 rows × 3 columns</p>\n",
       "</div>"
      ],
      "text/plain": [
       "           ID  density environment\n",
       "1      860686     4.23       field\n",
       "2     1304538     0.96       field\n",
       "3     1310001     3.08       field\n",
       "4     1308927     2.78       field\n",
       "5     1311422     2.26    filament\n",
       "...       ...      ...         ...\n",
       "3321  1407959    29.56     cluster\n",
       "3322  1408623     6.72    filament\n",
       "3323  1409169     1.12       field\n",
       "3324  1410323     1.47    filament\n",
       "3326  1415277     3.50    filament\n",
       "\n",
       "[2214 rows x 3 columns]"
      ]
     },
     "execution_count": 53,
     "metadata": {},
     "output_type": "execute_result"
    }
   ],
   "source": [
    "matched_red = df_environ_match[['ID', 'density', 'environment']].dropna()\n",
    "matched_red"
   ]
  },
  {
   "cell_type": "code",
   "execution_count": 32,
   "id": "feeada53-f856-486b-9e5f-e358bdae84ed",
   "metadata": {},
   "outputs": [
    {
     "data": {
      "text/plain": [
       "0.22"
      ]
     },
     "execution_count": 32,
     "metadata": {},
     "output_type": "execute_result"
    }
   ],
   "source": [
    "matched_red.density.min()"
   ]
  },
  {
   "cell_type": "code",
   "execution_count": 33,
   "id": "ae48a36e-8845-45a2-bb31-457555950777",
   "metadata": {},
   "outputs": [
    {
     "data": {
      "text/plain": [
       "89.07"
      ]
     },
     "execution_count": 33,
     "metadata": {},
     "output_type": "execute_result"
    }
   ],
   "source": [
    "matched_red.density.max()"
   ]
  },
  {
   "cell_type": "code",
   "execution_count": 34,
   "id": "35d1bdde-eefd-4da7-866e-b47d447336d8",
   "metadata": {},
   "outputs": [],
   "source": [
    "log_matched_red = (\n",
    "    matched_red\n",
    "    .assign(log_density = matched_red.density.apply(lambda x: np.log10(x)))\n",
    ")"
   ]
  },
  {
   "cell_type": "code",
   "execution_count": 20,
   "id": "770e180f-3497-4596-9dd5-5ba51222d573",
   "metadata": {},
   "outputs": [
    {
     "data": {
      "text/plain": [
       "-0.6575773191777937"
      ]
     },
     "execution_count": 20,
     "metadata": {},
     "output_type": "execute_result"
    }
   ],
   "source": [
    "log_matched_red.log_density.min()"
   ]
  },
  {
   "cell_type": "code",
   "execution_count": 21,
   "id": "bc4f17f5-1432-4c42-87c1-3085bf694158",
   "metadata": {},
   "outputs": [
    {
     "data": {
      "text/plain": [
       "1.949731452315707"
      ]
     },
     "execution_count": 21,
     "metadata": {},
     "output_type": "execute_result"
    }
   ],
   "source": [
    "log_matched_red.log_density.max()"
   ]
  },
  {
   "cell_type": "markdown",
   "id": "546c513b-31de-4bfd-bd20-2e355dcbd70d",
   "metadata": {},
   "source": [
    "### Diagnostics of Environment Measure"
   ]
  },
  {
   "cell_type": "code",
   "execution_count": 21,
   "id": "8dd2a53c-0298-4a9e-973a-bcbe8d751614",
   "metadata": {},
   "outputs": [
    {
     "data": {
      "image/png": "[encoded data removed]",
      "text/plain": [
       "<Figure size 800x800 with 1 Axes>"
      ]
     },
     "metadata": {},
     "output_type": "display_data"
    }
   ],
   "source": [
    "plt.figure(figsize = (8,8))\n",
    "plt.hist(np.array(log_matched_red.log_density), bins = 20, histtype='step', color='black')\n",
    "plt.xlabel('Log($\\Sigma$ (Mpc$^{-2}$))')\n",
    "plt.show()"
   ]
  },
  {
   "cell_type": "code",
   "execution_count": 22,
   "id": "d048ca51-c3d5-4776-8d36-3f72c973f1ac",
   "metadata": {},
   "outputs": [],
   "source": [
    "df_cat = df_red[['ID', 'category', 'lp_mass_best', 'ez_sfr']]"
   ]
  },
  {
   "cell_type": "code",
   "execution_count": 23,
   "id": "d7b6bb4a-fe36-43c3-94e0-800004f2cd73",
   "metadata": {},
   "outputs": [
    {
     "data": {
      "text/html": [
       "<div>\n",
       "<style scoped>\n",
       "    .dataframe tbody tr th:only-of-type {\n",
       "        vertical-align: middle;\n",
       "    }\n",
       "\n",
       "    .dataframe tbody tr th {\n",
       "        vertical-align: top;\n",
       "    }\n",
       "\n",
       "    .dataframe thead th {\n",
       "        text-align: right;\n",
       "    }\n",
       "</style>\n",
       "<table border=\"1\" class=\"dataframe\">\n",
       "  <thead>\n",
       "    <tr style=\"text-align: right;\">\n",
       "      <th></th>\n",
       "      <th>ID</th>\n",
       "      <th>density</th>\n",
       "      <th>environment</th>\n",
       "      <th>log_density</th>\n",
       "      <th>category</th>\n",
       "      <th>lp_mass_best</th>\n",
       "      <th>ez_sfr</th>\n",
       "    </tr>\n",
       "  </thead>\n",
       "  <tbody>\n",
       "    <tr>\n",
       "      <th>0</th>\n",
       "      <td>860686</td>\n",
       "      <td>4.23</td>\n",
       "      <td>field</td>\n",
       "      <td>0.626340</td>\n",
       "      <td>stage3</td>\n",
       "      <td>10.44862</td>\n",
       "      <td>1.609304</td>\n",
       "    </tr>\n",
       "    <tr>\n",
       "      <th>1</th>\n",
       "      <td>1304538</td>\n",
       "      <td>0.96</td>\n",
       "      <td>field</td>\n",
       "      <td>-0.017729</td>\n",
       "      <td>stage3</td>\n",
       "      <td>9.96798</td>\n",
       "      <td>1.101499</td>\n",
       "    </tr>\n",
       "    <tr>\n",
       "      <th>2</th>\n",
       "      <td>1310001</td>\n",
       "      <td>3.08</td>\n",
       "      <td>field</td>\n",
       "      <td>0.488551</td>\n",
       "      <td>stage3</td>\n",
       "      <td>10.41827</td>\n",
       "      <td>1.083541</td>\n",
       "    </tr>\n",
       "    <tr>\n",
       "      <th>3</th>\n",
       "      <td>1308927</td>\n",
       "      <td>2.78</td>\n",
       "      <td>field</td>\n",
       "      <td>0.444045</td>\n",
       "      <td>stage3</td>\n",
       "      <td>10.03523</td>\n",
       "      <td>1.198906</td>\n",
       "    </tr>\n",
       "    <tr>\n",
       "      <th>4</th>\n",
       "      <td>1311422</td>\n",
       "      <td>2.26</td>\n",
       "      <td>filament</td>\n",
       "      <td>0.354108</td>\n",
       "      <td>stage3</td>\n",
       "      <td>9.64588</td>\n",
       "      <td>0.392114</td>\n",
       "    </tr>\n",
       "    <tr>\n",
       "      <th>...</th>\n",
       "      <td>...</td>\n",
       "      <td>...</td>\n",
       "      <td>...</td>\n",
       "      <td>...</td>\n",
       "      <td>...</td>\n",
       "      <td>...</td>\n",
       "      <td>...</td>\n",
       "    </tr>\n",
       "    <tr>\n",
       "      <th>1663</th>\n",
       "      <td>302055</td>\n",
       "      <td>2.60</td>\n",
       "      <td>field</td>\n",
       "      <td>0.414973</td>\n",
       "      <td>stage2</td>\n",
       "      <td>10.04962</td>\n",
       "      <td>0.907969</td>\n",
       "    </tr>\n",
       "    <tr>\n",
       "      <th>1664</th>\n",
       "      <td>715824</td>\n",
       "      <td>3.46</td>\n",
       "      <td>filament</td>\n",
       "      <td>0.539076</td>\n",
       "      <td>stage1</td>\n",
       "      <td>10.58314</td>\n",
       "      <td>1.029518</td>\n",
       "    </tr>\n",
       "    <tr>\n",
       "      <th>1665</th>\n",
       "      <td>1157587</td>\n",
       "      <td>4.71</td>\n",
       "      <td>filament</td>\n",
       "      <td>0.673021</td>\n",
       "      <td>stage3</td>\n",
       "      <td>10.56569</td>\n",
       "      <td>0.131293</td>\n",
       "    </tr>\n",
       "    <tr>\n",
       "      <th>1666</th>\n",
       "      <td>1203157</td>\n",
       "      <td>4.01</td>\n",
       "      <td>field</td>\n",
       "      <td>0.603144</td>\n",
       "      <td>stage3</td>\n",
       "      <td>10.25633</td>\n",
       "      <td>0.975221</td>\n",
       "    </tr>\n",
       "    <tr>\n",
       "      <th>1667</th>\n",
       "      <td>1293175</td>\n",
       "      <td>3.14</td>\n",
       "      <td>filament</td>\n",
       "      <td>0.496930</td>\n",
       "      <td>stage1</td>\n",
       "      <td>9.82151</td>\n",
       "      <td>0.712900</td>\n",
       "    </tr>\n",
       "  </tbody>\n",
       "</table>\n",
       "<p>1668 rows × 7 columns</p>\n",
       "</div>"
      ],
      "text/plain": [
       "           ID  density environment  log_density category  lp_mass_best  \\\n",
       "0      860686     4.23       field     0.626340   stage3      10.44862   \n",
       "1     1304538     0.96       field    -0.017729   stage3       9.96798   \n",
       "2     1310001     3.08       field     0.488551   stage3      10.41827   \n",
       "3     1308927     2.78       field     0.444045   stage3      10.03523   \n",
       "4     1311422     2.26    filament     0.354108   stage3       9.64588   \n",
       "...       ...      ...         ...          ...      ...           ...   \n",
       "1663   302055     2.60       field     0.414973   stage2      10.04962   \n",
       "1664   715824     3.46    filament     0.539076   stage1      10.58314   \n",
       "1665  1157587     4.71    filament     0.673021   stage3      10.56569   \n",
       "1666  1203157     4.01       field     0.603144   stage3      10.25633   \n",
       "1667  1293175     3.14    filament     0.496930   stage1       9.82151   \n",
       "\n",
       "        ez_sfr  \n",
       "0     1.609304  \n",
       "1     1.101499  \n",
       "2     1.083541  \n",
       "3     1.198906  \n",
       "4     0.392114  \n",
       "...        ...  \n",
       "1663  0.907969  \n",
       "1664  1.029518  \n",
       "1665  0.131293  \n",
       "1666  0.975221  \n",
       "1667  0.712900  \n",
       "\n",
       "[1668 rows x 7 columns]"
      ]
     },
     "execution_count": 23,
     "metadata": {},
     "output_type": "execute_result"
    }
   ],
   "source": [
    "df_environ_merg = log_matched_red.merge(df_cat, on = 'ID', how = 'left')\n",
    "df_environ_merg"
   ]
  },
  {
   "cell_type": "code",
   "execution_count": 24,
   "id": "6c348f4e-f533-4ad6-9c3f-189618fb2f30",
   "metadata": {},
   "outputs": [
    {
     "data": {
      "text/plain": [
       "stage3    679\n",
       "stage2    422\n",
       "stage4    330\n",
       "stage1    237\n",
       "Name: category, dtype: int64"
      ]
     },
     "execution_count": 24,
     "metadata": {},
     "output_type": "execute_result"
    }
   ],
   "source": [
    "df_environ_merg.category.value_counts()"
   ]
  },
  {
   "cell_type": "code",
   "execution_count": 25,
   "id": "868430ff-00a6-4a72-9b9b-a4f11eefc004",
   "metadata": {},
   "outputs": [
    {
     "data": {
      "image/png": "[encoded data removed]",
      "text/plain": [
       "<Figure size 800x800 with 1 Axes>"
      ]
     },
     "metadata": {},
     "output_type": "display_data"
    }
   ],
   "source": [
    "counter = 1\n",
    "colours = ['black','blue','orange', 'brown']\n",
    "linestyles = ['solid', 'dotted','dashed','dashdot']\n",
    "fig, ax = plt.subplots(figsize = (8,8))\n",
    "_, thebins = np.histogram(df_environ_merg.query('category == \"stage1\"').log_density, bins = 10)\n",
    "for i in range(4):\n",
    "    stage = f'stage{counter}'\n",
    "    densities = np.array(df_environ_merg.query('category == @stage').log_density)\n",
    "\n",
    "    ax.hist(densities, bins = thebins, histtype='step', color=colours[i], linestyle=linestyles[i], density = True)\n",
    "    ax.set_xlim([-1.0, 2.0])\n",
    "\n",
    "    counter += 1\n",
    "\n",
    "ax.legend(['Separated','Pericentre','Apocentre','Merging'])\n",
    "fig.tight_layout()\n",
    "fig.text(0.5, 0.01, '$\\log$ $\\Sigma$ (Mpc$^{-2}$)', ha='center', va='center', fontsize = 18)\n",
    "fig.text(0.01, 0.5, 'N Counts', ha='center', va='center', rotation='vertical', fontsize = 18)\n",
    "# fig.savefig(f'{fig_folder}/density-stage.pdf', bbox_inches = 'tight')\n",
    "plt.show()"
   ]
  },
  {
   "cell_type": "code",
   "execution_count": 26,
   "id": "2c165af2-55ea-46c7-a195-f0f0082858ee",
   "metadata": {},
   "outputs": [
    {
     "name": "stdout",
     "output_type": "stream",
     "text": [
      "0.1308016877637131\n",
      "0.0995260663507109\n",
      "0.11782032400589101\n",
      "0.1\n"
     ]
    },
    {
     "data": {
      "image/png": "[encoded data removed]",
      "text/plain": [
       "<Figure size 800x800 with 4 Axes>"
      ]
     },
     "metadata": {},
     "output_type": "display_data"
    }
   ],
   "source": [
    "counter = 1\n",
    "stages = ['Separated','Pericentre','Apocentre','Merging']\n",
    "environments = ['Field', 'Filament', 'Cluster']\n",
    "fig, ax = plt.subplots(nrows = 2, ncols = 2, figsize = (8,8))\n",
    "for i in range(2):\n",
    "    for j in range(2):\n",
    "        stage = f'stage{counter}'\n",
    "        df_stage = df_environ_merg.query('category == @stage')\n",
    "        values = [df_stage.environment.value_counts().field / len(df_stage), df_stage.environment.value_counts().filament / len(df_stage), df_stage.environment.value_counts().cluster / len(df_stage)] \n",
    "        \n",
    "        print(df_stage.environment.value_counts().cluster / len(df_stage))\n",
    "        \n",
    "        ax[i,j].bar(environments, values, fill=False)\n",
    "        ax[i,j].set_title(stages[counter-1])\n",
    "        \n",
    "        counter += 1\n",
    "        \n",
    "fig.text(-0.01, 0.40, 'Fraction in Stage', rotation = 'vertical', fontsize = 18)\n",
    "fig.tight_layout()\n",
    "fig.savefig(f'{fig_folder}/environment-fractions.pdf', dpi = 500, bbox_inches = 'tight')\n",
    "plt.show()"
   ]
  },
  {
   "cell_type": "code",
   "execution_count": 27,
   "id": "f87713d6-81c5-4247-a88f-4464065ce275",
   "metadata": {},
   "outputs": [],
   "source": [
    "def weight_dist(arrs, bins=None, return_bins=True, renorm=False, compare = 3):\n",
    "    # this will take 2 arrays of values from 2 different samples\n",
    "    # e.g. redshift distributions from 2 samples\n",
    "    # and return weights for each value such that the weighted\n",
    "    # distributions of each sample will match.\n",
    "\n",
    "    # note the bins need to be the same for both datasets\n",
    "    # so either supply 1 number or 1 array of bin edges\n",
    "    # also if you have fully specified the bins you don't need them returned\n",
    "    # but if we've had to figure them out, you do need them returned\n",
    "    # if you want to make sure you aren't under-weighting (e.g. if a whole dataset is\n",
    "    # much larger than the other so you might always be able select >1 object\n",
    "    # in dataset 1 for each object in dataset 2) then you can re-normalise to make\n",
    "    # sure the max weight of both datasets is 1\n",
    "    # Note, if the distributions cross this won't make a difference\n",
    "\n",
    "    # weight arrays\n",
    "    # w1 = np.zeros_like(arr1)\n",
    "    # w2 = np.zeros_like(arr2)\n",
    "    \n",
    "    if len(arrs) < 4:\n",
    "        print('This has been set up to handle 4 distributions!')\n",
    "        print('You have not provided four distributions.')\n",
    "        sys.exit()\n",
    "    \n",
    "    ws_list = []\n",
    "    for i in arrs:\n",
    "        ws_list.append(np.zeros_like(i))\n",
    "\n",
    "    hists = []\n",
    "    _, thebins = np.histogram(arrs[3], bins=bins)  # returns (counts_arr, bins_arr)\n",
    "    # use the bins from hist1 to make hist2\n",
    "    # note: for these purposes, any values of hist2 outside the minmax range of hist1 should have 0 weight\n",
    "    # which is taken care of by the zeros_like initialisation of w1 and w2 above\n",
    "    # so it's fine for them to be excluded below\n",
    "    # hists.append(hist1)\n",
    "    for i in arrs:\n",
    "        hist_tmp, _ = np.histogram(i, bins=thebins)\n",
    "        hists.append(hist_tmp)\n",
    "\n",
    "    # now step through the bins and assign weights\n",
    "    for i_bin in range(len(thebins)-1):\n",
    "        # zero-\"index\"ing these because they're indices and not values\n",
    "        # and if I get them mixed up below I want this to error that there's no b2 or whatever\n",
    "        b0 = thebins[i_bin]\n",
    "        b1 = thebins[i_bin+1]\n",
    "\n",
    "        count1 = hists[0][i_bin]\n",
    "        count2 = hists[1][i_bin]\n",
    "        count3 = hists[2][i_bin]\n",
    "        count4 = hists[3][i_bin]\n",
    "\n",
    "        # don't miss any values and don't double-count\n",
    "        if i_bin == 0:\n",
    "            in_bin1 = (arrs[0] >= b0) & (arrs[0] <= b1)\n",
    "            in_bin2 = (arrs[1] >= b0) & (arrs[1] <= b1)\n",
    "            in_bin3 = (arrs[2] >= b0) & (arrs[2] <= b1)\n",
    "            in_bin4 = (arrs[3] >= b0) & (arrs[3] <= b1)\n",
    "        else: \n",
    "            in_bin1 = (arrs[0] >  b0) & (arrs[0] <= b1)\n",
    "            in_bin2 = (arrs[1] >  b0) & (arrs[1] <= b1)\n",
    "            in_bin3 = (arrs[2] >  b0) & (arrs[2] <= b1)\n",
    "            in_bin4 = (arrs[3] >  b0) & (arrs[3] <= b1)\n",
    "            \n",
    "        # don't divide by 0 in the rest of the if/else\n",
    "        if (count1 == 0) | (count2 == 0) | (count3 == 0) | (count4 == 0):\n",
    "            ws_list[0][in_bin1] = 0.0\n",
    "            ws_list[1][in_bin2] = 0.0\n",
    "            ws_list[2][in_bin3] = 0.0\n",
    "            ws_list[3][in_bin4] = 0.0\n",
    "\n",
    "        elif count1 <= count2 and count1 <= count3 and count1 <= count4:\n",
    "            # weight count2 values so the sum of wt2 in this bin equals count1\n",
    "            # wt_fac will always be < 1\n",
    "            ws_list[0][in_bin1] = 1.0\n",
    "            ws_list[1][in_bin2] = float(count1)/float(count2)\n",
    "            ws_list[2][in_bin3] = float(count1)/float(count3)\n",
    "            ws_list[3][in_bin4] = float(count1)/float(count4)\n",
    "            \n",
    "        elif count2 <= count1 and count2 <= count3 and count2 <= count4:\n",
    "            ws_list[0][in_bin1] = float(count2)/float(count1)\n",
    "            ws_list[1][in_bin2] = 1.0\n",
    "            ws_list[2][in_bin3] = float(count2)/float(count3)\n",
    "            ws_list[3][in_bin4] = float(count2)/float(count4)\n",
    "            \n",
    "        elif count3 <= count1 and count3 <= count2 and count3 <= count4:\n",
    "            ws_list[0][in_bin1] = float(count3)/float(count1)\n",
    "            ws_list[1][in_bin2] = float(count3)/float(count2)\n",
    "            ws_list[2][in_bin3] = 1.0\n",
    "            ws_list[3][in_bin4] = float(count3)/float(count4)\n",
    "            \n",
    "        elif count4 <= count1 and count4 <= count2 and count4 <= count3:\n",
    "            ws_list[0][in_bin1] = float(count4)/float(count1)\n",
    "            ws_list[1][in_bin2] = float(count4)/float(count2)\n",
    "            ws_list[2][in_bin3] = float(count4)/float(count3)\n",
    "            ws_list[3][in_bin4] = 1.0\n",
    "                        \n",
    "        else:\n",
    "            print('What the hell happened.')\n",
    "            print(count1)\n",
    "            print(count2)\n",
    "            print(count3)\n",
    "            print(count4)\n",
    "            sys.exit()\n",
    "\n",
    "        # else:\n",
    "        #     # weight count1 values so the sum of wt1 in this bin equals count2\n",
    "        #     # wt_fac will always be <= 1\n",
    "        #     wt_fac = float(count2)/float(count1)\n",
    "        #     ws_list[compare][in_bin1] = wt_fac\n",
    "        #     ws_list[i_hist][in_bin2] = 1.0\n",
    "\n",
    "\n",
    "    # now the weights should be determined\n",
    "    # we can optionally re-normalise to make sure we are getting max value out of the datasets\n",
    "    if renorm:\n",
    "        if (np.sum(ws) > 0.00000) & (np.amax(w1) < 1.0):\n",
    "            ws /= np.amax(ws)\n",
    "\n",
    "        if (np.sum(ws) > 0.00000) & (np.amax(w2) < 1.0):\n",
    "            ws /= np.amax(ws)\n",
    "\n",
    "\n",
    "    if return_bins:\n",
    "        return ws_list, thebins \n",
    "    else: \n",
    "        return ws_list"
   ]
  },
  {
   "cell_type": "code",
   "execution_count": 28,
   "id": "c22ddc3e-8766-4cea-830b-b506db74658e",
   "metadata": {},
   "outputs": [],
   "source": [
    "mass_s1 = np.array(df_environ_merg.query('category == \"stage1\"')['lp_mass_best'])\n",
    "mass_s2 = np.array(df_environ_merg.query('category == \"stage2\"')['lp_mass_best'])\n",
    "mass_s3 = np.array(df_environ_merg.query('category == \"stage3\"')['lp_mass_best'])\n",
    "mass_s4 = np.array(df_environ_merg.query('category == \"stage4\"')['lp_mass_best'])"
   ]
  },
  {
   "cell_type": "code",
   "execution_count": 29,
   "id": "88221633-020c-4942-8b49-d3283be78e84",
   "metadata": {},
   "outputs": [],
   "source": [
    "density_s1 = np.array(df_environ_merg.query('category == \"stage1\"')['log_density'])\n",
    "density_s2 = np.array(df_environ_merg.query('category == \"stage2\"')['log_density'])\n",
    "density_s3 = np.array(df_environ_merg.query('category == \"stage3\"')['log_density'])\n",
    "density_s4 = np.array(df_environ_merg.query('category == \"stage4\"')['log_density'])"
   ]
  },
  {
   "cell_type": "code",
   "execution_count": 30,
   "id": "29584bf5-3df8-4a85-970e-ed4c05f32025",
   "metadata": {},
   "outputs": [],
   "source": [
    "weights, thebins = weight_dist([mass_s1, mass_s2, mass_s3, mass_s4], bins = 10, renorm = False, return_bins = True)"
   ]
  },
  {
   "cell_type": "code",
   "execution_count": 31,
   "id": "08aa5097-5b07-41d6-8b5a-5317f2d605eb",
   "metadata": {},
   "outputs": [
    {
     "data": {
      "image/png": "[encoded data removed]",
      "text/plain": [
       "<Figure size 800x800 with 1 Axes>"
      ]
     },
     "metadata": {},
     "output_type": "display_data"
    }
   ],
   "source": [
    "plt.figure(figsize = (8,8))\n",
    "plt.hist(mass_s1, bins = thebins, weights=weights[0] , histtype = 'step', color = 'black')\n",
    "plt.hist(mass_s2, bins = thebins, weights=weights[1] , histtype = 'step', color = 'blue')\n",
    "plt.hist(mass_s3, bins = thebins, weights=weights[2] , histtype = 'step', color = 'orange')\n",
    "plt.hist(mass_s4, bins = thebins, weights=weights[3] , histtype = 'step', color = 'brown')\n",
    "plt.show()"
   ]
  },
  {
   "cell_type": "code",
   "execution_count": 32,
   "id": "e0e20e77-ac6b-4511-8c54-ea03f30e2e96",
   "metadata": {},
   "outputs": [],
   "source": [
    "_, bins_density = np.histogram(density_s1, bins = 10)"
   ]
  },
  {
   "cell_type": "code",
   "execution_count": 33,
   "id": "77beadfd-f509-45f7-bb8f-c7ed6b229fad",
   "metadata": {},
   "outputs": [],
   "source": [
    "densities = [density_s1, density_s2,density_s3,density_s4]"
   ]
  },
  {
   "cell_type": "code",
   "execution_count": 34,
   "id": "a6fbcad8-4138-4557-a823-3a89b042180c",
   "metadata": {},
   "outputs": [],
   "source": [
    "p_dens = [[],[],[],[]]\n",
    "for counter, i in enumerate(weights):\n",
    "    # Getting Weighted Masses\n",
    "    den_stage = densities[counter]    \n",
    "    # Getting Confidence Interval\n",
    "        \n",
    "    _, bins = np.histogram(den_stage, bins=bins_density)\n",
    "    \n",
    "    for j in range(len(bins)-1):\n",
    "        lower_bin = bins[j]\n",
    "        upper_bin = bins[j+1]\n",
    "        \n",
    "        mask = [(den_stage > lower_bin) & (den_stage <= upper_bin)][0].astype(bool)\n",
    "        \n",
    "        den_bin = den_stage[mask]\n",
    "        \n",
    "        counts = len(den_bin)\n",
    "        \n",
    "        upper = counts + (1 * np.sqrt(counts + 1)) + ((1**2 + 2)/3)\n",
    "        lower = counts - (1 * np.sqrt(counts)) + ((1*2 - 1) / 3)\n",
    "                        \n",
    "        if counts == 0:\n",
    "            p_dens[counter].append([0,0])\n",
    "        else:\n",
    "            p_dens[counter].append([counts - lower,  upper - counts])"
   ]
  },
  {
   "cell_type": "code",
   "execution_count": 35,
   "id": "3518d670-aaa7-4a93-9e7a-7bfec36c70e7",
   "metadata": {},
   "outputs": [
    {
     "data": {
      "image/png": "[encoded data removed]",
      "text/plain": [
       "<Figure size 600x600 with 1 Axes>"
      ]
     },
     "metadata": {},
     "output_type": "display_data"
    }
   ],
   "source": [
    "fig, ax = plt.subplots(figsize = (6,6))\n",
    "\n",
    "colours = ['blue','black','orange','purple']\n",
    "linestyles = ['solid', 'dotted','dashed','dashdot']\n",
    "for i in range(4):\n",
    "    bin_counts, bins = np.histogram(densities[i], bins = bins_density, weights=weights[i])\n",
    "    bincenters = 0.5 * (bins[1:] + bins[:-1])\n",
    "    \n",
    "    error_array = np.asarray(p_dens[i]).T\n",
    "    \n",
    "    ax.hist(densities[i], bins = bins, histtype='step', color=colours[i], weights=weights[i], linestyle=linestyles[i])\n",
    "    ax.errorbar(bincenters, bin_counts, yerr=error_array, linestyle = '', color=colours[i], barsabove=True, capsize=2.5)\n",
    "    \n",
    "    \n",
    "plt.legend(['Separated','Pericentre','Apocentre','Merging'], loc='upper right')\n",
    "plt.ylim([0, 70])\n",
    "plt.tick_params(left = False, labelleft=False)\n",
    "plt.xlabel('$\\log$ $\\Sigma$ (Mpc$^{-2}$)', fontsize = 14)\n",
    "plt.ylabel('Weighted N Classifications', fontsize = 14)\n",
    "plt.savefig(f'{fig_folder}/density-stage.pdf', bbox_inches = 'tight')\n",
    "plt.show()"
   ]
  },
  {
   "cell_type": "markdown",
   "id": "5b038448-fb60-41cb-abad-2ba600644847",
   "metadata": {},
   "source": [
    "## Adding Control"
   ]
  },
  {
   "cell_type": "code",
   "execution_count": 36,
   "id": "f4c032e4-837e-462f-9838-ab296e770f2f",
   "metadata": {},
   "outputs": [],
   "source": [
    "control_manifest = pd.read_csv(f'{res_folder}/control_manifest.csv', index_col = 0)"
   ]
  },
  {
   "cell_type": "code",
   "execution_count": 37,
   "id": "967f246b-82b2-4820-9e7b-a26cb1805767",
   "metadata": {},
   "outputs": [
    {
     "data": {
      "text/html": [
       "<div>\n",
       "<style scoped>\n",
       "    .dataframe tbody tr th:only-of-type {\n",
       "        vertical-align: middle;\n",
       "    }\n",
       "\n",
       "    .dataframe tbody tr th {\n",
       "        vertical-align: top;\n",
       "    }\n",
       "\n",
       "    .dataframe thead th {\n",
       "        text-align: right;\n",
       "    }\n",
       "</style>\n",
       "<table border=\"1\" class=\"dataframe\">\n",
       "  <thead>\n",
       "    <tr style=\"text-align: right;\">\n",
       "      <th></th>\n",
       "      <th>ID</th>\n",
       "      <th>control_ID</th>\n",
       "    </tr>\n",
       "  </thead>\n",
       "  <tbody>\n",
       "    <tr>\n",
       "      <th>0</th>\n",
       "      <td>857121.0</td>\n",
       "      <td>302531.0</td>\n",
       "    </tr>\n",
       "    <tr>\n",
       "      <th>1</th>\n",
       "      <td>873195.0</td>\n",
       "      <td>1520080.0</td>\n",
       "    </tr>\n",
       "    <tr>\n",
       "      <th>2</th>\n",
       "      <td>861738.0</td>\n",
       "      <td>811824.0</td>\n",
       "    </tr>\n",
       "    <tr>\n",
       "      <th>3</th>\n",
       "      <td>1280765.0</td>\n",
       "      <td>1469804.0</td>\n",
       "    </tr>\n",
       "    <tr>\n",
       "      <th>4</th>\n",
       "      <td>1284864.0</td>\n",
       "      <td>1308059.0</td>\n",
       "    </tr>\n",
       "    <tr>\n",
       "      <th>...</th>\n",
       "      <td>...</td>\n",
       "      <td>...</td>\n",
       "    </tr>\n",
       "    <tr>\n",
       "      <th>6837</th>\n",
       "      <td>1294513.0</td>\n",
       "      <td>1233604.0</td>\n",
       "    </tr>\n",
       "    <tr>\n",
       "      <th>6838</th>\n",
       "      <td>1290594.0</td>\n",
       "      <td>552604.0</td>\n",
       "    </tr>\n",
       "    <tr>\n",
       "      <th>6839</th>\n",
       "      <td>1301552.0</td>\n",
       "      <td>1587284.0</td>\n",
       "    </tr>\n",
       "    <tr>\n",
       "      <th>6840</th>\n",
       "      <td>1315336.0</td>\n",
       "      <td>558317.0</td>\n",
       "    </tr>\n",
       "    <tr>\n",
       "      <th>6841</th>\n",
       "      <td>1315001.0</td>\n",
       "      <td>981615.0</td>\n",
       "    </tr>\n",
       "  </tbody>\n",
       "</table>\n",
       "<p>6759 rows × 2 columns</p>\n",
       "</div>"
      ],
      "text/plain": [
       "             ID  control_ID\n",
       "0      857121.0    302531.0\n",
       "1      873195.0   1520080.0\n",
       "2      861738.0    811824.0\n",
       "3     1280765.0   1469804.0\n",
       "4     1284864.0   1308059.0\n",
       "...         ...         ...\n",
       "6837  1294513.0   1233604.0\n",
       "6838  1290594.0    552604.0\n",
       "6839  1301552.0   1587284.0\n",
       "6840  1315336.0    558317.0\n",
       "6841  1315001.0    981615.0\n",
       "\n",
       "[6759 rows x 2 columns]"
      ]
     },
     "execution_count": 37,
     "metadata": {},
     "output_type": "execute_result"
    }
   ],
   "source": [
    "control_manifest"
   ]
  },
  {
   "cell_type": "code",
   "execution_count": 38,
   "id": "e9192872-2434-4766-8332-c7562fb40369",
   "metadata": {},
   "outputs": [],
   "source": [
    "with fits.open(f'{cos_dat_fold}/COSMOS2020_CLASSIC_R1_v2.1_p3.fits.gz') as hdul:\n",
    "    data = hdul[1].data"
   ]
  },
  {
   "cell_type": "code",
   "execution_count": 39,
   "id": "df8a4f04-c1e9-4474-b0b0-91a356baabef",
   "metadata": {},
   "outputs": [],
   "source": [
    "df_env_controls = df_environ_merg[['ID']].merge(control_manifest, on = 'ID', how = 'left').dropna()"
   ]
  },
  {
   "cell_type": "code",
   "execution_count": 40,
   "id": "8f65249a-77f0-4409-b107-de16ca2c07e6",
   "metadata": {},
   "outputs": [
    {
     "data": {
      "text/html": [
       "<div>\n",
       "<style scoped>\n",
       "    .dataframe tbody tr th:only-of-type {\n",
       "        vertical-align: middle;\n",
       "    }\n",
       "\n",
       "    .dataframe tbody tr th {\n",
       "        vertical-align: top;\n",
       "    }\n",
       "\n",
       "    .dataframe thead th {\n",
       "        text-align: right;\n",
       "    }\n",
       "</style>\n",
       "<table border=\"1\" class=\"dataframe\">\n",
       "  <thead>\n",
       "    <tr style=\"text-align: right;\">\n",
       "      <th></th>\n",
       "      <th>ID</th>\n",
       "      <th>control_ID</th>\n",
       "    </tr>\n",
       "  </thead>\n",
       "  <tbody>\n",
       "    <tr>\n",
       "      <th>2</th>\n",
       "      <td>1310001</td>\n",
       "      <td>940821.0</td>\n",
       "    </tr>\n",
       "    <tr>\n",
       "      <th>3</th>\n",
       "      <td>1308927</td>\n",
       "      <td>1208843.0</td>\n",
       "    </tr>\n",
       "    <tr>\n",
       "      <th>4</th>\n",
       "      <td>1311422</td>\n",
       "      <td>550540.0</td>\n",
       "    </tr>\n",
       "    <tr>\n",
       "      <th>5</th>\n",
       "      <td>1264241</td>\n",
       "      <td>435889.0</td>\n",
       "    </tr>\n",
       "    <tr>\n",
       "      <th>6</th>\n",
       "      <td>280038</td>\n",
       "      <td>1283637.0</td>\n",
       "    </tr>\n",
       "    <tr>\n",
       "      <th>...</th>\n",
       "      <td>...</td>\n",
       "      <td>...</td>\n",
       "    </tr>\n",
       "    <tr>\n",
       "      <th>1662</th>\n",
       "      <td>275451</td>\n",
       "      <td>745400.0</td>\n",
       "    </tr>\n",
       "    <tr>\n",
       "      <th>1663</th>\n",
       "      <td>302055</td>\n",
       "      <td>1124661.0</td>\n",
       "    </tr>\n",
       "    <tr>\n",
       "      <th>1664</th>\n",
       "      <td>715824</td>\n",
       "      <td>1205347.0</td>\n",
       "    </tr>\n",
       "    <tr>\n",
       "      <th>1665</th>\n",
       "      <td>1157587</td>\n",
       "      <td>1306658.0</td>\n",
       "    </tr>\n",
       "    <tr>\n",
       "      <th>1666</th>\n",
       "      <td>1203157</td>\n",
       "      <td>718757.0</td>\n",
       "    </tr>\n",
       "  </tbody>\n",
       "</table>\n",
       "<p>1247 rows × 2 columns</p>\n",
       "</div>"
      ],
      "text/plain": [
       "           ID  control_ID\n",
       "2     1310001    940821.0\n",
       "3     1308927   1208843.0\n",
       "4     1311422    550540.0\n",
       "5     1264241    435889.0\n",
       "6      280038   1283637.0\n",
       "...       ...         ...\n",
       "1662   275451    745400.0\n",
       "1663   302055   1124661.0\n",
       "1664   715824   1205347.0\n",
       "1665  1157587   1306658.0\n",
       "1666  1203157    718757.0\n",
       "\n",
       "[1247 rows x 2 columns]"
      ]
     },
     "execution_count": 40,
     "metadata": {},
     "output_type": "execute_result"
    }
   ],
   "source": [
    "df_env_controls"
   ]
  },
  {
   "cell_type": "code",
   "execution_count": 41,
   "id": "1d474e2d-135f-4933-8598-47606d7e325b",
   "metadata": {},
   "outputs": [],
   "source": [
    "def get_cosmos2015_id(id_2020, data):\n",
    "    row = data[(data['ID'] == id_2020)]\n",
    "    id_2015 = row['ID_COSMOS2015']\n",
    "    return id_2015[0]"
   ]
  },
  {
   "cell_type": "code",
   "execution_count": 42,
   "id": "3051a408-c4a8-44b2-b11d-635ba7ac4dca",
   "metadata": {},
   "outputs": [
    {
     "name": "stderr",
     "output_type": "stream",
     "text": [
      "100%|██████████| 1247/1247 [11:17<00:00,  1.84it/s]\n"
     ]
    }
   ],
   "source": [
    "df_control_id = (\n",
    "    df_env_controls.assign(cosmos2015_id = df_env_controls.control_ID.progress_apply(lambda x: get_cosmos2015_id(x, data)))\n",
    ")"
   ]
  },
  {
   "cell_type": "code",
   "execution_count": 43,
   "id": "e849e52f-31f6-49ea-80ef-d97dcb77ca97",
   "metadata": {},
   "outputs": [],
   "source": [
    "df_valid_ids = df_control_id.query('cosmos2015_id != -99')"
   ]
  },
  {
   "cell_type": "code",
   "execution_count": 44,
   "id": "dca57aeb-de41-4840-98ba-c81e891214e8",
   "metadata": {},
   "outputs": [],
   "source": [
    "df_control_dens = (\n",
    "    df_valid_ids\n",
    "    .merge(environ_data, left_on = 'cosmos2015_id', right_on = 'ID', how = 'left')[['ID_x','control_ID','density','environment']]\n",
    "    .dropna()\n",
    "    .rename(columns = {'ID_x' : 'ID'})\n",
    ")"
   ]
  },
  {
   "cell_type": "code",
   "execution_count": 45,
   "id": "a3ea0a89-1b33-434c-b4a6-3fd9c7065024",
   "metadata": {},
   "outputs": [],
   "source": [
    "def get_masses(id_control, data):\n",
    "    row = data[(data['ID'] == id_control)]\n",
    "    return row['lp_mass_best'][0]"
   ]
  },
  {
   "cell_type": "code",
   "execution_count": 46,
   "id": "9279397c-cbec-4297-bec6-b68e335423af",
   "metadata": {},
   "outputs": [
    {
     "name": "stderr",
     "output_type": "stream",
     "text": [
      "100%|██████████| 473/473 [04:01<00:00,  1.96it/s]\n"
     ]
    }
   ],
   "source": [
    "df_cont_masses = (\n",
    "    df_control_dens\n",
    "    .assign(lp_mass_best = df_control_dens.control_ID.progress_apply(lambda x: get_masses(x, data)))\n",
    ")"
   ]
  },
  {
   "cell_type": "code",
   "execution_count": 47,
   "id": "8ea40899-2877-4e53-8995-f7f17e2db992",
   "metadata": {},
   "outputs": [],
   "source": [
    "df_control_log_dens = (\n",
    "    df_cont_masses\n",
    "    .assign(log_density = df_cont_masses.density.apply(lambda x: np.log10(x)))\n",
    ")"
   ]
  },
  {
   "cell_type": "code",
   "execution_count": 48,
   "id": "512365c5-4ebe-4696-80de-7a23f4799038",
   "metadata": {},
   "outputs": [
    {
     "data": {
      "text/html": [
       "<div>\n",
       "<style scoped>\n",
       "    .dataframe tbody tr th:only-of-type {\n",
       "        vertical-align: middle;\n",
       "    }\n",
       "\n",
       "    .dataframe tbody tr th {\n",
       "        vertical-align: top;\n",
       "    }\n",
       "\n",
       "    .dataframe thead th {\n",
       "        text-align: right;\n",
       "    }\n",
       "</style>\n",
       "<table border=\"1\" class=\"dataframe\">\n",
       "  <thead>\n",
       "    <tr style=\"text-align: right;\">\n",
       "      <th></th>\n",
       "      <th>ID</th>\n",
       "      <th>control_ID</th>\n",
       "      <th>density</th>\n",
       "      <th>environment</th>\n",
       "      <th>lp_mass_best</th>\n",
       "      <th>log_density</th>\n",
       "    </tr>\n",
       "  </thead>\n",
       "  <tbody>\n",
       "    <tr>\n",
       "      <th>0</th>\n",
       "      <td>1310001</td>\n",
       "      <td>940821.0</td>\n",
       "      <td>2.21</td>\n",
       "      <td>field</td>\n",
       "      <td>10.41705</td>\n",
       "      <td>0.344392</td>\n",
       "    </tr>\n",
       "    <tr>\n",
       "      <th>1</th>\n",
       "      <td>1308927</td>\n",
       "      <td>1208843.0</td>\n",
       "      <td>0.17</td>\n",
       "      <td>field</td>\n",
       "      <td>10.03533</td>\n",
       "      <td>-0.769551</td>\n",
       "    </tr>\n",
       "    <tr>\n",
       "      <th>2</th>\n",
       "      <td>1264241</td>\n",
       "      <td>435889.0</td>\n",
       "      <td>1.12</td>\n",
       "      <td>filament</td>\n",
       "      <td>10.54034</td>\n",
       "      <td>0.049218</td>\n",
       "    </tr>\n",
       "    <tr>\n",
       "      <th>3</th>\n",
       "      <td>280038</td>\n",
       "      <td>1283637.0</td>\n",
       "      <td>5.00</td>\n",
       "      <td>filament</td>\n",
       "      <td>10.77824</td>\n",
       "      <td>0.698970</td>\n",
       "    </tr>\n",
       "    <tr>\n",
       "      <th>4</th>\n",
       "      <td>261335</td>\n",
       "      <td>398543.0</td>\n",
       "      <td>1.36</td>\n",
       "      <td>field</td>\n",
       "      <td>10.12941</td>\n",
       "      <td>0.133539</td>\n",
       "    </tr>\n",
       "    <tr>\n",
       "      <th>...</th>\n",
       "      <td>...</td>\n",
       "      <td>...</td>\n",
       "      <td>...</td>\n",
       "      <td>...</td>\n",
       "      <td>...</td>\n",
       "      <td>...</td>\n",
       "    </tr>\n",
       "    <tr>\n",
       "      <th>728</th>\n",
       "      <td>847081</td>\n",
       "      <td>554792.0</td>\n",
       "      <td>2.06</td>\n",
       "      <td>filament</td>\n",
       "      <td>10.13835</td>\n",
       "      <td>0.313867</td>\n",
       "    </tr>\n",
       "    <tr>\n",
       "      <th>730</th>\n",
       "      <td>302055</td>\n",
       "      <td>1124661.0</td>\n",
       "      <td>3.78</td>\n",
       "      <td>filament</td>\n",
       "      <td>10.05576</td>\n",
       "      <td>0.577492</td>\n",
       "    </tr>\n",
       "    <tr>\n",
       "      <th>731</th>\n",
       "      <td>715824</td>\n",
       "      <td>1205347.0</td>\n",
       "      <td>7.41</td>\n",
       "      <td>filament</td>\n",
       "      <td>10.59129</td>\n",
       "      <td>0.869818</td>\n",
       "    </tr>\n",
       "    <tr>\n",
       "      <th>732</th>\n",
       "      <td>1157587</td>\n",
       "      <td>1306658.0</td>\n",
       "      <td>0.51</td>\n",
       "      <td>field</td>\n",
       "      <td>10.56034</td>\n",
       "      <td>-0.292430</td>\n",
       "    </tr>\n",
       "    <tr>\n",
       "      <th>733</th>\n",
       "      <td>1203157</td>\n",
       "      <td>718757.0</td>\n",
       "      <td>3.06</td>\n",
       "      <td>field</td>\n",
       "      <td>10.24984</td>\n",
       "      <td>0.485721</td>\n",
       "    </tr>\n",
       "  </tbody>\n",
       "</table>\n",
       "<p>473 rows × 6 columns</p>\n",
       "</div>"
      ],
      "text/plain": [
       "          ID  control_ID  density environment  lp_mass_best  log_density\n",
       "0    1310001    940821.0     2.21       field      10.41705     0.344392\n",
       "1    1308927   1208843.0     0.17       field      10.03533    -0.769551\n",
       "2    1264241    435889.0     1.12    filament      10.54034     0.049218\n",
       "3     280038   1283637.0     5.00    filament      10.77824     0.698970\n",
       "4     261335    398543.0     1.36       field      10.12941     0.133539\n",
       "..       ...         ...      ...         ...           ...          ...\n",
       "728   847081    554792.0     2.06    filament      10.13835     0.313867\n",
       "730   302055   1124661.0     3.78    filament      10.05576     0.577492\n",
       "731   715824   1205347.0     7.41    filament      10.59129     0.869818\n",
       "732  1157587   1306658.0     0.51       field      10.56034    -0.292430\n",
       "733  1203157    718757.0     3.06       field      10.24984     0.485721\n",
       "\n",
       "[473 rows x 6 columns]"
      ]
     },
     "execution_count": 48,
     "metadata": {},
     "output_type": "execute_result"
    }
   ],
   "source": [
    "df_control_log_dens"
   ]
  },
  {
   "cell_type": "code",
   "execution_count": 49,
   "id": "82a09aec-9284-479e-836e-eba8eb1d04d2",
   "metadata": {},
   "outputs": [
    {
     "data": {
      "text/plain": [
       "-1.0969100130080565"
      ]
     },
     "execution_count": 49,
     "metadata": {},
     "output_type": "execute_result"
    }
   ],
   "source": [
    "df_control_log_dens.log_density.min()"
   ]
  },
  {
   "cell_type": "code",
   "execution_count": 50,
   "id": "319d97d3-1f2e-4ead-89e4-64553b41dfad",
   "metadata": {},
   "outputs": [
    {
     "data": {
      "text/plain": [
       "1.866582677063549"
      ]
     },
     "execution_count": 50,
     "metadata": {},
     "output_type": "execute_result"
    }
   ],
   "source": [
    "df_control_log_dens.log_density.max()"
   ]
  },
  {
   "cell_type": "code",
   "execution_count": 51,
   "id": "74bde078-5910-41be-808f-629e6d71d146",
   "metadata": {},
   "outputs": [
    {
     "data": {
      "image/png": "[encoded data removed]",
      "text/plain": [
       "<Figure size 800x800 with 1 Axes>"
      ]
     },
     "metadata": {},
     "output_type": "display_data"
    }
   ],
   "source": [
    "plt.figure(figsize = (8,8))\n",
    "plt.hist(np.array(df_control_log_dens.log_density), bins = 10, histtype='step', color='black')\n",
    "plt.xlabel('Log($\\Sigma$ (Mpc$^{-2}$))')\n",
    "plt.show()"
   ]
  },
  {
   "cell_type": "code",
   "execution_count": 66,
   "id": "cf6c9f77-33f9-491f-8c3f-7a292dbdfb13",
   "metadata": {},
   "outputs": [],
   "source": [
    "def weight_dist_5(arrs, bins=None, return_bins=True, renorm=False, compare = 3):\n",
    "    # this will take 2 arrays of values from 2 different samples\n",
    "    # e.g. redshift distributions from 2 samples\n",
    "    # and return weights for each value such that the weighted\n",
    "    # distributions of each sample will match.\n",
    "\n",
    "    # note the bins need to be the same for both datasets\n",
    "    # so either supply 1 number or 1 array of bin edges\n",
    "    # also if you have fully specified the bins you don't need them returned\n",
    "    # but if we've had to figure them out, you do need them returned\n",
    "    # if you want to make sure you aren't under-weighting (e.g. if a whole dataset is\n",
    "    # much larger than the other so you might always be able select >1 object\n",
    "    # in dataset 1 for each object in dataset 2) then you can re-normalise to make\n",
    "    # sure the max weight of both datasets is 1\n",
    "    # Note, if the distributions cross this won't make a difference\n",
    "\n",
    "    # weight arrays\n",
    "    # w1 = np.zeros_like(arr1)\n",
    "    # w2 = np.zeros_like(arr2)\n",
    "    \n",
    "    if len(arrs) != 5:\n",
    "        print('This has been set up to handle 5 distributions!')\n",
    "        print('You have not provided four distributions.')\n",
    "        sys.exit()\n",
    "    \n",
    "    ws_list = []\n",
    "    for i in arrs:\n",
    "        ws_list.append(np.zeros_like(i))\n",
    "\n",
    "    hists = []\n",
    "    _, thebins = np.histogram(arrs[0], bins=bins)  # returns (counts_arr, bins_arr)\n",
    "    # use the bins from hist1 to make hist2\n",
    "    # note: for these purposes, any values of hist2 outside the minmax range of hist1 should have 0 weight\n",
    "    # which is taken care of by the zeros_like initialisation of w1 and w2 above\n",
    "    # so it's fine for them to be excluded below\n",
    "    # hists.append(hist1)\n",
    "    for i in arrs:\n",
    "        hist_tmp, _ = np.histogram(i, bins=thebins)\n",
    "        hists.append(hist_tmp)\n",
    "\n",
    "    # now step through the bins and assign weights\n",
    "    for i_bin in range(len(thebins)-1):\n",
    "        # zero-\"index\"ing these because they're indices and not values\n",
    "        # and if I get them mixed up below I want this to error that there's no b2 or whatever\n",
    "        b0 = thebins[i_bin]\n",
    "        b1 = thebins[i_bin+1]\n",
    "\n",
    "        count1 = hists[0][i_bin]\n",
    "        count2 = hists[1][i_bin]\n",
    "        count3 = hists[2][i_bin]\n",
    "        count4 = hists[3][i_bin]\n",
    "        count5 = hists[4][i_bin]\n",
    "\n",
    "        # don't miss any values and don't double-count\n",
    "        if i_bin == 0:\n",
    "            in_bin1 = (arrs[0] >= b0) & (arrs[0] <= b1)\n",
    "            in_bin2 = (arrs[1] >= b0) & (arrs[1] <= b1)\n",
    "            in_bin3 = (arrs[2] >= b0) & (arrs[2] <= b1)\n",
    "            in_bin4 = (arrs[3] >= b0) & (arrs[3] <= b1)\n",
    "            in_bin5 = (arrs[4] >= b0) & (arrs[4] <= b1)\n",
    "        else: \n",
    "            in_bin1 = (arrs[0] >  b0) & (arrs[0] <= b1)\n",
    "            in_bin2 = (arrs[1] >  b0) & (arrs[1] <= b1)\n",
    "            in_bin3 = (arrs[2] >  b0) & (arrs[2] <= b1)\n",
    "            in_bin4 = (arrs[3] >  b0) & (arrs[3] <= b1)\n",
    "            in_bin5 = (arrs[4] >  b0) & (arrs[4] <= b1)\n",
    "            \n",
    "        # don't divide by 0 in the rest of the if/else\n",
    "        if (count1 == 0) | (count2 == 0) | (count3 == 0) | (count4 == 0):\n",
    "            ws_list[0][in_bin1] = 0.0\n",
    "            ws_list[1][in_bin2] = 0.0\n",
    "            ws_list[2][in_bin3] = 0.0\n",
    "            ws_list[3][in_bin4] = 0.0\n",
    "            ws_list[4][in_bin5] = 0.0\n",
    "\n",
    "        elif count1 <= count2 and count1 <= count3 and count1 <= count4 and count1 <= count5:\n",
    "            # weight count2 values so the sum of wt2 in this bin equals count1\n",
    "            # wt_fac will always be < 1\n",
    "            ws_list[0][in_bin1] = 1.0\n",
    "            ws_list[1][in_bin2] = float(count1)/float(count2)\n",
    "            ws_list[2][in_bin3] = float(count1)/float(count3)\n",
    "            ws_list[3][in_bin4] = float(count1)/float(count4)\n",
    "            ws_list[4][in_bin5] = float(count1)/float(count5)\n",
    "            \n",
    "        elif count2 <= count1 and count2 <= count3 and count2 <= count4 and count2 <= count5:\n",
    "            ws_list[0][in_bin1] = float(count2)/float(count1)\n",
    "            ws_list[1][in_bin2] = 1.0\n",
    "            ws_list[2][in_bin3] = float(count2)/float(count3)\n",
    "            ws_list[3][in_bin4] = float(count2)/float(count4)\n",
    "            ws_list[4][in_bin5] = float(count2)/float(count5)\n",
    "            \n",
    "        elif count3 <= count1 and count3 <= count2 and count3 <= count4 and count3 <= count5:\n",
    "            ws_list[0][in_bin1] = float(count3)/float(count1)\n",
    "            ws_list[1][in_bin2] = float(count3)/float(count2)\n",
    "            ws_list[2][in_bin3] = 1.0\n",
    "            ws_list[3][in_bin4] = float(count3)/float(count4)\n",
    "            ws_list[4][in_bin5] = float(count3)/float(count5)\n",
    "            \n",
    "        elif count4 <= count1 and count4 <= count2 and count4 <= count3 and count4 <= count5:\n",
    "            ws_list[0][in_bin1] = float(count4)/float(count1)\n",
    "            ws_list[1][in_bin2] = float(count4)/float(count2)\n",
    "            ws_list[2][in_bin3] = float(count4)/float(count3)\n",
    "            ws_list[3][in_bin4] = 1.0\n",
    "            ws_list[4][in_bin5] = float(count4)/float(count5)\n",
    "            \n",
    "        elif count5 <= count1 and count5 <= count2 and count5 <= count3 and count5 <= count4:\n",
    "            ws_list[0][in_bin1] = float(count5)/float(count1)\n",
    "            ws_list[1][in_bin2] = float(count5)/float(count2)\n",
    "            ws_list[2][in_bin3] = float(count5)/float(count3)\n",
    "            ws_list[3][in_bin4] = float(count5)/float(count4)\n",
    "            ws_list[4][in_bin5] = 1.0\n",
    "                        \n",
    "        else:\n",
    "            print('What the hell happened.')\n",
    "            print(count1)\n",
    "            print(count2)\n",
    "            print(count3)\n",
    "            print(count4)\n",
    "            sys.exit()\n",
    "\n",
    "        # else:\n",
    "        #     # weight count1 values so the sum of wt1 in this bin equals count2\n",
    "        #     # wt_fac will always be <= 1\n",
    "        #     wt_fac = float(count2)/float(count1)\n",
    "        #     ws_list[compare][in_bin1] = wt_fac\n",
    "        #     ws_list[i_hist][in_bin2] = 1.0\n",
    "\n",
    "\n",
    "    # now the weights should be determined\n",
    "    # we can optionally re-normalise to make sure we are getting max value out of the datasets\n",
    "    if renorm:\n",
    "        if (np.sum(ws) > 0.00000) & (np.amax(w1) < 1.0):\n",
    "            ws /= np.amax(ws)\n",
    "\n",
    "        if (np.sum(ws) > 0.00000) & (np.amax(w2) < 1.0):\n",
    "            ws /= np.amax(ws)\n",
    "\n",
    "\n",
    "    if return_bins:\n",
    "        return ws_list, thebins \n",
    "    else: \n",
    "        return ws_list"
   ]
  },
  {
   "cell_type": "code",
   "execution_count": 67,
   "id": "37b1fc77-f472-4fdb-8764-5e7d5d645291",
   "metadata": {},
   "outputs": [],
   "source": [
    "masses_dens = list(df_control_log_dens.lp_mass_best)"
   ]
  },
  {
   "cell_type": "code",
   "execution_count": 68,
   "id": "cd998e7d-35e6-4dab-8d2d-1e65c908be2c",
   "metadata": {},
   "outputs": [],
   "source": [
    "weights, thebins = weight_dist_5([mass_s1, mass_s2, mass_s3, mass_s4, masses_dens], bins = 10, renorm = False, return_bins = True)"
   ]
  },
  {
   "cell_type": "code",
   "execution_count": 69,
   "id": "75b51a28-7b35-4340-97b4-ee8e1e059771",
   "metadata": {},
   "outputs": [
    {
     "data": {
      "image/png": "[encoded data removed]",
      "text/plain": [
       "<Figure size 800x800 with 1 Axes>"
      ]
     },
     "metadata": {},
     "output_type": "display_data"
    }
   ],
   "source": [
    "plt.figure(figsize = (8,8))\n",
    "plt.hist(mass_s1, bins = thebins, weights=weights[0] , histtype = 'step', color = 'black')\n",
    "plt.hist(mass_s2, bins = thebins, weights=weights[1] , histtype = 'step', color = 'blue')\n",
    "plt.hist(mass_s3, bins = thebins, weights=weights[2] , histtype = 'step', color = 'orange')\n",
    "plt.hist(mass_s4, bins = thebins, weights=weights[3] , histtype = 'step', color = 'brown')\n",
    "plt.hist(masses_dens, bins = thebins, weights=weights[4] , histtype = 'step', color = 'brown')\n",
    "plt.show()"
   ]
  },
  {
   "cell_type": "code",
   "execution_count": 78,
   "id": "913791e8-7069-4755-a3b1-8dc959729df1",
   "metadata": {},
   "outputs": [],
   "source": [
    "control_dens = np.asarray(df_control_log_dens.log_density)"
   ]
  },
  {
   "cell_type": "code",
   "execution_count": 80,
   "id": "e301ac3b-e968-428d-8cee-dbad069cd1fe",
   "metadata": {},
   "outputs": [],
   "source": [
    "densities = [density_s1, density_s2, density_s3, density_s4, control_dens]"
   ]
  },
  {
   "cell_type": "code",
   "execution_count": 106,
   "id": "53a7a5ca-ba46-4e7d-8ee7-b45cd13599dd",
   "metadata": {},
   "outputs": [],
   "source": [
    "p_dens = [[],[],[],[],[]]\n",
    "for counter, i in enumerate(weights):\n",
    "    # Getting Weighted Masses\n",
    "    den_stage = densities[counter]  \n",
    "    weights_stage = weights[counter]\n",
    "    # Getting Confidence Interval\n",
    "        \n",
    "    _, bins = np.histogram(den_stage, bins=bins_density)\n",
    "    \n",
    "    for j in range(len(bins)-1):\n",
    "        lower_bin = bins[j]\n",
    "        upper_bin = bins[j+1]\n",
    "        \n",
    "        mask = [(den_stage > lower_bin) & (den_stage <= upper_bin)][0].astype(bool)\n",
    "        \n",
    "        den_bin = den_stage[mask]\n",
    "        weights_bin = weights_stage[mask]\n",
    "                \n",
    "        counts = np.sum(weights_bin * np.ones(len(den_bin)))\n",
    "                        \n",
    "        upper = counts + (1 * np.sqrt(counts + 1)) + ((1**2 + 2)/3)\n",
    "        lower = counts - (1 * np.sqrt(counts)) + ((1*2 - 1) / 3)\n",
    "                        \n",
    "        if counts == 0:\n",
    "            p_dens[counter].append([0,0])\n",
    "        else:\n",
    "            p_dens[counter].append([(counts - lower),  (upper - counts)])"
   ]
  },
  {
   "cell_type": "code",
   "execution_count": 108,
   "id": "2b7b24af-c278-4cf4-bbe7-323530906cb3",
   "metadata": {},
   "outputs": [
    {
     "data": {
      "image/png": "[encoded data removed]",
      "text/plain": [
       "<Figure size 600x600 with 1 Axes>"
      ]
     },
     "metadata": {},
     "output_type": "display_data"
    }
   ],
   "source": [
    "fig, ax = plt.subplots(figsize = (6,6))\n",
    "\n",
    "colours = ['blue','black','orange','purple', 'green']\n",
    "linestyles = ['solid', 'dotted','dashed','dashdot', (0, (3, 1, 1, 1, 1, 1))]\n",
    "for i in range(5):\n",
    "    bin_counts, bins = np.histogram(densities[i], bins = bins_density, weights=weights[i])\n",
    "    bincenters = 0.5 * (bins[1:] + bins[:-1])\n",
    "    \n",
    "    error_array = np.asarray(p_dens[i]).T\n",
    "    \n",
    "    ax.hist(densities[i], bins = bins, histtype='step', color=colours[i], weights=weights[i], linestyle=linestyles[i])\n",
    "    ax.errorbar(bincenters, bin_counts, yerr=error_array, linestyle = '', color=colours[i], barsabove=True, capsize=2.5, alpha = 0.75)\n",
    "    \n",
    "    \n",
    "plt.legend(['Separated','Pericentre','Apocentre','Merging', 'Control'], loc='upper right')\n",
    "plt.ylim([0, 72])\n",
    "plt.tick_params(left = False, labelleft=False)\n",
    "plt.xlabel('$\\log$ $\\Sigma$ (Mpc$^{-2}$)', fontsize = 14)\n",
    "plt.ylabel('Weighted N Classifications', fontsize = 14)\n",
    "plt.savefig(f'{fig_folder}/density-stage.pdf', bbox_inches = 'tight')\n",
    "plt.show()"
   ]
  },
  {
   "cell_type": "markdown",
   "id": "7216302b-5eab-48ff-b825-e860138feffe",
   "metadata": {},
   "source": [
    "## Checking Weights"
   ]
  },
  {
   "cell_type": "code",
   "execution_count": 92,
   "id": "b2d76010-3306-4842-85ef-ea7843adf61d",
   "metadata": {},
   "outputs": [],
   "source": [
    "def ks_weighted(arr1_all, arr2_all, w1_all, w2_all, return_dist=False):\n",
    "\n",
    "    '''\n",
    "    Given 2 arrays and their weights, returns Kolmogorov-Smirnov statistic and significance.\n",
    "\n",
    "    This differs from the usual K-S test in that it computes a weighted K-S statistic and\n",
    "    assumes the size of each sample is equal to the sum of the weights, not the length of\n",
    "    the array. It's not exactly standard statistical practice to do this, so use with \n",
    "    caution, but it doesn't seem like a completely ridiculous idea, either.\n",
    "\n",
    "        Parameters:\n",
    "            arr1_all   (array): a data sample with values to be weighted by w1_all\n",
    "            arr2_all   (array): a data sample with values to be weighted by w2_all\n",
    "            w1_all     (array): weights for arr1_all\n",
    "            w2_all     (array): weights for arr2_all\n",
    "            return_dist (bool): True if the array of all K-S distances should be returned,\n",
    "                                default is False (mostly only useful for debugging)\n",
    "\n",
    "            Note: the arrays should be np.array() but other data types based on that should\n",
    "                  work too, e.g. pd.Series, Astropy Table columns, etc. -- but if you get\n",
    "                  an error on those, wrap your inputs with np.array().\n",
    "\n",
    "        Returns:\n",
    "            ks:     the weighted, 2-sided K-S statistic\n",
    "            p_ks:   the p-value based on the weighted K-S statistic\n",
    "            sig_ks: the significance level (in sigma) assuming p-values are distributed Normally\n",
    "\n",
    "            if return_dist == True, also:\n",
    "                dist_arr: array of KS-distances in raw format (sorted by increasing data sample value)\n",
    "                          seriously this is not useful statistically, it's just for debugging\n",
    "\n",
    "    '''\n",
    "\n",
    "    # drop dead weight\n",
    "    arr1 = np.array(arr1_all[w1_all > 0.0])\n",
    "    arr2 = np.array(arr2_all[w2_all > 0.0])\n",
    "    w1   = np.array(  w1_all[w1_all > 0.0])\n",
    "    w2   = np.array(  w2_all[w2_all > 0.0])\n",
    "\n",
    "    # get effective lengths of the weighted arrays\n",
    "    n1 = np.sum(w1)\n",
    "    n2 = np.sum(w2)\n",
    " \n",
    "    # this is used below in the k-s calculation\n",
    "    # (weighted sample sizes)\n",
    "    ct = np.sqrt((n1+n2)/(n1*n2))\n",
    "\n",
    "    # we want to sort the arrays, and the weights\n",
    "    i1 = arr1.argsort()\n",
    "    i2 = arr2.argsort()\n",
    "\n",
    "    # sort arrays and weights in increasing order\n",
    "    arr1_s = np.array(arr1[i1])\n",
    "    w1_s   = np.array(  w1[i1])\n",
    "    arr2_s = np.array(arr2[i2])\n",
    "    w2_s   = np.array(  w2[i2])\n",
    "\n",
    "    # make combined arrays but track which element comes from what, then sort them again\n",
    "    both   = np.concatenate([arr1_s, arr2_s])\n",
    "    both_w = np.concatenate([  w1_s,   w2_s])\n",
    "    track  = np.concatenate([np.zeros(len(arr1_s), dtype=int), np.ones(len(arr2_s), dtype=int)])\n",
    "\n",
    "    i_both   = both.argsort()\n",
    "    both_s   = np.array(  both[i_both])\n",
    "    both_w_s = np.array(both_w[i_both])\n",
    "    track_s  = np.array( track[i_both])\n",
    "\n",
    "    # go through array, once, computing the distance as we go, and track the max distance between cumulative curves\n",
    "    # (which are both stored in the same array)\n",
    "    # both cumulative curves start at 0 so the distance starts at 0\n",
    "    # also cumulative curves always increase\n",
    "    the_dist = 0.0\n",
    "    dist_arr = np.zeros_like(both_s)\n",
    "    max_dist = 0.0\n",
    "    for j, this_which in enumerate(track_s):\n",
    "        # the key here is the distance between curves goes up if array A has a new value,\n",
    "        # and then if B has a new value that curve increases too so the curves get closer together\n",
    "        # (the distance goes down).\n",
    "        # it doesn't matter which is curve A and which is curve B, just that one increments \n",
    "        # and the other decrements.\n",
    "        # if we were doing a regular K-S without weights, each new value for a given array changes\n",
    "        # the distance between curves by 1 count. \n",
    "        # (with weighted, it only changes the distance by that object's weight.)\n",
    "        # And also, these are cumulative curves, so each curve is divided by the total counts in that array\n",
    "        # (which in the weighted case means the sum of the weights)\n",
    "        # as a check, the distances should start at 0 and end at 0 (because the cumulative fractional\n",
    "        # histograms both start at 0.0 and end at 1.0)\n",
    "        if this_which == 0:\n",
    "            the_dist += both_w_s[j]/n1\n",
    "        else:\n",
    "            the_dist -= both_w_s[j]/n2\n",
    "\n",
    "        dist_arr[j] = the_dist\n",
    "        if np.abs(the_dist) > max_dist:\n",
    "            max_dist = np.abs(the_dist) \n",
    "\n",
    "    # the max dist over the whole cumulative curves is the K-S distance\n",
    "    ks = max_dist\n",
    "    # p-value (which also cares about the sample sizes)\n",
    "    p_ks   = special.kolmogorov(float(ks)/float(ct))\n",
    "    # scipy.stats.ks_2samp uses this instead?\n",
    "    p_ksalt   = kstwobign.sf(((1./ct) + 0.12 + (0.11 * ct)) * ks)\n",
    "    #print(p_ksalt)\n",
    "\n",
    "    # what's the significance assuming a normal distribution? (1 = 1 sigma, 2. = 2 sigma, 3. = 3 sigma result etc.)\n",
    "    sig_ks = special.erfcinv(p_ks)*np.sqrt(2.)\n",
    "\n",
    "\n",
    "\n",
    "    if return_dist:\n",
    "        return ks, p_ks, sig_ks, dist_arr\n",
    "    else: \n",
    "        return ks, p_ks, sig_ks"
   ]
  },
  {
   "cell_type": "code",
   "execution_count": 95,
   "id": "b396819e-d9ea-4d5e-a542-d83ce833f47e",
   "metadata": {},
   "outputs": [],
   "source": [
    "ks_m_12, p_ks_m_12, sig_ks_12 = ks_weighted(densities[0], densities[1], weights[0], weights[1], return_dist=False)\n",
    "ks_m_13, p_ks_m_13, sig_ks_13 = ks_weighted(densities[0], densities[2], weights[0], weights[2], return_dist=False)\n",
    "ks_m_14, p_ks_m_14, sig_ks_14 = ks_weighted(densities[0], densities[3], weights[0], weights[3], return_dist=False)\n",
    "ks_m_15, p_ks_m_15, sig_ks_15 = ks_weighted(densities[0], densities[4], weights[0], weights[4], return_dist=False)"
   ]
  },
  {
   "cell_type": "code",
   "execution_count": 96,
   "id": "b1755d64-9343-40ba-8226-721b48b17a42",
   "metadata": {},
   "outputs": [
    {
     "name": "stdout",
     "output_type": "stream",
     "text": [
      "KS Score Mass between stages 1 and 2 = 0.08035903637602312\n",
      "KS Score Mass between stages 1 and 3 = 0.10520867088480718\n",
      "KS Score Mass between stages 1 and 4 = 0.12194905697984028\n",
      "KS Score Mass between stages 1 and control = 0.1653429978769343\n",
      " \n",
      "KS-test p-value Mass between stages 1 and 2 = 0.47336628994479896\n",
      "KS-test p-value Mass between stages 1 and 3 = 0.17312836088905292\n",
      "KS-test p-value Mass between stages 1 and 4 = 0.07475624141786796\n",
      "KS-test p-value Mass between stages 1 and control = 0.00475471430363007\n",
      " \n",
      "KS-test significance Mass between stages 1 and 2 = 0.7170126521176138\n",
      "KS-test significance Mass between stages 1 and 3 = 1.3622203327040785\n",
      "KS-test significance Mass between stages 1 and 4 = 1.781957016870566\n",
      "KS-test significance Mass between stages 1 and control = 2.823198366603319\n"
     ]
    }
   ],
   "source": [
    "print(f'KS Score Mass between stages 1 and 2 = {ks_m_12}')\n",
    "print(f'KS Score Mass between stages 1 and 3 = {ks_m_13}')\n",
    "print(f'KS Score Mass between stages 1 and 4 = {ks_m_14}')\n",
    "print(f'KS Score Mass between stages 1 and control = {ks_m_15}')\n",
    "print(' ')\n",
    "print(f'KS-test p-value Mass between stages 1 and 2 = {p_ks_m_12}')\n",
    "print(f'KS-test p-value Mass between stages 1 and 3 = {p_ks_m_13}')\n",
    "print(f'KS-test p-value Mass between stages 1 and 4 = {p_ks_m_14}')\n",
    "print(f'KS-test p-value Mass between stages 1 and control = {p_ks_m_15}')\n",
    "print(' ')\n",
    "print(f'KS-test significance Mass between stages 1 and 2 = {sig_ks_12}')\n",
    "print(f'KS-test significance Mass between stages 1 and 3 = {sig_ks_13}')\n",
    "print(f'KS-test significance Mass between stages 1 and 4 = {sig_ks_14}')\n",
    "print(f'KS-test significance Mass between stages 1 and control = {sig_ks_15}')"
   ]
  },
  {
   "cell_type": "code",
   "execution_count": null,
   "id": "89272218-7d1c-4a4b-918f-4bbb9cc00f2f",
   "metadata": {},
   "outputs": [],
   "source": []
  }
 ],
 "metadata": {
  "kernelspec": {
   "display_name": "Python 3 (ipykernel)",
   "language": "python",
   "name": "python3"
  },
  "language_info": {
   "codemirror_mode": {
    "name": "ipython",
    "version": 3
   },
   "file_extension": ".py",
   "mimetype": "text/x-python",
   "name": "python",
   "nbconvert_exporter": "python",
   "pygments_lexer": "ipython3",
   "version": "3.7.13"
  }
 },
 "nbformat": 4,
 "nbformat_minor": 5
}
