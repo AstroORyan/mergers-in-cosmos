{
 "cells": [
  {
   "cell_type": "markdown",
   "id": "7800de8f-5b8c-4c0c-8e61-c94350efe773",
   "metadata": {},
   "source": [
    "# Creating a Control Sample\n",
    "This Notebook"
   ]
  }
 ],
 "metadata": {
  "kernelspec": {
   "display_name": "Python 3 (ipykernel)",
   "language": "python",
   "name": "python3"
  },
  "language_info": {
   "codemirror_mode": {
    "name": "ipython",
    "version": 3
   },
   "file_extension": ".py",
   "mimetype": "text/x-python",
   "name": "python",
   "nbconvert_exporter": "python",
   "pygments_lexer": "ipython3",
   "version": "3.7.13"
  }
 },
 "nbformat": 4,
 "nbformat_minor": 5
}
