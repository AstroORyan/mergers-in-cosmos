{
 "cells": [
  {
   "cell_type": "markdown",
   "id": "b270b936-27d6-4760-87aa-06eb5a96ed35",
   "metadata": {},
   "source": [
    "# Matching COSMOS 2020"
   ]
  },
  {
   "cell_type": "markdown",
   "id": "6a6c9349-d5e8-4604-8995-19ebdc164d83",
   "metadata": {},
   "source": [
    "Originally, I matched COSMOS with the 2015 catalogue. This had significantly worse measurements of redshift than using the 2020 catalogue with EAZY. Going to redo the matching based on this and sack using the 2015 catalgoue completely."
   ]
  },
  {
   "cell_type": "code",
   "execution_count": 1,
   "id": "da2efd55-5468-413e-b908-ce239548e388",
   "metadata": {},
   "outputs": [],
   "source": [
    "import pandas as pd\n",
    "import sys\n",
    "import time\n",
    "import numpy as np\n",
    "from tqdm import tqdm\n",
    "tqdm.pandas()\n",
    "\n",
    "from astropy.io import fits\n",
    "from astropy.table import Table\n",
    "from astropy.coordinates import SkyCoord\n",
    "import astropy.units as u\n",
    "\n",
    "from IPython.display import clear_output"
   ]
  },
  {
   "cell_type": "code",
   "execution_count": 2,
   "id": "5de59270-2fe8-44d4-92e5-72577f3a2bb9",
   "metadata": {},
   "outputs": [],
   "source": [
    "with fits.open('E:/temporary-cosmos-big-data/COSMOS2020_CLASSIC_R1_v2.1_p3.fits.gz') as hdul:\n",
    "    data = hdul[1].data\n",
    "    header = hdul[1].header"
   ]
  },
  {
   "cell_type": "code",
   "execution_count": 3,
   "id": "d404a945-331b-4a52-8124-f5d372f382d5",
   "metadata": {},
   "outputs": [],
   "source": [
    "folder = 'C:/Users/oryan/Documents/mergers-in-cosmos'\n",
    "data_folder = f'{folder}/data'"
   ]
  },
  {
   "cell_type": "code",
   "execution_count": 4,
   "id": "ab29f04d-2271-4d0a-b484-6ee5118c76e0",
   "metadata": {},
   "outputs": [],
   "source": [
    "df_tmp = pd.read_csv(f'{data_folder}/categorised_sources.csv', index_col = 0)"
   ]
  },
  {
   "cell_type": "code",
   "execution_count": 5,
   "id": "2aaf3cd1-c344-422b-9f3e-d08bc039477b",
   "metadata": {},
   "outputs": [
    {
     "data": {
      "text/html": [
       "<div>\n",
       "<style scoped>\n",
       "    .dataframe tbody tr th:only-of-type {\n",
       "        vertical-align: middle;\n",
       "    }\n",
       "\n",
       "    .dataframe tbody tr th {\n",
       "        vertical-align: top;\n",
       "    }\n",
       "\n",
       "    .dataframe thead th {\n",
       "        text-align: right;\n",
       "    }\n",
       "</style>\n",
       "<table border=\"1\" class=\"dataframe\">\n",
       "  <thead>\n",
       "    <tr style=\"text-align: right;\">\n",
       "      <th></th>\n",
       "      <th>SourceID</th>\n",
       "      <th>RA</th>\n",
       "      <th>Dec</th>\n",
       "      <th>category</th>\n",
       "    </tr>\n",
       "    <tr>\n",
       "      <th>col1</th>\n",
       "      <th></th>\n",
       "      <th></th>\n",
       "      <th></th>\n",
       "      <th></th>\n",
       "    </tr>\n",
       "  </thead>\n",
       "  <tbody>\n",
       "    <tr>\n",
       "      <th>0</th>\n",
       "      <td>4000704963129</td>\n",
       "      <td>187.983807</td>\n",
       "      <td>58.010524</td>\n",
       "      <td>stage4</td>\n",
       "    </tr>\n",
       "    <tr>\n",
       "      <th>1</th>\n",
       "      <td>4000704963271</td>\n",
       "      <td>187.980323</td>\n",
       "      <td>58.026481</td>\n",
       "      <td>stage1</td>\n",
       "    </tr>\n",
       "    <tr>\n",
       "      <th>2</th>\n",
       "      <td>4000704963422</td>\n",
       "      <td>187.938181</td>\n",
       "      <td>58.039949</td>\n",
       "      <td>stage1</td>\n",
       "    </tr>\n",
       "    <tr>\n",
       "      <th>3</th>\n",
       "      <td>4000705131622</td>\n",
       "      <td>217.216271</td>\n",
       "      <td>34.015278</td>\n",
       "      <td>stage2</td>\n",
       "    </tr>\n",
       "    <tr>\n",
       "      <th>4</th>\n",
       "      <td>4000705131630</td>\n",
       "      <td>217.207839</td>\n",
       "      <td>34.015576</td>\n",
       "      <td>stage4</td>\n",
       "    </tr>\n",
       "    <tr>\n",
       "      <th>...</th>\n",
       "      <td>...</td>\n",
       "      <td>...</td>\n",
       "      <td>...</td>\n",
       "      <td>...</td>\n",
       "    </tr>\n",
       "    <tr>\n",
       "      <th>21921</th>\n",
       "      <td>6000536185496</td>\n",
       "      <td>150.500839</td>\n",
       "      <td>2.662972</td>\n",
       "      <td>stage1</td>\n",
       "    </tr>\n",
       "    <tr>\n",
       "      <th>21922</th>\n",
       "      <td>6000536185585</td>\n",
       "      <td>150.487245</td>\n",
       "      <td>2.671166</td>\n",
       "      <td>stage3</td>\n",
       "    </tr>\n",
       "    <tr>\n",
       "      <th>21923</th>\n",
       "      <td>6000536185603</td>\n",
       "      <td>150.508543</td>\n",
       "      <td>2.672499</td>\n",
       "      <td>stage1</td>\n",
       "    </tr>\n",
       "    <tr>\n",
       "      <th>21924</th>\n",
       "      <td>6000536185717</td>\n",
       "      <td>150.486897</td>\n",
       "      <td>2.687377</td>\n",
       "      <td>stage4</td>\n",
       "    </tr>\n",
       "    <tr>\n",
       "      <th>21925</th>\n",
       "      <td>6000541707737</td>\n",
       "      <td>31.420912</td>\n",
       "      <td>-58.500563</td>\n",
       "      <td>stage4</td>\n",
       "    </tr>\n",
       "  </tbody>\n",
       "</table>\n",
       "<p>21518 rows × 4 columns</p>\n",
       "</div>"
      ],
      "text/plain": [
       "            SourceID          RA        Dec category\n",
       "col1                                                \n",
       "0      4000704963129  187.983807  58.010524   stage4\n",
       "1      4000704963271  187.980323  58.026481   stage1\n",
       "2      4000704963422  187.938181  58.039949   stage1\n",
       "3      4000705131622  217.216271  34.015278   stage2\n",
       "4      4000705131630  217.207839  34.015576   stage4\n",
       "...              ...         ...        ...      ...\n",
       "21921  6000536185496  150.500839   2.662972   stage1\n",
       "21922  6000536185585  150.487245   2.671166   stage3\n",
       "21923  6000536185603  150.508543   2.672499   stage1\n",
       "21924  6000536185717  150.486897   2.687377   stage4\n",
       "21925  6000541707737   31.420912 -58.500563   stage4\n",
       "\n",
       "[21518 rows x 4 columns]"
      ]
     },
     "execution_count": 5,
     "metadata": {},
     "output_type": "execute_result"
    }
   ],
   "source": [
    "df_tmp"
   ]
  },
  {
   "cell_type": "markdown",
   "id": "613054cb-cf32-4a51-9003-4254aa89d5dc",
   "metadata": {},
   "source": [
    "### Finding the Ones in COSMOS"
   ]
  },
  {
   "cell_type": "code",
   "execution_count": 6,
   "id": "7d54fd63-5915-4f0d-9c92-0c45b511dd76",
   "metadata": {},
   "outputs": [],
   "source": [
    "limits_cosmos = [150.11916667 - 2, 150.11916667 + 2, 2.20583333 - 2, 2.20583333 + 2.20583333]"
   ]
  },
  {
   "cell_type": "code",
   "execution_count": 7,
   "id": "32d78f69-5c23-4b41-b6d4-cdad80c552a5",
   "metadata": {},
   "outputs": [],
   "source": [
    "def getting_cosmos_params(ra, dec, limits_cosmos, init_dict):\n",
    "    export_dict = init_dict.copy()\n",
    "    if ra < limits_cosmos[0] or ra > limits_cosmos[1] or dec < limits_cosmos[2] or dec > limits_cosmos[3]:\n",
    "        return 'outwith_cosmos'\n",
    "    \n",
    "    record = data[(data['ALPHA_J2000'] < (ra + (30 / 3600))) & (data['ALPHA_J2000'] > (ra - (30 / 3500))) & (data['DELTA_J2000'] < (dec + (30 / 3600))) & (data['DELTA_J2000'] > (dec - (30 / 3600)))]\n",
    "    \n",
    "    table = Table(record)\n",
    "    \n",
    "    df = table.to_pandas()[['ID','ALPHA_J2000', 'DELTA_J2000', 'ez_z_phot', 'lp_type']]\n",
    "    df = df.query('lp_type == 0').drop(columns = 'lp_type')\n",
    "    \n",
    "    if len(df) < 0.5:\n",
    "        return 'null'\n",
    "    \n",
    "    df_sep = (\n",
    "        df\n",
    "        .assign(ang_sep = df.apply(lambda row: abs(SkyCoord(ra = row.ALPHA_J2000 * u.deg, dec = row.DELTA_J2000 * u.deg, frame = 'icrs').separation(SkyCoord(ra = ra * u.deg, dec = dec * u.deg, frame = 'icrs')).to(u.deg)) / u.deg, axis = 1))\n",
    "    )\n",
    "        \n",
    "    prim_id = df_sep.sort_values(by = 'ang_sep', ascending = True)\n",
    "    \n",
    "    prim_gal_id = prim_id['ID'].iloc[0]\n",
    "    z_prim = prim_id['ez_z_phot'].iloc[0]\n",
    "    \n",
    "    prim_galaxy_record = record[record['ID'] == prim_gal_id]\n",
    "    \n",
    "    sec_z = prim_id.assign(z_diff = prim_id.ez_z_phot.apply(lambda x: abs(x - z_prim)))\n",
    "    \n",
    "    sec_id_df = sec_z.sort_values(by = 'z_diff', ascending = True).query('z_diff != 0.0')\n",
    "    \n",
    "    sec_test = sec_id_df.query('z_diff < 0.05')\n",
    "    if len(sec_test) < 0.5:\n",
    "        for i in prim_galaxy_record.names:\n",
    "            export_dict[f'{i}_1'] = prim_galaxy_record[i][0]\n",
    "            export_dict[f'{i}_2'] = None\n",
    "        return init_dict\n",
    "    \n",
    "    sec_gal_id = sec_test['ID'].iloc[0]\n",
    "    \n",
    "    sec_galaxy_record = record[record['ID'] == sec_gal_id]\n",
    "    \n",
    "    for i in prim_galaxy_record.names:\n",
    "        export_dict[f'{i}_1'] = prim_galaxy_record[i][0]\n",
    "        export_dict[f'{i}_2'] = sec_galaxy_record[i][0]\n",
    "    \n",
    "    return export_dict"
   ]
  },
  {
   "cell_type": "code",
   "execution_count": 8,
   "id": "961e2c95-6270-4f55-943f-cacc6e93f12d",
   "metadata": {},
   "outputs": [],
   "source": [
    "init_dict = {}\n",
    "for i in range(2):\n",
    "    for j in data.names:\n",
    "        init_dict[f'{j}_{i+1}'] = None"
   ]
  },
  {
   "cell_type": "code",
   "execution_count": 9,
   "id": "553ae536-ae13-469f-b837-f0584a505988",
   "metadata": {},
   "outputs": [
    {
     "name": "stderr",
     "output_type": "stream",
     "text": [
      "100%|██████████| 21518/21518 [1:35:25<00:00,  3.76it/s]  \n"
     ]
    }
   ],
   "source": [
    "matched_dict = {}\n",
    "for i in tqdm(range(len(df_tmp))):\n",
    "    row = df_tmp.iloc[i]\n",
    "    sourceid = row.SourceID\n",
    "    ra = row.RA\n",
    "    dec = row.Dec\n",
    "    \n",
    "    matched_dict[sourceid] = getting_cosmos_params(ra, dec, limits_cosmos, init_dict)"
   ]
  },
  {
   "cell_type": "code",
   "execution_count": 10,
   "id": "13fa8931-50ad-41a0-85ee-a506d25eaa14",
   "metadata": {},
   "outputs": [],
   "source": [
    "df_found = pd.DataFrame.from_dict(matched_dict, orient = 'index').rename(columns = {0 : 'dict_result'})"
   ]
  },
  {
   "cell_type": "code",
   "execution_count": 11,
   "id": "33c4228c-d089-419f-ac38-cdd10e9defc2",
   "metadata": {},
   "outputs": [],
   "source": [
    "df_red = df_found.query('dict_result != \"outwith_cosmos\" and dict_result != \"null\"')"
   ]
  },
  {
   "cell_type": "code",
   "execution_count": 12,
   "id": "36bdc83c-06e9-47f8-8233-cf77d984651e",
   "metadata": {},
   "outputs": [],
   "source": [
    "dict_cosmos = df_red.to_dict()['dict_result']"
   ]
  },
  {
   "cell_type": "code",
   "execution_count": 13,
   "id": "caf2c53f-757f-4fc0-88b0-9b4807b46ba8",
   "metadata": {},
   "outputs": [],
   "source": [
    "exp_df = pd.DataFrame.from_dict(dict_cosmos, orient = 'index').reset_index().rename(columns = {'index' : 'SourceID'})"
   ]
  },
  {
   "cell_type": "code",
   "execution_count": 14,
   "id": "97db72a6-6bb3-4fe3-9384-8bc872b342b0",
   "metadata": {},
   "outputs": [],
   "source": [
    "exp_df_dna = exp_df[~np.isnan(exp_df['ID_1'])]"
   ]
  },
  {
   "cell_type": "code",
   "execution_count": 16,
   "id": "c2de0747-76c1-4f1b-a927-d762b4f2899f",
   "metadata": {},
   "outputs": [],
   "source": [
    "exp_df_dna.to_csv('C:/Users/oryan/Documents/mergers-in-cosmos/data/catalogue-matched-cosmos-2020.csv')"
   ]
  },
  {
   "cell_type": "code",
   "execution_count": null,
   "id": "50e99c39-1e11-46e7-a169-fccb132d1ab7",
   "metadata": {},
   "outputs": [],
   "source": []
  }
 ],
 "metadata": {
  "kernelspec": {
   "display_name": "Python 3 (ipykernel)",
   "language": "python",
   "name": "python3"
  },
  "language_info": {
   "codemirror_mode": {
    "name": "ipython",
    "version": 3
   },
   "file_extension": ".py",
   "mimetype": "text/x-python",
   "name": "python",
   "nbconvert_exporter": "python",
   "pygments_lexer": "ipython3",
   "version": "3.7.13"
  }
 },
 "nbformat": 4,
 "nbformat_minor": 5
}
