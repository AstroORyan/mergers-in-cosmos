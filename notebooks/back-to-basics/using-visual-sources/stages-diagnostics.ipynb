{
 "cells": [
  {
   "cell_type": "code",
   "execution_count": 1,
   "id": "fc6cd333-452c-4879-b40d-eb26ed7c2a22",
   "metadata": {},
   "outputs": [],
   "source": [
    "import pandas as pd\n",
    "import matplotlib.pyplot as plt\n",
    "import numpy as np\n",
    "import sys"
   ]
  },
  {
   "cell_type": "code",
   "execution_count": 2,
   "id": "7e19e8c0-b3f9-49f1-b34c-8123770ef7d2",
   "metadata": {},
   "outputs": [],
   "source": [
    "combine_fold = 'C:/Users/oryan/Documents/mergers-in-cosmos/cats-to-combine'\n",
    "data_folder = 'C:/Users/oryan/Documents/mergers-in-cosmos/back-to-basics-data'\n",
    "fig_folder = 'C:/Users/oryan/Documents/mergers-in-cosmos/paper-source/figures'"
   ]
  },
  {
   "cell_type": "code",
   "execution_count": 3,
   "id": "04066c4d-77e7-4840-9be8-00a8bdb2fa6a",
   "metadata": {},
   "outputs": [],
   "source": [
    "df_cat = pd.read_csv(f'{combine_fold}/cosmos2020-categorised-interactions.csv', index_col = 0)"
   ]
  },
  {
   "cell_type": "code",
   "execution_count": 4,
   "id": "88cfe3d7-c193-4e81-9e82-e4c8f294e75f",
   "metadata": {},
   "outputs": [
    {
     "data": {
      "text/plain": [
       "stage4    1165\n",
       "stage2    1063\n",
       "stage1     793\n",
       "stage3     775\n",
       "Name: category, dtype: int64"
      ]
     },
     "execution_count": 4,
     "metadata": {},
     "output_type": "execute_result"
    }
   ],
   "source": [
    "df_cat.category.value_counts()"
   ]
  },
  {
   "cell_type": "code",
   "execution_count": 5,
   "id": "8d95fa0a-bf4a-4013-a896-f7937db1a8cd",
   "metadata": {},
   "outputs": [
    {
     "data": {
      "text/html": [
       "<div>\n",
       "<style scoped>\n",
       "    .dataframe tbody tr th:only-of-type {\n",
       "        vertical-align: middle;\n",
       "    }\n",
       "\n",
       "    .dataframe tbody tr th {\n",
       "        vertical-align: top;\n",
       "    }\n",
       "\n",
       "    .dataframe thead th {\n",
       "        text-align: right;\n",
       "    }\n",
       "</style>\n",
       "<table border=\"1\" class=\"dataframe\">\n",
       "  <thead>\n",
       "    <tr style=\"text-align: right;\">\n",
       "      <th></th>\n",
       "      <th>SourceID</th>\n",
       "      <th>merger</th>\n",
       "    </tr>\n",
       "  </thead>\n",
       "  <tbody>\n",
       "    <tr>\n",
       "      <th>0</th>\n",
       "      <td>4000705532455</td>\n",
       "      <td>n</td>\n",
       "    </tr>\n",
       "    <tr>\n",
       "      <th>1</th>\n",
       "      <td>4000705532984</td>\n",
       "      <td>nm</td>\n",
       "    </tr>\n",
       "    <tr>\n",
       "      <th>2</th>\n",
       "      <td>4000705533312</td>\n",
       "      <td>y</td>\n",
       "    </tr>\n",
       "    <tr>\n",
       "      <th>3</th>\n",
       "      <td>4000705533383</td>\n",
       "      <td>n</td>\n",
       "    </tr>\n",
       "    <tr>\n",
       "      <th>4</th>\n",
       "      <td>4000705539435</td>\n",
       "      <td>l</td>\n",
       "    </tr>\n",
       "    <tr>\n",
       "      <th>...</th>\n",
       "      <td>...</td>\n",
       "      <td>...</td>\n",
       "    </tr>\n",
       "    <tr>\n",
       "      <th>3781</th>\n",
       "      <td>6000536185363</td>\n",
       "      <td>nm</td>\n",
       "    </tr>\n",
       "    <tr>\n",
       "      <th>3782</th>\n",
       "      <td>6000536185496</td>\n",
       "      <td>n</td>\n",
       "    </tr>\n",
       "    <tr>\n",
       "      <th>3783</th>\n",
       "      <td>6000536185585</td>\n",
       "      <td>b</td>\n",
       "    </tr>\n",
       "    <tr>\n",
       "      <th>3784</th>\n",
       "      <td>6000536185603</td>\n",
       "      <td>nm</td>\n",
       "    </tr>\n",
       "    <tr>\n",
       "      <th>3785</th>\n",
       "      <td>6000536185717</td>\n",
       "      <td>y</td>\n",
       "    </tr>\n",
       "  </tbody>\n",
       "</table>\n",
       "<p>3786 rows × 2 columns</p>\n",
       "</div>"
      ],
      "text/plain": [
       "           SourceID merger\n",
       "0     4000705532455      n\n",
       "1     4000705532984     nm\n",
       "2     4000705533312      y\n",
       "3     4000705533383      n\n",
       "4     4000705539435      l\n",
       "...             ...    ...\n",
       "3781  6000536185363     nm\n",
       "3782  6000536185496      n\n",
       "3783  6000536185585      b\n",
       "3784  6000536185603     nm\n",
       "3785  6000536185717      y\n",
       "\n",
       "[3786 rows x 2 columns]"
      ]
     },
     "execution_count": 5,
     "metadata": {},
     "output_type": "execute_result"
    }
   ],
   "source": [
    "df_comb = pd.read_csv(f'{data_folder}/secondaries-identified.csv', index_col = 0).reset_index().rename(columns = {'index':'SourceID', '0':'merger'})\n",
    "df_comb"
   ]
  },
  {
   "cell_type": "markdown",
   "id": "861ce29d-281b-4c64-9507-5c60419de443",
   "metadata": {},
   "source": [
    "### Plotting Stage w/ Visual Classification\n",
    "Here, we're conducting a basic diagnostic. I want to see the spread in my visual classification against the stages."
   ]
  },
  {
   "cell_type": "code",
   "execution_count": 6,
   "id": "6d103827-a501-4bc1-8a9d-aa10c15a8db8",
   "metadata": {},
   "outputs": [],
   "source": [
    "df_merg = df_cat[['ORyan23_ID', 'category']].merge(df_comb, right_on = 'SourceID', left_on = 'ORyan23_ID', how = 'left')"
   ]
  },
  {
   "cell_type": "code",
   "execution_count": 7,
   "id": "ea02c9d9-b618-4bc9-9b53-c19615d8e362",
   "metadata": {},
   "outputs": [],
   "source": [
    "df_merg.at[608, 'merger'] = 'n'\n",
    "df_merg.at[1305, 'merger'] = 'n'"
   ]
  },
  {
   "cell_type": "code",
   "execution_count": 8,
   "id": "4053768c-b6ee-4381-9f8b-0889062240ef",
   "metadata": {},
   "outputs": [
    {
     "data": {
      "text/plain": [
       "n    2180\n",
       "y    1416\n",
       "b     200\n",
       "Name: merger, dtype: int64"
      ]
     },
     "execution_count": 8,
     "metadata": {},
     "output_type": "execute_result"
    }
   ],
   "source": [
    "df_merg.merger.value_counts()"
   ]
  },
  {
   "cell_type": "code",
   "execution_count": 15,
   "id": "c321bbc7-12cc-404e-8d3e-229ca5847685",
   "metadata": {},
   "outputs": [
    {
     "data": {
      "image/png": "[encoded data removed]",
      "text/plain": [
       "<Figure size 400x400 with 4 Axes>"
      ]
     },
     "metadata": {},
     "output_type": "display_data"
    }
   ],
   "source": [
    "fig, ax = plt.subplots(nrows = 2, ncols = 2, figsize = (4,4))\n",
    "\n",
    "counter = 1\n",
    "for i in range(2):\n",
    "    for j in range(2):\n",
    "        df = df_merg.query(f'category == \"stage{counter}\"')\n",
    "        values = df.merger.value_counts()\n",
    "        values.plot.bar(\n",
    "            ax = ax[i,j],\n",
    "            fill=False,\n",
    "            title = f'Stage {counter}'\n",
    "        )\n",
    "        counter += 1\n",
    "fig.text(0.28, -0.02, 'Visual Classification of Merger', fontsize = 18)\n",
    "fig.text(-0.02,0.38, 'N Classifications', fontsize = 18, rotation = 'vertical')\n",
    "fig.tight_layout()\n",
    "fig.savefig('C:/Users/oryan/Documents/mergers-in-cosmos/paper-source/figures/visualisation_classification.pdf', bbox_inches = 'tight')"
   ]
  },
  {
   "cell_type": "code",
   "execution_count": 10,
   "id": "8137dcb1-f7f0-4547-a2c8-dd0017faec2c",
   "metadata": {},
   "outputs": [
    {
     "data": {
      "text/plain": [
       "stage4    1165\n",
       "stage2    1063\n",
       "stage1     793\n",
       "stage3     775\n",
       "Name: category, dtype: int64"
      ]
     },
     "execution_count": 10,
     "metadata": {},
     "output_type": "execute_result"
    }
   ],
   "source": [
    "df_merg.category.value_counts()"
   ]
  },
  {
   "cell_type": "code",
   "execution_count": 11,
   "id": "4280468e-852e-42fc-9dc6-d337ef3f119d",
   "metadata": {},
   "outputs": [],
   "source": [
    "x = ['Stage 1', 'Stage 2', 'Stage 3','Stage 4']\n",
    "y = [793, 1063, 775, 1165]"
   ]
  },
  {
   "cell_type": "code",
   "execution_count": 16,
   "id": "e1078932-5370-40cb-b8b1-4444ac6e0730",
   "metadata": {},
   "outputs": [
    {
     "data": {
      "image/png": "[encoded data removed]",
      "text/plain": [
       "<Figure size 400x400 with 1 Axes>"
      ]
     },
     "metadata": {},
     "output_type": "display_data"
    }
   ],
   "source": [
    "plt.figure(figsize = (4,4))\n",
    "plt.bar(x, y, fill = False)\n",
    "plt.ylabel('N Classifications')\n",
    "plt.savefig(f'{fig_folder}/n-classifications-stages.pdf', bbox_inches = 'tight')\n",
    "plt.show()"
   ]
  },
  {
   "cell_type": "code",
   "execution_count": null,
   "id": "5a02f2be-5df7-43c9-97e9-0b29406e9fa0",
   "metadata": {},
   "outputs": [],
   "source": []
  }
 ],
 "metadata": {
  "kernelspec": {
   "display_name": "Python 3 (ipykernel)",
   "language": "python",
   "name": "python3"
  },
  "language_info": {
   "codemirror_mode": {
    "name": "ipython",
    "version": 3
   },
   "file_extension": ".py",
   "mimetype": "text/x-python",
   "name": "python",
   "nbconvert_exporter": "python",
   "pygments_lexer": "ipython3",
   "version": "3.7.13"
  }
 },
 "nbformat": 4,
 "nbformat_minor": 5
}
