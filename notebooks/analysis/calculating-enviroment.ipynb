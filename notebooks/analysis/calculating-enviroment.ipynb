{
 "cells": [
  {
   "cell_type": "code",
   "execution_count": 1,
   "id": "4bd9c573-726c-4ff3-a4d9-ac76b08c52a3",
   "metadata": {},
   "outputs": [
    {
     "name": "stderr",
     "output_type": "stream",
     "text": [
      "Exception ignored in: <module 'collections.abc' from 'C:\\\\Users\\\\oryan\\\\AppData\\\\Local\\\\Continuum\\\\anaconda3\\\\lib\\\\collections\\\\abc.py'>\n",
      "Traceback (most recent call last):\n",
      "  File \"<string>\", line 1, in <module>\n",
      "KeyboardInterrupt\n",
      "C:\\Users\\oryan\\AppData\\Local\\Continuum\\anaconda3\\lib\\importlib\\_bootstrap.py:219: RuntimeWarning: Cython module failed to patch module with custom type\n",
      "  return f(*args, **kwds)\n",
      "\n",
      "KeyboardInterrupt\n",
      "\n"
     ]
    }
   ],
   "source": [
    "import pandas as pd\n",
    "import numpy as np\n",
    "from IPython.display import clear_output\n",
    "\n",
    "from astropy.io import fits\n",
    "from astropy.table import Table\n",
    "from astropy.cosmology import FlatLambdaCDM\n",
    "from astropy.coordinates import SkyCoord\n",
    "import astropy.units as u\n",
    "\n",
    "import sys\n",
    "import os\n",
    "import glob\n",
    "from tqdm import tqdm"
   ]
  },
  {
   "cell_type": "code",
   "execution_count": null,
   "id": "ed4d17f5-bd82-464b-8b2f-dc0f6d9e1229",
   "metadata": {},
   "outputs": [],
   "source": [
    "folder = 'C:/Users/oryan/Documents/mergers-in-cosmos'\n",
    "data_folder = f'{folder}/data'\n",
    "results = f'{folder}/results'\n",
    "\n",
    "drive_folder = 'E:/cosmos-data'"
   ]
  },
  {
   "cell_type": "markdown",
   "id": "360f3176-bc97-4d1d-aa9f-a2c29defde84",
   "metadata": {},
   "source": [
    "## Importing Data"
   ]
  },
  {
   "cell_type": "code",
   "execution_count": null,
   "id": "57589f93-a4f6-404c-aecf-2012b3ffa642",
   "metadata": {},
   "outputs": [],
   "source": [
    "with fits.open(f'{drive_folder}/COSMOS2020_CLASSIC_R1_v2.1_p3.fits.gz') as hdul:\n",
    "    header = hdul[1].header\n",
    "    data = hdul[1].data"
   ]
  },
  {
   "cell_type": "code",
   "execution_count": 4,
   "id": "a9896012-a635-4c20-b2c5-13675b130a1e",
   "metadata": {},
   "outputs": [],
   "source": [
    "df = pd.read_csv(f'{data_folder}/catalogue-matched-cosmos-2020.csv', index_col = 0)"
   ]
  },
  {
   "cell_type": "code",
   "execution_count": 5,
   "id": "d16de65a-5de9-4cce-bd53-5d829f0b1f70",
   "metadata": {},
   "outputs": [
    {
     "data": {
      "text/html": [
       "<div>\n",
       "<style scoped>\n",
       "    .dataframe tbody tr th:only-of-type {\n",
       "        vertical-align: middle;\n",
       "    }\n",
       "\n",
       "    .dataframe tbody tr th {\n",
       "        vertical-align: top;\n",
       "    }\n",
       "\n",
       "    .dataframe thead th {\n",
       "        text-align: right;\n",
       "    }\n",
       "</style>\n",
       "<table border=\"1\" class=\"dataframe\">\n",
       "  <thead>\n",
       "    <tr style=\"text-align: right;\">\n",
       "      <th></th>\n",
       "      <th>SourceID</th>\n",
       "      <th>ID_1</th>\n",
       "      <th>ALPHA_J2000_1</th>\n",
       "      <th>DELTA_J2000_1</th>\n",
       "      <th>X_IMAGE_1</th>\n",
       "      <th>Y_IMAGE_1</th>\n",
       "      <th>ERRX2_IMAGE_1</th>\n",
       "      <th>ERRY2_IMAGE_1</th>\n",
       "      <th>ERRXY_IMAGE_1</th>\n",
       "      <th>FLUX_RADIUS_1</th>\n",
       "      <th>...</th>\n",
       "      <th>ez_ssfr_p025_2</th>\n",
       "      <th>ez_ssfr_p160_2</th>\n",
       "      <th>ez_ssfr_p500_2</th>\n",
       "      <th>ez_ssfr_p840_2</th>\n",
       "      <th>ez_ssfr_p975_2</th>\n",
       "      <th>ez_Av_p025_2</th>\n",
       "      <th>ez_Av_p160_2</th>\n",
       "      <th>ez_Av_p500_2</th>\n",
       "      <th>ez_Av_p840_2</th>\n",
       "      <th>ez_Av_p975_2</th>\n",
       "    </tr>\n",
       "  </thead>\n",
       "  <tbody>\n",
       "    <tr>\n",
       "      <th>0</th>\n",
       "      <td>4000705532984</td>\n",
       "      <td>857121.0</td>\n",
       "      <td>150.673667</td>\n",
       "      <td>2.226291</td>\n",
       "      <td>9348.870117</td>\n",
       "      <td>22451.160156</td>\n",
       "      <td>0.000002</td>\n",
       "      <td>0.000004</td>\n",
       "      <td>1.265998e-08</td>\n",
       "      <td>8.876858</td>\n",
       "      <td>...</td>\n",
       "      <td>-8.385987</td>\n",
       "      <td>-8.323476</td>\n",
       "      <td>-8.259419</td>\n",
       "      <td>-8.171948</td>\n",
       "      <td>-8.081048</td>\n",
       "      <td>0.595371</td>\n",
       "      <td>0.783795</td>\n",
       "      <td>0.924471</td>\n",
       "      <td>1.022045</td>\n",
       "      <td>1.076083</td>\n",
       "    </tr>\n",
       "    <tr>\n",
       "      <th>1</th>\n",
       "      <td>4000705533312</td>\n",
       "      <td>873195.0</td>\n",
       "      <td>150.668102</td>\n",
       "      <td>2.242849</td>\n",
       "      <td>9482.499023</td>\n",
       "      <td>22848.505859</td>\n",
       "      <td>0.000007</td>\n",
       "      <td>0.000002</td>\n",
       "      <td>1.829277e-06</td>\n",
       "      <td>5.542504</td>\n",
       "      <td>...</td>\n",
       "      <td>-8.962106</td>\n",
       "      <td>-8.711401</td>\n",
       "      <td>-8.478580</td>\n",
       "      <td>-8.303174</td>\n",
       "      <td>-8.135300</td>\n",
       "      <td>0.082679</td>\n",
       "      <td>0.231435</td>\n",
       "      <td>0.436111</td>\n",
       "      <td>0.622873</td>\n",
       "      <td>0.829844</td>\n",
       "    </tr>\n",
       "    <tr>\n",
       "      <th>2</th>\n",
       "      <td>4000705533383</td>\n",
       "      <td>861738.0</td>\n",
       "      <td>150.645118</td>\n",
       "      <td>2.237538</td>\n",
       "      <td>10033.689453</td>\n",
       "      <td>22720.843750</td>\n",
       "      <td>0.000039</td>\n",
       "      <td>0.000078</td>\n",
       "      <td>1.332813e-05</td>\n",
       "      <td>5.169795</td>\n",
       "      <td>...</td>\n",
       "      <td>-9.779914</td>\n",
       "      <td>-9.521317</td>\n",
       "      <td>-9.042374</td>\n",
       "      <td>-8.946216</td>\n",
       "      <td>-8.919963</td>\n",
       "      <td>0.570974</td>\n",
       "      <td>0.686736</td>\n",
       "      <td>0.964232</td>\n",
       "      <td>1.396826</td>\n",
       "      <td>1.587413</td>\n",
       "    </tr>\n",
       "    <tr>\n",
       "      <th>3</th>\n",
       "      <td>4000705539435</td>\n",
       "      <td>1280765.0</td>\n",
       "      <td>149.702469</td>\n",
       "      <td>2.636086</td>\n",
       "      <td>32637.894531</td>\n",
       "      <td>32285.564453</td>\n",
       "      <td>0.000561</td>\n",
       "      <td>0.000900</td>\n",
       "      <td>1.408110e-05</td>\n",
       "      <td>4.764572</td>\n",
       "      <td>...</td>\n",
       "      <td>-10.821019</td>\n",
       "      <td>-10.378546</td>\n",
       "      <td>-10.191748</td>\n",
       "      <td>-10.048404</td>\n",
       "      <td>-9.860973</td>\n",
       "      <td>0.251250</td>\n",
       "      <td>0.657133</td>\n",
       "      <td>1.055286</td>\n",
       "      <td>1.348915</td>\n",
       "      <td>1.713512</td>\n",
       "    </tr>\n",
       "    <tr>\n",
       "      <th>4</th>\n",
       "      <td>4000705539529</td>\n",
       "      <td>1284864.0</td>\n",
       "      <td>149.686223</td>\n",
       "      <td>2.637412</td>\n",
       "      <td>33027.406250</td>\n",
       "      <td>32317.517578</td>\n",
       "      <td>0.000031</td>\n",
       "      <td>0.000030</td>\n",
       "      <td>1.244353e-06</td>\n",
       "      <td>6.412690</td>\n",
       "      <td>...</td>\n",
       "      <td>-8.389942</td>\n",
       "      <td>-8.324630</td>\n",
       "      <td>-8.253101</td>\n",
       "      <td>-8.180449</td>\n",
       "      <td>-8.090549</td>\n",
       "      <td>0.360573</td>\n",
       "      <td>0.404528</td>\n",
       "      <td>0.450688</td>\n",
       "      <td>0.494164</td>\n",
       "      <td>0.550538</td>\n",
       "    </tr>\n",
       "  </tbody>\n",
       "</table>\n",
       "<p>5 rows × 1509 columns</p>\n",
       "</div>"
      ],
      "text/plain": [
       "        SourceID       ID_1  ALPHA_J2000_1  DELTA_J2000_1     X_IMAGE_1  \\\n",
       "0  4000705532984   857121.0     150.673667       2.226291   9348.870117   \n",
       "1  4000705533312   873195.0     150.668102       2.242849   9482.499023   \n",
       "2  4000705533383   861738.0     150.645118       2.237538  10033.689453   \n",
       "3  4000705539435  1280765.0     149.702469       2.636086  32637.894531   \n",
       "4  4000705539529  1284864.0     149.686223       2.637412  33027.406250   \n",
       "\n",
       "      Y_IMAGE_1  ERRX2_IMAGE_1  ERRY2_IMAGE_1  ERRXY_IMAGE_1  FLUX_RADIUS_1  \\\n",
       "0  22451.160156       0.000002       0.000004   1.265998e-08       8.876858   \n",
       "1  22848.505859       0.000007       0.000002   1.829277e-06       5.542504   \n",
       "2  22720.843750       0.000039       0.000078   1.332813e-05       5.169795   \n",
       "3  32285.564453       0.000561       0.000900   1.408110e-05       4.764572   \n",
       "4  32317.517578       0.000031       0.000030   1.244353e-06       6.412690   \n",
       "\n",
       "   ...  ez_ssfr_p025_2  ez_ssfr_p160_2  ez_ssfr_p500_2  ez_ssfr_p840_2  \\\n",
       "0  ...       -8.385987       -8.323476       -8.259419       -8.171948   \n",
       "1  ...       -8.962106       -8.711401       -8.478580       -8.303174   \n",
       "2  ...       -9.779914       -9.521317       -9.042374       -8.946216   \n",
       "3  ...      -10.821019      -10.378546      -10.191748      -10.048404   \n",
       "4  ...       -8.389942       -8.324630       -8.253101       -8.180449   \n",
       "\n",
       "   ez_ssfr_p975_2  ez_Av_p025_2  ez_Av_p160_2  ez_Av_p500_2  ez_Av_p840_2  \\\n",
       "0       -8.081048      0.595371      0.783795      0.924471      1.022045   \n",
       "1       -8.135300      0.082679      0.231435      0.436111      0.622873   \n",
       "2       -8.919963      0.570974      0.686736      0.964232      1.396826   \n",
       "3       -9.860973      0.251250      0.657133      1.055286      1.348915   \n",
       "4       -8.090549      0.360573      0.404528      0.450688      0.494164   \n",
       "\n",
       "   ez_Av_p975_2  \n",
       "0      1.076083  \n",
       "1      0.829844  \n",
       "2      1.587413  \n",
       "3      1.713512  \n",
       "4      0.550538  \n",
       "\n",
       "[5 rows x 1509 columns]"
      ]
     },
     "execution_count": 5,
     "metadata": {},
     "output_type": "execute_result"
    }
   ],
   "source": [
    "df.head()"
   ]
  },
  {
   "cell_type": "markdown",
   "id": "f70ce0fb-fb5e-4deb-8d12-c34f528d1707",
   "metadata": {},
   "source": [
    "## Calculating Environment Parameter"
   ]
  },
  {
   "cell_type": "markdown",
   "id": "1fc4d984-11e5-445a-998a-ec6da6d22712",
   "metadata": {},
   "source": [
    "The equation we will use to calculate the enviroment parameter is the following:\n",
    "\n",
    "Sigma_N = N / (pi * d**2)\n",
    "\n",
    "This is then logged and averaged between the 4th and 5th neighbour. Once we have this, begin following the Baldry et al (2006) further. I'm not sure what units d is meant to be in and how it gets normalised to be unitless.\n",
    "\n",
    "Sigma should be in units of Mpc**-2!"
   ]
  },
  {
   "cell_type": "code",
   "execution_count": 17,
   "id": "cf316a9f-08b7-4fd5-bb3a-1f95948be852",
   "metadata": {},
   "outputs": [],
   "source": [
    "df_red = (\n",
    "    df[['SourceID', 'ID_1', 'ALPHA_J2000_1', 'DELTA_J2000_1']]\n",
    ")"
   ]
  },
  {
   "cell_type": "code",
   "execution_count": 18,
   "id": "4acb1f3e-958c-4ce0-9c4f-a6e89b39fd1a",
   "metadata": {},
   "outputs": [],
   "source": [
    "coord_dict = df_red[:50].set_index('SourceID').to_dict(orient = 'index')"
   ]
  },
  {
   "cell_type": "code",
   "execution_count": 28,
   "id": "99cc304a-2a7a-4649-8116-974d77c77530",
   "metadata": {},
   "outputs": [],
   "source": [
    "def calc_sep(ra1, dec1, ra2, dec2, z_1, z_2, cosmo):\n",
    "    \n",
    "    d1 = cosmo.comoving_distance(z_1).to(u.kpc)\n",
    "    d2 = cosmo.comoving_distance(z_1).to(u.kpc)\n",
    "    \n",
    "    c1 = SkyCoord(ra = ra1 * u.deg, dec = dec1 * u.deg, frame = 'fk5')\n",
    "    c2 = SkyCoord(ra = ra2 * u.deg, dec = dec2 * u.deg, frame = 'fk5')\n",
    "    \n",
    "    ang_sep = c1.separation(c2).to(u.arcmin)\n",
    "    conversion = cosmo.kpc_proper_per_arcmin(z_1)\n",
    "    \n",
    "    c1 = SkyCoord(ra = ra1 * u.deg, dec = dec1 * u.deg, distance = d1, frame = 'fk5')\n",
    "    c2 = SkyCoord(ra = ra2 * u.deg, dec = dec2 * u.deg, distance = d2, frame = 'fk5')\n",
    "    \n",
    "    # sep = c1.separation(c2)\n",
    "    \n",
    "    proj_sep = ang_sep * conversion\n",
    "    \n",
    "    return float(proj_sep.to(u.Mpc) / u.Mpc)"
   ]
  },
  {
   "cell_type": "code",
   "execution_count": 20,
   "id": "f3db6f3e-5765-470a-8481-f5150fe8cfc8",
   "metadata": {},
   "outputs": [],
   "source": [
    "def get_n_neighbours(gal_id, ra, dec):\n",
    "    \n",
    "    clear_output(wait = True)\n",
    "    end_index = 0\n",
    "    ang = 0.1\n",
    "    while end_index < 5:\n",
    "        record = data[(data['ALPHA_J2000'] < (ra + ang)) & (data['ALPHA_J2000'] > (ra - ang)) & (data['DELTA_J2000'] < (dec + ang)) & (data['DELTA_J2000'] > (dec - ang))]\n",
    "\n",
    "        table = Table(record)\n",
    "\n",
    "        prim_galaxy_record = record[record['ID'] == gal_id]\n",
    "        prim_z = prim_galaxy_record['ez_z_phot'][0]\n",
    "\n",
    "        df = table.to_pandas()[['ID','ALPHA_J2000', 'DELTA_J2000', 'ez_z_phot', 'lp_type']]\n",
    "        df = df.query('lp_type == 0').drop(columns = 'lp_type').dropna()\n",
    "        df = df.query('ID != @gal_id')\n",
    "\n",
    "        if len(df) < 0.5:\n",
    "            return 'null'\n",
    "\n",
    "        df_z_diff = (\n",
    "            df\n",
    "            .assign(z_diff = df.ez_z_phot.apply(lambda x: abs(x - prim_z)))\n",
    "        )\n",
    "\n",
    "        df_z_cut = df_z_diff.query('z_diff < 0.005')\n",
    "        if len(df_z_cut) < 1:\n",
    "            return {'IDs': [], 'separations': [], 'N_1' : None, 'N_2' : None, 'N_3' : None, 'N_4': None, 'N_5' : None}\n",
    "\n",
    "        df_sep = (\n",
    "            df_z_cut\n",
    "            .assign(separation = df_z_cut.apply(lambda row: calc_sep(ra, dec, row.ALPHA_J2000, row.DELTA_J2000, prim_z, row.ez_z_phot, cosmo), axis = 1))\n",
    "        )\n",
    "\n",
    "        df_sorted = df_sep.sort_values(by = 'separation', ascending = True)\n",
    "\n",
    "        end_index = 5\n",
    "        if len(df_sorted) < end_index:\n",
    "            print('Expanding Search Range...')\n",
    "            end_index = len(df_sorted)\n",
    "            ang += 0.05\n",
    "\n",
    "    df_nearest = df_sorted[:end_index]\n",
    "\n",
    "    nearest = {'IDs': [], 'separations': [], 'N_1' : None, 'N_2' : None, 'N_3' : None, 'N_4': None, 'N_5' : None}\n",
    "    for i in range(end_index):\n",
    "        nearest['IDs'].append(df_nearest.ID.iloc[i])\n",
    "        nearest['separations'].append(df_nearest.separation.iloc[i])\n",
    "        nearest[f'N_{i+1}'] = i+1 / (np.pi * (df_nearest.separation.iloc[i])**2)\n",
    "        \n",
    "    return nearest"
   ]
  },
  {
   "cell_type": "code",
   "execution_count": 21,
   "id": "4d5d2cb8-b82f-4384-81a5-0ae8b5a70f4d",
   "metadata": {},
   "outputs": [],
   "source": [
    "global cosmo\n",
    "cosmo = FlatLambdaCDM(H0=70, Om0=0.3, Tcmb0=2.725)"
   ]
  },
  {
   "cell_type": "markdown",
   "id": "ac08b461-4802-475a-9085-93c2fff23415",
   "metadata": {},
   "source": [
    "## Below will take about 2 Hours.\n",
    "Run in the morning!"
   ]
  },
  {
   "cell_type": "code",
   "execution_count": 22,
   "id": "845cc0db-c6ee-47a6-982e-1a744d262db0",
   "metadata": {},
   "outputs": [],
   "source": [
    "# df_done = pd.read_csv(f'{results}/nearest-neighbours-corr-3d.csv', index_col = 0)"
   ]
  },
  {
   "cell_type": "code",
   "execution_count": 23,
   "id": "fd77cf76-3fca-459e-9186-a314a032d177",
   "metadata": {},
   "outputs": [],
   "source": [
    "# done_list = list(df_done.SourceID)\n",
    "done_list = []"
   ]
  },
  {
   "cell_type": "code",
   "execution_count": 24,
   "id": "59f99b84-f32c-42fa-9b44-bff08c531658",
   "metadata": {},
   "outputs": [],
   "source": [
    "global data"
   ]
  },
  {
   "cell_type": "code",
   "execution_count": 29,
   "id": "f842b554-6422-4f88-b881-d5caae0cdce4",
   "metadata": {},
   "outputs": [
    {
     "name": "stderr",
     "output_type": "stream",
     "text": [
      "100%|██████████| 50/50 [01:42<00:00,  2.06s/it]\n"
     ]
    }
   ],
   "source": [
    "results_dict = {}\n",
    "counter = 0\n",
    "mult = 1\n",
    "for sourceid, values in tqdm(coord_dict.items()):\n",
    "    if sourceid in done_list:\n",
    "        continue\n",
    "    results_dict[sourceid] = get_n_neighbours(values['ID_1'], values['ALPHA_J2000_1'], values['DELTA_J2000_1'])\n",
    "    counter += 1\n",
    "    \n",
    "    if counter / 50 == 10:\n",
    "        df_Ns = pd.DataFrame.from_dict(results_dict, orient = 'index').reset_index()\n",
    "        df_Ns.to_csv(f'{results}/tmp-nearest-neighbours-corr-3d-{mult*counter}.csv')\n",
    "        counter = 0\n",
    "        mult += 1\n",
    "        del df_Ns\n",
    "        results_dict = {}"
   ]
  },
  {
   "cell_type": "code",
   "execution_count": 30,
   "id": "5a189e05-3308-4aaa-bace-2e6f5557e61e",
   "metadata": {},
   "outputs": [],
   "source": [
    "df_Ns = pd.DataFrame.from_dict(results_dict, orient = 'index').reset_index()"
   ]
  },
  {
   "cell_type": "code",
   "execution_count": 35,
   "id": "20764966-7dd0-45fe-8745-fc70b3811d3d",
   "metadata": {},
   "outputs": [],
   "source": [
    "csv_files = glob.glob(f'{results}/tmp-nearest-neighbours-corr-3d-*.csv')\n",
    "for i in csv_files:\n",
    "    df_tmp = pd.read_csv(i, index_col = 0)\n",
    "    df_Ns = pd.concat([df_Ns, df_tmp])"
   ]
  },
  {
   "cell_type": "code",
   "execution_count": 38,
   "id": "831c8fff-96b3-4859-990d-bb9ce2724e85",
   "metadata": {},
   "outputs": [],
   "source": [
    "df_Ns.to_csv(f'{results}/nearest-neighbours-corr-3d.csv')"
   ]
  },
  {
   "cell_type": "code",
   "execution_count": 41,
   "id": "4ac15a21-6c70-4d1e-86a4-10ddc6dbac20",
   "metadata": {},
   "outputs": [],
   "source": [
    "for i in csv_files:\n",
    "    os.remove(i)"
   ]
  }
 ],
 "metadata": {
  "kernelspec": {
   "display_name": "Python 3 (ipykernel)",
   "language": "python",
   "name": "python3"
  },
  "language_info": {
   "codemirror_mode": {
    "name": "ipython",
    "version": 3
   },
   "file_extension": ".py",
   "mimetype": "text/x-python",
   "name": "python",
   "nbconvert_exporter": "python",
   "pygments_lexer": "ipython3",
   "version": "3.7.13"
  }
 },
 "nbformat": 4,
 "nbformat_minor": 5
}
