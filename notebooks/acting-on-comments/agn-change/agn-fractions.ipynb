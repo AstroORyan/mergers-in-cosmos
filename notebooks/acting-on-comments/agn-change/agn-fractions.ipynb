{
 "cells": [
  {
   "cell_type": "code",
   "execution_count": 1,
   "id": "b62f5581-1da9-4fc0-8eaa-703c3696dade",
   "metadata": {},
   "outputs": [],
   "source": [
    "import pandas as pd\n",
    "import seaborn as sns\n",
    "import matplotlib.pyplot as plt\n",
    "import numpy as np\n",
    "import glob\n",
    "import cv2 as cv\n",
    "\n",
    "from astropy.coordinates import SkyCoord\n",
    "import astropy.units as u\n",
    "from astropy.cosmology import FlatLambdaCDM\n",
    "\n",
    "import numpy as np\n",
    "from scipy import special\n",
    "from scipy.stats import kstwobign, anderson\n",
    "import scipy.stats.distributions as dist\n",
    "\n",
    "\n",
    "plt.rcParams['font.size'] = 14"
   ]
  },
  {
   "cell_type": "code",
   "execution_count": 2,
   "id": "2e1e9929-39e0-4904-9728-23abc13bdead",
   "metadata": {},
   "outputs": [],
   "source": [
    "combine_fold = 'C:/Users/oryan/Documents/mergers-in-cosmos/cats-to-combine'\n",
    "data_folder = 'C:/Users/oryan/Documents/mergers-in-cosmos/back-to-basics-data'\n",
    "fig_folder = 'C:/Users/oryan/Documents/mergers-in-cosmos/paper-source/figures'\n",
    "cos_dat_fold = 'E:/cosmos-data'"
   ]
  },
  {
   "cell_type": "markdown",
   "id": "73da3295-5095-4935-9bb3-70040882886e",
   "metadata": {},
   "source": [
    "### Importing Data"
   ]
  },
  {
   "cell_type": "code",
   "execution_count": 3,
   "id": "a63d1d81-15ad-4851-83b9-ba217e5639e6",
   "metadata": {},
   "outputs": [],
   "source": [
    "agn_cat = pd.read_csv(f'{combine_fold}/source-agn-cat-fixed.csv', index_col = 0)"
   ]
  },
  {
   "cell_type": "code",
   "execution_count": 4,
   "id": "ebc9a101-18f7-4a07-875d-8d3968583f09",
   "metadata": {},
   "outputs": [
    {
     "name": "stderr",
     "output_type": "stream",
     "text": [
      "C:\\Users\\oryan\\AppData\\Local\\Continuum\\anaconda3\\lib\\site-packages\\IPython\\core\\interactiveshell.py:3457: DtypeWarning: Columns (1) have mixed types.Specify dtype option on import or set low_memory=False.\n",
      "  exec(code_obj, self.user_global_ns, self.user_ns)\n"
     ]
    }
   ],
   "source": [
    "df_cat = pd.read_csv(f'{combine_fold}/dor-all-restaged-full.csv', index_col = 0)"
   ]
  },
  {
   "cell_type": "code",
   "execution_count": 5,
   "id": "195ebb7c-7f4e-4ed0-9054-4c759fa618ce",
   "metadata": {},
   "outputs": [
    {
     "data": {
      "text/html": [
       "<div>\n",
       "<style scoped>\n",
       "    .dataframe tbody tr th:only-of-type {\n",
       "        vertical-align: middle;\n",
       "    }\n",
       "\n",
       "    .dataframe tbody tr th {\n",
       "        vertical-align: top;\n",
       "    }\n",
       "\n",
       "    .dataframe thead th {\n",
       "        text-align: right;\n",
       "    }\n",
       "</style>\n",
       "<table border=\"1\" class=\"dataframe\">\n",
       "  <thead>\n",
       "    <tr style=\"text-align: right;\">\n",
       "      <th></th>\n",
       "      <th>ORyanID_23</th>\n",
       "      <th>ID</th>\n",
       "      <th>category</th>\n",
       "      <th>ALPHA_J2000</th>\n",
       "      <th>DELTA_J2000</th>\n",
       "      <th>X_IMAGE</th>\n",
       "      <th>Y_IMAGE</th>\n",
       "      <th>ERRX2_IMAGE</th>\n",
       "      <th>ERRY2_IMAGE</th>\n",
       "      <th>ERRXY_IMAGE</th>\n",
       "      <th>...</th>\n",
       "      <th>ez_ssfr_p025</th>\n",
       "      <th>ez_ssfr_p160</th>\n",
       "      <th>ez_ssfr_p500</th>\n",
       "      <th>ez_ssfr_p840</th>\n",
       "      <th>ez_ssfr_p975</th>\n",
       "      <th>ez_Av_p025</th>\n",
       "      <th>ez_Av_p160</th>\n",
       "      <th>ez_Av_p500</th>\n",
       "      <th>ez_Av_p840</th>\n",
       "      <th>ez_Av_p975</th>\n",
       "    </tr>\n",
       "  </thead>\n",
       "  <tbody>\n",
       "    <tr>\n",
       "      <th>0</th>\n",
       "      <td>4000705532455</td>\n",
       "      <td>816891</td>\n",
       "      <td>stage4</td>\n",
       "      <td>150.679846</td>\n",
       "      <td>2.196543</td>\n",
       "      <td>9200.399414</td>\n",
       "      <td>21737.232422</td>\n",
       "      <td>0.000052</td>\n",
       "      <td>0.000059</td>\n",
       "      <td>-0.000010</td>\n",
       "      <td>...</td>\n",
       "      <td>-8.931825</td>\n",
       "      <td>-8.911355</td>\n",
       "      <td>-8.899668</td>\n",
       "      <td>-8.883307</td>\n",
       "      <td>-8.872990</td>\n",
       "      <td>0.529107</td>\n",
       "      <td>0.560142</td>\n",
       "      <td>0.599624</td>\n",
       "      <td>0.630920</td>\n",
       "      <td>0.652330</td>\n",
       "    </tr>\n",
       "    <tr>\n",
       "      <th>1</th>\n",
       "      <td>4000705533383</td>\n",
       "      <td>860686</td>\n",
       "      <td>stage3</td>\n",
       "      <td>150.644522</td>\n",
       "      <td>2.237226</td>\n",
       "      <td>10047.978516</td>\n",
       "      <td>22713.351562</td>\n",
       "      <td>0.000051</td>\n",
       "      <td>0.000046</td>\n",
       "      <td>0.000002</td>\n",
       "      <td>...</td>\n",
       "      <td>-9.314209</td>\n",
       "      <td>-9.106611</td>\n",
       "      <td>-8.941274</td>\n",
       "      <td>-8.713107</td>\n",
       "      <td>-8.541205</td>\n",
       "      <td>0.341270</td>\n",
       "      <td>0.545498</td>\n",
       "      <td>0.732327</td>\n",
       "      <td>0.906665</td>\n",
       "      <td>1.020098</td>\n",
       "    </tr>\n",
       "    <tr>\n",
       "      <th>2</th>\n",
       "      <td>4000705539941</td>\n",
       "      <td>1301188</td>\n",
       "      <td>stage2</td>\n",
       "      <td>149.702462</td>\n",
       "      <td>2.654895</td>\n",
       "      <td>32637.949219</td>\n",
       "      <td>32737.013672</td>\n",
       "      <td>0.000064</td>\n",
       "      <td>0.000104</td>\n",
       "      <td>-0.000003</td>\n",
       "      <td>...</td>\n",
       "      <td>-9.794128</td>\n",
       "      <td>-9.784252</td>\n",
       "      <td>-9.766013</td>\n",
       "      <td>-9.743796</td>\n",
       "      <td>-9.727879</td>\n",
       "      <td>0.018737</td>\n",
       "      <td>0.018737</td>\n",
       "      <td>0.018737</td>\n",
       "      <td>0.018737</td>\n",
       "      <td>0.018737</td>\n",
       "    </tr>\n",
       "    <tr>\n",
       "      <th>3</th>\n",
       "      <td>4000705540034</td>\n",
       "      <td>1304538</td>\n",
       "      <td>stage3</td>\n",
       "      <td>149.726828</td>\n",
       "      <td>2.658172</td>\n",
       "      <td>32053.712891</td>\n",
       "      <td>32815.468750</td>\n",
       "      <td>0.000071</td>\n",
       "      <td>0.000086</td>\n",
       "      <td>-0.000006</td>\n",
       "      <td>...</td>\n",
       "      <td>-9.480532</td>\n",
       "      <td>-9.443615</td>\n",
       "      <td>-9.402433</td>\n",
       "      <td>-9.352081</td>\n",
       "      <td>-9.325659</td>\n",
       "      <td>0.302629</td>\n",
       "      <td>0.376027</td>\n",
       "      <td>0.440394</td>\n",
       "      <td>0.508153</td>\n",
       "      <td>0.567727</td>\n",
       "    </tr>\n",
       "    <tr>\n",
       "      <th>4</th>\n",
       "      <td>4000705540064</td>\n",
       "      <td>1310001</td>\n",
       "      <td>stage3</td>\n",
       "      <td>149.701230</td>\n",
       "      <td>2.660343</td>\n",
       "      <td>32667.441406</td>\n",
       "      <td>32867.789062</td>\n",
       "      <td>0.000026</td>\n",
       "      <td>0.000020</td>\n",
       "      <td>-0.000010</td>\n",
       "      <td>...</td>\n",
       "      <td>-9.882174</td>\n",
       "      <td>-9.855921</td>\n",
       "      <td>-9.816085</td>\n",
       "      <td>-9.697225</td>\n",
       "      <td>-9.573506</td>\n",
       "      <td>0.455258</td>\n",
       "      <td>0.482555</td>\n",
       "      <td>0.522239</td>\n",
       "      <td>0.600383</td>\n",
       "      <td>0.660279</td>\n",
       "    </tr>\n",
       "  </tbody>\n",
       "</table>\n",
       "<p>5 rows × 756 columns</p>\n",
       "</div>"
      ],
      "text/plain": [
       "      ORyanID_23       ID category  ALPHA_J2000  DELTA_J2000       X_IMAGE  \\\n",
       "0  4000705532455   816891   stage4   150.679846     2.196543   9200.399414   \n",
       "1  4000705533383   860686   stage3   150.644522     2.237226  10047.978516   \n",
       "2  4000705539941  1301188   stage2   149.702462     2.654895  32637.949219   \n",
       "3  4000705540034  1304538   stage3   149.726828     2.658172  32053.712891   \n",
       "4  4000705540064  1310001   stage3   149.701230     2.660343  32667.441406   \n",
       "\n",
       "        Y_IMAGE  ERRX2_IMAGE  ERRY2_IMAGE  ERRXY_IMAGE  ...  ez_ssfr_p025  \\\n",
       "0  21737.232422     0.000052     0.000059    -0.000010  ...     -8.931825   \n",
       "1  22713.351562     0.000051     0.000046     0.000002  ...     -9.314209   \n",
       "2  32737.013672     0.000064     0.000104    -0.000003  ...     -9.794128   \n",
       "3  32815.468750     0.000071     0.000086    -0.000006  ...     -9.480532   \n",
       "4  32867.789062     0.000026     0.000020    -0.000010  ...     -9.882174   \n",
       "\n",
       "   ez_ssfr_p160  ez_ssfr_p500  ez_ssfr_p840  ez_ssfr_p975  ez_Av_p025  \\\n",
       "0     -8.911355     -8.899668     -8.883307     -8.872990    0.529107   \n",
       "1     -9.106611     -8.941274     -8.713107     -8.541205    0.341270   \n",
       "2     -9.784252     -9.766013     -9.743796     -9.727879    0.018737   \n",
       "3     -9.443615     -9.402433     -9.352081     -9.325659    0.302629   \n",
       "4     -9.855921     -9.816085     -9.697225     -9.573506    0.455258   \n",
       "\n",
       "   ez_Av_p160  ez_Av_p500  ez_Av_p840  ez_Av_p975  \n",
       "0    0.560142    0.599624    0.630920    0.652330  \n",
       "1    0.545498    0.732327    0.906665    1.020098  \n",
       "2    0.018737    0.018737    0.018737    0.018737  \n",
       "3    0.376027    0.440394    0.508153    0.567727  \n",
       "4    0.482555    0.522239    0.600383    0.660279  \n",
       "\n",
       "[5 rows x 756 columns]"
      ]
     },
     "execution_count": 5,
     "metadata": {},
     "output_type": "execute_result"
    }
   ],
   "source": [
    "df_cat.head()"
   ]
  },
  {
   "cell_type": "code",
   "execution_count": 7,
   "id": "3585e57e-4919-4b41-9297-895390f62d1a",
   "metadata": {},
   "outputs": [
    {
     "data": {
      "text/plain": [
       "802"
      ]
     },
     "execution_count": 7,
     "metadata": {},
     "output_type": "execute_result"
    }
   ],
   "source": [
    "len(agn_cat)"
   ]
  },
  {
   "cell_type": "code",
   "execution_count": 8,
   "id": "cd794fa3-a5c2-43ec-b8f9-2ac99a7ec569",
   "metadata": {},
   "outputs": [
    {
     "data": {
      "text/plain": [
       "SFG    551\n",
       "AGN    251\n",
       "Name: agn_clsf, dtype: int64"
      ]
     },
     "execution_count": 8,
     "metadata": {},
     "output_type": "execute_result"
    }
   ],
   "source": [
    "agn_cat.agn_clsf.value_counts()"
   ]
  },
  {
   "cell_type": "code",
   "execution_count": 9,
   "id": "404a1c96-9477-44c7-b8c0-6933ae0ec0ae",
   "metadata": {},
   "outputs": [
    {
     "data": {
      "text/html": [
       "<div>\n",
       "<style scoped>\n",
       "    .dataframe tbody tr th:only-of-type {\n",
       "        vertical-align: middle;\n",
       "    }\n",
       "\n",
       "    .dataframe tbody tr th {\n",
       "        vertical-align: top;\n",
       "    }\n",
       "\n",
       "    .dataframe thead th {\n",
       "        text-align: right;\n",
       "    }\n",
       "</style>\n",
       "<table border=\"1\" class=\"dataframe\">\n",
       "  <thead>\n",
       "    <tr style=\"text-align: right;\">\n",
       "      <th></th>\n",
       "      <th>ORyanID_23</th>\n",
       "      <th>ID</th>\n",
       "      <th>category</th>\n",
       "      <th>ALPHA_J2000</th>\n",
       "      <th>DELTA_J2000</th>\n",
       "      <th>X_IMAGE</th>\n",
       "      <th>Y_IMAGE</th>\n",
       "      <th>ERRX2_IMAGE</th>\n",
       "      <th>ERRY2_IMAGE</th>\n",
       "      <th>ERRXY_IMAGE</th>\n",
       "      <th>...</th>\n",
       "      <th>ez_ssfr_p025</th>\n",
       "      <th>ez_ssfr_p160</th>\n",
       "      <th>ez_ssfr_p500</th>\n",
       "      <th>ez_ssfr_p840</th>\n",
       "      <th>ez_ssfr_p975</th>\n",
       "      <th>ez_Av_p025</th>\n",
       "      <th>ez_Av_p160</th>\n",
       "      <th>ez_Av_p500</th>\n",
       "      <th>ez_Av_p840</th>\n",
       "      <th>ez_Av_p975</th>\n",
       "    </tr>\n",
       "  </thead>\n",
       "  <tbody>\n",
       "    <tr>\n",
       "      <th>0</th>\n",
       "      <td>4000705532455</td>\n",
       "      <td>816891</td>\n",
       "      <td>stage4</td>\n",
       "      <td>150.679846</td>\n",
       "      <td>2.196543</td>\n",
       "      <td>9200.399414</td>\n",
       "      <td>21737.232422</td>\n",
       "      <td>0.000052</td>\n",
       "      <td>0.000059</td>\n",
       "      <td>-1.043282e-05</td>\n",
       "      <td>...</td>\n",
       "      <td>-8.931825</td>\n",
       "      <td>-8.911355</td>\n",
       "      <td>-8.899668</td>\n",
       "      <td>-8.883307</td>\n",
       "      <td>-8.872990</td>\n",
       "      <td>0.529107</td>\n",
       "      <td>0.560142</td>\n",
       "      <td>0.599624</td>\n",
       "      <td>0.630920</td>\n",
       "      <td>0.652330</td>\n",
       "    </tr>\n",
       "    <tr>\n",
       "      <th>1</th>\n",
       "      <td>4000705533383</td>\n",
       "      <td>860686</td>\n",
       "      <td>stage3</td>\n",
       "      <td>150.644522</td>\n",
       "      <td>2.237226</td>\n",
       "      <td>10047.978516</td>\n",
       "      <td>22713.351562</td>\n",
       "      <td>0.000051</td>\n",
       "      <td>0.000046</td>\n",
       "      <td>1.571297e-06</td>\n",
       "      <td>...</td>\n",
       "      <td>-9.314209</td>\n",
       "      <td>-9.106611</td>\n",
       "      <td>-8.941274</td>\n",
       "      <td>-8.713107</td>\n",
       "      <td>-8.541205</td>\n",
       "      <td>0.341270</td>\n",
       "      <td>0.545498</td>\n",
       "      <td>0.732327</td>\n",
       "      <td>0.906665</td>\n",
       "      <td>1.020098</td>\n",
       "    </tr>\n",
       "    <tr>\n",
       "      <th>2</th>\n",
       "      <td>4000705539941</td>\n",
       "      <td>1301188</td>\n",
       "      <td>stage2</td>\n",
       "      <td>149.702462</td>\n",
       "      <td>2.654895</td>\n",
       "      <td>32637.949219</td>\n",
       "      <td>32737.013672</td>\n",
       "      <td>0.000064</td>\n",
       "      <td>0.000104</td>\n",
       "      <td>-2.881107e-06</td>\n",
       "      <td>...</td>\n",
       "      <td>-9.794128</td>\n",
       "      <td>-9.784252</td>\n",
       "      <td>-9.766013</td>\n",
       "      <td>-9.743796</td>\n",
       "      <td>-9.727879</td>\n",
       "      <td>0.018737</td>\n",
       "      <td>0.018737</td>\n",
       "      <td>0.018737</td>\n",
       "      <td>0.018737</td>\n",
       "      <td>0.018737</td>\n",
       "    </tr>\n",
       "    <tr>\n",
       "      <th>3</th>\n",
       "      <td>4000705540034</td>\n",
       "      <td>1304538</td>\n",
       "      <td>stage3</td>\n",
       "      <td>149.726828</td>\n",
       "      <td>2.658172</td>\n",
       "      <td>32053.712891</td>\n",
       "      <td>32815.468750</td>\n",
       "      <td>0.000071</td>\n",
       "      <td>0.000086</td>\n",
       "      <td>-6.036952e-06</td>\n",
       "      <td>...</td>\n",
       "      <td>-9.480532</td>\n",
       "      <td>-9.443615</td>\n",
       "      <td>-9.402433</td>\n",
       "      <td>-9.352081</td>\n",
       "      <td>-9.325659</td>\n",
       "      <td>0.302629</td>\n",
       "      <td>0.376027</td>\n",
       "      <td>0.440394</td>\n",
       "      <td>0.508153</td>\n",
       "      <td>0.567727</td>\n",
       "    </tr>\n",
       "    <tr>\n",
       "      <th>4</th>\n",
       "      <td>4000705540064</td>\n",
       "      <td>1310001</td>\n",
       "      <td>stage3</td>\n",
       "      <td>149.701230</td>\n",
       "      <td>2.660343</td>\n",
       "      <td>32667.441406</td>\n",
       "      <td>32867.789062</td>\n",
       "      <td>0.000026</td>\n",
       "      <td>0.000020</td>\n",
       "      <td>-1.023530e-05</td>\n",
       "      <td>...</td>\n",
       "      <td>-9.882174</td>\n",
       "      <td>-9.855921</td>\n",
       "      <td>-9.816085</td>\n",
       "      <td>-9.697225</td>\n",
       "      <td>-9.573506</td>\n",
       "      <td>0.455258</td>\n",
       "      <td>0.482555</td>\n",
       "      <td>0.522239</td>\n",
       "      <td>0.600383</td>\n",
       "      <td>0.660279</td>\n",
       "    </tr>\n",
       "    <tr>\n",
       "      <th>...</th>\n",
       "      <td>...</td>\n",
       "      <td>...</td>\n",
       "      <td>...</td>\n",
       "      <td>...</td>\n",
       "      <td>...</td>\n",
       "      <td>...</td>\n",
       "      <td>...</td>\n",
       "      <td>...</td>\n",
       "      <td>...</td>\n",
       "      <td>...</td>\n",
       "      <td>...</td>\n",
       "      <td>...</td>\n",
       "      <td>...</td>\n",
       "      <td>...</td>\n",
       "      <td>...</td>\n",
       "      <td>...</td>\n",
       "      <td>...</td>\n",
       "      <td>...</td>\n",
       "      <td>...</td>\n",
       "      <td>...</td>\n",
       "      <td>...</td>\n",
       "    </tr>\n",
       "    <tr>\n",
       "      <th>4176</th>\n",
       "      <td>4001204758614_extra</td>\n",
       "      <td>1520733</td>\n",
       "      <td>stage4</td>\n",
       "      <td>149.891374</td>\n",
       "      <td>2.866981</td>\n",
       "      <td>28107.876953</td>\n",
       "      <td>37826.437500</td>\n",
       "      <td>0.000086</td>\n",
       "      <td>0.000104</td>\n",
       "      <td>-9.313976e-07</td>\n",
       "      <td>...</td>\n",
       "      <td>-9.441206</td>\n",
       "      <td>-9.279022</td>\n",
       "      <td>-9.095134</td>\n",
       "      <td>-9.003501</td>\n",
       "      <td>-8.955496</td>\n",
       "      <td>0.120441</td>\n",
       "      <td>0.213251</td>\n",
       "      <td>0.306832</td>\n",
       "      <td>0.556012</td>\n",
       "      <td>0.731876</td>\n",
       "    </tr>\n",
       "    <tr>\n",
       "      <th>4177</th>\n",
       "      <td>4546055995_extra</td>\n",
       "      <td>1520749</td>\n",
       "      <td>stage2</td>\n",
       "      <td>150.383110</td>\n",
       "      <td>2.865367</td>\n",
       "      <td>16320.103516</td>\n",
       "      <td>37787.917969</td>\n",
       "      <td>0.000131</td>\n",
       "      <td>0.000236</td>\n",
       "      <td>7.123858e-05</td>\n",
       "      <td>...</td>\n",
       "      <td>-9.857880</td>\n",
       "      <td>-9.658215</td>\n",
       "      <td>-9.485625</td>\n",
       "      <td>-9.235816</td>\n",
       "      <td>-8.971795</td>\n",
       "      <td>0.162147</td>\n",
       "      <td>0.238640</td>\n",
       "      <td>0.432004</td>\n",
       "      <td>0.592193</td>\n",
       "      <td>0.687256</td>\n",
       "    </tr>\n",
       "    <tr>\n",
       "      <th>4178</th>\n",
       "      <td>4000927318133_extra</td>\n",
       "      <td>1523385</td>\n",
       "      <td>stage3</td>\n",
       "      <td>149.789910</td>\n",
       "      <td>2.865132</td>\n",
       "      <td>30540.179688</td>\n",
       "      <td>37782.648438</td>\n",
       "      <td>0.000045</td>\n",
       "      <td>0.000059</td>\n",
       "      <td>1.600747e-05</td>\n",
       "      <td>...</td>\n",
       "      <td>-9.525900</td>\n",
       "      <td>-9.472779</td>\n",
       "      <td>-9.353454</td>\n",
       "      <td>-9.273221</td>\n",
       "      <td>-9.213521</td>\n",
       "      <td>0.262676</td>\n",
       "      <td>0.355466</td>\n",
       "      <td>0.410356</td>\n",
       "      <td>0.489105</td>\n",
       "      <td>0.566003</td>\n",
       "    </tr>\n",
       "    <tr>\n",
       "      <th>4179</th>\n",
       "      <td>4000747939904_extra</td>\n",
       "      <td>1524909</td>\n",
       "      <td>stage3</td>\n",
       "      <td>150.450581</td>\n",
       "      <td>2.872371</td>\n",
       "      <td>14702.710938</td>\n",
       "      <td>37956.468750</td>\n",
       "      <td>0.000248</td>\n",
       "      <td>0.000292</td>\n",
       "      <td>7.378556e-06</td>\n",
       "      <td>...</td>\n",
       "      <td>-9.556987</td>\n",
       "      <td>-9.385500</td>\n",
       "      <td>-9.154130</td>\n",
       "      <td>-9.026810</td>\n",
       "      <td>-8.938077</td>\n",
       "      <td>0.153294</td>\n",
       "      <td>0.283249</td>\n",
       "      <td>0.436332</td>\n",
       "      <td>0.600615</td>\n",
       "      <td>0.693621</td>\n",
       "    </tr>\n",
       "    <tr>\n",
       "      <th>4180</th>\n",
       "      <td>4001239405815_extra</td>\n",
       "      <td>1529226</td>\n",
       "      <td>stage4</td>\n",
       "      <td>150.372099</td>\n",
       "      <td>2.872333</td>\n",
       "      <td>16584.076172</td>\n",
       "      <td>37955.070312</td>\n",
       "      <td>0.000018</td>\n",
       "      <td>0.000019</td>\n",
       "      <td>5.020723e-06</td>\n",
       "      <td>...</td>\n",
       "      <td>-10.793317</td>\n",
       "      <td>-10.749337</td>\n",
       "      <td>-10.671772</td>\n",
       "      <td>-10.571155</td>\n",
       "      <td>-10.450612</td>\n",
       "      <td>0.541194</td>\n",
       "      <td>0.584935</td>\n",
       "      <td>0.723596</td>\n",
       "      <td>0.791648</td>\n",
       "      <td>0.920438</td>\n",
       "    </tr>\n",
       "  </tbody>\n",
       "</table>\n",
       "<p>4181 rows × 756 columns</p>\n",
       "</div>"
      ],
      "text/plain": [
       "               ORyanID_23       ID category  ALPHA_J2000  DELTA_J2000  \\\n",
       "0           4000705532455   816891   stage4   150.679846     2.196543   \n",
       "1           4000705533383   860686   stage3   150.644522     2.237226   \n",
       "2           4000705539941  1301188   stage2   149.702462     2.654895   \n",
       "3           4000705540034  1304538   stage3   149.726828     2.658172   \n",
       "4           4000705540064  1310001   stage3   149.701230     2.660343   \n",
       "...                   ...      ...      ...          ...          ...   \n",
       "4176  4001204758614_extra  1520733   stage4   149.891374     2.866981   \n",
       "4177     4546055995_extra  1520749   stage2   150.383110     2.865367   \n",
       "4178  4000927318133_extra  1523385   stage3   149.789910     2.865132   \n",
       "4179  4000747939904_extra  1524909   stage3   150.450581     2.872371   \n",
       "4180  4001239405815_extra  1529226   stage4   150.372099     2.872333   \n",
       "\n",
       "           X_IMAGE       Y_IMAGE  ERRX2_IMAGE  ERRY2_IMAGE   ERRXY_IMAGE  ...  \\\n",
       "0      9200.399414  21737.232422     0.000052     0.000059 -1.043282e-05  ...   \n",
       "1     10047.978516  22713.351562     0.000051     0.000046  1.571297e-06  ...   \n",
       "2     32637.949219  32737.013672     0.000064     0.000104 -2.881107e-06  ...   \n",
       "3     32053.712891  32815.468750     0.000071     0.000086 -6.036952e-06  ...   \n",
       "4     32667.441406  32867.789062     0.000026     0.000020 -1.023530e-05  ...   \n",
       "...            ...           ...          ...          ...           ...  ...   \n",
       "4176  28107.876953  37826.437500     0.000086     0.000104 -9.313976e-07  ...   \n",
       "4177  16320.103516  37787.917969     0.000131     0.000236  7.123858e-05  ...   \n",
       "4178  30540.179688  37782.648438     0.000045     0.000059  1.600747e-05  ...   \n",
       "4179  14702.710938  37956.468750     0.000248     0.000292  7.378556e-06  ...   \n",
       "4180  16584.076172  37955.070312     0.000018     0.000019  5.020723e-06  ...   \n",
       "\n",
       "      ez_ssfr_p025  ez_ssfr_p160  ez_ssfr_p500  ez_ssfr_p840  ez_ssfr_p975  \\\n",
       "0        -8.931825     -8.911355     -8.899668     -8.883307     -8.872990   \n",
       "1        -9.314209     -9.106611     -8.941274     -8.713107     -8.541205   \n",
       "2        -9.794128     -9.784252     -9.766013     -9.743796     -9.727879   \n",
       "3        -9.480532     -9.443615     -9.402433     -9.352081     -9.325659   \n",
       "4        -9.882174     -9.855921     -9.816085     -9.697225     -9.573506   \n",
       "...            ...           ...           ...           ...           ...   \n",
       "4176     -9.441206     -9.279022     -9.095134     -9.003501     -8.955496   \n",
       "4177     -9.857880     -9.658215     -9.485625     -9.235816     -8.971795   \n",
       "4178     -9.525900     -9.472779     -9.353454     -9.273221     -9.213521   \n",
       "4179     -9.556987     -9.385500     -9.154130     -9.026810     -8.938077   \n",
       "4180    -10.793317    -10.749337    -10.671772    -10.571155    -10.450612   \n",
       "\n",
       "      ez_Av_p025  ez_Av_p160  ez_Av_p500  ez_Av_p840  ez_Av_p975  \n",
       "0       0.529107    0.560142    0.599624    0.630920    0.652330  \n",
       "1       0.341270    0.545498    0.732327    0.906665    1.020098  \n",
       "2       0.018737    0.018737    0.018737    0.018737    0.018737  \n",
       "3       0.302629    0.376027    0.440394    0.508153    0.567727  \n",
       "4       0.455258    0.482555    0.522239    0.600383    0.660279  \n",
       "...          ...         ...         ...         ...         ...  \n",
       "4176    0.120441    0.213251    0.306832    0.556012    0.731876  \n",
       "4177    0.162147    0.238640    0.432004    0.592193    0.687256  \n",
       "4178    0.262676    0.355466    0.410356    0.489105    0.566003  \n",
       "4179    0.153294    0.283249    0.436332    0.600615    0.693621  \n",
       "4180    0.541194    0.584935    0.723596    0.791648    0.920438  \n",
       "\n",
       "[4181 rows x 756 columns]"
      ]
     },
     "execution_count": 9,
     "metadata": {},
     "output_type": "execute_result"
    }
   ],
   "source": [
    "df_cat"
   ]
  },
  {
   "cell_type": "code",
   "execution_count": 10,
   "id": "6736149b-d09e-45ab-aad5-5ac29b52964d",
   "metadata": {},
   "outputs": [],
   "source": [
    "df_red_tmp = df_cat.query('ez_sfr < 10')\n",
    "df_red = df_red_tmp.query('lp_mass_best > 9.25 and lp_mass_best <= 12.5')"
   ]
  },
  {
   "cell_type": "code",
   "execution_count": 11,
   "id": "487d6dfc-7757-487b-b9b0-73425e5b48ea",
   "metadata": {
    "tags": []
   },
   "outputs": [],
   "source": [
    "def get_redshift(ez_z, lp_z):\n",
    "    if np.isnan(ez_z):\n",
    "        if not np.isnan(lp_z):\n",
    "            return lp_z\n",
    "        else:\n",
    "            return np.nan\n",
    "    \n",
    "    if np.isnan(lp_z):\n",
    "        if not np.isnan(ez_z):\n",
    "            return ez_z\n",
    "        else:\n",
    "            return np.nan\n",
    "    \n",
    "    if lp_z < ez_z:\n",
    "        return lp_z\n",
    "    elif ez_z <= lp_z:\n",
    "        return ez_z\n",
    "    else:\n",
    "        return 'what'"
   ]
  },
  {
   "cell_type": "code",
   "execution_count": 12,
   "id": "9e868762-d083-4527-a0d4-6e833c152ad8",
   "metadata": {},
   "outputs": [],
   "source": [
    "df_redshifts = df_red.assign(redshift = df_red.apply(lambda row: get_redshift(row.ez_z_phot,row.lp_zBEST), axis = 1))"
   ]
  },
  {
   "cell_type": "code",
   "execution_count": 13,
   "id": "72538fb2-0a9c-40ec-b957-b485845f0c19",
   "metadata": {},
   "outputs": [],
   "source": [
    "df_vol_lim = df_redshifts[['ORyanID_23', 'ID', 'redshift', 'lp_mass_best','ez_sfr','category']].query('redshift <= 1.2')"
   ]
  },
  {
   "cell_type": "code",
   "execution_count": 14,
   "id": "eb7923fb-7a15-4415-b3c4-93ff73b9b655",
   "metadata": {},
   "outputs": [
    {
     "data": {
      "text/html": [
       "<div>\n",
       "<style scoped>\n",
       "    .dataframe tbody tr th:only-of-type {\n",
       "        vertical-align: middle;\n",
       "    }\n",
       "\n",
       "    .dataframe tbody tr th {\n",
       "        vertical-align: top;\n",
       "    }\n",
       "\n",
       "    .dataframe thead th {\n",
       "        text-align: right;\n",
       "    }\n",
       "</style>\n",
       "<table border=\"1\" class=\"dataframe\">\n",
       "  <thead>\n",
       "    <tr style=\"text-align: right;\">\n",
       "      <th></th>\n",
       "      <th>ORyanID_23</th>\n",
       "      <th>ID</th>\n",
       "      <th>redshift</th>\n",
       "      <th>lp_mass_best</th>\n",
       "      <th>ez_sfr</th>\n",
       "      <th>category</th>\n",
       "    </tr>\n",
       "  </thead>\n",
       "  <tbody>\n",
       "    <tr>\n",
       "      <th>0</th>\n",
       "      <td>4000705532455</td>\n",
       "      <td>816891</td>\n",
       "      <td>0.519525</td>\n",
       "      <td>9.28590</td>\n",
       "      <td>0.589695</td>\n",
       "      <td>stage4</td>\n",
       "    </tr>\n",
       "    <tr>\n",
       "      <th>1</th>\n",
       "      <td>4000705533383</td>\n",
       "      <td>860686</td>\n",
       "      <td>1.124400</td>\n",
       "      <td>10.44862</td>\n",
       "      <td>1.609304</td>\n",
       "      <td>stage3</td>\n",
       "    </tr>\n",
       "    <tr>\n",
       "      <th>3</th>\n",
       "      <td>4000705540034</td>\n",
       "      <td>1304538</td>\n",
       "      <td>1.024009</td>\n",
       "      <td>9.96798</td>\n",
       "      <td>1.101499</td>\n",
       "      <td>stage3</td>\n",
       "    </tr>\n",
       "    <tr>\n",
       "      <th>4</th>\n",
       "      <td>4000705540064</td>\n",
       "      <td>1310001</td>\n",
       "      <td>0.486400</td>\n",
       "      <td>10.41827</td>\n",
       "      <td>1.083541</td>\n",
       "      <td>stage3</td>\n",
       "    </tr>\n",
       "    <tr>\n",
       "      <th>5</th>\n",
       "      <td>4000705540104</td>\n",
       "      <td>1308927</td>\n",
       "      <td>0.695800</td>\n",
       "      <td>10.03523</td>\n",
       "      <td>1.198906</td>\n",
       "      <td>stage3</td>\n",
       "    </tr>\n",
       "    <tr>\n",
       "      <th>...</th>\n",
       "      <td>...</td>\n",
       "      <td>...</td>\n",
       "      <td>...</td>\n",
       "      <td>...</td>\n",
       "      <td>...</td>\n",
       "      <td>...</td>\n",
       "    </tr>\n",
       "    <tr>\n",
       "      <th>4176</th>\n",
       "      <td>4001204758614_extra</td>\n",
       "      <td>1520733</td>\n",
       "      <td>0.484922</td>\n",
       "      <td>9.27097</td>\n",
       "      <td>0.369745</td>\n",
       "      <td>stage4</td>\n",
       "    </tr>\n",
       "    <tr>\n",
       "      <th>4177</th>\n",
       "      <td>4546055995_extra</td>\n",
       "      <td>1520749</td>\n",
       "      <td>0.647512</td>\n",
       "      <td>9.50357</td>\n",
       "      <td>0.507741</td>\n",
       "      <td>stage2</td>\n",
       "    </tr>\n",
       "    <tr>\n",
       "      <th>4178</th>\n",
       "      <td>4000927318133_extra</td>\n",
       "      <td>1523385</td>\n",
       "      <td>0.301645</td>\n",
       "      <td>9.53909</td>\n",
       "      <td>0.406027</td>\n",
       "      <td>stage3</td>\n",
       "    </tr>\n",
       "    <tr>\n",
       "      <th>4179</th>\n",
       "      <td>4000747939904_extra</td>\n",
       "      <td>1524909</td>\n",
       "      <td>0.855695</td>\n",
       "      <td>9.76084</td>\n",
       "      <td>0.637714</td>\n",
       "      <td>stage3</td>\n",
       "    </tr>\n",
       "    <tr>\n",
       "      <th>4180</th>\n",
       "      <td>4001239405815_extra</td>\n",
       "      <td>1529226</td>\n",
       "      <td>0.541008</td>\n",
       "      <td>11.16721</td>\n",
       "      <td>0.602814</td>\n",
       "      <td>stage4</td>\n",
       "    </tr>\n",
       "  </tbody>\n",
       "</table>\n",
       "<p>3378 rows × 6 columns</p>\n",
       "</div>"
      ],
      "text/plain": [
       "               ORyanID_23       ID  redshift  lp_mass_best    ez_sfr category\n",
       "0           4000705532455   816891  0.519525       9.28590  0.589695   stage4\n",
       "1           4000705533383   860686  1.124400      10.44862  1.609304   stage3\n",
       "3           4000705540034  1304538  1.024009       9.96798  1.101499   stage3\n",
       "4           4000705540064  1310001  0.486400      10.41827  1.083541   stage3\n",
       "5           4000705540104  1308927  0.695800      10.03523  1.198906   stage3\n",
       "...                   ...      ...       ...           ...       ...      ...\n",
       "4176  4001204758614_extra  1520733  0.484922       9.27097  0.369745   stage4\n",
       "4177     4546055995_extra  1520749  0.647512       9.50357  0.507741   stage2\n",
       "4178  4000927318133_extra  1523385  0.301645       9.53909  0.406027   stage3\n",
       "4179  4000747939904_extra  1524909  0.855695       9.76084  0.637714   stage3\n",
       "4180  4001239405815_extra  1529226  0.541008      11.16721  0.602814   stage4\n",
       "\n",
       "[3378 rows x 6 columns]"
      ]
     },
     "execution_count": 14,
     "metadata": {},
     "output_type": "execute_result"
    }
   ],
   "source": [
    "df_vol_lim"
   ]
  },
  {
   "cell_type": "code",
   "execution_count": 15,
   "id": "5e478711-ab43-44b9-87ed-0cc4b4f23adc",
   "metadata": {},
   "outputs": [],
   "source": [
    "df_or_noextra = (\n",
    "    df_vol_lim\n",
    "    .assign(extra = df_vol_lim.ORyanID_23.apply(lambda x: True if type(x) == str and 'extra' in str(x) else False))\n",
    "    .query('extra == False')\n",
    ")"
   ]
  },
  {
   "cell_type": "code",
   "execution_count": 33,
   "id": "0424d9e8-3741-49e2-904e-3a46f95778ef",
   "metadata": {},
   "outputs": [],
   "source": [
    "df_agn_quants = (\n",
    "    df_cat\n",
    "    .merge(agn_cat, how = 'left', on = 'ID')\n",
    "    [['ORyanID_23', 'ID', 'lp_mass_best','ez_sfr','category', 'agn_clsf']]\n",
    ")"
   ]
  },
  {
   "cell_type": "code",
   "execution_count": 36,
   "id": "c2dfe680-745c-40ab-8635-5ad9da965d4f",
   "metadata": {},
   "outputs": [
    {
     "data": {
      "text/plain": [
       "SFG    549\n",
       "AGN    251\n",
       "Name: agn_clsf, dtype: int64"
      ]
     },
     "execution_count": 36,
     "metadata": {},
     "output_type": "execute_result"
    }
   ],
   "source": [
    "df_agn_quants.dropna().agn_clsf.value_counts()"
   ]
  },
  {
   "cell_type": "code",
   "execution_count": 37,
   "id": "50a7bac5-1c13-4976-b681-271477701ecb",
   "metadata": {},
   "outputs": [],
   "source": [
    "def get_agn_clsf(clsf):\n",
    "    if type(clsf) == str:\n",
    "        if clsf == \"HLAGN\" or clsf == \"MLAGN\":\n",
    "            return 'AGN'\n",
    "        else:\n",
    "            return clsf\n",
    "    else:\n",
    "        return 'unknown'"
   ]
  },
  {
   "cell_type": "code",
   "execution_count": 38,
   "id": "e36bb910-1e55-48d4-8404-b5df922cf05b",
   "metadata": {},
   "outputs": [],
   "source": [
    "df_sorted = (\n",
    "    df_agn_quants\n",
    "    .assign(all_clsf = df_agn_quants.agn_clsf.apply(lambda x: get_agn_clsf(x)))\n",
    ")"
   ]
  },
  {
   "cell_type": "code",
   "execution_count": 56,
   "id": "cd755eae-0f6f-4278-87da-cf7d5f86039b",
   "metadata": {},
   "outputs": [],
   "source": [
    "df_cntd = df_sorted.drop(columns = 'agn_clsf').dropna()"
   ]
  },
  {
   "cell_type": "code",
   "execution_count": 40,
   "id": "f16cdde1-86cc-4e19-8e8e-68e1513b3ca1",
   "metadata": {},
   "outputs": [],
   "source": [
    "df_noextra = (\n",
    "    df_sorted\n",
    "    .assign(extra_cont = df_red.ORyanID_23.apply(lambda x: 'y' if type(x) == str and 'extra' in x else 'n'))\n",
    "    .query('extra_cont == \"n\"')\n",
    "    .drop(columns = ['extra_cont'])\n",
    ")"
   ]
  },
  {
   "cell_type": "markdown",
   "id": "1d698ac1-15c1-4e13-b497-8e76fac40fd2",
   "metadata": {},
   "source": [
    "## Finding More SFG"
   ]
  },
  {
   "cell_type": "code",
   "execution_count": 41,
   "id": "428b1558-1af5-4cd7-8254-6d79bf9cb9b7",
   "metadata": {},
   "outputs": [
    {
     "data": {
      "text/plain": [
       "2737"
      ]
     },
     "execution_count": 41,
     "metadata": {},
     "output_type": "execute_result"
    }
   ],
   "source": [
    "df_test = df_noextra.drop(columns = 'agn_clsf').dropna()\n",
    "len(df_test)"
   ]
  },
  {
   "cell_type": "code",
   "execution_count": 42,
   "id": "9d4cb48a-e78a-4331-bdff-428c5565c896",
   "metadata": {},
   "outputs": [
    {
     "name": "stdout",
     "output_type": "stream",
     "text": [
      "[0.07547169811320754, 0.06224066390041494, 0.06790697674418604, 0.07766990291262135]\n"
     ]
    }
   ],
   "source": [
    "frac_list = []\n",
    "for i in range(1,5):\n",
    "    df_stage = df_test.query(f'category == \"stage{i}\"')\n",
    "    fraction = len(df_stage.query('all_clsf == \"AGN\"')) / len(df_stage)\n",
    "    frac_list.append(fraction)\n",
    "print(frac_list)"
   ]
  },
  {
   "cell_type": "code",
   "execution_count": 43,
   "id": "7ee5e2c7-53ed-4871-9096-2262df4ea793",
   "metadata": {},
   "outputs": [
    {
     "data": {
      "text/plain": [
       "[0.0675990675990676,\n",
       " 0.052732502396931925,\n",
       " 0.057704918032786885,\n",
       " 0.06622516556291391]"
      ]
     },
     "execution_count": 43,
     "metadata": {},
     "output_type": "execute_result"
    }
   ],
   "source": [
    "frac_list = []\n",
    "for i in range(1,5):\n",
    "    df_stage = df_sorted.query(f'category == \"stage{i}\"')\n",
    "    fraction = len(df_stage.query('all_clsf == \"AGN\"')) / len(df_stage)\n",
    "    frac_list.append(fraction)\n",
    "frac_list"
   ]
  },
  {
   "cell_type": "code",
   "execution_count": 44,
   "id": "fab094d3-c80b-4ebb-8b11-013f383dac9b",
   "metadata": {},
   "outputs": [],
   "source": [
    "x = ['Separated', 'Pericentre', 'Apocentre','Merging']"
   ]
  },
  {
   "cell_type": "code",
   "execution_count": 45,
   "id": "459aac51-99f0-4ad2-a4b8-b25817932652",
   "metadata": {},
   "outputs": [
    {
     "data": {
      "image/png": "[encoded data removed]",
      "text/plain": [
       "<Figure size 600x600 with 1 Axes>"
      ]
     },
     "metadata": {},
     "output_type": "display_data"
    }
   ],
   "source": [
    "plt.figure(figsize = (6,6))\n",
    "plt.scatter(x, frac_list, color = 'black', marker = 'x')\n",
    "plt.plot(x, frac_list, color = 'black', linestyle='--')\n",
    "plt.show()"
   ]
  },
  {
   "cell_type": "code",
   "execution_count": 46,
   "id": "0bb1df44-0f9e-427f-b62c-c035996c6452",
   "metadata": {},
   "outputs": [
    {
     "name": "stdout",
     "output_type": "stream",
     "text": [
      "unknown    346\n",
      "SFG         46\n",
      "AGN         32\n",
      "Name: all_clsf, dtype: int64\n",
      " \n",
      "unknown    573\n",
      "SFG        105\n",
      "AGN         45\n",
      "Name: all_clsf, dtype: int64\n",
      " \n",
      "unknown    827\n",
      "SFG        175\n",
      "AGN         73\n",
      "Name: all_clsf, dtype: int64\n",
      " \n",
      "unknown    379\n",
      "SFG         96\n",
      "AGN         40\n",
      "Name: all_clsf, dtype: int64\n",
      " \n"
     ]
    }
   ],
   "source": [
    "frac_list = []\n",
    "for i in range(1,5):\n",
    "    df_stage = df_test.query(f'category == \"stage{i}\"')\n",
    "    print(df_stage.all_clsf.value_counts())\n",
    "    print(' ')"
   ]
  },
  {
   "cell_type": "code",
   "execution_count": 48,
   "id": "7e24d5b6-b946-460d-94e9-58dca078da16",
   "metadata": {},
   "outputs": [
    {
     "name": "stdout",
     "output_type": "stream",
     "text": [
      "unknown    721\n",
      "SFG         79\n",
      "AGN         58\n",
      "Name: all_clsf, dtype: int64\n",
      " \n",
      "unknown    853\n",
      "SFG        135\n",
      "AGN         55\n",
      "Name: all_clsf, dtype: int64\n",
      " \n",
      "unknown    1221\n",
      "SFG         216\n",
      "AGN          88\n",
      "Name: all_clsf, dtype: int64\n",
      " \n",
      "unknown    584\n",
      "SFG        121\n",
      "AGN         50\n",
      "Name: all_clsf, dtype: int64\n",
      " \n"
     ]
    }
   ],
   "source": [
    "frac_list = []\n",
    "for i in range(1,5):\n",
    "    df_stage = df_sorted.query(f'category == \"stage{i}\"')\n",
    "    print(df_stage.all_clsf.value_counts())\n",
    "    print(' ')"
   ]
  },
  {
   "cell_type": "markdown",
   "id": "43e7f0d1-575a-467e-9f39-6c8aa39dc1ff",
   "metadata": {},
   "source": [
    "## Looking at Data"
   ]
  },
  {
   "cell_type": "code",
   "execution_count": 49,
   "id": "6b9e8ba6-80af-4446-ae9e-afe948deb238",
   "metadata": {},
   "outputs": [
    {
     "data": {
      "image/png": "[encoded data removed]",
      "text/plain": [
       "<Figure size 800x800 with 4 Axes>"
      ]
     },
     "metadata": {},
     "output_type": "display_data"
    }
   ],
   "source": [
    "counter = 1\n",
    "fig, ax = plt.subplots(nrows = 2, ncols = 2, figsize = (8,8))\n",
    "alphas = [0.1, 0.5, 0.75]\n",
    "markers = ['.', 'o', 'x']\n",
    "agn_clsf = ['unknown','SFG','AGN']\n",
    "colours = ['black', 'blue', 'red']\n",
    "stage_list = ['Separated','Pericentre','Apocentre','Merging']\n",
    "for i in range(2):\n",
    "    for j in range(2):\n",
    "        stage = f'stage{counter}'\n",
    "        df_stage = df_sorted.query('category == @stage')\n",
    "        for k, clsf in enumerate(agn_clsf):\n",
    "            df = df_stage.query('all_clsf == @clsf')\n",
    "\n",
    "            ax[i,j].scatter(np.array(df.lp_mass_best), np.array(df.ez_sfr), color = colours[k], marker = markers[k], s = 20, alpha = alphas[k])\n",
    "            ax[i,j].set_title(f'{stage_list[counter-1]}')\n",
    "            ax[i,j].set_xlim([9.1, 12.1])\n",
    "            ax[i,j].set_ylim([-5,3.5])\n",
    "        \n",
    "        counter += 1\n",
    "ax[0,0].legend(agn_clsf, loc = 'upper left', fontsize = 9)\n",
    "fig.text(0.5, -0.01, '$\\log$ (M$_*$ / M$_\\odot$)', ha='center', va='center', fontsize = 18)\n",
    "fig.text(-0.01, 0.5, '$\\log$ SFR (M$_\\odot$yr$^{-1}$)', ha='center', va='center', rotation='vertical', fontsize = 18)\n",
    "fig.tight_layout()\n",
    "# fig.savefig(f'{fig_folder}/agn-stage-dist.pdf', bbox_inches = 'tight')\n",
    "plt.show()"
   ]
  },
  {
   "cell_type": "markdown",
   "id": "8a8c4ad5-9767-420d-a9da-945ea56da2a5",
   "metadata": {},
   "source": [
    "## Weighting"
   ]
  },
  {
   "cell_type": "code",
   "execution_count": 50,
   "id": "df28df12-5c21-4649-a662-1ec175a13138",
   "metadata": {},
   "outputs": [],
   "source": [
    "def weight_dist(arrs, bins=None, return_bins=True, renorm=False, compare = 3):\n",
    "    # this will take 2 arrays of values from 2 different samples\n",
    "    # e.g. redshift distributions from 2 samples\n",
    "    # and return weights for each value such that the weighted\n",
    "    # distributions of each sample will match.\n",
    "\n",
    "    # note the bins need to be the same for both datasets\n",
    "    # so either supply 1 number or 1 array of bin edges\n",
    "    # also if you have fully specified the bins you don't need them returned\n",
    "    # but if we've had to figure them out, you do need them returned\n",
    "    # if you want to make sure you aren't under-weighting (e.g. if a whole dataset is\n",
    "    # much larger than the other so you might always be able select >1 object\n",
    "    # in dataset 1 for each object in dataset 2) then you can re-normalise to make\n",
    "    # sure the max weight of both datasets is 1\n",
    "    # Note, if the distributions cross this won't make a difference\n",
    "\n",
    "    # weight arrays\n",
    "    # w1 = np.zeros_like(arr1)\n",
    "    # w2 = np.zeros_like(arr2)\n",
    "    \n",
    "    if len(arrs) != 4:\n",
    "        print('This has been set up to handle 4 distributions!')\n",
    "        print('You have not provided four distributions.')\n",
    "        sys.exit()\n",
    "    \n",
    "    ws_list = []\n",
    "    for i in arrs:\n",
    "        ws_list.append(np.zeros_like(i))\n",
    "\n",
    "    hists = []\n",
    "    _, thebins = np.histogram(arrs[3], bins=bins)  # returns (counts_arr, bins_arr)\n",
    "    # use the bins from hist1 to make hist2\n",
    "    # note: for these purposes, any values of hist2 outside the minmax range of hist1 should have 0 weight\n",
    "    # which is taken care of by the zeros_like initialisation of w1 and w2 above\n",
    "    # so it's fine for them to be excluded below\n",
    "    # hists.append(hist1)\n",
    "    for i in arrs:\n",
    "        hist_tmp, _ = np.histogram(i, bins=thebins)\n",
    "        hists.append(hist_tmp)\n",
    "\n",
    "    # now step through the bins and assign weights\n",
    "    for i_bin in range(len(thebins)-1):\n",
    "        # zero-\"index\"ing these because they're indices and not values\n",
    "        # and if I get them mixed up below I want this to error that there's no b2 or whatever\n",
    "        b0 = thebins[i_bin]\n",
    "        b1 = thebins[i_bin+1]\n",
    "\n",
    "        count1 = hists[0][i_bin]\n",
    "        count2 = hists[1][i_bin]\n",
    "        count3 = hists[2][i_bin]\n",
    "        count4 = hists[3][i_bin]\n",
    "\n",
    "        # don't miss any values and don't double-count\n",
    "        if i_bin == 0:\n",
    "            in_bin1 = (arrs[0] >= b0) & (arrs[0] <= b1)\n",
    "            in_bin2 = (arrs[1] >= b0) & (arrs[1] <= b1)\n",
    "            in_bin3 = (arrs[2] >= b0) & (arrs[2] <= b1)\n",
    "            in_bin4 = (arrs[3] >= b0) & (arrs[3] <= b1)\n",
    "        else: \n",
    "            in_bin1 = (arrs[0] >  b0) & (arrs[0] <= b1)\n",
    "            in_bin2 = (arrs[1] >  b0) & (arrs[1] <= b1)\n",
    "            in_bin3 = (arrs[2] >  b0) & (arrs[2] <= b1)\n",
    "            in_bin4 = (arrs[3] >  b0) & (arrs[3] <= b1)\n",
    "            \n",
    "        # don't divide by 0 in the rest of the if/else\n",
    "        if (count1 == 0) | (count2 == 0) | (count3 == 0) | (count4 == 0):\n",
    "            ws_list[0][in_bin1] = 0.0\n",
    "            ws_list[1][in_bin2] = 0.0\n",
    "            ws_list[2][in_bin3] = 0.0\n",
    "            ws_list[3][in_bin4] = 0.0\n",
    "\n",
    "        elif count1 <= count2 and count1 <= count3 and count1 <= count4:\n",
    "            # weight count2 values so the sum of wt2 in this bin equals count1\n",
    "            # wt_fac will always be < 1\n",
    "            ws_list[0][in_bin1] = 1.0\n",
    "            ws_list[1][in_bin2] = float(count1)/float(count2)\n",
    "            ws_list[2][in_bin3] = float(count1)/float(count3)\n",
    "            ws_list[3][in_bin4] = float(count1)/float(count4)\n",
    "            \n",
    "        elif count2 <= count1 and count2 <= count3 and count2 <= count4:\n",
    "            ws_list[0][in_bin1] = float(count2)/float(count1)\n",
    "            ws_list[1][in_bin2] = 1.0\n",
    "            ws_list[2][in_bin3] = float(count2)/float(count3)\n",
    "            ws_list[3][in_bin4] = float(count2)/float(count4)\n",
    "            \n",
    "        elif count3 <= count1 and count3 <= count2 and count3 <= count4:\n",
    "            ws_list[0][in_bin1] = float(count3)/float(count1)\n",
    "            ws_list[1][in_bin2] = float(count3)/float(count2)\n",
    "            ws_list[2][in_bin3] = 1.0\n",
    "            ws_list[3][in_bin4] = float(count3)/float(count4)\n",
    "            \n",
    "        elif count4 <= count1 and count4 <= count2 and count4 <= count3:\n",
    "            ws_list[0][in_bin1] = float(count4)/float(count1)\n",
    "            ws_list[1][in_bin2] = float(count4)/float(count2)\n",
    "            ws_list[2][in_bin3] = float(count4)/float(count3)\n",
    "            ws_list[3][in_bin4] = 1.0\n",
    "                        \n",
    "        else:\n",
    "            print('What the hell happened.')\n",
    "            print(count1)\n",
    "            print(count2)\n",
    "            print(count3)\n",
    "            print(count4)\n",
    "            sys.exit()\n",
    "\n",
    "        # else:\n",
    "        #     # weight count1 values so the sum of wt1 in this bin equals count2\n",
    "        #     # wt_fac will always be <= 1\n",
    "        #     wt_fac = float(count2)/float(count1)\n",
    "        #     ws_list[compare][in_bin1] = wt_fac\n",
    "        #     ws_list[i_hist][in_bin2] = 1.0\n",
    "\n",
    "\n",
    "    # now the weights should be determined\n",
    "    # we can optionally re-normalise to make sure we are getting max value out of the datasets\n",
    "    if renorm:\n",
    "        if (np.sum(ws) > 0.00000) & (np.amax(w1) < 1.0):\n",
    "            ws /= np.amax(ws)\n",
    "\n",
    "        if (np.sum(ws) > 0.00000) & (np.amax(w2) < 1.0):\n",
    "            ws /= np.amax(ws)\n",
    "\n",
    "\n",
    "    if return_bins:\n",
    "        return ws_list, thebins \n",
    "    else: \n",
    "        return ws_list"
   ]
  },
  {
   "cell_type": "code",
   "execution_count": 57,
   "id": "f77b41fe-d849-4c8f-9905-2ac55f3fcc08",
   "metadata": {},
   "outputs": [],
   "source": [
    "df_stage1 = df_cntd.query('category == \"stage1\"')\n",
    "df_stage2 = df_cntd.query('category == \"stage2\"')\n",
    "df_stage3 = df_cntd.query('category == \"stage3\"')\n",
    "df_stage4 = df_cntd.query('category == \"stage4\"')"
   ]
  },
  {
   "cell_type": "code",
   "execution_count": 58,
   "id": "29dff818-217d-4368-ae84-572060f8e9b3",
   "metadata": {},
   "outputs": [],
   "source": [
    "weights_list, thebins = weight_dist(\n",
    "    [\n",
    "        df_stage1['lp_mass_best'], \n",
    "        df_stage2['lp_mass_best'], \n",
    "        df_stage3['lp_mass_best'],\n",
    "        df_stage4['lp_mass_best']\n",
    "    ], \n",
    "    bins = 8,\n",
    "    renorm = False,\n",
    "    return_bins = True\n",
    ")"
   ]
  },
  {
   "cell_type": "code",
   "execution_count": 59,
   "id": "4439c5c1-6ab3-4c2c-8b03-2c20f321343b",
   "metadata": {},
   "outputs": [],
   "source": [
    "df_weights_s1 = df_stage1.assign(weights = weights_list[0])\n",
    "df_weights_s2 = df_stage2.assign(weights = weights_list[1])\n",
    "df_weights_s3 = df_stage3.assign(weights = weights_list[2])\n",
    "df_weights_s4 = df_stage4.assign(weights = weights_list[3])"
   ]
  },
  {
   "cell_type": "markdown",
   "id": "3d1db397-5c27-4a48-8e40-3ead83d7bc81",
   "metadata": {
    "tags": []
   },
   "source": [
    "## Looking at Fractions"
   ]
  },
  {
   "cell_type": "code",
   "execution_count": 60,
   "id": "48a37a03-60ab-4747-b59f-eb8b435c90cb",
   "metadata": {},
   "outputs": [],
   "source": [
    "fraction_s1 = (\n",
    "    (df_weights_s1.query('all_clsf == \"AGN\"').weights.sum()) / (df_weights_s1.weights.sum())\n",
    ")"
   ]
  },
  {
   "cell_type": "code",
   "execution_count": 61,
   "id": "27cc7b85-8d6d-4499-9eec-d96e40a4542f",
   "metadata": {},
   "outputs": [
    {
     "data": {
      "text/plain": [
       "0.05108195949504738"
      ]
     },
     "execution_count": 61,
     "metadata": {},
     "output_type": "execute_result"
    }
   ],
   "source": [
    "fraction_s1"
   ]
  },
  {
   "cell_type": "code",
   "execution_count": 62,
   "id": "82b4411b-9632-46c9-b8ba-4cf685d89cfe",
   "metadata": {},
   "outputs": [],
   "source": [
    "unknown_fraction_s1 = 1 - (\n",
    "    ((df_weights_s1.query('all_clsf == \"AGN\"').weights.sum()) + (df_weights_s1.query('all_clsf == \"SFG\"').weights.sum())) / ((df_weights_s1.weights.sum()))\n",
    ")"
   ]
  },
  {
   "cell_type": "code",
   "execution_count": 63,
   "id": "1cfe2d33-cf61-4566-b74c-8f2c038e0707",
   "metadata": {},
   "outputs": [
    {
     "data": {
      "text/plain": [
       "0.8613519331580044"
      ]
     },
     "execution_count": 63,
     "metadata": {},
     "output_type": "execute_result"
    }
   ],
   "source": [
    "unknown_fraction_s1"
   ]
  },
  {
   "cell_type": "code",
   "execution_count": 64,
   "id": "5d7ad6c6-1437-4a00-bb11-fe839e88f183",
   "metadata": {},
   "outputs": [
    {
     "data": {
      "text/plain": [
       "0.05930439989582867"
      ]
     },
     "execution_count": 64,
     "metadata": {},
     "output_type": "execute_result"
    }
   ],
   "source": [
    "fraction_s1 / unknown_fraction_s1"
   ]
  },
  {
   "cell_type": "code",
   "execution_count": 65,
   "id": "6ae4a73b-1604-4b6c-a00a-56722f42b904",
   "metadata": {},
   "outputs": [
    {
     "data": {
      "text/plain": [
       "0.05040415992190846"
      ]
     },
     "execution_count": 65,
     "metadata": {},
     "output_type": "execute_result"
    }
   ],
   "source": [
    "fraction_s2 = (\n",
    "    (df_weights_s2.query('all_clsf == \"AGN\"').weights.sum()) / df_weights_s2.weights.sum()\n",
    ")\n",
    "fraction_s2"
   ]
  },
  {
   "cell_type": "code",
   "execution_count": 66,
   "id": "865a6662-e9ac-49b8-a982-1134817fb20d",
   "metadata": {},
   "outputs": [
    {
     "data": {
      "text/plain": [
       "0.815375397528464"
      ]
     },
     "execution_count": 66,
     "metadata": {},
     "output_type": "execute_result"
    }
   ],
   "source": [
    "unknown_fraction_s2 = 1 - (\n",
    "    ((df_weights_s2.query('all_clsf == \"AGN\"').weights.sum()) + (df_weights_s2.query('all_clsf == \"SFG\"').weights.sum())) / ((df_weights_s2.weights.sum()))\n",
    ")\n",
    "unknown_fraction_s2"
   ]
  },
  {
   "cell_type": "code",
   "execution_count": 67,
   "id": "74f7be1c-3e04-4856-9abf-4892dacda342",
   "metadata": {},
   "outputs": [
    {
     "data": {
      "text/plain": [
       "0.061817121383220174"
      ]
     },
     "execution_count": 67,
     "metadata": {},
     "output_type": "execute_result"
    }
   ],
   "source": [
    "fraction_s2 / unknown_fraction_s2"
   ]
  },
  {
   "cell_type": "code",
   "execution_count": 68,
   "id": "04177fb9-a244-4477-9ac7-27a9acefa3ee",
   "metadata": {},
   "outputs": [
    {
     "data": {
      "text/plain": [
       "0.05426274678193296"
      ]
     },
     "execution_count": 68,
     "metadata": {},
     "output_type": "execute_result"
    }
   ],
   "source": [
    "fraction_s3 = (\n",
    "    (df_weights_s3.query('all_clsf == \"AGN\"').weights.sum()) / df_weights_s3.weights.sum()\n",
    ")\n",
    "fraction_s3"
   ]
  },
  {
   "cell_type": "code",
   "execution_count": 69,
   "id": "a5795c86-fa7b-4248-a926-f9b0b302614c",
   "metadata": {},
   "outputs": [
    {
     "data": {
      "text/plain": [
       "0.8111473076134726"
      ]
     },
     "execution_count": 69,
     "metadata": {},
     "output_type": "execute_result"
    }
   ],
   "source": [
    "unknown_fraction_s3 = 1 - (\n",
    "    ((df_weights_s3.query('all_clsf == \"AGN\"').weights.sum()) + (df_weights_s3.query('all_clsf == \"SFG\"').weights.sum())) / ((df_weights_s3).weights.sum())\n",
    ")\n",
    "unknown_fraction_s3"
   ]
  },
  {
   "cell_type": "code",
   "execution_count": 70,
   "id": "ce869b41-9bad-481c-9480-752041b238cb",
   "metadata": {},
   "outputs": [
    {
     "data": {
      "text/plain": [
       "0.06689629155224935"
      ]
     },
     "execution_count": 70,
     "metadata": {},
     "output_type": "execute_result"
    }
   ],
   "source": [
    "fraction_s3 / unknown_fraction_s3"
   ]
  },
  {
   "cell_type": "code",
   "execution_count": 71,
   "id": "a93f9bbe-9389-4876-b29a-74e53e127ca3",
   "metadata": {},
   "outputs": [
    {
     "data": {
      "text/plain": [
       "0.06619521241398946"
      ]
     },
     "execution_count": 71,
     "metadata": {},
     "output_type": "execute_result"
    }
   ],
   "source": [
    "fraction_s4 = (\n",
    "    (df_weights_s4.query('all_clsf == \"AGN\"').weights.sum()) / (df_weights_s4.weights.sum())\n",
    ")\n",
    "fraction_s4"
   ]
  },
  {
   "cell_type": "code",
   "execution_count": 72,
   "id": "27a769be-71c0-4928-b079-7dee84dcf11e",
   "metadata": {},
   "outputs": [
    {
     "data": {
      "text/plain": [
       "0.7716773649073189"
      ]
     },
     "execution_count": 72,
     "metadata": {},
     "output_type": "execute_result"
    }
   ],
   "source": [
    "unknown_fraction_s4 = 1 - (\n",
    "    ((df_weights_s4.query('all_clsf == \"AGN\"').weights.sum()) + (df_weights_s4.query('all_clsf == \"SFG\"').weights.sum())) / ((df_weights_s4).weights.sum())\n",
    ")\n",
    "unknown_fraction_s4"
   ]
  },
  {
   "cell_type": "code",
   "execution_count": 73,
   "id": "6fe370e8-09c6-4e22-b976-e13b2c59d71c",
   "metadata": {},
   "outputs": [
    {
     "data": {
      "text/plain": [
       "0.08578094346714411"
      ]
     },
     "execution_count": 73,
     "metadata": {},
     "output_type": "execute_result"
    }
   ],
   "source": [
    "fraction_s4 / unknown_fraction_s4"
   ]
  },
  {
   "cell_type": "code",
   "execution_count": 74,
   "id": "95ef9e37-54ae-4e83-93d2-d3b3c52a107b",
   "metadata": {},
   "outputs": [
    {
     "name": "stdout",
     "output_type": "stream",
     "text": [
      "0.05930439989582867\n",
      "0.061817121383220174\n",
      "0.06689629155224935\n",
      "0.08578094346714411\n"
     ]
    }
   ],
   "source": [
    "print(fraction_s1 / unknown_fraction_s1)\n",
    "print(fraction_s2 / unknown_fraction_s2)\n",
    "print(fraction_s3 / unknown_fraction_s3)\n",
    "print(fraction_s4 / unknown_fraction_s4)"
   ]
  },
  {
   "cell_type": "code",
   "execution_count": 75,
   "id": "51d3c4f4-6b47-4c67-9362-b723f40cf24a",
   "metadata": {},
   "outputs": [],
   "source": [
    "weighted_fraction = []\n",
    "\n",
    "weighted_fraction.append(fraction_s1 / unknown_fraction_s1)\n",
    "weighted_fraction.append(fraction_s2 / unknown_fraction_s2)\n",
    "weighted_fraction.append(fraction_s3 / unknown_fraction_s3)\n",
    "weighted_fraction.append(fraction_s4 / unknown_fraction_s4)"
   ]
  },
  {
   "cell_type": "code",
   "execution_count": 76,
   "id": "5f3a1d19-0969-46bf-ba83-4a96d4460cd0",
   "metadata": {},
   "outputs": [],
   "source": [
    "x = ['Separated', 'Pericentre', 'Apocentre','Merging']"
   ]
  },
  {
   "cell_type": "code",
   "execution_count": 77,
   "id": "2c6ae013-dbb6-4368-81ab-5778f242ec62",
   "metadata": {},
   "outputs": [
    {
     "data": {
      "image/png": "[encoded data removed]",
      "text/plain": [
       "<Figure size 600x600 with 1 Axes>"
      ]
     },
     "metadata": {},
     "output_type": "display_data"
    }
   ],
   "source": [
    "plt.figure(figsize = (6,6))\n",
    "plt.scatter(x, weighted_fraction, color = 'black', marker = 'x')\n",
    "plt.plot(x, weighted_fraction, color = 'black', linestyle='--')\n",
    "plt.show()"
   ]
  },
  {
   "cell_type": "markdown",
   "id": "ed281ccb-065c-40c0-8e94-9c607438e657",
   "metadata": {},
   "source": [
    "## Getting Weighted Fractions"
   ]
  },
  {
   "cell_type": "markdown",
   "id": "426e1500-7fc7-434a-b36e-e562d4e9cffc",
   "metadata": {},
   "source": [
    "### Only Classifieds"
   ]
  },
  {
   "cell_type": "code",
   "execution_count": 78,
   "id": "7710818e-367d-4bd5-ba3f-348ba8913107",
   "metadata": {},
   "outputs": [],
   "source": [
    "df_rem_unk = (\n",
    "    df_sorted\n",
    "    .query('all_clsf != \"unknown\"')\n",
    ")"
   ]
  },
  {
   "cell_type": "code",
   "execution_count": 79,
   "id": "e00ff654-5737-46d5-a636-d2d227f7b448",
   "metadata": {},
   "outputs": [
    {
     "data": {
      "text/html": [
       "<div>\n",
       "<style scoped>\n",
       "    .dataframe tbody tr th:only-of-type {\n",
       "        vertical-align: middle;\n",
       "    }\n",
       "\n",
       "    .dataframe tbody tr th {\n",
       "        vertical-align: top;\n",
       "    }\n",
       "\n",
       "    .dataframe thead th {\n",
       "        text-align: right;\n",
       "    }\n",
       "</style>\n",
       "<table border=\"1\" class=\"dataframe\">\n",
       "  <thead>\n",
       "    <tr style=\"text-align: right;\">\n",
       "      <th></th>\n",
       "      <th>ORyanID_23</th>\n",
       "      <th>ID</th>\n",
       "      <th>lp_mass_best</th>\n",
       "      <th>ez_sfr</th>\n",
       "      <th>category</th>\n",
       "      <th>agn_clsf</th>\n",
       "      <th>all_clsf</th>\n",
       "    </tr>\n",
       "  </thead>\n",
       "  <tbody>\n",
       "    <tr>\n",
       "      <th>11</th>\n",
       "      <td>4000705547180</td>\n",
       "      <td>1264241</td>\n",
       "      <td>10.53484</td>\n",
       "      <td>1.474177</td>\n",
       "      <td>stage1</td>\n",
       "      <td>SFG</td>\n",
       "      <td>SFG</td>\n",
       "    </tr>\n",
       "    <tr>\n",
       "      <th>12</th>\n",
       "      <td>4000706649921</td>\n",
       "      <td>844303</td>\n",
       "      <td>11.05237</td>\n",
       "      <td>2.547000</td>\n",
       "      <td>stage3</td>\n",
       "      <td>AGN</td>\n",
       "      <td>AGN</td>\n",
       "    </tr>\n",
       "    <tr>\n",
       "      <th>14</th>\n",
       "      <td>4000707046655</td>\n",
       "      <td>219965</td>\n",
       "      <td>9.38022</td>\n",
       "      <td>0.243848</td>\n",
       "      <td>stage1</td>\n",
       "      <td>AGN</td>\n",
       "      <td>AGN</td>\n",
       "    </tr>\n",
       "    <tr>\n",
       "      <th>15</th>\n",
       "      <td>4000707047113</td>\n",
       "      <td>230625</td>\n",
       "      <td>10.65441</td>\n",
       "      <td>0.285223</td>\n",
       "      <td>stage3</td>\n",
       "      <td>AGN</td>\n",
       "      <td>AGN</td>\n",
       "    </tr>\n",
       "    <tr>\n",
       "      <th>18</th>\n",
       "      <td>4000707049267</td>\n",
       "      <td>250320</td>\n",
       "      <td>10.56664</td>\n",
       "      <td>1.082212</td>\n",
       "      <td>stage3</td>\n",
       "      <td>SFG</td>\n",
       "      <td>SFG</td>\n",
       "    </tr>\n",
       "    <tr>\n",
       "      <th>...</th>\n",
       "      <td>...</td>\n",
       "      <td>...</td>\n",
       "      <td>...</td>\n",
       "      <td>...</td>\n",
       "      <td>...</td>\n",
       "      <td>...</td>\n",
       "      <td>...</td>\n",
       "    </tr>\n",
       "    <tr>\n",
       "      <th>4145</th>\n",
       "      <td>4001047625860_extra</td>\n",
       "      <td>1473684</td>\n",
       "      <td>10.61118</td>\n",
       "      <td>1.825090</td>\n",
       "      <td>stage2</td>\n",
       "      <td>SFG</td>\n",
       "      <td>SFG</td>\n",
       "    </tr>\n",
       "    <tr>\n",
       "      <th>4146</th>\n",
       "      <td>4000711824236_extra</td>\n",
       "      <td>1475260</td>\n",
       "      <td>11.05202</td>\n",
       "      <td>-1.197355</td>\n",
       "      <td>stage2</td>\n",
       "      <td>SFG</td>\n",
       "      <td>SFG</td>\n",
       "    </tr>\n",
       "    <tr>\n",
       "      <th>4167</th>\n",
       "      <td>4000927318021_extra</td>\n",
       "      <td>1513748</td>\n",
       "      <td>9.51840</td>\n",
       "      <td>0.166576</td>\n",
       "      <td>stage3</td>\n",
       "      <td>AGN</td>\n",
       "      <td>AGN</td>\n",
       "    </tr>\n",
       "    <tr>\n",
       "      <th>4174</th>\n",
       "      <td>4546055995_extra</td>\n",
       "      <td>1519536</td>\n",
       "      <td>9.41503</td>\n",
       "      <td>0.294519</td>\n",
       "      <td>stage3</td>\n",
       "      <td>SFG</td>\n",
       "      <td>SFG</td>\n",
       "    </tr>\n",
       "    <tr>\n",
       "      <th>4179</th>\n",
       "      <td>4000747939904_extra</td>\n",
       "      <td>1524909</td>\n",
       "      <td>9.76084</td>\n",
       "      <td>0.637714</td>\n",
       "      <td>stage3</td>\n",
       "      <td>SFG</td>\n",
       "      <td>SFG</td>\n",
       "    </tr>\n",
       "  </tbody>\n",
       "</table>\n",
       "<p>802 rows × 7 columns</p>\n",
       "</div>"
      ],
      "text/plain": [
       "               ORyanID_23       ID  lp_mass_best    ez_sfr category agn_clsf  \\\n",
       "11          4000705547180  1264241      10.53484  1.474177   stage1      SFG   \n",
       "12          4000706649921   844303      11.05237  2.547000   stage3      AGN   \n",
       "14          4000707046655   219965       9.38022  0.243848   stage1      AGN   \n",
       "15          4000707047113   230625      10.65441  0.285223   stage3      AGN   \n",
       "18          4000707049267   250320      10.56664  1.082212   stage3      SFG   \n",
       "...                   ...      ...           ...       ...      ...      ...   \n",
       "4145  4001047625860_extra  1473684      10.61118  1.825090   stage2      SFG   \n",
       "4146  4000711824236_extra  1475260      11.05202 -1.197355   stage2      SFG   \n",
       "4167  4000927318021_extra  1513748       9.51840  0.166576   stage3      AGN   \n",
       "4174     4546055995_extra  1519536       9.41503  0.294519   stage3      SFG   \n",
       "4179  4000747939904_extra  1524909       9.76084  0.637714   stage3      SFG   \n",
       "\n",
       "     all_clsf  \n",
       "11        SFG  \n",
       "12        AGN  \n",
       "14        AGN  \n",
       "15        AGN  \n",
       "18        SFG  \n",
       "...       ...  \n",
       "4145      SFG  \n",
       "4146      SFG  \n",
       "4167      AGN  \n",
       "4174      SFG  \n",
       "4179      SFG  \n",
       "\n",
       "[802 rows x 7 columns]"
      ]
     },
     "execution_count": 79,
     "metadata": {},
     "output_type": "execute_result"
    }
   ],
   "source": [
    "df_rem_unk"
   ]
  },
  {
   "cell_type": "code",
   "execution_count": 80,
   "id": "c671399c-a74d-4d84-8d0f-d1599f8f4853",
   "metadata": {},
   "outputs": [],
   "source": [
    "df_stage1 = df_sorted.query('category == \"stage1\"')\n",
    "df_stage2 = df_sorted.query('category == \"stage2\"')\n",
    "df_stage3 = df_sorted.query('category == \"stage3\"')\n",
    "df_stage4 = df_sorted.query('category == \"stage4\"')"
   ]
  },
  {
   "cell_type": "code",
   "execution_count": 81,
   "id": "99eb59d6-b46f-417b-bc6c-797c3d22ad57",
   "metadata": {},
   "outputs": [
    {
     "name": "stdout",
     "output_type": "stream",
     "text": [
      "0.4233576642335766\n",
      "0.2894736842105263\n",
      "0.2894736842105263\n",
      "0.29239766081871343\n"
     ]
    }
   ],
   "source": [
    "print(len(df_stage1.query('all_clsf == \"AGN\"')) / (len(df_stage1.query('all_clsf == \"AGN\"')) + len(df_stage1.query('all_clsf == \"SFG\"'))))\n",
    "print(len(df_stage2.query('all_clsf == \"AGN\"')) / (len(df_stage2.query('all_clsf == \"AGN\"')) + len(df_stage2.query('all_clsf == \"SFG\"'))))\n",
    "print(len(df_stage3.query('all_clsf == \"AGN\"')) / (len(df_stage3.query('all_clsf == \"AGN\"')) + len(df_stage3.query('all_clsf == \"SFG\"'))))\n",
    "print(len(df_stage4.query('all_clsf == \"AGN\"')) / (len(df_stage4.query('all_clsf == \"AGN\"')) + len(df_stage4.query('all_clsf == \"SFG\"'))))"
   ]
  },
  {
   "cell_type": "code",
   "execution_count": 82,
   "id": "c522b1c2-1362-44b4-8ec9-520e94bff5bb",
   "metadata": {},
   "outputs": [],
   "source": [
    "df_unk_rem = df_sorted.query('all_clsf != \"unknown\"')"
   ]
  },
  {
   "cell_type": "code",
   "execution_count": 83,
   "id": "ae01239d-090b-4f84-ab72-b557d6271275",
   "metadata": {},
   "outputs": [
    {
     "data": {
      "text/html": [
       "<div>\n",
       "<style scoped>\n",
       "    .dataframe tbody tr th:only-of-type {\n",
       "        vertical-align: middle;\n",
       "    }\n",
       "\n",
       "    .dataframe tbody tr th {\n",
       "        vertical-align: top;\n",
       "    }\n",
       "\n",
       "    .dataframe thead th {\n",
       "        text-align: right;\n",
       "    }\n",
       "</style>\n",
       "<table border=\"1\" class=\"dataframe\">\n",
       "  <thead>\n",
       "    <tr style=\"text-align: right;\">\n",
       "      <th></th>\n",
       "      <th>ORyanID_23</th>\n",
       "      <th>ID</th>\n",
       "      <th>lp_mass_best</th>\n",
       "      <th>ez_sfr</th>\n",
       "      <th>category</th>\n",
       "      <th>agn_clsf</th>\n",
       "      <th>all_clsf</th>\n",
       "    </tr>\n",
       "  </thead>\n",
       "  <tbody>\n",
       "    <tr>\n",
       "      <th>11</th>\n",
       "      <td>4000705547180</td>\n",
       "      <td>1264241</td>\n",
       "      <td>10.53484</td>\n",
       "      <td>1.474177</td>\n",
       "      <td>stage1</td>\n",
       "      <td>SFG</td>\n",
       "      <td>SFG</td>\n",
       "    </tr>\n",
       "    <tr>\n",
       "      <th>12</th>\n",
       "      <td>4000706649921</td>\n",
       "      <td>844303</td>\n",
       "      <td>11.05237</td>\n",
       "      <td>2.547000</td>\n",
       "      <td>stage3</td>\n",
       "      <td>AGN</td>\n",
       "      <td>AGN</td>\n",
       "    </tr>\n",
       "    <tr>\n",
       "      <th>14</th>\n",
       "      <td>4000707046655</td>\n",
       "      <td>219965</td>\n",
       "      <td>9.38022</td>\n",
       "      <td>0.243848</td>\n",
       "      <td>stage1</td>\n",
       "      <td>AGN</td>\n",
       "      <td>AGN</td>\n",
       "    </tr>\n",
       "    <tr>\n",
       "      <th>15</th>\n",
       "      <td>4000707047113</td>\n",
       "      <td>230625</td>\n",
       "      <td>10.65441</td>\n",
       "      <td>0.285223</td>\n",
       "      <td>stage3</td>\n",
       "      <td>AGN</td>\n",
       "      <td>AGN</td>\n",
       "    </tr>\n",
       "    <tr>\n",
       "      <th>18</th>\n",
       "      <td>4000707049267</td>\n",
       "      <td>250320</td>\n",
       "      <td>10.56664</td>\n",
       "      <td>1.082212</td>\n",
       "      <td>stage3</td>\n",
       "      <td>SFG</td>\n",
       "      <td>SFG</td>\n",
       "    </tr>\n",
       "    <tr>\n",
       "      <th>...</th>\n",
       "      <td>...</td>\n",
       "      <td>...</td>\n",
       "      <td>...</td>\n",
       "      <td>...</td>\n",
       "      <td>...</td>\n",
       "      <td>...</td>\n",
       "      <td>...</td>\n",
       "    </tr>\n",
       "    <tr>\n",
       "      <th>4145</th>\n",
       "      <td>4001047625860_extra</td>\n",
       "      <td>1473684</td>\n",
       "      <td>10.61118</td>\n",
       "      <td>1.825090</td>\n",
       "      <td>stage2</td>\n",
       "      <td>SFG</td>\n",
       "      <td>SFG</td>\n",
       "    </tr>\n",
       "    <tr>\n",
       "      <th>4146</th>\n",
       "      <td>4000711824236_extra</td>\n",
       "      <td>1475260</td>\n",
       "      <td>11.05202</td>\n",
       "      <td>-1.197355</td>\n",
       "      <td>stage2</td>\n",
       "      <td>SFG</td>\n",
       "      <td>SFG</td>\n",
       "    </tr>\n",
       "    <tr>\n",
       "      <th>4167</th>\n",
       "      <td>4000927318021_extra</td>\n",
       "      <td>1513748</td>\n",
       "      <td>9.51840</td>\n",
       "      <td>0.166576</td>\n",
       "      <td>stage3</td>\n",
       "      <td>AGN</td>\n",
       "      <td>AGN</td>\n",
       "    </tr>\n",
       "    <tr>\n",
       "      <th>4174</th>\n",
       "      <td>4546055995_extra</td>\n",
       "      <td>1519536</td>\n",
       "      <td>9.41503</td>\n",
       "      <td>0.294519</td>\n",
       "      <td>stage3</td>\n",
       "      <td>SFG</td>\n",
       "      <td>SFG</td>\n",
       "    </tr>\n",
       "    <tr>\n",
       "      <th>4179</th>\n",
       "      <td>4000747939904_extra</td>\n",
       "      <td>1524909</td>\n",
       "      <td>9.76084</td>\n",
       "      <td>0.637714</td>\n",
       "      <td>stage3</td>\n",
       "      <td>SFG</td>\n",
       "      <td>SFG</td>\n",
       "    </tr>\n",
       "  </tbody>\n",
       "</table>\n",
       "<p>802 rows × 7 columns</p>\n",
       "</div>"
      ],
      "text/plain": [
       "               ORyanID_23       ID  lp_mass_best    ez_sfr category agn_clsf  \\\n",
       "11          4000705547180  1264241      10.53484  1.474177   stage1      SFG   \n",
       "12          4000706649921   844303      11.05237  2.547000   stage3      AGN   \n",
       "14          4000707046655   219965       9.38022  0.243848   stage1      AGN   \n",
       "15          4000707047113   230625      10.65441  0.285223   stage3      AGN   \n",
       "18          4000707049267   250320      10.56664  1.082212   stage3      SFG   \n",
       "...                   ...      ...           ...       ...      ...      ...   \n",
       "4145  4001047625860_extra  1473684      10.61118  1.825090   stage2      SFG   \n",
       "4146  4000711824236_extra  1475260      11.05202 -1.197355   stage2      SFG   \n",
       "4167  4000927318021_extra  1513748       9.51840  0.166576   stage3      AGN   \n",
       "4174     4546055995_extra  1519536       9.41503  0.294519   stage3      SFG   \n",
       "4179  4000747939904_extra  1524909       9.76084  0.637714   stage3      SFG   \n",
       "\n",
       "     all_clsf  \n",
       "11        SFG  \n",
       "12        AGN  \n",
       "14        AGN  \n",
       "15        AGN  \n",
       "18        SFG  \n",
       "...       ...  \n",
       "4145      SFG  \n",
       "4146      SFG  \n",
       "4167      AGN  \n",
       "4174      SFG  \n",
       "4179      SFG  \n",
       "\n",
       "[802 rows x 7 columns]"
      ]
     },
     "execution_count": 83,
     "metadata": {},
     "output_type": "execute_result"
    }
   ],
   "source": [
    "df_unk_rem"
   ]
  },
  {
   "cell_type": "code",
   "execution_count": 85,
   "id": "a98676d2-4916-49fc-86e2-26d634acd115",
   "metadata": {},
   "outputs": [],
   "source": [
    "df_stage1 = df_cntd.query('category == \"stage1\"')\n",
    "df_stage2 = df_cntd.query('category == \"stage2\"')\n",
    "df_stage3 = df_cntd.query('category == \"stage3\"')\n",
    "df_stage4 = df_cntd.query('category == \"stage4\"')"
   ]
  },
  {
   "cell_type": "code",
   "execution_count": 86,
   "id": "bb8333b6-9523-40a9-b7ad-26f7ba88df78",
   "metadata": {},
   "outputs": [],
   "source": [
    "weights_list, thebins = weight_dist(\n",
    "    [\n",
    "        df_stage1['lp_mass_best'], \n",
    "        df_stage2['lp_mass_best'], \n",
    "        df_stage3['lp_mass_best'],\n",
    "        df_stage4['lp_mass_best']\n",
    "    ], \n",
    "    bins = 8,\n",
    "    renorm = False,\n",
    "    return_bins = True\n",
    ")"
   ]
  },
  {
   "cell_type": "code",
   "execution_count": 87,
   "id": "b88bc172-2661-4f6d-8921-912ab14222b0",
   "metadata": {},
   "outputs": [],
   "source": [
    "df_s1_weighted = df_stage1.assign(weights = weights_list[0])\n",
    "df_s2_weighted = df_stage2.assign(weights = weights_list[1])\n",
    "df_s3_weighted = df_stage3.assign(weights = weights_list[2])\n",
    "df_s4_weighted = df_stage4.assign(weights = weights_list[3])"
   ]
  },
  {
   "cell_type": "code",
   "execution_count": 88,
   "id": "25f65280-9ab2-49a1-b426-aca309dd6ffe",
   "metadata": {},
   "outputs": [
    {
     "name": "stdout",
     "output_type": "stream",
     "text": [
      "0.05108195949504738\n"
     ]
    }
   ],
   "source": [
    "weighted_fractions = []\n",
    "\n",
    "df_s1_agn = df_s1_weighted.query('all_clsf == \"AGN\"')\n",
    "df_s1_sfg = df_s1_weighted.query('all_clsf == \"SFG\"')\n",
    "df_s1_unk = df_s1_weighted.query('all_clsf == \"unknown\"')\n",
    "\n",
    "weighted_agn_counts_s1 = np.sum(np.ones(len(df_s1_agn)) * np.array(list(df_s1_agn.weights)))\n",
    "weighted_sfg_counts_s1 = np.sum(np.ones(len(df_s1_sfg)) * np.array(list(df_s1_sfg.weights)))\n",
    "weighted_unk_counts_s1 = np.sum(np.ones(len(df_s1_unk)) * np.array(list(df_s1_unk.weights)))\n",
    "print(weighted_agn_counts_s1 / (weighted_sfg_counts_s1 + weighted_agn_counts_s1 + weighted_unk_counts_s1))\n",
    "weighted_fractions.append(weighted_agn_counts_s1 / (weighted_sfg_counts_s1 + weighted_agn_counts_s1 + weighted_unk_counts_s1))"
   ]
  },
  {
   "cell_type": "code",
   "execution_count": 90,
   "id": "d656c229-54f6-4852-bbea-9734479aa131",
   "metadata": {},
   "outputs": [
    {
     "name": "stdout",
     "output_type": "stream",
     "text": [
      "0.05040415992190846\n"
     ]
    }
   ],
   "source": [
    "df_s2_agn = df_s2_weighted.query('all_clsf == \"AGN\"')\n",
    "df_s2_sfg = df_s2_weighted.query('all_clsf == \"SFG\"')\n",
    "df_s2_unk = df_s2_weighted.query('all_clsf == \"unknown\"')\n",
    "\n",
    "\n",
    "weighted_agn_counts_s2 = np.sum(np.ones(len(df_s2_agn)) * np.array(list(df_s2_agn.weights)))\n",
    "weighted_sfg_counts_s2 = np.sum(np.ones(len(df_s2_sfg)) * np.array(list(df_s2_sfg.weights)))\n",
    "weighted_unk_counts_s2 = np.sum(np.ones(len(df_s2_unk)) * np.array(list(df_s2_unk.weights)))\n",
    "print(weighted_agn_counts_s2 / (weighted_sfg_counts_s2 + weighted_agn_counts_s2 + weighted_unk_counts_s2))\n",
    "weighted_fractions.append(weighted_agn_counts_s2 / (weighted_sfg_counts_s2 + weighted_agn_counts_s2 + weighted_unk_counts_s2))"
   ]
  },
  {
   "cell_type": "code",
   "execution_count": 91,
   "id": "b43db9d9-0acc-4687-b779-7f86a64f0432",
   "metadata": {},
   "outputs": [
    {
     "name": "stdout",
     "output_type": "stream",
     "text": [
      "0.05426274678193296\n"
     ]
    }
   ],
   "source": [
    "df_s3_agn = df_s3_weighted.query('all_clsf == \"AGN\"')\n",
    "df_s3_sfg = df_s3_weighted.query('all_clsf == \"SFG\"')\n",
    "df_s3_unk = df_s3_weighted.query('all_clsf == \"unknown\"')\n",
    "\n",
    "weighted_agn_counts_s3 = np.sum(np.ones(len(df_s3_agn)) * np.array(list(df_s3_agn.weights)))\n",
    "weighted_sfg_counts_s3 = np.sum(np.ones(len(df_s3_sfg)) * np.array(list(df_s3_sfg.weights)))\n",
    "weighted_unk_counts_s3 = np.sum(np.ones(len(df_s3_unk)) * np.array(list(df_s3_unk.weights)))\n",
    "print(weighted_agn_counts_s3 / (weighted_sfg_counts_s3 + weighted_agn_counts_s3 + weighted_unk_counts_s3))\n",
    "weighted_fractions.append(weighted_agn_counts_s3 / (weighted_sfg_counts_s3 + weighted_agn_counts_s3 + weighted_unk_counts_s3))"
   ]
  },
  {
   "cell_type": "code",
   "execution_count": 92,
   "id": "51277a26-6122-45ec-b116-2bcb8f024729",
   "metadata": {},
   "outputs": [
    {
     "name": "stdout",
     "output_type": "stream",
     "text": [
      "0.06619521241398946\n"
     ]
    }
   ],
   "source": [
    "df_s4_agn = df_s4_weighted.query('all_clsf == \"AGN\"')\n",
    "df_s4_sfg = df_s4_weighted.query('all_clsf == \"SFG\"')\n",
    "df_s4_unk = df_s4_weighted.query('all_clsf == \"unknown\"')\n",
    "\n",
    "weighted_agn_counts_s4 = np.sum(np.ones(len(df_s4_agn)) * np.array(list(df_s4_agn.weights)))\n",
    "weighted_sfg_counts_s4 = np.sum(np.ones(len(df_s4_sfg)) * np.array(list(df_s4_sfg.weights)))\n",
    "weighted_unk_counts_s4 = np.sum(np.ones(len(df_s4_unk)) * np.array(list(df_s4_unk.weights)))\n",
    "print(weighted_agn_counts_s4 / (weighted_sfg_counts_s4 + weighted_agn_counts_s4 + weighted_unk_counts_s4))\n",
    "weighted_fractions.append(weighted_agn_counts_s4 / (weighted_sfg_counts_s4 + weighted_agn_counts_s4 + weighted_unk_counts_s4))"
   ]
  },
  {
   "cell_type": "code",
   "execution_count": 93,
   "id": "59c16872-651c-48c8-bfa8-39d45b0271c4",
   "metadata": {},
   "outputs": [],
   "source": [
    "x = ['Separated', 'Pericentre', 'Apocentre','Merging']"
   ]
  },
  {
   "cell_type": "code",
   "execution_count": 94,
   "id": "ceb48aee-fc89-4cbe-a95a-28aacae8357c",
   "metadata": {},
   "outputs": [
    {
     "data": {
      "image/png": "[encoded data removed]",
      "text/plain": [
       "<Figure size 600x600 with 1 Axes>"
      ]
     },
     "metadata": {},
     "output_type": "display_data"
    }
   ],
   "source": [
    "plt.figure(figsize = (6,6))\n",
    "plt.scatter(x, weighted_fractions, color = 'black', marker = 'x')\n",
    "plt.plot(x, weighted_fractions, color = 'black', linestyle='--')\n",
    "plt.show()"
   ]
  },
  {
   "cell_type": "markdown",
   "id": "ca634a2d-af13-4fb3-951a-81abdf4fb3fe",
   "metadata": {},
   "source": [
    "## Adding Errors"
   ]
  },
  {
   "cell_type": "code",
   "execution_count": 95,
   "id": "eaaf5a15-a1a2-4956-9b3f-d3c883a7c683",
   "metadata": {},
   "outputs": [],
   "source": [
    "def lower_beta(c,k,n):\n",
    "    return dist.beta.ppf((1-c)/2, k+1, n-k+1)"
   ]
  },
  {
   "cell_type": "code",
   "execution_count": 96,
   "id": "9b345377-3d48-4679-a210-b90958f6b1be",
   "metadata": {},
   "outputs": [],
   "source": [
    "def upper_beta(c,k,n):\n",
    "    return dist.beta.ppf(1-(1-c)/2, k+1, n-k+1)"
   ]
  },
  {
   "cell_type": "code",
   "execution_count": 97,
   "id": "5e99f87e-070c-4d82-b9ba-183253755c44",
   "metadata": {},
   "outputs": [],
   "source": [
    "weighted_agn = [weighted_agn_counts_s1, weighted_agn_counts_s2, weighted_agn_counts_s3, weighted_agn_counts_s4]\n",
    "weighted_sfgs = [weighted_sfg_counts_s1, weighted_sfg_counts_s2, weighted_sfg_counts_s3, weighted_sfg_counts_s4]\n",
    "weighted_unks = [weighted_unk_counts_s1, weighted_unk_counts_s2, weighted_unk_counts_s3, weighted_unk_counts_s4]"
   ]
  },
  {
   "cell_type": "code",
   "execution_count": 98,
   "id": "260cbb0b-255e-4e5a-9b92-00f095a7ef0e",
   "metadata": {},
   "outputs": [],
   "source": [
    "unweighted_agn = [len(df_s1_agn), len(df_s2_agn), len(df_s3_agn), len(df_s4_agn)]\n",
    "unweighted_sfgs = [len(df_s1_sfg), len(df_s2_sfg), len(df_s3_sfg), len(df_s4_sfg)]\n",
    "unweighted_unks = [len(df_s1_unk), len(df_s2_unk),len(df_s3_unk),len(df_s4_unk)]"
   ]
  },
  {
   "cell_type": "code",
   "execution_count": 99,
   "id": "9f52ef45-4975-46c8-b2a7-4bcd206cc594",
   "metadata": {},
   "outputs": [],
   "source": [
    "unweighted_fracs = [\n",
    "    unweighted_agn[0] / (unweighted_agn[0] + unweighted_sfgs[0] + unweighted_unks[0]),\n",
    "    unweighted_agn[1] / (unweighted_agn[1] + unweighted_sfgs[1] + unweighted_unks[1]),\n",
    "    unweighted_agn[2] / (unweighted_agn[2] + unweighted_sfgs[2] + unweighted_unks[2]),\n",
    "    unweighted_agn[3] / (unweighted_agn[3] + unweighted_sfgs[3] + unweighted_unks[3]),\n",
    "]"
   ]
  },
  {
   "cell_type": "code",
   "execution_count": 106,
   "id": "a3cb442f-d505-4f0a-9a1f-4a10feefa923",
   "metadata": {
    "tags": []
   },
   "outputs": [],
   "source": [
    "p_agn = [[],[],[],[]]\n",
    "for i in range(4):\n",
    "    upper = upper_beta(1-0.683, unweighted_agn[i], (unweighted_agn[i] + unweighted_sfgs[i] + unweighted_unks[i]))\n",
    "    lower = lower_beta(1-0.683, unweighted_agn[i], (unweighted_agn[i] + unweighted_sfgs[i] + unweighted_unks[i]))\n",
    "    \n",
    "    p_agn[i] = [unweighted_fracs[i] - lower,  upper - unweighted_fracs[i]]"
   ]
  },
  {
   "cell_type": "code",
   "execution_count": 107,
   "id": "b36a57e4-a23e-4600-987d-3563ed6eded2",
   "metadata": {},
   "outputs": [
    {
     "data": {
      "text/plain": [
       "[[0.0027912008511867675, 0.004248287944373014],\n",
       " [0.0022248494687248793, 0.00346579404641819],\n",
       " [0.002037549857615936, 0.002879239546529362],\n",
       " [0.002889188611606072, 0.004550524260061403]]"
      ]
     },
     "execution_count": 107,
     "metadata": {},
     "output_type": "execute_result"
    }
   ],
   "source": [
    "p_agn"
   ]
  },
  {
   "cell_type": "code",
   "execution_count": 108,
   "id": "251fe565-e752-438b-ace3-5daaeb3acabf",
   "metadata": {},
   "outputs": [
    {
     "data": {
      "text/plain": [
       "46.53523432703459"
      ]
     },
     "execution_count": 108,
     "metadata": {},
     "output_type": "execute_result"
    }
   ],
   "source": [
    "weighted_agn[i]"
   ]
  },
  {
   "cell_type": "code",
   "execution_count": 109,
   "id": "e174ac3c-7954-446f-9e14-d07c6c51c8fd",
   "metadata": {},
   "outputs": [
    {
     "data": {
      "text/plain": [
       "703.0"
      ]
     },
     "execution_count": 109,
     "metadata": {},
     "output_type": "execute_result"
    }
   ],
   "source": [
    "(weighted_agn[i] + weighted_sfgs[i] + weighted_unks[i])"
   ]
  },
  {
   "cell_type": "code",
   "execution_count": 110,
   "id": "83606d74-815d-4246-b320-5657cf013dd6",
   "metadata": {},
   "outputs": [
    {
     "data": {
      "text/plain": [
       "array([[0.0027912 , 0.00222485, 0.00203755, 0.00288919],\n",
       "       [0.00424829, 0.00346579, 0.00287924, 0.00455052]])"
      ]
     },
     "execution_count": 110,
     "metadata": {},
     "output_type": "execute_result"
    }
   ],
   "source": [
    "np.asarray(p_agn).T"
   ]
  },
  {
   "cell_type": "code",
   "execution_count": 111,
   "id": "6f02f487-b41d-4d8e-baf9-65adafb8aa65",
   "metadata": {},
   "outputs": [
    {
     "data": {
      "image/png": "[encoded data removed]",
      "text/plain": [
       "<Figure size 600x600 with 1 Axes>"
      ]
     },
     "metadata": {},
     "output_type": "display_data"
    }
   ],
   "source": [
    "plt.figure(figsize = (6,6))\n",
    "plt.scatter(x, weighted_fractions, color = 'black', marker = 'x')\n",
    "plt.plot(x, weighted_fractions, color = 'black', linestyle='--')\n",
    "plt.errorbar(x, weighted_fractions, yerr= np.asarray(p_agn).T, linestyle = '', barsabove=True, capsize=2, color='black')\n",
    "plt.axhline(weighted_fractions[0], linestyle='--', alpha = 0.5, color='grey')\n",
    "plt.ylabel('Weighted AGN Fraction N$_{AGN}$ / N$_{stage}$')\n",
    "plt.savefig(f'{fig_folder}/new-agn-fraction-stage.pdf', bbox_inches = 'tight', dpi = 720)\n",
    "plt.show()"
   ]
  },
  {
   "cell_type": "code",
   "execution_count": null,
   "id": "5aa09061-a59e-477b-a790-d369f450e449",
   "metadata": {},
   "outputs": [
    {
     "data": {
      "text/plain": [
       "[0.05951468193948024,\n",
       " 0.05671845943708487,\n",
       " 0.060838029330245125,\n",
       " 0.07126384603335945]"
      ]
     },
     "execution_count": 376,
     "metadata": {},
     "output_type": "execute_result"
    }
   ],
   "source": []
  }
 ],
 "metadata": {
  "kernelspec": {
   "display_name": "Python 3 (ipykernel)",
   "language": "python",
   "name": "python3"
  },
  "language_info": {
   "codemirror_mode": {
    "name": "ipython",
    "version": 3
   },
   "file_extension": ".py",
   "mimetype": "text/x-python",
   "name": "python",
   "nbconvert_exporter": "python",
   "pygments_lexer": "ipython3",
   "version": "3.7.13"
  }
 },
 "nbformat": 4,
 "nbformat_minor": 5
}
