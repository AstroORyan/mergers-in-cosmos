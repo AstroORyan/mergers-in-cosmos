{
 "cells": [
  {
   "cell_type": "markdown",
   "id": "150635ff-d1e4-4b51-8bd8-87caf9b143b3",
   "metadata": {},
   "source": [
    "## Simulating a Sample"
   ]
  },
  {
   "cell_type": "code",
   "execution_count": 1,
   "id": "6d98ebe7-98ac-47f1-be19-2593adcbcfe4",
   "metadata": {},
   "outputs": [],
   "source": [
    "import numpy as np"
   ]
  },
  {
   "cell_type": "code",
   "execution_count": 6,
   "id": "ec151398-7fa4-4762-b93f-4e9903f8eb63",
   "metadata": {},
   "outputs": [],
   "source": [
    "samples = np.random.random(10_000) * 1.2"
   ]
  },
  {
   "cell_type": "code",
   "execution_count": 7,
   "id": "6ebd6524-aa7e-4dcb-b4bf-4fa698d4a984",
   "metadata": {},
   "outputs": [
    {
     "data": {
      "text/plain": [
       "array([0.81122163, 0.47378916, 1.13480734, ..., 0.63557315, 0.89188494,\n",
       "       0.05990954])"
      ]
     },
     "execution_count": 7,
     "metadata": {},
     "output_type": "execute_result"
    }
   ],
   "source": [
    "samples"
   ]
  },
  {
   "cell_type": "code",
   "execution_count": 14,
   "id": "34992a71-fdaf-43a2-8096-30264ec04ad8",
   "metadata": {},
   "outputs": [],
   "source": [
    "x = np.random.normal(samples, scale = 0.001) - np.random.normal(samples, scale = 0.06)"
   ]
  },
  {
   "cell_type": "code",
   "execution_count": 16,
   "id": "c78df4ed-88b4-4e0d-876d-52edcd004435",
   "metadata": {},
   "outputs": [
    {
     "data": {
      "text/plain": [
       "0.9035"
      ]
     },
     "execution_count": 16,
     "metadata": {},
     "output_type": "execute_result"
    }
   ],
   "source": [
    "np.sum(np.abs(x) <= 0.1) / len(x)"
   ]
  },
  {
   "cell_type": "code",
   "execution_count": null,
   "id": "0e202714-09c0-49ec-b311-3351e7c1ce70",
   "metadata": {},
   "outputs": [],
   "source": []
  }
 ],
 "metadata": {
  "kernelspec": {
   "display_name": "Python 3 (ipykernel)",
   "language": "python",
   "name": "python3"
  },
  "language_info": {
   "codemirror_mode": {
    "name": "ipython",
    "version": 3
   },
   "file_extension": ".py",
   "mimetype": "text/x-python",
   "name": "python",
   "nbconvert_exporter": "python",
   "pygments_lexer": "ipython3",
   "version": "3.7.13"
  }
 },
 "nbformat": 4,
 "nbformat_minor": 5
}
