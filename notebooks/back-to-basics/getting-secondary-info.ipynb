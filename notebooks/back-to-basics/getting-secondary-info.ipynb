{
 "cells": [
  {
   "cell_type": "code",
   "execution_count": 1,
   "id": "e1460153-4330-45a0-ac41-a29845702b09",
   "metadata": {},
   "outputs": [],
   "source": [
    "import pandas as pd\n",
    "import numpy as np\n",
    "import matplotlib.pyplot as plt\n",
    "import seaborn as sns\n",
    "\n",
    "import sys\n",
    "from tqdm import tqdm\n",
    "\n",
    "from astropy.io import fits"
   ]
  },
  {
   "cell_type": "code",
   "execution_count": 2,
   "id": "83230d66-70b8-4b6d-a028-1d5c96ecffe3",
   "metadata": {},
   "outputs": [],
   "source": [
    "data_folder = 'C:/Users/oryan/Documents/mergers-in-cosmos/back-to-basics-data'\n",
    "folder = 'C:/Users/oryan/Documents/mergers-in-cosmos'\n",
    "student_folder = 'C:/Users/oryan/Documents/mergers-in-cosmos/followup-data'\n",
    "results_folder = 'C:/Users/oryan/Documents/mergers-in-cosmos/back-to-basics-results'\n",
    "cosmos_folder = 'E:/cosmos-data'"
   ]
  },
  {
   "cell_type": "code",
   "execution_count": 3,
   "id": "64a666ab-3982-40d1-bcba-0aa62e02d067",
   "metadata": {},
   "outputs": [],
   "source": [
    "secondary_ids = pd.read_csv(f'{data_folder}/secondary-ids-redone-2.csv', index_col = 0).reset_index().rename(columns = {'index':'SourceID'})"
   ]
  },
  {
   "cell_type": "code",
   "execution_count": 4,
   "id": "748c5ee5-f774-4770-a3ad-08d093aec5d2",
   "metadata": {},
   "outputs": [
    {
     "data": {
      "text/html": [
       "<div>\n",
       "<style scoped>\n",
       "    .dataframe tbody tr th:only-of-type {\n",
       "        vertical-align: middle;\n",
       "    }\n",
       "\n",
       "    .dataframe tbody tr th {\n",
       "        vertical-align: top;\n",
       "    }\n",
       "\n",
       "    .dataframe thead th {\n",
       "        text-align: right;\n",
       "    }\n",
       "</style>\n",
       "<table border=\"1\" class=\"dataframe\">\n",
       "  <thead>\n",
       "    <tr style=\"text-align: right;\">\n",
       "      <th></th>\n",
       "      <th>SourceID</th>\n",
       "      <th>sec_id</th>\n",
       "    </tr>\n",
       "  </thead>\n",
       "  <tbody>\n",
       "    <tr>\n",
       "      <th>0</th>\n",
       "      <td>4000705532984</td>\n",
       "      <td>846770</td>\n",
       "    </tr>\n",
       "    <tr>\n",
       "      <th>1</th>\n",
       "      <td>4000705539529</td>\n",
       "      <td>1298521</td>\n",
       "    </tr>\n",
       "    <tr>\n",
       "      <th>2</th>\n",
       "      <td>4000707045178</td>\n",
       "      <td>271755</td>\n",
       "    </tr>\n",
       "    <tr>\n",
       "      <th>3</th>\n",
       "      <td>4000707047768</td>\n",
       "      <td>260900</td>\n",
       "    </tr>\n",
       "    <tr>\n",
       "      <th>4</th>\n",
       "      <td>4000707048117</td>\n",
       "      <td>252331</td>\n",
       "    </tr>\n",
       "    <tr>\n",
       "      <th>...</th>\n",
       "      <td>...</td>\n",
       "      <td>...</td>\n",
       "    </tr>\n",
       "    <tr>\n",
       "      <th>656</th>\n",
       "      <td>6000435703307</td>\n",
       "      <td>863206</td>\n",
       "    </tr>\n",
       "    <tr>\n",
       "      <th>657</th>\n",
       "      <td>6000443709301</td>\n",
       "      <td>987251</td>\n",
       "    </tr>\n",
       "    <tr>\n",
       "      <th>658</th>\n",
       "      <td>6000513404870</td>\n",
       "      <td>826072</td>\n",
       "    </tr>\n",
       "    <tr>\n",
       "      <th>659</th>\n",
       "      <td>6000516624203</td>\n",
       "      <td>821410</td>\n",
       "    </tr>\n",
       "    <tr>\n",
       "      <th>660</th>\n",
       "      <td>6000518662663</td>\n",
       "      <td>591065</td>\n",
       "    </tr>\n",
       "  </tbody>\n",
       "</table>\n",
       "<p>661 rows × 2 columns</p>\n",
       "</div>"
      ],
      "text/plain": [
       "          SourceID   sec_id\n",
       "0    4000705532984   846770\n",
       "1    4000705539529  1298521\n",
       "2    4000707045178   271755\n",
       "3    4000707047768   260900\n",
       "4    4000707048117   252331\n",
       "..             ...      ...\n",
       "656  6000435703307   863206\n",
       "657  6000443709301   987251\n",
       "658  6000513404870   826072\n",
       "659  6000516624203   821410\n",
       "660  6000518662663   591065\n",
       "\n",
       "[661 rows x 2 columns]"
      ]
     },
     "execution_count": 4,
     "metadata": {},
     "output_type": "execute_result"
    }
   ],
   "source": [
    "secondary_ids"
   ]
  },
  {
   "cell_type": "code",
   "execution_count": 5,
   "id": "d21bc4bf-9e27-47e5-af1e-c0b5c7e32a50",
   "metadata": {},
   "outputs": [],
   "source": [
    "primary_ids = pd.read_csv(f'{data_folder}/cosmos-primary-data.csv', index_col = 0)"
   ]
  },
  {
   "cell_type": "code",
   "execution_count": 6,
   "id": "6abb1839-95ef-48ff-8556-2d790bf74a1a",
   "metadata": {},
   "outputs": [],
   "source": [
    "prim_ids_df = primary_ids.reset_index().rename(columns = {'index': 'SourceID'})[['SourceID', 'ID']]"
   ]
  },
  {
   "cell_type": "code",
   "execution_count": 7,
   "id": "86b0bac4-dbed-47a9-a333-97a96ac4459f",
   "metadata": {},
   "outputs": [],
   "source": [
    "prim_ids_list = list(prim_ids_df.ID)"
   ]
  },
  {
   "cell_type": "code",
   "execution_count": 8,
   "id": "4bfd416b-fd12-48f2-ae14-208cc51548f9",
   "metadata": {},
   "outputs": [],
   "source": [
    "with fits.open(f'{cosmos_folder}/COSMOS2020_CLASSIC_R1_v2.1_p3.fits.gz') as hdul:\n",
    "    data = hdul[1].data"
   ]
  },
  {
   "cell_type": "code",
   "execution_count": 9,
   "id": "f01f58c5-83d5-4436-a9fd-b9d9969f9710",
   "metadata": {},
   "outputs": [],
   "source": [
    "def getting_secondary_info(sec_id, prim_ids):\n",
    "    if sec_id in prim_ids:\n",
    "        return np.nan\n",
    "    row = data[data['ID'] == sec_id]\n",
    "    \n",
    "    sub_dict = {}\n",
    "    for i in list(row.names):\n",
    "        sub_dict[i] = row[i][0]\n",
    "    \n",
    "    return sub_dict"
   ]
  },
  {
   "cell_type": "code",
   "execution_count": 10,
   "id": "76d0100f-257a-4c52-886c-eed547fab9ab",
   "metadata": {},
   "outputs": [],
   "source": [
    "secondary_dict = {}"
   ]
  },
  {
   "cell_type": "code",
   "execution_count": 11,
   "id": "c643e903-e6f1-488c-ab6e-d3fae4ca4ce9",
   "metadata": {},
   "outputs": [],
   "source": [
    "global data"
   ]
  },
  {
   "cell_type": "code",
   "execution_count": 12,
   "id": "879d899a-0233-4ffc-ad37-16c0fab52663",
   "metadata": {},
   "outputs": [
    {
     "name": "stderr",
     "output_type": "stream",
     "text": [
      "100%|██████████| 661/661 [07:51<00:00,  1.40it/s]\n"
     ]
    }
   ],
   "source": [
    "for i in tqdm(range(len(secondary_ids))):\n",
    "    sourceid = secondary_ids.SourceID.iloc[i]\n",
    "    sec_id = secondary_ids.sec_id.iloc[i]\n",
    "    if sourceid in list(secondary_dict.keys()):\n",
    "        continue\n",
    "    secondary_dict[sourceid] = getting_secondary_info(sec_id, prim_ids_list)"
   ]
  },
  {
   "cell_type": "code",
   "execution_count": 13,
   "id": "75fc3dfd-8b5b-483e-ba70-79f43021f870",
   "metadata": {},
   "outputs": [
    {
     "name": "stderr",
     "output_type": "stream",
     "text": [
      "100%|██████████| 661/661 [00:00<00:00, 661994.97it/s]\n"
     ]
    }
   ],
   "source": [
    "secondary_dict_red = {}\n",
    "for i in tqdm(list(secondary_dict.keys())):\n",
    "    if type(secondary_dict[i]) != dict:\n",
    "        continue\n",
    "    secondary_dict_red[i] = secondary_dict[i]"
   ]
  },
  {
   "cell_type": "code",
   "execution_count": 14,
   "id": "9edc79af-6800-498a-b3f4-b64bb27f8907",
   "metadata": {},
   "outputs": [],
   "source": [
    "df_secs = pd.DataFrame.from_dict(secondary_dict_red, orient = 'index')"
   ]
  },
  {
   "cell_type": "code",
   "execution_count": 15,
   "id": "b9be1d4b-6852-43bb-b8e7-6d71fe649259",
   "metadata": {},
   "outputs": [],
   "source": [
    "df_secs_re = df_secs.rename(columns = {'ID' : 'Sec_ID'})"
   ]
  },
  {
   "cell_type": "code",
   "execution_count": 16,
   "id": "e84976a3-c252-4f29-a738-b34870958b8b",
   "metadata": {},
   "outputs": [],
   "source": [
    "df_secs_re.to_csv(f'{data_folder}/cosmos-secondary-data-redone-2.csv')"
   ]
  },
  {
   "cell_type": "code",
   "execution_count": null,
   "id": "5104e18b-8b55-4f82-9d9a-dc53c0db9f31",
   "metadata": {},
   "outputs": [],
   "source": []
  }
 ],
 "metadata": {
  "kernelspec": {
   "display_name": "Python 3 (ipykernel)",
   "language": "python",
   "name": "python3"
  },
  "language_info": {
   "codemirror_mode": {
    "name": "ipython",
    "version": 3
   },
   "file_extension": ".py",
   "mimetype": "text/x-python",
   "name": "python",
   "nbconvert_exporter": "python",
   "pygments_lexer": "ipython3",
   "version": "3.7.13"
  }
 },
 "nbformat": 4,
 "nbformat_minor": 5
}
