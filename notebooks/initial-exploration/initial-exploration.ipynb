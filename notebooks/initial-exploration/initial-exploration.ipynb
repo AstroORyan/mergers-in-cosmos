{
 "cells": [
  {
   "cell_type": "code",
   "execution_count": 1,
   "id": "7ca1d142-1d0d-4b85-a065-f4354495eb3d",
   "metadata": {},
   "outputs": [],
   "source": [
    "import pandas as pd\n",
    "import matplotlib.pyplot as plt\n",
    "import numpy as np"
   ]
  },
  {
   "cell_type": "code",
   "execution_count": 2,
   "id": "d8d4883a-6070-4cab-893a-aea121cda8b0",
   "metadata": {},
   "outputs": [
    {
     "data": {
      "text/plain": [
       "'C:\\\\Users\\\\oryan\\\\AppData\\\\Local\\\\Continuum\\\\anaconda3\\\\lib\\\\site-packages\\\\joblib\\\\__init__.py'"
      ]
     },
     "execution_count": 2,
     "metadata": {},
     "output_type": "execute_result"
    }
   ],
   "source": [
    "import joblib\n",
    "joblib.__file__"
   ]
  },
  {
   "cell_type": "code",
   "execution_count": 3,
   "id": "00751364-15fc-40ab-82f2-0fcb29d7c246",
   "metadata": {},
   "outputs": [],
   "source": [
    "data_folder = 'C:/Users/oryan/Documents/esac-project/followup-data'"
   ]
  },
  {
   "cell_type": "code",
   "execution_count": 4,
   "id": "082d100b-286b-456f-8ae8-2c967fec2258",
   "metadata": {},
   "outputs": [],
   "source": [
    "data_save_folder = 'C:/Users/oryan/Documents/esac-project/data'"
   ]
  },
  {
   "cell_type": "code",
   "execution_count": 5,
   "id": "64ff7573-4d75-48e5-b05e-af80ed20b628",
   "metadata": {},
   "outputs": [],
   "source": [
    "full_table = pd.read_csv(f'{data_folder}/group_full_table.csv', index_col = 0)"
   ]
  },
  {
   "cell_type": "code",
   "execution_count": 12,
   "id": "92343dd5-96ba-4b9e-947e-bb2d2cd0086a",
   "metadata": {},
   "outputs": [],
   "source": [
    "def get_category(one,two,three,four):\n",
    "    if one and not two and not three and not four:\n",
    "        return 'stage1'\n",
    "    if not one and two and not three and not four:\n",
    "        return 'stage2'\n",
    "    if not one and not two and three and not four:\n",
    "        return 'stage3'\n",
    "    if not one and not two and not three and four:\n",
    "        return 'stage4'\n",
    "    if not one and not two and not three and not four:\n",
    "        return 'incorrect'\n",
    "    if np.sum(np.asarray([one,two,three,four])) > 1:\n",
    "        return 'invalid'\n",
    "    \n",
    "    return 'Failed'"
   ]
  },
  {
   "cell_type": "code",
   "execution_count": 13,
   "id": "db4a336a-e067-4b2e-8420-3b4ff589a159",
   "metadata": {},
   "outputs": [],
   "source": [
    "df_cat = (\n",
    "    full_table\n",
    "    .assign(category = full_table.apply(lambda row: get_category(row.isStageOne, row.isStageTwo, row.isStageThree, row.isStageFour), axis = 1))\n",
    ")"
   ]
  },
  {
   "cell_type": "code",
   "execution_count": 15,
   "id": "7d49704a-44ac-4829-af25-d9e42e70ea8c",
   "metadata": {},
   "outputs": [
    {
     "data": {
      "text/plain": [
       "stage4       7191\n",
       "stage2       5578\n",
       "stage1       4557\n",
       "stage3       4192\n",
       "incorrect     399\n",
       "invalid         9\n",
       "Name: category, dtype: int64"
      ]
     },
     "execution_count": 15,
     "metadata": {},
     "output_type": "execute_result"
    }
   ],
   "source": [
    "df_cat.category.value_counts()"
   ]
  },
  {
   "cell_type": "code",
   "execution_count": 17,
   "id": "cb721260-e8b5-41aa-b699-bd3adf513e85",
   "metadata": {},
   "outputs": [
    {
     "data": {
      "text/html": [
       "<div>\n",
       "<style scoped>\n",
       "    .dataframe tbody tr th:only-of-type {\n",
       "        vertical-align: middle;\n",
       "    }\n",
       "\n",
       "    .dataframe tbody tr th {\n",
       "        vertical-align: top;\n",
       "    }\n",
       "\n",
       "    .dataframe thead th {\n",
       "        text-align: right;\n",
       "    }\n",
       "</style>\n",
       "<table border=\"1\" class=\"dataframe\">\n",
       "  <thead>\n",
       "    <tr style=\"text-align: right;\">\n",
       "      <th></th>\n",
       "      <th>SourceID</th>\n",
       "      <th>RA</th>\n",
       "      <th>Dec</th>\n",
       "      <th>isStageOne</th>\n",
       "      <th>isStageTwo</th>\n",
       "      <th>isStageThree</th>\n",
       "      <th>isStageFour</th>\n",
       "      <th>category</th>\n",
       "    </tr>\n",
       "    <tr>\n",
       "      <th>col1</th>\n",
       "      <th></th>\n",
       "      <th></th>\n",
       "      <th></th>\n",
       "      <th></th>\n",
       "      <th></th>\n",
       "      <th></th>\n",
       "      <th></th>\n",
       "      <th></th>\n",
       "    </tr>\n",
       "  </thead>\n",
       "  <tbody>\n",
       "    <tr>\n",
       "      <th>21</th>\n",
       "      <td>4000705532455</td>\n",
       "      <td>150.679664</td>\n",
       "      <td>2.196615</td>\n",
       "      <td>False</td>\n",
       "      <td>True</td>\n",
       "      <td>True</td>\n",
       "      <td>False</td>\n",
       "      <td>invalid</td>\n",
       "    </tr>\n",
       "    <tr>\n",
       "      <th>46</th>\n",
       "      <td>4000705548020</td>\n",
       "      <td>215.001520</td>\n",
       "      <td>53.126872</td>\n",
       "      <td>False</td>\n",
       "      <td>False</td>\n",
       "      <td>True</td>\n",
       "      <td>True</td>\n",
       "      <td>invalid</td>\n",
       "    </tr>\n",
       "    <tr>\n",
       "      <th>161</th>\n",
       "      <td>4000707074239</td>\n",
       "      <td>188.498967</td>\n",
       "      <td>7.769590</td>\n",
       "      <td>False</td>\n",
       "      <td>False</td>\n",
       "      <td>True</td>\n",
       "      <td>True</td>\n",
       "      <td>invalid</td>\n",
       "    </tr>\n",
       "    <tr>\n",
       "      <th>1070</th>\n",
       "      <td>4000738419445</td>\n",
       "      <td>206.890004</td>\n",
       "      <td>-11.732770</td>\n",
       "      <td>True</td>\n",
       "      <td>False</td>\n",
       "      <td>True</td>\n",
       "      <td>False</td>\n",
       "      <td>invalid</td>\n",
       "    </tr>\n",
       "    <tr>\n",
       "      <th>8629</th>\n",
       "      <td>4001010223660</td>\n",
       "      <td>173.718233</td>\n",
       "      <td>25.903857</td>\n",
       "      <td>True</td>\n",
       "      <td>True</td>\n",
       "      <td>False</td>\n",
       "      <td>False</td>\n",
       "      <td>invalid</td>\n",
       "    </tr>\n",
       "    <tr>\n",
       "      <th>13253</th>\n",
       "      <td>4001163738912</td>\n",
       "      <td>53.117864</td>\n",
       "      <td>-27.644802</td>\n",
       "      <td>True</td>\n",
       "      <td>False</td>\n",
       "      <td>False</td>\n",
       "      <td>True</td>\n",
       "      <td>invalid</td>\n",
       "    </tr>\n",
       "    <tr>\n",
       "      <th>15988</th>\n",
       "      <td>4001254412902</td>\n",
       "      <td>140.388585</td>\n",
       "      <td>-6.378822</td>\n",
       "      <td>True</td>\n",
       "      <td>False</td>\n",
       "      <td>False</td>\n",
       "      <td>True</td>\n",
       "      <td>invalid</td>\n",
       "    </tr>\n",
       "    <tr>\n",
       "      <th>17000</th>\n",
       "      <td>4001272789852</td>\n",
       "      <td>14.268464</td>\n",
       "      <td>-27.672655</td>\n",
       "      <td>False</td>\n",
       "      <td>True</td>\n",
       "      <td>False</td>\n",
       "      <td>True</td>\n",
       "      <td>invalid</td>\n",
       "    </tr>\n",
       "    <tr>\n",
       "      <th>17990</th>\n",
       "      <td>4001322559361</td>\n",
       "      <td>34.365908</td>\n",
       "      <td>-5.224588</td>\n",
       "      <td>True</td>\n",
       "      <td>False</td>\n",
       "      <td>True</td>\n",
       "      <td>False</td>\n",
       "      <td>invalid</td>\n",
       "    </tr>\n",
       "  </tbody>\n",
       "</table>\n",
       "</div>"
      ],
      "text/plain": [
       "            SourceID          RA        Dec  isStageOne  isStageTwo  \\\n",
       "col1                                                                  \n",
       "21     4000705532455  150.679664   2.196615       False        True   \n",
       "46     4000705548020  215.001520  53.126872       False       False   \n",
       "161    4000707074239  188.498967   7.769590       False       False   \n",
       "1070   4000738419445  206.890004 -11.732770        True       False   \n",
       "8629   4001010223660  173.718233  25.903857        True        True   \n",
       "13253  4001163738912   53.117864 -27.644802        True       False   \n",
       "15988  4001254412902  140.388585  -6.378822        True       False   \n",
       "17000  4001272789852   14.268464 -27.672655       False        True   \n",
       "17990  4001322559361   34.365908  -5.224588        True       False   \n",
       "\n",
       "       isStageThree  isStageFour category  \n",
       "col1                                       \n",
       "21             True        False  invalid  \n",
       "46             True         True  invalid  \n",
       "161            True         True  invalid  \n",
       "1070           True        False  invalid  \n",
       "8629          False        False  invalid  \n",
       "13253         False         True  invalid  \n",
       "15988         False         True  invalid  \n",
       "17000         False         True  invalid  \n",
       "17990          True        False  invalid  "
      ]
     },
     "execution_count": 17,
     "metadata": {},
     "output_type": "execute_result"
    }
   ],
   "source": [
    "df_cat.query('category == \"invalid\"')"
   ]
  },
  {
   "cell_type": "code",
   "execution_count": 24,
   "id": "e502d0f3-7fdd-405a-8dde-d3c2749858e7",
   "metadata": {},
   "outputs": [],
   "source": [
    "df_cat.query('category == \"invalid\"').to_csv(f'{data_save_folder}/invalid-answers.csv')"
   ]
  },
  {
   "cell_type": "code",
   "execution_count": 25,
   "id": "154414a7-052e-462c-a04e-a41e90ba441a",
   "metadata": {},
   "outputs": [],
   "source": [
    "df_cat.query('category == \"incorrect\"').to_csv(f'{data_save_folder}/zoobot_incorrect_classifications.csv')"
   ]
  },
  {
   "cell_type": "code",
   "execution_count": 26,
   "id": "f6fc40ed-29a5-408d-b5e7-b7bcf849732d",
   "metadata": {},
   "outputs": [],
   "source": [
    "df_red = df_cat[['SourceID','RA','Dec','category']]"
   ]
  },
  {
   "cell_type": "code",
   "execution_count": 27,
   "id": "ba233abb-b9d7-4264-8e4a-57ddb16c3cea",
   "metadata": {},
   "outputs": [],
   "source": [
    "df_tmp = df_red.query('category != \"invalid\"')\n",
    "df_export = df_tmp.query('category != \"incorrect\"')"
   ]
  },
  {
   "cell_type": "code",
   "execution_count": 28,
   "id": "34e28f4f-ad26-4234-ab4b-864a05351fd9",
   "metadata": {},
   "outputs": [],
   "source": [
    "df_export.to_csv(f'{data_save_folder}/categorised_sources.csv')"
   ]
  },
  {
   "cell_type": "code",
   "execution_count": null,
   "id": "76112f5f-87be-48c5-942f-80284b16eea3",
   "metadata": {},
   "outputs": [],
   "source": []
  }
 ],
 "metadata": {
  "kernelspec": {
   "display_name": "Python 3 (ipykernel)",
   "language": "python",
   "name": "python3"
  },
  "language_info": {
   "codemirror_mode": {
    "name": "ipython",
    "version": 3
   },
   "file_extension": ".py",
   "mimetype": "text/x-python",
   "name": "python",
   "nbconvert_exporter": "python",
   "pygments_lexer": "ipython3",
   "version": "3.7.13"
  }
 },
 "nbformat": 4,
 "nbformat_minor": 5
}
