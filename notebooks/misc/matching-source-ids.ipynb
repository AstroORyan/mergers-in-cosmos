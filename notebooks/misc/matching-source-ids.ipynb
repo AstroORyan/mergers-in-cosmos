{
 "cells": [
  {
   "cell_type": "markdown",
   "id": "a5de1ae8-b9b5-41b3-b536-ae79dc7dd915",
   "metadata": {},
   "source": [
    "# Matching my Cat to COSMOS2020\n",
    "Realised that downloading parts of the data previously limits what I can do with it. Therefore, redownloading the data and saving everything. Using the previously matched catalogue though, for speed."
   ]
  },
  {
   "cell_type": "code",
   "execution_count": 6,
   "id": "f9f03b65-1edd-43e1-b2b6-27455a87ecb4",
   "metadata": {},
   "outputs": [],
   "source": [
    "import pandas as pd\n",
    "import sys\n",
    "import time\n",
    "import numpy as np\n",
    "from tqdm import tqdm\n",
    "tqdm.pandas()\n",
    "\n",
    "from astropy.io import fits\n",
    "\n",
    "from IPython.display import clear_output"
   ]
  },
  {
   "cell_type": "code",
   "execution_count": 2,
   "id": "5d7321f5-7a78-46d7-b2d6-63d10a6393a8",
   "metadata": {},
   "outputs": [],
   "source": [
    "with fits.open('E:/temporary-cosmos-big-data/COSMOS2020_CLASSIC_R1_v2.1_p3.fits.gz') as hdul:\n",
    "    data = hdul[1].data\n",
    "    header = hdul[1].header"
   ]
  },
  {
   "cell_type": "code",
   "execution_count": 3,
   "id": "d78c858c-b108-45e9-9b26-c1e8face9d18",
   "metadata": {},
   "outputs": [
    {
     "name": "stderr",
     "output_type": "stream",
     "text": [
      "C:\\Users\\oryan\\AppData\\Local\\Continuum\\anaconda3\\lib\\site-packages\\IPython\\core\\interactiveshell.py:3457: DtypeWarning: Columns (460) have mixed types.Specify dtype option on import or set low_memory=False.\n",
      "  exec(code_obj, self.user_global_ns, self.user_ns)\n"
     ]
    }
   ],
   "source": [
    "cat2015 = pd.read_csv('C:/Users/oryan/Documents/mergers-in-cosmos/data/cosmos-matched-all-real-df.csv', index_col = 0)\n",
    "cat2015_red = cat2015[['SourceID', 'id_1', 'id_2']]"
   ]
  },
  {
   "cell_type": "code",
   "execution_count": 4,
   "id": "cf276b44-a81c-4fad-bc2a-1ec0bc18a6ef",
   "metadata": {},
   "outputs": [
    {
     "data": {
      "text/html": [
       "<div>\n",
       "<style scoped>\n",
       "    .dataframe tbody tr th:only-of-type {\n",
       "        vertical-align: middle;\n",
       "    }\n",
       "\n",
       "    .dataframe tbody tr th {\n",
       "        vertical-align: top;\n",
       "    }\n",
       "\n",
       "    .dataframe thead th {\n",
       "        text-align: right;\n",
       "    }\n",
       "</style>\n",
       "<table border=\"1\" class=\"dataframe\">\n",
       "  <thead>\n",
       "    <tr style=\"text-align: right;\">\n",
       "      <th></th>\n",
       "      <th>SourceID</th>\n",
       "      <th>id_1</th>\n",
       "      <th>id_2</th>\n",
       "    </tr>\n",
       "  </thead>\n",
       "  <tbody>\n",
       "    <tr>\n",
       "      <th>0</th>\n",
       "      <td>4000705532455</td>\n",
       "      <td>590539</td>\n",
       "      <td>588102</td>\n",
       "    </tr>\n",
       "    <tr>\n",
       "      <th>1</th>\n",
       "      <td>4000705533312</td>\n",
       "      <td>621053</td>\n",
       "      <td>624589</td>\n",
       "    </tr>\n",
       "    <tr>\n",
       "      <th>2</th>\n",
       "      <td>4000705533383</td>\n",
       "      <td>617834</td>\n",
       "      <td>617637</td>\n",
       "    </tr>\n",
       "    <tr>\n",
       "      <th>3</th>\n",
       "      <td>4000705539529</td>\n",
       "      <td>882817</td>\n",
       "      <td>881527</td>\n",
       "    </tr>\n",
       "    <tr>\n",
       "      <th>4</th>\n",
       "      <td>4000705539941</td>\n",
       "      <td>893328</td>\n",
       "      <td>892731</td>\n",
       "    </tr>\n",
       "    <tr>\n",
       "      <th>...</th>\n",
       "      <td>...</td>\n",
       "      <td>...</td>\n",
       "      <td>...</td>\n",
       "    </tr>\n",
       "    <tr>\n",
       "      <th>2458</th>\n",
       "      <td>6000536184828</td>\n",
       "      <td>862874</td>\n",
       "      <td>861480</td>\n",
       "    </tr>\n",
       "    <tr>\n",
       "      <th>2459</th>\n",
       "      <td>6000536185304</td>\n",
       "      <td>887383</td>\n",
       "      <td>889072</td>\n",
       "    </tr>\n",
       "    <tr>\n",
       "      <th>2460</th>\n",
       "      <td>6000536185496</td>\n",
       "      <td>898134</td>\n",
       "      <td>898261</td>\n",
       "    </tr>\n",
       "    <tr>\n",
       "      <th>2461</th>\n",
       "      <td>6000536185585</td>\n",
       "      <td>904074</td>\n",
       "      <td>901845</td>\n",
       "    </tr>\n",
       "    <tr>\n",
       "      <th>2462</th>\n",
       "      <td>6000536185717</td>\n",
       "      <td>915513</td>\n",
       "      <td>915771</td>\n",
       "    </tr>\n",
       "  </tbody>\n",
       "</table>\n",
       "<p>2463 rows × 3 columns</p>\n",
       "</div>"
      ],
      "text/plain": [
       "           SourceID    id_1    id_2\n",
       "0     4000705532455  590539  588102\n",
       "1     4000705533312  621053  624589\n",
       "2     4000705533383  617834  617637\n",
       "3     4000705539529  882817  881527\n",
       "4     4000705539941  893328  892731\n",
       "...             ...     ...     ...\n",
       "2458  6000536184828  862874  861480\n",
       "2459  6000536185304  887383  889072\n",
       "2460  6000536185496  898134  898261\n",
       "2461  6000536185585  904074  901845\n",
       "2462  6000536185717  915513  915771\n",
       "\n",
       "[2463 rows x 3 columns]"
      ]
     },
     "execution_count": 4,
     "metadata": {},
     "output_type": "execute_result"
    }
   ],
   "source": [
    "cat2015_red"
   ]
  },
  {
   "cell_type": "code",
   "execution_count": 5,
   "id": "cb69a718-8c55-4c90-a9f1-006ea02b74fd",
   "metadata": {},
   "outputs": [],
   "source": [
    "ids_2020 = data['ID']\n",
    "ids_2015 = data['ID_COSMOS2015']\n",
    "\n",
    "matched_ids = pd.DataFrame(zip(ids_2020, ids_2015)).rename(columns = {0: 'ids_2020',1 : 'ids_2015'}).query('ids_2015 > -99')"
   ]
  },
  {
   "cell_type": "code",
   "execution_count": 7,
   "id": "077280b9-ba0f-4d34-a625-3a6c76537be2",
   "metadata": {},
   "outputs": [
    {
     "data": {
      "text/html": [
       "<div>\n",
       "<style scoped>\n",
       "    .dataframe tbody tr th:only-of-type {\n",
       "        vertical-align: middle;\n",
       "    }\n",
       "\n",
       "    .dataframe tbody tr th {\n",
       "        vertical-align: top;\n",
       "    }\n",
       "\n",
       "    .dataframe thead th {\n",
       "        text-align: right;\n",
       "    }\n",
       "</style>\n",
       "<table border=\"1\" class=\"dataframe\">\n",
       "  <thead>\n",
       "    <tr style=\"text-align: right;\">\n",
       "      <th></th>\n",
       "      <th>ids_2020</th>\n",
       "      <th>ids_2015</th>\n",
       "    </tr>\n",
       "  </thead>\n",
       "  <tbody>\n",
       "    <tr>\n",
       "      <th>38800</th>\n",
       "      <td>38801</td>\n",
       "      <td>116</td>\n",
       "    </tr>\n",
       "    <tr>\n",
       "      <th>38833</th>\n",
       "      <td>38834</td>\n",
       "      <td>97</td>\n",
       "    </tr>\n",
       "    <tr>\n",
       "      <th>38919</th>\n",
       "      <td>38920</td>\n",
       "      <td>126</td>\n",
       "    </tr>\n",
       "    <tr>\n",
       "      <th>38949</th>\n",
       "      <td>38950</td>\n",
       "      <td>185</td>\n",
       "    </tr>\n",
       "    <tr>\n",
       "      <th>38950</th>\n",
       "      <td>38951</td>\n",
       "      <td>8847</td>\n",
       "    </tr>\n",
       "    <tr>\n",
       "      <th>...</th>\n",
       "      <td>...</td>\n",
       "      <td>...</td>\n",
       "    </tr>\n",
       "    <tr>\n",
       "      <th>1634197</th>\n",
       "      <td>1634198</td>\n",
       "      <td>1173953</td>\n",
       "    </tr>\n",
       "    <tr>\n",
       "      <th>1634215</th>\n",
       "      <td>1634216</td>\n",
       "      <td>1162269</td>\n",
       "    </tr>\n",
       "    <tr>\n",
       "      <th>1634320</th>\n",
       "      <td>1634321</td>\n",
       "      <td>1162313</td>\n",
       "    </tr>\n",
       "    <tr>\n",
       "      <th>1649890</th>\n",
       "      <td>1649891</td>\n",
       "      <td>1182095</td>\n",
       "    </tr>\n",
       "    <tr>\n",
       "      <th>1654397</th>\n",
       "      <td>1654398</td>\n",
       "      <td>1182096</td>\n",
       "    </tr>\n",
       "  </tbody>\n",
       "</table>\n",
       "<p>865086 rows × 2 columns</p>\n",
       "</div>"
      ],
      "text/plain": [
       "         ids_2020  ids_2015\n",
       "38800       38801       116\n",
       "38833       38834        97\n",
       "38919       38920       126\n",
       "38949       38950       185\n",
       "38950       38951      8847\n",
       "...           ...       ...\n",
       "1634197   1634198   1173953\n",
       "1634215   1634216   1162269\n",
       "1634320   1634321   1162313\n",
       "1649890   1649891   1182095\n",
       "1654397   1654398   1182096\n",
       "\n",
       "[865086 rows x 2 columns]"
      ]
     },
     "execution_count": 7,
     "metadata": {},
     "output_type": "execute_result"
    }
   ],
   "source": [
    "matched_ids"
   ]
  },
  {
   "cell_type": "code",
   "execution_count": 14,
   "id": "81e369c8-b5c8-4209-a055-592f5be7ec41",
   "metadata": {},
   "outputs": [],
   "source": [
    "prim_ids = cat2015_red[['SourceID', 'id_1']].rename(columns = {'id_1' : 'ids_2015'})\n",
    "sec_ids = cat2015_red[['SourceID', 'id_2']].rename(columns = {'id_2' : 'ids_2015'})"
   ]
  },
  {
   "cell_type": "code",
   "execution_count": 37,
   "id": "c4158a9d-50a8-415a-80a4-0e7bd941c459",
   "metadata": {},
   "outputs": [],
   "source": [
    "prim_ids_matched = prim_ids.merge(matched_ids, on = 'ids_2015', how = 'left')[['SourceID', 'ids_2020']]\n",
    "sec_ids_matched = sec_ids.merge(matched_ids, on = 'ids_2015', how = 'left')[['SourceID', 'ids_2020']]"
   ]
  },
  {
   "cell_type": "code",
   "execution_count": 22,
   "id": "df445020-e969-4563-ad34-8727a2ff7d45",
   "metadata": {},
   "outputs": [
    {
     "data": {
      "text/html": [
       "<div>\n",
       "<style scoped>\n",
       "    .dataframe tbody tr th:only-of-type {\n",
       "        vertical-align: middle;\n",
       "    }\n",
       "\n",
       "    .dataframe tbody tr th {\n",
       "        vertical-align: top;\n",
       "    }\n",
       "\n",
       "    .dataframe thead th {\n",
       "        text-align: right;\n",
       "    }\n",
       "</style>\n",
       "<table border=\"1\" class=\"dataframe\">\n",
       "  <thead>\n",
       "    <tr style=\"text-align: right;\">\n",
       "      <th></th>\n",
       "      <th>SourceID</th>\n",
       "      <th>ids_2020</th>\n",
       "    </tr>\n",
       "  </thead>\n",
       "  <tbody>\n",
       "    <tr>\n",
       "      <th>0</th>\n",
       "      <td>4000705532455</td>\n",
       "      <td>812427.0</td>\n",
       "    </tr>\n",
       "    <tr>\n",
       "      <th>1</th>\n",
       "      <td>4000705533312</td>\n",
       "      <td>872551.0</td>\n",
       "    </tr>\n",
       "    <tr>\n",
       "      <th>2</th>\n",
       "      <td>4000705533383</td>\n",
       "      <td>861742.0</td>\n",
       "    </tr>\n",
       "    <tr>\n",
       "      <th>3</th>\n",
       "      <td>4000705539529</td>\n",
       "      <td>1281998.0</td>\n",
       "    </tr>\n",
       "    <tr>\n",
       "      <th>4</th>\n",
       "      <td>4000705539941</td>\n",
       "      <td>1300267.0</td>\n",
       "    </tr>\n",
       "    <tr>\n",
       "      <th>...</th>\n",
       "      <td>...</td>\n",
       "      <td>...</td>\n",
       "    </tr>\n",
       "    <tr>\n",
       "      <th>2458</th>\n",
       "      <td>6000536184828</td>\n",
       "      <td>1251929.0</td>\n",
       "    </tr>\n",
       "    <tr>\n",
       "      <th>2459</th>\n",
       "      <td>6000536185304</td>\n",
       "      <td>1294806.0</td>\n",
       "    </tr>\n",
       "    <tr>\n",
       "      <th>2460</th>\n",
       "      <td>6000536185496</td>\n",
       "      <td>1308556.0</td>\n",
       "    </tr>\n",
       "    <tr>\n",
       "      <th>2461</th>\n",
       "      <td>6000536185585</td>\n",
       "      <td>1315791.0</td>\n",
       "    </tr>\n",
       "    <tr>\n",
       "      <th>2462</th>\n",
       "      <td>6000536185717</td>\n",
       "      <td>1336374.0</td>\n",
       "    </tr>\n",
       "  </tbody>\n",
       "</table>\n",
       "<p>2463 rows × 2 columns</p>\n",
       "</div>"
      ],
      "text/plain": [
       "           SourceID   ids_2020\n",
       "0     4000705532455   812427.0\n",
       "1     4000705533312   872551.0\n",
       "2     4000705533383   861742.0\n",
       "3     4000705539529  1281998.0\n",
       "4     4000705539941  1300267.0\n",
       "...             ...        ...\n",
       "2458  6000536184828  1251929.0\n",
       "2459  6000536185304  1294806.0\n",
       "2460  6000536185496  1308556.0\n",
       "2461  6000536185585  1315791.0\n",
       "2462  6000536185717  1336374.0\n",
       "\n",
       "[2463 rows x 2 columns]"
      ]
     },
     "execution_count": 22,
     "metadata": {},
     "output_type": "execute_result"
    }
   ],
   "source": [
    "sec_ids_matched"
   ]
  },
  {
   "cell_type": "code",
   "execution_count": 27,
   "id": "19bd907a-7fa8-4d5c-ad81-3998ba214d22",
   "metadata": {},
   "outputs": [],
   "source": [
    "prim_ids_dict = prim_ids_matched.set_index('SourceID').to_dict()['ids_2020']\n",
    "sec_ids_dict = sec_ids_matched.set_index('SourceID').to_dict()['ids_2020']"
   ]
  },
  {
   "cell_type": "code",
   "execution_count": 33,
   "id": "5fdd09f5-39a6-4c7b-a3af-c18b065b9215",
   "metadata": {},
   "outputs": [
    {
     "data": {
      "text/plain": [
       "'-99'"
      ]
     },
     "execution_count": 33,
     "metadata": {},
     "output_type": "execute_result"
    }
   ],
   "source": [
    "data[data['ID'] == prim_ids_dict[4000705532455]]['ID_CHANDRA'][0]"
   ]
  },
  {
   "cell_type": "markdown",
   "id": "e973ca36-2d04-402e-9db7-aa0c80397060",
   "metadata": {},
   "source": [
    "### Matched Chandra ID"
   ]
  },
  {
   "cell_type": "code",
   "execution_count": 35,
   "id": "824da421-18de-4a56-be57-d4b4142ba813",
   "metadata": {},
   "outputs": [
    {
     "name": "stderr",
     "output_type": "stream",
     "text": [
      "  2%|▏         | 49/2463 [00:29<24:06,  1.67it/s]\n"
     ]
    },
    {
     "ename": "IndexError",
     "evalue": "index 0 is out of bounds for axis 0 with size 0",
     "output_type": "error",
     "traceback": [
      "\u001b[1;31m---------------------------------------------------------------------------\u001b[0m",
      "\u001b[1;31mIndexError\u001b[0m                                Traceback (most recent call last)",
      "\u001b[1;32m~\\AppData\\Local\\Temp\\ipykernel_20032\\2140669880.py\u001b[0m in \u001b[0;36m<module>\u001b[1;34m\u001b[0m\n\u001b[0;32m      1\u001b[0m \u001b[0mchandra_dict\u001b[0m \u001b[1;33m=\u001b[0m \u001b[1;33m{\u001b[0m\u001b[1;33m}\u001b[0m\u001b[1;33m\u001b[0m\u001b[1;33m\u001b[0m\u001b[0m\n\u001b[0;32m      2\u001b[0m \u001b[1;32mfor\u001b[0m \u001b[0mi\u001b[0m \u001b[1;32min\u001b[0m \u001b[0mtqdm\u001b[0m\u001b[1;33m(\u001b[0m\u001b[0mlist\u001b[0m\u001b[1;33m(\u001b[0m\u001b[0mprim_ids_dict\u001b[0m\u001b[1;33m.\u001b[0m\u001b[0mkeys\u001b[0m\u001b[1;33m(\u001b[0m\u001b[1;33m)\u001b[0m\u001b[1;33m)\u001b[0m\u001b[1;33m)\u001b[0m\u001b[1;33m:\u001b[0m\u001b[1;33m\u001b[0m\u001b[1;33m\u001b[0m\u001b[0m\n\u001b[1;32m----> 3\u001b[1;33m     \u001b[0mchandra_dict\u001b[0m\u001b[1;33m[\u001b[0m\u001b[0mi\u001b[0m\u001b[1;33m]\u001b[0m \u001b[1;33m=\u001b[0m \u001b[0mdata\u001b[0m\u001b[1;33m[\u001b[0m\u001b[0mdata\u001b[0m\u001b[1;33m[\u001b[0m\u001b[1;34m'ID'\u001b[0m\u001b[1;33m]\u001b[0m \u001b[1;33m==\u001b[0m \u001b[0mprim_ids_dict\u001b[0m\u001b[1;33m[\u001b[0m\u001b[0mi\u001b[0m\u001b[1;33m]\u001b[0m\u001b[1;33m]\u001b[0m\u001b[1;33m[\u001b[0m\u001b[1;34m'ID_CHANDRA'\u001b[0m\u001b[1;33m]\u001b[0m\u001b[1;33m[\u001b[0m\u001b[1;36m0\u001b[0m\u001b[1;33m]\u001b[0m\u001b[1;33m\u001b[0m\u001b[1;33m\u001b[0m\u001b[0m\n\u001b[0m",
      "\u001b[1;32m~\\AppData\\Local\\Continuum\\anaconda3\\lib\\site-packages\\numpy\\core\\defchararray.py\u001b[0m in \u001b[0;36m__getitem__\u001b[1;34m(self, obj)\u001b[0m\n\u001b[0;32m   1985\u001b[0m \u001b[1;33m\u001b[0m\u001b[0m\n\u001b[0;32m   1986\u001b[0m     \u001b[1;32mdef\u001b[0m \u001b[0m__getitem__\u001b[0m\u001b[1;33m(\u001b[0m\u001b[0mself\u001b[0m\u001b[1;33m,\u001b[0m \u001b[0mobj\u001b[0m\u001b[1;33m)\u001b[0m\u001b[1;33m:\u001b[0m\u001b[1;33m\u001b[0m\u001b[1;33m\u001b[0m\u001b[0m\n\u001b[1;32m-> 1987\u001b[1;33m         \u001b[0mval\u001b[0m \u001b[1;33m=\u001b[0m \u001b[0mndarray\u001b[0m\u001b[1;33m.\u001b[0m\u001b[0m__getitem__\u001b[0m\u001b[1;33m(\u001b[0m\u001b[0mself\u001b[0m\u001b[1;33m,\u001b[0m \u001b[0mobj\u001b[0m\u001b[1;33m)\u001b[0m\u001b[1;33m\u001b[0m\u001b[1;33m\u001b[0m\u001b[0m\n\u001b[0m\u001b[0;32m   1988\u001b[0m \u001b[1;33m\u001b[0m\u001b[0m\n\u001b[0;32m   1989\u001b[0m         \u001b[1;32mif\u001b[0m \u001b[0misinstance\u001b[0m\u001b[1;33m(\u001b[0m\u001b[0mval\u001b[0m\u001b[1;33m,\u001b[0m \u001b[0mcharacter\u001b[0m\u001b[1;33m)\u001b[0m\u001b[1;33m:\u001b[0m\u001b[1;33m\u001b[0m\u001b[1;33m\u001b[0m\u001b[0m\n",
      "\u001b[1;31mIndexError\u001b[0m: index 0 is out of bounds for axis 0 with size 0"
     ]
    }
   ],
   "source": [
    "chandra_dict = {}\n",
    "for i in tqdm(list(prim_ids_dict.keys())):\n",
    "    tmp = data[data['ID'] == prim_ids_dict[i]]['ID_CHANDRA']\n",
    "    if len(tmp) > 0.5:\n",
    "        chandra_dict[i] = tmp[0]"
   ]
  },
  {
   "cell_type": "code",
   "execution_count": null,
   "id": "a50c7000-f0bb-468b-ad5a-c419a4ced9d7",
   "metadata": {},
   "outputs": [],
   "source": []
  }
 ],
 "metadata": {
  "kernelspec": {
   "display_name": "Python 3 (ipykernel)",
   "language": "python",
   "name": "python3"
  },
  "language_info": {
   "codemirror_mode": {
    "name": "ipython",
    "version": 3
   },
   "file_extension": ".py",
   "mimetype": "text/x-python",
   "name": "python",
   "nbconvert_exporter": "python",
   "pygments_lexer": "ipython3",
   "version": "3.7.13"
  }
 },
 "nbformat": 4,
 "nbformat_minor": 5
}
