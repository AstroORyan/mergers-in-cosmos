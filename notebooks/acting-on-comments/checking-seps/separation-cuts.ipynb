{
 "cells": [
  {
   "cell_type": "code",
   "execution_count": 1,
   "id": "3c1fe4f8-b7f6-4495-b178-e1bf16da2533",
   "metadata": {},
   "outputs": [],
   "source": [
    "from astropy.cosmology import FlatLambdaCDM\n",
    "import astropy.units as u"
   ]
  },
  {
   "cell_type": "code",
   "execution_count": 2,
   "id": "ccfa3b94-8dc5-42a8-9e1d-a9f21654592f",
   "metadata": {},
   "outputs": [],
   "source": [
    "cosmo = FlatLambdaCDM(H0=70.0 * u.km / (u.Mpc * u.s), Om0=0.3, Tcmb0=2.725 * u.K)"
   ]
  },
  {
   "cell_type": "code",
   "execution_count": 3,
   "id": "bed99411-3043-44a4-8178-82878c1e543c",
   "metadata": {},
   "outputs": [],
   "source": [
    "lower_limit = 1.5 * u.arcsec\n",
    "upper_limit = 5 * u.arcsec"
   ]
  },
  {
   "cell_type": "code",
   "execution_count": 6,
   "id": "7c7e26d1-5a9e-450c-b7f5-0a72b4b8af05",
   "metadata": {},
   "outputs": [],
   "source": [
    "lower_limit_kpc = (cosmo.kpc_comoving_per_arcmin(0.001)).to(u.kpc / u.arcsec) * lower_limit\n",
    "upper_limit_kpc = (cosmo.kpc_comoving_per_arcmin(8)).to(u.kpc / u.arcsec) * lower_limit"
   ]
  },
  {
   "cell_type": "code",
   "execution_count": 7,
   "id": "f16c3817-dfb5-4a88-82bf-90930a0f8132",
   "metadata": {},
   "outputs": [
    {
     "data": {
      "text/latex": [
       "$0.031138021 \\; \\mathrm{kpc}$"
      ],
      "text/plain": [
       "<Quantity 0.03113802 kpc>"
      ]
     },
     "execution_count": 7,
     "metadata": {},
     "output_type": "execute_result"
    }
   ],
   "source": [
    "lower_limit_kpc"
   ]
  },
  {
   "cell_type": "code",
   "execution_count": 8,
   "id": "0ca464a3-c807-4824-96fa-ec408220b526",
   "metadata": {},
   "outputs": [
    {
     "data": {
      "text/latex": [
       "$65.010871 \\; \\mathrm{kpc}$"
      ],
      "text/plain": [
       "<Quantity 65.01087117 kpc>"
      ]
     },
     "execution_count": 8,
     "metadata": {},
     "output_type": "execute_result"
    }
   ],
   "source": [
    "upper_limit_kpc"
   ]
  },
  {
   "cell_type": "code",
   "execution_count": 9,
   "id": "f88fe63d-5d49-474f-9a8b-aef1c4d2d9ba",
   "metadata": {},
   "outputs": [],
   "source": [
    "lower_limit_kpc = (cosmo.kpc_comoving_per_arcmin(0.001)).to(u.kpc / u.arcsec) * upper_limit\n",
    "upper_limit_kpc = (cosmo.kpc_comoving_per_arcmin(8)).to(u.kpc / u.arcsec) * upper_limit"
   ]
  },
  {
   "cell_type": "code",
   "execution_count": 10,
   "id": "3552ae87-ecf5-47b1-b057-bbc2f713ae94",
   "metadata": {},
   "outputs": [
    {
     "data": {
      "text/latex": [
       "$0.1037934 \\; \\mathrm{kpc}$"
      ],
      "text/plain": [
       "<Quantity 0.1037934 kpc>"
      ]
     },
     "execution_count": 10,
     "metadata": {},
     "output_type": "execute_result"
    }
   ],
   "source": [
    "lower_limit_kpc"
   ]
  },
  {
   "cell_type": "code",
   "execution_count": 11,
   "id": "59123f40-958f-446e-a6ef-43b027da5b6f",
   "metadata": {},
   "outputs": [
    {
     "data": {
      "text/latex": [
       "$216.7029 \\; \\mathrm{kpc}$"
      ],
      "text/plain": [
       "<Quantity 216.70290388 kpc>"
      ]
     },
     "execution_count": 11,
     "metadata": {},
     "output_type": "execute_result"
    }
   ],
   "source": [
    "upper_limit_kpc"
   ]
  },
  {
   "cell_type": "code",
   "execution_count": null,
   "id": "7a802b83-ea13-498e-9efb-80bfb5b62c5c",
   "metadata": {},
   "outputs": [],
   "source": []
  }
 ],
 "metadata": {
  "kernelspec": {
   "display_name": "Python 3 (ipykernel)",
   "language": "python",
   "name": "python3"
  },
  "language_info": {
   "codemirror_mode": {
    "name": "ipython",
    "version": 3
   },
   "file_extension": ".py",
   "mimetype": "text/x-python",
   "name": "python",
   "nbconvert_exporter": "python",
   "pygments_lexer": "ipython3",
   "version": "3.7.13"
  }
 },
 "nbformat": 4,
 "nbformat_minor": 5
}
