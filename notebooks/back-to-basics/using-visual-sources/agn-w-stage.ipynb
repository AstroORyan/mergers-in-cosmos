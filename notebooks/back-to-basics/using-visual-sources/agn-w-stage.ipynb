{
 "cells": [
  {
   "cell_type": "markdown",
   "id": "7e371317-548d-4590-8567-a67f8a2caf10",
   "metadata": {},
   "source": [
    "# Staging AGN and Checking Distribution"
   ]
  },
  {
   "cell_type": "code",
   "execution_count": 80,
   "id": "8ead152b-872c-4365-9e25-e55418762579",
   "metadata": {},
   "outputs": [],
   "source": [
    "import pandas as pd\n",
    "import seaborn as sns\n",
    "import matplotlib.pyplot as plt\n",
    "import numpy as np\n",
    "import glob\n",
    "import cv2 as cv\n",
    "\n",
    "from astropy.coordinates import SkyCoord\n",
    "import astropy.units as u\n",
    "from astropy.cosmology import FlatLambdaCDM\n",
    "\n",
    "import numpy as np\n",
    "from scipy import special\n",
    "from scipy.stats import kstwobign, anderson\n",
    "import scipy.stats.distributions as dist\n",
    "\n",
    "\n",
    "plt.rcParams['font.size'] = 14"
   ]
  },
  {
   "cell_type": "code",
   "execution_count": 2,
   "id": "3fa89cf7-dbb1-4f17-aca0-4851cbc6e1f5",
   "metadata": {},
   "outputs": [],
   "source": [
    "combine_fold = 'C:/Users/oryan/Documents/mergers-in-cosmos/cats-to-combine'\n",
    "data_folder = 'C:/Users/oryan/Documents/mergers-in-cosmos/back-to-basics-data'\n",
    "fig_folder = 'C:/Users/oryan/Documents/mergers-in-cosmos/paper-source/figures'\n",
    "cos_dat_fold = 'E:/cosmos-data'"
   ]
  },
  {
   "cell_type": "markdown",
   "id": "c3baa528-2e2d-4552-8aa2-c441beb79070",
   "metadata": {},
   "source": [
    "### Importing Data"
   ]
  },
  {
   "cell_type": "code",
   "execution_count": 3,
   "id": "b8bed168-8d15-4863-a11f-21a249dda353",
   "metadata": {},
   "outputs": [],
   "source": [
    "agn_cat = pd.read_csv(f'{combine_fold}/source-agn-cat.csv', index_col = 0)"
   ]
  },
  {
   "cell_type": "code",
   "execution_count": 4,
   "id": "b8191c5c-bb38-4ac5-b593-bc9601faf60d",
   "metadata": {},
   "outputs": [
    {
     "name": "stderr",
     "output_type": "stream",
     "text": [
      "C:\\Users\\oryan\\AppData\\Local\\Continuum\\anaconda3\\lib\\site-packages\\IPython\\core\\interactiveshell.py:3457: DtypeWarning: Columns (1) have mixed types.Specify dtype option on import or set low_memory=False.\n",
      "  exec(code_obj, self.user_global_ns, self.user_ns)\n"
     ]
    }
   ],
   "source": [
    "df_cat = pd.read_csv(f'{combine_fold}/dor-all-restaged-full.csv', index_col = 0)"
   ]
  },
  {
   "cell_type": "code",
   "execution_count": 5,
   "id": "613319ae-bc37-4e3a-87eb-8cc226f685c6",
   "metadata": {},
   "outputs": [
    {
     "data": {
      "text/html": [
       "<div>\n",
       "<style scoped>\n",
       "    .dataframe tbody tr th:only-of-type {\n",
       "        vertical-align: middle;\n",
       "    }\n",
       "\n",
       "    .dataframe tbody tr th {\n",
       "        vertical-align: top;\n",
       "    }\n",
       "\n",
       "    .dataframe thead th {\n",
       "        text-align: right;\n",
       "    }\n",
       "</style>\n",
       "<table border=\"1\" class=\"dataframe\">\n",
       "  <thead>\n",
       "    <tr style=\"text-align: right;\">\n",
       "      <th></th>\n",
       "      <th>ORyanID_23</th>\n",
       "      <th>ID</th>\n",
       "      <th>category</th>\n",
       "      <th>ALPHA_J2000</th>\n",
       "      <th>DELTA_J2000</th>\n",
       "      <th>X_IMAGE</th>\n",
       "      <th>Y_IMAGE</th>\n",
       "      <th>ERRX2_IMAGE</th>\n",
       "      <th>ERRY2_IMAGE</th>\n",
       "      <th>ERRXY_IMAGE</th>\n",
       "      <th>...</th>\n",
       "      <th>ez_ssfr_p025</th>\n",
       "      <th>ez_ssfr_p160</th>\n",
       "      <th>ez_ssfr_p500</th>\n",
       "      <th>ez_ssfr_p840</th>\n",
       "      <th>ez_ssfr_p975</th>\n",
       "      <th>ez_Av_p025</th>\n",
       "      <th>ez_Av_p160</th>\n",
       "      <th>ez_Av_p500</th>\n",
       "      <th>ez_Av_p840</th>\n",
       "      <th>ez_Av_p975</th>\n",
       "    </tr>\n",
       "  </thead>\n",
       "  <tbody>\n",
       "    <tr>\n",
       "      <th>0</th>\n",
       "      <td>4000705532455</td>\n",
       "      <td>816891</td>\n",
       "      <td>stage4</td>\n",
       "      <td>150.679846</td>\n",
       "      <td>2.196543</td>\n",
       "      <td>9200.399414</td>\n",
       "      <td>21737.232422</td>\n",
       "      <td>0.000052</td>\n",
       "      <td>0.000059</td>\n",
       "      <td>-0.000010</td>\n",
       "      <td>...</td>\n",
       "      <td>-8.931825</td>\n",
       "      <td>-8.911355</td>\n",
       "      <td>-8.899668</td>\n",
       "      <td>-8.883307</td>\n",
       "      <td>-8.872990</td>\n",
       "      <td>0.529107</td>\n",
       "      <td>0.560142</td>\n",
       "      <td>0.599624</td>\n",
       "      <td>0.630920</td>\n",
       "      <td>0.652330</td>\n",
       "    </tr>\n",
       "    <tr>\n",
       "      <th>1</th>\n",
       "      <td>4000705533383</td>\n",
       "      <td>860686</td>\n",
       "      <td>stage3</td>\n",
       "      <td>150.644522</td>\n",
       "      <td>2.237226</td>\n",
       "      <td>10047.978516</td>\n",
       "      <td>22713.351562</td>\n",
       "      <td>0.000051</td>\n",
       "      <td>0.000046</td>\n",
       "      <td>0.000002</td>\n",
       "      <td>...</td>\n",
       "      <td>-9.314209</td>\n",
       "      <td>-9.106611</td>\n",
       "      <td>-8.941274</td>\n",
       "      <td>-8.713107</td>\n",
       "      <td>-8.541205</td>\n",
       "      <td>0.341270</td>\n",
       "      <td>0.545498</td>\n",
       "      <td>0.732327</td>\n",
       "      <td>0.906665</td>\n",
       "      <td>1.020098</td>\n",
       "    </tr>\n",
       "    <tr>\n",
       "      <th>2</th>\n",
       "      <td>4000705539941</td>\n",
       "      <td>1301188</td>\n",
       "      <td>stage2</td>\n",
       "      <td>149.702462</td>\n",
       "      <td>2.654895</td>\n",
       "      <td>32637.949219</td>\n",
       "      <td>32737.013672</td>\n",
       "      <td>0.000064</td>\n",
       "      <td>0.000104</td>\n",
       "      <td>-0.000003</td>\n",
       "      <td>...</td>\n",
       "      <td>-9.794128</td>\n",
       "      <td>-9.784252</td>\n",
       "      <td>-9.766013</td>\n",
       "      <td>-9.743796</td>\n",
       "      <td>-9.727879</td>\n",
       "      <td>0.018737</td>\n",
       "      <td>0.018737</td>\n",
       "      <td>0.018737</td>\n",
       "      <td>0.018737</td>\n",
       "      <td>0.018737</td>\n",
       "    </tr>\n",
       "    <tr>\n",
       "      <th>3</th>\n",
       "      <td>4000705540034</td>\n",
       "      <td>1304538</td>\n",
       "      <td>stage3</td>\n",
       "      <td>149.726828</td>\n",
       "      <td>2.658172</td>\n",
       "      <td>32053.712891</td>\n",
       "      <td>32815.468750</td>\n",
       "      <td>0.000071</td>\n",
       "      <td>0.000086</td>\n",
       "      <td>-0.000006</td>\n",
       "      <td>...</td>\n",
       "      <td>-9.480532</td>\n",
       "      <td>-9.443615</td>\n",
       "      <td>-9.402433</td>\n",
       "      <td>-9.352081</td>\n",
       "      <td>-9.325659</td>\n",
       "      <td>0.302629</td>\n",
       "      <td>0.376027</td>\n",
       "      <td>0.440394</td>\n",
       "      <td>0.508153</td>\n",
       "      <td>0.567727</td>\n",
       "    </tr>\n",
       "    <tr>\n",
       "      <th>4</th>\n",
       "      <td>4000705540064</td>\n",
       "      <td>1310001</td>\n",
       "      <td>stage3</td>\n",
       "      <td>149.701230</td>\n",
       "      <td>2.660343</td>\n",
       "      <td>32667.441406</td>\n",
       "      <td>32867.789062</td>\n",
       "      <td>0.000026</td>\n",
       "      <td>0.000020</td>\n",
       "      <td>-0.000010</td>\n",
       "      <td>...</td>\n",
       "      <td>-9.882174</td>\n",
       "      <td>-9.855921</td>\n",
       "      <td>-9.816085</td>\n",
       "      <td>-9.697225</td>\n",
       "      <td>-9.573506</td>\n",
       "      <td>0.455258</td>\n",
       "      <td>0.482555</td>\n",
       "      <td>0.522239</td>\n",
       "      <td>0.600383</td>\n",
       "      <td>0.660279</td>\n",
       "    </tr>\n",
       "  </tbody>\n",
       "</table>\n",
       "<p>5 rows × 756 columns</p>\n",
       "</div>"
      ],
      "text/plain": [
       "      ORyanID_23       ID category  ALPHA_J2000  DELTA_J2000       X_IMAGE  \\\n",
       "0  4000705532455   816891   stage4   150.679846     2.196543   9200.399414   \n",
       "1  4000705533383   860686   stage3   150.644522     2.237226  10047.978516   \n",
       "2  4000705539941  1301188   stage2   149.702462     2.654895  32637.949219   \n",
       "3  4000705540034  1304538   stage3   149.726828     2.658172  32053.712891   \n",
       "4  4000705540064  1310001   stage3   149.701230     2.660343  32667.441406   \n",
       "\n",
       "        Y_IMAGE  ERRX2_IMAGE  ERRY2_IMAGE  ERRXY_IMAGE  ...  ez_ssfr_p025  \\\n",
       "0  21737.232422     0.000052     0.000059    -0.000010  ...     -8.931825   \n",
       "1  22713.351562     0.000051     0.000046     0.000002  ...     -9.314209   \n",
       "2  32737.013672     0.000064     0.000104    -0.000003  ...     -9.794128   \n",
       "3  32815.468750     0.000071     0.000086    -0.000006  ...     -9.480532   \n",
       "4  32867.789062     0.000026     0.000020    -0.000010  ...     -9.882174   \n",
       "\n",
       "   ez_ssfr_p160  ez_ssfr_p500  ez_ssfr_p840  ez_ssfr_p975  ez_Av_p025  \\\n",
       "0     -8.911355     -8.899668     -8.883307     -8.872990    0.529107   \n",
       "1     -9.106611     -8.941274     -8.713107     -8.541205    0.341270   \n",
       "2     -9.784252     -9.766013     -9.743796     -9.727879    0.018737   \n",
       "3     -9.443615     -9.402433     -9.352081     -9.325659    0.302629   \n",
       "4     -9.855921     -9.816085     -9.697225     -9.573506    0.455258   \n",
       "\n",
       "   ez_Av_p160  ez_Av_p500  ez_Av_p840  ez_Av_p975  \n",
       "0    0.560142    0.599624    0.630920    0.652330  \n",
       "1    0.545498    0.732327    0.906665    1.020098  \n",
       "2    0.018737    0.018737    0.018737    0.018737  \n",
       "3    0.376027    0.440394    0.508153    0.567727  \n",
       "4    0.482555    0.522239    0.600383    0.660279  \n",
       "\n",
       "[5 rows x 756 columns]"
      ]
     },
     "execution_count": 5,
     "metadata": {},
     "output_type": "execute_result"
    }
   ],
   "source": [
    "df_cat.head()"
   ]
  },
  {
   "cell_type": "code",
   "execution_count": 6,
   "id": "b83705d4-a2d7-4e9d-aa5d-e61a0bd67191",
   "metadata": {},
   "outputs": [
    {
     "data": {
      "text/html": [
       "<div>\n",
       "<style scoped>\n",
       "    .dataframe tbody tr th:only-of-type {\n",
       "        vertical-align: middle;\n",
       "    }\n",
       "\n",
       "    .dataframe tbody tr th {\n",
       "        vertical-align: top;\n",
       "    }\n",
       "\n",
       "    .dataframe thead th {\n",
       "        text-align: right;\n",
       "    }\n",
       "</style>\n",
       "<table border=\"1\" class=\"dataframe\">\n",
       "  <thead>\n",
       "    <tr style=\"text-align: right;\">\n",
       "      <th></th>\n",
       "      <th>ID</th>\n",
       "      <th>agn_clsf</th>\n",
       "    </tr>\n",
       "  </thead>\n",
       "  <tbody>\n",
       "    <tr>\n",
       "      <th>0</th>\n",
       "      <td>765389</td>\n",
       "      <td>SFG</td>\n",
       "    </tr>\n",
       "    <tr>\n",
       "      <th>1</th>\n",
       "      <td>715417</td>\n",
       "      <td>HLAGN</td>\n",
       "    </tr>\n",
       "    <tr>\n",
       "      <th>2</th>\n",
       "      <td>1485262</td>\n",
       "      <td>SFG</td>\n",
       "    </tr>\n",
       "    <tr>\n",
       "      <th>3</th>\n",
       "      <td>998663</td>\n",
       "      <td>HLAGN</td>\n",
       "    </tr>\n",
       "    <tr>\n",
       "      <th>0</th>\n",
       "      <td>888234</td>\n",
       "      <td>AGN</td>\n",
       "    </tr>\n",
       "  </tbody>\n",
       "</table>\n",
       "</div>"
      ],
      "text/plain": [
       "        ID agn_clsf\n",
       "0   765389      SFG\n",
       "1   715417    HLAGN\n",
       "2  1485262      SFG\n",
       "3   998663    HLAGN\n",
       "0   888234      AGN"
      ]
     },
     "execution_count": 6,
     "metadata": {},
     "output_type": "execute_result"
    }
   ],
   "source": [
    "agn_cat.head()"
   ]
  },
  {
   "cell_type": "code",
   "execution_count": 7,
   "id": "8fad1afc-14bf-43b4-ade4-0285191b0679",
   "metadata": {},
   "outputs": [
    {
     "data": {
      "text/plain": [
       "1362"
      ]
     },
     "execution_count": 7,
     "metadata": {},
     "output_type": "execute_result"
    }
   ],
   "source": [
    "len(agn_cat)"
   ]
  },
  {
   "cell_type": "code",
   "execution_count": 8,
   "id": "f87afd64-7560-47a5-b13a-9c5e47561b87",
   "metadata": {},
   "outputs": [],
   "source": [
    "df_cat_red = df_cat[['ORyanID_23', 'lp_mass_best', 'ez_sfr', 'ID', 'category']]"
   ]
  },
  {
   "cell_type": "code",
   "execution_count": 9,
   "id": "12d2f5ad-1d9d-485a-82ba-4f2733b751db",
   "metadata": {},
   "outputs": [],
   "source": [
    "df_merg = (\n",
    "    df_cat_red\n",
    "    .merge(agn_cat, on = 'ID', how = 'left')\n",
    ")"
   ]
  },
  {
   "cell_type": "markdown",
   "id": "f7a09a83-8f21-43bc-a668-40aefcd70326",
   "metadata": {},
   "source": [
    "### The Raw Numbers"
   ]
  },
  {
   "cell_type": "code",
   "execution_count": 10,
   "id": "c0493df2-2f4f-4ce0-b531-e562ae2127c0",
   "metadata": {},
   "outputs": [
    {
     "name": "stdout",
     "output_type": "stream",
     "text": [
      "SFG      828\n",
      "AGN      532\n",
      "HLAGN      2\n",
      "Name: agn_clsf, dtype: int64\n"
     ]
    }
   ],
   "source": [
    "print(df_merg.agn_clsf.value_counts())"
   ]
  },
  {
   "cell_type": "code",
   "execution_count": 11,
   "id": "a5bbdffa-e0b2-46d7-b667-df6d420c0843",
   "metadata": {},
   "outputs": [],
   "source": [
    "def agn_class(x):\n",
    "    if str(x) == 'SFG' or str(x) == 'SF':\n",
    "        return 'SFG'\n",
    "    elif str(x) == 'AGN' or str(x) == 'HLAGN':\n",
    "        return 'AGN'\n",
    "    else:\n",
    "        return 'unknown'"
   ]
  },
  {
   "cell_type": "code",
   "execution_count": 12,
   "id": "2f63835e-bad0-4dcf-87cf-1ce7e685d3c2",
   "metadata": {},
   "outputs": [],
   "source": [
    "df_agn_simp = (\n",
    "    df_merg\n",
    "    .assign(agn = df_merg.agn_clsf.apply(lambda x: agn_class(x)))\n",
    ")"
   ]
  },
  {
   "cell_type": "code",
   "execution_count": 13,
   "id": "7380f3dd-88b5-4fc4-9966-f1299cd7958f",
   "metadata": {},
   "outputs": [
    {
     "data": {
      "text/plain": [
       "unknown    2819\n",
       "SFG         828\n",
       "AGN         534\n",
       "Name: agn, dtype: int64"
      ]
     },
     "execution_count": 13,
     "metadata": {},
     "output_type": "execute_result"
    }
   ],
   "source": [
    "df_agn_simp.agn.value_counts()"
   ]
  },
  {
   "cell_type": "code",
   "execution_count": 14,
   "id": "ea1e65ab-b312-48ad-b913-266edce9e460",
   "metadata": {},
   "outputs": [
    {
     "name": "stdout",
     "output_type": "stream",
     "text": [
      "Stage 1\n",
      "unknown    620\n",
      "SFG        128\n",
      "AGN        110\n",
      "Name: agn, dtype: int64\n",
      " \n",
      "Stage 2\n",
      "unknown    714\n",
      "SFG        194\n",
      "AGN        135\n",
      "Name: agn, dtype: int64\n",
      " \n",
      "Stage 3\n",
      "unknown    1024\n",
      "SFG         315\n",
      "AGN         186\n",
      "Name: agn, dtype: int64\n",
      " \n",
      "Stage 4\n",
      "unknown    461\n",
      "SFG        191\n",
      "AGN        103\n",
      "Name: agn, dtype: int64\n",
      " \n"
     ]
    }
   ],
   "source": [
    "for i in range(4):\n",
    "    stage = f'stage{i+1}'\n",
    "    df_tmp = df_agn_simp.query('category == @stage')\n",
    "    print(f'Stage {i+1}')\n",
    "    print(df_tmp.agn.value_counts())\n",
    "    print(' ')"
   ]
  },
  {
   "cell_type": "code",
   "execution_count": 15,
   "id": "b920800f-2c2d-414d-b7f2-e9bc716c7272",
   "metadata": {},
   "outputs": [
    {
     "name": "stdout",
     "output_type": "stream",
     "text": [
      "Stage 1\n",
      "0.1282051282051282\n",
      " \n",
      "Stage 2\n",
      "0.12943432406519656\n",
      " \n",
      "Stage 3\n",
      "0.1219672131147541\n",
      " \n",
      "Stage 4\n",
      "0.13642384105960265\n",
      " \n"
     ]
    }
   ],
   "source": [
    "for i in range(4):\n",
    "    stage = f'stage{i+1}'\n",
    "    df_tmp = df_agn_simp.query('category == @stage')\n",
    "    print(f'Stage {i+1}')\n",
    "    print(df_tmp.agn.value_counts()['AGN'] / (df_tmp.agn.value_counts().sum()))\n",
    "    print(' ')"
   ]
  },
  {
   "cell_type": "markdown",
   "id": "3a919a14-6c75-4404-aaaa-75873afaa104",
   "metadata": {},
   "source": [
    "### Plotting"
   ]
  },
  {
   "cell_type": "code",
   "execution_count": 16,
   "id": "706ce427-ba2f-49f6-bf64-dcc6d1842c69",
   "metadata": {},
   "outputs": [],
   "source": [
    "df_agn_clsf = df_agn_simp[['ID','agn']]"
   ]
  },
  {
   "cell_type": "code",
   "execution_count": 17,
   "id": "34735509-1f26-4232-a3fa-7687028d2752",
   "metadata": {},
   "outputs": [
    {
     "data": {
      "text/plain": [
       "unknown    2819\n",
       "SFG         828\n",
       "AGN         534\n",
       "Name: agn, dtype: int64"
      ]
     },
     "execution_count": 17,
     "metadata": {},
     "output_type": "execute_result"
    }
   ],
   "source": [
    "df_agn_clsf.agn.value_counts()"
   ]
  },
  {
   "cell_type": "code",
   "execution_count": 18,
   "id": "1606ea8b-aacd-409e-a5d6-deddb50aa0f0",
   "metadata": {},
   "outputs": [
    {
     "data": {
      "text/html": [
       "<div>\n",
       "<style scoped>\n",
       "    .dataframe tbody tr th:only-of-type {\n",
       "        vertical-align: middle;\n",
       "    }\n",
       "\n",
       "    .dataframe tbody tr th {\n",
       "        vertical-align: top;\n",
       "    }\n",
       "\n",
       "    .dataframe thead th {\n",
       "        text-align: right;\n",
       "    }\n",
       "</style>\n",
       "<table border=\"1\" class=\"dataframe\">\n",
       "  <thead>\n",
       "    <tr style=\"text-align: right;\">\n",
       "      <th></th>\n",
       "      <th>ID</th>\n",
       "      <th>agn</th>\n",
       "      <th>lp_mass_best</th>\n",
       "      <th>ez_sfr</th>\n",
       "      <th>category</th>\n",
       "    </tr>\n",
       "  </thead>\n",
       "  <tbody>\n",
       "    <tr>\n",
       "      <th>0</th>\n",
       "      <td>816891</td>\n",
       "      <td>unknown</td>\n",
       "      <td>9.28590</td>\n",
       "      <td>0.589695</td>\n",
       "      <td>stage4</td>\n",
       "    </tr>\n",
       "    <tr>\n",
       "      <th>1</th>\n",
       "      <td>860686</td>\n",
       "      <td>unknown</td>\n",
       "      <td>10.44862</td>\n",
       "      <td>1.609304</td>\n",
       "      <td>stage3</td>\n",
       "    </tr>\n",
       "    <tr>\n",
       "      <th>2</th>\n",
       "      <td>1301188</td>\n",
       "      <td>unknown</td>\n",
       "      <td>8.72372</td>\n",
       "      <td>-0.987761</td>\n",
       "      <td>stage2</td>\n",
       "    </tr>\n",
       "    <tr>\n",
       "      <th>3</th>\n",
       "      <td>1304538</td>\n",
       "      <td>unknown</td>\n",
       "      <td>9.96798</td>\n",
       "      <td>1.101499</td>\n",
       "      <td>stage3</td>\n",
       "    </tr>\n",
       "    <tr>\n",
       "      <th>4</th>\n",
       "      <td>1310001</td>\n",
       "      <td>unknown</td>\n",
       "      <td>10.41827</td>\n",
       "      <td>1.083541</td>\n",
       "      <td>stage3</td>\n",
       "    </tr>\n",
       "    <tr>\n",
       "      <th>...</th>\n",
       "      <td>...</td>\n",
       "      <td>...</td>\n",
       "      <td>...</td>\n",
       "      <td>...</td>\n",
       "      <td>...</td>\n",
       "    </tr>\n",
       "    <tr>\n",
       "      <th>4176</th>\n",
       "      <td>1520733</td>\n",
       "      <td>unknown</td>\n",
       "      <td>9.27097</td>\n",
       "      <td>0.369745</td>\n",
       "      <td>stage4</td>\n",
       "    </tr>\n",
       "    <tr>\n",
       "      <th>4177</th>\n",
       "      <td>1520749</td>\n",
       "      <td>unknown</td>\n",
       "      <td>9.50357</td>\n",
       "      <td>0.507741</td>\n",
       "      <td>stage2</td>\n",
       "    </tr>\n",
       "    <tr>\n",
       "      <th>4178</th>\n",
       "      <td>1523385</td>\n",
       "      <td>unknown</td>\n",
       "      <td>9.53909</td>\n",
       "      <td>0.406027</td>\n",
       "      <td>stage3</td>\n",
       "    </tr>\n",
       "    <tr>\n",
       "      <th>4179</th>\n",
       "      <td>1524909</td>\n",
       "      <td>SFG</td>\n",
       "      <td>9.76084</td>\n",
       "      <td>0.637714</td>\n",
       "      <td>stage3</td>\n",
       "    </tr>\n",
       "    <tr>\n",
       "      <th>4180</th>\n",
       "      <td>1529226</td>\n",
       "      <td>unknown</td>\n",
       "      <td>11.16721</td>\n",
       "      <td>0.602814</td>\n",
       "      <td>stage4</td>\n",
       "    </tr>\n",
       "  </tbody>\n",
       "</table>\n",
       "<p>4168 rows × 5 columns</p>\n",
       "</div>"
      ],
      "text/plain": [
       "           ID      agn  lp_mass_best    ez_sfr category\n",
       "0      816891  unknown       9.28590  0.589695   stage4\n",
       "1      860686  unknown      10.44862  1.609304   stage3\n",
       "2     1301188  unknown       8.72372 -0.987761   stage2\n",
       "3     1304538  unknown       9.96798  1.101499   stage3\n",
       "4     1310001  unknown      10.41827  1.083541   stage3\n",
       "...       ...      ...           ...       ...      ...\n",
       "4176  1520733  unknown       9.27097  0.369745   stage4\n",
       "4177  1520749  unknown       9.50357  0.507741   stage2\n",
       "4178  1523385  unknown       9.53909  0.406027   stage3\n",
       "4179  1524909      SFG       9.76084  0.637714   stage3\n",
       "4180  1529226  unknown      11.16721  0.602814   stage4\n",
       "\n",
       "[4168 rows x 5 columns]"
      ]
     },
     "execution_count": 18,
     "metadata": {},
     "output_type": "execute_result"
    }
   ],
   "source": [
    "df_agn_id_merg = (\n",
    "    df_agn_clsf\n",
    "    .merge(df_cat[['ID', 'lp_mass_best', 'ez_sfr', 'category']], on = 'ID', how = 'right')\n",
    "    .query('lp_mass_best > 6.5')\n",
    ")\n",
    "df_agn_id_merg"
   ]
  },
  {
   "cell_type": "code",
   "execution_count": 19,
   "id": "ef700dd1-ace0-4962-95f0-fb9abb78f868",
   "metadata": {},
   "outputs": [],
   "source": [
    "def get_clsf(x):\n",
    "    if x == 'HLAGN' or x == 'MLAGN':\n",
    "        return 'AGN'\n",
    "    elif type(x) == str:\n",
    "        return x\n",
    "    elif np.isnan(x):\n",
    "        return 'Unknown'\n",
    "    else:\n",
    "        print('Error')\n",
    "        sys.exit()"
   ]
  },
  {
   "cell_type": "code",
   "execution_count": 20,
   "id": "4b006b23-ee48-4c8b-9140-0ef071ef6fea",
   "metadata": {},
   "outputs": [],
   "source": [
    "df_reclsf = (\n",
    "    df_agn_id_merg\n",
    "    .assign(agn_clsf_uk = df_agn_id_merg.agn.apply(lambda x: get_clsf(x)))\n",
    "    .query('ez_sfr < 5.5')\n",
    ")"
   ]
  },
  {
   "cell_type": "code",
   "execution_count": 21,
   "id": "9985625d-a174-4e1e-b48b-4b6f20d25f09",
   "metadata": {},
   "outputs": [
    {
     "data": {
      "text/plain": [
       "unknown    2790\n",
       "SFG         828\n",
       "AGN         534\n",
       "Name: agn_clsf_uk, dtype: int64"
      ]
     },
     "execution_count": 21,
     "metadata": {},
     "output_type": "execute_result"
    }
   ],
   "source": [
    "df_reclsf.agn_clsf_uk.value_counts()"
   ]
  },
  {
   "cell_type": "code",
   "execution_count": 23,
   "id": "76e51398-d3ca-4351-97a4-25a323dec281",
   "metadata": {},
   "outputs": [
    {
     "data": {
      "image/png": "[encoded data removed]",
      "text/plain": [
       "<Figure size 800x800 with 4 Axes>"
      ]
     },
     "metadata": {},
     "output_type": "display_data"
    }
   ],
   "source": [
    "counter = 1\n",
    "fig, ax = plt.subplots(nrows = 2, ncols = 2, figsize = (8,8))\n",
    "alphas = [0.1, 0.5, 0.75]\n",
    "markers = ['.', 'o', 'x']\n",
    "agn_clsf = ['unknown','SFG','AGN']\n",
    "colours = ['black', 'blue', 'red']\n",
    "stage_list = ['Separated','Pericentre','Apocentre','Merging']\n",
    "for i in range(2):\n",
    "    for j in range(2):\n",
    "        stage = f'stage{counter}'\n",
    "        df_stage = df_reclsf.query('category == @stage')\n",
    "        for k, clsf in enumerate(agn_clsf):\n",
    "            df = df_stage.query('agn_clsf_uk == @clsf')\n",
    "\n",
    "            ax[i,j].scatter(np.array(df.lp_mass_best), np.array(df.ez_sfr), color = colours[k], marker = markers[k], s = 20, alpha = alphas[k])\n",
    "            ax[i,j].set_title(f'{stage_list[counter-1]}')\n",
    "            ax[i,j].set_xlim([6.5, 12.5])\n",
    "            ax[i,j].set_ylim([-5,3.5])\n",
    "        \n",
    "        counter += 1\n",
    "ax[0,0].legend(agn_clsf, loc = 'upper left', fontsize = 9)\n",
    "fig.text(0.5, -0.01, '$\\log$ (M$_*$ / M$_\\odot$)', ha='center', va='center', fontsize = 18)\n",
    "fig.text(-0.01, 0.5, '$\\log$ SFR (M$_\\odot$yr$^{-1}$)', ha='center', va='center', rotation='vertical', fontsize = 18)\n",
    "fig.tight_layout()\n",
    "fig.savefig(f'{fig_folder}/agn-stage-dist.pdf', bbox_inches = 'tight')\n",
    "plt.show()"
   ]
  },
  {
   "cell_type": "code",
   "execution_count": 24,
   "id": "af3109d6-d76b-43d3-8a93-169e2fa74398",
   "metadata": {},
   "outputs": [
    {
     "data": {
      "image/png": "[encoded data removed]",
      "text/plain": [
       "<Figure size 800x800 with 4 Axes>"
      ]
     },
     "metadata": {},
     "output_type": "display_data"
    }
   ],
   "source": [
    "counter = 1\n",
    "fig, ax = plt.subplots(nrows = 2, ncols = 2, figsize = (8,8))\n",
    "for i in range(2):\n",
    "    for j in range(2):\n",
    "        stage = f'stage{counter}'\n",
    "        df_stage = df_reclsf.query('category == @stage')\n",
    "        df_agn = df_stage.query('agn_clsf_uk == \"AGN\"')\n",
    "        df_sf = df_stage.query('agn_clsf_uk == \"SFG\"')\n",
    "        df_unknown = df_stage.query('agn_clsf_uk == \"unknown\"')\n",
    "        \n",
    "        ax[i,j].hist(np.array(df_sf.lp_mass_best), color = 'black', histtype='step', density = True, bins = 10)#, alpha = 0.75)\n",
    "        ax[i,j].hist(np.array(df_agn.lp_mass_best), color = 'red', histtype='step', density = True, bins = 10)#, alpha = 0.75)\n",
    "        ax[i,j].hist(np.array(df_unknown.lp_mass_best), color = 'blue', histtype='step', density = True, bins = 10)#, alpha = 0.75)\n",
    "        ax[i,j].set_title(stage)\n",
    "        ax[i,j].set_xlim([6.5, 12.5])\n",
    "        \n",
    "        counter += 1"
   ]
  },
  {
   "cell_type": "code",
   "execution_count": 25,
   "id": "5ca5fba1-10f9-4dbd-9e6c-a7ea1488d610",
   "metadata": {},
   "outputs": [
    {
     "data": {
      "image/png": "[encoded data removed]",
      "text/plain": [
       "<Figure size 800x800 with 4 Axes>"
      ]
     },
     "metadata": {},
     "output_type": "display_data"
    }
   ],
   "source": [
    "counter = 1\n",
    "fig, ax = plt.subplots(nrows = 2, ncols = 2, figsize = (8,8))\n",
    "for i in range(2):\n",
    "    for j in range(2):\n",
    "        stage = f'stage{counter}'\n",
    "        df_stage = df_agn_simp.query('category == @stage')\n",
    "        df_agn = df_stage.query('agn == \"AGN\"')\n",
    "        df_sf = df_stage.query('agn == \"SFG\"')\n",
    "        \n",
    "        ax[i,j].hist(np.array(df_sf.ez_sfr), color = 'black', histtype='step', bins = 10, density = True)#, alpha = 0.75)\n",
    "        ax[i,j].hist(np.array(df_agn.ez_sfr), color = 'red', histtype='step', bins = 10, density = True)#, alpha = 0.75)\n",
    "        ax[i,j].set_title(stage)\n",
    "        ax[i,j].set_xlim([-5, 3.5])\n",
    "        \n",
    "        counter += 1"
   ]
  },
  {
   "cell_type": "markdown",
   "id": "cd597cb2-027e-422e-8f18-8b880cb33af0",
   "metadata": {},
   "source": [
    "So, galaxies with lower SF gain AGN as we go to higher stages. This is an interesting result! And points to interaction definitively having an impact on AGN, but only as coalescence approaches. So, how do we prove this / make sure it's not due to selection effects?"
   ]
  },
  {
   "cell_type": "markdown",
   "id": "b00d7497-e5e0-44d9-a479-73699be3f4c5",
   "metadata": {},
   "source": [
    "### Aird et al. 2019 Classification with AGN"
   ]
  },
  {
   "cell_type": "code",
   "execution_count": 26,
   "id": "54ec8c8a-0aaa-467e-a786-3d6a375d715e",
   "metadata": {},
   "outputs": [],
   "source": [
    "df_red_tmp = df_cat.query('lp_mass_best > 6.5 and lp_mass_best < 12.5')\n",
    "df_red = df_red_tmp.query('ez_sfr > -5 and ez_sfr < 3.5')"
   ]
  },
  {
   "cell_type": "code",
   "execution_count": 27,
   "id": "0eb75322-9e8a-4d73-bd7b-adb455a0c3cf",
   "metadata": {},
   "outputs": [],
   "source": [
    "df_sfrs = df_red[['ID', 'category', 'ez_sfr', 'lp_mass_best', 'ez_z_phot', 'lp_zBEST']]"
   ]
  },
  {
   "cell_type": "code",
   "execution_count": 28,
   "id": "a1e19a92-d976-4d91-8ce3-e89b1a73b6c7",
   "metadata": {},
   "outputs": [],
   "source": [
    "def picking_z(ez_z, lp_z):\n",
    "    if np.isnan(ez_z):\n",
    "        if not np.isnan(lp_z):\n",
    "            return lp_z\n",
    "        else:\n",
    "            return np.nan\n",
    "    \n",
    "    if np.isnan(lp_z):\n",
    "        if not np.isnan(ez_z):\n",
    "            return ez_z\n",
    "        else:\n",
    "            return np.nan\n",
    "    \n",
    "    if lp_z < ez_z:\n",
    "        return lp_z\n",
    "    elif ez_z <= lp_z:\n",
    "        return ez_z\n",
    "    else:\n",
    "        return 'what'"
   ]
  },
  {
   "cell_type": "code",
   "execution_count": 29,
   "id": "78088694-d830-4647-a4c5-26caaa4da90c",
   "metadata": {},
   "outputs": [],
   "source": [
    "df_z = (\n",
    "    df_sfrs\n",
    "    .assign(redshift = df_sfrs.apply(lambda row: picking_z(row.ez_z_phot, row.lp_zBEST), axis = 1))\n",
    "    .drop(columns = ['ez_z_phot', 'lp_zBEST'])\n",
    ")"
   ]
  },
  {
   "cell_type": "code",
   "execution_count": 30,
   "id": "ef300571-543e-4886-8a47-5eb6adaf738f",
   "metadata": {},
   "outputs": [],
   "source": [
    "df_ms_sfr = (\n",
    "    df_z\n",
    "    .assign(ms_sfr = df_z.apply(lambda row: -7.6 + (0.76 * row.lp_mass_best) + 2.95 * np.log10(1 + row.redshift), axis = 1))\n",
    ")"
   ]
  },
  {
   "cell_type": "code",
   "execution_count": 31,
   "id": "0b0d958f-5ba6-471f-ae1e-f32a33e41929",
   "metadata": {},
   "outputs": [
    {
     "data": {
      "text/html": [
       "<div>\n",
       "<style scoped>\n",
       "    .dataframe tbody tr th:only-of-type {\n",
       "        vertical-align: middle;\n",
       "    }\n",
       "\n",
       "    .dataframe tbody tr th {\n",
       "        vertical-align: top;\n",
       "    }\n",
       "\n",
       "    .dataframe thead th {\n",
       "        text-align: right;\n",
       "    }\n",
       "</style>\n",
       "<table border=\"1\" class=\"dataframe\">\n",
       "  <thead>\n",
       "    <tr style=\"text-align: right;\">\n",
       "      <th></th>\n",
       "      <th>ID</th>\n",
       "      <th>category</th>\n",
       "      <th>ez_sfr</th>\n",
       "      <th>lp_mass_best</th>\n",
       "      <th>redshift</th>\n",
       "      <th>ms_sfr</th>\n",
       "    </tr>\n",
       "  </thead>\n",
       "  <tbody>\n",
       "    <tr>\n",
       "      <th>0</th>\n",
       "      <td>816891</td>\n",
       "      <td>stage4</td>\n",
       "      <td>0.589695</td>\n",
       "      <td>9.28590</td>\n",
       "      <td>0.519525</td>\n",
       "      <td>-0.006678</td>\n",
       "    </tr>\n",
       "    <tr>\n",
       "      <th>1</th>\n",
       "      <td>860686</td>\n",
       "      <td>stage3</td>\n",
       "      <td>1.609304</td>\n",
       "      <td>10.44862</td>\n",
       "      <td>1.124400</td>\n",
       "      <td>1.306298</td>\n",
       "    </tr>\n",
       "    <tr>\n",
       "      <th>2</th>\n",
       "      <td>1301188</td>\n",
       "      <td>stage2</td>\n",
       "      <td>-0.987761</td>\n",
       "      <td>8.72372</td>\n",
       "      <td>0.230293</td>\n",
       "      <td>-0.704448</td>\n",
       "    </tr>\n",
       "    <tr>\n",
       "      <th>3</th>\n",
       "      <td>1304538</td>\n",
       "      <td>stage3</td>\n",
       "      <td>1.101499</td>\n",
       "      <td>9.96798</td>\n",
       "      <td>1.024009</td>\n",
       "      <td>0.878992</td>\n",
       "    </tr>\n",
       "    <tr>\n",
       "      <th>4</th>\n",
       "      <td>1310001</td>\n",
       "      <td>stage3</td>\n",
       "      <td>1.083541</td>\n",
       "      <td>10.41827</td>\n",
       "      <td>0.486400</td>\n",
       "      <td>0.825686</td>\n",
       "    </tr>\n",
       "    <tr>\n",
       "      <th>...</th>\n",
       "      <td>...</td>\n",
       "      <td>...</td>\n",
       "      <td>...</td>\n",
       "      <td>...</td>\n",
       "      <td>...</td>\n",
       "      <td>...</td>\n",
       "    </tr>\n",
       "    <tr>\n",
       "      <th>4176</th>\n",
       "      <td>1520733</td>\n",
       "      <td>stage4</td>\n",
       "      <td>0.369745</td>\n",
       "      <td>9.27097</td>\n",
       "      <td>0.484922</td>\n",
       "      <td>-0.047537</td>\n",
       "    </tr>\n",
       "    <tr>\n",
       "      <th>4177</th>\n",
       "      <td>1520749</td>\n",
       "      <td>stage2</td>\n",
       "      <td>0.507741</td>\n",
       "      <td>9.50357</td>\n",
       "      <td>0.647512</td>\n",
       "      <td>0.262358</td>\n",
       "    </tr>\n",
       "    <tr>\n",
       "      <th>4178</th>\n",
       "      <td>1523385</td>\n",
       "      <td>stage3</td>\n",
       "      <td>0.406027</td>\n",
       "      <td>9.53909</td>\n",
       "      <td>0.301645</td>\n",
       "      <td>-0.012538</td>\n",
       "    </tr>\n",
       "    <tr>\n",
       "      <th>4179</th>\n",
       "      <td>1524909</td>\n",
       "      <td>stage3</td>\n",
       "      <td>0.637714</td>\n",
       "      <td>9.76084</td>\n",
       "      <td>0.855695</td>\n",
       "      <td>0.610333</td>\n",
       "    </tr>\n",
       "    <tr>\n",
       "      <th>4180</th>\n",
       "      <td>1529226</td>\n",
       "      <td>stage4</td>\n",
       "      <td>0.602814</td>\n",
       "      <td>11.16721</td>\n",
       "      <td>0.541008</td>\n",
       "      <td>1.441104</td>\n",
       "    </tr>\n",
       "  </tbody>\n",
       "</table>\n",
       "<p>4152 rows × 6 columns</p>\n",
       "</div>"
      ],
      "text/plain": [
       "           ID category    ez_sfr  lp_mass_best  redshift    ms_sfr\n",
       "0      816891   stage4  0.589695       9.28590  0.519525 -0.006678\n",
       "1      860686   stage3  1.609304      10.44862  1.124400  1.306298\n",
       "2     1301188   stage2 -0.987761       8.72372  0.230293 -0.704448\n",
       "3     1304538   stage3  1.101499       9.96798  1.024009  0.878992\n",
       "4     1310001   stage3  1.083541      10.41827  0.486400  0.825686\n",
       "...       ...      ...       ...           ...       ...       ...\n",
       "4176  1520733   stage4  0.369745       9.27097  0.484922 -0.047537\n",
       "4177  1520749   stage2  0.507741       9.50357  0.647512  0.262358\n",
       "4178  1523385   stage3  0.406027       9.53909  0.301645 -0.012538\n",
       "4179  1524909   stage3  0.637714       9.76084  0.855695  0.610333\n",
       "4180  1529226   stage4  0.602814      11.16721  0.541008  1.441104\n",
       "\n",
       "[4152 rows x 6 columns]"
      ]
     },
     "execution_count": 31,
     "metadata": {},
     "output_type": "execute_result"
    }
   ],
   "source": [
    "df_ms_sfr"
   ]
  },
  {
   "cell_type": "code",
   "execution_count": 32,
   "id": "27ed6687-f0c8-4920-b7f1-1f1c04b8aa32",
   "metadata": {},
   "outputs": [],
   "source": [
    "def finding_sfr(log_sfr, log_sfr_ms):\n",
    "    sfr = 10 ** log_sfr\n",
    "    sfr_ms = 10 ** log_sfr_ms\n",
    "    frac = sfr / sfr_ms\n",
    "    return np.log10(frac)"
   ]
  },
  {
   "cell_type": "code",
   "execution_count": 33,
   "id": "a7929b4f-df80-4ebd-88c9-b97df12ae635",
   "metadata": {},
   "outputs": [
    {
     "data": {
      "text/html": [
       "<div>\n",
       "<style scoped>\n",
       "    .dataframe tbody tr th:only-of-type {\n",
       "        vertical-align: middle;\n",
       "    }\n",
       "\n",
       "    .dataframe tbody tr th {\n",
       "        vertical-align: top;\n",
       "    }\n",
       "\n",
       "    .dataframe thead th {\n",
       "        text-align: right;\n",
       "    }\n",
       "</style>\n",
       "<table border=\"1\" class=\"dataframe\">\n",
       "  <thead>\n",
       "    <tr style=\"text-align: right;\">\n",
       "      <th></th>\n",
       "      <th>ID</th>\n",
       "      <th>category</th>\n",
       "      <th>ez_sfr</th>\n",
       "      <th>lp_mass_best</th>\n",
       "      <th>redshift</th>\n",
       "      <th>ms_sfr</th>\n",
       "      <th>sfr_sfr_ms</th>\n",
       "    </tr>\n",
       "  </thead>\n",
       "  <tbody>\n",
       "    <tr>\n",
       "      <th>0</th>\n",
       "      <td>816891</td>\n",
       "      <td>stage4</td>\n",
       "      <td>0.589695</td>\n",
       "      <td>9.28590</td>\n",
       "      <td>0.519525</td>\n",
       "      <td>-0.006678</td>\n",
       "      <td>0.596373</td>\n",
       "    </tr>\n",
       "    <tr>\n",
       "      <th>1</th>\n",
       "      <td>860686</td>\n",
       "      <td>stage3</td>\n",
       "      <td>1.609304</td>\n",
       "      <td>10.44862</td>\n",
       "      <td>1.124400</td>\n",
       "      <td>1.306298</td>\n",
       "      <td>0.303006</td>\n",
       "    </tr>\n",
       "    <tr>\n",
       "      <th>2</th>\n",
       "      <td>1301188</td>\n",
       "      <td>stage2</td>\n",
       "      <td>-0.987761</td>\n",
       "      <td>8.72372</td>\n",
       "      <td>0.230293</td>\n",
       "      <td>-0.704448</td>\n",
       "      <td>-0.283313</td>\n",
       "    </tr>\n",
       "    <tr>\n",
       "      <th>3</th>\n",
       "      <td>1304538</td>\n",
       "      <td>stage3</td>\n",
       "      <td>1.101499</td>\n",
       "      <td>9.96798</td>\n",
       "      <td>1.024009</td>\n",
       "      <td>0.878992</td>\n",
       "      <td>0.222507</td>\n",
       "    </tr>\n",
       "    <tr>\n",
       "      <th>4</th>\n",
       "      <td>1310001</td>\n",
       "      <td>stage3</td>\n",
       "      <td>1.083541</td>\n",
       "      <td>10.41827</td>\n",
       "      <td>0.486400</td>\n",
       "      <td>0.825686</td>\n",
       "      <td>0.257855</td>\n",
       "    </tr>\n",
       "    <tr>\n",
       "      <th>...</th>\n",
       "      <td>...</td>\n",
       "      <td>...</td>\n",
       "      <td>...</td>\n",
       "      <td>...</td>\n",
       "      <td>...</td>\n",
       "      <td>...</td>\n",
       "      <td>...</td>\n",
       "    </tr>\n",
       "    <tr>\n",
       "      <th>4176</th>\n",
       "      <td>1520733</td>\n",
       "      <td>stage4</td>\n",
       "      <td>0.369745</td>\n",
       "      <td>9.27097</td>\n",
       "      <td>0.484922</td>\n",
       "      <td>-0.047537</td>\n",
       "      <td>0.417282</td>\n",
       "    </tr>\n",
       "    <tr>\n",
       "      <th>4177</th>\n",
       "      <td>1520749</td>\n",
       "      <td>stage2</td>\n",
       "      <td>0.507741</td>\n",
       "      <td>9.50357</td>\n",
       "      <td>0.647512</td>\n",
       "      <td>0.262358</td>\n",
       "      <td>0.245383</td>\n",
       "    </tr>\n",
       "    <tr>\n",
       "      <th>4178</th>\n",
       "      <td>1523385</td>\n",
       "      <td>stage3</td>\n",
       "      <td>0.406027</td>\n",
       "      <td>9.53909</td>\n",
       "      <td>0.301645</td>\n",
       "      <td>-0.012538</td>\n",
       "      <td>0.418565</td>\n",
       "    </tr>\n",
       "    <tr>\n",
       "      <th>4179</th>\n",
       "      <td>1524909</td>\n",
       "      <td>stage3</td>\n",
       "      <td>0.637714</td>\n",
       "      <td>9.76084</td>\n",
       "      <td>0.855695</td>\n",
       "      <td>0.610333</td>\n",
       "      <td>0.027381</td>\n",
       "    </tr>\n",
       "    <tr>\n",
       "      <th>4180</th>\n",
       "      <td>1529226</td>\n",
       "      <td>stage4</td>\n",
       "      <td>0.602814</td>\n",
       "      <td>11.16721</td>\n",
       "      <td>0.541008</td>\n",
       "      <td>1.441104</td>\n",
       "      <td>-0.838290</td>\n",
       "    </tr>\n",
       "  </tbody>\n",
       "</table>\n",
       "<p>4152 rows × 7 columns</p>\n",
       "</div>"
      ],
      "text/plain": [
       "           ID category    ez_sfr  lp_mass_best  redshift    ms_sfr  sfr_sfr_ms\n",
       "0      816891   stage4  0.589695       9.28590  0.519525 -0.006678    0.596373\n",
       "1      860686   stage3  1.609304      10.44862  1.124400  1.306298    0.303006\n",
       "2     1301188   stage2 -0.987761       8.72372  0.230293 -0.704448   -0.283313\n",
       "3     1304538   stage3  1.101499       9.96798  1.024009  0.878992    0.222507\n",
       "4     1310001   stage3  1.083541      10.41827  0.486400  0.825686    0.257855\n",
       "...       ...      ...       ...           ...       ...       ...         ...\n",
       "4176  1520733   stage4  0.369745       9.27097  0.484922 -0.047537    0.417282\n",
       "4177  1520749   stage2  0.507741       9.50357  0.647512  0.262358    0.245383\n",
       "4178  1523385   stage3  0.406027       9.53909  0.301645 -0.012538    0.418565\n",
       "4179  1524909   stage3  0.637714       9.76084  0.855695  0.610333    0.027381\n",
       "4180  1529226   stage4  0.602814      11.16721  0.541008  1.441104   -0.838290\n",
       "\n",
       "[4152 rows x 7 columns]"
      ]
     },
     "execution_count": 33,
     "metadata": {},
     "output_type": "execute_result"
    }
   ],
   "source": [
    "df_comp = (\n",
    "    df_ms_sfr\n",
    "    .assign(sfr_sfr_ms = df_ms_sfr.apply(lambda row: finding_sfr(row.ez_sfr, row.ms_sfr), axis = 1))\n",
    ")\n",
    "df_comp"
   ]
  },
  {
   "cell_type": "code",
   "execution_count": 34,
   "id": "4c72c0c5-672f-4dd0-9bf7-73f42fd57ef5",
   "metadata": {},
   "outputs": [
    {
     "data": {
      "text/html": [
       "<div>\n",
       "<style scoped>\n",
       "    .dataframe tbody tr th:only-of-type {\n",
       "        vertical-align: middle;\n",
       "    }\n",
       "\n",
       "    .dataframe tbody tr th {\n",
       "        vertical-align: top;\n",
       "    }\n",
       "\n",
       "    .dataframe thead th {\n",
       "        text-align: right;\n",
       "    }\n",
       "</style>\n",
       "<table border=\"1\" class=\"dataframe\">\n",
       "  <thead>\n",
       "    <tr style=\"text-align: right;\">\n",
       "      <th></th>\n",
       "      <th>ID</th>\n",
       "      <th>agn</th>\n",
       "      <th>lp_mass_best</th>\n",
       "      <th>ez_sfr</th>\n",
       "      <th>category</th>\n",
       "      <th>agn_clsf_uk</th>\n",
       "    </tr>\n",
       "  </thead>\n",
       "  <tbody>\n",
       "    <tr>\n",
       "      <th>0</th>\n",
       "      <td>816891</td>\n",
       "      <td>unknown</td>\n",
       "      <td>9.28590</td>\n",
       "      <td>0.589695</td>\n",
       "      <td>stage4</td>\n",
       "      <td>unknown</td>\n",
       "    </tr>\n",
       "    <tr>\n",
       "      <th>1</th>\n",
       "      <td>860686</td>\n",
       "      <td>unknown</td>\n",
       "      <td>10.44862</td>\n",
       "      <td>1.609304</td>\n",
       "      <td>stage3</td>\n",
       "      <td>unknown</td>\n",
       "    </tr>\n",
       "    <tr>\n",
       "      <th>2</th>\n",
       "      <td>1301188</td>\n",
       "      <td>unknown</td>\n",
       "      <td>8.72372</td>\n",
       "      <td>-0.987761</td>\n",
       "      <td>stage2</td>\n",
       "      <td>unknown</td>\n",
       "    </tr>\n",
       "    <tr>\n",
       "      <th>3</th>\n",
       "      <td>1304538</td>\n",
       "      <td>unknown</td>\n",
       "      <td>9.96798</td>\n",
       "      <td>1.101499</td>\n",
       "      <td>stage3</td>\n",
       "      <td>unknown</td>\n",
       "    </tr>\n",
       "    <tr>\n",
       "      <th>4</th>\n",
       "      <td>1310001</td>\n",
       "      <td>unknown</td>\n",
       "      <td>10.41827</td>\n",
       "      <td>1.083541</td>\n",
       "      <td>stage3</td>\n",
       "      <td>unknown</td>\n",
       "    </tr>\n",
       "  </tbody>\n",
       "</table>\n",
       "</div>"
      ],
      "text/plain": [
       "        ID      agn  lp_mass_best    ez_sfr category agn_clsf_uk\n",
       "0   816891  unknown       9.28590  0.589695   stage4     unknown\n",
       "1   860686  unknown      10.44862  1.609304   stage3     unknown\n",
       "2  1301188  unknown       8.72372 -0.987761   stage2     unknown\n",
       "3  1304538  unknown       9.96798  1.101499   stage3     unknown\n",
       "4  1310001  unknown      10.41827  1.083541   stage3     unknown"
      ]
     },
     "execution_count": 34,
     "metadata": {},
     "output_type": "execute_result"
    }
   ],
   "source": [
    "df_reclsf.head()"
   ]
  },
  {
   "cell_type": "code",
   "execution_count": 35,
   "id": "aad81d0e-8f2b-4f90-8336-74a0ca4fd7d4",
   "metadata": {},
   "outputs": [],
   "source": [
    "df_comp_agn = (\n",
    "    df_comp\n",
    "    .merge(df_reclsf[['ID', 'agn_clsf_uk']], on = 'ID', how = 'right')\n",
    ")"
   ]
  },
  {
   "cell_type": "code",
   "execution_count": 36,
   "id": "82cc29ab-6209-4b52-b9ab-314f20a0acb5",
   "metadata": {},
   "outputs": [
    {
     "data": {
      "text/html": [
       "<div>\n",
       "<style scoped>\n",
       "    .dataframe tbody tr th:only-of-type {\n",
       "        vertical-align: middle;\n",
       "    }\n",
       "\n",
       "    .dataframe tbody tr th {\n",
       "        vertical-align: top;\n",
       "    }\n",
       "\n",
       "    .dataframe thead th {\n",
       "        text-align: right;\n",
       "    }\n",
       "</style>\n",
       "<table border=\"1\" class=\"dataframe\">\n",
       "  <thead>\n",
       "    <tr style=\"text-align: right;\">\n",
       "      <th></th>\n",
       "      <th>ID</th>\n",
       "      <th>category</th>\n",
       "      <th>ez_sfr</th>\n",
       "      <th>lp_mass_best</th>\n",
       "      <th>redshift</th>\n",
       "      <th>ms_sfr</th>\n",
       "      <th>sfr_sfr_ms</th>\n",
       "      <th>agn_clsf_uk</th>\n",
       "    </tr>\n",
       "  </thead>\n",
       "  <tbody>\n",
       "    <tr>\n",
       "      <th>0</th>\n",
       "      <td>816891</td>\n",
       "      <td>stage4</td>\n",
       "      <td>0.589695</td>\n",
       "      <td>9.28590</td>\n",
       "      <td>0.519525</td>\n",
       "      <td>-0.006678</td>\n",
       "      <td>0.596373</td>\n",
       "      <td>unknown</td>\n",
       "    </tr>\n",
       "    <tr>\n",
       "      <th>1</th>\n",
       "      <td>860686</td>\n",
       "      <td>stage3</td>\n",
       "      <td>1.609304</td>\n",
       "      <td>10.44862</td>\n",
       "      <td>1.124400</td>\n",
       "      <td>1.306298</td>\n",
       "      <td>0.303006</td>\n",
       "      <td>unknown</td>\n",
       "    </tr>\n",
       "    <tr>\n",
       "      <th>2</th>\n",
       "      <td>1301188</td>\n",
       "      <td>stage2</td>\n",
       "      <td>-0.987761</td>\n",
       "      <td>8.72372</td>\n",
       "      <td>0.230293</td>\n",
       "      <td>-0.704448</td>\n",
       "      <td>-0.283313</td>\n",
       "      <td>unknown</td>\n",
       "    </tr>\n",
       "    <tr>\n",
       "      <th>3</th>\n",
       "      <td>1304538</td>\n",
       "      <td>stage3</td>\n",
       "      <td>1.101499</td>\n",
       "      <td>9.96798</td>\n",
       "      <td>1.024009</td>\n",
       "      <td>0.878992</td>\n",
       "      <td>0.222507</td>\n",
       "      <td>unknown</td>\n",
       "    </tr>\n",
       "    <tr>\n",
       "      <th>4</th>\n",
       "      <td>1310001</td>\n",
       "      <td>stage3</td>\n",
       "      <td>1.083541</td>\n",
       "      <td>10.41827</td>\n",
       "      <td>0.486400</td>\n",
       "      <td>0.825686</td>\n",
       "      <td>0.257855</td>\n",
       "      <td>unknown</td>\n",
       "    </tr>\n",
       "  </tbody>\n",
       "</table>\n",
       "</div>"
      ],
      "text/plain": [
       "        ID category    ez_sfr  lp_mass_best  redshift    ms_sfr  sfr_sfr_ms  \\\n",
       "0   816891   stage4  0.589695       9.28590  0.519525 -0.006678    0.596373   \n",
       "1   860686   stage3  1.609304      10.44862  1.124400  1.306298    0.303006   \n",
       "2  1301188   stage2 -0.987761       8.72372  0.230293 -0.704448   -0.283313   \n",
       "3  1304538   stage3  1.101499       9.96798  1.024009  0.878992    0.222507   \n",
       "4  1310001   stage3  1.083541      10.41827  0.486400  0.825686    0.257855   \n",
       "\n",
       "  agn_clsf_uk  \n",
       "0     unknown  \n",
       "1     unknown  \n",
       "2     unknown  \n",
       "3     unknown  \n",
       "4     unknown  "
      ]
     },
     "execution_count": 36,
     "metadata": {},
     "output_type": "execute_result"
    }
   ],
   "source": [
    "df_comp_agn.head()"
   ]
  },
  {
   "cell_type": "code",
   "execution_count": 37,
   "id": "d3d4bfaf-35a7-47a7-bd4e-583285ea9449",
   "metadata": {},
   "outputs": [
    {
     "data": {
      "image/png": "[encoded data removed]",
      "text/plain": [
       "<Figure size 800x800 with 4 Axes>"
      ]
     },
     "metadata": {},
     "output_type": "display_data"
    }
   ],
   "source": [
    "fig, ax = plt.subplots(nrows = 2, ncols = 2, figsize = (8,8))\n",
    "counter = 1\n",
    "alphas = [0.1, 0.25, 0.75]\n",
    "markers = ['.', 'o', 'x']\n",
    "agn_clsf = ['unknown','SFG','AGN']\n",
    "colours = ['black', 'blue', 'red']\n",
    "for i in range(2):\n",
    "    for j in range(2):\n",
    "        for k, clsf in enumerate(agn_clsf):\n",
    "            df_stage = df_comp_agn.query(f'category == \"stage{counter}\"')\n",
    "\n",
    "            df_stage.query('agn_clsf_uk == @clsf').plot.scatter(\n",
    "                x = 'lp_mass_best',\n",
    "                y = 'sfr_sfr_ms',\n",
    "                s = 5,\n",
    "                marker = markers[k],\n",
    "                alpha = alphas[k],\n",
    "                color = colours[k],\n",
    "                ax = ax[i,j],\n",
    "                # figsize = (8,8),\n",
    "                xlabel = '',\n",
    "                ylabel = '',\n",
    "                xlim = [6.5, 12.5],\n",
    "                ylim = [-5, 1.5],\n",
    "                fontsize = 14,\n",
    "                title = f'Stage {counter}'\n",
    "            )\n",
    "        # x = np.array(df_comp.query(f'category == \"stage{counter}\"').lp_mass_best)\n",
    "        # y = np.array(df_comp.query(f'category == \"stage{counter}\"').sfr_sfr_ms)\n",
    "        # sns.kdeplot(x=x,y=y, ax=ax[i,j], thresh = 0.05, levels=8, color='blue')\n",
    "        \n",
    "        ax[i,j].axhline(0.4, color='red', linestyle='--')\n",
    "        ax[i,j].axhline(-0.4, color = 'red', linestyle='--')\n",
    "        ax[i,j].axhline(-1.3, color = 'red', linestyle = '--')\n",
    "        ax[i,j].axhline(-2.3, color = 'red', linestyle='--')\n",
    "        if counter == 1:\n",
    "            ax[i,j].text(6.6, 0.45, 'Starburst', fontsize = 8, color='blue')\n",
    "            ax[i,j].text(6.6, -0.35, 'Main Sequence', fontsize = 8, color='blue')\n",
    "            ax[i,j].text(6.6, -1.25, 'Sub-Main Sequence', fontsize = 8, color='blue')\n",
    "            ax[i,j].text(6.6, -2.20, 'Quiescent (High)', fontsize = 8, color='blue')\n",
    "            ax[i,j].text(6.6, -2.55, 'Quiescent (Low)', fontsize = 8, color='blue')\n",
    "        \n",
    "        \n",
    "        counter += 1\n",
    "fig.text(0.5, -0.01, '$\\log$ M$_*$ / M$_\\odot$', ha='center', va='center', fontsize = 18)\n",
    "fig.text(-0.01, 0.5, '$\\log$ SFR / SFR$_{MS}$ (z)', ha='center', va='center', rotation='vertical', fontsize = 18)\n",
    "fig.tight_layout()\n",
    "# fig.savefig(f'{fig_folder}', bbox_inches='tight')\n",
    "plt.show()"
   ]
  },
  {
   "cell_type": "markdown",
   "id": "1db7ba0c-95fb-49ea-9dcf-ca94452bb6a6",
   "metadata": {},
   "source": [
    "I don't think this has proved much really. It appears like as interaction stage goes up, we have a larger fraction of AGN in lower mass galaxies. However, this could simply be selection effects. Unfortunately, this is one for needing larger sample sizes of AGN or further AGN identification to prove."
   ]
  },
  {
   "cell_type": "markdown",
   "id": "41d5e42a-c8ba-4c1c-b055-cf49a14132fb",
   "metadata": {},
   "source": [
    "### Checking Weighted Fractions"
   ]
  },
  {
   "cell_type": "code",
   "execution_count": 38,
   "id": "5046102d-3c30-4b13-ac11-bf131cb03505",
   "metadata": {},
   "outputs": [],
   "source": [
    "def weight_dist(arrs, compare=1, bins=None, return_bins=True, renorm=False):\n",
    "    # this will take 2 arrays of values from 2 different samples\n",
    "    # e.g. redshift distributions from 2 samples\n",
    "    # and return weights for each value such that the weighted\n",
    "    # distributions of each sample will match.\n",
    "\n",
    "    # note the bins need to be the same for both datasets\n",
    "    # so either supply 1 number or 1 array of bin edges\n",
    "    # also if you have fully specified the bins you don't need them returned\n",
    "    # but if we've had to figure them out, you do need them returned\n",
    "    # if you want to make sure you aren't under-weighting (e.g. if a whole dataset is\n",
    "    # much larger than the other so you might always be able select >1 object\n",
    "    # in dataset 1 for each object in dataset 2) then you can re-normalise to make\n",
    "    # sure the max weight of both datasets is 1\n",
    "    # Note, if the distributions cross this won't make a difference\n",
    "\n",
    "    # weight arrays\n",
    "    # w1 = np.zeros_like(arr1)\n",
    "    # w2 = np.zeros_like(arr2)\n",
    "    \n",
    "    ws_list = []\n",
    "    for i in arrs:\n",
    "        ws_list.append(np.zeros_like(i))\n",
    "\n",
    "    # if bins not specified, guess at them ourselves\n",
    "    if bins is None:\n",
    "        minsize = np.amin([    len(arr1),     len(arr2)])\n",
    "        themin  = np.amin([np.amin(arr1), np.amin(arr2)])\n",
    "        themax  = np.amax([np.amax(arr1), np.amax(arr2)])\n",
    "\n",
    "        # on average 5 data points per bin, but at least 3 bins pls, max value is last bin edge\n",
    "        bins = np.linspace(themin, themax, int(np.amax([(minsize/5)+1, 3])), endpoint=True)\n",
    "\n",
    "    else:\n",
    "        pass\n",
    "        # because the np.histogram function can deal with distinguishing between number of bins or specific bins itself\n",
    "        # so we don't have to\n",
    "    hists = []\n",
    "    hist1, thebins = np.histogram(arrs[0], bins=bins)  # returns (counts_arr, bins_arr)\n",
    "    # use the bins from hist1 to make hist2\n",
    "    # note: for these purposes, any values of hist2 outside the minmax range of hist1 should have 0 weight\n",
    "    # which is taken care of by the zeros_like initialisation of w1 and w2 above\n",
    "    # so it's fine for them to be excluded below\n",
    "    hists.append(hist1)\n",
    "    for i in arrs[1:]:\n",
    "        hist_tmp, thebins = np.histogram(i, bins=thebins)\n",
    "        hists.append(hist_tmp)\n",
    "\n",
    "    # now step through the bins and assign weights\n",
    "    for i_bin in range(len(thebins)-1):\n",
    "        for i_hist in range(len(hists)):\n",
    "            # zero-\"index\"ing these because they're indices and not values\n",
    "            # and if I get them mixed up below I want this to error that there's no b2 or whatever\n",
    "            if i_hist == compare:\n",
    "                continue\n",
    "            b0 = thebins[i_bin]\n",
    "            b1 = thebins[i_bin+1]\n",
    "\n",
    "            count1 = hists[compare][i_bin]\n",
    "            count2 = hists[i_hist][i_bin]\n",
    "\n",
    "            # don't miss any values and don't double-count\n",
    "            if i_bin == 0:\n",
    "                in_bin1 = (arrs[compare] >= b0) & (arrs[compare] <= b1)\n",
    "                in_bin2 = (arrs[i_hist] >= b0) & (arrs[i_hist] <= b1)\n",
    "            else: \n",
    "                in_bin1 = (arrs[compare] >  b0) & (arrs[compare] <= b1)\n",
    "                in_bin2 = (arrs[i_hist] >  b0) & (arrs[i_hist] <= b1)\n",
    "\n",
    "\n",
    "            # don't divide by 0 in the rest of the if/else\n",
    "            if (count1 == 0) | (count2 == 0):\n",
    "                ws_list[compare][in_bin1] = 0.0\n",
    "                ws_list[i_hist][in_bin2] = 0.0\n",
    "\n",
    "            elif count1 < count2:\n",
    "                # weight count2 values so the sum of wt2 in this bin equals count1\n",
    "                # wt_fac will always be < 1\n",
    "                wt_fac = float(count1)/float(count2)\n",
    "                ws_list[compare][in_bin1] = 1.0\n",
    "                ws_list[i_hist][in_bin2] = wt_fac\n",
    "\n",
    "            else:\n",
    "                # weight count1 values so the sum of wt1 in this bin equals count2\n",
    "                # wt_fac will always be <= 1\n",
    "                wt_fac = float(count2)/float(count1)\n",
    "                ws_list[compare][in_bin1] = wt_fac\n",
    "                ws_list[i_hist][in_bin2] = 1.0\n",
    "\n",
    "\n",
    "    # now the weights should be determined\n",
    "    # we can optionally re-normalise to make sure we are getting max value out of the datasets\n",
    "    if renorm:\n",
    "        if (np.sum(ws) > 0.00000) & (np.amax(w1) < 1.0):\n",
    "            ws /= np.amax(ws)\n",
    "\n",
    "        if (np.sum(ws) > 0.00000) & (np.amax(w2) < 1.0):\n",
    "            ws /= np.amax(ws)\n",
    "\n",
    "\n",
    "    if return_bins:\n",
    "        return ws, thebins \n",
    "    else: \n",
    "        return ws_list"
   ]
  },
  {
   "cell_type": "code",
   "execution_count": 39,
   "id": "6ed80242-5a0a-406a-a944-4d9cc24ac1c6",
   "metadata": {},
   "outputs": [
    {
     "data": {
      "text/html": [
       "<div>\n",
       "<style scoped>\n",
       "    .dataframe tbody tr th:only-of-type {\n",
       "        vertical-align: middle;\n",
       "    }\n",
       "\n",
       "    .dataframe tbody tr th {\n",
       "        vertical-align: top;\n",
       "    }\n",
       "\n",
       "    .dataframe thead th {\n",
       "        text-align: right;\n",
       "    }\n",
       "</style>\n",
       "<table border=\"1\" class=\"dataframe\">\n",
       "  <thead>\n",
       "    <tr style=\"text-align: right;\">\n",
       "      <th></th>\n",
       "      <th>ID</th>\n",
       "      <th>category</th>\n",
       "      <th>ez_sfr</th>\n",
       "      <th>lp_mass_best</th>\n",
       "      <th>redshift</th>\n",
       "      <th>ms_sfr</th>\n",
       "      <th>sfr_sfr_ms</th>\n",
       "      <th>agn_clsf_uk</th>\n",
       "    </tr>\n",
       "  </thead>\n",
       "  <tbody>\n",
       "    <tr>\n",
       "      <th>0</th>\n",
       "      <td>816891</td>\n",
       "      <td>stage4</td>\n",
       "      <td>0.589695</td>\n",
       "      <td>9.28590</td>\n",
       "      <td>0.519525</td>\n",
       "      <td>-0.006678</td>\n",
       "      <td>0.596373</td>\n",
       "      <td>unknown</td>\n",
       "    </tr>\n",
       "    <tr>\n",
       "      <th>1</th>\n",
       "      <td>860686</td>\n",
       "      <td>stage3</td>\n",
       "      <td>1.609304</td>\n",
       "      <td>10.44862</td>\n",
       "      <td>1.124400</td>\n",
       "      <td>1.306298</td>\n",
       "      <td>0.303006</td>\n",
       "      <td>unknown</td>\n",
       "    </tr>\n",
       "    <tr>\n",
       "      <th>2</th>\n",
       "      <td>1301188</td>\n",
       "      <td>stage2</td>\n",
       "      <td>-0.987761</td>\n",
       "      <td>8.72372</td>\n",
       "      <td>0.230293</td>\n",
       "      <td>-0.704448</td>\n",
       "      <td>-0.283313</td>\n",
       "      <td>unknown</td>\n",
       "    </tr>\n",
       "    <tr>\n",
       "      <th>3</th>\n",
       "      <td>1304538</td>\n",
       "      <td>stage3</td>\n",
       "      <td>1.101499</td>\n",
       "      <td>9.96798</td>\n",
       "      <td>1.024009</td>\n",
       "      <td>0.878992</td>\n",
       "      <td>0.222507</td>\n",
       "      <td>unknown</td>\n",
       "    </tr>\n",
       "    <tr>\n",
       "      <th>4</th>\n",
       "      <td>1310001</td>\n",
       "      <td>stage3</td>\n",
       "      <td>1.083541</td>\n",
       "      <td>10.41827</td>\n",
       "      <td>0.486400</td>\n",
       "      <td>0.825686</td>\n",
       "      <td>0.257855</td>\n",
       "      <td>unknown</td>\n",
       "    </tr>\n",
       "  </tbody>\n",
       "</table>\n",
       "</div>"
      ],
      "text/plain": [
       "        ID category    ez_sfr  lp_mass_best  redshift    ms_sfr  sfr_sfr_ms  \\\n",
       "0   816891   stage4  0.589695       9.28590  0.519525 -0.006678    0.596373   \n",
       "1   860686   stage3  1.609304      10.44862  1.124400  1.306298    0.303006   \n",
       "2  1301188   stage2 -0.987761       8.72372  0.230293 -0.704448   -0.283313   \n",
       "3  1304538   stage3  1.101499       9.96798  1.024009  0.878992    0.222507   \n",
       "4  1310001   stage3  1.083541      10.41827  0.486400  0.825686    0.257855   \n",
       "\n",
       "  agn_clsf_uk  \n",
       "0     unknown  \n",
       "1     unknown  \n",
       "2     unknown  \n",
       "3     unknown  \n",
       "4     unknown  "
      ]
     },
     "execution_count": 39,
     "metadata": {},
     "output_type": "execute_result"
    }
   ],
   "source": [
    "df_comp_agn.head()"
   ]
  },
  {
   "cell_type": "code",
   "execution_count": 40,
   "id": "4c1f81b0-6a2a-4f0d-bb1d-c269fcee7f31",
   "metadata": {},
   "outputs": [
    {
     "data": {
      "text/plain": [
       "unknown    2790\n",
       "SFG         828\n",
       "AGN         534\n",
       "Name: agn_clsf_uk, dtype: int64"
      ]
     },
     "execution_count": 40,
     "metadata": {},
     "output_type": "execute_result"
    }
   ],
   "source": [
    "df_comp_agn.agn_clsf_uk.value_counts()"
   ]
  },
  {
   "cell_type": "code",
   "execution_count": 41,
   "id": "13137453-f551-4ebe-93fa-da06e09a9289",
   "metadata": {},
   "outputs": [],
   "source": [
    "df_agn = df_comp_agn.query('agn_clsf_uk == \"AGN\"')\n",
    "df_sfg = df_comp_agn.query('agn_clsf_uk == \"SFG\"')\n",
    "df_unknown = df_comp_agn.query('agn_clsf_uk == \"unknown\"')"
   ]
  },
  {
   "cell_type": "code",
   "execution_count": 42,
   "id": "1b6c4407-2958-4de6-b493-ea6f0ce67a10",
   "metadata": {},
   "outputs": [],
   "source": [
    "sfg_s1 = np.array(df_sfg.query('category == \"stage1\"')['lp_mass_best'])\n",
    "sfg_s2 = np.array(df_sfg.query('category == \"stage2\"')['lp_mass_best'])\n",
    "sfg_s3 = np.array(df_sfg.query('category == \"stage3\"')['lp_mass_best'])\n",
    "sfg_s4 = np.array(df_sfg.query('category == \"stage4\"')['lp_mass_best'])\n",
    "\n",
    "agn_s1 = np.array(df_agn.query('category == \"stage1\"')['lp_mass_best'])\n",
    "agn_s2 = np.array(df_agn.query('category == \"stage2\"')['lp_mass_best'])\n",
    "agn_s3 = np.array(df_agn.query('category == \"stage3\"')['lp_mass_best'])\n",
    "agn_s4 = np.array(df_agn.query('category == \"stage4\"')['lp_mass_best'])\n",
    "\n",
    "unknown_s1 = np.array(df_unknown.query('category == \"stage1\"')['lp_mass_best'])\n",
    "unknown_s2 = np.array(df_unknown.query('category == \"stage2\"')['lp_mass_best'])\n",
    "unknown_s3 = np.array(df_unknown.query('category == \"stage3\"')['lp_mass_best'])\n",
    "unknown_s4 = np.array(df_unknown.query('category == \"stage4\"')['lp_mass_best'])"
   ]
  },
  {
   "cell_type": "code",
   "execution_count": 43,
   "id": "cc8b1f18-f6e7-4fa9-8cd3-6c8fb81717f8",
   "metadata": {},
   "outputs": [],
   "source": [
    "weights_sfg = weight_dist([sfg_s1, sfg_s2, sfg_s3, sfg_s4], compare=0, bins = 10, renorm = False, return_bins = False)"
   ]
  },
  {
   "cell_type": "code",
   "execution_count": 44,
   "id": "2eda3555-f4c3-4475-afa7-9191316f931a",
   "metadata": {},
   "outputs": [],
   "source": [
    "weights_unknown = weight_dist([unknown_s1, unknown_s2, unknown_s3, unknown_s4], compare=0, bins = 10, renorm = False, return_bins = False)"
   ]
  },
  {
   "cell_type": "code",
   "execution_count": 45,
   "id": "9300ac97-a588-4f9d-8e1f-6167c4669b81",
   "metadata": {},
   "outputs": [
    {
     "data": {
      "image/png": "[encoded data removed]",
      "text/plain": [
       "<Figure size 800x800 with 1 Axes>"
      ]
     },
     "metadata": {},
     "output_type": "display_data"
    }
   ],
   "source": [
    "fig, ax = plt.subplots(figsize = (8,8))\n",
    "\n",
    "ax.hist(sfg_s1, bins = 10, histtype='step', color='blue', weights=weights_sfg[0],density=True)\n",
    "ax.hist(sfg_s2, bins = 10, histtype='step', color='red', weights=weights_sfg[1],density=True)\n",
    "ax.hist(sfg_s3, bins = 10, histtype='step', color='green', weights=weights_sfg[2],density=True)\n",
    "ax.hist(sfg_s4, bins = 10, histtype='step', color='purple',weights=weights_sfg[3],density=True)\n",
    "\n",
    "plt.legend(['stage1','stage2','stage3','stage4'], loc='upper left')\n",
    "plt.xlim([6.5,12.5])\n",
    "plt.tick_params(left = False, labelleft=False)\n",
    "plt.xlabel('$\\log$(M$_*$(M$_\\odot$))', fontsize = 14)\n",
    "plt.ylabel('Weighted N Classifications', fontsize = 14)\n",
    "# plt.savefig(f'{fig_folder}/stellar-mass-dist.pdf', bbox_inches = 'tight')\n",
    "plt.show()"
   ]
  },
  {
   "cell_type": "code",
   "execution_count": 46,
   "id": "707c97f1-49a4-47f1-9de3-505ca7260a6a",
   "metadata": {},
   "outputs": [],
   "source": [
    "weights_agn = weight_dist([agn_s1, agn_s2, agn_s3, agn_s4], compare = 3, bins = 10, renorm = False, return_bins = False)"
   ]
  },
  {
   "cell_type": "code",
   "execution_count": 47,
   "id": "56505fe2-2c8e-4008-9e87-bbaee6dbefdc",
   "metadata": {},
   "outputs": [
    {
     "data": {
      "image/png": "[encoded data removed]",
      "text/plain": [
       "<Figure size 800x800 with 1 Axes>"
      ]
     },
     "metadata": {},
     "output_type": "display_data"
    }
   ],
   "source": [
    "fig, ax = plt.subplots(figsize = (8,8))\n",
    "\n",
    "ax.hist(agn_s1, bins = 10, histtype='step', color='blue', weights=weights_agn[0],density=True)\n",
    "ax.hist(agn_s2, bins = 10, histtype='step', color='red', weights=weights_agn[1],density=True)\n",
    "ax.hist(agn_s3, bins = 10, histtype='step', color='green', weights=weights_agn[2],density=True)\n",
    "ax.hist(agn_s4, bins = 10, histtype='step', color='purple',weights=weights_agn[3],density=True)\n",
    "\n",
    "plt.legend(['stage1','stage2','stage3','stage4'], loc='upper left')\n",
    "plt.xlim([6.5,12.5])\n",
    "plt.tick_params(left = False, labelleft=False)\n",
    "plt.xlabel('$\\log$(M$_*$(M$_\\odot$))', fontsize = 14)\n",
    "plt.ylabel('Weighted N Classifications', fontsize = 14)\n",
    "# plt.savefig(f'{fig_folder}/stellar-mass-dist.pdf', bbox_inches = 'tight')\n",
    "plt.show()"
   ]
  },
  {
   "cell_type": "code",
   "execution_count": 48,
   "id": "3e7a1f42-e754-4ef9-9f8e-7d729c63ea77",
   "metadata": {},
   "outputs": [],
   "source": [
    "def ks_weighted(arr1_all, arr2_all, w1_all, w2_all, return_dist=False):\n",
    "\n",
    "    '''\n",
    "    Given 2 arrays and their weights, returns Kolmogorov-Smirnov statistic and significance.\n",
    "\n",
    "    This differs from the usual K-S test in that it computes a weighted K-S statistic and\n",
    "    assumes the size of each sample is equal to the sum of the weights, not the length of\n",
    "    the array. It's not exactly standard statistical practice to do this, so use with \n",
    "    caution, but it doesn't seem like a completely ridiculous idea, either.\n",
    "\n",
    "        Parameters:\n",
    "            arr1_all   (array): a data sample with values to be weighted by w1_all\n",
    "            arr2_all   (array): a data sample with values to be weighted by w2_all\n",
    "            w1_all     (array): weights for arr1_all\n",
    "            w2_all     (array): weights for arr2_all\n",
    "            return_dist (bool): True if the array of all K-S distances should be returned,\n",
    "                                default is False (mostly only useful for debugging)\n",
    "\n",
    "            Note: the arrays should be np.array() but other data types based on that should\n",
    "                  work too, e.g. pd.Series, Astropy Table columns, etc. -- but if you get\n",
    "                  an error on those, wrap your inputs with np.array().\n",
    "\n",
    "        Returns:\n",
    "            ks:     the weighted, 2-sided K-S statistic\n",
    "            p_ks:   the p-value based on the weighted K-S statistic\n",
    "            sig_ks: the significance level (in sigma) assuming p-values are distributed Normally\n",
    "\n",
    "            if return_dist == True, also:\n",
    "                dist_arr: array of KS-distances in raw format (sorted by increasing data sample value)\n",
    "                          seriously this is not useful statistically, it's just for debugging\n",
    "\n",
    "    '''\n",
    "\n",
    "    # drop dead weight\n",
    "    arr1 = np.array(arr1_all[w1_all > 0.0])\n",
    "    arr2 = np.array(arr2_all[w2_all > 0.0])\n",
    "    w1   = np.array(  w1_all[w1_all > 0.0])\n",
    "    w2   = np.array(  w2_all[w2_all > 0.0])\n",
    "\n",
    "    # get effective lengths of the weighted arrays\n",
    "    n1 = np.sum(w1)\n",
    "    n2 = np.sum(w2)\n",
    " \n",
    "    # this is used below in the k-s calculation\n",
    "    # (weighted sample sizes)\n",
    "    ct = np.sqrt((n1+n2)/(n1*n2))\n",
    "\n",
    "    # we want to sort the arrays, and the weights\n",
    "    i1 = arr1.argsort()\n",
    "    i2 = arr2.argsort()\n",
    "\n",
    "    # sort arrays and weights in increasing order\n",
    "    arr1_s = np.array(arr1[i1])\n",
    "    w1_s   = np.array(  w1[i1])\n",
    "    arr2_s = np.array(arr2[i2])\n",
    "    w2_s   = np.array(  w2[i2])\n",
    "\n",
    "    # make combined arrays but track which element comes from what, then sort them again\n",
    "    both   = np.concatenate([arr1_s, arr2_s])\n",
    "    both_w = np.concatenate([  w1_s,   w2_s])\n",
    "    track  = np.concatenate([np.zeros(len(arr1_s), dtype=int), np.ones(len(arr2_s), dtype=int)])\n",
    "\n",
    "    i_both   = both.argsort()\n",
    "    both_s   = np.array(  both[i_both])\n",
    "    both_w_s = np.array(both_w[i_both])\n",
    "    track_s  = np.array( track[i_both])\n",
    "\n",
    "    # go through array, once, computing the distance as we go, and track the max distance between cumulative curves\n",
    "    # (which are both stored in the same array)\n",
    "    # both cumulative curves start at 0 so the distance starts at 0\n",
    "    # also cumulative curves always increase\n",
    "    the_dist = 0.0\n",
    "    dist_arr = np.zeros_like(both_s)\n",
    "    max_dist = 0.0\n",
    "    for j, this_which in enumerate(track_s):\n",
    "        # the key here is the distance between curves goes up if array A has a new value,\n",
    "        # and then if B has a new value that curve increases too so the curves get closer together\n",
    "        # (the distance goes down).\n",
    "        # it doesn't matter which is curve A and which is curve B, just that one increments \n",
    "        # and the other decrements.\n",
    "        # if we were doing a regular K-S without weights, each new value for a given array changes\n",
    "        # the distance between curves by 1 count. \n",
    "        # (with weighted, it only changes the distance by that object's weight.)\n",
    "        # And also, these are cumulative curves, so each curve is divided by the total counts in that array\n",
    "        # (which in the weighted case means the sum of the weights)\n",
    "        # as a check, the distances should start at 0 and end at 0 (because the cumulative fractional\n",
    "        # histograms both start at 0.0 and end at 1.0)\n",
    "        if this_which == 0:\n",
    "            the_dist += both_w_s[j]/n1\n",
    "        else:\n",
    "            the_dist -= both_w_s[j]/n2\n",
    "\n",
    "        dist_arr[j] = the_dist\n",
    "        if np.abs(the_dist) > max_dist:\n",
    "            max_dist = np.abs(the_dist) \n",
    "\n",
    "    # the max dist over the whole cumulative curves is the K-S distance\n",
    "    ks = max_dist\n",
    "    # p-value (which also cares about the sample sizes)\n",
    "    p_ks   = special.kolmogorov(float(ks)/float(ct))\n",
    "    # scipy.stats.ks_2samp uses this instead?\n",
    "    p_ksalt   = kstwobign.sf(((1./ct) + 0.12 + (0.11 * ct)) * ks)\n",
    "    #print(p_ksalt)\n",
    "\n",
    "    # what's the significance assuming a normal distribution? (1 = 1 sigma, 2. = 2 sigma, 3. = 3 sigma result etc.)\n",
    "    sig_ks = special.erfcinv(p_ks)*np.sqrt(2.)\n",
    "\n",
    "\n",
    "\n",
    "    if return_dist:\n",
    "        return ks, p_ks, sig_ks, dist_arr\n",
    "    else: \n",
    "        return ks, p_ks, sig_ks"
   ]
  },
  {
   "cell_type": "code",
   "execution_count": 49,
   "id": "9608590f-083b-4062-b24f-bf9d2c770856",
   "metadata": {},
   "outputs": [],
   "source": [
    "def weight_dist(arr1, arr2, bins=None, return_bins=True, renorm=False):\n",
    "    # this will take 2 arrays of values from 2 different samples\n",
    "    # e.g. redshift distributions from 2 samples\n",
    "    # and return weights for each value such that the weighted\n",
    "    # distributions of each sample will match.\n",
    "\n",
    "    # note the bins need to be the same for both datasets\n",
    "    # so either supply 1 number or 1 array of bin edges\n",
    "    # also if you have fully specified the bins you don't need them returned\n",
    "    # but if we've had to figure them out, you do need them returned\n",
    "    # if you want to make sure you aren't under-weighting (e.g. if a whole dataset is\n",
    "    # much larger than the other so you might always be able select >1 object\n",
    "    # in dataset 1 for each object in dataset 2) then you can re-normalise to make\n",
    "    # sure the max weight of both datasets is 1\n",
    "    # Note, if the distributions cross this won't make a difference\n",
    "\n",
    "    # weight arrays\n",
    "    w1 = np.zeros_like(arr1)\n",
    "    w2 = np.zeros_like(arr2)\n",
    "\n",
    "    # if bins not specified, guess at them ourselves\n",
    "    if bins is None:\n",
    "        minsize = np.amin([    len(arr1),     len(arr2)])\n",
    "        themin  = np.amin([np.amin(arr1), np.amin(arr2)])\n",
    "        themax  = np.amax([np.amax(arr1), np.amax(arr2)])\n",
    "\n",
    "        # on average 5 data points per bin, but at least 3 bins pls, max value is last bin edge\n",
    "        bins = np.linspace(themin, themax, int(np.amax([(minsize/5)+1, 3])), endpoint=True)\n",
    "\n",
    "    else:\n",
    "        pass\n",
    "        # because the np.histogram function can deal with distinguishing between number of bins or specific bins itself\n",
    "        # so we don't have to\n",
    "\n",
    "    hist1, thebins = np.histogram(arr1, bins=bins)  # returns (counts_arr, bins_arr)\n",
    "    # use the bins from hist1 to make hist2\n",
    "    # note: for these purposes, any values of hist2 outside the minmax range of hist1 should have 0 weight\n",
    "    # which is taken care of by the zeros_like initialisation of w1 and w2 above\n",
    "    # so it's fine for them to be excluded below\n",
    "    hist2, thebins = np.histogram(arr2, bins=thebins)\n",
    "\n",
    "    # now step through the bins and assign weights\n",
    "    for i_bin in range(len(thebins)-1):\n",
    "        # zero-\"index\"ing these because they're indices and not values\n",
    "        # and if I get them mixed up below I want this to error that there's no b2 or whatever\n",
    "        b0 = thebins[i_bin]\n",
    "        b1 = thebins[i_bin+1]\n",
    "\n",
    "        count1 = hist1[i_bin]\n",
    "        count2 = hist2[i_bin]\n",
    "\n",
    "        # don't miss any values and don't double-count\n",
    "        if i_bin == 0:\n",
    "            in_bin1 = (arr1 >= b0) & (arr1 <= b1)\n",
    "            in_bin2 = (arr2 >= b0) & (arr2 <= b1)\n",
    "        else: \n",
    "            in_bin1 = (arr1 >  b0) & (arr1 <= b1)\n",
    "            in_bin2 = (arr2 >  b0) & (arr2 <= b1)\n",
    "\n",
    "\n",
    "        # don't divide by 0 in the rest of the if/else\n",
    "        if (count1 == 0) | (count2 == 0):\n",
    "            w1[in_bin1] = 0.0\n",
    "            w2[in_bin2] = 0.0\n",
    "\n",
    "        elif count1 < count2:\n",
    "            # weight count2 values so the sum of wt2 in this bin equals count1\n",
    "            # wt_fac will always be < 1\n",
    "            wt_fac = float(count1)/float(count2)\n",
    "            w1[in_bin1] = 1.0\n",
    "            w2[in_bin2] = wt_fac\n",
    "\n",
    "        else:\n",
    "            # weight count1 values so the sum of wt1 in this bin equals count2\n",
    "            # wt_fac will always be <= 1\n",
    "            wt_fac = float(count2)/float(count1)\n",
    "            w1[in_bin1] = wt_fac\n",
    "            w2[in_bin2] = 1.0\n",
    "\n",
    "\n",
    "    # now the weights should be determined\n",
    "    # we can optionally re-normalise to make sure we are getting max value out of the datasets\n",
    "    if renorm:\n",
    "        if (np.sum(w1) > 0.00000) & (np.amax(w1) < 1.0):\n",
    "            w1 /= np.amax(w1)\n",
    "\n",
    "        if (np.sum(w2) > 0.00000) & (np.amax(w2) < 1.0):\n",
    "            w2 /= np.amax(w2)\n",
    "\n",
    "\n",
    "    if return_bins:\n",
    "        return w1, w2, thebins \n",
    "    else: \n",
    "        return w1, w2"
   ]
  },
  {
   "cell_type": "code",
   "execution_count": 50,
   "id": "36deaf85-c382-4bed-88da-b109e11f861b",
   "metadata": {},
   "outputs": [],
   "source": [
    "weights_s1, weights_s2= weight_dist(agn_s1, agn_s2, bins = 20, renorm = False, return_bins = False)\n",
    "weights_s1_s3, weights_s3 = weight_dist(agn_s1, agn_s3, bins = 20, renorm = False, return_bins = False)\n",
    "weights_s1_s4, weights_s4 = weight_dist(agn_s1, agn_s4, bins = 20, renorm = False, return_bins = False)"
   ]
  },
  {
   "cell_type": "code",
   "execution_count": 51,
   "id": "76a120df-1861-4e09-b0c3-7ee2285f27e6",
   "metadata": {},
   "outputs": [],
   "source": [
    "ks_m_12, p_ks_m_12, sig_ks_12 = ks_weighted(agn_s1, agn_s2, weights_s1, weights_s2, return_dist=False)\n",
    "ks_m_13, p_ks_m_13, sig_ks_13 = ks_weighted(agn_s1, agn_s3, weights_s1_s3, weights_s3, return_dist=False)\n",
    "ks_m_14, p_ks_m_14, sig_ks_14 = ks_weighted(agn_s1, agn_s4, weights_s1_s4, weights_s4, return_dist=False)"
   ]
  },
  {
   "cell_type": "code",
   "execution_count": 52,
   "id": "8f514b3e-9401-4797-91fe-9b2b751b52db",
   "metadata": {},
   "outputs": [],
   "source": [
    "weights_s2_s3, weights_s3 = weight_dist(agn_s2, agn_s3, bins = 20, renorm = False, return_bins = False)\n",
    "weights_s2_s4, weights_s4 = weight_dist(agn_s2, agn_s4, bins = 20, renorm = False, return_bins = False)"
   ]
  },
  {
   "cell_type": "code",
   "execution_count": 53,
   "id": "e351f6b4-7434-4716-b4f1-6d406798f65f",
   "metadata": {},
   "outputs": [],
   "source": [
    "ks_m_23, p_ks_m_23, sig_ks_23 = ks_weighted(agn_s2, agn_s3, weights_s2_s3, weights_s3, return_dist=False)\n",
    "ks_m_24, p_ks_m_24, sig_ks_24 = ks_weighted(agn_s2, agn_s4, weights_s2_s4, weights_s4, return_dist=False)"
   ]
  },
  {
   "cell_type": "code",
   "execution_count": 54,
   "id": "e64ad424-6d82-4548-b9c1-5d90a9aca1e8",
   "metadata": {},
   "outputs": [],
   "source": [
    "weights_s3_s4, weights_s4 = weight_dist(agn_s3, agn_s4, bins = 20, renorm = False, return_bins = False)"
   ]
  },
  {
   "cell_type": "code",
   "execution_count": 55,
   "id": "e18c6c20-ba0a-4032-8639-f8f830a0d231",
   "metadata": {},
   "outputs": [],
   "source": [
    "ks_m_34, p_ks_m_34, sig_ks_34 = ks_weighted(agn_s3, agn_s4, weights_s3_s4, weights_s4, return_dist=False)"
   ]
  },
  {
   "cell_type": "code",
   "execution_count": 56,
   "id": "6c9b89c7-8bae-4e28-a1c0-0ea7ecc94db8",
   "metadata": {},
   "outputs": [
    {
     "name": "stdout",
     "output_type": "stream",
     "text": [
      "KS Score Mass between stages 1 and 2 = 0.044444444444444425\n",
      "KS Score Mass between stages 1 and 3 = 0.0490196078431371\n",
      "KS Score Mass between stages 1 and 4 = 0.054054054054054126\n",
      "KS Score Mass between stages 2 and 3 = 0.03528225806451606\n",
      "KS Score Mass between stages 2 and 4 = 0.03846153846153833\n",
      "KS Score Mass between stages 3 and 4 = 0.06800000000000003\n",
      " \n",
      "KS-test p-value Mass between stages 1 and 2 = 0.999987856173127\n",
      "KS-test p-value Mass between stages 1 and 3 = 0.999695985716182\n",
      "KS-test p-value Mass between stages 1 and 4 = 0.9999156452788676\n",
      "KS-test p-value Mass between stages 2 and 3 = 0.9999989690030728\n",
      "KS-test p-value Mass between stages 2 and 4 = 0.9999999423679142\n",
      "KS-test p-value Mass between stages 3 and 4 = 0.9749003264660602\n",
      " \n",
      "KS-test significance Mass between stages 1 and 2 = 0.00010572296474154433\n",
      "KS-test significance Mass between stages 1 and 3 = 7.223110785897794e-08\n",
      "KS-test significance Mass between stages 1 and 4 = 0.03146296587192364\n",
      "KS-test significance Mass between stages 2 and 3 = 1.2921630243449766e-06\n",
      "KS-test significance Mass between stages 2 and 4 = 7.223110785897794e-08\n",
      "KS-test significance Mass between stages 3 and 4 = 0.03146296587192364\n"
     ]
    }
   ],
   "source": [
    "print(f'KS Score Mass between stages 1 and 2 = {ks_m_12}')\n",
    "print(f'KS Score Mass between stages 1 and 3 = {ks_m_13}')\n",
    "print(f'KS Score Mass between stages 1 and 4 = {ks_m_14}')\n",
    "print(f'KS Score Mass between stages 2 and 3 = {ks_m_23}')\n",
    "print(f'KS Score Mass between stages 2 and 4 = {ks_m_24}')\n",
    "print(f'KS Score Mass between stages 3 and 4 = {ks_m_34}')\n",
    "print(' ')\n",
    "print(f'KS-test p-value Mass between stages 1 and 2 = {p_ks_m_12}')\n",
    "print(f'KS-test p-value Mass between stages 1 and 3 = {p_ks_m_13}')\n",
    "print(f'KS-test p-value Mass between stages 1 and 4 = {p_ks_m_14}')\n",
    "print(f'KS-test p-value Mass between stages 2 and 3 = {p_ks_m_23}')\n",
    "print(f'KS-test p-value Mass between stages 2 and 4 = {p_ks_m_24}')\n",
    "print(f'KS-test p-value Mass between stages 3 and 4 = {p_ks_m_34}')\n",
    "print(' ')\n",
    "print(f'KS-test significance Mass between stages 1 and 2 = {sig_ks_14}')\n",
    "print(f'KS-test significance Mass between stages 1 and 3 = {sig_ks_24}')\n",
    "print(f'KS-test significance Mass between stages 1 and 4 = {sig_ks_34}')\n",
    "print(f'KS-test significance Mass between stages 2 and 3 = {sig_ks_23}')\n",
    "print(f'KS-test significance Mass between stages 2 and 4 = {sig_ks_24}')\n",
    "print(f'KS-test significance Mass between stages 3 and 4 = {sig_ks_34}')"
   ]
  },
  {
   "cell_type": "code",
   "execution_count": 57,
   "id": "70ad07f5-8819-46f7-8ee3-cfa66da0b46f",
   "metadata": {},
   "outputs": [],
   "source": [
    "sfg_s1 = np.array(df_sfg.query('category == \"stage1\"')['ez_sfr'])\n",
    "sfg_s2 = np.array(df_sfg.query('category == \"stage2\"')['ez_sfr'])\n",
    "sfg_s3 = np.array(df_sfg.query('category == \"stage3\"')['ez_sfr'])\n",
    "sfg_s4 = np.array(df_sfg.query('category == \"stage4\"')['ez_sfr'])\n",
    "\n",
    "agn_s1 = np.array(df_agn.query('category == \"stage1\"')['ez_sfr'])\n",
    "agn_s2 = np.array(df_agn.query('category == \"stage2\"')['ez_sfr'])\n",
    "agn_s3 = np.array(df_agn.query('category == \"stage3\"')['ez_sfr'])\n",
    "agn_s4 = np.array(df_agn.query('category == \"stage4\"')['ez_sfr'])"
   ]
  },
  {
   "cell_type": "code",
   "execution_count": 58,
   "id": "17ec2c8f-99e0-4cc1-bf0f-4f50cd4260bd",
   "metadata": {},
   "outputs": [],
   "source": [
    "# weights_sfg = weight_dist([sfg_s1, sfg_s2, sfg_s3, sfg_s4], compare=0, bins = 10, renorm = False, return_bins = False)"
   ]
  },
  {
   "cell_type": "code",
   "execution_count": 59,
   "id": "fe1c893b-4290-4af9-b4bb-880625c710a3",
   "metadata": {},
   "outputs": [
    {
     "data": {
      "image/png": "[encoded data removed]",
      "text/plain": [
       "<Figure size 800x800 with 1 Axes>"
      ]
     },
     "metadata": {},
     "output_type": "display_data"
    }
   ],
   "source": [
    "fig, ax = plt.subplots(figsize = (8,8))\n",
    "\n",
    "ax.hist(sfg_s1, bins = 10, histtype='step', color='blue', weights=weights_sfg[0],density=True)\n",
    "ax.hist(sfg_s2, bins = 10, histtype='step', color='red', weights=weights_sfg[1],density=True)\n",
    "ax.hist(sfg_s3, bins = 10, histtype='step', color='green', weights=weights_sfg[2],density=True)\n",
    "ax.hist(sfg_s4, bins = 10, histtype='step', color='purple',weights=weights_sfg[3],density=True)\n",
    "\n",
    "plt.legend(['stage1','stage2','stage3','stage4'], loc='upper left')\n",
    "plt.xlim([-3.5,3.5])\n",
    "plt.tick_params(left = False, labelleft=False)\n",
    "plt.xlabel('$\\log$(SFR$_*$(M$_\\odot$))', fontsize = 14)\n",
    "plt.ylabel('Weighted N Classifications', fontsize = 14)\n",
    "# plt.savefig(f'{fig_folder}/stellar-mass-dist.pdf', bbox_inches = 'tight')\n",
    "plt.show()"
   ]
  },
  {
   "cell_type": "code",
   "execution_count": 60,
   "id": "a34d4348-74f9-410e-8692-aa98b7c92ee3",
   "metadata": {},
   "outputs": [],
   "source": [
    "# weights_agn = weight_dist([agn_s1, agn_s2, agn_s3, agn_s4], compare = 3, bins = 10, renorm = False, return_bins = False)"
   ]
  },
  {
   "cell_type": "code",
   "execution_count": 61,
   "id": "3bba84a8-4db2-454d-8253-9ce8d8d0aea8",
   "metadata": {},
   "outputs": [
    {
     "data": {
      "image/png": "[encoded data removed]",
      "text/plain": [
       "<Figure size 800x800 with 1 Axes>"
      ]
     },
     "metadata": {},
     "output_type": "display_data"
    }
   ],
   "source": [
    "fig, ax = plt.subplots(figsize = (8,8))\n",
    "\n",
    "ax.hist(agn_s1, bins = 10, histtype='step', color='blue', weights=weights_agn[0],density=True)\n",
    "ax.hist(agn_s2, bins = 10, histtype='step', color='red', weights=weights_agn[1],density=True)\n",
    "ax.hist(agn_s3, bins = 10, histtype='step', color='green', weights=weights_agn[2],density=True)\n",
    "ax.hist(agn_s4, bins = 10, histtype='step', color='purple',weights=weights_agn[3],density=True)\n",
    "\n",
    "plt.legend(['stage1','stage2','stage3','stage4'], loc='upper left')\n",
    "plt.xlim([-3.5,3.5])\n",
    "plt.tick_params(left = False, labelleft=False)\n",
    "plt.xlabel('$\\log$(M$_*$(M$_\\odot$))', fontsize = 14)\n",
    "plt.ylabel('Weighted N Classifications', fontsize = 14)\n",
    "# plt.savefig(f'{fig_folder}/stellar-mass-dist.pdf', bbox_inches = 'tight')\n",
    "plt.show()"
   ]
  },
  {
   "cell_type": "markdown",
   "id": "0a61c33c-3422-4fa6-ac55-a7c6c820aebe",
   "metadata": {},
   "source": [
    "### AGN Fraction"
   ]
  },
  {
   "cell_type": "code",
   "execution_count": 62,
   "id": "432737b7-7d1b-42ba-852a-4ef7e278f84c",
   "metadata": {},
   "outputs": [
    {
     "data": {
      "text/plain": [
       "unknown    2790\n",
       "SFG         828\n",
       "AGN         534\n",
       "Name: agn_clsf_uk, dtype: int64"
      ]
     },
     "execution_count": 62,
     "metadata": {},
     "output_type": "execute_result"
    }
   ],
   "source": [
    "df_comp_agn.agn_clsf_uk.value_counts()"
   ]
  },
  {
   "cell_type": "code",
   "execution_count": 63,
   "id": "7a978d4f-5a80-4bbb-8493-9653e64525c3",
   "metadata": {},
   "outputs": [],
   "source": [
    "agn_n_weight_s1 = np.sum(weights_agn[0] * np.ones(len(agn_s1)))\n",
    "agn_n_weight_s2 = np.sum(weights_agn[1] * np.ones(len(agn_s2)))\n",
    "agn_n_weight_s3 = np.sum(weights_agn[2] * np.ones(len(agn_s3)))\n",
    "agn_n_weight_s4 = np.sum(weights_agn[3] * np.ones(len(agn_s4)))"
   ]
  },
  {
   "cell_type": "code",
   "execution_count": 64,
   "id": "1690cad8-8b4f-47dc-8eac-b0164c50aa7f",
   "metadata": {},
   "outputs": [],
   "source": [
    "sfg_n_weight_s1 = np.sum(weights_sfg[0] * np.ones(len(sfg_s1)))\n",
    "sfg_n_weight_s2 = np.sum(weights_sfg[1] * np.ones(len(sfg_s2)))\n",
    "sfg_n_weight_s3 = np.sum(weights_sfg[2] * np.ones(len(sfg_s3)))\n",
    "sfg_n_weight_s4 = np.sum(weights_sfg[3] * np.ones(len(sfg_s4)))"
   ]
  },
  {
   "cell_type": "code",
   "execution_count": 65,
   "id": "ae903f9c-0555-40ce-bdcd-738d5365ba3e",
   "metadata": {},
   "outputs": [],
   "source": [
    "unknown_n_weight_s1 = np.sum(weights_unknown[0] * np.ones(len(unknown_s1)))\n",
    "unknown_n_weight_s2 = np.sum(weights_unknown[1] * np.ones(len(unknown_s2)))\n",
    "unknown_n_weight_s3 = np.sum(weights_unknown[2] * np.ones(len(unknown_s3)))\n",
    "unknown_n_weight_s4 = np.sum(weights_unknown[3] * np.ones(len(unknown_s4)))"
   ]
  },
  {
   "cell_type": "code",
   "execution_count": 141,
   "id": "d84bda10-ee30-4d9f-ba39-a838852831c7",
   "metadata": {},
   "outputs": [
    {
     "data": {
      "text/plain": [
       "[0.12187499999999996]"
      ]
     },
     "execution_count": 141,
     "metadata": {},
     "output_type": "execute_result"
    }
   ],
   "source": [
    "fraction_list = []\n",
    "fraction_list.append(agn_n_weight_s1 / (agn_n_weight_s1 + sfg_n_weight_s1 + unknown_n_weight_s1))\n",
    "fraction_list"
   ]
  },
  {
   "cell_type": "code",
   "execution_count": 142,
   "id": "55deea93-59b0-4760-81ee-df08b702fd72",
   "metadata": {},
   "outputs": [],
   "source": [
    "fraction_list.append(agn_n_weight_s2 / (agn_n_weight_s2 + sfg_n_weight_s2 + unknown_n_weight_s2))"
   ]
  },
  {
   "cell_type": "code",
   "execution_count": 143,
   "id": "e59c8480-92ef-4272-ab6f-ac2c5f4c472a",
   "metadata": {},
   "outputs": [],
   "source": [
    "fraction_list.append(agn_n_weight_s3 / (agn_n_weight_s3 + sfg_n_weight_s3 + unknown_n_weight_s3))"
   ]
  },
  {
   "cell_type": "code",
   "execution_count": 144,
   "id": "5585cadc-9773-4e8c-a4de-98c38ee2f6ef",
   "metadata": {},
   "outputs": [],
   "source": [
    "fraction_list.append(agn_n_weight_s4 / (agn_n_weight_s4 + sfg_n_weight_s4 + unknown_n_weight_s4))"
   ]
  },
  {
   "cell_type": "code",
   "execution_count": 145,
   "id": "61fd5f9f-9468-491c-856d-27aa19a1194a",
   "metadata": {},
   "outputs": [
    {
     "data": {
      "text/plain": [
       "[0.12187499999999996,\n",
       " 0.11994949494949494,\n",
       " 0.12029161603888212,\n",
       " 0.14977307110438728]"
      ]
     },
     "execution_count": 145,
     "metadata": {},
     "output_type": "execute_result"
    }
   ],
   "source": [
    "fraction_list"
   ]
  },
  {
   "cell_type": "markdown",
   "id": "23a0c557-ad84-472a-a006-e3b9ca25eca3",
   "metadata": {},
   "source": [
    "### Calculating the Errors"
   ]
  },
  {
   "cell_type": "code",
   "execution_count": 146,
   "id": "9421d74a-32ea-49de-8cee-c541b64feee0",
   "metadata": {},
   "outputs": [],
   "source": [
    "frac_successful_counts = agn_n_weight_s1# + sfg_n_weight_s1 + unknown_n_weight_s1\n",
    "total_sample = len(agn_s1) #+ len(sfg_s1) + len(unknown_s1)"
   ]
  },
  {
   "cell_type": "code",
   "execution_count": 147,
   "id": "7d1874c9-6705-42f7-806e-1d67cbd8d0d3",
   "metadata": {},
   "outputs": [],
   "source": [
    "def lower_beta(c, k, n):\n",
    "    return dist.beta.ppf((1-c) / 2, k+1, n-k+1)"
   ]
  },
  {
   "cell_type": "code",
   "execution_count": 148,
   "id": "09c3f925-9f9e-408d-9dac-308efefc1e85",
   "metadata": {},
   "outputs": [],
   "source": [
    "def upper_beta(c,k,n):\n",
    "    return dist.beta.ppf(1-(1-c)/2, k+1, n-k+1)"
   ]
  },
  {
   "cell_type": "code",
   "execution_count": 149,
   "id": "965a382e-dc49-4071-af86-3e0b79e840ac",
   "metadata": {},
   "outputs": [],
   "source": [
    "c = 0.683\n",
    "k = agn_n_weight_s1\n",
    "n = (agn_n_weight_s1 + sfg_n_weight_s1 + unknown_n_weight_s1)"
   ]
  },
  {
   "cell_type": "code",
   "execution_count": 150,
   "id": "e439a717-0e2b-4d23-a251-3bfd46cdf244",
   "metadata": {},
   "outputs": [],
   "source": [
    "upper_p = upper_beta(c, k, n)\n",
    "lower_p = lower_beta(c, k, n)"
   ]
  },
  {
   "cell_type": "code",
   "execution_count": 151,
   "id": "89ace01c-bd9b-4f14-9bd6-68e91ace64dd",
   "metadata": {},
   "outputs": [
    {
     "data": {
      "text/plain": [
       "0.13600923503993448"
      ]
     },
     "execution_count": 151,
     "metadata": {},
     "output_type": "execute_result"
    }
   ],
   "source": [
    "upper_p"
   ]
  },
  {
   "cell_type": "code",
   "execution_count": 152,
   "id": "aac568db-b11f-4d92-8f17-aea68f4ed15a",
   "metadata": {},
   "outputs": [
    {
     "data": {
      "text/plain": [
       "0.11009856567108002"
      ]
     },
     "execution_count": 152,
     "metadata": {},
     "output_type": "execute_result"
    }
   ],
   "source": [
    "lower_p"
   ]
  },
  {
   "cell_type": "code",
   "execution_count": 154,
   "id": "865a0428-e717-488f-8e4d-abb3cfc11e79",
   "metadata": {},
   "outputs": [],
   "source": [
    "error_list = []\n",
    "c = 0.683\n",
    "\n",
    "k = agn_n_weight_s1\n",
    "n = (agn_n_weight_s1 + sfg_n_weight_s1 + unknown_n_weight_s1)\n",
    "upper_p = upper_beta(c, k, n)\n",
    "lower_p = lower_beta(c,k,n)\n",
    "error_list.append([fraction_list[0] - lower_p, upper_p - fraction_list[0]])\n",
    "\n",
    "k = agn_n_weight_s2\n",
    "n = (agn_n_weight_s2 + sfg_n_weight_s2 + unknown_n_weight_s2)\n",
    "upper_p = upper_beta(c, k, n)\n",
    "lower_p = lower_beta(c,k,n)\n",
    "error_list.append([fraction_list[1] - lower_p, upper_p - fraction_list[1]])\n",
    "\n",
    "k = agn_n_weight_s3\n",
    "n = (agn_n_weight_s3 + sfg_n_weight_s3 + unknown_n_weight_s3)\n",
    "upper_p = upper_beta(c, k, n)\n",
    "lower_p = lower_beta(c,k,n)\n",
    "error_list.append([fraction_list[2] - lower_p, upper_p - fraction_list[2]])\n",
    "\n",
    "k = agn_n_weight_s4\n",
    "n = (agn_n_weight_s4 + sfg_n_weight_s4 + unknown_n_weight_s4)\n",
    "upper_p = upper_beta(c, k, n)\n",
    "lower_p = lower_beta(c,k,n)\n",
    "error_list.append([fraction_list[3] - lower_p, upper_p - fraction_list[3]])"
   ]
  },
  {
   "cell_type": "code",
   "execution_count": 165,
   "id": "3c688c12-c32c-42f3-b7bb-144058a583a2",
   "metadata": {},
   "outputs": [],
   "source": [
    "error_array = np.asarray(error_list).T"
   ]
  },
  {
   "cell_type": "code",
   "execution_count": 166,
   "id": "0c65b6dc-c683-490c-928d-acc7f14da0ef",
   "metadata": {},
   "outputs": [],
   "source": [
    "x = ['Separated', 'Pericentre', 'Apocentre','Merging']"
   ]
  },
  {
   "cell_type": "code",
   "execution_count": 167,
   "id": "d61f1509-2aeb-436b-8fe2-d877ca0194a6",
   "metadata": {},
   "outputs": [
    {
     "data": {
      "text/plain": [
       "[0.12187499999999996,\n",
       " 0.11994949494949494,\n",
       " 0.12029161603888212,\n",
       " 0.14977307110438728]"
      ]
     },
     "execution_count": 167,
     "metadata": {},
     "output_type": "execute_result"
    }
   ],
   "source": [
    "fraction_list"
   ]
  },
  {
   "cell_type": "code",
   "execution_count": 176,
   "id": "01fed0ee-673c-4537-8349-50c40512a465",
   "metadata": {},
   "outputs": [
    {
     "data": {
      "image/png": "[encoded data removed]",
      "text/plain": [
       "<Figure size 600x600 with 1 Axes>"
      ]
     },
     "metadata": {},
     "output_type": "display_data"
    }
   ],
   "source": [
    "plt.figure(figsize = (6,6))\n",
    "plt.axhline(0.12, color = 'gray', linestyle = '--')\n",
    "plt.scatter(x, fraction_list, color = 'black', s = 40, marker = 'x')\n",
    "plt.errorbar(x, fraction_list, color = 'black', yerr = error_array, alpha = 0.75, linestyle = '--', capsize = 3.5)\n",
    "plt.plot(x, fraction_list, color='black', linestyle='--')\n",
    "plt.ylabel('Weighted AGN Fraction (N$_{AGN}$ / N$_{stage}$)')\n",
    "plt.ylim([0.105,0.17])\n",
    "plt.savefig(f'{fig_folder}/agn-frac-time.pdf', bbox_inches = 'tight')\n",
    "plt.show()"
   ]
  },
  {
   "cell_type": "markdown",
   "id": "a85b8246-7af6-4fad-89a1-aa3fc1e0fd69",
   "metadata": {},
   "source": [
    "Do see a general increase in the AGN fraction with stage, although stage 1 is way too high. Will need to look into on Sunday."
   ]
  },
  {
   "cell_type": "code",
   "execution_count": 172,
   "id": "88d99db3-50b0-4628-9dbe-f19b2c608cd3",
   "metadata": {},
   "outputs": [
    {
     "data": {
      "text/plain": [
       "[0.12187499999999996,\n",
       " 0.11994949494949494,\n",
       " 0.12029161603888212,\n",
       " 0.14977307110438728]"
      ]
     },
     "execution_count": 172,
     "metadata": {},
     "output_type": "execute_result"
    }
   ],
   "source": [
    "fraction_list"
   ]
  },
  {
   "cell_type": "code",
   "execution_count": 51,
   "id": "4028dbcd-81de-4731-b817-8caa5c49fd75",
   "metadata": {},
   "outputs": [
    {
     "data": {
      "text/plain": [
       "Unknown    615\n",
       "SFG        135\n",
       "AGN        103\n",
       "Name: agn_clsf_uk, dtype: int64"
      ]
     },
     "execution_count": 51,
     "metadata": {},
     "output_type": "execute_result"
    }
   ],
   "source": [
    "df_comp_agn.query('category == \"stage1\"').agn_clsf_uk.value_counts()"
   ]
  },
  {
   "cell_type": "code",
   "execution_count": 52,
   "id": "d7d06b6a-276c-4cc0-b11c-abeb42dc9743",
   "metadata": {},
   "outputs": [
    {
     "data": {
      "text/plain": [
       "Unknown    710\n",
       "SFG        212\n",
       "AGN        117\n",
       "Name: agn_clsf_uk, dtype: int64"
      ]
     },
     "execution_count": 52,
     "metadata": {},
     "output_type": "execute_result"
    }
   ],
   "source": [
    "df_comp_agn.query('category == \"stage2\"').agn_clsf_uk.value_counts()"
   ]
  },
  {
   "cell_type": "code",
   "execution_count": 53,
   "id": "1935e27d-554d-4cf3-8bea-3b4fede34693",
   "metadata": {},
   "outputs": [
    {
     "data": {
      "text/plain": [
       "Unknown    1010\n",
       "SFG         337\n",
       "AGN         163\n",
       "Name: agn_clsf_uk, dtype: int64"
      ]
     },
     "execution_count": 53,
     "metadata": {},
     "output_type": "execute_result"
    }
   ],
   "source": [
    "df_comp_agn.query('category == \"stage3\"').agn_clsf_uk.value_counts()"
   ]
  },
  {
   "cell_type": "code",
   "execution_count": 54,
   "id": "c65d68ef-ccae-4cac-af80-55d715b18027",
   "metadata": {},
   "outputs": [
    {
     "data": {
      "text/plain": [
       "Unknown    456\n",
       "SFG        199\n",
       "AGN         95\n",
       "Name: agn_clsf_uk, dtype: int64"
      ]
     },
     "execution_count": 54,
     "metadata": {},
     "output_type": "execute_result"
    }
   ],
   "source": [
    "df_comp_agn.query('category == \"stage4\"').agn_clsf_uk.value_counts()"
   ]
  },
  {
   "cell_type": "code",
   "execution_count": null,
   "id": "2879927a-f292-4961-b70c-f0fd756e7c6b",
   "metadata": {},
   "outputs": [],
   "source": []
  },
  {
   "cell_type": "markdown",
   "id": "b1971bc9-cf3a-401a-8b60-8a011822bb9f",
   "metadata": {},
   "source": [
    "## AGN With Pairs"
   ]
  },
  {
   "cell_type": "code",
   "execution_count": 217,
   "id": "1b67eea2-eda0-4c97-a008-7552905a4fc0",
   "metadata": {},
   "outputs": [
    {
     "data": {
      "text/html": [
       "<div>\n",
       "<style scoped>\n",
       "    .dataframe tbody tr th:only-of-type {\n",
       "        vertical-align: middle;\n",
       "    }\n",
       "\n",
       "    .dataframe tbody tr th {\n",
       "        vertical-align: top;\n",
       "    }\n",
       "\n",
       "    .dataframe thead th {\n",
       "        text-align: right;\n",
       "    }\n",
       "</style>\n",
       "<table border=\"1\" class=\"dataframe\">\n",
       "  <thead>\n",
       "    <tr style=\"text-align: right;\">\n",
       "      <th></th>\n",
       "      <th>ID</th>\n",
       "      <th>category</th>\n",
       "      <th>ez_sfr</th>\n",
       "      <th>lp_mass_best</th>\n",
       "      <th>redshift</th>\n",
       "      <th>ms_sfr</th>\n",
       "      <th>sfr_sfr_ms</th>\n",
       "      <th>agn_clsf_uk</th>\n",
       "    </tr>\n",
       "  </thead>\n",
       "  <tbody>\n",
       "    <tr>\n",
       "      <th>0</th>\n",
       "      <td>816891</td>\n",
       "      <td>stage4</td>\n",
       "      <td>0.589695</td>\n",
       "      <td>9.28590</td>\n",
       "      <td>0.519525</td>\n",
       "      <td>-0.006678</td>\n",
       "      <td>0.596373</td>\n",
       "      <td>Unknown</td>\n",
       "    </tr>\n",
       "    <tr>\n",
       "      <th>1</th>\n",
       "      <td>860686</td>\n",
       "      <td>stage3</td>\n",
       "      <td>1.609304</td>\n",
       "      <td>10.44862</td>\n",
       "      <td>1.124400</td>\n",
       "      <td>1.306298</td>\n",
       "      <td>0.303006</td>\n",
       "      <td>Unknown</td>\n",
       "    </tr>\n",
       "    <tr>\n",
       "      <th>2</th>\n",
       "      <td>1301188</td>\n",
       "      <td>stage2</td>\n",
       "      <td>-0.987761</td>\n",
       "      <td>8.72372</td>\n",
       "      <td>0.230293</td>\n",
       "      <td>-0.704448</td>\n",
       "      <td>-0.283313</td>\n",
       "      <td>Unknown</td>\n",
       "    </tr>\n",
       "    <tr>\n",
       "      <th>3</th>\n",
       "      <td>1304538</td>\n",
       "      <td>stage3</td>\n",
       "      <td>1.101499</td>\n",
       "      <td>9.96798</td>\n",
       "      <td>1.024009</td>\n",
       "      <td>0.878992</td>\n",
       "      <td>0.222507</td>\n",
       "      <td>Unknown</td>\n",
       "    </tr>\n",
       "    <tr>\n",
       "      <th>4</th>\n",
       "      <td>1310001</td>\n",
       "      <td>stage3</td>\n",
       "      <td>1.083541</td>\n",
       "      <td>10.41827</td>\n",
       "      <td>0.486400</td>\n",
       "      <td>0.825686</td>\n",
       "      <td>0.257855</td>\n",
       "      <td>Unknown</td>\n",
       "    </tr>\n",
       "  </tbody>\n",
       "</table>\n",
       "</div>"
      ],
      "text/plain": [
       "        ID category    ez_sfr  lp_mass_best  redshift    ms_sfr  sfr_sfr_ms  \\\n",
       "0   816891   stage4  0.589695       9.28590  0.519525 -0.006678    0.596373   \n",
       "1   860686   stage3  1.609304      10.44862  1.124400  1.306298    0.303006   \n",
       "2  1301188   stage2 -0.987761       8.72372  0.230293 -0.704448   -0.283313   \n",
       "3  1304538   stage3  1.101499       9.96798  1.024009  0.878992    0.222507   \n",
       "4  1310001   stage3  1.083541      10.41827  0.486400  0.825686    0.257855   \n",
       "\n",
       "  agn_clsf_uk  \n",
       "0     Unknown  \n",
       "1     Unknown  \n",
       "2     Unknown  \n",
       "3     Unknown  \n",
       "4     Unknown  "
      ]
     },
     "execution_count": 217,
     "metadata": {},
     "output_type": "execute_result"
    }
   ],
   "source": [
    "df_comp_agn.head()"
   ]
  },
  {
   "cell_type": "code",
   "execution_count": 213,
   "id": "607eae1f-5485-49de-bc66-33da08a3d656",
   "metadata": {},
   "outputs": [],
   "source": [
    "df_pairs = pd.read_csv(f'{combine_fold}/primary-secondary-z-checked.csv', index_col = 0)"
   ]
  },
  {
   "cell_type": "code",
   "execution_count": 233,
   "id": "c4f1ea68-9577-4991-9f2f-1d2f512369eb",
   "metadata": {},
   "outputs": [],
   "source": [
    "def calc_seps(prim_ra, prim_dec, sec_ra, sec_dec, z1, z2, cosmo):\n",
    "    z = (z1 + z2) / 2\n",
    "    \n",
    "    prim_coord = SkyCoord(ra = prim_ra * u.deg, dec = prim_dec * u.deg, frame = 'fk5')\n",
    "    sec_coord = SkyCoord(ra = sec_ra * u.deg, dec = sec_dec * u.deg, frame = 'fk5')\n",
    "    \n",
    "    sep = (prim_coord.separation(sec_coord)).to(u.arcmin)\n",
    "    \n",
    "    conversion = cosmo.kpc_proper_per_arcmin(z)\n",
    "    \n",
    "    proj_dist = (sep * conversion) / u.kpc\n",
    "    \n",
    "    return proj_dist"
   ]
  },
  {
   "cell_type": "code",
   "execution_count": 234,
   "id": "993f3a1e-6e6c-4115-af9e-2624af7dbf7d",
   "metadata": {},
   "outputs": [],
   "source": [
    "cosmo = FlatLambdaCDM(H0=70.0 * u.km / (u.Mpc * u.s), Om0=0.3, Tcmb0=2.725 * u.K)"
   ]
  },
  {
   "cell_type": "code",
   "execution_count": 237,
   "id": "14526164-9386-43e3-9f4e-4194e4d1dd32",
   "metadata": {},
   "outputs": [],
   "source": [
    "df_projs = df_pairs.assign(proj_seps = df_pairs.apply(lambda row: calc_seps(row.Prim_RA, row.Prim_Dec, row.Sec_RA, row.Sec_Dec, row.z_prim, row.z_sec, cosmo), axis = 1))"
   ]
  },
  {
   "cell_type": "code",
   "execution_count": 238,
   "id": "067eeb4c-5199-4366-bb10-5633c534c825",
   "metadata": {},
   "outputs": [],
   "source": [
    "df_prim = df_projs[['ORyan23_ID_1', 'ID_Prim', 'prim_cat', 'proj_seps']]\n",
    "df_sec = df_projs[['ORyan23_ID_2', 'ID_Sec', 'sec_cat', 'proj_seps']]"
   ]
  },
  {
   "cell_type": "code",
   "execution_count": 239,
   "id": "bd38b835-d940-4b6e-8c3f-68db57b2106f",
   "metadata": {},
   "outputs": [],
   "source": [
    "df_prim_merge = (\n",
    "    df_prim\n",
    "    .merge(df_comp_agn[['ID', 'agn_clsf_uk']], left_on = 'ID_Prim', right_on = 'ID')\n",
    ")"
   ]
  },
  {
   "cell_type": "code",
   "execution_count": 240,
   "id": "e77853b2-bd4c-404b-a3ca-c68b29f6ff92",
   "metadata": {},
   "outputs": [
    {
     "data": {
      "text/plain": [
       "Unknown    342\n",
       "SFG         85\n",
       "AGN         53\n",
       "Name: agn_clsf_uk, dtype: int64"
      ]
     },
     "execution_count": 240,
     "metadata": {},
     "output_type": "execute_result"
    }
   ],
   "source": [
    "df_prim_merge.agn_clsf_uk.value_counts()"
   ]
  },
  {
   "cell_type": "code",
   "execution_count": 241,
   "id": "51c8a8f3-02c0-4877-b5bc-f709eea7f3f0",
   "metadata": {},
   "outputs": [],
   "source": [
    "df_sec_merge = (\n",
    "    df_sec\n",
    "    .merge(df_comp_agn[['ID', 'agn_clsf_uk']], left_on = 'ID_Sec', right_on = 'ID')\n",
    ")"
   ]
  },
  {
   "cell_type": "code",
   "execution_count": 242,
   "id": "f73aa3e2-aded-486d-87b6-50ccde59358c",
   "metadata": {},
   "outputs": [
    {
     "data": {
      "text/plain": [
       "Unknown    334\n",
       "SFG         95\n",
       "AGN         51\n",
       "Name: agn_clsf_uk, dtype: int64"
      ]
     },
     "execution_count": 242,
     "metadata": {},
     "output_type": "execute_result"
    }
   ],
   "source": [
    "df_sec_merge.agn_clsf_uk.value_counts()"
   ]
  },
  {
   "cell_type": "code",
   "execution_count": 243,
   "id": "7207bda4-c7e1-4c31-950f-6d415352496b",
   "metadata": {},
   "outputs": [
    {
     "data": {
      "text/html": [
       "<div>\n",
       "<style scoped>\n",
       "    .dataframe tbody tr th:only-of-type {\n",
       "        vertical-align: middle;\n",
       "    }\n",
       "\n",
       "    .dataframe tbody tr th {\n",
       "        vertical-align: top;\n",
       "    }\n",
       "\n",
       "    .dataframe thead th {\n",
       "        text-align: right;\n",
       "    }\n",
       "</style>\n",
       "<table border=\"1\" class=\"dataframe\">\n",
       "  <thead>\n",
       "    <tr style=\"text-align: right;\">\n",
       "      <th></th>\n",
       "      <th>ORyan23_ID_2</th>\n",
       "      <th>ID_Sec</th>\n",
       "      <th>sec_cat</th>\n",
       "      <th>proj_seps</th>\n",
       "      <th>ID</th>\n",
       "      <th>agn_clsf_uk</th>\n",
       "    </tr>\n",
       "  </thead>\n",
       "  <tbody>\n",
       "    <tr>\n",
       "      <th>0</th>\n",
       "      <td>4000705540519</td>\n",
       "      <td>1324712</td>\n",
       "      <td>stage1</td>\n",
       "      <td>49.543740945015266</td>\n",
       "      <td>1324712</td>\n",
       "      <td>Unknown</td>\n",
       "    </tr>\n",
       "    <tr>\n",
       "      <th>1</th>\n",
       "      <td>4000705547180</td>\n",
       "      <td>1264241</td>\n",
       "      <td>stage1</td>\n",
       "      <td>75.6709695405294</td>\n",
       "      <td>1264241</td>\n",
       "      <td>SFG</td>\n",
       "    </tr>\n",
       "    <tr>\n",
       "      <th>2</th>\n",
       "      <td>4000706649921</td>\n",
       "      <td>844303</td>\n",
       "      <td>stage3</td>\n",
       "      <td>93.82062595743643</td>\n",
       "      <td>844303</td>\n",
       "      <td>AGN</td>\n",
       "    </tr>\n",
       "    <tr>\n",
       "      <th>3</th>\n",
       "      <td>4000707046655</td>\n",
       "      <td>219965</td>\n",
       "      <td>stage1</td>\n",
       "      <td>33.04839003744863</td>\n",
       "      <td>219965</td>\n",
       "      <td>AGN</td>\n",
       "    </tr>\n",
       "    <tr>\n",
       "      <th>4</th>\n",
       "      <td>4000707047768</td>\n",
       "      <td>246327</td>\n",
       "      <td>stage1</td>\n",
       "      <td>36.84827401550911</td>\n",
       "      <td>246327</td>\n",
       "      <td>Unknown</td>\n",
       "    </tr>\n",
       "  </tbody>\n",
       "</table>\n",
       "</div>"
      ],
      "text/plain": [
       "    ORyan23_ID_2   ID_Sec sec_cat           proj_seps       ID agn_clsf_uk\n",
       "0  4000705540519  1324712  stage1  49.543740945015266  1324712     Unknown\n",
       "1  4000705547180  1264241  stage1    75.6709695405294  1264241         SFG\n",
       "2  4000706649921   844303  stage3   93.82062595743643   844303         AGN\n",
       "3  4000707046655   219965  stage1   33.04839003744863   219965         AGN\n",
       "4  4000707047768   246327  stage1   36.84827401550911   246327     Unknown"
      ]
     },
     "execution_count": 243,
     "metadata": {},
     "output_type": "execute_result"
    }
   ],
   "source": [
    "df_sec_merge.head()"
   ]
  },
  {
   "cell_type": "code",
   "execution_count": 244,
   "id": "c06bc624-3927-41f6-a8a5-d10ea1d9aa72",
   "metadata": {},
   "outputs": [],
   "source": [
    "df_agn_clsf_merged = (\n",
    "    df_prim_merge\n",
    "    .merge(df_sec_merge, left_on = 'ORyan23_ID_1', right_on = 'ORyan23_ID_2', how = 'left')\n",
    ")"
   ]
  },
  {
   "cell_type": "code",
   "execution_count": 245,
   "id": "7b69bd84-ce2f-4aae-85f4-73a42519de70",
   "metadata": {},
   "outputs": [
    {
     "data": {
      "text/html": [
       "<div>\n",
       "<style scoped>\n",
       "    .dataframe tbody tr th:only-of-type {\n",
       "        vertical-align: middle;\n",
       "    }\n",
       "\n",
       "    .dataframe tbody tr th {\n",
       "        vertical-align: top;\n",
       "    }\n",
       "\n",
       "    .dataframe thead th {\n",
       "        text-align: right;\n",
       "    }\n",
       "</style>\n",
       "<table border=\"1\" class=\"dataframe\">\n",
       "  <thead>\n",
       "    <tr style=\"text-align: right;\">\n",
       "      <th></th>\n",
       "      <th>ORyan23_ID_1</th>\n",
       "      <th>ID_Prim</th>\n",
       "      <th>prim_cat</th>\n",
       "      <th>proj_seps_x</th>\n",
       "      <th>ID_x</th>\n",
       "      <th>agn_clsf_uk_x</th>\n",
       "      <th>ORyan23_ID_2</th>\n",
       "      <th>ID_Sec</th>\n",
       "      <th>sec_cat</th>\n",
       "      <th>proj_seps_y</th>\n",
       "      <th>ID_y</th>\n",
       "      <th>agn_clsf_uk_y</th>\n",
       "    </tr>\n",
       "  </thead>\n",
       "  <tbody>\n",
       "    <tr>\n",
       "      <th>0</th>\n",
       "      <td>4000705540519</td>\n",
       "      <td>1324784</td>\n",
       "      <td>stage1</td>\n",
       "      <td>49.543740945015266</td>\n",
       "      <td>1324784</td>\n",
       "      <td>Unknown</td>\n",
       "      <td>4000705540519</td>\n",
       "      <td>1324712</td>\n",
       "      <td>stage1</td>\n",
       "      <td>49.543740945015266</td>\n",
       "      <td>1324712</td>\n",
       "      <td>Unknown</td>\n",
       "    </tr>\n",
       "    <tr>\n",
       "      <th>1</th>\n",
       "      <td>4000705547180</td>\n",
       "      <td>1266054</td>\n",
       "      <td>stage1</td>\n",
       "      <td>75.6709695405294</td>\n",
       "      <td>1266054</td>\n",
       "      <td>SFG</td>\n",
       "      <td>4000705547180</td>\n",
       "      <td>1264241</td>\n",
       "      <td>stage1</td>\n",
       "      <td>75.6709695405294</td>\n",
       "      <td>1264241</td>\n",
       "      <td>SFG</td>\n",
       "    </tr>\n",
       "    <tr>\n",
       "      <th>2</th>\n",
       "      <td>4000706649921</td>\n",
       "      <td>840582</td>\n",
       "      <td>stage3</td>\n",
       "      <td>93.82062595743643</td>\n",
       "      <td>840582</td>\n",
       "      <td>Unknown</td>\n",
       "      <td>4000706649921</td>\n",
       "      <td>844303</td>\n",
       "      <td>stage3</td>\n",
       "      <td>93.82062595743643</td>\n",
       "      <td>844303</td>\n",
       "      <td>AGN</td>\n",
       "    </tr>\n",
       "    <tr>\n",
       "      <th>3</th>\n",
       "      <td>4000707046655</td>\n",
       "      <td>214433</td>\n",
       "      <td>stage1</td>\n",
       "      <td>33.04839003744863</td>\n",
       "      <td>214433</td>\n",
       "      <td>Unknown</td>\n",
       "      <td>4000707046655</td>\n",
       "      <td>219965</td>\n",
       "      <td>stage1</td>\n",
       "      <td>33.04839003744863</td>\n",
       "      <td>219965</td>\n",
       "      <td>AGN</td>\n",
       "    </tr>\n",
       "    <tr>\n",
       "      <th>4</th>\n",
       "      <td>4000707047768</td>\n",
       "      <td>246358</td>\n",
       "      <td>stage1</td>\n",
       "      <td>36.84827401550911</td>\n",
       "      <td>246358</td>\n",
       "      <td>Unknown</td>\n",
       "      <td>4000707047768</td>\n",
       "      <td>246327</td>\n",
       "      <td>stage1</td>\n",
       "      <td>36.84827401550911</td>\n",
       "      <td>246327</td>\n",
       "      <td>Unknown</td>\n",
       "    </tr>\n",
       "    <tr>\n",
       "      <th>...</th>\n",
       "      <td>...</td>\n",
       "      <td>...</td>\n",
       "      <td>...</td>\n",
       "      <td>...</td>\n",
       "      <td>...</td>\n",
       "      <td>...</td>\n",
       "      <td>...</td>\n",
       "      <td>...</td>\n",
       "      <td>...</td>\n",
       "      <td>...</td>\n",
       "      <td>...</td>\n",
       "      <td>...</td>\n",
       "    </tr>\n",
       "    <tr>\n",
       "      <th>475</th>\n",
       "      <td>4000854480186</td>\n",
       "      <td>917157</td>\n",
       "      <td>stage3</td>\n",
       "      <td>33.994231601273654</td>\n",
       "      <td>917157</td>\n",
       "      <td>Unknown</td>\n",
       "      <td>4000854480186</td>\n",
       "      <td>917450</td>\n",
       "      <td>stage3</td>\n",
       "      <td>33.994231601273654</td>\n",
       "      <td>917450</td>\n",
       "      <td>Unknown</td>\n",
       "    </tr>\n",
       "    <tr>\n",
       "      <th>476</th>\n",
       "      <td>4000858402222</td>\n",
       "      <td>1450508</td>\n",
       "      <td>stage2</td>\n",
       "      <td>8.614547306234687</td>\n",
       "      <td>1450508</td>\n",
       "      <td>AGN</td>\n",
       "      <td>4000858402222</td>\n",
       "      <td>1449463</td>\n",
       "      <td>stage2</td>\n",
       "      <td>8.614547306234687</td>\n",
       "      <td>1449463</td>\n",
       "      <td>AGN</td>\n",
       "    </tr>\n",
       "    <tr>\n",
       "      <th>477</th>\n",
       "      <td>4000859156914</td>\n",
       "      <td>793415</td>\n",
       "      <td>stage3</td>\n",
       "      <td>20.020331370161777</td>\n",
       "      <td>793415</td>\n",
       "      <td>Unknown</td>\n",
       "      <td>4000859156914</td>\n",
       "      <td>791176</td>\n",
       "      <td>stage3</td>\n",
       "      <td>20.020331370161777</td>\n",
       "      <td>791176</td>\n",
       "      <td>Unknown</td>\n",
       "    </tr>\n",
       "    <tr>\n",
       "      <th>478</th>\n",
       "      <td>4000859744431</td>\n",
       "      <td>1395467</td>\n",
       "      <td>stage3</td>\n",
       "      <td>34.639346496588566</td>\n",
       "      <td>1395467</td>\n",
       "      <td>Unknown</td>\n",
       "      <td>4000859744431</td>\n",
       "      <td>1395057</td>\n",
       "      <td>stage3</td>\n",
       "      <td>34.639346496588566</td>\n",
       "      <td>1395057</td>\n",
       "      <td>Unknown</td>\n",
       "    </tr>\n",
       "    <tr>\n",
       "      <th>479</th>\n",
       "      <td>4000862189591</td>\n",
       "      <td>877506</td>\n",
       "      <td>stage3</td>\n",
       "      <td>79.69396640541028</td>\n",
       "      <td>877506</td>\n",
       "      <td>Unknown</td>\n",
       "      <td>4000862189591</td>\n",
       "      <td>870575</td>\n",
       "      <td>stage3</td>\n",
       "      <td>79.69396640541028</td>\n",
       "      <td>870575</td>\n",
       "      <td>Unknown</td>\n",
       "    </tr>\n",
       "  </tbody>\n",
       "</table>\n",
       "<p>480 rows × 12 columns</p>\n",
       "</div>"
      ],
      "text/plain": [
       "      ORyan23_ID_1  ID_Prim prim_cat         proj_seps_x     ID_x  \\\n",
       "0    4000705540519  1324784   stage1  49.543740945015266  1324784   \n",
       "1    4000705547180  1266054   stage1    75.6709695405294  1266054   \n",
       "2    4000706649921   840582   stage3   93.82062595743643   840582   \n",
       "3    4000707046655   214433   stage1   33.04839003744863   214433   \n",
       "4    4000707047768   246358   stage1   36.84827401550911   246358   \n",
       "..             ...      ...      ...                 ...      ...   \n",
       "475  4000854480186   917157   stage3  33.994231601273654   917157   \n",
       "476  4000858402222  1450508   stage2   8.614547306234687  1450508   \n",
       "477  4000859156914   793415   stage3  20.020331370161777   793415   \n",
       "478  4000859744431  1395467   stage3  34.639346496588566  1395467   \n",
       "479  4000862189591   877506   stage3   79.69396640541028   877506   \n",
       "\n",
       "    agn_clsf_uk_x   ORyan23_ID_2   ID_Sec sec_cat         proj_seps_y  \\\n",
       "0         Unknown  4000705540519  1324712  stage1  49.543740945015266   \n",
       "1             SFG  4000705547180  1264241  stage1    75.6709695405294   \n",
       "2         Unknown  4000706649921   844303  stage3   93.82062595743643   \n",
       "3         Unknown  4000707046655   219965  stage1   33.04839003744863   \n",
       "4         Unknown  4000707047768   246327  stage1   36.84827401550911   \n",
       "..            ...            ...      ...     ...                 ...   \n",
       "475       Unknown  4000854480186   917450  stage3  33.994231601273654   \n",
       "476           AGN  4000858402222  1449463  stage2   8.614547306234687   \n",
       "477       Unknown  4000859156914   791176  stage3  20.020331370161777   \n",
       "478       Unknown  4000859744431  1395057  stage3  34.639346496588566   \n",
       "479       Unknown  4000862189591   870575  stage3   79.69396640541028   \n",
       "\n",
       "        ID_y agn_clsf_uk_y  \n",
       "0    1324712       Unknown  \n",
       "1    1264241           SFG  \n",
       "2     844303           AGN  \n",
       "3     219965           AGN  \n",
       "4     246327       Unknown  \n",
       "..       ...           ...  \n",
       "475   917450       Unknown  \n",
       "476  1449463           AGN  \n",
       "477   791176       Unknown  \n",
       "478  1395057       Unknown  \n",
       "479   870575       Unknown  \n",
       "\n",
       "[480 rows x 12 columns]"
      ]
     },
     "execution_count": 245,
     "metadata": {},
     "output_type": "execute_result"
    }
   ],
   "source": [
    "df_agn_clsf_merged"
   ]
  },
  {
   "cell_type": "code",
   "execution_count": 306,
   "id": "9c246248-4a3b-44ec-b708-569b0e4de980",
   "metadata": {},
   "outputs": [
    {
     "data": {
      "text/plain": [
       "(0.0, 150.0)"
      ]
     },
     "execution_count": 306,
     "metadata": {},
     "output_type": "execute_result"
    },
    {
     "data": {
      "image/png": "[encoded data removed]",
      "text/plain": [
       "<Figure size 800x800 with 1 Axes>"
      ]
     },
     "metadata": {},
     "output_type": "display_data"
    }
   ],
   "source": [
    "fig, ax = plt.subplots(figsize = (8,8))\n",
    "agn_proj_prim = list(df_agn_clsf_merged.query('agn_clsf_uk_x == \"AGN\"').proj_seps_x)\n",
    "agn_proj_sec = list(df_agn_clsf_merged.query('agn_clsf_uk_y == \"AGN\"').proj_seps_y)\n",
    "\n",
    "ax.hist(agn_proj_prim, bins = 10, histtype='step', color = 'black', density = True)\n",
    "ax.hist(agn_proj_sec, bins = 10, histtype='step', color='red', density = True)\n",
    "ax.set_xlim([0,150])"
   ]
  },
  {
   "cell_type": "code",
   "execution_count": 307,
   "id": "618791f3-a1d6-4bf5-b373-dfedae048798",
   "metadata": {},
   "outputs": [
    {
     "data": {
      "image/png": "[encoded data removed]",
      "text/plain": [
       "<Figure size 800x800 with 1 Axes>"
      ]
     },
     "metadata": {},
     "output_type": "display_data"
    }
   ],
   "source": [
    "fig, ax = plt.subplots(figsize = (8,8))\n",
    "sfg_proj_prim = list(df_agn_clsf_merged.query('agn_clsf_uk_x == \"SFG\"').proj_seps_x)\n",
    "sfg_proj_sec = list(df_agn_clsf_merged.query('agn_clsf_uk_y == \"SFG\"').proj_seps_y)\n",
    "\n",
    "ax.hist(sfg_proj_prim, bins = 10, histtype='step', color = 'black', density=True)\n",
    "ax.hist(sfg_proj_sec, bins = 10, histtype='step', color='red', density = True)\n",
    "ax.set_xlim([0,150])\n",
    "plt.show()"
   ]
  },
  {
   "cell_type": "code",
   "execution_count": 308,
   "id": "c75961bb-e49a-43f6-8141-258d3f5d833c",
   "metadata": {},
   "outputs": [],
   "source": [
    "agn_comb = agn_proj_prim.copy()\n",
    "for i in agn_proj_sec:\n",
    "    agn_comb.append(i)\n",
    "    \n",
    "sfg_comb = sfg_proj_prim.copy()\n",
    "for i in sfg_proj_sec:\n",
    "    sfg_comb.append(i)"
   ]
  },
  {
   "cell_type": "code",
   "execution_count": 309,
   "id": "cf2bc411-0819-4fa1-b967-dab2b5836f54",
   "metadata": {},
   "outputs": [
    {
     "name": "stdout",
     "output_type": "stream",
     "text": [
      "104\n",
      "180\n"
     ]
    }
   ],
   "source": [
    "print(len(agn_comb))\n",
    "print(len(sfg_comb))"
   ]
  },
  {
   "cell_type": "code",
   "execution_count": 490,
   "id": "b66c00bb-bd16-4fc3-b6ab-1f0d5046232d",
   "metadata": {},
   "outputs": [
    {
     "data": {
      "image/png": "[encoded data removed]",
      "text/plain": [
       "<Figure size 400x800 with 2 Axes>"
      ]
     },
     "metadata": {},
     "output_type": "display_data"
    }
   ],
   "source": [
    "fig, ax = plt.subplots(nrows = 2, figsize = (4,8))\n",
    "\n",
    "ax[0].hist(sfg_comb, bins = 8, histtype='step', color = 'black', density=True)\n",
    "ax[1].hist(agn_comb, bins = 8, histtype='step', color='black', density = True)\n",
    "ax[0].set_xlim([0,150])\n",
    "ax[0].tick_params(left = False, labelleft=False)\n",
    "ax[1].tick_params(left = False, labelleft=False)\n",
    "ax[1].set_xlim([0,150])\n",
    "ax[0].set_title('Star Forming Galaxies')\n",
    "ax[1].set_title('Active Galactic Nuclei')\n",
    "ax[1].set_xlabel('Projected Separation (kpc)')\n",
    "fig.tight_layout()\n",
    "fig.savefig(f'{fig_folder}/sfg-agn-dist.pdf', bbox_inches='tight')\n",
    "plt.show()"
   ]
  },
  {
   "cell_type": "markdown",
   "id": "b305ed21-5442-42eb-8540-55d196c201e6",
   "metadata": {},
   "source": [
    "## Plotting AGN Fraction with Projected Separation"
   ]
  },
  {
   "cell_type": "code",
   "execution_count": 448,
   "id": "aa5c44e0-fd0b-4158-9388-7853827c8655",
   "metadata": {},
   "outputs": [
    {
     "data": {
      "text/html": [
       "<div>\n",
       "<style scoped>\n",
       "    .dataframe tbody tr th:only-of-type {\n",
       "        vertical-align: middle;\n",
       "    }\n",
       "\n",
       "    .dataframe tbody tr th {\n",
       "        vertical-align: top;\n",
       "    }\n",
       "\n",
       "    .dataframe thead th {\n",
       "        text-align: right;\n",
       "    }\n",
       "</style>\n",
       "<table border=\"1\" class=\"dataframe\">\n",
       "  <thead>\n",
       "    <tr style=\"text-align: right;\">\n",
       "      <th></th>\n",
       "      <th>ID</th>\n",
       "      <th>proj_seps</th>\n",
       "      <th>cat</th>\n",
       "    </tr>\n",
       "  </thead>\n",
       "  <tbody>\n",
       "    <tr>\n",
       "      <th>5</th>\n",
       "      <td>515281</td>\n",
       "      <td>71.2364580871224</td>\n",
       "      <td>stage3</td>\n",
       "    </tr>\n",
       "    <tr>\n",
       "      <th>9</th>\n",
       "      <td>905466</td>\n",
       "      <td>7.163352652679144</td>\n",
       "      <td>stage2</td>\n",
       "    </tr>\n",
       "    <tr>\n",
       "      <th>22</th>\n",
       "      <td>1404585</td>\n",
       "      <td>19.270951143556587</td>\n",
       "      <td>stage2</td>\n",
       "    </tr>\n",
       "    <tr>\n",
       "      <th>25</th>\n",
       "      <td>773156</td>\n",
       "      <td>62.74655850902624</td>\n",
       "      <td>stage3</td>\n",
       "    </tr>\n",
       "    <tr>\n",
       "      <th>33</th>\n",
       "      <td>757772</td>\n",
       "      <td>34.08366606651514</td>\n",
       "      <td>stage2</td>\n",
       "    </tr>\n",
       "    <tr>\n",
       "      <th>...</th>\n",
       "      <td>...</td>\n",
       "      <td>...</td>\n",
       "      <td>...</td>\n",
       "    </tr>\n",
       "    <tr>\n",
       "      <th>441</th>\n",
       "      <td>365191</td>\n",
       "      <td>12.719362792701235</td>\n",
       "      <td>stage2</td>\n",
       "    </tr>\n",
       "    <tr>\n",
       "      <th>452</th>\n",
       "      <td>641312</td>\n",
       "      <td>36.0655167009546</td>\n",
       "      <td>stage3</td>\n",
       "    </tr>\n",
       "    <tr>\n",
       "      <th>456</th>\n",
       "      <td>1160048</td>\n",
       "      <td>30.24708755082214</td>\n",
       "      <td>stage1</td>\n",
       "    </tr>\n",
       "    <tr>\n",
       "      <th>460</th>\n",
       "      <td>777164</td>\n",
       "      <td>12.486744208583321</td>\n",
       "      <td>stage1</td>\n",
       "    </tr>\n",
       "    <tr>\n",
       "      <th>476</th>\n",
       "      <td>1449463</td>\n",
       "      <td>8.614547306234687</td>\n",
       "      <td>stage2</td>\n",
       "    </tr>\n",
       "  </tbody>\n",
       "</table>\n",
       "<p>104 rows × 3 columns</p>\n",
       "</div>"
      ],
      "text/plain": [
       "          ID           proj_seps     cat\n",
       "5     515281    71.2364580871224  stage3\n",
       "9     905466   7.163352652679144  stage2\n",
       "22   1404585  19.270951143556587  stage2\n",
       "25    773156   62.74655850902624  stage3\n",
       "33    757772   34.08366606651514  stage2\n",
       "..       ...                 ...     ...\n",
       "441   365191  12.719362792701235  stage2\n",
       "452   641312    36.0655167009546  stage3\n",
       "456  1160048   30.24708755082214  stage1\n",
       "460   777164  12.486744208583321  stage1\n",
       "476  1449463   8.614547306234687  stage2\n",
       "\n",
       "[104 rows x 3 columns]"
      ]
     },
     "execution_count": 448,
     "metadata": {},
     "output_type": "execute_result"
    }
   ],
   "source": [
    "df_prim_agn = df_prim_merge.query('agn_clsf_uk == \"AGN\"').rename(columns = {'prim_cat': 'cat'})\n",
    "df_sec_agn = df_sec_merge.query('agn_clsf_uk == \"AGN\"').rename(columns = {'sec_cat':'cat'})\n",
    "df_proj_agn = pd.concat([df_prim_agn, df_sec_agn])[['ID', 'proj_seps', 'cat']]\n",
    "df_proj_agn"
   ]
  },
  {
   "cell_type": "code",
   "execution_count": 449,
   "id": "0a0aa966-9393-412a-9c5b-e4e186302aaf",
   "metadata": {},
   "outputs": [
    {
     "data": {
      "text/html": [
       "<div>\n",
       "<style scoped>\n",
       "    .dataframe tbody tr th:only-of-type {\n",
       "        vertical-align: middle;\n",
       "    }\n",
       "\n",
       "    .dataframe tbody tr th {\n",
       "        vertical-align: top;\n",
       "    }\n",
       "\n",
       "    .dataframe thead th {\n",
       "        text-align: right;\n",
       "    }\n",
       "</style>\n",
       "<table border=\"1\" class=\"dataframe\">\n",
       "  <thead>\n",
       "    <tr style=\"text-align: right;\">\n",
       "      <th></th>\n",
       "      <th>ID</th>\n",
       "      <th>proj_seps</th>\n",
       "      <th>cat</th>\n",
       "    </tr>\n",
       "  </thead>\n",
       "  <tbody>\n",
       "    <tr>\n",
       "      <th>1</th>\n",
       "      <td>1266054</td>\n",
       "      <td>75.6709695405294</td>\n",
       "      <td>stage1</td>\n",
       "    </tr>\n",
       "    <tr>\n",
       "      <th>7</th>\n",
       "      <td>1456134</td>\n",
       "      <td>107.35544736235751</td>\n",
       "      <td>stage1</td>\n",
       "    </tr>\n",
       "    <tr>\n",
       "      <th>19</th>\n",
       "      <td>660506</td>\n",
       "      <td>32.74358707590767</td>\n",
       "      <td>stage1</td>\n",
       "    </tr>\n",
       "    <tr>\n",
       "      <th>26</th>\n",
       "      <td>1041399</td>\n",
       "      <td>37.617990642381116</td>\n",
       "      <td>stage3</td>\n",
       "    </tr>\n",
       "    <tr>\n",
       "      <th>36</th>\n",
       "      <td>556275</td>\n",
       "      <td>42.04404215036861</td>\n",
       "      <td>stage1</td>\n",
       "    </tr>\n",
       "    <tr>\n",
       "      <th>...</th>\n",
       "      <td>...</td>\n",
       "      <td>...</td>\n",
       "      <td>...</td>\n",
       "    </tr>\n",
       "    <tr>\n",
       "      <th>427</th>\n",
       "      <td>1197756</td>\n",
       "      <td>60.277581236155605</td>\n",
       "      <td>stage3</td>\n",
       "    </tr>\n",
       "    <tr>\n",
       "      <th>443</th>\n",
       "      <td>240383</td>\n",
       "      <td>13.266422021769737</td>\n",
       "      <td>stage2</td>\n",
       "    </tr>\n",
       "    <tr>\n",
       "      <th>462</th>\n",
       "      <td>368071</td>\n",
       "      <td>65.16606067366833</td>\n",
       "      <td>stage3</td>\n",
       "    </tr>\n",
       "    <tr>\n",
       "      <th>468</th>\n",
       "      <td>198238</td>\n",
       "      <td>6.090730201741172</td>\n",
       "      <td>stage2</td>\n",
       "    </tr>\n",
       "    <tr>\n",
       "      <th>469</th>\n",
       "      <td>1160988</td>\n",
       "      <td>46.48013785867867</td>\n",
       "      <td>stage3</td>\n",
       "    </tr>\n",
       "  </tbody>\n",
       "</table>\n",
       "<p>180 rows × 3 columns</p>\n",
       "</div>"
      ],
      "text/plain": [
       "          ID           proj_seps     cat\n",
       "1    1266054    75.6709695405294  stage1\n",
       "7    1456134  107.35544736235751  stage1\n",
       "19    660506   32.74358707590767  stage1\n",
       "26   1041399  37.617990642381116  stage3\n",
       "36    556275   42.04404215036861  stage1\n",
       "..       ...                 ...     ...\n",
       "427  1197756  60.277581236155605  stage3\n",
       "443   240383  13.266422021769737  stage2\n",
       "462   368071   65.16606067366833  stage3\n",
       "468   198238   6.090730201741172  stage2\n",
       "469  1160988   46.48013785867867  stage3\n",
       "\n",
       "[180 rows x 3 columns]"
      ]
     },
     "execution_count": 449,
     "metadata": {},
     "output_type": "execute_result"
    }
   ],
   "source": [
    "df_prim_sfg = df_prim_merge.query('agn_clsf_uk == \"SFG\"').rename(columns = {'prim_cat': 'cat'})\n",
    "df_sec_sfg = df_sec_merge.query('agn_clsf_uk == \"SFG\"').rename(columns = {'sec_cat':'cat'})\n",
    "df_proj_sfg = pd.concat([df_prim_sfg, df_sec_sfg])[['ID', 'proj_seps', 'cat']]\n",
    "df_proj_sfg"
   ]
  },
  {
   "cell_type": "code",
   "execution_count": 450,
   "id": "4a42488a-95e2-4e00-b0d2-53fffe844653",
   "metadata": {},
   "outputs": [
    {
     "data": {
      "text/html": [
       "<div>\n",
       "<style scoped>\n",
       "    .dataframe tbody tr th:only-of-type {\n",
       "        vertical-align: middle;\n",
       "    }\n",
       "\n",
       "    .dataframe tbody tr th {\n",
       "        vertical-align: top;\n",
       "    }\n",
       "\n",
       "    .dataframe thead th {\n",
       "        text-align: right;\n",
       "    }\n",
       "</style>\n",
       "<table border=\"1\" class=\"dataframe\">\n",
       "  <thead>\n",
       "    <tr style=\"text-align: right;\">\n",
       "      <th></th>\n",
       "      <th>ID</th>\n",
       "      <th>proj_seps</th>\n",
       "      <th>cat</th>\n",
       "    </tr>\n",
       "  </thead>\n",
       "  <tbody>\n",
       "    <tr>\n",
       "      <th>0</th>\n",
       "      <td>1324784</td>\n",
       "      <td>49.543740945015266</td>\n",
       "      <td>stage1</td>\n",
       "    </tr>\n",
       "    <tr>\n",
       "      <th>1</th>\n",
       "      <td>1266054</td>\n",
       "      <td>75.6709695405294</td>\n",
       "      <td>stage1</td>\n",
       "    </tr>\n",
       "    <tr>\n",
       "      <th>2</th>\n",
       "      <td>840582</td>\n",
       "      <td>93.82062595743643</td>\n",
       "      <td>stage3</td>\n",
       "    </tr>\n",
       "    <tr>\n",
       "      <th>3</th>\n",
       "      <td>214433</td>\n",
       "      <td>33.04839003744863</td>\n",
       "      <td>stage1</td>\n",
       "    </tr>\n",
       "    <tr>\n",
       "      <th>4</th>\n",
       "      <td>246358</td>\n",
       "      <td>36.84827401550911</td>\n",
       "      <td>stage1</td>\n",
       "    </tr>\n",
       "    <tr>\n",
       "      <th>...</th>\n",
       "      <td>...</td>\n",
       "      <td>...</td>\n",
       "      <td>...</td>\n",
       "    </tr>\n",
       "    <tr>\n",
       "      <th>475</th>\n",
       "      <td>917450</td>\n",
       "      <td>33.994231601273654</td>\n",
       "      <td>stage3</td>\n",
       "    </tr>\n",
       "    <tr>\n",
       "      <th>476</th>\n",
       "      <td>1449463</td>\n",
       "      <td>8.614547306234687</td>\n",
       "      <td>stage2</td>\n",
       "    </tr>\n",
       "    <tr>\n",
       "      <th>477</th>\n",
       "      <td>791176</td>\n",
       "      <td>20.020331370161777</td>\n",
       "      <td>stage3</td>\n",
       "    </tr>\n",
       "    <tr>\n",
       "      <th>478</th>\n",
       "      <td>1395057</td>\n",
       "      <td>34.639346496588566</td>\n",
       "      <td>stage3</td>\n",
       "    </tr>\n",
       "    <tr>\n",
       "      <th>479</th>\n",
       "      <td>870575</td>\n",
       "      <td>79.69396640541028</td>\n",
       "      <td>stage3</td>\n",
       "    </tr>\n",
       "  </tbody>\n",
       "</table>\n",
       "<p>960 rows × 3 columns</p>\n",
       "</div>"
      ],
      "text/plain": [
       "          ID           proj_seps     cat\n",
       "0    1324784  49.543740945015266  stage1\n",
       "1    1266054    75.6709695405294  stage1\n",
       "2     840582   93.82062595743643  stage3\n",
       "3     214433   33.04839003744863  stage1\n",
       "4     246358   36.84827401550911  stage1\n",
       "..       ...                 ...     ...\n",
       "475   917450  33.994231601273654  stage3\n",
       "476  1449463   8.614547306234687  stage2\n",
       "477   791176  20.020331370161777  stage3\n",
       "478  1395057  34.639346496588566  stage3\n",
       "479   870575   79.69396640541028  stage3\n",
       "\n",
       "[960 rows x 3 columns]"
      ]
     },
     "execution_count": 450,
     "metadata": {},
     "output_type": "execute_result"
    }
   ],
   "source": [
    "df_all = pd.concat([df_prim_merge.rename(columns = {'prim_cat': 'cat'}), df_sec_merge.rename(columns = {'sec_cat':'cat'})])[['ID', 'proj_seps', 'cat']]\n",
    "df_all"
   ]
  },
  {
   "cell_type": "code",
   "execution_count": 451,
   "id": "f710e571-bd8e-4962-8c0a-699d2b2af2cb",
   "metadata": {},
   "outputs": [],
   "source": [
    "nbins = 20\n",
    "bins = np.linspace(0,200, nbins)\n",
    "agn_bins = np.zeros(nbins)\n",
    "sfg_bins = np.zeros(nbins)\n",
    "weight_bins = np.zeros(nbins)"
   ]
  },
  {
   "cell_type": "code",
   "execution_count": 452,
   "id": "8a06ecfe-8e7a-400e-a2c4-be3f62ad600c",
   "metadata": {},
   "outputs": [
    {
     "name": "stderr",
     "output_type": "stream",
     "text": [
      "C:\\Users\\oryan\\AppData\\Local\\Continuum\\anaconda3\\lib\\site-packages\\ipykernel_launcher.py:7: RuntimeWarning: invalid value encountered in double_scalars\n",
      "  import sys\n"
     ]
    }
   ],
   "source": [
    "for i in range(len(bins)-1):\n",
    "    max_d = bins[i+1]\n",
    "    min_d = bins[i]\n",
    "    \n",
    "    agn_bins[i] = len(df_proj_agn.query('proj_seps >= @min_d and proj_seps < @max_d'))\n",
    "    sfg_bins[i] = len(df_proj_sfg.query('proj_seps >= @min_d and proj_seps < @max_d'))\n",
    "    weight_bins[i] = (agn_bins[i] + sfg_bins[i]) / len(df_all.query('proj_seps >= @min_d and proj_seps < @max_d'))"
   ]
  },
  {
   "cell_type": "code",
   "execution_count": 453,
   "id": "dddf5783-4431-4430-9f25-5541acf302de",
   "metadata": {},
   "outputs": [
    {
     "name": "stdout",
     "output_type": "stream",
     "text": [
      "[ 5. 21.  7. 12. 15. 16.  6.  1.  8.  8.  3.  2.  0.  0.  0.  0.  0.  0.\n",
      "  0.  0.]\n",
      "[ 7. 34. 21. 21. 28. 17. 10. 17.  9.  7.  7.  2.  0.  0.  0.  0.  0.  0.\n",
      "  0.  0.]\n"
     ]
    }
   ],
   "source": [
    "print(agn_bins)\n",
    "print(sfg_bins)"
   ]
  },
  {
   "cell_type": "code",
   "execution_count": 454,
   "id": "28a4c1db-cb66-47a6-9021-571f84c8a9a4",
   "metadata": {},
   "outputs": [
    {
     "data": {
      "text/plain": [
       "array([0.21428571, 0.26699029, 0.25925926, 0.25384615, 0.36440678,\n",
       "       0.31132075, 0.2       , 0.31034483, 0.425     , 0.5       ,\n",
       "       0.625     , 0.5       , 0.        ,        nan,        nan,\n",
       "              nan,        nan, 0.        ,        nan, 0.        ])"
      ]
     },
     "execution_count": 454,
     "metadata": {},
     "output_type": "execute_result"
    }
   ],
   "source": [
    "weight_bins"
   ]
  },
  {
   "cell_type": "code",
   "execution_count": 455,
   "id": "2cc48b55-309b-4f26-bb1b-696180a41ab4",
   "metadata": {},
   "outputs": [],
   "source": [
    "agn_bins[agn_bins < 5] = np.nan\n",
    "sfg_bins[sfg_bins < 10] = np.nan"
   ]
  },
  {
   "cell_type": "code",
   "execution_count": 456,
   "id": "01793a65-c389-48ed-8fed-c6f475728e44",
   "metadata": {},
   "outputs": [],
   "source": [
    "frac_bins = weight_bins * (agn_bins / sfg_bins)"
   ]
  },
  {
   "cell_type": "code",
   "execution_count": 457,
   "id": "77fb3a38-8ce8-46c3-9dc6-0eb055bfdb70",
   "metadata": {},
   "outputs": [
    {
     "data": {
      "text/plain": [
       "array([       nan, 0.16490577, 0.08641975, 0.14505495, 0.19521792,\n",
       "       0.29300777, 0.12      ,        nan,        nan,        nan,\n",
       "              nan,        nan,        nan,        nan,        nan,\n",
       "              nan,        nan,        nan,        nan,        nan])"
      ]
     },
     "execution_count": 457,
     "metadata": {},
     "output_type": "execute_result"
    }
   ],
   "source": [
    "frac_bins"
   ]
  },
  {
   "cell_type": "code",
   "execution_count": 458,
   "id": "43c7b825-6a9f-413f-8f05-6f7d99e91600",
   "metadata": {},
   "outputs": [
    {
     "data": {
      "image/png": "[encoded data removed]",
      "text/plain": [
       "<Figure size 800x800 with 1 Axes>"
      ]
     },
     "metadata": {},
     "output_type": "display_data"
    }
   ],
   "source": [
    "plt.figure(figsize = (8,8))\n",
    "plt.scatter(bins, frac_bins, color = 'black')\n",
    "plt.show()"
   ]
  },
  {
   "cell_type": "markdown",
   "id": "7342a917-a584-4eb1-8734-5c372b16f300",
   "metadata": {},
   "source": [
    "## Looking at Stage"
   ]
  },
  {
   "cell_type": "code",
   "execution_count": 459,
   "id": "c9585781-96b4-4d3c-9aca-ac86a16ce5e8",
   "metadata": {},
   "outputs": [
    {
     "data": {
      "text/html": [
       "<div>\n",
       "<style scoped>\n",
       "    .dataframe tbody tr th:only-of-type {\n",
       "        vertical-align: middle;\n",
       "    }\n",
       "\n",
       "    .dataframe tbody tr th {\n",
       "        vertical-align: top;\n",
       "    }\n",
       "\n",
       "    .dataframe thead th {\n",
       "        text-align: right;\n",
       "    }\n",
       "</style>\n",
       "<table border=\"1\" class=\"dataframe\">\n",
       "  <thead>\n",
       "    <tr style=\"text-align: right;\">\n",
       "      <th></th>\n",
       "      <th>ID</th>\n",
       "      <th>proj_seps</th>\n",
       "      <th>cat</th>\n",
       "    </tr>\n",
       "  </thead>\n",
       "  <tbody>\n",
       "    <tr>\n",
       "      <th>1</th>\n",
       "      <td>1266054</td>\n",
       "      <td>75.6709695405294</td>\n",
       "      <td>stage1</td>\n",
       "    </tr>\n",
       "    <tr>\n",
       "      <th>7</th>\n",
       "      <td>1456134</td>\n",
       "      <td>107.35544736235751</td>\n",
       "      <td>stage1</td>\n",
       "    </tr>\n",
       "    <tr>\n",
       "      <th>19</th>\n",
       "      <td>660506</td>\n",
       "      <td>32.74358707590767</td>\n",
       "      <td>stage1</td>\n",
       "    </tr>\n",
       "    <tr>\n",
       "      <th>26</th>\n",
       "      <td>1041399</td>\n",
       "      <td>37.617990642381116</td>\n",
       "      <td>stage3</td>\n",
       "    </tr>\n",
       "    <tr>\n",
       "      <th>36</th>\n",
       "      <td>556275</td>\n",
       "      <td>42.04404215036861</td>\n",
       "      <td>stage1</td>\n",
       "    </tr>\n",
       "    <tr>\n",
       "      <th>...</th>\n",
       "      <td>...</td>\n",
       "      <td>...</td>\n",
       "      <td>...</td>\n",
       "    </tr>\n",
       "    <tr>\n",
       "      <th>427</th>\n",
       "      <td>1197756</td>\n",
       "      <td>60.277581236155605</td>\n",
       "      <td>stage3</td>\n",
       "    </tr>\n",
       "    <tr>\n",
       "      <th>443</th>\n",
       "      <td>240383</td>\n",
       "      <td>13.266422021769737</td>\n",
       "      <td>stage2</td>\n",
       "    </tr>\n",
       "    <tr>\n",
       "      <th>462</th>\n",
       "      <td>368071</td>\n",
       "      <td>65.16606067366833</td>\n",
       "      <td>stage3</td>\n",
       "    </tr>\n",
       "    <tr>\n",
       "      <th>468</th>\n",
       "      <td>198238</td>\n",
       "      <td>6.090730201741172</td>\n",
       "      <td>stage2</td>\n",
       "    </tr>\n",
       "    <tr>\n",
       "      <th>469</th>\n",
       "      <td>1160988</td>\n",
       "      <td>46.48013785867867</td>\n",
       "      <td>stage3</td>\n",
       "    </tr>\n",
       "  </tbody>\n",
       "</table>\n",
       "<p>180 rows × 3 columns</p>\n",
       "</div>"
      ],
      "text/plain": [
       "          ID           proj_seps     cat\n",
       "1    1266054    75.6709695405294  stage1\n",
       "7    1456134  107.35544736235751  stage1\n",
       "19    660506   32.74358707590767  stage1\n",
       "26   1041399  37.617990642381116  stage3\n",
       "36    556275   42.04404215036861  stage1\n",
       "..       ...                 ...     ...\n",
       "427  1197756  60.277581236155605  stage3\n",
       "443   240383  13.266422021769737  stage2\n",
       "462   368071   65.16606067366833  stage3\n",
       "468   198238   6.090730201741172  stage2\n",
       "469  1160988   46.48013785867867  stage3\n",
       "\n",
       "[180 rows x 3 columns]"
      ]
     },
     "execution_count": 459,
     "metadata": {},
     "output_type": "execute_result"
    }
   ],
   "source": [
    "df_proj_sfg"
   ]
  },
  {
   "cell_type": "code",
   "execution_count": 465,
   "id": "19e5855a-9691-4302-b5a5-bdc21f6e2d5c",
   "metadata": {},
   "outputs": [
    {
     "data": {
      "text/html": [
       "<div>\n",
       "<style scoped>\n",
       "    .dataframe tbody tr th:only-of-type {\n",
       "        vertical-align: middle;\n",
       "    }\n",
       "\n",
       "    .dataframe tbody tr th {\n",
       "        vertical-align: top;\n",
       "    }\n",
       "\n",
       "    .dataframe thead th {\n",
       "        text-align: right;\n",
       "    }\n",
       "</style>\n",
       "<table border=\"1\" class=\"dataframe\">\n",
       "  <thead>\n",
       "    <tr style=\"text-align: right;\">\n",
       "      <th></th>\n",
       "      <th>ID</th>\n",
       "      <th>proj_seps</th>\n",
       "      <th>cat</th>\n",
       "    </tr>\n",
       "  </thead>\n",
       "  <tbody>\n",
       "    <tr>\n",
       "      <th>373</th>\n",
       "      <td>1026253</td>\n",
       "      <td>12.813024144713234</td>\n",
       "      <td>stage4</td>\n",
       "    </tr>\n",
       "  </tbody>\n",
       "</table>\n",
       "</div>"
      ],
      "text/plain": [
       "          ID           proj_seps     cat\n",
       "373  1026253  12.813024144713234  stage4"
      ]
     },
     "execution_count": 465,
     "metadata": {},
     "output_type": "execute_result"
    }
   ],
   "source": [
    "df_proj_agn.query('cat == \"stage4\"')"
   ]
  },
  {
   "cell_type": "code",
   "execution_count": 466,
   "id": "3bff8518-ade9-4895-b031-b55b2bba5355",
   "metadata": {},
   "outputs": [],
   "source": [
    "bins = np.linspace(0,100,10)"
   ]
  },
  {
   "cell_type": "code",
   "execution_count": 487,
   "id": "b27a349a-35d9-47c6-8aa4-87f1bfecec36",
   "metadata": {},
   "outputs": [
    {
     "data": {
      "image/png": "[encoded data removed]",
      "text/plain": [
       "<Figure size 800x800 with 1 Axes>"
      ]
     },
     "metadata": {},
     "output_type": "display_data"
    }
   ],
   "source": [
    "fig, ax = plt.subplots(figsize = (8,8))\n",
    "ax.hist(list(df_proj_agn.proj_seps), bins = bins, histtype='step', color='black')\n",
    "ax.hist(list(df_proj_agn.query('cat == \"stage1\"').proj_seps), bins = bins, histtype='step', color='green', density = True)\n",
    "ax.hist(list(df_proj_agn.query('cat == \"stage2\"').proj_seps), bins = bins, histtype='step', color='red', density = True)\n",
    "ax.hist(list(df_proj_agn.query('cat == \"stage3\"').proj_seps), bins = bins, histtype='step', color='blue', density = True)\n",
    "# ax.hist(list(df_proj_agn.query('cat == \"stage4\"').proj_seps), bins = bins, histtype='step', color='black', density = True)\n",
    "plt.legend(['All','stage1','stage2','stage3'])\n",
    "plt.show()"
   ]
  },
  {
   "cell_type": "code",
   "execution_count": 476,
   "id": "65c4d762-7ed4-45a6-be9c-ec04aa4c9047",
   "metadata": {},
   "outputs": [
    {
     "data": {
      "image/png": "[encoded data removed]",
      "text/plain": [
       "<Figure size 800x800 with 1 Axes>"
      ]
     },
     "metadata": {},
     "output_type": "display_data"
    }
   ],
   "source": [
    "fig, ax = plt.subplots(figsize = (8,8))\n",
    "ax.hist(list(df_proj_sfg.query('cat == \"stage1\"').proj_seps), bins = bins, histtype='step', color='black', density = True)\n",
    "ax.hist(list(df_proj_sfg.query('cat == \"stage2\"').proj_seps), bins = bins, histtype='step', color='red', density = True)\n",
    "ax.hist(list(df_proj_sfg.query('cat == \"stage3\"').proj_seps), bins = bins, histtype='step', color='blue', density = True)\n",
    "# ax.hist(list(df_proj_agn.query('cat == \"stage4\"').proj_seps), bins = bins, histtype='step', color='black', density = True)\n",
    "plt.legend(['stage1','stage2','stage3'])\n",
    "plt.show()"
   ]
  },
  {
   "cell_type": "code",
   "execution_count": null,
   "id": "449a6965-5a8e-46ef-8ed7-d619de95f03e",
   "metadata": {},
   "outputs": [],
   "source": []
  }
 ],
 "metadata": {
  "kernelspec": {
   "display_name": "Python 3 (ipykernel)",
   "language": "python",
   "name": "python3"
  },
  "language_info": {
   "codemirror_mode": {
    "name": "ipython",
    "version": 3
   },
   "file_extension": ".py",
   "mimetype": "text/x-python",
   "name": "python",
   "nbconvert_exporter": "python",
   "pygments_lexer": "ipython3",
   "version": "3.7.13"
  }
 },
 "nbformat": 4,
 "nbformat_minor": 5
}
