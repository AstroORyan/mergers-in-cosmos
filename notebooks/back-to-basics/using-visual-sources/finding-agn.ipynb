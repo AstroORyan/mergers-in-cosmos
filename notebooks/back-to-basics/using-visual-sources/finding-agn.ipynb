{
 "cells": [
  {
   "cell_type": "code",
   "execution_count": 1,
   "id": "6b48cb45-cc05-4f10-ad46-9705043d58e0",
   "metadata": {},
   "outputs": [],
   "source": [
    "import pandas as pd\n",
    "import seaborn as sns\n",
    "import matplotlib.pyplot as plt\n",
    "import numpy as np\n",
    "import glob\n",
    "import sys\n",
    "import cv2 as cv\n",
    "from tqdm import tqdm\n",
    "\n",
    "from astropy.cosmology import FlatLambdaCDM\n",
    "import astropy.units as u\n",
    "from astropy.io import fits\n",
    "from astropy.coordinates import SkyCoord\n",
    "import astropy.units as u"
   ]
  },
  {
   "cell_type": "code",
   "execution_count": 2,
   "id": "9ef2b246-f3c1-4065-a076-46dfd935f3f5",
   "metadata": {},
   "outputs": [],
   "source": [
    "combine_fold = 'C:/Users/oryan/Documents/mergers-in-cosmos/cats-to-combine'\n",
    "data_folder = 'C:/Users/oryan/Documents/mergers-in-cosmos/back-to-basics-data'\n",
    "fig_folder = 'C:/Users/oryan/Documents/mergers-in-cosmos/paper-source/figures'\n",
    "cos_dat_fold = 'E:/cosmos-data'"
   ]
  },
  {
   "cell_type": "code",
   "execution_count": 3,
   "id": "710d02eb-39da-4ec4-9b27-9c311004c89d",
   "metadata": {},
   "outputs": [
    {
     "name": "stderr",
     "output_type": "stream",
     "text": [
      "C:\\Users\\oryan\\AppData\\Local\\Continuum\\anaconda3\\lib\\site-packages\\IPython\\core\\interactiveshell.py:3457: DtypeWarning: Columns (1) have mixed types.Specify dtype option on import or set low_memory=False.\n",
      "  exec(code_obj, self.user_global_ns, self.user_ns)\n"
     ]
    }
   ],
   "source": [
    "df_cat = pd.read_csv(f'{combine_fold}/dor-all-restaged-full.csv', index_col = 0)"
   ]
  },
  {
   "cell_type": "code",
   "execution_count": 4,
   "id": "3643f898-63cb-4334-84da-8c3e1aa85d54",
   "metadata": {},
   "outputs": [
    {
     "data": {
      "text/html": [
       "<div>\n",
       "<style scoped>\n",
       "    .dataframe tbody tr th:only-of-type {\n",
       "        vertical-align: middle;\n",
       "    }\n",
       "\n",
       "    .dataframe tbody tr th {\n",
       "        vertical-align: top;\n",
       "    }\n",
       "\n",
       "    .dataframe thead th {\n",
       "        text-align: right;\n",
       "    }\n",
       "</style>\n",
       "<table border=\"1\" class=\"dataframe\">\n",
       "  <thead>\n",
       "    <tr style=\"text-align: right;\">\n",
       "      <th></th>\n",
       "      <th>ORyanID_23</th>\n",
       "      <th>ID</th>\n",
       "      <th>category</th>\n",
       "      <th>ALPHA_J2000</th>\n",
       "      <th>DELTA_J2000</th>\n",
       "      <th>X_IMAGE</th>\n",
       "      <th>Y_IMAGE</th>\n",
       "      <th>ERRX2_IMAGE</th>\n",
       "      <th>ERRY2_IMAGE</th>\n",
       "      <th>ERRXY_IMAGE</th>\n",
       "      <th>...</th>\n",
       "      <th>ez_ssfr_p025</th>\n",
       "      <th>ez_ssfr_p160</th>\n",
       "      <th>ez_ssfr_p500</th>\n",
       "      <th>ez_ssfr_p840</th>\n",
       "      <th>ez_ssfr_p975</th>\n",
       "      <th>ez_Av_p025</th>\n",
       "      <th>ez_Av_p160</th>\n",
       "      <th>ez_Av_p500</th>\n",
       "      <th>ez_Av_p840</th>\n",
       "      <th>ez_Av_p975</th>\n",
       "    </tr>\n",
       "  </thead>\n",
       "  <tbody>\n",
       "    <tr>\n",
       "      <th>0</th>\n",
       "      <td>4000705532455</td>\n",
       "      <td>816891</td>\n",
       "      <td>stage4</td>\n",
       "      <td>150.679846</td>\n",
       "      <td>2.196543</td>\n",
       "      <td>9200.399414</td>\n",
       "      <td>21737.232422</td>\n",
       "      <td>0.000052</td>\n",
       "      <td>0.000059</td>\n",
       "      <td>-1.043282e-05</td>\n",
       "      <td>...</td>\n",
       "      <td>-8.931825</td>\n",
       "      <td>-8.911355</td>\n",
       "      <td>-8.899668</td>\n",
       "      <td>-8.883307</td>\n",
       "      <td>-8.872990</td>\n",
       "      <td>0.529107</td>\n",
       "      <td>0.560142</td>\n",
       "      <td>0.599624</td>\n",
       "      <td>0.630920</td>\n",
       "      <td>0.652330</td>\n",
       "    </tr>\n",
       "    <tr>\n",
       "      <th>1</th>\n",
       "      <td>4000705533383</td>\n",
       "      <td>860686</td>\n",
       "      <td>stage3</td>\n",
       "      <td>150.644522</td>\n",
       "      <td>2.237226</td>\n",
       "      <td>10047.978516</td>\n",
       "      <td>22713.351562</td>\n",
       "      <td>0.000051</td>\n",
       "      <td>0.000046</td>\n",
       "      <td>1.571297e-06</td>\n",
       "      <td>...</td>\n",
       "      <td>-9.314209</td>\n",
       "      <td>-9.106611</td>\n",
       "      <td>-8.941274</td>\n",
       "      <td>-8.713107</td>\n",
       "      <td>-8.541205</td>\n",
       "      <td>0.341270</td>\n",
       "      <td>0.545498</td>\n",
       "      <td>0.732327</td>\n",
       "      <td>0.906665</td>\n",
       "      <td>1.020098</td>\n",
       "    </tr>\n",
       "    <tr>\n",
       "      <th>2</th>\n",
       "      <td>4000705539941</td>\n",
       "      <td>1301188</td>\n",
       "      <td>stage2</td>\n",
       "      <td>149.702462</td>\n",
       "      <td>2.654895</td>\n",
       "      <td>32637.949219</td>\n",
       "      <td>32737.013672</td>\n",
       "      <td>0.000064</td>\n",
       "      <td>0.000104</td>\n",
       "      <td>-2.881107e-06</td>\n",
       "      <td>...</td>\n",
       "      <td>-9.794128</td>\n",
       "      <td>-9.784252</td>\n",
       "      <td>-9.766013</td>\n",
       "      <td>-9.743796</td>\n",
       "      <td>-9.727879</td>\n",
       "      <td>0.018737</td>\n",
       "      <td>0.018737</td>\n",
       "      <td>0.018737</td>\n",
       "      <td>0.018737</td>\n",
       "      <td>0.018737</td>\n",
       "    </tr>\n",
       "    <tr>\n",
       "      <th>3</th>\n",
       "      <td>4000705540034</td>\n",
       "      <td>1304538</td>\n",
       "      <td>stage3</td>\n",
       "      <td>149.726828</td>\n",
       "      <td>2.658172</td>\n",
       "      <td>32053.712891</td>\n",
       "      <td>32815.468750</td>\n",
       "      <td>0.000071</td>\n",
       "      <td>0.000086</td>\n",
       "      <td>-6.036952e-06</td>\n",
       "      <td>...</td>\n",
       "      <td>-9.480532</td>\n",
       "      <td>-9.443615</td>\n",
       "      <td>-9.402433</td>\n",
       "      <td>-9.352081</td>\n",
       "      <td>-9.325659</td>\n",
       "      <td>0.302629</td>\n",
       "      <td>0.376027</td>\n",
       "      <td>0.440394</td>\n",
       "      <td>0.508153</td>\n",
       "      <td>0.567727</td>\n",
       "    </tr>\n",
       "    <tr>\n",
       "      <th>4</th>\n",
       "      <td>4000705540064</td>\n",
       "      <td>1310001</td>\n",
       "      <td>stage3</td>\n",
       "      <td>149.701230</td>\n",
       "      <td>2.660343</td>\n",
       "      <td>32667.441406</td>\n",
       "      <td>32867.789062</td>\n",
       "      <td>0.000026</td>\n",
       "      <td>0.000020</td>\n",
       "      <td>-1.023530e-05</td>\n",
       "      <td>...</td>\n",
       "      <td>-9.882174</td>\n",
       "      <td>-9.855921</td>\n",
       "      <td>-9.816085</td>\n",
       "      <td>-9.697225</td>\n",
       "      <td>-9.573506</td>\n",
       "      <td>0.455258</td>\n",
       "      <td>0.482555</td>\n",
       "      <td>0.522239</td>\n",
       "      <td>0.600383</td>\n",
       "      <td>0.660279</td>\n",
       "    </tr>\n",
       "    <tr>\n",
       "      <th>...</th>\n",
       "      <td>...</td>\n",
       "      <td>...</td>\n",
       "      <td>...</td>\n",
       "      <td>...</td>\n",
       "      <td>...</td>\n",
       "      <td>...</td>\n",
       "      <td>...</td>\n",
       "      <td>...</td>\n",
       "      <td>...</td>\n",
       "      <td>...</td>\n",
       "      <td>...</td>\n",
       "      <td>...</td>\n",
       "      <td>...</td>\n",
       "      <td>...</td>\n",
       "      <td>...</td>\n",
       "      <td>...</td>\n",
       "      <td>...</td>\n",
       "      <td>...</td>\n",
       "      <td>...</td>\n",
       "      <td>...</td>\n",
       "      <td>...</td>\n",
       "    </tr>\n",
       "    <tr>\n",
       "      <th>4176</th>\n",
       "      <td>4001204758614_extra</td>\n",
       "      <td>1520733</td>\n",
       "      <td>stage4</td>\n",
       "      <td>149.891374</td>\n",
       "      <td>2.866981</td>\n",
       "      <td>28107.876953</td>\n",
       "      <td>37826.437500</td>\n",
       "      <td>0.000086</td>\n",
       "      <td>0.000104</td>\n",
       "      <td>-9.313976e-07</td>\n",
       "      <td>...</td>\n",
       "      <td>-9.441206</td>\n",
       "      <td>-9.279022</td>\n",
       "      <td>-9.095134</td>\n",
       "      <td>-9.003501</td>\n",
       "      <td>-8.955496</td>\n",
       "      <td>0.120441</td>\n",
       "      <td>0.213251</td>\n",
       "      <td>0.306832</td>\n",
       "      <td>0.556012</td>\n",
       "      <td>0.731876</td>\n",
       "    </tr>\n",
       "    <tr>\n",
       "      <th>4177</th>\n",
       "      <td>4546055995_extra</td>\n",
       "      <td>1520749</td>\n",
       "      <td>stage2</td>\n",
       "      <td>150.383110</td>\n",
       "      <td>2.865367</td>\n",
       "      <td>16320.103516</td>\n",
       "      <td>37787.917969</td>\n",
       "      <td>0.000131</td>\n",
       "      <td>0.000236</td>\n",
       "      <td>7.123858e-05</td>\n",
       "      <td>...</td>\n",
       "      <td>-9.857880</td>\n",
       "      <td>-9.658215</td>\n",
       "      <td>-9.485625</td>\n",
       "      <td>-9.235816</td>\n",
       "      <td>-8.971795</td>\n",
       "      <td>0.162147</td>\n",
       "      <td>0.238640</td>\n",
       "      <td>0.432004</td>\n",
       "      <td>0.592193</td>\n",
       "      <td>0.687256</td>\n",
       "    </tr>\n",
       "    <tr>\n",
       "      <th>4178</th>\n",
       "      <td>4000927318133_extra</td>\n",
       "      <td>1523385</td>\n",
       "      <td>stage3</td>\n",
       "      <td>149.789910</td>\n",
       "      <td>2.865132</td>\n",
       "      <td>30540.179688</td>\n",
       "      <td>37782.648438</td>\n",
       "      <td>0.000045</td>\n",
       "      <td>0.000059</td>\n",
       "      <td>1.600747e-05</td>\n",
       "      <td>...</td>\n",
       "      <td>-9.525900</td>\n",
       "      <td>-9.472779</td>\n",
       "      <td>-9.353454</td>\n",
       "      <td>-9.273221</td>\n",
       "      <td>-9.213521</td>\n",
       "      <td>0.262676</td>\n",
       "      <td>0.355466</td>\n",
       "      <td>0.410356</td>\n",
       "      <td>0.489105</td>\n",
       "      <td>0.566003</td>\n",
       "    </tr>\n",
       "    <tr>\n",
       "      <th>4179</th>\n",
       "      <td>4000747939904_extra</td>\n",
       "      <td>1524909</td>\n",
       "      <td>stage3</td>\n",
       "      <td>150.450581</td>\n",
       "      <td>2.872371</td>\n",
       "      <td>14702.710938</td>\n",
       "      <td>37956.468750</td>\n",
       "      <td>0.000248</td>\n",
       "      <td>0.000292</td>\n",
       "      <td>7.378556e-06</td>\n",
       "      <td>...</td>\n",
       "      <td>-9.556987</td>\n",
       "      <td>-9.385500</td>\n",
       "      <td>-9.154130</td>\n",
       "      <td>-9.026810</td>\n",
       "      <td>-8.938077</td>\n",
       "      <td>0.153294</td>\n",
       "      <td>0.283249</td>\n",
       "      <td>0.436332</td>\n",
       "      <td>0.600615</td>\n",
       "      <td>0.693621</td>\n",
       "    </tr>\n",
       "    <tr>\n",
       "      <th>4180</th>\n",
       "      <td>4001239405815_extra</td>\n",
       "      <td>1529226</td>\n",
       "      <td>stage4</td>\n",
       "      <td>150.372099</td>\n",
       "      <td>2.872333</td>\n",
       "      <td>16584.076172</td>\n",
       "      <td>37955.070312</td>\n",
       "      <td>0.000018</td>\n",
       "      <td>0.000019</td>\n",
       "      <td>5.020723e-06</td>\n",
       "      <td>...</td>\n",
       "      <td>-10.793317</td>\n",
       "      <td>-10.749337</td>\n",
       "      <td>-10.671772</td>\n",
       "      <td>-10.571155</td>\n",
       "      <td>-10.450612</td>\n",
       "      <td>0.541194</td>\n",
       "      <td>0.584935</td>\n",
       "      <td>0.723596</td>\n",
       "      <td>0.791648</td>\n",
       "      <td>0.920438</td>\n",
       "    </tr>\n",
       "  </tbody>\n",
       "</table>\n",
       "<p>4181 rows × 756 columns</p>\n",
       "</div>"
      ],
      "text/plain": [
       "               ORyanID_23       ID category  ALPHA_J2000  DELTA_J2000  \\\n",
       "0           4000705532455   816891   stage4   150.679846     2.196543   \n",
       "1           4000705533383   860686   stage3   150.644522     2.237226   \n",
       "2           4000705539941  1301188   stage2   149.702462     2.654895   \n",
       "3           4000705540034  1304538   stage3   149.726828     2.658172   \n",
       "4           4000705540064  1310001   stage3   149.701230     2.660343   \n",
       "...                   ...      ...      ...          ...          ...   \n",
       "4176  4001204758614_extra  1520733   stage4   149.891374     2.866981   \n",
       "4177     4546055995_extra  1520749   stage2   150.383110     2.865367   \n",
       "4178  4000927318133_extra  1523385   stage3   149.789910     2.865132   \n",
       "4179  4000747939904_extra  1524909   stage3   150.450581     2.872371   \n",
       "4180  4001239405815_extra  1529226   stage4   150.372099     2.872333   \n",
       "\n",
       "           X_IMAGE       Y_IMAGE  ERRX2_IMAGE  ERRY2_IMAGE   ERRXY_IMAGE  ...  \\\n",
       "0      9200.399414  21737.232422     0.000052     0.000059 -1.043282e-05  ...   \n",
       "1     10047.978516  22713.351562     0.000051     0.000046  1.571297e-06  ...   \n",
       "2     32637.949219  32737.013672     0.000064     0.000104 -2.881107e-06  ...   \n",
       "3     32053.712891  32815.468750     0.000071     0.000086 -6.036952e-06  ...   \n",
       "4     32667.441406  32867.789062     0.000026     0.000020 -1.023530e-05  ...   \n",
       "...            ...           ...          ...          ...           ...  ...   \n",
       "4176  28107.876953  37826.437500     0.000086     0.000104 -9.313976e-07  ...   \n",
       "4177  16320.103516  37787.917969     0.000131     0.000236  7.123858e-05  ...   \n",
       "4178  30540.179688  37782.648438     0.000045     0.000059  1.600747e-05  ...   \n",
       "4179  14702.710938  37956.468750     0.000248     0.000292  7.378556e-06  ...   \n",
       "4180  16584.076172  37955.070312     0.000018     0.000019  5.020723e-06  ...   \n",
       "\n",
       "      ez_ssfr_p025  ez_ssfr_p160  ez_ssfr_p500  ez_ssfr_p840  ez_ssfr_p975  \\\n",
       "0        -8.931825     -8.911355     -8.899668     -8.883307     -8.872990   \n",
       "1        -9.314209     -9.106611     -8.941274     -8.713107     -8.541205   \n",
       "2        -9.794128     -9.784252     -9.766013     -9.743796     -9.727879   \n",
       "3        -9.480532     -9.443615     -9.402433     -9.352081     -9.325659   \n",
       "4        -9.882174     -9.855921     -9.816085     -9.697225     -9.573506   \n",
       "...            ...           ...           ...           ...           ...   \n",
       "4176     -9.441206     -9.279022     -9.095134     -9.003501     -8.955496   \n",
       "4177     -9.857880     -9.658215     -9.485625     -9.235816     -8.971795   \n",
       "4178     -9.525900     -9.472779     -9.353454     -9.273221     -9.213521   \n",
       "4179     -9.556987     -9.385500     -9.154130     -9.026810     -8.938077   \n",
       "4180    -10.793317    -10.749337    -10.671772    -10.571155    -10.450612   \n",
       "\n",
       "      ez_Av_p025  ez_Av_p160  ez_Av_p500  ez_Av_p840  ez_Av_p975  \n",
       "0       0.529107    0.560142    0.599624    0.630920    0.652330  \n",
       "1       0.341270    0.545498    0.732327    0.906665    1.020098  \n",
       "2       0.018737    0.018737    0.018737    0.018737    0.018737  \n",
       "3       0.302629    0.376027    0.440394    0.508153    0.567727  \n",
       "4       0.455258    0.482555    0.522239    0.600383    0.660279  \n",
       "...          ...         ...         ...         ...         ...  \n",
       "4176    0.120441    0.213251    0.306832    0.556012    0.731876  \n",
       "4177    0.162147    0.238640    0.432004    0.592193    0.687256  \n",
       "4178    0.262676    0.355466    0.410356    0.489105    0.566003  \n",
       "4179    0.153294    0.283249    0.436332    0.600615    0.693621  \n",
       "4180    0.541194    0.584935    0.723596    0.791648    0.920438  \n",
       "\n",
       "[4181 rows x 756 columns]"
      ]
     },
     "execution_count": 4,
     "metadata": {},
     "output_type": "execute_result"
    }
   ],
   "source": [
    "df_cat"
   ]
  },
  {
   "cell_type": "code",
   "execution_count": 5,
   "id": "65babb47-1098-40c4-8010-2e2fb31e8b95",
   "metadata": {},
   "outputs": [],
   "source": [
    "df_red_tmp = df_cat.query('ez_sfr < 10')\n",
    "df_red = df_red_tmp.query('lp_mass_best > 6.5')"
   ]
  },
  {
   "cell_type": "markdown",
   "id": "af72936a-cd86-49d1-8bee-723c95d5deea",
   "metadata": {},
   "source": [
    "### Cross Matching with AGN Catalogues"
   ]
  },
  {
   "cell_type": "code",
   "execution_count": 6,
   "id": "289e43f3-3406-4097-855f-5322f32b312b",
   "metadata": {},
   "outputs": [
    {
     "data": {
      "text/html": [
       "<div>\n",
       "<style scoped>\n",
       "    .dataframe tbody tr th:only-of-type {\n",
       "        vertical-align: middle;\n",
       "    }\n",
       "\n",
       "    .dataframe tbody tr th {\n",
       "        vertical-align: top;\n",
       "    }\n",
       "\n",
       "    .dataframe thead th {\n",
       "        text-align: right;\n",
       "    }\n",
       "</style>\n",
       "<table border=\"1\" class=\"dataframe\">\n",
       "  <thead>\n",
       "    <tr style=\"text-align: right;\">\n",
       "      <th></th>\n",
       "      <th>ORyanID_23</th>\n",
       "      <th>ID</th>\n",
       "      <th>category</th>\n",
       "      <th>ALPHA_J2000</th>\n",
       "      <th>DELTA_J2000</th>\n",
       "      <th>X_IMAGE</th>\n",
       "      <th>Y_IMAGE</th>\n",
       "      <th>ERRX2_IMAGE</th>\n",
       "      <th>ERRY2_IMAGE</th>\n",
       "      <th>ERRXY_IMAGE</th>\n",
       "      <th>...</th>\n",
       "      <th>ez_ssfr_p025</th>\n",
       "      <th>ez_ssfr_p160</th>\n",
       "      <th>ez_ssfr_p500</th>\n",
       "      <th>ez_ssfr_p840</th>\n",
       "      <th>ez_ssfr_p975</th>\n",
       "      <th>ez_Av_p025</th>\n",
       "      <th>ez_Av_p160</th>\n",
       "      <th>ez_Av_p500</th>\n",
       "      <th>ez_Av_p840</th>\n",
       "      <th>ez_Av_p975</th>\n",
       "    </tr>\n",
       "  </thead>\n",
       "  <tbody>\n",
       "    <tr>\n",
       "      <th>0</th>\n",
       "      <td>4000705532455</td>\n",
       "      <td>816891</td>\n",
       "      <td>stage4</td>\n",
       "      <td>150.679846</td>\n",
       "      <td>2.196543</td>\n",
       "      <td>9200.399414</td>\n",
       "      <td>21737.232422</td>\n",
       "      <td>0.000052</td>\n",
       "      <td>0.000059</td>\n",
       "      <td>-1.043282e-05</td>\n",
       "      <td>...</td>\n",
       "      <td>-8.931825</td>\n",
       "      <td>-8.911355</td>\n",
       "      <td>-8.899668</td>\n",
       "      <td>-8.883307</td>\n",
       "      <td>-8.872990</td>\n",
       "      <td>0.529107</td>\n",
       "      <td>0.560142</td>\n",
       "      <td>0.599624</td>\n",
       "      <td>0.630920</td>\n",
       "      <td>0.652330</td>\n",
       "    </tr>\n",
       "    <tr>\n",
       "      <th>1</th>\n",
       "      <td>4000705533383</td>\n",
       "      <td>860686</td>\n",
       "      <td>stage3</td>\n",
       "      <td>150.644522</td>\n",
       "      <td>2.237226</td>\n",
       "      <td>10047.978516</td>\n",
       "      <td>22713.351562</td>\n",
       "      <td>0.000051</td>\n",
       "      <td>0.000046</td>\n",
       "      <td>1.571297e-06</td>\n",
       "      <td>...</td>\n",
       "      <td>-9.314209</td>\n",
       "      <td>-9.106611</td>\n",
       "      <td>-8.941274</td>\n",
       "      <td>-8.713107</td>\n",
       "      <td>-8.541205</td>\n",
       "      <td>0.341270</td>\n",
       "      <td>0.545498</td>\n",
       "      <td>0.732327</td>\n",
       "      <td>0.906665</td>\n",
       "      <td>1.020098</td>\n",
       "    </tr>\n",
       "    <tr>\n",
       "      <th>2</th>\n",
       "      <td>4000705539941</td>\n",
       "      <td>1301188</td>\n",
       "      <td>stage2</td>\n",
       "      <td>149.702462</td>\n",
       "      <td>2.654895</td>\n",
       "      <td>32637.949219</td>\n",
       "      <td>32737.013672</td>\n",
       "      <td>0.000064</td>\n",
       "      <td>0.000104</td>\n",
       "      <td>-2.881107e-06</td>\n",
       "      <td>...</td>\n",
       "      <td>-9.794128</td>\n",
       "      <td>-9.784252</td>\n",
       "      <td>-9.766013</td>\n",
       "      <td>-9.743796</td>\n",
       "      <td>-9.727879</td>\n",
       "      <td>0.018737</td>\n",
       "      <td>0.018737</td>\n",
       "      <td>0.018737</td>\n",
       "      <td>0.018737</td>\n",
       "      <td>0.018737</td>\n",
       "    </tr>\n",
       "    <tr>\n",
       "      <th>3</th>\n",
       "      <td>4000705540034</td>\n",
       "      <td>1304538</td>\n",
       "      <td>stage3</td>\n",
       "      <td>149.726828</td>\n",
       "      <td>2.658172</td>\n",
       "      <td>32053.712891</td>\n",
       "      <td>32815.468750</td>\n",
       "      <td>0.000071</td>\n",
       "      <td>0.000086</td>\n",
       "      <td>-6.036952e-06</td>\n",
       "      <td>...</td>\n",
       "      <td>-9.480532</td>\n",
       "      <td>-9.443615</td>\n",
       "      <td>-9.402433</td>\n",
       "      <td>-9.352081</td>\n",
       "      <td>-9.325659</td>\n",
       "      <td>0.302629</td>\n",
       "      <td>0.376027</td>\n",
       "      <td>0.440394</td>\n",
       "      <td>0.508153</td>\n",
       "      <td>0.567727</td>\n",
       "    </tr>\n",
       "    <tr>\n",
       "      <th>4</th>\n",
       "      <td>4000705540064</td>\n",
       "      <td>1310001</td>\n",
       "      <td>stage3</td>\n",
       "      <td>149.701230</td>\n",
       "      <td>2.660343</td>\n",
       "      <td>32667.441406</td>\n",
       "      <td>32867.789062</td>\n",
       "      <td>0.000026</td>\n",
       "      <td>0.000020</td>\n",
       "      <td>-1.023530e-05</td>\n",
       "      <td>...</td>\n",
       "      <td>-9.882174</td>\n",
       "      <td>-9.855921</td>\n",
       "      <td>-9.816085</td>\n",
       "      <td>-9.697225</td>\n",
       "      <td>-9.573506</td>\n",
       "      <td>0.455258</td>\n",
       "      <td>0.482555</td>\n",
       "      <td>0.522239</td>\n",
       "      <td>0.600383</td>\n",
       "      <td>0.660279</td>\n",
       "    </tr>\n",
       "    <tr>\n",
       "      <th>...</th>\n",
       "      <td>...</td>\n",
       "      <td>...</td>\n",
       "      <td>...</td>\n",
       "      <td>...</td>\n",
       "      <td>...</td>\n",
       "      <td>...</td>\n",
       "      <td>...</td>\n",
       "      <td>...</td>\n",
       "      <td>...</td>\n",
       "      <td>...</td>\n",
       "      <td>...</td>\n",
       "      <td>...</td>\n",
       "      <td>...</td>\n",
       "      <td>...</td>\n",
       "      <td>...</td>\n",
       "      <td>...</td>\n",
       "      <td>...</td>\n",
       "      <td>...</td>\n",
       "      <td>...</td>\n",
       "      <td>...</td>\n",
       "      <td>...</td>\n",
       "    </tr>\n",
       "    <tr>\n",
       "      <th>4176</th>\n",
       "      <td>4001204758614_extra</td>\n",
       "      <td>1520733</td>\n",
       "      <td>stage4</td>\n",
       "      <td>149.891374</td>\n",
       "      <td>2.866981</td>\n",
       "      <td>28107.876953</td>\n",
       "      <td>37826.437500</td>\n",
       "      <td>0.000086</td>\n",
       "      <td>0.000104</td>\n",
       "      <td>-9.313976e-07</td>\n",
       "      <td>...</td>\n",
       "      <td>-9.441206</td>\n",
       "      <td>-9.279022</td>\n",
       "      <td>-9.095134</td>\n",
       "      <td>-9.003501</td>\n",
       "      <td>-8.955496</td>\n",
       "      <td>0.120441</td>\n",
       "      <td>0.213251</td>\n",
       "      <td>0.306832</td>\n",
       "      <td>0.556012</td>\n",
       "      <td>0.731876</td>\n",
       "    </tr>\n",
       "    <tr>\n",
       "      <th>4177</th>\n",
       "      <td>4546055995_extra</td>\n",
       "      <td>1520749</td>\n",
       "      <td>stage2</td>\n",
       "      <td>150.383110</td>\n",
       "      <td>2.865367</td>\n",
       "      <td>16320.103516</td>\n",
       "      <td>37787.917969</td>\n",
       "      <td>0.000131</td>\n",
       "      <td>0.000236</td>\n",
       "      <td>7.123858e-05</td>\n",
       "      <td>...</td>\n",
       "      <td>-9.857880</td>\n",
       "      <td>-9.658215</td>\n",
       "      <td>-9.485625</td>\n",
       "      <td>-9.235816</td>\n",
       "      <td>-8.971795</td>\n",
       "      <td>0.162147</td>\n",
       "      <td>0.238640</td>\n",
       "      <td>0.432004</td>\n",
       "      <td>0.592193</td>\n",
       "      <td>0.687256</td>\n",
       "    </tr>\n",
       "    <tr>\n",
       "      <th>4178</th>\n",
       "      <td>4000927318133_extra</td>\n",
       "      <td>1523385</td>\n",
       "      <td>stage3</td>\n",
       "      <td>149.789910</td>\n",
       "      <td>2.865132</td>\n",
       "      <td>30540.179688</td>\n",
       "      <td>37782.648438</td>\n",
       "      <td>0.000045</td>\n",
       "      <td>0.000059</td>\n",
       "      <td>1.600747e-05</td>\n",
       "      <td>...</td>\n",
       "      <td>-9.525900</td>\n",
       "      <td>-9.472779</td>\n",
       "      <td>-9.353454</td>\n",
       "      <td>-9.273221</td>\n",
       "      <td>-9.213521</td>\n",
       "      <td>0.262676</td>\n",
       "      <td>0.355466</td>\n",
       "      <td>0.410356</td>\n",
       "      <td>0.489105</td>\n",
       "      <td>0.566003</td>\n",
       "    </tr>\n",
       "    <tr>\n",
       "      <th>4179</th>\n",
       "      <td>4000747939904_extra</td>\n",
       "      <td>1524909</td>\n",
       "      <td>stage3</td>\n",
       "      <td>150.450581</td>\n",
       "      <td>2.872371</td>\n",
       "      <td>14702.710938</td>\n",
       "      <td>37956.468750</td>\n",
       "      <td>0.000248</td>\n",
       "      <td>0.000292</td>\n",
       "      <td>7.378556e-06</td>\n",
       "      <td>...</td>\n",
       "      <td>-9.556987</td>\n",
       "      <td>-9.385500</td>\n",
       "      <td>-9.154130</td>\n",
       "      <td>-9.026810</td>\n",
       "      <td>-8.938077</td>\n",
       "      <td>0.153294</td>\n",
       "      <td>0.283249</td>\n",
       "      <td>0.436332</td>\n",
       "      <td>0.600615</td>\n",
       "      <td>0.693621</td>\n",
       "    </tr>\n",
       "    <tr>\n",
       "      <th>4180</th>\n",
       "      <td>4001239405815_extra</td>\n",
       "      <td>1529226</td>\n",
       "      <td>stage4</td>\n",
       "      <td>150.372099</td>\n",
       "      <td>2.872333</td>\n",
       "      <td>16584.076172</td>\n",
       "      <td>37955.070312</td>\n",
       "      <td>0.000018</td>\n",
       "      <td>0.000019</td>\n",
       "      <td>5.020723e-06</td>\n",
       "      <td>...</td>\n",
       "      <td>-10.793317</td>\n",
       "      <td>-10.749337</td>\n",
       "      <td>-10.671772</td>\n",
       "      <td>-10.571155</td>\n",
       "      <td>-10.450612</td>\n",
       "      <td>0.541194</td>\n",
       "      <td>0.584935</td>\n",
       "      <td>0.723596</td>\n",
       "      <td>0.791648</td>\n",
       "      <td>0.920438</td>\n",
       "    </tr>\n",
       "  </tbody>\n",
       "</table>\n",
       "<p>4152 rows × 756 columns</p>\n",
       "</div>"
      ],
      "text/plain": [
       "               ORyanID_23       ID category  ALPHA_J2000  DELTA_J2000  \\\n",
       "0           4000705532455   816891   stage4   150.679846     2.196543   \n",
       "1           4000705533383   860686   stage3   150.644522     2.237226   \n",
       "2           4000705539941  1301188   stage2   149.702462     2.654895   \n",
       "3           4000705540034  1304538   stage3   149.726828     2.658172   \n",
       "4           4000705540064  1310001   stage3   149.701230     2.660343   \n",
       "...                   ...      ...      ...          ...          ...   \n",
       "4176  4001204758614_extra  1520733   stage4   149.891374     2.866981   \n",
       "4177     4546055995_extra  1520749   stage2   150.383110     2.865367   \n",
       "4178  4000927318133_extra  1523385   stage3   149.789910     2.865132   \n",
       "4179  4000747939904_extra  1524909   stage3   150.450581     2.872371   \n",
       "4180  4001239405815_extra  1529226   stage4   150.372099     2.872333   \n",
       "\n",
       "           X_IMAGE       Y_IMAGE  ERRX2_IMAGE  ERRY2_IMAGE   ERRXY_IMAGE  ...  \\\n",
       "0      9200.399414  21737.232422     0.000052     0.000059 -1.043282e-05  ...   \n",
       "1     10047.978516  22713.351562     0.000051     0.000046  1.571297e-06  ...   \n",
       "2     32637.949219  32737.013672     0.000064     0.000104 -2.881107e-06  ...   \n",
       "3     32053.712891  32815.468750     0.000071     0.000086 -6.036952e-06  ...   \n",
       "4     32667.441406  32867.789062     0.000026     0.000020 -1.023530e-05  ...   \n",
       "...            ...           ...          ...          ...           ...  ...   \n",
       "4176  28107.876953  37826.437500     0.000086     0.000104 -9.313976e-07  ...   \n",
       "4177  16320.103516  37787.917969     0.000131     0.000236  7.123858e-05  ...   \n",
       "4178  30540.179688  37782.648438     0.000045     0.000059  1.600747e-05  ...   \n",
       "4179  14702.710938  37956.468750     0.000248     0.000292  7.378556e-06  ...   \n",
       "4180  16584.076172  37955.070312     0.000018     0.000019  5.020723e-06  ...   \n",
       "\n",
       "      ez_ssfr_p025  ez_ssfr_p160  ez_ssfr_p500  ez_ssfr_p840  ez_ssfr_p975  \\\n",
       "0        -8.931825     -8.911355     -8.899668     -8.883307     -8.872990   \n",
       "1        -9.314209     -9.106611     -8.941274     -8.713107     -8.541205   \n",
       "2        -9.794128     -9.784252     -9.766013     -9.743796     -9.727879   \n",
       "3        -9.480532     -9.443615     -9.402433     -9.352081     -9.325659   \n",
       "4        -9.882174     -9.855921     -9.816085     -9.697225     -9.573506   \n",
       "...            ...           ...           ...           ...           ...   \n",
       "4176     -9.441206     -9.279022     -9.095134     -9.003501     -8.955496   \n",
       "4177     -9.857880     -9.658215     -9.485625     -9.235816     -8.971795   \n",
       "4178     -9.525900     -9.472779     -9.353454     -9.273221     -9.213521   \n",
       "4179     -9.556987     -9.385500     -9.154130     -9.026810     -8.938077   \n",
       "4180    -10.793317    -10.749337    -10.671772    -10.571155    -10.450612   \n",
       "\n",
       "      ez_Av_p025  ez_Av_p160  ez_Av_p500  ez_Av_p840  ez_Av_p975  \n",
       "0       0.529107    0.560142    0.599624    0.630920    0.652330  \n",
       "1       0.341270    0.545498    0.732327    0.906665    1.020098  \n",
       "2       0.018737    0.018737    0.018737    0.018737    0.018737  \n",
       "3       0.302629    0.376027    0.440394    0.508153    0.567727  \n",
       "4       0.455258    0.482555    0.522239    0.600383    0.660279  \n",
       "...          ...         ...         ...         ...         ...  \n",
       "4176    0.120441    0.213251    0.306832    0.556012    0.731876  \n",
       "4177    0.162147    0.238640    0.432004    0.592193    0.687256  \n",
       "4178    0.262676    0.355466    0.410356    0.489105    0.566003  \n",
       "4179    0.153294    0.283249    0.436332    0.600615    0.693621  \n",
       "4180    0.541194    0.584935    0.723596    0.791648    0.920438  \n",
       "\n",
       "[4152 rows x 756 columns]"
      ]
     },
     "execution_count": 6,
     "metadata": {},
     "output_type": "execute_result"
    }
   ],
   "source": [
    "df_red"
   ]
  },
  {
   "cell_type": "code",
   "execution_count": 7,
   "id": "fe714522-47d1-4e10-a49e-be6e22398a61",
   "metadata": {},
   "outputs": [],
   "source": [
    "df_coords = (\n",
    "    df_red[['ID', 'ALPHA_J2000', 'DELTA_J2000']]\n",
    "    .rename(columns = {'ALPHA_J2000':'RA','DELTA_J2000':'DEC'})\n",
    "    .set_index('ID')\n",
    ")"
   ]
  },
  {
   "cell_type": "code",
   "execution_count": 8,
   "id": "02baf88a-aea3-4904-85c9-a2ab9bc52e31",
   "metadata": {},
   "outputs": [],
   "source": [
    "coords_dict = df_coords.to_dict(orient='index')"
   ]
  },
  {
   "cell_type": "markdown",
   "id": "71f1fa1d-65a6-4fa9-bad2-d191e0042f4f",
   "metadata": {},
   "source": [
    "### Smolcic Catalogue "
   ]
  },
  {
   "cell_type": "code",
   "execution_count": 9,
   "id": "7acd3a04-b137-4712-9390-4c23e4d1aa5e",
   "metadata": {},
   "outputs": [],
   "source": [
    "with fits.open(f'{cos_dat_fold}/VLA_3GHz_counterpart_array_20170210_paper_smolcic_et_al.fits') as hdul:\n",
    "    smol_rec = hdul[1].data"
   ]
  },
  {
   "cell_type": "code",
   "execution_count": 10,
   "id": "8ac175b7-f0a4-4f07-8036-9925c2689e36",
   "metadata": {},
   "outputs": [
    {
     "data": {
      "text/plain": [
       "['ID_VLA',\n",
       " 'RA_VLA_J2000',\n",
       " 'DEC_VLA_J2000',\n",
       " 'MULTI',\n",
       " 'CAT_CPT',\n",
       " 'ID_CPT',\n",
       " 'RA_CPT_J2000',\n",
       " 'DEC_CPT_J2000',\n",
       " 'SEP_VLA_CPT',\n",
       " 'P_FALSE',\n",
       " 'Z_BEST',\n",
       " 'FLUX_INT_3GHz',\n",
       " 'Lradio_10cm',\n",
       " 'Lradio_21cm',\n",
       " 'L_TIR_SF',\n",
       " 'SFR_KENN98',\n",
       " 'Xray_AGN',\n",
       " 'MIR_AGN',\n",
       " 'SED_AGN',\n",
       " 'Quiescent_MLAGN',\n",
       " 'SFG',\n",
       " 'Clean_SFG',\n",
       " 'HLAGN',\n",
       " 'MLAGN',\n",
       " 'Radio_excess',\n",
       " 'flag_COSMOS2015']"
      ]
     },
     "execution_count": 10,
     "metadata": {},
     "output_type": "execute_result"
    }
   ],
   "source": [
    "smol_rec.names"
   ]
  },
  {
   "cell_type": "code",
   "execution_count": 11,
   "id": "7a52b5c7-e32f-41d6-9332-343034a0b831",
   "metadata": {},
   "outputs": [],
   "source": [
    "# Function that selects the closest object in the MPA_JHU as the galaxy of interest.\n",
    "def get_correct_smolcic_id(ra, dec, tab):\n",
    "    cosmos_coord = SkyCoord(ra = ra * u.deg, dec = dec * u.deg, frame = 'fk5')\n",
    "    \n",
    "    mpa_coords = SkyCoord(ra = tab['RA_VLA_J2000'] * u.deg, dec = tab['DEC_VLA_J2000'] * u.deg, frame = 'fk5')\n",
    "    \n",
    "    seps = list(abs((cosmos_coord.separation(mpa_coords)).to(u.arcsec) / u.arcsec))\n",
    "    \n",
    "    min_ind = seps.index(min(seps))\n",
    "    \n",
    "    return {'smol_ID' : tab[min_ind]['ID_VLA'], 'RA' : tab[min_ind]['RA_VLA_J2000'], 'Dec' : tab[min_ind]['DEC_VLA_J2000']}"
   ]
  },
  {
   "cell_type": "code",
   "execution_count": 12,
   "id": "0513a112-110f-4065-81e6-a8c1005f4084",
   "metadata": {},
   "outputs": [],
   "source": [
    "def matching_smolcic_ids(ra, dec, smol_rec):\n",
    "    arcsec_sep_deg = 15 / (60 * 60)\n",
    "    \n",
    "    matching_tab = smol_rec[(smol_rec['RA_VLA_J2000'] > ra - arcsec_sep_deg) & (smol_rec['RA_VLA_J2000'] < ra + arcsec_sep_deg) & (smol_rec['DEC_VLA_J2000'] > dec - arcsec_sep_deg) & (smol_rec['DEC_VLA_J2000'] < dec + arcsec_sep_deg)]\n",
    "    if len(matching_tab) < 0.5:\n",
    "        return {'smol_ID' : np.nan, 'RA' : np.nan, 'Dec' : np.nan}\n",
    "    elif len(matching_tab) == 1:\n",
    "        return {'smol_ID' : matching_tab['ID_VLA'][0], 'RA' : matching_tab['RA_VLA_J2000'][0], 'Dec' : matching_tab['DEC_VLA_J2000'][0]}\n",
    "    elif len(matching_tab) > 1:\n",
    "        return get_correct_smolcic_id(ra, dec, matching_tab)\n",
    "    else:\n",
    "        print('Somethings gone very wrong!!')\n",
    "        sys.exit()"
   ]
  },
  {
   "cell_type": "code",
   "execution_count": 13,
   "id": "4fd263fa-f5e6-4023-bf82-1953aeb41d5a",
   "metadata": {},
   "outputs": [],
   "source": [
    "smolcic_matched_dict = {}"
   ]
  },
  {
   "cell_type": "code",
   "execution_count": 14,
   "id": "10fcea53-a14c-406b-9c64-5089c0056b45",
   "metadata": {},
   "outputs": [
    {
     "name": "stderr",
     "output_type": "stream",
     "text": [
      "100%|██████████| 4152/4152 [00:36<00:00, 114.73it/s]\n"
     ]
    }
   ],
   "source": [
    "done_ids = list(smolcic_matched_dict.keys())\n",
    "for i in tqdm(list(coords_dict.keys())):\n",
    "    if i in done_ids:\n",
    "        continue\n",
    "    \n",
    "    smolcic_matched_dict[i] = matching_smolcic_ids(coords_dict[i]['RA'], coords_dict[i]['DEC'], smol_rec)"
   ]
  },
  {
   "cell_type": "code",
   "execution_count": 15,
   "id": "08e97d0e-fd3a-40b9-b7e5-4f408cd65880",
   "metadata": {},
   "outputs": [],
   "source": [
    "smolcic_matched_df = pd.DataFrame.from_dict(smolcic_matched_dict, orient = 'index').dropna().reset_index().rename(columns = {'index' : 'ID', 0 : 'smol_id'})"
   ]
  },
  {
   "cell_type": "code",
   "execution_count": 16,
   "id": "d7ffd7fc-4ca7-4bb5-abb4-1941e1ce5cde",
   "metadata": {},
   "outputs": [
    {
     "data": {
      "text/html": [
       "<div>\n",
       "<style scoped>\n",
       "    .dataframe tbody tr th:only-of-type {\n",
       "        vertical-align: middle;\n",
       "    }\n",
       "\n",
       "    .dataframe tbody tr th {\n",
       "        vertical-align: top;\n",
       "    }\n",
       "\n",
       "    .dataframe thead th {\n",
       "        text-align: right;\n",
       "    }\n",
       "</style>\n",
       "<table border=\"1\" class=\"dataframe\">\n",
       "  <thead>\n",
       "    <tr style=\"text-align: right;\">\n",
       "      <th></th>\n",
       "      <th>ID</th>\n",
       "      <th>smol_ID</th>\n",
       "      <th>RA</th>\n",
       "      <th>Dec</th>\n",
       "    </tr>\n",
       "  </thead>\n",
       "  <tbody>\n",
       "    <tr>\n",
       "      <th>0</th>\n",
       "      <td>1261404</td>\n",
       "      <td>3714.0</td>\n",
       "      <td>150.279358</td>\n",
       "      <td>2.609581</td>\n",
       "    </tr>\n",
       "    <tr>\n",
       "      <th>1</th>\n",
       "      <td>1264241</td>\n",
       "      <td>1766.0</td>\n",
       "      <td>150.321804</td>\n",
       "      <td>2.617930</td>\n",
       "    </tr>\n",
       "    <tr>\n",
       "      <th>2</th>\n",
       "      <td>844303</td>\n",
       "      <td>350.0</td>\n",
       "      <td>150.059144</td>\n",
       "      <td>2.219995</td>\n",
       "    </tr>\n",
       "    <tr>\n",
       "      <th>3</th>\n",
       "      <td>219965</td>\n",
       "      <td>3890.0</td>\n",
       "      <td>150.224529</td>\n",
       "      <td>1.618718</td>\n",
       "    </tr>\n",
       "    <tr>\n",
       "      <th>4</th>\n",
       "      <td>230625</td>\n",
       "      <td>10131.0</td>\n",
       "      <td>150.231835</td>\n",
       "      <td>1.627988</td>\n",
       "    </tr>\n",
       "    <tr>\n",
       "      <th>...</th>\n",
       "      <td>...</td>\n",
       "      <td>...</td>\n",
       "      <td>...</td>\n",
       "      <td>...</td>\n",
       "    </tr>\n",
       "    <tr>\n",
       "      <th>1812</th>\n",
       "      <td>1519437</td>\n",
       "      <td>2509.0</td>\n",
       "      <td>150.151975</td>\n",
       "      <td>2.860138</td>\n",
       "    </tr>\n",
       "    <tr>\n",
       "      <th>1813</th>\n",
       "      <td>1519536</td>\n",
       "      <td>1517.0</td>\n",
       "      <td>150.380343</td>\n",
       "      <td>2.865278</td>\n",
       "    </tr>\n",
       "    <tr>\n",
       "      <th>1814</th>\n",
       "      <td>1520749</td>\n",
       "      <td>1517.0</td>\n",
       "      <td>150.380343</td>\n",
       "      <td>2.865278</td>\n",
       "    </tr>\n",
       "    <tr>\n",
       "      <th>1815</th>\n",
       "      <td>1524909</td>\n",
       "      <td>8321.0</td>\n",
       "      <td>150.448344</td>\n",
       "      <td>2.875046</td>\n",
       "    </tr>\n",
       "    <tr>\n",
       "      <th>1816</th>\n",
       "      <td>1529226</td>\n",
       "      <td>9348.0</td>\n",
       "      <td>150.373369</td>\n",
       "      <td>2.872455</td>\n",
       "    </tr>\n",
       "  </tbody>\n",
       "</table>\n",
       "<p>1817 rows × 4 columns</p>\n",
       "</div>"
      ],
      "text/plain": [
       "           ID  smol_ID          RA       Dec\n",
       "0     1261404   3714.0  150.279358  2.609581\n",
       "1     1264241   1766.0  150.321804  2.617930\n",
       "2      844303    350.0  150.059144  2.219995\n",
       "3      219965   3890.0  150.224529  1.618718\n",
       "4      230625  10131.0  150.231835  1.627988\n",
       "...       ...      ...         ...       ...\n",
       "1812  1519437   2509.0  150.151975  2.860138\n",
       "1813  1519536   1517.0  150.380343  2.865278\n",
       "1814  1520749   1517.0  150.380343  2.865278\n",
       "1815  1524909   8321.0  150.448344  2.875046\n",
       "1816  1529226   9348.0  150.373369  2.872455\n",
       "\n",
       "[1817 rows x 4 columns]"
      ]
     },
     "execution_count": 16,
     "metadata": {},
     "output_type": "execute_result"
    }
   ],
   "source": [
    "smolcic_matched_df"
   ]
  },
  {
   "cell_type": "code",
   "execution_count": 17,
   "id": "31b1c97b-98cb-4cd8-b137-727ed5c94f9e",
   "metadata": {},
   "outputs": [],
   "source": [
    "def dedup_smol(df):\n",
    "    \n",
    "    ra = df.RA.iloc[0]\n",
    "    dec = df.Dec.iloc[0]\n",
    "    \n",
    "    if len(df) == 1:\n",
    "        return df.ID.iloc[0]\n",
    "    \n",
    "    coords = SkyCoord(ra = ra * u.deg, dec = dec * u.deg, frame = 'fk5')\n",
    "    \n",
    "    df_coords = df.assign(coords = df.apply(lambda row: SkyCoord(ra = row.ALPHA_J2000 * u.deg, dec = row.DELTA_J2000 * u.deg, frame = 'fk5'), axis = 1))\n",
    "    \n",
    "    df_seps = df_coords.assign(seps = df_coords.coords.apply(lambda x: np.float64(abs(((x.separation(coords)).to(u.arcsec) / u.arcsec)))))\n",
    "    min_sep = df_seps.seps.min()\n",
    "    min_row = df_seps.query('seps == @min_sep')\n",
    "    return int(min_row.ID.iloc[0])"
   ]
  },
  {
   "cell_type": "code",
   "execution_count": 18,
   "id": "18150e7a-3492-4f31-bd35-85ecc0003286",
   "metadata": {},
   "outputs": [],
   "source": [
    "df_smol_merg = (\n",
    "    smolcic_matched_df\n",
    "    .merge(df_cat, on = 'ID', how = 'left')\n",
    "    [['ID', 'smol_ID', 'RA', 'Dec', 'ALPHA_J2000', 'DELTA_J2000']]\n",
    ")"
   ]
  },
  {
   "cell_type": "code",
   "execution_count": 19,
   "id": "3e328d19-b222-4870-a49f-8c39ea8c79a5",
   "metadata": {},
   "outputs": [],
   "source": [
    "smol_dedup_df = pd.DataFrame(df_smol_merg.groupby('smol_ID').apply(lambda df: dedup_smol(df))).reset_index().rename(columns = {0 : 'ID'})"
   ]
  },
  {
   "cell_type": "code",
   "execution_count": 20,
   "id": "ba48979e-1d76-4365-9f30-b2f6966d743d",
   "metadata": {},
   "outputs": [
    {
     "data": {
      "text/html": [
       "<div>\n",
       "<style scoped>\n",
       "    .dataframe tbody tr th:only-of-type {\n",
       "        vertical-align: middle;\n",
       "    }\n",
       "\n",
       "    .dataframe tbody tr th {\n",
       "        vertical-align: top;\n",
       "    }\n",
       "\n",
       "    .dataframe thead th {\n",
       "        text-align: right;\n",
       "    }\n",
       "</style>\n",
       "<table border=\"1\" class=\"dataframe\">\n",
       "  <thead>\n",
       "    <tr style=\"text-align: right;\">\n",
       "      <th></th>\n",
       "      <th>smol_ID</th>\n",
       "      <th>ID</th>\n",
       "    </tr>\n",
       "  </thead>\n",
       "  <tbody>\n",
       "    <tr>\n",
       "      <th>0</th>\n",
       "      <td>8.0</td>\n",
       "      <td>888234</td>\n",
       "    </tr>\n",
       "    <tr>\n",
       "      <th>1</th>\n",
       "      <td>25.0</td>\n",
       "      <td>1086305</td>\n",
       "    </tr>\n",
       "    <tr>\n",
       "      <th>2</th>\n",
       "      <td>47.0</td>\n",
       "      <td>404744</td>\n",
       "    </tr>\n",
       "    <tr>\n",
       "      <th>3</th>\n",
       "      <td>61.0</td>\n",
       "      <td>835729</td>\n",
       "    </tr>\n",
       "    <tr>\n",
       "      <th>4</th>\n",
       "      <td>66.0</td>\n",
       "      <td>1152835</td>\n",
       "    </tr>\n",
       "    <tr>\n",
       "      <th>...</th>\n",
       "      <td>...</td>\n",
       "      <td>...</td>\n",
       "    </tr>\n",
       "    <tr>\n",
       "      <th>1130</th>\n",
       "      <td>10866.0</td>\n",
       "      <td>944937</td>\n",
       "    </tr>\n",
       "    <tr>\n",
       "      <th>1131</th>\n",
       "      <td>10869.0</td>\n",
       "      <td>1341925</td>\n",
       "    </tr>\n",
       "    <tr>\n",
       "      <th>1132</th>\n",
       "      <td>10900.0</td>\n",
       "      <td>1368259</td>\n",
       "    </tr>\n",
       "    <tr>\n",
       "      <th>1133</th>\n",
       "      <td>10912.0</td>\n",
       "      <td>893170</td>\n",
       "    </tr>\n",
       "    <tr>\n",
       "      <th>1134</th>\n",
       "      <td>10945.0</td>\n",
       "      <td>1157586</td>\n",
       "    </tr>\n",
       "  </tbody>\n",
       "</table>\n",
       "<p>1135 rows × 2 columns</p>\n",
       "</div>"
      ],
      "text/plain": [
       "      smol_ID       ID\n",
       "0         8.0   888234\n",
       "1        25.0  1086305\n",
       "2        47.0   404744\n",
       "3        61.0   835729\n",
       "4        66.0  1152835\n",
       "...       ...      ...\n",
       "1130  10866.0   944937\n",
       "1131  10869.0  1341925\n",
       "1132  10900.0  1368259\n",
       "1133  10912.0   893170\n",
       "1134  10945.0  1157586\n",
       "\n",
       "[1135 rows x 2 columns]"
      ]
     },
     "execution_count": 20,
     "metadata": {},
     "output_type": "execute_result"
    }
   ],
   "source": [
    "smol_dedup_df"
   ]
  },
  {
   "cell_type": "code",
   "execution_count": 21,
   "id": "5dbcc558-237a-4450-9e22-c7bdf244a3d9",
   "metadata": {},
   "outputs": [],
   "source": [
    "def getting_smol_info(smol_id, smol_rec):\n",
    "    row = smol_rec[smol_rec['ID_VLA'] == smol_id]\n",
    "    clsfs = [row['SFG'][0], row['Clean_SFG'][0], row['Radio_excess'][0]]\n",
    "    \n",
    "    if clsfs[0] == 'true' and clsfs[1] == 'true':\n",
    "        return 'SFG'\n",
    "    elif clsfs[0] == 'false' and clsfs[1] == 'false':\n",
    "        return 'AGN'\n",
    "    elif clsfs[0] == 'true' and clsfs[1] == 'false':\n",
    "        return 'SFG'\n",
    "    elif clsfs[0] == 'false' and clsfs[1] == 'true':\n",
    "        print('Something wrong: 1')\n",
    "        sys.exit()\n",
    "    elif clsfs[3] == 'true':\n",
    "        return 'Radio_Excess'"
   ]
  },
  {
   "cell_type": "code",
   "execution_count": 22,
   "id": "ec89b4bf-83f9-4c2b-9418-acc447237003",
   "metadata": {},
   "outputs": [],
   "source": [
    "smol_clsf_dict = {}"
   ]
  },
  {
   "cell_type": "code",
   "execution_count": 23,
   "id": "4b809323-18de-437c-8380-4c36d7c08712",
   "metadata": {},
   "outputs": [],
   "source": [
    "smol_dedup_dict = smol_dedup_df.set_index('ID').to_dict(orient = 'index')"
   ]
  },
  {
   "cell_type": "code",
   "execution_count": 24,
   "id": "8415efea-f3e0-495a-9a59-dceb46eb4873",
   "metadata": {},
   "outputs": [
    {
     "name": "stderr",
     "output_type": "stream",
     "text": [
      "100%|██████████| 1135/1135 [00:08<00:00, 127.25it/s]\n"
     ]
    }
   ],
   "source": [
    "done_ids = list(smol_clsf_dict.keys())\n",
    "for i in tqdm(list(smol_dedup_dict.keys())):\n",
    "    if i in done_ids:\n",
    "        continue\n",
    "    \n",
    "    smol_clsf_dict[i] = getting_smol_info(smol_dedup_dict[i]['smol_ID'], smol_rec)"
   ]
  },
  {
   "cell_type": "code",
   "execution_count": 25,
   "id": "274b01e4-85bb-49e5-b03e-e15a2b7d566d",
   "metadata": {},
   "outputs": [],
   "source": [
    "smol_clsf_df = pd.DataFrame.from_dict(smol_clsf_dict, orient = 'index').reset_index().rename(columns = {'index' : 'ID', 0 : 'agn_clsf'})"
   ]
  },
  {
   "cell_type": "code",
   "execution_count": 26,
   "id": "79416cf7-09d8-4f4f-b7c5-aeca9bf378d3",
   "metadata": {},
   "outputs": [
    {
     "data": {
      "text/plain": [
       "1135"
      ]
     },
     "execution_count": 26,
     "metadata": {},
     "output_type": "execute_result"
    }
   ],
   "source": [
    "len(smol_clsf_df)"
   ]
  },
  {
   "cell_type": "code",
   "execution_count": 27,
   "id": "b57fc17c-c476-48d4-9170-7475654894ec",
   "metadata": {},
   "outputs": [
    {
     "data": {
      "text/html": [
       "<div>\n",
       "<style scoped>\n",
       "    .dataframe tbody tr th:only-of-type {\n",
       "        vertical-align: middle;\n",
       "    }\n",
       "\n",
       "    .dataframe tbody tr th {\n",
       "        vertical-align: top;\n",
       "    }\n",
       "\n",
       "    .dataframe thead th {\n",
       "        text-align: right;\n",
       "    }\n",
       "</style>\n",
       "<table border=\"1\" class=\"dataframe\">\n",
       "  <thead>\n",
       "    <tr style=\"text-align: right;\">\n",
       "      <th></th>\n",
       "      <th>ID</th>\n",
       "      <th>agn_clsf</th>\n",
       "    </tr>\n",
       "  </thead>\n",
       "  <tbody>\n",
       "    <tr>\n",
       "      <th>0</th>\n",
       "      <td>888234</td>\n",
       "      <td>AGN</td>\n",
       "    </tr>\n",
       "    <tr>\n",
       "      <th>1</th>\n",
       "      <td>1086305</td>\n",
       "      <td>AGN</td>\n",
       "    </tr>\n",
       "    <tr>\n",
       "      <th>2</th>\n",
       "      <td>404744</td>\n",
       "      <td>AGN</td>\n",
       "    </tr>\n",
       "    <tr>\n",
       "      <th>3</th>\n",
       "      <td>835729</td>\n",
       "      <td>AGN</td>\n",
       "    </tr>\n",
       "    <tr>\n",
       "      <th>4</th>\n",
       "      <td>1152835</td>\n",
       "      <td>AGN</td>\n",
       "    </tr>\n",
       "    <tr>\n",
       "      <th>...</th>\n",
       "      <td>...</td>\n",
       "      <td>...</td>\n",
       "    </tr>\n",
       "    <tr>\n",
       "      <th>1130</th>\n",
       "      <td>944937</td>\n",
       "      <td>SFG</td>\n",
       "    </tr>\n",
       "    <tr>\n",
       "      <th>1131</th>\n",
       "      <td>1341925</td>\n",
       "      <td>SFG</td>\n",
       "    </tr>\n",
       "    <tr>\n",
       "      <th>1132</th>\n",
       "      <td>1368259</td>\n",
       "      <td>AGN</td>\n",
       "    </tr>\n",
       "    <tr>\n",
       "      <th>1133</th>\n",
       "      <td>893170</td>\n",
       "      <td>AGN</td>\n",
       "    </tr>\n",
       "    <tr>\n",
       "      <th>1134</th>\n",
       "      <td>1157586</td>\n",
       "      <td>AGN</td>\n",
       "    </tr>\n",
       "  </tbody>\n",
       "</table>\n",
       "<p>1135 rows × 2 columns</p>\n",
       "</div>"
      ],
      "text/plain": [
       "           ID agn_clsf\n",
       "0      888234      AGN\n",
       "1     1086305      AGN\n",
       "2      404744      AGN\n",
       "3      835729      AGN\n",
       "4     1152835      AGN\n",
       "...       ...      ...\n",
       "1130   944937      SFG\n",
       "1131  1341925      SFG\n",
       "1132  1368259      AGN\n",
       "1133   893170      AGN\n",
       "1134  1157586      AGN\n",
       "\n",
       "[1135 rows x 2 columns]"
      ]
     },
     "execution_count": 27,
     "metadata": {},
     "output_type": "execute_result"
    }
   ],
   "source": [
    "smol_clsf_df.drop_duplicates(subset='ID', keep='first')"
   ]
  },
  {
   "cell_type": "code",
   "execution_count": 28,
   "id": "f3d504ea-c3e0-4994-8894-4420bea9d873",
   "metadata": {},
   "outputs": [
    {
     "data": {
      "text/plain": [
       "SFG    761\n",
       "AGN    374\n",
       "Name: agn_clsf, dtype: int64"
      ]
     },
     "execution_count": 28,
     "metadata": {},
     "output_type": "execute_result"
    }
   ],
   "source": [
    "smol_clsf_df.agn_clsf.value_counts()"
   ]
  },
  {
   "cell_type": "code",
   "execution_count": 29,
   "id": "9e9bc384-3069-47a6-ba42-7f6d4ee5aaab",
   "metadata": {},
   "outputs": [],
   "source": [
    "smol_cat_ids = list(smol_clsf_df.ID)"
   ]
  },
  {
   "cell_type": "markdown",
   "id": "0822aece-2ec0-421e-ae62-7327bd877ca4",
   "metadata": {
    "tags": []
   },
   "source": [
    "### The VLA 3GHz Counterpart Array"
   ]
  },
  {
   "cell_type": "code",
   "execution_count": 30,
   "id": "066a434f-a994-46a7-9f59-463f1465d273",
   "metadata": {},
   "outputs": [],
   "source": [
    "with fits.open(f'{cos_dat_fold}/VLA_3GHz_counterpart_array_20170210_paper_delvecchio_et_al.fits') as hdul:\n",
    "    vla_cat = hdul[1].data"
   ]
  },
  {
   "cell_type": "code",
   "execution_count": 31,
   "id": "ce91c733-82cf-4efd-a696-e8f0a0a9dcdd",
   "metadata": {},
   "outputs": [
    {
     "data": {
      "text/plain": [
       "['ID_VLA3',\n",
       " 'RA_VLA3',\n",
       " 'DEC_VLA3',\n",
       " 'Z_BEST',\n",
       " 'Z_TYPE',\n",
       " 'FLUX_INT_3GHz',\n",
       " 'Lradio_10cm',\n",
       " 'Lradio_21cm',\n",
       " 'L_TIR_SF',\n",
       " 'flag_herschel3',\n",
       " 'Mstar',\n",
       " 'SFR_IR',\n",
       " 'NUV_R',\n",
       " 'XRAY_AGN',\n",
       " 'MIR_AGN',\n",
       " 'SED_AGN',\n",
       " 'Radio_excess',\n",
       " 'Class']"
      ]
     },
     "execution_count": 31,
     "metadata": {},
     "output_type": "execute_result"
    }
   ],
   "source": [
    "vla_cat.names"
   ]
  },
  {
   "cell_type": "code",
   "execution_count": 32,
   "id": "4f662a09-f7f7-4635-aa25-25314416552d",
   "metadata": {},
   "outputs": [
    {
     "data": {
      "text/plain": [
       "7729"
      ]
     },
     "execution_count": 32,
     "metadata": {},
     "output_type": "execute_result"
    }
   ],
   "source": [
    "len(vla_cat)"
   ]
  },
  {
   "cell_type": "code",
   "execution_count": 33,
   "id": "67a260ca-833f-4272-9f3e-d6f7c9b129ba",
   "metadata": {},
   "outputs": [],
   "source": [
    "# Function that selects the closest object in the MPA_JHU as the galaxy of interest.\n",
    "def get_correct_vla_id(ra, dec, tab):\n",
    "    cosmos_coord = SkyCoord(ra = ra * u.deg, dec = dec * u.deg, frame = 'fk5')\n",
    "    \n",
    "    mpa_coords = SkyCoord(ra = tab['RA_VLA3'] * u.deg, dec = tab['DEC_VLA3'] * u.deg, frame = 'fk5')\n",
    "    \n",
    "    seps = list(abs((cosmos_coord.separation(mpa_coords)).to(u.arcsec) / u.arcsec))\n",
    "    \n",
    "    min_ind = seps.index(min(seps))\n",
    "    \n",
    "    return {'VLA_ID' : tab[min_ind]['ID_VLA3'], 'RA' : tab[min_ind]['RA_VLA3'], 'Dec' : tab[min_ind]['DEC_VLA3']}"
   ]
  },
  {
   "cell_type": "code",
   "execution_count": 34,
   "id": "12a2fd85-fc44-4512-ac28-0f6457416042",
   "metadata": {},
   "outputs": [],
   "source": [
    "def matching_vla_ids(ra, dec, vla_cat):\n",
    "    arcsec_sep_deg = 15 / (60 * 60)\n",
    "    \n",
    "    matching_tab = vla_cat[(vla_cat['RA_VLA3'] > ra - arcsec_sep_deg) & (vla_cat['RA_VLA3'] < ra + arcsec_sep_deg) & (vla_cat['DEC_VLA3'] > dec - arcsec_sep_deg) & (vla_cat['DEC_VLA3'] < dec + arcsec_sep_deg)]\n",
    "    if len(matching_tab) < 0.5:\n",
    "        return {'VLA_ID' : np.nan, 'RA' : np.nan, 'Dec' : np.nan}\n",
    "    elif len(matching_tab) == 1:\n",
    "        return {'VLA_ID' : matching_tab['ID_VLA3'][0], 'RA' : matching_tab['RA_VLA3'][0], 'Dec' : matching_tab['DEC_VLA3'][0]}\n",
    "    elif len(matching_tab) > 1:\n",
    "        return get_correct_vla_id(ra, dec, matching_tab)\n",
    "    else:\n",
    "        print('Somethings gone very wrong!!')\n",
    "        sys.exit()"
   ]
  },
  {
   "cell_type": "code",
   "execution_count": 35,
   "id": "3c4e53d9-603a-4af0-8c29-37dd3e95ae40",
   "metadata": {},
   "outputs": [],
   "source": [
    "vla_matched_dict = {}"
   ]
  },
  {
   "cell_type": "code",
   "execution_count": 36,
   "id": "9073459f-d069-42b4-8595-14299ef32c30",
   "metadata": {},
   "outputs": [
    {
     "name": "stderr",
     "output_type": "stream",
     "text": [
      "100%|██████████| 4152/4152 [00:26<00:00, 155.16it/s]\n"
     ]
    }
   ],
   "source": [
    "done_ids = list(vla_matched_dict.keys())\n",
    "for i in tqdm(list(coords_dict.keys())):\n",
    "    if i in done_ids:\n",
    "        continue\n",
    "    \n",
    "    vla_matched_dict[i] = matching_vla_ids(coords_dict[i]['RA'], coords_dict[i]['DEC'], vla_cat)"
   ]
  },
  {
   "cell_type": "code",
   "execution_count": 37,
   "id": "35fc8d82-69a5-460d-a692-bc0e5eadd987",
   "metadata": {},
   "outputs": [],
   "source": [
    "vla_matched_df = (\n",
    "    pd.DataFrame.from_dict(vla_matched_dict, orient = 'index')\n",
    "    .dropna()\n",
    "    .reset_index()\n",
    "    .rename(columns = {'index':'ID', 0 : 'VLA_ID_arr'})\n",
    ")"
   ]
  },
  {
   "cell_type": "code",
   "execution_count": 38,
   "id": "ca49af07-62cc-4c15-a2c4-e34f2dfc6e95",
   "metadata": {},
   "outputs": [
    {
     "data": {
      "text/html": [
       "<div>\n",
       "<style scoped>\n",
       "    .dataframe tbody tr th:only-of-type {\n",
       "        vertical-align: middle;\n",
       "    }\n",
       "\n",
       "    .dataframe tbody tr th {\n",
       "        vertical-align: top;\n",
       "    }\n",
       "\n",
       "    .dataframe thead th {\n",
       "        text-align: right;\n",
       "    }\n",
       "</style>\n",
       "<table border=\"1\" class=\"dataframe\">\n",
       "  <thead>\n",
       "    <tr style=\"text-align: right;\">\n",
       "      <th></th>\n",
       "      <th>ID</th>\n",
       "      <th>VLA_ID</th>\n",
       "      <th>RA</th>\n",
       "      <th>Dec</th>\n",
       "    </tr>\n",
       "  </thead>\n",
       "  <tbody>\n",
       "    <tr>\n",
       "      <th>0</th>\n",
       "      <td>1261404</td>\n",
       "      <td>3714.0</td>\n",
       "      <td>150.279358</td>\n",
       "      <td>2.609581</td>\n",
       "    </tr>\n",
       "    <tr>\n",
       "      <th>1</th>\n",
       "      <td>1264241</td>\n",
       "      <td>1766.0</td>\n",
       "      <td>150.321804</td>\n",
       "      <td>2.617930</td>\n",
       "    </tr>\n",
       "    <tr>\n",
       "      <th>2</th>\n",
       "      <td>844303</td>\n",
       "      <td>350.0</td>\n",
       "      <td>150.059144</td>\n",
       "      <td>2.219995</td>\n",
       "    </tr>\n",
       "    <tr>\n",
       "      <th>3</th>\n",
       "      <td>246486</td>\n",
       "      <td>8866.0</td>\n",
       "      <td>150.233316</td>\n",
       "      <td>1.651868</td>\n",
       "    </tr>\n",
       "    <tr>\n",
       "      <th>4</th>\n",
       "      <td>250320</td>\n",
       "      <td>8866.0</td>\n",
       "      <td>150.233316</td>\n",
       "      <td>1.651868</td>\n",
       "    </tr>\n",
       "    <tr>\n",
       "      <th>...</th>\n",
       "      <td>...</td>\n",
       "      <td>...</td>\n",
       "      <td>...</td>\n",
       "      <td>...</td>\n",
       "    </tr>\n",
       "    <tr>\n",
       "      <th>1658</th>\n",
       "      <td>1519437</td>\n",
       "      <td>2509.0</td>\n",
       "      <td>150.151975</td>\n",
       "      <td>2.860138</td>\n",
       "    </tr>\n",
       "    <tr>\n",
       "      <th>1659</th>\n",
       "      <td>1519536</td>\n",
       "      <td>1517.0</td>\n",
       "      <td>150.380343</td>\n",
       "      <td>2.865278</td>\n",
       "    </tr>\n",
       "    <tr>\n",
       "      <th>1660</th>\n",
       "      <td>1520749</td>\n",
       "      <td>1517.0</td>\n",
       "      <td>150.380343</td>\n",
       "      <td>2.865278</td>\n",
       "    </tr>\n",
       "    <tr>\n",
       "      <th>1661</th>\n",
       "      <td>1524909</td>\n",
       "      <td>8321.0</td>\n",
       "      <td>150.448344</td>\n",
       "      <td>2.875046</td>\n",
       "    </tr>\n",
       "    <tr>\n",
       "      <th>1662</th>\n",
       "      <td>1529226</td>\n",
       "      <td>9348.0</td>\n",
       "      <td>150.373369</td>\n",
       "      <td>2.872455</td>\n",
       "    </tr>\n",
       "  </tbody>\n",
       "</table>\n",
       "<p>1663 rows × 4 columns</p>\n",
       "</div>"
      ],
      "text/plain": [
       "           ID  VLA_ID          RA       Dec\n",
       "0     1261404  3714.0  150.279358  2.609581\n",
       "1     1264241  1766.0  150.321804  2.617930\n",
       "2      844303   350.0  150.059144  2.219995\n",
       "3      246486  8866.0  150.233316  1.651868\n",
       "4      250320  8866.0  150.233316  1.651868\n",
       "...       ...     ...         ...       ...\n",
       "1658  1519437  2509.0  150.151975  2.860138\n",
       "1659  1519536  1517.0  150.380343  2.865278\n",
       "1660  1520749  1517.0  150.380343  2.865278\n",
       "1661  1524909  8321.0  150.448344  2.875046\n",
       "1662  1529226  9348.0  150.373369  2.872455\n",
       "\n",
       "[1663 rows x 4 columns]"
      ]
     },
     "execution_count": 38,
     "metadata": {},
     "output_type": "execute_result"
    }
   ],
   "source": [
    "vla_matched_df"
   ]
  },
  {
   "cell_type": "code",
   "execution_count": 39,
   "id": "31868347-7444-45f6-92bd-5ade14835990",
   "metadata": {},
   "outputs": [],
   "source": [
    "def dedup_vla(df):\n",
    "    \n",
    "    ra = df.RA.iloc[0]\n",
    "    dec = df.Dec.iloc[0]\n",
    "    \n",
    "    if len(df) == 1:\n",
    "        return df.ID.iloc[0]\n",
    "    \n",
    "    coords = SkyCoord(ra = ra * u.deg, dec = dec * u.deg, frame = 'fk5')\n",
    "    \n",
    "    df_coords = df.assign(coords = df.apply(lambda row: SkyCoord(ra = row.ALPHA_J2000 * u.deg, dec = row.DELTA_J2000 * u.deg, frame = 'fk5'), axis = 1))\n",
    "    \n",
    "    df_seps = df_coords.assign(seps = df_coords.coords.apply(lambda x: np.float64(abs(((x.separation(coords)).to(u.arcsec) / u.arcsec)))))\n",
    "    min_sep = df_seps.seps.min()\n",
    "    min_row = df_seps.query('seps == @min_sep')\n",
    "    return int(min_row.ID.iloc[0])"
   ]
  },
  {
   "cell_type": "code",
   "execution_count": 40,
   "id": "bc607c70-3d76-4c8c-adef-1aaaf788c878",
   "metadata": {},
   "outputs": [],
   "source": [
    "df_vla_merg = (\n",
    "    vla_matched_df\n",
    "    .merge(df_cat, on = 'ID', how = 'left')\n",
    "    [['ID', 'VLA_ID', 'RA', 'Dec', 'ALPHA_J2000', 'DELTA_J2000']]\n",
    ")"
   ]
  },
  {
   "cell_type": "code",
   "execution_count": 41,
   "id": "c6a99ddb-67e4-402a-83f6-42a41aa49689",
   "metadata": {},
   "outputs": [],
   "source": [
    "vla_dedup_df = pd.DataFrame(df_vla_merg.groupby('VLA_ID').apply(lambda df: dedup_vla(df))).reset_index().rename(columns = {0 : 'ID'})"
   ]
  },
  {
   "cell_type": "code",
   "execution_count": 42,
   "id": "cf25d4fc-aa66-4a2b-8ac8-08d605457af8",
   "metadata": {},
   "outputs": [
    {
     "data": {
      "text/plain": [
       "1037"
      ]
     },
     "execution_count": 42,
     "metadata": {},
     "output_type": "execute_result"
    }
   ],
   "source": [
    "len(vla_dedup_df)"
   ]
  },
  {
   "cell_type": "code",
   "execution_count": 43,
   "id": "333fe4bf-12a6-4a39-a91c-da2551d35844",
   "metadata": {},
   "outputs": [],
   "source": [
    "vla_checked = (\n",
    "    vla_dedup_df\n",
    "    .assign(in_smol = vla_dedup_df.ID.apply(lambda x: 'y' if x in smol_cat_ids else 'n'))\n",
    ")\n",
    "\n",
    "vla_checked_df = vla_checked.query('in_smol == \"n\"').drop(columns = 'in_smol')"
   ]
  },
  {
   "cell_type": "code",
   "execution_count": 44,
   "id": "cb082ca7-4b91-4a85-acd6-a7edd085310a",
   "metadata": {},
   "outputs": [
    {
     "data": {
      "text/plain": [
       "4"
      ]
     },
     "execution_count": 44,
     "metadata": {},
     "output_type": "execute_result"
    }
   ],
   "source": [
    "len(vla_checked_df)"
   ]
  },
  {
   "cell_type": "code",
   "execution_count": 45,
   "id": "c4cfddcb-ee96-4e99-84fa-b6e38009f94b",
   "metadata": {},
   "outputs": [],
   "source": [
    "vla_dict = vla_checked_df.set_index('ID').to_dict(orient = 'index')"
   ]
  },
  {
   "cell_type": "code",
   "execution_count": 46,
   "id": "902e2206-abcb-4678-9f32-911b6a5e0e10",
   "metadata": {},
   "outputs": [],
   "source": [
    "vla_cat_dict = {}"
   ]
  },
  {
   "cell_type": "code",
   "execution_count": 47,
   "id": "8ad43444-9997-4823-9563-a247537b8c0f",
   "metadata": {},
   "outputs": [],
   "source": [
    "def getting_vla_info(vla_id, vla_cat):\n",
    "    row = vla_cat[vla_cat['ID_VLA3'] == vla_id]\n",
    "    ans = row['CLASS'][0]\n",
    "    \n",
    "    if len(ans) < 0.5:\n",
    "        return 'SFG'\n",
    "    else:\n",
    "        return ans"
   ]
  },
  {
   "cell_type": "code",
   "execution_count": 48,
   "id": "d3af2116-848d-45d3-807b-6395dda1da5a",
   "metadata": {},
   "outputs": [
    {
     "name": "stderr",
     "output_type": "stream",
     "text": [
      "100%|██████████| 4/4 [00:00<00:00, 144.39it/s]\n"
     ]
    }
   ],
   "source": [
    "done_ids = list(vla_cat_dict.keys())\n",
    "for i in tqdm(list(vla_dict.keys())):\n",
    "    if i in done_ids:\n",
    "        continue\n",
    "    \n",
    "    vla_cat_dict[i] = getting_vla_info(vla_dict[i]['VLA_ID'], vla_cat)"
   ]
  },
  {
   "cell_type": "code",
   "execution_count": 49,
   "id": "320d77fa-0c04-4145-9850-d6f8c3d85f90",
   "metadata": {},
   "outputs": [
    {
     "data": {
      "text/html": [
       "<div>\n",
       "<style scoped>\n",
       "    .dataframe tbody tr th:only-of-type {\n",
       "        vertical-align: middle;\n",
       "    }\n",
       "\n",
       "    .dataframe tbody tr th {\n",
       "        vertical-align: top;\n",
       "    }\n",
       "\n",
       "    .dataframe thead th {\n",
       "        text-align: right;\n",
       "    }\n",
       "</style>\n",
       "<table border=\"1\" class=\"dataframe\">\n",
       "  <thead>\n",
       "    <tr style=\"text-align: right;\">\n",
       "      <th></th>\n",
       "      <th>clsf</th>\n",
       "    </tr>\n",
       "  </thead>\n",
       "  <tbody>\n",
       "    <tr>\n",
       "      <th>765389</th>\n",
       "      <td>SFG</td>\n",
       "    </tr>\n",
       "    <tr>\n",
       "      <th>715417</th>\n",
       "      <td>HLAGN</td>\n",
       "    </tr>\n",
       "    <tr>\n",
       "      <th>1485262</th>\n",
       "      <td>SFG</td>\n",
       "    </tr>\n",
       "    <tr>\n",
       "      <th>998663</th>\n",
       "      <td>HLAGN</td>\n",
       "    </tr>\n",
       "  </tbody>\n",
       "</table>\n",
       "</div>"
      ],
      "text/plain": [
       "          clsf\n",
       "765389     SFG\n",
       "715417   HLAGN\n",
       "1485262    SFG\n",
       "998663   HLAGN"
      ]
     },
     "execution_count": 49,
     "metadata": {},
     "output_type": "execute_result"
    }
   ],
   "source": [
    "vla_cat_df = pd.DataFrame.from_dict(vla_cat_dict, orient = 'index').rename(columns = {'index' : 'ID', 0 : 'clsf'}).dropna()\n",
    "vla_cat_df"
   ]
  },
  {
   "cell_type": "code",
   "execution_count": 50,
   "id": "7326cf37-e71b-463b-b46d-c007636c151f",
   "metadata": {},
   "outputs": [
    {
     "data": {
      "text/plain": [
       "SFG      2\n",
       "HLAGN    2\n",
       "Name: clsf, dtype: int64"
      ]
     },
     "execution_count": 50,
     "metadata": {},
     "output_type": "execute_result"
    }
   ],
   "source": [
    "vla_cat_df.clsf.value_counts()"
   ]
  },
  {
   "cell_type": "code",
   "execution_count": 51,
   "id": "3dff826a-0f48-466d-80ac-bbfcc763c481",
   "metadata": {},
   "outputs": [],
   "source": [
    "vla_cat_ids = list(vla_cat_df.reset_index()['index'])"
   ]
  },
  {
   "cell_type": "markdown",
   "id": "afd7295d-d13f-4c03-8170-262488dfec30",
   "metadata": {},
   "source": [
    "### Applying to Chandra"
   ]
  },
  {
   "cell_type": "code",
   "execution_count": 52,
   "id": "5d742b95-459b-4e54-b4a8-fdb64376e7a8",
   "metadata": {},
   "outputs": [],
   "source": [
    "with fits.open(f'{cos_dat_fold}/chandra_COSMOS_legacy_opt_NIR_counterparts_20160113_4d.fits') as hdul:\n",
    "    chandra_cat = hdul[1].data"
   ]
  },
  {
   "cell_type": "code",
   "execution_count": 53,
   "id": "0161198e-4ca6-49aa-b0f4-47a430839335",
   "metadata": {},
   "outputs": [
    {
     "data": {
      "text/plain": [
       "['id_x',\n",
       " 'RA_x',\n",
       " 'DEC_x',\n",
       " 'DET_ML_F',\n",
       " 'DET_ML_S',\n",
       " 'DET_ML_H',\n",
       " 'flux_F',\n",
       " 'flux_S',\n",
       " 'flux_H',\n",
       " 'HR',\n",
       " 'HR_lo_lim',\n",
       " 'HR_up_lim',\n",
       " 'id_i',\n",
       " 'ra_i',\n",
       " 'dec_i',\n",
       " 'i_mag',\n",
       " 'i_mag_err',\n",
       " 'flag_i_mag',\n",
       " 'id_k_uv',\n",
       " 'ra_k_uv',\n",
       " 'dec_k_uv',\n",
       " 'k_uv_mag',\n",
       " 'k_uv_mag_err',\n",
       " 'id_k_cfht',\n",
       " 'ra_k_cfht',\n",
       " 'dec_k_cfht',\n",
       " 'k_cfht_mag',\n",
       " 'k_cfht_mag_err',\n",
       " 'ra_irac',\n",
       " 'dec_irac',\n",
       " 'irac_mag',\n",
       " 'irac_mag_err',\n",
       " 'ra_splash',\n",
       " 'dec_splash',\n",
       " 'splash_mag',\n",
       " 'splash_mag_err',\n",
       " 'final_id_flag',\n",
       " 'star_flag',\n",
       " 'z_best',\n",
       " 'z_spec',\n",
       " 'Instr',\n",
       " 'Qg',\n",
       " 'spec_type',\n",
       " 'z_phot',\n",
       " 'phot_type',\n",
       " 'id_xmm',\n",
       " 'dist_lum',\n",
       " 'Lx_0510',\n",
       " 'Lx_052',\n",
       " 'Lx_210',\n",
       " 'NH',\n",
       " 'abs_corr_0510',\n",
       " 'abs_corr_052',\n",
       " 'abs_corr_210',\n",
       " 'NH_lo',\n",
       " 'abs_corr_0510_lo',\n",
       " 'abs_corr_052_lo',\n",
       " 'abs_corr_210_lo',\n",
       " 'NH_up',\n",
       " 'abs_corr_0510_up',\n",
       " 'abs_corr_052_up',\n",
       " 'abs_corr_210_up']"
      ]
     },
     "execution_count": 53,
     "metadata": {},
     "output_type": "execute_result"
    }
   ],
   "source": [
    "chandra_cat.names"
   ]
  },
  {
   "cell_type": "code",
   "execution_count": 54,
   "id": "648e6b28-aa9e-4e56-a04e-458c8294f947",
   "metadata": {},
   "outputs": [
    {
     "data": {
      "text/plain": [
       "4016"
      ]
     },
     "execution_count": 54,
     "metadata": {},
     "output_type": "execute_result"
    }
   ],
   "source": [
    "len(chandra_cat)"
   ]
  },
  {
   "cell_type": "code",
   "execution_count": 55,
   "id": "7eb25213-bb39-4beb-adc9-ab0d59407a95",
   "metadata": {},
   "outputs": [],
   "source": [
    "# Function that selects the closest object in the MPA_JHU as the galaxy of interest.\n",
    "def get_correct_chandra_id(ra, dec, tab):\n",
    "    cosmos_coord = SkyCoord(ra = ra * u.deg, dec = dec * u.deg, frame = 'fk5')\n",
    "    \n",
    "    chandra_coords = SkyCoord(ra = tab['RA_x'] * u.deg, dec = tab['DEC_x'] * u.deg, frame = 'fk5')\n",
    "    \n",
    "    seps = list(abs((cosmos_coord.separation(chandra_coords)).to(u.arcsec) / u.arcsec))\n",
    "    \n",
    "    min_ind = seps.index(min(seps))\n",
    "    \n",
    "    return {'CHANDRA_ID' : tab[min_ind]['id_x'], 'RA' : tab[min_ind]['RA_x'], 'Dec' : tab[min_ind]['DEC_x']}"
   ]
  },
  {
   "cell_type": "code",
   "execution_count": 56,
   "id": "6b6d6de0-fa85-4595-bd4c-edf66fc98960",
   "metadata": {},
   "outputs": [],
   "source": [
    "def matching_chandra_ids(ra, dec, chandra_cat):\n",
    "    arcsec_sep_deg = 15 / (60 * 60)\n",
    "    \n",
    "    matching_tab = chandra_cat[(chandra_cat['RA_x'] > ra - arcsec_sep_deg) & (chandra_cat['RA_x'] < ra + arcsec_sep_deg) & (chandra_cat['DEC_x'] > dec - arcsec_sep_deg) & (chandra_cat['DEC_x'] < dec + arcsec_sep_deg)]\n",
    "    if len(matching_tab) < 0.5:\n",
    "        return {'CHANDRA_ID' : np.nan, 'RA' : np.nan, 'Dec' : np.nan}\n",
    "    elif len(matching_tab) == 1:\n",
    "        return {'CHANDRA_ID' : matching_tab['id_x'][0], 'RA' : matching_tab['RA_x'][0], 'Dec' : matching_tab['DEC_x'][0]}\n",
    "    elif len(matching_tab) > 1:\n",
    "        return get_correct_chandra_id(ra, dec, matching_tab)\n",
    "    else:\n",
    "        print('Somethings gone very wrong!!')\n",
    "        sys.exit()"
   ]
  },
  {
   "cell_type": "code",
   "execution_count": 57,
   "id": "c8a97e10-828c-47fe-b318-3ca855b32495",
   "metadata": {},
   "outputs": [],
   "source": [
    "chandra_matched_dict = {}"
   ]
  },
  {
   "cell_type": "code",
   "execution_count": 58,
   "id": "80035f51-748c-42b7-8f38-043ff07de503",
   "metadata": {},
   "outputs": [
    {
     "name": "stderr",
     "output_type": "stream",
     "text": [
      "100%|██████████| 4152/4152 [01:14<00:00, 55.75it/s]\n"
     ]
    }
   ],
   "source": [
    "done_ids = list(chandra_matched_dict.keys())\n",
    "for i in tqdm(list(coords_dict.keys())):\n",
    "    if i in done_ids:\n",
    "        continue\n",
    "    \n",
    "    chandra_matched_dict[i] = matching_chandra_ids(coords_dict[i]['RA'], coords_dict[i]['DEC'], chandra_cat)"
   ]
  },
  {
   "cell_type": "code",
   "execution_count": 59,
   "id": "613798cb-70e2-4cc1-bcd9-6e7f3a437aec",
   "metadata": {},
   "outputs": [],
   "source": [
    "chandra_matched_df = (\n",
    "    pd.DataFrame.from_dict(chandra_matched_dict, orient = 'index')\n",
    "    .dropna()\n",
    "    .reset_index()\n",
    "    .rename(columns = {'index':'ID'})\n",
    ")"
   ]
  },
  {
   "cell_type": "code",
   "execution_count": 60,
   "id": "3b625c65-cfd9-418d-97e0-2ee61a731401",
   "metadata": {},
   "outputs": [
    {
     "data": {
      "text/html": [
       "<div>\n",
       "<style scoped>\n",
       "    .dataframe tbody tr th:only-of-type {\n",
       "        vertical-align: middle;\n",
       "    }\n",
       "\n",
       "    .dataframe tbody tr th {\n",
       "        vertical-align: top;\n",
       "    }\n",
       "\n",
       "    .dataframe thead th {\n",
       "        text-align: right;\n",
       "    }\n",
       "</style>\n",
       "<table border=\"1\" class=\"dataframe\">\n",
       "  <thead>\n",
       "    <tr style=\"text-align: right;\">\n",
       "      <th></th>\n",
       "      <th>ID</th>\n",
       "      <th>CHANDRA_ID</th>\n",
       "      <th>RA</th>\n",
       "      <th>Dec</th>\n",
       "    </tr>\n",
       "  </thead>\n",
       "  <tbody>\n",
       "    <tr>\n",
       "      <th>0</th>\n",
       "      <td>1264241</td>\n",
       "      <td>lid_2035</td>\n",
       "      <td>150.320007</td>\n",
       "      <td>2.620354</td>\n",
       "    </tr>\n",
       "    <tr>\n",
       "      <th>1</th>\n",
       "      <td>844303</td>\n",
       "      <td>cid_1139</td>\n",
       "      <td>150.059130</td>\n",
       "      <td>2.219824</td>\n",
       "    </tr>\n",
       "    <tr>\n",
       "      <th>2</th>\n",
       "      <td>230625</td>\n",
       "      <td>cid_737</td>\n",
       "      <td>150.231813</td>\n",
       "      <td>1.628142</td>\n",
       "    </tr>\n",
       "    <tr>\n",
       "      <th>3</th>\n",
       "      <td>525757</td>\n",
       "      <td>cid_236</td>\n",
       "      <td>150.027300</td>\n",
       "      <td>1.924484</td>\n",
       "    </tr>\n",
       "    <tr>\n",
       "      <th>4</th>\n",
       "      <td>1459748</td>\n",
       "      <td>lid_487</td>\n",
       "      <td>150.672224</td>\n",
       "      <td>2.811132</td>\n",
       "    </tr>\n",
       "    <tr>\n",
       "      <th>...</th>\n",
       "      <td>...</td>\n",
       "      <td>...</td>\n",
       "      <td>...</td>\n",
       "      <td>...</td>\n",
       "    </tr>\n",
       "    <tr>\n",
       "      <th>743</th>\n",
       "      <td>1464904</td>\n",
       "      <td>lid_3181</td>\n",
       "      <td>150.379151</td>\n",
       "      <td>2.817332</td>\n",
       "    </tr>\n",
       "    <tr>\n",
       "      <th>744</th>\n",
       "      <td>1465158</td>\n",
       "      <td>lid_3224</td>\n",
       "      <td>150.673890</td>\n",
       "      <td>2.814361</td>\n",
       "    </tr>\n",
       "    <tr>\n",
       "      <th>745</th>\n",
       "      <td>1482513</td>\n",
       "      <td>lid_3248</td>\n",
       "      <td>149.951376</td>\n",
       "      <td>2.823183</td>\n",
       "    </tr>\n",
       "    <tr>\n",
       "      <th>746</th>\n",
       "      <td>1500329</td>\n",
       "      <td>lid_578</td>\n",
       "      <td>149.888987</td>\n",
       "      <td>2.843867</td>\n",
       "    </tr>\n",
       "    <tr>\n",
       "      <th>747</th>\n",
       "      <td>1515868</td>\n",
       "      <td>lid_2071</td>\n",
       "      <td>150.149956</td>\n",
       "      <td>2.864182</td>\n",
       "    </tr>\n",
       "  </tbody>\n",
       "</table>\n",
       "<p>748 rows × 4 columns</p>\n",
       "</div>"
      ],
      "text/plain": [
       "          ID CHANDRA_ID          RA       Dec\n",
       "0    1264241   lid_2035  150.320007  2.620354\n",
       "1     844303   cid_1139  150.059130  2.219824\n",
       "2     230625    cid_737  150.231813  1.628142\n",
       "3     525757    cid_236  150.027300  1.924484\n",
       "4    1459748    lid_487  150.672224  2.811132\n",
       "..       ...        ...         ...       ...\n",
       "743  1464904   lid_3181  150.379151  2.817332\n",
       "744  1465158   lid_3224  150.673890  2.814361\n",
       "745  1482513   lid_3248  149.951376  2.823183\n",
       "746  1500329    lid_578  149.888987  2.843867\n",
       "747  1515868   lid_2071  150.149956  2.864182\n",
       "\n",
       "[748 rows x 4 columns]"
      ]
     },
     "execution_count": 60,
     "metadata": {},
     "output_type": "execute_result"
    }
   ],
   "source": [
    "chandra_matched_df"
   ]
  },
  {
   "cell_type": "code",
   "execution_count": 61,
   "id": "96381834-2b01-4b19-8d21-fb51b7c20b43",
   "metadata": {},
   "outputs": [],
   "source": [
    "def dedup_chandra(df):\n",
    "    \n",
    "    ra = df.RA.iloc[0]\n",
    "    dec = df.Dec.iloc[0]\n",
    "    \n",
    "    if len(df) == 1:\n",
    "        return df.ID.iloc[0]\n",
    "    \n",
    "    coords = SkyCoord(ra = ra * u.deg, dec = dec * u.deg, frame = 'fk5')\n",
    "    \n",
    "    df_coords = df.assign(coords = df.apply(lambda row: SkyCoord(ra = row.ALPHA_J2000 * u.deg, dec = row.DELTA_J2000 * u.deg, frame = 'fk5'), axis = 1))\n",
    "    \n",
    "    df_seps = df_coords.assign(seps = df_coords.coords.apply(lambda x: np.float64(abs(((x.separation(coords)).to(u.arcsec) / u.arcsec)))))\n",
    "    min_sep = df_seps.seps.min()\n",
    "    min_row = df_seps.query('seps == @min_sep')\n",
    "    return int(min_row.ID.iloc[0])"
   ]
  },
  {
   "cell_type": "code",
   "execution_count": 62,
   "id": "8a113f86-7818-4b14-b4ed-b36bda8d36ef",
   "metadata": {},
   "outputs": [],
   "source": [
    "df_chandra_merg = (\n",
    "    chandra_matched_df\n",
    "    .merge(df_cat, on = 'ID', how = 'left')\n",
    "    [['ID', 'CHANDRA_ID', 'RA', 'Dec', 'ALPHA_J2000', 'DELTA_J2000']]\n",
    ")"
   ]
  },
  {
   "cell_type": "code",
   "execution_count": 63,
   "id": "e31853c2-1bef-4d06-92ed-8263e895c901",
   "metadata": {},
   "outputs": [],
   "source": [
    "chandra_dedup_df = pd.DataFrame(df_chandra_merg.groupby('CHANDRA_ID').apply(lambda df: dedup_chandra(df))).reset_index().rename(columns = {0 : 'ID'})"
   ]
  },
  {
   "cell_type": "code",
   "execution_count": 64,
   "id": "eaee88b7-14cf-4520-9772-c40cff78da6f",
   "metadata": {},
   "outputs": [
    {
     "data": {
      "text/plain": [
       "448"
      ]
     },
     "execution_count": 64,
     "metadata": {},
     "output_type": "execute_result"
    }
   ],
   "source": [
    "len(chandra_dedup_df)"
   ]
  },
  {
   "cell_type": "code",
   "execution_count": 65,
   "id": "2fa13400-66fe-4335-a745-eea64622baa1",
   "metadata": {},
   "outputs": [],
   "source": [
    "chandra_checked_df = (\n",
    "    chandra_dedup_df\n",
    "    .assign(in_cmol = chandra_dedup_df.ID.apply(lambda x: 'y' if x in smol_cat_ids else 'n'))\n",
    "    .assign(in_vla = chandra_dedup_df.ID.apply(lambda x: 'y' if x in vla_cat_ids else 'n'))\n",
    ")"
   ]
  },
  {
   "cell_type": "code",
   "execution_count": 66,
   "id": "39e44dc8-1df4-48e0-ad4b-3a75ad71144e",
   "metadata": {},
   "outputs": [
    {
     "data": {
      "text/plain": [
       "448"
      ]
     },
     "execution_count": 66,
     "metadata": {},
     "output_type": "execute_result"
    }
   ],
   "source": [
    "len(chandra_checked_df)"
   ]
  },
  {
   "cell_type": "code",
   "execution_count": 67,
   "id": "6caf4a86-1224-44fb-9e23-f22b594305ea",
   "metadata": {},
   "outputs": [],
   "source": [
    "chandra_mpa_checked = chandra_checked_df.query('in_vla == \"n\" and in_cmol == \"n\"')"
   ]
  },
  {
   "cell_type": "code",
   "execution_count": 68,
   "id": "51e0b27b-4cb8-427d-b719-eea181105c7e",
   "metadata": {},
   "outputs": [
    {
     "data": {
      "text/plain": [
       "221"
      ]
     },
     "execution_count": 68,
     "metadata": {},
     "output_type": "execute_result"
    }
   ],
   "source": [
    "len(chandra_mpa_checked)"
   ]
  },
  {
   "cell_type": "code",
   "execution_count": 69,
   "id": "c64f87ab-1198-4d1c-995a-b2df6e2fe85f",
   "metadata": {},
   "outputs": [],
   "source": [
    "chandra_dict = chandra_mpa_checked.set_index('ID').to_dict(orient = 'index')"
   ]
  },
  {
   "cell_type": "code",
   "execution_count": 76,
   "id": "3429d212-b786-43b0-a4a8-b6b5f67b4db9",
   "metadata": {},
   "outputs": [],
   "source": [
    "chandra_cat_dict = {}"
   ]
  },
  {
   "cell_type": "code",
   "execution_count": 83,
   "id": "297ef472-c128-4783-9840-14ca46db3d24",
   "metadata": {},
   "outputs": [],
   "source": [
    "def getting_chandra_info(chandra_id, chandra_cat):\n",
    "    row = chandra_cat[chandra_cat['id_x'] == chandra_id]    \n",
    "    hard_lum = row['Lx_210'][0]\n",
    "    \n",
    "    if hard_lum < 42:\n",
    "        return 'SFG'\n",
    "    elif hard_lum >= 42:\n",
    "        return 'AGN'\n",
    "    else:\n",
    "        return np.nan"
   ]
  },
  {
   "cell_type": "code",
   "execution_count": 84,
   "id": "3f1f495e-94cd-4162-ab46-c8d8baf91f89",
   "metadata": {},
   "outputs": [
    {
     "name": "stderr",
     "output_type": "stream",
     "text": [
      "100%|██████████| 221/221 [00:03<00:00, 60.07it/s]\n"
     ]
    }
   ],
   "source": [
    "done_ids = list(chandra_cat_dict.keys())\n",
    "for i in tqdm(list(chandra_dict.keys())):\n",
    "    if i in done_ids:\n",
    "        continue\n",
    "    \n",
    "    chandra_cat_dict[i] = getting_chandra_info(chandra_dict[i]['CHANDRA_ID'], chandra_cat)"
   ]
  },
  {
   "cell_type": "code",
   "execution_count": 85,
   "id": "48934864-fb54-472c-a438-8a7cc6122d46",
   "metadata": {},
   "outputs": [
    {
     "data": {
      "text/html": [
       "<div>\n",
       "<style scoped>\n",
       "    .dataframe tbody tr th:only-of-type {\n",
       "        vertical-align: middle;\n",
       "    }\n",
       "\n",
       "    .dataframe tbody tr th {\n",
       "        vertical-align: top;\n",
       "    }\n",
       "\n",
       "    .dataframe thead th {\n",
       "        text-align: right;\n",
       "    }\n",
       "</style>\n",
       "<table border=\"1\" class=\"dataframe\">\n",
       "  <thead>\n",
       "    <tr style=\"text-align: right;\">\n",
       "      <th></th>\n",
       "      <th>clsf</th>\n",
       "    </tr>\n",
       "  </thead>\n",
       "  <tbody>\n",
       "    <tr>\n",
       "      <th>352373</th>\n",
       "      <td>AGN</td>\n",
       "    </tr>\n",
       "    <tr>\n",
       "      <th>418853</th>\n",
       "      <td>SFG</td>\n",
       "    </tr>\n",
       "    <tr>\n",
       "      <th>788036</th>\n",
       "      <td>AGN</td>\n",
       "    </tr>\n",
       "    <tr>\n",
       "      <th>1120198</th>\n",
       "      <td>SFG</td>\n",
       "    </tr>\n",
       "    <tr>\n",
       "      <th>633485</th>\n",
       "      <td>SFG</td>\n",
       "    </tr>\n",
       "    <tr>\n",
       "      <th>...</th>\n",
       "      <td>...</td>\n",
       "    </tr>\n",
       "    <tr>\n",
       "      <th>1470183</th>\n",
       "      <td>AGN</td>\n",
       "    </tr>\n",
       "    <tr>\n",
       "      <th>938996</th>\n",
       "      <td>AGN</td>\n",
       "    </tr>\n",
       "    <tr>\n",
       "      <th>500953</th>\n",
       "      <td>AGN</td>\n",
       "    </tr>\n",
       "    <tr>\n",
       "      <th>410793</th>\n",
       "      <td>AGN</td>\n",
       "    </tr>\n",
       "    <tr>\n",
       "      <th>467138</th>\n",
       "      <td>AGN</td>\n",
       "    </tr>\n",
       "  </tbody>\n",
       "</table>\n",
       "<p>221 rows × 1 columns</p>\n",
       "</div>"
      ],
      "text/plain": [
       "        clsf\n",
       "352373   AGN\n",
       "418853   SFG\n",
       "788036   AGN\n",
       "1120198  SFG\n",
       "633485   SFG\n",
       "...      ...\n",
       "1470183  AGN\n",
       "938996   AGN\n",
       "500953   AGN\n",
       "410793   AGN\n",
       "467138   AGN\n",
       "\n",
       "[221 rows x 1 columns]"
      ]
     },
     "execution_count": 85,
     "metadata": {},
     "output_type": "execute_result"
    }
   ],
   "source": [
    "chandra_cat_df = pd.DataFrame.from_dict(chandra_cat_dict, orient = 'index').rename(columns = {'index' : 'ID', 0 : 'clsf'}).dropna()\n",
    "chandra_cat_df"
   ]
  },
  {
   "cell_type": "code",
   "execution_count": 87,
   "id": "4cab9733-792e-479f-8257-edc84ccad403",
   "metadata": {},
   "outputs": [
    {
     "data": {
      "text/html": [
       "<div>\n",
       "<style scoped>\n",
       "    .dataframe tbody tr th:only-of-type {\n",
       "        vertical-align: middle;\n",
       "    }\n",
       "\n",
       "    .dataframe tbody tr th {\n",
       "        vertical-align: top;\n",
       "    }\n",
       "\n",
       "    .dataframe thead th {\n",
       "        text-align: right;\n",
       "    }\n",
       "</style>\n",
       "<table border=\"1\" class=\"dataframe\">\n",
       "  <thead>\n",
       "    <tr style=\"text-align: right;\">\n",
       "      <th></th>\n",
       "      <th>ID</th>\n",
       "      <th>clsf</th>\n",
       "    </tr>\n",
       "  </thead>\n",
       "  <tbody>\n",
       "    <tr>\n",
       "      <th>0</th>\n",
       "      <td>352373</td>\n",
       "      <td>AGN</td>\n",
       "    </tr>\n",
       "    <tr>\n",
       "      <th>1</th>\n",
       "      <td>418853</td>\n",
       "      <td>SFG</td>\n",
       "    </tr>\n",
       "    <tr>\n",
       "      <th>2</th>\n",
       "      <td>788036</td>\n",
       "      <td>AGN</td>\n",
       "    </tr>\n",
       "    <tr>\n",
       "      <th>3</th>\n",
       "      <td>1120198</td>\n",
       "      <td>SFG</td>\n",
       "    </tr>\n",
       "    <tr>\n",
       "      <th>4</th>\n",
       "      <td>633485</td>\n",
       "      <td>SFG</td>\n",
       "    </tr>\n",
       "    <tr>\n",
       "      <th>...</th>\n",
       "      <td>...</td>\n",
       "      <td>...</td>\n",
       "    </tr>\n",
       "    <tr>\n",
       "      <th>216</th>\n",
       "      <td>1470183</td>\n",
       "      <td>AGN</td>\n",
       "    </tr>\n",
       "    <tr>\n",
       "      <th>217</th>\n",
       "      <td>938996</td>\n",
       "      <td>AGN</td>\n",
       "    </tr>\n",
       "    <tr>\n",
       "      <th>218</th>\n",
       "      <td>500953</td>\n",
       "      <td>AGN</td>\n",
       "    </tr>\n",
       "    <tr>\n",
       "      <th>219</th>\n",
       "      <td>410793</td>\n",
       "      <td>AGN</td>\n",
       "    </tr>\n",
       "    <tr>\n",
       "      <th>220</th>\n",
       "      <td>467138</td>\n",
       "      <td>AGN</td>\n",
       "    </tr>\n",
       "  </tbody>\n",
       "</table>\n",
       "<p>221 rows × 2 columns</p>\n",
       "</div>"
      ],
      "text/plain": [
       "          ID clsf\n",
       "0     352373  AGN\n",
       "1     418853  SFG\n",
       "2     788036  AGN\n",
       "3    1120198  SFG\n",
       "4     633485  SFG\n",
       "..       ...  ...\n",
       "216  1470183  AGN\n",
       "217   938996  AGN\n",
       "218   500953  AGN\n",
       "219   410793  AGN\n",
       "220   467138  AGN\n",
       "\n",
       "[221 rows x 2 columns]"
      ]
     },
     "execution_count": 87,
     "metadata": {},
     "output_type": "execute_result"
    }
   ],
   "source": [
    "chandra_cat_df.reset_index().rename(columns = {'index' : 'ID'}).drop_duplicates(subset='ID', keep='first')"
   ]
  },
  {
   "cell_type": "code",
   "execution_count": 88,
   "id": "b7ac179c-b8e7-4a45-a5fe-95bf771af010",
   "metadata": {},
   "outputs": [
    {
     "data": {
      "text/plain": [
       "AGN    158\n",
       "SFG     63\n",
       "Name: clsf, dtype: int64"
      ]
     },
     "execution_count": 88,
     "metadata": {},
     "output_type": "execute_result"
    }
   ],
   "source": [
    "chandra_cat_df.clsf.value_counts()"
   ]
  },
  {
   "cell_type": "markdown",
   "id": "d73d56d0-c3a7-4bb7-8ea6-2e3cc4bdbe73",
   "metadata": {},
   "source": [
    "### Finally, Looking at MPA-JHU"
   ]
  },
  {
   "cell_type": "code",
   "execution_count": 89,
   "id": "ce99890e-17e9-4fa0-8171-4d88f39ebc97",
   "metadata": {},
   "outputs": [],
   "source": [
    "agn_cat = pd.concat(\n",
    "    [\n",
    "        smol_clsf_df, \n",
    "        vla_cat_df.reset_index().rename(columns = {'index' : 'ID', 'clsf' : 'agn_clsf'}), \n",
    "        chandra_cat_df.reset_index().rename(columns = {'index' : 'ID', 'clsf' : 'agn_clsf'})\n",
    "    ]\n",
    ")"
   ]
  },
  {
   "cell_type": "code",
   "execution_count": 90,
   "id": "716f8f3e-c35c-461a-a89f-77a23c2a2351",
   "metadata": {},
   "outputs": [
    {
     "data": {
      "text/plain": [
       "1360"
      ]
     },
     "execution_count": 90,
     "metadata": {},
     "output_type": "execute_result"
    }
   ],
   "source": [
    "len(agn_cat)"
   ]
  },
  {
   "cell_type": "code",
   "execution_count": 91,
   "id": "a7e75f81-e725-4788-8e81-436f3428a421",
   "metadata": {},
   "outputs": [
    {
     "data": {
      "text/html": [
       "<div>\n",
       "<style scoped>\n",
       "    .dataframe tbody tr th:only-of-type {\n",
       "        vertical-align: middle;\n",
       "    }\n",
       "\n",
       "    .dataframe tbody tr th {\n",
       "        vertical-align: top;\n",
       "    }\n",
       "\n",
       "    .dataframe thead th {\n",
       "        text-align: right;\n",
       "    }\n",
       "</style>\n",
       "<table border=\"1\" class=\"dataframe\">\n",
       "  <thead>\n",
       "    <tr style=\"text-align: right;\">\n",
       "      <th></th>\n",
       "      <th>ID</th>\n",
       "      <th>agn_clsf</th>\n",
       "    </tr>\n",
       "  </thead>\n",
       "  <tbody>\n",
       "    <tr>\n",
       "      <th>0</th>\n",
       "      <td>888234</td>\n",
       "      <td>AGN</td>\n",
       "    </tr>\n",
       "    <tr>\n",
       "      <th>1</th>\n",
       "      <td>1086305</td>\n",
       "      <td>AGN</td>\n",
       "    </tr>\n",
       "    <tr>\n",
       "      <th>2</th>\n",
       "      <td>404744</td>\n",
       "      <td>AGN</td>\n",
       "    </tr>\n",
       "    <tr>\n",
       "      <th>3</th>\n",
       "      <td>835729</td>\n",
       "      <td>AGN</td>\n",
       "    </tr>\n",
       "    <tr>\n",
       "      <th>4</th>\n",
       "      <td>1152835</td>\n",
       "      <td>AGN</td>\n",
       "    </tr>\n",
       "    <tr>\n",
       "      <th>...</th>\n",
       "      <td>...</td>\n",
       "      <td>...</td>\n",
       "    </tr>\n",
       "    <tr>\n",
       "      <th>216</th>\n",
       "      <td>1470183</td>\n",
       "      <td>AGN</td>\n",
       "    </tr>\n",
       "    <tr>\n",
       "      <th>217</th>\n",
       "      <td>938996</td>\n",
       "      <td>AGN</td>\n",
       "    </tr>\n",
       "    <tr>\n",
       "      <th>218</th>\n",
       "      <td>500953</td>\n",
       "      <td>AGN</td>\n",
       "    </tr>\n",
       "    <tr>\n",
       "      <th>219</th>\n",
       "      <td>410793</td>\n",
       "      <td>AGN</td>\n",
       "    </tr>\n",
       "    <tr>\n",
       "      <th>220</th>\n",
       "      <td>467138</td>\n",
       "      <td>AGN</td>\n",
       "    </tr>\n",
       "  </tbody>\n",
       "</table>\n",
       "<p>1360 rows × 2 columns</p>\n",
       "</div>"
      ],
      "text/plain": [
       "          ID agn_clsf\n",
       "0     888234      AGN\n",
       "1    1086305      AGN\n",
       "2     404744      AGN\n",
       "3     835729      AGN\n",
       "4    1152835      AGN\n",
       "..       ...      ...\n",
       "216  1470183      AGN\n",
       "217   938996      AGN\n",
       "218   500953      AGN\n",
       "219   410793      AGN\n",
       "220   467138      AGN\n",
       "\n",
       "[1360 rows x 2 columns]"
      ]
     },
     "execution_count": 91,
     "metadata": {},
     "output_type": "execute_result"
    }
   ],
   "source": [
    "agn_cat.drop_duplicates(subset='ID', keep='first')"
   ]
  },
  {
   "cell_type": "code",
   "execution_count": 92,
   "id": "a27be053-bc42-4909-a6ee-ac8ea80546bb",
   "metadata": {},
   "outputs": [
    {
     "data": {
      "text/plain": [
       "SFG      826\n",
       "AGN      532\n",
       "HLAGN      2\n",
       "Name: agn_clsf, dtype: int64"
      ]
     },
     "execution_count": 92,
     "metadata": {},
     "output_type": "execute_result"
    }
   ],
   "source": [
    "agn_cat.agn_clsf.value_counts()"
   ]
  },
  {
   "cell_type": "code",
   "execution_count": 93,
   "id": "b9644eeb-cb4e-444f-a115-a1edd62e101c",
   "metadata": {},
   "outputs": [],
   "source": [
    "found_ids = list(agn_cat.ID)"
   ]
  },
  {
   "cell_type": "code",
   "execution_count": 94,
   "id": "53a657e2-8a47-4863-a9da-a9f982364384",
   "metadata": {},
   "outputs": [],
   "source": [
    "with fits.open(f'{cos_dat_fold}/MPA-JHU_full_catalogue.fits') as hdul:\n",
    "    mpa_jhu = hdul[1].data"
   ]
  },
  {
   "cell_type": "code",
   "execution_count": 95,
   "id": "ded67623-9763-4eff-836c-13e876d123a1",
   "metadata": {},
   "outputs": [],
   "source": [
    "# Function that selects the closest object in the MPA_JHU as the galaxy of interest.\n",
    "def get_correct_mpa_id(ra, dec, tab):\n",
    "    cosmos_coord = SkyCoord(ra = ra * u.deg, dec = dec * u.deg, frame = 'fk5')\n",
    "    \n",
    "    mpa_coords = SkyCoord(ra = tab['RA'] * u.deg, dec = tab['DEC'] * u.deg, frame = 'fk5')\n",
    "    \n",
    "    seps = list(abs((cosmos_coord.separation(mpa_coords)).to(u.arcsec) / u.arcsec))\n",
    "    \n",
    "    min_ind = seps.index(min(seps))\n",
    "    \n",
    "    return {'SPECOBJID_1' : tab[min_ind]['SPECOBJID_1'], 'RA' : tab[min_ind]['RA'], 'Dec' : tab[min_ind]['DEC']}"
   ]
  },
  {
   "cell_type": "code",
   "execution_count": 96,
   "id": "961d2ba8-ee1e-40ea-a48e-cac682d24835",
   "metadata": {},
   "outputs": [],
   "source": [
    "def matching_mpa_ids(ra, dec, mpa_cat):\n",
    "    arcsec_sep_deg = 15 / (60 * 60)\n",
    "    \n",
    "    matching_tab = mpa_cat[(mpa_cat['RA'] > ra - arcsec_sep_deg) & (mpa_cat['RA'] < ra + arcsec_sep_deg) & (mpa_cat['DEC'] > dec - arcsec_sep_deg) & (mpa_cat['DEC'] < dec + arcsec_sep_deg)]\n",
    "    if len(matching_tab) < 0.5:\n",
    "        return {'SPECOBJID_1' : np.nan, 'RA' : np.nan, 'Dec' : np.nan}\n",
    "    elif len(matching_tab) == 1:\n",
    "        return {'SPECOBJID_1' : matching_tab['SPECOBJID_1'][0], 'RA' : matching_tab['RA'][0], 'Dec' : matching_tab['DEC'][0]}\n",
    "    elif len(matching_tab) > 1:\n",
    "        return get_correct_mpa_id(ra, dec, matching_tab)\n",
    "    else:\n",
    "        print('Somethings gone very wrong!!')\n",
    "        sys.exit()"
   ]
  },
  {
   "cell_type": "code",
   "execution_count": 97,
   "id": "ca4d3f7a-540a-4f28-86a7-38d9c3246e72",
   "metadata": {},
   "outputs": [],
   "source": [
    "mpa_matched_dict = {}"
   ]
  },
  {
   "cell_type": "code",
   "execution_count": 98,
   "id": "5dbb4526-1988-429e-a25d-6ca85e626bfc",
   "metadata": {},
   "outputs": [
    {
     "name": "stderr",
     "output_type": "stream",
     "text": [
      "100%|██████████| 4152/4152 [18:02<00:00,  3.83it/s]\n"
     ]
    }
   ],
   "source": [
    "for i in tqdm(list(coords_dict.keys())):\n",
    "    if i in found_ids:\n",
    "        continue\n",
    "    \n",
    "    mpa_matched_dict[i] = matching_mpa_ids(coords_dict[i]['RA'], coords_dict[i]['DEC'], mpa_jhu)\n",
    "    \n",
    "    found_ids.append(i)"
   ]
  },
  {
   "cell_type": "code",
   "execution_count": 99,
   "id": "05f5fad1-9e7d-41aa-95cf-3553c53a9d86",
   "metadata": {},
   "outputs": [],
   "source": [
    "mpa_matched_df = (\n",
    "    pd.DataFrame.from_dict(mpa_matched_dict, orient = 'index')\n",
    "    .dropna()\n",
    "    .reset_index()\n",
    "    .rename(columns = {'index':'ID'})\n",
    ")"
   ]
  },
  {
   "cell_type": "code",
   "execution_count": 100,
   "id": "ea5a9747-d4e1-4186-87e3-51e421dcc7fc",
   "metadata": {},
   "outputs": [
    {
     "data": {
      "text/html": [
       "<div>\n",
       "<style scoped>\n",
       "    .dataframe tbody tr th:only-of-type {\n",
       "        vertical-align: middle;\n",
       "    }\n",
       "\n",
       "    .dataframe tbody tr th {\n",
       "        vertical-align: top;\n",
       "    }\n",
       "\n",
       "    .dataframe thead th {\n",
       "        text-align: right;\n",
       "    }\n",
       "</style>\n",
       "<table border=\"1\" class=\"dataframe\">\n",
       "  <thead>\n",
       "    <tr style=\"text-align: right;\">\n",
       "      <th></th>\n",
       "      <th>ID</th>\n",
       "      <th>SPECOBJID_1</th>\n",
       "      <th>RA</th>\n",
       "      <th>Dec</th>\n",
       "    </tr>\n",
       "  </thead>\n",
       "  <tbody>\n",
       "    <tr>\n",
       "      <th>0</th>\n",
       "      <td>1156381</td>\n",
       "      <td>563113264351832064</td>\n",
       "      <td>150.403885</td>\n",
       "      <td>2.508875</td>\n",
       "    </tr>\n",
       "    <tr>\n",
       "      <th>1</th>\n",
       "      <td>578325</td>\n",
       "      <td>564139662499670016</td>\n",
       "      <td>150.522308</td>\n",
       "      <td>1.974735</td>\n",
       "    </tr>\n",
       "    <tr>\n",
       "      <th>2</th>\n",
       "      <td>1473567</td>\n",
       "      <td>563107766793693184</td>\n",
       "      <td>149.934113</td>\n",
       "      <td>2.820669</td>\n",
       "    </tr>\n",
       "    <tr>\n",
       "      <th>3</th>\n",
       "      <td>724534</td>\n",
       "      <td>564181993697339392</td>\n",
       "      <td>150.179733</td>\n",
       "      <td>2.110343</td>\n",
       "    </tr>\n",
       "    <tr>\n",
       "      <th>4</th>\n",
       "      <td>1084278</td>\n",
       "      <td>564180894185711616</td>\n",
       "      <td>150.377701</td>\n",
       "      <td>2.440064</td>\n",
       "    </tr>\n",
       "    <tr>\n",
       "      <th>5</th>\n",
       "      <td>1121040</td>\n",
       "      <td>563101169723926528</td>\n",
       "      <td>150.185944</td>\n",
       "      <td>2.474567</td>\n",
       "    </tr>\n",
       "    <tr>\n",
       "      <th>6</th>\n",
       "      <td>1431797</td>\n",
       "      <td>563117662398343168</td>\n",
       "      <td>150.090851</td>\n",
       "      <td>2.782693</td>\n",
       "    </tr>\n",
       "    <tr>\n",
       "      <th>7</th>\n",
       "      <td>241559</td>\n",
       "      <td>562994242218125312</td>\n",
       "      <td>149.761536</td>\n",
       "      <td>1.646707</td>\n",
       "    </tr>\n",
       "    <tr>\n",
       "      <th>8</th>\n",
       "      <td>1018703</td>\n",
       "      <td>564172922726410240</td>\n",
       "      <td>150.027725</td>\n",
       "      <td>2.373884</td>\n",
       "    </tr>\n",
       "    <tr>\n",
       "      <th>9</th>\n",
       "      <td>858969</td>\n",
       "      <td>563089349973927936</td>\n",
       "      <td>149.788071</td>\n",
       "      <td>2.234646</td>\n",
       "    </tr>\n",
       "    <tr>\n",
       "      <th>10</th>\n",
       "      <td>722067</td>\n",
       "      <td>564181993697339392</td>\n",
       "      <td>150.179733</td>\n",
       "      <td>2.110343</td>\n",
       "    </tr>\n",
       "    <tr>\n",
       "      <th>11</th>\n",
       "      <td>718760</td>\n",
       "      <td>564181993697339392</td>\n",
       "      <td>150.179733</td>\n",
       "      <td>2.110343</td>\n",
       "    </tr>\n",
       "    <tr>\n",
       "      <th>12</th>\n",
       "      <td>1430670</td>\n",
       "      <td>563117662398343168</td>\n",
       "      <td>150.090851</td>\n",
       "      <td>2.782693</td>\n",
       "    </tr>\n",
       "    <tr>\n",
       "      <th>13</th>\n",
       "      <td>576003</td>\n",
       "      <td>564139662499670016</td>\n",
       "      <td>150.522308</td>\n",
       "      <td>1.974735</td>\n",
       "    </tr>\n",
       "    <tr>\n",
       "      <th>14</th>\n",
       "      <td>577297</td>\n",
       "      <td>564139662499670016</td>\n",
       "      <td>150.522308</td>\n",
       "      <td>1.974735</td>\n",
       "    </tr>\n",
       "    <tr>\n",
       "      <th>15</th>\n",
       "      <td>584707</td>\n",
       "      <td>564139662499670016</td>\n",
       "      <td>150.522308</td>\n",
       "      <td>1.974735</td>\n",
       "    </tr>\n",
       "    <tr>\n",
       "      <th>16</th>\n",
       "      <td>717784</td>\n",
       "      <td>564181993697339392</td>\n",
       "      <td>150.179733</td>\n",
       "      <td>2.110343</td>\n",
       "    </tr>\n",
       "    <tr>\n",
       "      <th>17</th>\n",
       "      <td>1015737</td>\n",
       "      <td>564172922726410240</td>\n",
       "      <td>150.027725</td>\n",
       "      <td>2.373884</td>\n",
       "    </tr>\n",
       "  </tbody>\n",
       "</table>\n",
       "</div>"
      ],
      "text/plain": [
       "         ID         SPECOBJID_1          RA       Dec\n",
       "0   1156381  563113264351832064  150.403885  2.508875\n",
       "1    578325  564139662499670016  150.522308  1.974735\n",
       "2   1473567  563107766793693184  149.934113  2.820669\n",
       "3    724534  564181993697339392  150.179733  2.110343\n",
       "4   1084278  564180894185711616  150.377701  2.440064\n",
       "5   1121040  563101169723926528  150.185944  2.474567\n",
       "6   1431797  563117662398343168  150.090851  2.782693\n",
       "7    241559  562994242218125312  149.761536  1.646707\n",
       "8   1018703  564172922726410240  150.027725  2.373884\n",
       "9    858969  563089349973927936  149.788071  2.234646\n",
       "10   722067  564181993697339392  150.179733  2.110343\n",
       "11   718760  564181993697339392  150.179733  2.110343\n",
       "12  1430670  563117662398343168  150.090851  2.782693\n",
       "13   576003  564139662499670016  150.522308  1.974735\n",
       "14   577297  564139662499670016  150.522308  1.974735\n",
       "15   584707  564139662499670016  150.522308  1.974735\n",
       "16   717784  564181993697339392  150.179733  2.110343\n",
       "17  1015737  564172922726410240  150.027725  2.373884"
      ]
     },
     "execution_count": 100,
     "metadata": {},
     "output_type": "execute_result"
    }
   ],
   "source": [
    "mpa_matched_df"
   ]
  },
  {
   "cell_type": "code",
   "execution_count": 101,
   "id": "a91e0ac2-3557-4727-b2b4-f1f3213f3eea",
   "metadata": {},
   "outputs": [],
   "source": [
    "def dedup_mpa(df):\n",
    "    \n",
    "    ra = df.RA.iloc[0]\n",
    "    dec = df.Dec.iloc[0]\n",
    "    \n",
    "    if len(df) == 1:\n",
    "        return df.ID.iloc[0]\n",
    "    \n",
    "    coords = SkyCoord(ra = ra * u.deg, dec = dec * u.deg, frame = 'fk5')\n",
    "    \n",
    "    df_coords = df.assign(coords = df.apply(lambda row: SkyCoord(ra = row.ALPHA_J2000 * u.deg, dec = row.DELTA_J2000 * u.deg, frame = 'fk5'), axis = 1))\n",
    "    \n",
    "    df_seps = df_coords.assign(seps = df_coords.coords.apply(lambda x: np.float64(abs(((x.separation(coords)).to(u.arcsec) / u.arcsec)))))\n",
    "    min_sep = df_seps.seps.min()\n",
    "    min_row = df_seps.query('seps == @min_sep')\n",
    "    return int(min_row.ID.iloc[0])"
   ]
  },
  {
   "cell_type": "code",
   "execution_count": 102,
   "id": "a9fdc014-e572-4bd3-8b9b-96be1fd3455e",
   "metadata": {},
   "outputs": [],
   "source": [
    "df_mpa_merg = (\n",
    "    mpa_matched_df\n",
    "    .merge(df_cat, on = 'ID', how = 'left')\n",
    "    [['ID', 'SPECOBJID_1', 'RA', 'Dec', 'ALPHA_J2000', 'DELTA_J2000']]\n",
    ")"
   ]
  },
  {
   "cell_type": "code",
   "execution_count": 103,
   "id": "5779ecf2-e74a-4764-a295-172de207622a",
   "metadata": {},
   "outputs": [
    {
     "data": {
      "text/html": [
       "<div>\n",
       "<style scoped>\n",
       "    .dataframe tbody tr th:only-of-type {\n",
       "        vertical-align: middle;\n",
       "    }\n",
       "\n",
       "    .dataframe tbody tr th {\n",
       "        vertical-align: top;\n",
       "    }\n",
       "\n",
       "    .dataframe thead th {\n",
       "        text-align: right;\n",
       "    }\n",
       "</style>\n",
       "<table border=\"1\" class=\"dataframe\">\n",
       "  <thead>\n",
       "    <tr style=\"text-align: right;\">\n",
       "      <th></th>\n",
       "      <th>ID</th>\n",
       "      <th>SPECOBJID_1</th>\n",
       "      <th>RA</th>\n",
       "      <th>Dec</th>\n",
       "      <th>ALPHA_J2000</th>\n",
       "      <th>DELTA_J2000</th>\n",
       "    </tr>\n",
       "  </thead>\n",
       "  <tbody>\n",
       "    <tr>\n",
       "      <th>0</th>\n",
       "      <td>1156381</td>\n",
       "      <td>563113264351832064</td>\n",
       "      <td>150.403885</td>\n",
       "      <td>2.508875</td>\n",
       "      <td>150.407974</td>\n",
       "      <td>2.507811</td>\n",
       "    </tr>\n",
       "    <tr>\n",
       "      <th>1</th>\n",
       "      <td>578325</td>\n",
       "      <td>564139662499670016</td>\n",
       "      <td>150.522308</td>\n",
       "      <td>1.974735</td>\n",
       "      <td>150.525207</td>\n",
       "      <td>1.974372</td>\n",
       "    </tr>\n",
       "    <tr>\n",
       "      <th>2</th>\n",
       "      <td>1473567</td>\n",
       "      <td>563107766793693184</td>\n",
       "      <td>149.934113</td>\n",
       "      <td>2.820669</td>\n",
       "      <td>149.931932</td>\n",
       "      <td>2.824748</td>\n",
       "    </tr>\n",
       "    <tr>\n",
       "      <th>3</th>\n",
       "      <td>724534</td>\n",
       "      <td>564181993697339392</td>\n",
       "      <td>150.179733</td>\n",
       "      <td>2.110343</td>\n",
       "      <td>150.176286</td>\n",
       "      <td>2.111888</td>\n",
       "    </tr>\n",
       "    <tr>\n",
       "      <th>4</th>\n",
       "      <td>1084278</td>\n",
       "      <td>564180894185711616</td>\n",
       "      <td>150.377701</td>\n",
       "      <td>2.440064</td>\n",
       "      <td>150.375383</td>\n",
       "      <td>2.441677</td>\n",
       "    </tr>\n",
       "    <tr>\n",
       "      <th>5</th>\n",
       "      <td>1121040</td>\n",
       "      <td>563101169723926528</td>\n",
       "      <td>150.185944</td>\n",
       "      <td>2.474567</td>\n",
       "      <td>150.186763</td>\n",
       "      <td>2.478538</td>\n",
       "    </tr>\n",
       "    <tr>\n",
       "      <th>6</th>\n",
       "      <td>1431797</td>\n",
       "      <td>563117662398343168</td>\n",
       "      <td>150.090851</td>\n",
       "      <td>2.782693</td>\n",
       "      <td>150.087899</td>\n",
       "      <td>2.779759</td>\n",
       "    </tr>\n",
       "    <tr>\n",
       "      <th>7</th>\n",
       "      <td>241559</td>\n",
       "      <td>562994242218125312</td>\n",
       "      <td>149.761536</td>\n",
       "      <td>1.646707</td>\n",
       "      <td>149.764582</td>\n",
       "      <td>1.644018</td>\n",
       "    </tr>\n",
       "    <tr>\n",
       "      <th>8</th>\n",
       "      <td>1018703</td>\n",
       "      <td>564172922726410240</td>\n",
       "      <td>150.027725</td>\n",
       "      <td>2.373884</td>\n",
       "      <td>150.028460</td>\n",
       "      <td>2.375080</td>\n",
       "    </tr>\n",
       "    <tr>\n",
       "      <th>9</th>\n",
       "      <td>858969</td>\n",
       "      <td>563089349973927936</td>\n",
       "      <td>149.788071</td>\n",
       "      <td>2.234646</td>\n",
       "      <td>149.786440</td>\n",
       "      <td>2.234091</td>\n",
       "    </tr>\n",
       "    <tr>\n",
       "      <th>10</th>\n",
       "      <td>722067</td>\n",
       "      <td>564181993697339392</td>\n",
       "      <td>150.179733</td>\n",
       "      <td>2.110343</td>\n",
       "      <td>150.177229</td>\n",
       "      <td>2.111765</td>\n",
       "    </tr>\n",
       "    <tr>\n",
       "      <th>11</th>\n",
       "      <td>718760</td>\n",
       "      <td>564181993697339392</td>\n",
       "      <td>150.179733</td>\n",
       "      <td>2.110343</td>\n",
       "      <td>150.179278</td>\n",
       "      <td>2.107399</td>\n",
       "    </tr>\n",
       "    <tr>\n",
       "      <th>12</th>\n",
       "      <td>1430670</td>\n",
       "      <td>563117662398343168</td>\n",
       "      <td>150.090851</td>\n",
       "      <td>2.782693</td>\n",
       "      <td>150.088831</td>\n",
       "      <td>2.778976</td>\n",
       "    </tr>\n",
       "    <tr>\n",
       "      <th>13</th>\n",
       "      <td>576003</td>\n",
       "      <td>564139662499670016</td>\n",
       "      <td>150.522308</td>\n",
       "      <td>1.974735</td>\n",
       "      <td>150.521712</td>\n",
       "      <td>1.974044</td>\n",
       "    </tr>\n",
       "    <tr>\n",
       "      <th>14</th>\n",
       "      <td>577297</td>\n",
       "      <td>564139662499670016</td>\n",
       "      <td>150.522308</td>\n",
       "      <td>1.974735</td>\n",
       "      <td>150.525553</td>\n",
       "      <td>1.973958</td>\n",
       "    </tr>\n",
       "    <tr>\n",
       "      <th>15</th>\n",
       "      <td>584707</td>\n",
       "      <td>564139662499670016</td>\n",
       "      <td>150.522308</td>\n",
       "      <td>1.974735</td>\n",
       "      <td>150.523535</td>\n",
       "      <td>1.977467</td>\n",
       "    </tr>\n",
       "    <tr>\n",
       "      <th>16</th>\n",
       "      <td>717784</td>\n",
       "      <td>564181993697339392</td>\n",
       "      <td>150.179733</td>\n",
       "      <td>2.110343</td>\n",
       "      <td>150.177607</td>\n",
       "      <td>2.106630</td>\n",
       "    </tr>\n",
       "    <tr>\n",
       "      <th>17</th>\n",
       "      <td>1015737</td>\n",
       "      <td>564172922726410240</td>\n",
       "      <td>150.027725</td>\n",
       "      <td>2.373884</td>\n",
       "      <td>150.031471</td>\n",
       "      <td>2.374501</td>\n",
       "    </tr>\n",
       "  </tbody>\n",
       "</table>\n",
       "</div>"
      ],
      "text/plain": [
       "         ID         SPECOBJID_1          RA       Dec  ALPHA_J2000  \\\n",
       "0   1156381  563113264351832064  150.403885  2.508875   150.407974   \n",
       "1    578325  564139662499670016  150.522308  1.974735   150.525207   \n",
       "2   1473567  563107766793693184  149.934113  2.820669   149.931932   \n",
       "3    724534  564181993697339392  150.179733  2.110343   150.176286   \n",
       "4   1084278  564180894185711616  150.377701  2.440064   150.375383   \n",
       "5   1121040  563101169723926528  150.185944  2.474567   150.186763   \n",
       "6   1431797  563117662398343168  150.090851  2.782693   150.087899   \n",
       "7    241559  562994242218125312  149.761536  1.646707   149.764582   \n",
       "8   1018703  564172922726410240  150.027725  2.373884   150.028460   \n",
       "9    858969  563089349973927936  149.788071  2.234646   149.786440   \n",
       "10   722067  564181993697339392  150.179733  2.110343   150.177229   \n",
       "11   718760  564181993697339392  150.179733  2.110343   150.179278   \n",
       "12  1430670  563117662398343168  150.090851  2.782693   150.088831   \n",
       "13   576003  564139662499670016  150.522308  1.974735   150.521712   \n",
       "14   577297  564139662499670016  150.522308  1.974735   150.525553   \n",
       "15   584707  564139662499670016  150.522308  1.974735   150.523535   \n",
       "16   717784  564181993697339392  150.179733  2.110343   150.177607   \n",
       "17  1015737  564172922726410240  150.027725  2.373884   150.031471   \n",
       "\n",
       "    DELTA_J2000  \n",
       "0      2.507811  \n",
       "1      1.974372  \n",
       "2      2.824748  \n",
       "3      2.111888  \n",
       "4      2.441677  \n",
       "5      2.478538  \n",
       "6      2.779759  \n",
       "7      1.644018  \n",
       "8      2.375080  \n",
       "9      2.234091  \n",
       "10     2.111765  \n",
       "11     2.107399  \n",
       "12     2.778976  \n",
       "13     1.974044  \n",
       "14     1.973958  \n",
       "15     1.977467  \n",
       "16     2.106630  \n",
       "17     2.374501  "
      ]
     },
     "execution_count": 103,
     "metadata": {},
     "output_type": "execute_result"
    }
   ],
   "source": [
    "df_mpa_merg"
   ]
  },
  {
   "cell_type": "code",
   "execution_count": 104,
   "id": "41fbc6b0-de57-464f-830d-572cd7582d06",
   "metadata": {},
   "outputs": [],
   "source": [
    "mpa_dedup_df = pd.DataFrame(df_mpa_merg.groupby('SPECOBJID_1').apply(lambda df: dedup_mpa(df))).reset_index().rename(columns = {0 : 'ID'})"
   ]
  },
  {
   "cell_type": "code",
   "execution_count": 105,
   "id": "487281a8-11b8-4787-866b-33ca99491a19",
   "metadata": {},
   "outputs": [
    {
     "data": {
      "text/html": [
       "<div>\n",
       "<style scoped>\n",
       "    .dataframe tbody tr th:only-of-type {\n",
       "        vertical-align: middle;\n",
       "    }\n",
       "\n",
       "    .dataframe tbody tr th {\n",
       "        vertical-align: top;\n",
       "    }\n",
       "\n",
       "    .dataframe thead th {\n",
       "        text-align: right;\n",
       "    }\n",
       "</style>\n",
       "<table border=\"1\" class=\"dataframe\">\n",
       "  <thead>\n",
       "    <tr style=\"text-align: right;\">\n",
       "      <th></th>\n",
       "      <th>SPECOBJID_1</th>\n",
       "      <th>ID</th>\n",
       "    </tr>\n",
       "  </thead>\n",
       "  <tbody>\n",
       "    <tr>\n",
       "      <th>0</th>\n",
       "      <td>562994242218125312</td>\n",
       "      <td>241559</td>\n",
       "    </tr>\n",
       "    <tr>\n",
       "      <th>1</th>\n",
       "      <td>563089349973927936</td>\n",
       "      <td>858969</td>\n",
       "    </tr>\n",
       "    <tr>\n",
       "      <th>2</th>\n",
       "      <td>563101169723926528</td>\n",
       "      <td>1121040</td>\n",
       "    </tr>\n",
       "    <tr>\n",
       "      <th>3</th>\n",
       "      <td>563107766793693184</td>\n",
       "      <td>1473567</td>\n",
       "    </tr>\n",
       "    <tr>\n",
       "      <th>4</th>\n",
       "      <td>563113264351832064</td>\n",
       "      <td>1156381</td>\n",
       "    </tr>\n",
       "    <tr>\n",
       "      <th>5</th>\n",
       "      <td>563117662398343168</td>\n",
       "      <td>1431797</td>\n",
       "    </tr>\n",
       "    <tr>\n",
       "      <th>6</th>\n",
       "      <td>564139662499670016</td>\n",
       "      <td>576003</td>\n",
       "    </tr>\n",
       "    <tr>\n",
       "      <th>7</th>\n",
       "      <td>564172922726410240</td>\n",
       "      <td>1018703</td>\n",
       "    </tr>\n",
       "    <tr>\n",
       "      <th>8</th>\n",
       "      <td>564180894185711616</td>\n",
       "      <td>1084278</td>\n",
       "    </tr>\n",
       "    <tr>\n",
       "      <th>9</th>\n",
       "      <td>564181993697339392</td>\n",
       "      <td>722067</td>\n",
       "    </tr>\n",
       "  </tbody>\n",
       "</table>\n",
       "</div>"
      ],
      "text/plain": [
       "          SPECOBJID_1       ID\n",
       "0  562994242218125312   241559\n",
       "1  563089349973927936   858969\n",
       "2  563101169723926528  1121040\n",
       "3  563107766793693184  1473567\n",
       "4  563113264351832064  1156381\n",
       "5  563117662398343168  1431797\n",
       "6  564139662499670016   576003\n",
       "7  564172922726410240  1018703\n",
       "8  564180894185711616  1084278\n",
       "9  564181993697339392   722067"
      ]
     },
     "execution_count": 105,
     "metadata": {},
     "output_type": "execute_result"
    }
   ],
   "source": [
    "mpa_dedup_df"
   ]
  },
  {
   "cell_type": "code",
   "execution_count": 106,
   "id": "b85a921b-dc8b-49e2-8b95-b9e5efa34273",
   "metadata": {},
   "outputs": [],
   "source": [
    "mpa_dict = mpa_dedup_df.set_index('ID').to_dict(orient = 'index')"
   ]
  },
  {
   "cell_type": "code",
   "execution_count": 107,
   "id": "fb98165d-8bae-45fc-b88c-890c4553bc46",
   "metadata": {},
   "outputs": [],
   "source": [
    "mpa_cat_dict = {}"
   ]
  },
  {
   "cell_type": "code",
   "execution_count": 108,
   "id": "4477f5ba-8a42-4f4f-9fac-ea25f5268f3a",
   "metadata": {},
   "outputs": [],
   "source": [
    "def getting_mpa_info(mpa_id, mpa_cat):\n",
    "    row = mpa_cat[mpa_cat['SPECOBJID_1'] == mpa_id]    \n",
    "    ans = row['BPTCLASS'][0]\n",
    "    return ans"
   ]
  },
  {
   "cell_type": "code",
   "execution_count": 109,
   "id": "414cf0de-3144-4533-b58c-0f74d4de655d",
   "metadata": {},
   "outputs": [
    {
     "name": "stderr",
     "output_type": "stream",
     "text": [
      "100%|██████████| 10/10 [00:06<00:00,  1.64it/s]\n"
     ]
    }
   ],
   "source": [
    "done_ids = list(mpa_cat_dict.keys())\n",
    "for i in tqdm(list(mpa_dict.keys())):\n",
    "    if i in done_ids:\n",
    "        continue\n",
    "    \n",
    "    mpa_cat_dict[i] = getting_mpa_info(mpa_dict[i]['SPECOBJID_1'], mpa_jhu)"
   ]
  },
  {
   "cell_type": "code",
   "execution_count": 110,
   "id": "3d17f2c7-0240-4056-ad23-7f55d36515c3",
   "metadata": {},
   "outputs": [
    {
     "data": {
      "text/html": [
       "<div>\n",
       "<style scoped>\n",
       "    .dataframe tbody tr th:only-of-type {\n",
       "        vertical-align: middle;\n",
       "    }\n",
       "\n",
       "    .dataframe tbody tr th {\n",
       "        vertical-align: top;\n",
       "    }\n",
       "\n",
       "    .dataframe thead th {\n",
       "        text-align: right;\n",
       "    }\n",
       "</style>\n",
       "<table border=\"1\" class=\"dataframe\">\n",
       "  <thead>\n",
       "    <tr style=\"text-align: right;\">\n",
       "      <th></th>\n",
       "      <th>clsf</th>\n",
       "    </tr>\n",
       "  </thead>\n",
       "  <tbody>\n",
       "    <tr>\n",
       "      <th>241559</th>\n",
       "      <td>2</td>\n",
       "    </tr>\n",
       "    <tr>\n",
       "      <th>858969</th>\n",
       "      <td>-1</td>\n",
       "    </tr>\n",
       "    <tr>\n",
       "      <th>1121040</th>\n",
       "      <td>-1</td>\n",
       "    </tr>\n",
       "    <tr>\n",
       "      <th>1473567</th>\n",
       "      <td>-1</td>\n",
       "    </tr>\n",
       "    <tr>\n",
       "      <th>1156381</th>\n",
       "      <td>2</td>\n",
       "    </tr>\n",
       "    <tr>\n",
       "      <th>1431797</th>\n",
       "      <td>-1</td>\n",
       "    </tr>\n",
       "    <tr>\n",
       "      <th>576003</th>\n",
       "      <td>-1</td>\n",
       "    </tr>\n",
       "    <tr>\n",
       "      <th>1018703</th>\n",
       "      <td>-1</td>\n",
       "    </tr>\n",
       "    <tr>\n",
       "      <th>1084278</th>\n",
       "      <td>-1</td>\n",
       "    </tr>\n",
       "    <tr>\n",
       "      <th>722067</th>\n",
       "      <td>3</td>\n",
       "    </tr>\n",
       "  </tbody>\n",
       "</table>\n",
       "</div>"
      ],
      "text/plain": [
       "         clsf\n",
       "241559      2\n",
       "858969     -1\n",
       "1121040    -1\n",
       "1473567    -1\n",
       "1156381     2\n",
       "1431797    -1\n",
       "576003     -1\n",
       "1018703    -1\n",
       "1084278    -1\n",
       "722067      3"
      ]
     },
     "execution_count": 110,
     "metadata": {},
     "output_type": "execute_result"
    }
   ],
   "source": [
    "mpa_cat_df = pd.DataFrame.from_dict(mpa_cat_dict, orient = 'index').rename(columns = {'index' : 'ID', 0 : 'clsf'}).dropna()\n",
    "mpa_cat_df"
   ]
  },
  {
   "cell_type": "code",
   "execution_count": 111,
   "id": "b3f20200-a5a3-4921-b41e-14f602bf492f",
   "metadata": {},
   "outputs": [
    {
     "data": {
      "text/plain": [
       "-1    7\n",
       " 2    2\n",
       " 3    1\n",
       "Name: clsf, dtype: int64"
      ]
     },
     "execution_count": 111,
     "metadata": {},
     "output_type": "execute_result"
    }
   ],
   "source": [
    "mpa_cat_df.clsf.value_counts()"
   ]
  },
  {
   "cell_type": "markdown",
   "id": "88dcbcd0-7632-4ad6-8230-e64427ad95b2",
   "metadata": {},
   "source": [
    "Spectral Definitions can be found here: https://home.strw.leidenuniv.nl/~jarle/SDSS/"
   ]
  },
  {
   "cell_type": "code",
   "execution_count": 112,
   "id": "0e83ccb5-c283-4828-9362-bce4ac7eb947",
   "metadata": {},
   "outputs": [],
   "source": [
    "def mpa_clsfs(clsf):\n",
    "    if clsf == -1 or clsf == 0 or clsf == 3:\n",
    "        return np.nan\n",
    "    elif clsf == 1 or clsf == 2:\n",
    "        return 'SFG'\n",
    "    elif clsf == 4 or clsf == 5:\n",
    "        return 'AGN'"
   ]
  },
  {
   "cell_type": "code",
   "execution_count": 113,
   "id": "6128a53c-0a7d-4764-9fc6-0c1db808e16e",
   "metadata": {},
   "outputs": [
    {
     "data": {
      "text/html": [
       "<div>\n",
       "<style scoped>\n",
       "    .dataframe tbody tr th:only-of-type {\n",
       "        vertical-align: middle;\n",
       "    }\n",
       "\n",
       "    .dataframe tbody tr th {\n",
       "        vertical-align: top;\n",
       "    }\n",
       "\n",
       "    .dataframe thead th {\n",
       "        text-align: right;\n",
       "    }\n",
       "</style>\n",
       "<table border=\"1\" class=\"dataframe\">\n",
       "  <thead>\n",
       "    <tr style=\"text-align: right;\">\n",
       "      <th></th>\n",
       "      <th>ID</th>\n",
       "      <th>agn_clsf</th>\n",
       "    </tr>\n",
       "  </thead>\n",
       "  <tbody>\n",
       "    <tr>\n",
       "      <th>0</th>\n",
       "      <td>241559</td>\n",
       "      <td>SFG</td>\n",
       "    </tr>\n",
       "    <tr>\n",
       "      <th>4</th>\n",
       "      <td>1156381</td>\n",
       "      <td>SFG</td>\n",
       "    </tr>\n",
       "  </tbody>\n",
       "</table>\n",
       "</div>"
      ],
      "text/plain": [
       "        ID agn_clsf\n",
       "0   241559      SFG\n",
       "4  1156381      SFG"
      ]
     },
     "execution_count": 113,
     "metadata": {},
     "output_type": "execute_result"
    }
   ],
   "source": [
    "mpa_clsf_df = (\n",
    "    mpa_cat_df\n",
    "    .assign(agn_clsf = mpa_cat_df.clsf.apply(lambda x: mpa_clsfs(x)))\n",
    "    .reset_index()\n",
    "    .rename(columns = {'index' : 'ID'})\n",
    "    .drop(columns = 'clsf')\n",
    "    .dropna()\n",
    ")\n",
    "mpa_clsf_df"
   ]
  },
  {
   "cell_type": "markdown",
   "id": "22cf7cc9-49ab-482a-8019-14a5a56d6609",
   "metadata": {
    "tags": []
   },
   "source": [
    "### Putting it all Together!"
   ]
  },
  {
   "cell_type": "markdown",
   "id": "5ec82795-1594-472f-bbc8-7cbf739e2586",
   "metadata": {},
   "source": [
    "chandra_agn_cat\n",
    "\n",
    "vla_cat_df\n",
    "\n",
    "clsf_df\n",
    "\n",
    "smol_clsf_df"
   ]
  },
  {
   "cell_type": "code",
   "execution_count": 114,
   "id": "82e51d39-a96e-4958-8324-c70ba0547c4e",
   "metadata": {},
   "outputs": [],
   "source": [
    "vla_cat_comb = vla_cat_df.reset_index().rename(columns = {'index' : 'ID', 'clsf' : 'agn_clsf' })"
   ]
  },
  {
   "cell_type": "code",
   "execution_count": 115,
   "id": "cda57bfe-c636-4976-b79f-09c03891b77c",
   "metadata": {},
   "outputs": [
    {
     "data": {
      "text/plain": [
       "SFG      2\n",
       "HLAGN    2\n",
       "Name: agn_clsf, dtype: int64"
      ]
     },
     "execution_count": 115,
     "metadata": {},
     "output_type": "execute_result"
    }
   ],
   "source": [
    "vla_cat_comb.drop_duplicates(subset='ID', keep='first').agn_clsf.value_counts()"
   ]
  },
  {
   "cell_type": "code",
   "execution_count": 118,
   "id": "9ae2db55-1ab9-4549-b32a-70352af4f87e",
   "metadata": {
    "tags": []
   },
   "outputs": [],
   "source": [
    "df_agn_cat = pd.concat([\n",
    "    vla_cat_comb,\n",
    "    smol_clsf_df, \n",
    "    chandra_cat_df.reset_index().rename(columns = {'index' : 'ID', 'clsf' : 'agn_clsf'}), \n",
    "    mpa_clsf_df])\n",
    "# df_agn_cat = pd.concat([vla_cat_comb, smol_clsf_df])"
   ]
  },
  {
   "cell_type": "code",
   "execution_count": 119,
   "id": "5ba93980-6641-4644-b696-e39fac42752c",
   "metadata": {},
   "outputs": [
    {
     "data": {
      "text/plain": [
       "1362"
      ]
     },
     "execution_count": 119,
     "metadata": {},
     "output_type": "execute_result"
    }
   ],
   "source": [
    "len(df_agn_cat)"
   ]
  },
  {
   "cell_type": "code",
   "execution_count": 120,
   "id": "6b7fcfbf-6633-44af-a7c0-e76ffdc25b55",
   "metadata": {},
   "outputs": [
    {
     "data": {
      "text/html": [
       "<div>\n",
       "<style scoped>\n",
       "    .dataframe tbody tr th:only-of-type {\n",
       "        vertical-align: middle;\n",
       "    }\n",
       "\n",
       "    .dataframe tbody tr th {\n",
       "        vertical-align: top;\n",
       "    }\n",
       "\n",
       "    .dataframe thead th {\n",
       "        text-align: right;\n",
       "    }\n",
       "</style>\n",
       "<table border=\"1\" class=\"dataframe\">\n",
       "  <thead>\n",
       "    <tr style=\"text-align: right;\">\n",
       "      <th></th>\n",
       "      <th>ID</th>\n",
       "      <th>agn_clsf</th>\n",
       "    </tr>\n",
       "  </thead>\n",
       "  <tbody>\n",
       "    <tr>\n",
       "      <th>0</th>\n",
       "      <td>765389</td>\n",
       "      <td>SFG</td>\n",
       "    </tr>\n",
       "    <tr>\n",
       "      <th>1</th>\n",
       "      <td>715417</td>\n",
       "      <td>HLAGN</td>\n",
       "    </tr>\n",
       "    <tr>\n",
       "      <th>2</th>\n",
       "      <td>1485262</td>\n",
       "      <td>SFG</td>\n",
       "    </tr>\n",
       "    <tr>\n",
       "      <th>3</th>\n",
       "      <td>998663</td>\n",
       "      <td>HLAGN</td>\n",
       "    </tr>\n",
       "    <tr>\n",
       "      <th>0</th>\n",
       "      <td>888234</td>\n",
       "      <td>AGN</td>\n",
       "    </tr>\n",
       "    <tr>\n",
       "      <th>...</th>\n",
       "      <td>...</td>\n",
       "      <td>...</td>\n",
       "    </tr>\n",
       "    <tr>\n",
       "      <th>218</th>\n",
       "      <td>500953</td>\n",
       "      <td>AGN</td>\n",
       "    </tr>\n",
       "    <tr>\n",
       "      <th>219</th>\n",
       "      <td>410793</td>\n",
       "      <td>AGN</td>\n",
       "    </tr>\n",
       "    <tr>\n",
       "      <th>220</th>\n",
       "      <td>467138</td>\n",
       "      <td>AGN</td>\n",
       "    </tr>\n",
       "    <tr>\n",
       "      <th>0</th>\n",
       "      <td>241559</td>\n",
       "      <td>SFG</td>\n",
       "    </tr>\n",
       "    <tr>\n",
       "      <th>4</th>\n",
       "      <td>1156381</td>\n",
       "      <td>SFG</td>\n",
       "    </tr>\n",
       "  </tbody>\n",
       "</table>\n",
       "<p>1362 rows × 2 columns</p>\n",
       "</div>"
      ],
      "text/plain": [
       "          ID agn_clsf\n",
       "0     765389      SFG\n",
       "1     715417    HLAGN\n",
       "2    1485262      SFG\n",
       "3     998663    HLAGN\n",
       "0     888234      AGN\n",
       "..       ...      ...\n",
       "218   500953      AGN\n",
       "219   410793      AGN\n",
       "220   467138      AGN\n",
       "0     241559      SFG\n",
       "4    1156381      SFG\n",
       "\n",
       "[1362 rows x 2 columns]"
      ]
     },
     "execution_count": 120,
     "metadata": {},
     "output_type": "execute_result"
    }
   ],
   "source": [
    "df_agn_cat"
   ]
  },
  {
   "cell_type": "code",
   "execution_count": 121,
   "id": "cef1838a-6e1a-4985-a0e7-2850788cb70e",
   "metadata": {},
   "outputs": [
    {
     "data": {
      "text/plain": [
       "SFG      828\n",
       "AGN      532\n",
       "HLAGN      2\n",
       "Name: agn_clsf, dtype: int64"
      ]
     },
     "execution_count": 121,
     "metadata": {},
     "output_type": "execute_result"
    }
   ],
   "source": [
    "df_agn_cat.agn_clsf.value_counts()"
   ]
  },
  {
   "cell_type": "code",
   "execution_count": 122,
   "id": "a23b55d0-b2f7-45ca-88e7-dbf6d70da237",
   "metadata": {},
   "outputs": [
    {
     "data": {
      "text/plain": [
       "1362"
      ]
     },
     "execution_count": 122,
     "metadata": {},
     "output_type": "execute_result"
    }
   ],
   "source": [
    "len(df_agn_cat.drop_duplicates(subset='ID', keep='first'))"
   ]
  },
  {
   "cell_type": "code",
   "execution_count": 123,
   "id": "82bb0e2e-bfd0-4c1b-9320-b2f97d70ac85",
   "metadata": {},
   "outputs": [],
   "source": [
    "df_agn_dedup = df_agn_cat.drop_duplicates(subset='ID', keep='first')"
   ]
  },
  {
   "cell_type": "code",
   "execution_count": 124,
   "id": "d5280803-ae15-4a02-bc57-4e20e64167ed",
   "metadata": {},
   "outputs": [
    {
     "data": {
      "text/plain": [
       "SFG      828\n",
       "AGN      532\n",
       "HLAGN      2\n",
       "Name: agn_clsf, dtype: int64"
      ]
     },
     "execution_count": 124,
     "metadata": {},
     "output_type": "execute_result"
    }
   ],
   "source": [
    "df_agn_dedup.agn_clsf.value_counts()"
   ]
  },
  {
   "cell_type": "code",
   "execution_count": 125,
   "id": "59565e7f-84db-4563-9a32-641f5aaedd2b",
   "metadata": {},
   "outputs": [],
   "source": [
    "df_agn_dedup.to_csv(f'{combine_fold}/source-agn-cat.csv')"
   ]
  },
  {
   "cell_type": "code",
   "execution_count": null,
   "id": "b8d8e6da-b78f-4781-90fe-48d916590966",
   "metadata": {},
   "outputs": [],
   "source": []
  }
 ],
 "metadata": {
  "kernelspec": {
   "display_name": "Python 3 (ipykernel)",
   "language": "python",
   "name": "python3"
  },
  "language_info": {
   "codemirror_mode": {
    "name": "ipython",
    "version": 3
   },
   "file_extension": ".py",
   "mimetype": "text/x-python",
   "name": "python",
   "nbconvert_exporter": "python",
   "pygments_lexer": "ipython3",
   "version": "3.7.13"
  }
 },
 "nbformat": 4,
 "nbformat_minor": 5
}
