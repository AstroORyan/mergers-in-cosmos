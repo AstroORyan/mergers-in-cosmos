{
 "cells": [
  {
   "cell_type": "code",
   "execution_count": 1,
   "id": "bf34f2ab-8c4b-48d8-8b41-90289162ff96",
   "metadata": {},
   "outputs": [],
   "source": [
    "import pandas as pd\n",
    "import numpy as np\n",
    "import matplotlib.pyplot as plt\n",
    "\n",
    "from tqdm import tqdm\n",
    "tqdm.pandas()\n",
    "\n",
    "from astropy.coordinates import SkyCoord\n",
    "from astropy.io import fits\n",
    "from astropy.table import Table"
   ]
  },
  {
   "cell_type": "code",
   "execution_count": 2,
   "id": "7aec3e14-98c8-4336-947e-5ebeac9b4022",
   "metadata": {},
   "outputs": [],
   "source": [
    "combine_fold = 'C:/Users/oryan/Documents/mergers-in-cosmos/cats-to-combine'\n",
    "data_folder = 'C:/Users/oryan/Documents/mergers-in-cosmos/back-to-basics-data'\n",
    "fig_folder = 'C:/Users/oryan/Documents/mergers-in-cosmos/paper-source/figures'\n",
    "cos_dat_fold = 'E:/cosmos-data'"
   ]
  },
  {
   "cell_type": "code",
   "execution_count": 3,
   "id": "fa7a71d3-c064-4644-b6d0-a0d8f83582d9",
   "metadata": {},
   "outputs": [
    {
     "name": "stderr",
     "output_type": "stream",
     "text": [
      "C:\\Users\\oryan\\AppData\\Local\\Continuum\\anaconda3\\lib\\site-packages\\IPython\\core\\interactiveshell.py:3457: DtypeWarning: Columns (1) have mixed types.Specify dtype option on import or set low_memory=False.\n",
      "  exec(code_obj, self.user_global_ns, self.user_ns)\n"
     ]
    }
   ],
   "source": [
    "df_or_cat = pd.read_csv(f'{combine_fold}/dor-all-restaged-full.csv', index_col = 0)"
   ]
  },
  {
   "cell_type": "code",
   "execution_count": 4,
   "id": "8079827e-89bc-4b87-bea8-b9bb88f4bcaf",
   "metadata": {},
   "outputs": [
    {
     "data": {
      "text/html": [
       "<div>\n",
       "<style scoped>\n",
       "    .dataframe tbody tr th:only-of-type {\n",
       "        vertical-align: middle;\n",
       "    }\n",
       "\n",
       "    .dataframe tbody tr th {\n",
       "        vertical-align: top;\n",
       "    }\n",
       "\n",
       "    .dataframe thead th {\n",
       "        text-align: right;\n",
       "    }\n",
       "</style>\n",
       "<table border=\"1\" class=\"dataframe\">\n",
       "  <thead>\n",
       "    <tr style=\"text-align: right;\">\n",
       "      <th></th>\n",
       "      <th>ORyanID_23</th>\n",
       "      <th>ID</th>\n",
       "      <th>category</th>\n",
       "      <th>ALPHA_J2000</th>\n",
       "      <th>DELTA_J2000</th>\n",
       "      <th>X_IMAGE</th>\n",
       "      <th>Y_IMAGE</th>\n",
       "      <th>ERRX2_IMAGE</th>\n",
       "      <th>ERRY2_IMAGE</th>\n",
       "      <th>ERRXY_IMAGE</th>\n",
       "      <th>...</th>\n",
       "      <th>ez_ssfr_p025</th>\n",
       "      <th>ez_ssfr_p160</th>\n",
       "      <th>ez_ssfr_p500</th>\n",
       "      <th>ez_ssfr_p840</th>\n",
       "      <th>ez_ssfr_p975</th>\n",
       "      <th>ez_Av_p025</th>\n",
       "      <th>ez_Av_p160</th>\n",
       "      <th>ez_Av_p500</th>\n",
       "      <th>ez_Av_p840</th>\n",
       "      <th>ez_Av_p975</th>\n",
       "    </tr>\n",
       "  </thead>\n",
       "  <tbody>\n",
       "    <tr>\n",
       "      <th>0</th>\n",
       "      <td>4000705532455</td>\n",
       "      <td>816891</td>\n",
       "      <td>stage4</td>\n",
       "      <td>150.679846</td>\n",
       "      <td>2.196543</td>\n",
       "      <td>9200.399414</td>\n",
       "      <td>21737.232422</td>\n",
       "      <td>0.000052</td>\n",
       "      <td>0.000059</td>\n",
       "      <td>-1.043282e-05</td>\n",
       "      <td>...</td>\n",
       "      <td>-8.931825</td>\n",
       "      <td>-8.911355</td>\n",
       "      <td>-8.899668</td>\n",
       "      <td>-8.883307</td>\n",
       "      <td>-8.872990</td>\n",
       "      <td>0.529107</td>\n",
       "      <td>0.560142</td>\n",
       "      <td>0.599624</td>\n",
       "      <td>0.630920</td>\n",
       "      <td>0.652330</td>\n",
       "    </tr>\n",
       "    <tr>\n",
       "      <th>1</th>\n",
       "      <td>4000705533383</td>\n",
       "      <td>860686</td>\n",
       "      <td>stage3</td>\n",
       "      <td>150.644522</td>\n",
       "      <td>2.237226</td>\n",
       "      <td>10047.978516</td>\n",
       "      <td>22713.351562</td>\n",
       "      <td>0.000051</td>\n",
       "      <td>0.000046</td>\n",
       "      <td>1.571297e-06</td>\n",
       "      <td>...</td>\n",
       "      <td>-9.314209</td>\n",
       "      <td>-9.106611</td>\n",
       "      <td>-8.941274</td>\n",
       "      <td>-8.713107</td>\n",
       "      <td>-8.541205</td>\n",
       "      <td>0.341270</td>\n",
       "      <td>0.545498</td>\n",
       "      <td>0.732327</td>\n",
       "      <td>0.906665</td>\n",
       "      <td>1.020098</td>\n",
       "    </tr>\n",
       "    <tr>\n",
       "      <th>2</th>\n",
       "      <td>4000705539941</td>\n",
       "      <td>1301188</td>\n",
       "      <td>stage2</td>\n",
       "      <td>149.702462</td>\n",
       "      <td>2.654895</td>\n",
       "      <td>32637.949219</td>\n",
       "      <td>32737.013672</td>\n",
       "      <td>0.000064</td>\n",
       "      <td>0.000104</td>\n",
       "      <td>-2.881107e-06</td>\n",
       "      <td>...</td>\n",
       "      <td>-9.794128</td>\n",
       "      <td>-9.784252</td>\n",
       "      <td>-9.766013</td>\n",
       "      <td>-9.743796</td>\n",
       "      <td>-9.727879</td>\n",
       "      <td>0.018737</td>\n",
       "      <td>0.018737</td>\n",
       "      <td>0.018737</td>\n",
       "      <td>0.018737</td>\n",
       "      <td>0.018737</td>\n",
       "    </tr>\n",
       "    <tr>\n",
       "      <th>3</th>\n",
       "      <td>4000705540034</td>\n",
       "      <td>1304538</td>\n",
       "      <td>stage3</td>\n",
       "      <td>149.726828</td>\n",
       "      <td>2.658172</td>\n",
       "      <td>32053.712891</td>\n",
       "      <td>32815.468750</td>\n",
       "      <td>0.000071</td>\n",
       "      <td>0.000086</td>\n",
       "      <td>-6.036952e-06</td>\n",
       "      <td>...</td>\n",
       "      <td>-9.480532</td>\n",
       "      <td>-9.443615</td>\n",
       "      <td>-9.402433</td>\n",
       "      <td>-9.352081</td>\n",
       "      <td>-9.325659</td>\n",
       "      <td>0.302629</td>\n",
       "      <td>0.376027</td>\n",
       "      <td>0.440394</td>\n",
       "      <td>0.508153</td>\n",
       "      <td>0.567727</td>\n",
       "    </tr>\n",
       "    <tr>\n",
       "      <th>4</th>\n",
       "      <td>4000705540064</td>\n",
       "      <td>1310001</td>\n",
       "      <td>stage3</td>\n",
       "      <td>149.701230</td>\n",
       "      <td>2.660343</td>\n",
       "      <td>32667.441406</td>\n",
       "      <td>32867.789062</td>\n",
       "      <td>0.000026</td>\n",
       "      <td>0.000020</td>\n",
       "      <td>-1.023530e-05</td>\n",
       "      <td>...</td>\n",
       "      <td>-9.882174</td>\n",
       "      <td>-9.855921</td>\n",
       "      <td>-9.816085</td>\n",
       "      <td>-9.697225</td>\n",
       "      <td>-9.573506</td>\n",
       "      <td>0.455258</td>\n",
       "      <td>0.482555</td>\n",
       "      <td>0.522239</td>\n",
       "      <td>0.600383</td>\n",
       "      <td>0.660279</td>\n",
       "    </tr>\n",
       "    <tr>\n",
       "      <th>...</th>\n",
       "      <td>...</td>\n",
       "      <td>...</td>\n",
       "      <td>...</td>\n",
       "      <td>...</td>\n",
       "      <td>...</td>\n",
       "      <td>...</td>\n",
       "      <td>...</td>\n",
       "      <td>...</td>\n",
       "      <td>...</td>\n",
       "      <td>...</td>\n",
       "      <td>...</td>\n",
       "      <td>...</td>\n",
       "      <td>...</td>\n",
       "      <td>...</td>\n",
       "      <td>...</td>\n",
       "      <td>...</td>\n",
       "      <td>...</td>\n",
       "      <td>...</td>\n",
       "      <td>...</td>\n",
       "      <td>...</td>\n",
       "      <td>...</td>\n",
       "    </tr>\n",
       "    <tr>\n",
       "      <th>4176</th>\n",
       "      <td>4001204758614_extra</td>\n",
       "      <td>1520733</td>\n",
       "      <td>stage4</td>\n",
       "      <td>149.891374</td>\n",
       "      <td>2.866981</td>\n",
       "      <td>28107.876953</td>\n",
       "      <td>37826.437500</td>\n",
       "      <td>0.000086</td>\n",
       "      <td>0.000104</td>\n",
       "      <td>-9.313976e-07</td>\n",
       "      <td>...</td>\n",
       "      <td>-9.441206</td>\n",
       "      <td>-9.279022</td>\n",
       "      <td>-9.095134</td>\n",
       "      <td>-9.003501</td>\n",
       "      <td>-8.955496</td>\n",
       "      <td>0.120441</td>\n",
       "      <td>0.213251</td>\n",
       "      <td>0.306832</td>\n",
       "      <td>0.556012</td>\n",
       "      <td>0.731876</td>\n",
       "    </tr>\n",
       "    <tr>\n",
       "      <th>4177</th>\n",
       "      <td>4546055995_extra</td>\n",
       "      <td>1520749</td>\n",
       "      <td>stage2</td>\n",
       "      <td>150.383110</td>\n",
       "      <td>2.865367</td>\n",
       "      <td>16320.103516</td>\n",
       "      <td>37787.917969</td>\n",
       "      <td>0.000131</td>\n",
       "      <td>0.000236</td>\n",
       "      <td>7.123858e-05</td>\n",
       "      <td>...</td>\n",
       "      <td>-9.857880</td>\n",
       "      <td>-9.658215</td>\n",
       "      <td>-9.485625</td>\n",
       "      <td>-9.235816</td>\n",
       "      <td>-8.971795</td>\n",
       "      <td>0.162147</td>\n",
       "      <td>0.238640</td>\n",
       "      <td>0.432004</td>\n",
       "      <td>0.592193</td>\n",
       "      <td>0.687256</td>\n",
       "    </tr>\n",
       "    <tr>\n",
       "      <th>4178</th>\n",
       "      <td>4000927318133_extra</td>\n",
       "      <td>1523385</td>\n",
       "      <td>stage3</td>\n",
       "      <td>149.789910</td>\n",
       "      <td>2.865132</td>\n",
       "      <td>30540.179688</td>\n",
       "      <td>37782.648438</td>\n",
       "      <td>0.000045</td>\n",
       "      <td>0.000059</td>\n",
       "      <td>1.600747e-05</td>\n",
       "      <td>...</td>\n",
       "      <td>-9.525900</td>\n",
       "      <td>-9.472779</td>\n",
       "      <td>-9.353454</td>\n",
       "      <td>-9.273221</td>\n",
       "      <td>-9.213521</td>\n",
       "      <td>0.262676</td>\n",
       "      <td>0.355466</td>\n",
       "      <td>0.410356</td>\n",
       "      <td>0.489105</td>\n",
       "      <td>0.566003</td>\n",
       "    </tr>\n",
       "    <tr>\n",
       "      <th>4179</th>\n",
       "      <td>4000747939904_extra</td>\n",
       "      <td>1524909</td>\n",
       "      <td>stage3</td>\n",
       "      <td>150.450581</td>\n",
       "      <td>2.872371</td>\n",
       "      <td>14702.710938</td>\n",
       "      <td>37956.468750</td>\n",
       "      <td>0.000248</td>\n",
       "      <td>0.000292</td>\n",
       "      <td>7.378556e-06</td>\n",
       "      <td>...</td>\n",
       "      <td>-9.556987</td>\n",
       "      <td>-9.385500</td>\n",
       "      <td>-9.154130</td>\n",
       "      <td>-9.026810</td>\n",
       "      <td>-8.938077</td>\n",
       "      <td>0.153294</td>\n",
       "      <td>0.283249</td>\n",
       "      <td>0.436332</td>\n",
       "      <td>0.600615</td>\n",
       "      <td>0.693621</td>\n",
       "    </tr>\n",
       "    <tr>\n",
       "      <th>4180</th>\n",
       "      <td>4001239405815_extra</td>\n",
       "      <td>1529226</td>\n",
       "      <td>stage4</td>\n",
       "      <td>150.372099</td>\n",
       "      <td>2.872333</td>\n",
       "      <td>16584.076172</td>\n",
       "      <td>37955.070312</td>\n",
       "      <td>0.000018</td>\n",
       "      <td>0.000019</td>\n",
       "      <td>5.020723e-06</td>\n",
       "      <td>...</td>\n",
       "      <td>-10.793317</td>\n",
       "      <td>-10.749337</td>\n",
       "      <td>-10.671772</td>\n",
       "      <td>-10.571155</td>\n",
       "      <td>-10.450612</td>\n",
       "      <td>0.541194</td>\n",
       "      <td>0.584935</td>\n",
       "      <td>0.723596</td>\n",
       "      <td>0.791648</td>\n",
       "      <td>0.920438</td>\n",
       "    </tr>\n",
       "  </tbody>\n",
       "</table>\n",
       "<p>4181 rows × 756 columns</p>\n",
       "</div>"
      ],
      "text/plain": [
       "               ORyanID_23       ID category  ALPHA_J2000  DELTA_J2000  \\\n",
       "0           4000705532455   816891   stage4   150.679846     2.196543   \n",
       "1           4000705533383   860686   stage3   150.644522     2.237226   \n",
       "2           4000705539941  1301188   stage2   149.702462     2.654895   \n",
       "3           4000705540034  1304538   stage3   149.726828     2.658172   \n",
       "4           4000705540064  1310001   stage3   149.701230     2.660343   \n",
       "...                   ...      ...      ...          ...          ...   \n",
       "4176  4001204758614_extra  1520733   stage4   149.891374     2.866981   \n",
       "4177     4546055995_extra  1520749   stage2   150.383110     2.865367   \n",
       "4178  4000927318133_extra  1523385   stage3   149.789910     2.865132   \n",
       "4179  4000747939904_extra  1524909   stage3   150.450581     2.872371   \n",
       "4180  4001239405815_extra  1529226   stage4   150.372099     2.872333   \n",
       "\n",
       "           X_IMAGE       Y_IMAGE  ERRX2_IMAGE  ERRY2_IMAGE   ERRXY_IMAGE  ...  \\\n",
       "0      9200.399414  21737.232422     0.000052     0.000059 -1.043282e-05  ...   \n",
       "1     10047.978516  22713.351562     0.000051     0.000046  1.571297e-06  ...   \n",
       "2     32637.949219  32737.013672     0.000064     0.000104 -2.881107e-06  ...   \n",
       "3     32053.712891  32815.468750     0.000071     0.000086 -6.036952e-06  ...   \n",
       "4     32667.441406  32867.789062     0.000026     0.000020 -1.023530e-05  ...   \n",
       "...            ...           ...          ...          ...           ...  ...   \n",
       "4176  28107.876953  37826.437500     0.000086     0.000104 -9.313976e-07  ...   \n",
       "4177  16320.103516  37787.917969     0.000131     0.000236  7.123858e-05  ...   \n",
       "4178  30540.179688  37782.648438     0.000045     0.000059  1.600747e-05  ...   \n",
       "4179  14702.710938  37956.468750     0.000248     0.000292  7.378556e-06  ...   \n",
       "4180  16584.076172  37955.070312     0.000018     0.000019  5.020723e-06  ...   \n",
       "\n",
       "      ez_ssfr_p025  ez_ssfr_p160  ez_ssfr_p500  ez_ssfr_p840  ez_ssfr_p975  \\\n",
       "0        -8.931825     -8.911355     -8.899668     -8.883307     -8.872990   \n",
       "1        -9.314209     -9.106611     -8.941274     -8.713107     -8.541205   \n",
       "2        -9.794128     -9.784252     -9.766013     -9.743796     -9.727879   \n",
       "3        -9.480532     -9.443615     -9.402433     -9.352081     -9.325659   \n",
       "4        -9.882174     -9.855921     -9.816085     -9.697225     -9.573506   \n",
       "...            ...           ...           ...           ...           ...   \n",
       "4176     -9.441206     -9.279022     -9.095134     -9.003501     -8.955496   \n",
       "4177     -9.857880     -9.658215     -9.485625     -9.235816     -8.971795   \n",
       "4178     -9.525900     -9.472779     -9.353454     -9.273221     -9.213521   \n",
       "4179     -9.556987     -9.385500     -9.154130     -9.026810     -8.938077   \n",
       "4180    -10.793317    -10.749337    -10.671772    -10.571155    -10.450612   \n",
       "\n",
       "      ez_Av_p025  ez_Av_p160  ez_Av_p500  ez_Av_p840  ez_Av_p975  \n",
       "0       0.529107    0.560142    0.599624    0.630920    0.652330  \n",
       "1       0.341270    0.545498    0.732327    0.906665    1.020098  \n",
       "2       0.018737    0.018737    0.018737    0.018737    0.018737  \n",
       "3       0.302629    0.376027    0.440394    0.508153    0.567727  \n",
       "4       0.455258    0.482555    0.522239    0.600383    0.660279  \n",
       "...          ...         ...         ...         ...         ...  \n",
       "4176    0.120441    0.213251    0.306832    0.556012    0.731876  \n",
       "4177    0.162147    0.238640    0.432004    0.592193    0.687256  \n",
       "4178    0.262676    0.355466    0.410356    0.489105    0.566003  \n",
       "4179    0.153294    0.283249    0.436332    0.600615    0.693621  \n",
       "4180    0.541194    0.584935    0.723596    0.791648    0.920438  \n",
       "\n",
       "[4181 rows x 756 columns]"
      ]
     },
     "execution_count": 4,
     "metadata": {},
     "output_type": "execute_result"
    }
   ],
   "source": [
    "df_or_cat"
   ]
  },
  {
   "cell_type": "code",
   "execution_count": 213,
   "id": "c7b29ec7-c69b-479b-8788-e4cd15350f84",
   "metadata": {},
   "outputs": [
    {
     "data": {
      "text/plain": [
       "stage3    1525\n",
       "stage2    1043\n",
       "stage1     858\n",
       "stage4     755\n",
       "Name: category, dtype: int64"
      ]
     },
     "execution_count": 213,
     "metadata": {},
     "output_type": "execute_result"
    }
   ],
   "source": [
    "df_or_cat.category.value_counts()"
   ]
  },
  {
   "cell_type": "code",
   "execution_count": 214,
   "id": "cebd58a9-8014-4101-8659-f3884a665731",
   "metadata": {},
   "outputs": [],
   "source": [
    "df_or_noextra = (\n",
    "    df_or_cat\n",
    "    .assign(extra = df_or_cat.ORyanID_23.apply(lambda x: True if type(x) == str and 'extra' in str(x) else False))\n",
    "    .query('extra == False')\n",
    ")"
   ]
  },
  {
   "cell_type": "code",
   "execution_count": 215,
   "id": "ea977a81-4547-418f-8ebe-c0373d2898eb",
   "metadata": {},
   "outputs": [
    {
     "data": {
      "text/plain": [
       "stage3    1290\n",
       "stage2     931\n",
       "stage4     616\n",
       "stage1     509\n",
       "Name: category, dtype: int64"
      ]
     },
     "execution_count": 215,
     "metadata": {},
     "output_type": "execute_result"
    }
   ],
   "source": [
    "df_or_noextra.category.value_counts()"
   ]
  },
  {
   "cell_type": "markdown",
   "id": "570695e2-6fc8-4a4b-b7b1-91859f5ef602",
   "metadata": {},
   "source": [
    "## Separating 2015 and 2020 Only"
   ]
  },
  {
   "cell_type": "code",
   "execution_count": 216,
   "id": "056fd362-d10a-4472-a404-8ff5895ee002",
   "metadata": {},
   "outputs": [],
   "source": [
    "df_no_2015 = df_or_noextra.query('ID_COSMOS2015 == -99')"
   ]
  },
  {
   "cell_type": "code",
   "execution_count": 217,
   "id": "450f4904-efe3-4ed4-9618-c6c2d4d91193",
   "metadata": {},
   "outputs": [],
   "source": [
    "df_2015 = df_or_noextra.query('ID_COSMOS2015 != -99')"
   ]
  },
  {
   "cell_type": "markdown",
   "id": "7c33bba9-e1b0-4439-af81-6a0d395f1b2e",
   "metadata": {},
   "source": [
    "## Matching Known IDs"
   ]
  },
  {
   "cell_type": "code",
   "execution_count": 218,
   "id": "07a68651-b12a-4598-8fef-a40a83831d22",
   "metadata": {},
   "outputs": [],
   "source": [
    "with fits.open(f'{cos_dat_fold}/VLA_3GHz_counterpart_array_20170210_paper_smolcic_et_al.fits') as hdul:\n",
    "    smol_rec = hdul[1].data"
   ]
  },
  {
   "cell_type": "code",
   "execution_count": 219,
   "id": "168805af-0b0c-466c-b381-57eacfaed4f7",
   "metadata": {},
   "outputs": [
    {
     "data": {
      "text/plain": [
       "array([0, 1, 0, ..., 0, 0, 7])"
      ]
     },
     "execution_count": 219,
     "metadata": {},
     "output_type": "execute_result"
    }
   ],
   "source": [
    "smol_rec['flag_COSMOS2015']"
   ]
  },
  {
   "cell_type": "code",
   "execution_count": 220,
   "id": "56915c4b-a845-4748-a08f-6c9aa63958e1",
   "metadata": {},
   "outputs": [],
   "source": [
    "def getting_smol_info(cosmos_2015id, smol_rec):\n",
    "    \n",
    "    row = smol_rec[(smol_rec['ID_CPT'] == cosmos_2015id) & (smol_rec['CAT_CPT'] == 'COSMOS2015')]\n",
    "    if len(row) > 0:        \n",
    "        if row['SFG'] == 'true':\n",
    "            return 'SFG'\n",
    "        else:\n",
    "            return 'AGN'\n",
    "    else:\n",
    "        return np.nan\n",
    "    \n",
    "            \n",
    "#     if flag == 1:\n",
    "#         return 'no_COSMOS'\n",
    "    \n",
    "#     clsfs = []\n",
    "#     for j in clsfs_nostrip:\n",
    "#         clsfs.append(j.strip())\n",
    "        \n",
    "#     if clsfs[0] == 'true':\n",
    "#         return 'SFG'\n",
    "#     elif clsfs[1] == 'true':\n",
    "#         return 'SFG'\n",
    "#     else:\n",
    "#         return 'AGN'\n",
    "    \n",
    "    # if clsfs[0] == 'true':\n",
    "    #     return 'AGN'\n",
    "    # elif clsfs[1] == 'true':\n",
    "    #     return 'AGN'\n",
    "    # elif clsfs[2] == 'true':\n",
    "    #     return 'AGN'\n",
    "    # elif clsfs[3] == 'true':\n",
    "    #     return 'AGN'\n",
    "    # elif clsfs[4] == 'true':\n",
    "    #     return 'SFG'\n",
    "    # elif clsfs[5] == 'true':\n",
    "    #     return 'SFG'\n",
    "    # elif clsfs[6] == 'true':\n",
    "    #     return 'AGN'\n",
    "    # elif clsfs[7] == 'true':\n",
    "    #     return 'AGN'\n",
    "    # elif clsfs[8] == 'true':\n",
    "    #     return 'AGN'\n",
    "    # else:\n",
    "    #     return 'unknown'"
   ]
  },
  {
   "cell_type": "code",
   "execution_count": 221,
   "id": "a169b264-db3b-43ef-937c-91ae8ffe7d64",
   "metadata": {},
   "outputs": [
    {
     "name": "stderr",
     "output_type": "stream",
     "text": [
      "100%|██████████| 3303/3303 [00:16<00:00, 196.92it/s]\n"
     ]
    }
   ],
   "source": [
    "smol_clsf = (\n",
    "    df_2015.assign(gal_clsf = df_2015.ID_COSMOS2015.progress_apply(lambda x: getting_smol_info(x, smol_rec)))\n",
    ")"
   ]
  },
  {
   "cell_type": "code",
   "execution_count": 222,
   "id": "f9690811-ff69-498a-990e-b602be8b66f1",
   "metadata": {},
   "outputs": [
    {
     "data": {
      "text/plain": [
       "SFG    278\n",
       "AGN     72\n",
       "Name: gal_clsf, dtype: int64"
      ]
     },
     "execution_count": 222,
     "metadata": {},
     "output_type": "execute_result"
    }
   ],
   "source": [
    "smol_clsf.gal_clsf.value_counts()"
   ]
  },
  {
   "cell_type": "code",
   "execution_count": 223,
   "id": "15bfc769-f272-4e43-a512-0012a6d3faa2",
   "metadata": {},
   "outputs": [],
   "source": [
    "df_dna = smol_clsf[['ID', 'ORyanID_23', 'category', 'gal_clsf']].dropna()"
   ]
  },
  {
   "cell_type": "code",
   "execution_count": 224,
   "id": "8b5dd3f6-b999-494f-b939-dc9f3116ba8c",
   "metadata": {},
   "outputs": [
    {
     "data": {
      "text/html": [
       "<div>\n",
       "<style scoped>\n",
       "    .dataframe tbody tr th:only-of-type {\n",
       "        vertical-align: middle;\n",
       "    }\n",
       "\n",
       "    .dataframe tbody tr th {\n",
       "        vertical-align: top;\n",
       "    }\n",
       "\n",
       "    .dataframe thead th {\n",
       "        text-align: right;\n",
       "    }\n",
       "</style>\n",
       "<table border=\"1\" class=\"dataframe\">\n",
       "  <thead>\n",
       "    <tr style=\"text-align: right;\">\n",
       "      <th></th>\n",
       "      <th>ID</th>\n",
       "      <th>ORyanID_23</th>\n",
       "      <th>category</th>\n",
       "      <th>gal_clsf</th>\n",
       "    </tr>\n",
       "  </thead>\n",
       "  <tbody>\n",
       "    <tr>\n",
       "      <th>12</th>\n",
       "      <td>844303</td>\n",
       "      <td>4000706649921</td>\n",
       "      <td>stage3</td>\n",
       "      <td>AGN</td>\n",
       "    </tr>\n",
       "    <tr>\n",
       "      <th>18</th>\n",
       "      <td>250320</td>\n",
       "      <td>4000707049267</td>\n",
       "      <td>stage3</td>\n",
       "      <td>SFG</td>\n",
       "    </tr>\n",
       "    <tr>\n",
       "      <th>27</th>\n",
       "      <td>1458688</td>\n",
       "      <td>4000711823990</td>\n",
       "      <td>stage1</td>\n",
       "      <td>AGN</td>\n",
       "    </tr>\n",
       "    <tr>\n",
       "      <th>41</th>\n",
       "      <td>509282</td>\n",
       "      <td>4000716471288</td>\n",
       "      <td>stage4</td>\n",
       "      <td>SFG</td>\n",
       "    </tr>\n",
       "    <tr>\n",
       "      <th>47</th>\n",
       "      <td>541991</td>\n",
       "      <td>4000716472139</td>\n",
       "      <td>stage3</td>\n",
       "      <td>SFG</td>\n",
       "    </tr>\n",
       "    <tr>\n",
       "      <th>...</th>\n",
       "      <td>...</td>\n",
       "      <td>...</td>\n",
       "      <td>...</td>\n",
       "      <td>...</td>\n",
       "    </tr>\n",
       "    <tr>\n",
       "      <th>3275</th>\n",
       "      <td>370241</td>\n",
       "      <td>4175103373</td>\n",
       "      <td>stage3</td>\n",
       "      <td>SFG</td>\n",
       "    </tr>\n",
       "    <tr>\n",
       "      <th>3297</th>\n",
       "      <td>1113336</td>\n",
       "      <td>6000438129666</td>\n",
       "      <td>stage1</td>\n",
       "      <td>SFG</td>\n",
       "    </tr>\n",
       "    <tr>\n",
       "      <th>3313</th>\n",
       "      <td>358919</td>\n",
       "      <td>6000511588261</td>\n",
       "      <td>stage3</td>\n",
       "      <td>SFG</td>\n",
       "    </tr>\n",
       "    <tr>\n",
       "      <th>3328</th>\n",
       "      <td>302055</td>\n",
       "      <td>6000529676819</td>\n",
       "      <td>stage2</td>\n",
       "      <td>SFG</td>\n",
       "    </tr>\n",
       "    <tr>\n",
       "      <th>3333</th>\n",
       "      <td>715824</td>\n",
       "      <td>6000534883051</td>\n",
       "      <td>stage1</td>\n",
       "      <td>SFG</td>\n",
       "    </tr>\n",
       "  </tbody>\n",
       "</table>\n",
       "<p>350 rows × 4 columns</p>\n",
       "</div>"
      ],
      "text/plain": [
       "           ID     ORyanID_23 category gal_clsf\n",
       "12     844303  4000706649921   stage3      AGN\n",
       "18     250320  4000707049267   stage3      SFG\n",
       "27    1458688  4000711823990   stage1      AGN\n",
       "41     509282  4000716471288   stage4      SFG\n",
       "47     541991  4000716472139   stage3      SFG\n",
       "...       ...            ...      ...      ...\n",
       "3275   370241     4175103373   stage3      SFG\n",
       "3297  1113336  6000438129666   stage1      SFG\n",
       "3313   358919  6000511588261   stage3      SFG\n",
       "3328   302055  6000529676819   stage2      SFG\n",
       "3333   715824  6000534883051   stage1      SFG\n",
       "\n",
       "[350 rows x 4 columns]"
      ]
     },
     "execution_count": 224,
     "metadata": {},
     "output_type": "execute_result"
    }
   ],
   "source": [
    "df_dna"
   ]
  },
  {
   "cell_type": "code",
   "execution_count": 225,
   "id": "876a7c9f-c806-41ac-9f4c-bfb2cff89eac",
   "metadata": {},
   "outputs": [
    {
     "data": {
      "text/plain": [
       "stage3    142\n",
       "stage2     83\n",
       "stage4     76\n",
       "stage1     49\n",
       "Name: category, dtype: int64"
      ]
     },
     "execution_count": 225,
     "metadata": {},
     "output_type": "execute_result"
    }
   ],
   "source": [
    "df_dna.category.value_counts()"
   ]
  },
  {
   "cell_type": "code",
   "execution_count": 226,
   "id": "15be918b-1fec-4c0a-beef-6c9382b28835",
   "metadata": {},
   "outputs": [
    {
     "data": {
      "text/plain": [
       "SFG    32\n",
       "AGN    17\n",
       "Name: gal_clsf, dtype: int64"
      ]
     },
     "execution_count": 226,
     "metadata": {},
     "output_type": "execute_result"
    }
   ],
   "source": [
    "df_dna.query('category == \"stage1\"').gal_clsf.value_counts()"
   ]
  },
  {
   "cell_type": "code",
   "execution_count": 227,
   "id": "96a3208d-f291-4e46-ac07-9b5eb6a8ffd6",
   "metadata": {},
   "outputs": [
    {
     "data": {
      "text/plain": [
       "SFG    66\n",
       "AGN    10\n",
       "Name: gal_clsf, dtype: int64"
      ]
     },
     "execution_count": 227,
     "metadata": {},
     "output_type": "execute_result"
    }
   ],
   "source": [
    "df_dna.query('category == \"stage4\"').gal_clsf.value_counts()"
   ]
  },
  {
   "cell_type": "markdown",
   "id": "e4523c12-182d-4a1a-888e-07be9a604955",
   "metadata": {},
   "source": [
    "## Searching Based on Coords"
   ]
  },
  {
   "cell_type": "code",
   "execution_count": 228,
   "id": "7a52b5c7-e32f-41d6-9332-343034a0b831",
   "metadata": {},
   "outputs": [],
   "source": [
    "# Function that selects the closest object in the MPA_JHU as the galaxy of interest.\n",
    "def get_correct_smolcic_id(ra, dec, tab):\n",
    "    cosmos_coord = SkyCoord(ra = ra * u.deg, dec = dec * u.deg, frame = 'fk5')\n",
    "    \n",
    "    mpa_coords = SkyCoord(ra = tab['RA_VLA_J2000'] * u.deg, dec = tab['DEC_VLA_J2000'] * u.deg, frame = 'fk5')\n",
    "    \n",
    "    seps = list(abs((cosmos_coord.separation(mpa_coords)).to(u.arcsec) / u.arcsec))\n",
    "    \n",
    "    min_ind = seps.index(min(seps))\n",
    "    \n",
    "    return {'smol_ID' : int(tab['ID_VLA'][min_ind]), 'RA' : tab[min_ind]['RA_VLA_J2000'], 'Dec' : tab[min_ind]['DEC_VLA_J2000']}"
   ]
  },
  {
   "cell_type": "code",
   "execution_count": 229,
   "id": "0513a112-110f-4065-81e6-a8c1005f4084",
   "metadata": {},
   "outputs": [],
   "source": [
    "def matching_smolcic_ids(ra, dec, smol_rec):\n",
    "    arcsec_sep_deg = 1 / (60 * 60)\n",
    "    \n",
    "    matching_tab = smol_rec[(smol_rec['RA_VLA_J2000'] > ra - arcsec_sep_deg) & (smol_rec['RA_VLA_J2000'] < ra + arcsec_sep_deg) & (smol_rec['DEC_VLA_J2000'] > dec - arcsec_sep_deg) & (smol_rec['DEC_VLA_J2000'] < dec + arcsec_sep_deg)]\n",
    "    if len(matching_tab) < 0.5:\n",
    "        return {'smol_ID' : np.nan, 'RA' : np.nan, 'Dec' : np.nan}\n",
    "    elif len(matching_tab) == 1:\n",
    "        return {'smol_ID' : int(matching_tab['ID_VLA'][0]), 'RA' : matching_tab['RA_VLA_J2000'][0], 'Dec' : matching_tab['DEC_VLA_J2000'][0]}\n",
    "    elif len(matching_tab) > 1:\n",
    "        return get_correct_smolcic_id(ra, dec, matching_tab)\n",
    "    else:\n",
    "        print('Somethings gone very wrong!!')\n",
    "        sys.exit()"
   ]
  },
  {
   "cell_type": "code",
   "execution_count": 230,
   "id": "cc1049cf-ab63-4867-8bf1-669c0e889558",
   "metadata": {},
   "outputs": [],
   "source": [
    "coords_dict = (\n",
    "    df_or_cat[['ID', 'ALPHA_J2000', 'DELTA_J2000']]\n",
    "    .rename(columns = {'ALPHA_J2000' : 'RA', 'DELTA_J2000' : 'DEC'})\n",
    "    .set_index('ID').to_dict(orient = 'index')\n",
    ")"
   ]
  },
  {
   "cell_type": "code",
   "execution_count": 231,
   "id": "4fd263fa-f5e6-4023-bf82-1953aeb41d5a",
   "metadata": {},
   "outputs": [],
   "source": [
    "smolcic_matched_dict = {}"
   ]
  },
  {
   "cell_type": "code",
   "execution_count": 232,
   "id": "10fcea53-a14c-406b-9c64-5089c0056b45",
   "metadata": {},
   "outputs": [
    {
     "name": "stderr",
     "output_type": "stream",
     "text": [
      "100%|██████████| 4181/4181 [00:21<00:00, 195.16it/s]\n"
     ]
    }
   ],
   "source": [
    "done_ids = list(smolcic_matched_dict.keys())\n",
    "for i in tqdm(list(coords_dict.keys())):\n",
    "    if i in done_ids:\n",
    "        continue\n",
    "    \n",
    "    smolcic_matched_dict[i] = matching_smolcic_ids(coords_dict[i]['RA'], coords_dict[i]['DEC'], smol_rec)"
   ]
  },
  {
   "cell_type": "code",
   "execution_count": 233,
   "id": "d8f993ca-ffc1-47ad-9224-b9002267dd36",
   "metadata": {},
   "outputs": [],
   "source": [
    "smolcic_df = pd.DataFrame.from_dict(smolcic_matched_dict, orient = 'index').dropna().reset_index().rename(columns = {'index' : 'ID'})"
   ]
  },
  {
   "cell_type": "code",
   "execution_count": 243,
   "id": "61db5085-e967-4d62-81fd-1e380ae98790",
   "metadata": {},
   "outputs": [],
   "source": [
    "def getting_dets_ids(vla_id, smol_rec):\n",
    "    row = smol_rec[(smol_rec['ID_VLA'] == vla_id)]\n",
    "    if len(row) > 0:        \n",
    "        if row['SFG'] == 'true':\n",
    "            return 'SFG'\n",
    "        else:\n",
    "            return 'AGN'\n",
    "    else:\n",
    "        return"
   ]
  },
  {
   "cell_type": "code",
   "execution_count": 244,
   "id": "d45eb547-77e0-467f-823e-d4aec8ade55a",
   "metadata": {},
   "outputs": [],
   "source": [
    "smolcic_df_clsfs = smolcic_df.assign(gal_clsf = smolcic_df.smol_ID.apply(lambda x: getting_dets_ids(x, smol_rec)))"
   ]
  },
  {
   "cell_type": "code",
   "execution_count": 246,
   "id": "c9b8dd7a-0eda-485e-9178-60954e95569a",
   "metadata": {},
   "outputs": [],
   "source": [
    "smolcic_no_red = smolcic_df_clsfs[['ID', 'gal_clsf']]"
   ]
  },
  {
   "cell_type": "code",
   "execution_count": 247,
   "id": "97e70c18-5a23-408f-9365-fdec11e9ed82",
   "metadata": {},
   "outputs": [],
   "source": [
    "df_no_merged = (\n",
    "    smolcic_no_red\n",
    "    .merge(df_or_cat, on = 'ID', how = 'left')\n",
    ")"
   ]
  },
  {
   "cell_type": "code",
   "execution_count": 248,
   "id": "c206af51-8e79-4d53-b79a-f65e64600ccc",
   "metadata": {},
   "outputs": [],
   "source": [
    "df_no_red = df_no_merged[['ORyanID_23', 'ID', 'category', 'ID_COSMOS2015', 'gal_clsf']]"
   ]
  },
  {
   "cell_type": "code",
   "execution_count": 254,
   "id": "0583998d-b138-4175-b435-ebfa0150e587",
   "metadata": {},
   "outputs": [
    {
     "data": {
      "text/html": [
       "<div>\n",
       "<style scoped>\n",
       "    .dataframe tbody tr th:only-of-type {\n",
       "        vertical-align: middle;\n",
       "    }\n",
       "\n",
       "    .dataframe tbody tr th {\n",
       "        vertical-align: top;\n",
       "    }\n",
       "\n",
       "    .dataframe thead th {\n",
       "        text-align: right;\n",
       "    }\n",
       "</style>\n",
       "<table border=\"1\" class=\"dataframe\">\n",
       "  <thead>\n",
       "    <tr style=\"text-align: right;\">\n",
       "      <th></th>\n",
       "      <th>ORyanID_23</th>\n",
       "      <th>ID</th>\n",
       "      <th>category</th>\n",
       "      <th>ID_COSMOS2015</th>\n",
       "      <th>gal_clsf</th>\n",
       "    </tr>\n",
       "  </thead>\n",
       "  <tbody>\n",
       "    <tr>\n",
       "      <th>0</th>\n",
       "      <td>4000706649921</td>\n",
       "      <td>844303</td>\n",
       "      <td>stage3</td>\n",
       "      <td>607340</td>\n",
       "      <td>AGN</td>\n",
       "    </tr>\n",
       "    <tr>\n",
       "      <th>1</th>\n",
       "      <td>4000707047113</td>\n",
       "      <td>230625</td>\n",
       "      <td>stage3</td>\n",
       "      <td>230785</td>\n",
       "      <td>AGN</td>\n",
       "    </tr>\n",
       "    <tr>\n",
       "      <th>2</th>\n",
       "      <td>4000707049267</td>\n",
       "      <td>250320</td>\n",
       "      <td>stage3</td>\n",
       "      <td>244910</td>\n",
       "      <td>SFG</td>\n",
       "    </tr>\n",
       "    <tr>\n",
       "      <th>3</th>\n",
       "      <td>4000711823990</td>\n",
       "      <td>1458688</td>\n",
       "      <td>stage1</td>\n",
       "      <td>990736</td>\n",
       "      <td>AGN</td>\n",
       "    </tr>\n",
       "    <tr>\n",
       "      <th>4</th>\n",
       "      <td>4000716471288</td>\n",
       "      <td>509282</td>\n",
       "      <td>stage4</td>\n",
       "      <td>405672</td>\n",
       "      <td>SFG</td>\n",
       "    </tr>\n",
       "    <tr>\n",
       "      <th>...</th>\n",
       "      <td>...</td>\n",
       "      <td>...</td>\n",
       "      <td>...</td>\n",
       "      <td>...</td>\n",
       "      <td>...</td>\n",
       "    </tr>\n",
       "    <tr>\n",
       "      <th>451</th>\n",
       "      <td>4001217375957_extra</td>\n",
       "      <td>1407959</td>\n",
       "      <td>stage1</td>\n",
       "      <td>952997</td>\n",
       "      <td>AGN</td>\n",
       "    </tr>\n",
       "    <tr>\n",
       "      <th>452</th>\n",
       "      <td>4001217375957_extra</td>\n",
       "      <td>1410323</td>\n",
       "      <td>stage1</td>\n",
       "      <td>959789</td>\n",
       "      <td>SFG</td>\n",
       "    </tr>\n",
       "    <tr>\n",
       "      <th>453</th>\n",
       "      <td>4001074026762_extra</td>\n",
       "      <td>1455554</td>\n",
       "      <td>stage1</td>\n",
       "      <td>988978</td>\n",
       "      <td>SFG</td>\n",
       "    </tr>\n",
       "    <tr>\n",
       "      <th>454</th>\n",
       "      <td>4000711824171_extra</td>\n",
       "      <td>1465158</td>\n",
       "      <td>stage1</td>\n",
       "      <td>994841</td>\n",
       "      <td>AGN</td>\n",
       "    </tr>\n",
       "    <tr>\n",
       "      <th>455</th>\n",
       "      <td>4001047625860_extra</td>\n",
       "      <td>1473684</td>\n",
       "      <td>stage2</td>\n",
       "      <td>1000115</td>\n",
       "      <td>SFG</td>\n",
       "    </tr>\n",
       "  </tbody>\n",
       "</table>\n",
       "<p>456 rows × 5 columns</p>\n",
       "</div>"
      ],
      "text/plain": [
       "              ORyanID_23       ID category  ID_COSMOS2015 gal_clsf\n",
       "0          4000706649921   844303   stage3         607340      AGN\n",
       "1          4000707047113   230625   stage3         230785      AGN\n",
       "2          4000707049267   250320   stage3         244910      SFG\n",
       "3          4000711823990  1458688   stage1         990736      AGN\n",
       "4          4000716471288   509282   stage4         405672      SFG\n",
       "..                   ...      ...      ...            ...      ...\n",
       "451  4001217375957_extra  1407959   stage1         952997      AGN\n",
       "452  4001217375957_extra  1410323   stage1         959789      SFG\n",
       "453  4001074026762_extra  1455554   stage1         988978      SFG\n",
       "454  4000711824171_extra  1465158   stage1         994841      AGN\n",
       "455  4001047625860_extra  1473684   stage2        1000115      SFG\n",
       "\n",
       "[456 rows x 5 columns]"
      ]
     },
     "execution_count": 254,
     "metadata": {},
     "output_type": "execute_result"
    }
   ],
   "source": [
    "df_no_red.drop_duplicates('ID', keep='first')"
   ]
  },
  {
   "cell_type": "code",
   "execution_count": 255,
   "id": "72c2abf5-39f1-460e-b072-4d9a915e0ea8",
   "metadata": {},
   "outputs": [
    {
     "data": {
      "text/html": [
       "<div>\n",
       "<style scoped>\n",
       "    .dataframe tbody tr th:only-of-type {\n",
       "        vertical-align: middle;\n",
       "    }\n",
       "\n",
       "    .dataframe tbody tr th {\n",
       "        vertical-align: top;\n",
       "    }\n",
       "\n",
       "    .dataframe thead th {\n",
       "        text-align: right;\n",
       "    }\n",
       "</style>\n",
       "<table border=\"1\" class=\"dataframe\">\n",
       "  <thead>\n",
       "    <tr style=\"text-align: right;\">\n",
       "      <th></th>\n",
       "      <th>ID</th>\n",
       "      <th>ORyanID_23</th>\n",
       "      <th>category</th>\n",
       "      <th>gal_clsf</th>\n",
       "    </tr>\n",
       "  </thead>\n",
       "  <tbody>\n",
       "    <tr>\n",
       "      <th>12</th>\n",
       "      <td>844303</td>\n",
       "      <td>4000706649921</td>\n",
       "      <td>stage3</td>\n",
       "      <td>AGN</td>\n",
       "    </tr>\n",
       "    <tr>\n",
       "      <th>18</th>\n",
       "      <td>250320</td>\n",
       "      <td>4000707049267</td>\n",
       "      <td>stage3</td>\n",
       "      <td>SFG</td>\n",
       "    </tr>\n",
       "    <tr>\n",
       "      <th>27</th>\n",
       "      <td>1458688</td>\n",
       "      <td>4000711823990</td>\n",
       "      <td>stage1</td>\n",
       "      <td>AGN</td>\n",
       "    </tr>\n",
       "    <tr>\n",
       "      <th>41</th>\n",
       "      <td>509282</td>\n",
       "      <td>4000716471288</td>\n",
       "      <td>stage4</td>\n",
       "      <td>SFG</td>\n",
       "    </tr>\n",
       "    <tr>\n",
       "      <th>47</th>\n",
       "      <td>541991</td>\n",
       "      <td>4000716472139</td>\n",
       "      <td>stage3</td>\n",
       "      <td>SFG</td>\n",
       "    </tr>\n",
       "    <tr>\n",
       "      <th>...</th>\n",
       "      <td>...</td>\n",
       "      <td>...</td>\n",
       "      <td>...</td>\n",
       "      <td>...</td>\n",
       "    </tr>\n",
       "    <tr>\n",
       "      <th>3275</th>\n",
       "      <td>370241</td>\n",
       "      <td>4175103373</td>\n",
       "      <td>stage3</td>\n",
       "      <td>SFG</td>\n",
       "    </tr>\n",
       "    <tr>\n",
       "      <th>3297</th>\n",
       "      <td>1113336</td>\n",
       "      <td>6000438129666</td>\n",
       "      <td>stage1</td>\n",
       "      <td>SFG</td>\n",
       "    </tr>\n",
       "    <tr>\n",
       "      <th>3313</th>\n",
       "      <td>358919</td>\n",
       "      <td>6000511588261</td>\n",
       "      <td>stage3</td>\n",
       "      <td>SFG</td>\n",
       "    </tr>\n",
       "    <tr>\n",
       "      <th>3328</th>\n",
       "      <td>302055</td>\n",
       "      <td>6000529676819</td>\n",
       "      <td>stage2</td>\n",
       "      <td>SFG</td>\n",
       "    </tr>\n",
       "    <tr>\n",
       "      <th>3333</th>\n",
       "      <td>715824</td>\n",
       "      <td>6000534883051</td>\n",
       "      <td>stage1</td>\n",
       "      <td>SFG</td>\n",
       "    </tr>\n",
       "  </tbody>\n",
       "</table>\n",
       "<p>350 rows × 4 columns</p>\n",
       "</div>"
      ],
      "text/plain": [
       "           ID     ORyanID_23 category gal_clsf\n",
       "12     844303  4000706649921   stage3      AGN\n",
       "18     250320  4000707049267   stage3      SFG\n",
       "27    1458688  4000711823990   stage1      AGN\n",
       "41     509282  4000716471288   stage4      SFG\n",
       "47     541991  4000716472139   stage3      SFG\n",
       "...       ...            ...      ...      ...\n",
       "3275   370241     4175103373   stage3      SFG\n",
       "3297  1113336  6000438129666   stage1      SFG\n",
       "3313   358919  6000511588261   stage3      SFG\n",
       "3328   302055  6000529676819   stage2      SFG\n",
       "3333   715824  6000534883051   stage1      SFG\n",
       "\n",
       "[350 rows x 4 columns]"
      ]
     },
     "execution_count": 255,
     "metadata": {},
     "output_type": "execute_result"
    }
   ],
   "source": [
    "df_dna"
   ]
  },
  {
   "cell_type": "code",
   "execution_count": 265,
   "id": "4bdbe10c-278d-477b-9fbe-7ca1291b456b",
   "metadata": {},
   "outputs": [],
   "source": [
    "df_dna_all = (\n",
    "    pd.concat([df_no_red])\n",
    "    .drop_duplicates('ID', keep='first')\n",
    "    .dropna()\n",
    ")"
   ]
  },
  {
   "cell_type": "code",
   "execution_count": 266,
   "id": "11656ec9-c0b5-4180-b1e9-058fedcefb5e",
   "metadata": {},
   "outputs": [
    {
     "data": {
      "text/plain": [
       "SFG    335\n",
       "AGN    121\n",
       "Name: gal_clsf, dtype: int64"
      ]
     },
     "execution_count": 266,
     "metadata": {},
     "output_type": "execute_result"
    }
   ],
   "source": [
    "df_dna_all.gal_clsf.value_counts()"
   ]
  },
  {
   "cell_type": "code",
   "execution_count": 267,
   "id": "26d4111d-feb2-47fe-a51a-2cf93eb9ceb7",
   "metadata": {},
   "outputs": [
    {
     "name": "stdout",
     "output_type": "stream",
     "text": [
      "SFG    45\n",
      "AGN    39\n",
      "Name: gal_clsf, dtype: int64\n",
      "\n",
      "SFG    77\n",
      "AGN    25\n",
      "Name: gal_clsf, dtype: int64\n",
      "\n",
      "SFG    135\n",
      "AGN     37\n",
      "Name: gal_clsf, dtype: int64\n",
      "\n",
      "SFG    78\n",
      "AGN    20\n",
      "Name: gal_clsf, dtype: int64\n"
     ]
    }
   ],
   "source": [
    "print(df_dna_all.query('category == \"stage1\"').gal_clsf.value_counts())\n",
    "print('')\n",
    "print(df_dna_all.query('category == \"stage2\"').gal_clsf.value_counts())\n",
    "print('')\n",
    "print(df_dna_all.query('category == \"stage3\"').gal_clsf.value_counts())\n",
    "print('')\n",
    "print(df_dna_all.query('category == \"stage4\"').gal_clsf.value_counts())"
   ]
  },
  {
   "cell_type": "code",
   "execution_count": 268,
   "id": "c19f1b3d-e90e-44d2-90b0-2737b09ac120",
   "metadata": {},
   "outputs": [
    {
     "name": "stdout",
     "output_type": "stream",
     "text": [
      "stage3    1290\n",
      "stage2     931\n",
      "stage4     616\n",
      "stage1     509\n",
      "Name: category, dtype: int64\n"
     ]
    }
   ],
   "source": [
    "print(df_or_noextra.category.value_counts())"
   ]
  },
  {
   "cell_type": "code",
   "execution_count": 269,
   "id": "30b386ba-e21c-43f4-b987-667a271ac380",
   "metadata": {},
   "outputs": [],
   "source": [
    "stage1_counts = df_dna_all.query('category == \"stage1\"').gal_clsf.value_counts()\n",
    "stage2_counts = df_dna_all.query('category == \"stage2\"').gal_clsf.value_counts()\n",
    "stage3_counts = df_dna_all.query('category == \"stage3\"').gal_clsf.value_counts()\n",
    "stage4_counts = df_dna_all.query('category == \"stage4\"').gal_clsf.value_counts()"
   ]
  },
  {
   "cell_type": "code",
   "execution_count": 270,
   "id": "495fe8e5-9f22-40d5-80ff-5616df5234c1",
   "metadata": {},
   "outputs": [],
   "source": [
    "stage1_frac = stage1_counts['AGN'] / (stage1_counts['AGN'] + stage1_counts['SFG'])\n",
    "stage2_frac = stage2_counts['AGN'] / (stage2_counts['AGN'] + stage2_counts['SFG'])\n",
    "stage3_frac = stage3_counts['AGN'] / (stage3_counts['AGN'] + stage3_counts['SFG'])\n",
    "stage4_frac = stage4_counts['AGN'] / (stage4_counts['AGN'] + stage4_counts['SFG'])"
   ]
  },
  {
   "cell_type": "code",
   "execution_count": 271,
   "id": "9869362e-e5b6-461e-9a4d-20ff1c5dac50",
   "metadata": {},
   "outputs": [
    {
     "name": "stdout",
     "output_type": "stream",
     "text": [
      "0.4642857142857143\n",
      "0.24509803921568626\n",
      "0.21511627906976744\n",
      "0.20408163265306123\n"
     ]
    }
   ],
   "source": [
    "print(stage1_frac)\n",
    "print(stage2_frac)\n",
    "print(stage3_frac)\n",
    "print(stage4_frac)"
   ]
  },
  {
   "cell_type": "code",
   "execution_count": 274,
   "id": "18d599d8-64e8-47aa-b5d7-2071e3a55cdc",
   "metadata": {},
   "outputs": [],
   "source": [
    "all_stage1_frac = stage1_counts['AGN'] / len(df_or_cat.query('category == \"stage1\"'))\n",
    "all_stage2_frac = stage2_counts['AGN'] / len(df_or_noextra.query('category == \"stage2\"'))\n",
    "all_stage3_frac = stage3_counts['AGN'] / len(df_or_noextra.query('category == \"stage3\"'))\n",
    "all_stage4_frac = stage4_counts['AGN'] / len(df_or_noextra.query('category == \"stage4\"'))"
   ]
  },
  {
   "cell_type": "code",
   "execution_count": 275,
   "id": "655e7342-5d57-4f40-a8d2-1e4391243927",
   "metadata": {},
   "outputs": [
    {
     "name": "stdout",
     "output_type": "stream",
     "text": [
      "0.045454545454545456\n",
      "0.02685284640171858\n",
      "0.02868217054263566\n",
      "0.032467532467532464\n"
     ]
    }
   ],
   "source": [
    "print(all_stage1_frac)\n",
    "print(all_stage2_frac)\n",
    "print(all_stage3_frac)\n",
    "print(all_stage4_frac)"
   ]
  },
  {
   "cell_type": "markdown",
   "id": "5379dfdd-c83b-4e01-9c82-3b46d43351da",
   "metadata": {
    "tags": []
   },
   "source": [
    "## Adding in Chandra Properly"
   ]
  },
  {
   "cell_type": "code",
   "execution_count": 276,
   "id": "e9365fc7-7947-42de-9f25-014c28644ba5",
   "metadata": {},
   "outputs": [],
   "source": [
    "with fits.open(f'{cos_dat_fold}/chandra_COSMOS_legacy_opt_NIR_counterparts_20160113_4d.fits') as hdul:\n",
    "    chandra_cat = hdul[1].data"
   ]
  },
  {
   "cell_type": "code",
   "execution_count": 277,
   "id": "7eb25213-bb39-4beb-adc9-ab0d59407a95",
   "metadata": {},
   "outputs": [],
   "source": [
    "# Function that selects the closest object in the MPA_JHU as the galaxy of interest.\n",
    "def get_correct_chandra_id(ra, dec, tab):\n",
    "    cosmos_coord = SkyCoord(ra = ra * u.deg, dec = dec * u.deg, frame = 'fk5')\n",
    "    \n",
    "    chandra_coords = SkyCoord(ra = tab['RA_x'] * u.deg, dec = tab['DEC_x'] * u.deg, frame = 'fk5')\n",
    "    \n",
    "    seps = list(abs((cosmos_coord.separation(chandra_coords)).to(u.arcsec) / u.arcsec))\n",
    "    \n",
    "    min_ind = seps.index(min(seps))\n",
    "    \n",
    "    return {'CHANDRA_ID' : tab[min_ind]['id_x'], 'RA' : tab[min_ind]['RA_x'], 'Dec' : tab[min_ind]['DEC_x']}"
   ]
  },
  {
   "cell_type": "code",
   "execution_count": 278,
   "id": "6b6d6de0-fa85-4595-bd4c-edf66fc98960",
   "metadata": {},
   "outputs": [],
   "source": [
    "def matching_chandra_ids(ra, dec, chandra_cat):\n",
    "    arcsec_sep_deg = 1 / (60 * 60)\n",
    "    \n",
    "    matching_tab = chandra_cat[(chandra_cat['RA_x'] > ra - arcsec_sep_deg) & (chandra_cat['RA_x'] < ra + arcsec_sep_deg) & (chandra_cat['DEC_x'] > dec - arcsec_sep_deg) & (chandra_cat['DEC_x'] < dec + arcsec_sep_deg)]\n",
    "    if len(matching_tab) < 0.5:\n",
    "        return {'CHANDRA_ID' : np.nan, 'RA' : np.nan, 'Dec' : np.nan}\n",
    "    elif len(matching_tab) == 1:\n",
    "        return {'CHANDRA_ID' : matching_tab['id_x'][0], 'RA' : matching_tab['RA_x'][0], 'Dec' : matching_tab['DEC_x'][0]}\n",
    "    elif len(matching_tab) > 1:\n",
    "        print('Multiple Options')\n",
    "        return get_correct_chandra_id(ra, dec, matching_tab)\n",
    "    else:\n",
    "        print('Somethings gone very wrong!!')\n",
    "        sys.exit()"
   ]
  },
  {
   "cell_type": "code",
   "execution_count": 279,
   "id": "c20a8e15-3717-48fd-8548-d284a9123dfb",
   "metadata": {},
   "outputs": [],
   "source": [
    "df_tmp_merge = df_or_noextra[['ID', 'ALPHA_J2000', 'DELTA_J2000']].merge(df_dna_all, how = 'left', on = 'ID', indicator = True)"
   ]
  },
  {
   "cell_type": "code",
   "execution_count": 280,
   "id": "b5e23ac1-8967-4736-adab-f67b40d92489",
   "metadata": {},
   "outputs": [],
   "source": [
    "coords_dict_chand = (\n",
    "    df_tmp_merge\n",
    "    .query('_merge == \"left_only\"')\n",
    "    [['ID', 'ALPHA_J2000', 'DELTA_J2000']]\n",
    "    .rename(columns = {'ALPHA_J2000' : 'RA', 'DELTA_J2000' : 'DEC'})\n",
    "    .set_index('ID')\n",
    "    .to_dict(orient = 'index')\n",
    ")"
   ]
  },
  {
   "cell_type": "code",
   "execution_count": 281,
   "id": "c8a97e10-828c-47fe-b318-3ca855b32495",
   "metadata": {},
   "outputs": [],
   "source": [
    "chandra_matched_dict = {}"
   ]
  },
  {
   "cell_type": "code",
   "execution_count": 282,
   "id": "80035f51-748c-42b7-8f38-043ff07de503",
   "metadata": {},
   "outputs": [
    {
     "name": "stderr",
     "output_type": "stream",
     "text": [
      "100%|██████████| 2964/2964 [00:32<00:00, 91.73it/s]\n"
     ]
    }
   ],
   "source": [
    "done_ids = list(chandra_matched_dict.keys())\n",
    "for i in tqdm(list(coords_dict_chand.keys())):\n",
    "    if i in done_ids:\n",
    "        continue\n",
    "    \n",
    "    chandra_matched_dict[i] = matching_chandra_ids(coords_dict_chand[i]['RA'], coords_dict_chand[i]['DEC'], chandra_cat)"
   ]
  },
  {
   "cell_type": "code",
   "execution_count": 283,
   "id": "c4c14120-6aaf-4807-a6a5-3230459ef470",
   "metadata": {},
   "outputs": [
    {
     "data": {
      "text/plain": [
       "26"
      ]
     },
     "execution_count": 283,
     "metadata": {},
     "output_type": "execute_result"
    }
   ],
   "source": [
    "chandra_df = pd.DataFrame.from_dict(chandra_matched_dict, orient = 'index').dropna()\n",
    "len(chandra_df)"
   ]
  },
  {
   "cell_type": "code",
   "execution_count": 284,
   "id": "751fe8d2-1927-4c81-a85c-51cc97d9c69b",
   "metadata": {},
   "outputs": [],
   "source": [
    "chandra_ids = chandra_df.reset_index().rename(columns = {'index': 'ID_2020'})"
   ]
  },
  {
   "cell_type": "code",
   "execution_count": 285,
   "id": "45ca0ce8-1d89-4967-a901-dd06890337ef",
   "metadata": {},
   "outputs": [],
   "source": [
    "smol_ids = list(df_dna_all.ID)"
   ]
  },
  {
   "cell_type": "code",
   "execution_count": 286,
   "id": "21f3b023-23ce-4c1d-adf5-8bc86125495a",
   "metadata": {},
   "outputs": [
    {
     "data": {
      "text/html": [
       "<div>\n",
       "<style scoped>\n",
       "    .dataframe tbody tr th:only-of-type {\n",
       "        vertical-align: middle;\n",
       "    }\n",
       "\n",
       "    .dataframe tbody tr th {\n",
       "        vertical-align: top;\n",
       "    }\n",
       "\n",
       "    .dataframe thead th {\n",
       "        text-align: right;\n",
       "    }\n",
       "</style>\n",
       "<table border=\"1\" class=\"dataframe\">\n",
       "  <thead>\n",
       "    <tr style=\"text-align: right;\">\n",
       "      <th></th>\n",
       "      <th>ID_2020</th>\n",
       "      <th>CHANDRA_ID</th>\n",
       "      <th>RA</th>\n",
       "      <th>Dec</th>\n",
       "      <th>in_smol</th>\n",
       "    </tr>\n",
       "  </thead>\n",
       "  <tbody>\n",
       "  </tbody>\n",
       "</table>\n",
       "</div>"
      ],
      "text/plain": [
       "Empty DataFrame\n",
       "Columns: [ID_2020, CHANDRA_ID, RA, Dec, in_smol]\n",
       "Index: []"
      ]
     },
     "execution_count": 286,
     "metadata": {},
     "output_type": "execute_result"
    }
   ],
   "source": [
    "chandra_ids.assign(in_smol = chandra_ids.ID_2020.apply(lambda x: True if x in smol_ids else False)).query('in_smol')"
   ]
  },
  {
   "cell_type": "code",
   "execution_count": 287,
   "id": "db1e7647-b134-46c2-8381-4754e78689cc",
   "metadata": {},
   "outputs": [],
   "source": [
    "def getting_chandra_info(chandra_id, chandra_cat):\n",
    "    row = chandra_cat[chandra_cat['id_x'] == chandra_id]    \n",
    "    hard_lum = row['Lx_210'][0]\n",
    "    \n",
    "    if hard_lum <= 43:\n",
    "        return 'SFG'\n",
    "    elif hard_lum > 43:\n",
    "        return 'AGN'\n",
    "    else:\n",
    "        return np.nan"
   ]
  },
  {
   "cell_type": "code",
   "execution_count": 288,
   "id": "5cfd923b-9e5b-4f05-b964-332c6de3b8c4",
   "metadata": {},
   "outputs": [],
   "source": [
    "chandra_clsfs = (\n",
    "    chandra_ids\n",
    "    .assign(gal_clsf = chandra_ids.CHANDRA_ID.apply(lambda x: getting_chandra_info(x, chandra_cat)))\n",
    ")"
   ]
  },
  {
   "cell_type": "code",
   "execution_count": 289,
   "id": "30e67fcb-4592-4ad4-87eb-d7c92de92ac2",
   "metadata": {},
   "outputs": [],
   "source": [
    "chandra_or_cat = (\n",
    "    chandra_clsfs\n",
    "    .merge(df_or_cat, left_on = 'ID_2020', right_on = 'ID', how = 'left')\n",
    "    [['ORyanID_23', 'ID_2020', 'category', 'ID_COSMOS2015', 'gal_clsf']]\n",
    ")"
   ]
  },
  {
   "cell_type": "code",
   "execution_count": 290,
   "id": "baf223f5-2be2-4925-b97f-535b8a0052b1",
   "metadata": {},
   "outputs": [
    {
     "name": "stdout",
     "output_type": "stream",
     "text": [
      "SFG    6\n",
      "AGN    2\n",
      "Name: gal_clsf, dtype: int64\n",
      "\n",
      "SFG    2\n",
      "AGN    2\n",
      "Name: gal_clsf, dtype: int64\n",
      "\n",
      "SFG    7\n",
      "AGN    5\n",
      "Name: gal_clsf, dtype: int64\n",
      "\n",
      "SFG    2\n",
      "Name: gal_clsf, dtype: int64\n"
     ]
    }
   ],
   "source": [
    "print(chandra_or_cat.query('category == \"stage1\"').gal_clsf.value_counts())\n",
    "print('')\n",
    "print(chandra_or_cat.query('category == \"stage2\"').gal_clsf.value_counts())\n",
    "print('')\n",
    "print(chandra_or_cat.query('category == \"stage3\"').gal_clsf.value_counts())\n",
    "print('')\n",
    "print(chandra_or_cat.query('category == \"stage4\"').gal_clsf.value_counts())"
   ]
  },
  {
   "cell_type": "code",
   "execution_count": 291,
   "id": "472258e8-8b50-4046-ac59-6eb3666c9ee6",
   "metadata": {},
   "outputs": [],
   "source": [
    "df_combined = (\n",
    "    pd.concat([df_dna_all, chandra_or_cat])\n",
    ")"
   ]
  },
  {
   "cell_type": "code",
   "execution_count": 292,
   "id": "35c566a1-07d5-4c48-9a63-1362bd6e7bbf",
   "metadata": {},
   "outputs": [
    {
     "data": {
      "text/plain": [
       "SFG    352\n",
       "AGN    130\n",
       "Name: gal_clsf, dtype: int64"
      ]
     },
     "execution_count": 292,
     "metadata": {},
     "output_type": "execute_result"
    }
   ],
   "source": [
    "df_combined.gal_clsf.value_counts()"
   ]
  },
  {
   "cell_type": "code",
   "execution_count": 293,
   "id": "53c8ff56-60c3-4121-a46b-41a345f7904f",
   "metadata": {},
   "outputs": [
    {
     "name": "stdout",
     "output_type": "stream",
     "text": [
      "SFG    51\n",
      "AGN    41\n",
      "Name: gal_clsf, dtype: int64\n",
      "\n",
      "SFG    79\n",
      "AGN    27\n",
      "Name: gal_clsf, dtype: int64\n",
      "\n",
      "SFG    142\n",
      "AGN     42\n",
      "Name: gal_clsf, dtype: int64\n",
      "\n",
      "SFG    80\n",
      "AGN    20\n",
      "Name: gal_clsf, dtype: int64\n"
     ]
    }
   ],
   "source": [
    "print(df_combined.query('category == \"stage1\"').gal_clsf.value_counts())\n",
    "print('')\n",
    "print(df_combined.query('category == \"stage2\"').gal_clsf.value_counts())\n",
    "print('')\n",
    "print(df_combined.query('category == \"stage3\"').gal_clsf.value_counts())\n",
    "print('')\n",
    "print(df_combined.query('category == \"stage4\"').gal_clsf.value_counts())"
   ]
  },
  {
   "cell_type": "markdown",
   "id": "3f9303b4-9784-4f06-af29-fc28fa4fe460",
   "metadata": {},
   "source": [
    "## The Bad Part"
   ]
  },
  {
   "cell_type": "code",
   "execution_count": 294,
   "id": "a1b0e71b-40f1-41b8-90ea-4bd538d7a634",
   "metadata": {},
   "outputs": [
    {
     "data": {
      "text/plain": [
       "stage3    184\n",
       "stage2    106\n",
       "stage4    100\n",
       "stage1     92\n",
       "Name: category, dtype: int64"
      ]
     },
     "execution_count": 294,
     "metadata": {},
     "output_type": "execute_result"
    }
   ],
   "source": [
    "df_combined.category.value_counts()"
   ]
  },
  {
   "cell_type": "code",
   "execution_count": 295,
   "id": "39a0dfdf-5887-476f-83fc-bb2db1ae8cf8",
   "metadata": {},
   "outputs": [
    {
     "name": "stdout",
     "output_type": "stream",
     "text": [
      "stage3    1525\n",
      "stage2    1043\n",
      "stage1     858\n",
      "stage4     755\n",
      "Name: category, dtype: int64\n"
     ]
    }
   ],
   "source": [
    "print(df_or_cat.category.value_counts())"
   ]
  },
  {
   "cell_type": "code",
   "execution_count": 296,
   "id": "547a9eba-2e72-415a-863b-7940d582cb82",
   "metadata": {},
   "outputs": [
    {
     "name": "stdout",
     "output_type": "stream",
     "text": [
      "stage3    1290\n",
      "stage2     931\n",
      "stage4     616\n",
      "stage1     509\n",
      "Name: category, dtype: int64\n"
     ]
    }
   ],
   "source": [
    "print(df_or_noextra.category.value_counts())"
   ]
  },
  {
   "cell_type": "code",
   "execution_count": 297,
   "id": "cd59d875-2137-4cb0-a43e-d8df2bcdc6b2",
   "metadata": {},
   "outputs": [],
   "source": [
    "stage1_counts = df_combined.query('category == \"stage1\"').gal_clsf.value_counts()\n",
    "stage2_counts = df_combined.query('category == \"stage2\"').gal_clsf.value_counts()\n",
    "stage3_counts = df_combined.query('category == \"stage3\"').gal_clsf.value_counts()\n",
    "stage4_counts = df_combined.query('category == \"stage4\"').gal_clsf.value_counts()"
   ]
  },
  {
   "cell_type": "code",
   "execution_count": 298,
   "id": "01fb4b24-df32-443d-834a-14bd00017bca",
   "metadata": {},
   "outputs": [],
   "source": [
    "stage1_frac = stage1_counts['AGN'] / (stage1_counts['AGN'] + stage1_counts['SFG'])\n",
    "stage2_frac = stage2_counts['AGN'] / (stage2_counts['AGN'] + stage2_counts['SFG'])\n",
    "stage3_frac = stage3_counts['AGN'] / (stage3_counts['AGN'] + stage3_counts['SFG'])\n",
    "stage4_frac = stage4_counts['AGN'] / (stage4_counts['AGN'] + stage4_counts['SFG'])\n",
    "stage_frac = np.array([stage1_frac, stage2_frac, stage3_frac, stage4_frac])"
   ]
  },
  {
   "cell_type": "code",
   "execution_count": 299,
   "id": "5b331a64-25a8-479d-aaf3-f538cbf6e2b5",
   "metadata": {},
   "outputs": [
    {
     "data": {
      "text/plain": [
       "array([0.44565217, 0.25471698, 0.22826087, 0.2       ])"
      ]
     },
     "execution_count": 299,
     "metadata": {},
     "output_type": "execute_result"
    }
   ],
   "source": [
    "stage_frac"
   ]
  },
  {
   "cell_type": "code",
   "execution_count": 300,
   "id": "2882e32e-63da-461f-a9ca-5aa957a3d7db",
   "metadata": {},
   "outputs": [],
   "source": [
    "x = ['Separated', 'Pericentre', 'Apocentre','Merging']"
   ]
  },
  {
   "cell_type": "code",
   "execution_count": 301,
   "id": "5fdcf3a0-bded-4322-90c9-d0c74bccdce4",
   "metadata": {},
   "outputs": [
    {
     "data": {
      "image/png": "[encoded data removed]",
      "text/plain": [
       "<Figure size 400x400 with 1 Axes>"
      ]
     },
     "metadata": {},
     "output_type": "display_data"
    }
   ],
   "source": [
    "plt.figure(figsize = (4,4))\n",
    "plt.scatter(x, stage_frac, color = 'black', marker = 'x')\n",
    "plt.plot(x, stage_frac, color = 'black', linestyle='--')\n",
    "plt.show()"
   ]
  },
  {
   "cell_type": "code",
   "execution_count": 302,
   "id": "acc912c6-83d9-443b-9a17-bc3d87d00f46",
   "metadata": {},
   "outputs": [],
   "source": [
    "all_stage1_frac = stage1_counts['AGN'] / len(df_or_cat.query('category == \"stage1\"'))\n",
    "all_stage2_frac = stage2_counts['AGN'] / len(df_or_cat.query('category == \"stage2\"'))\n",
    "all_stage3_frac = stage3_counts['AGN'] / len(df_or_cat.query('category == \"stage3\"'))\n",
    "all_stage4_frac = stage4_counts['AGN'] / len(df_or_cat.query('category == \"stage4\"'))\n",
    "all_frac = np.array([all_stage1_frac, all_stage2_frac, all_stage3_frac, all_stage4_frac])"
   ]
  },
  {
   "cell_type": "code",
   "execution_count": 303,
   "id": "28982ec1-6bb3-4ee3-a9aa-a0c19faa464e",
   "metadata": {},
   "outputs": [
    {
     "name": "stdout",
     "output_type": "stream",
     "text": [
      "0.047785547785547784\n",
      "0.02588686481303931\n",
      "0.02754098360655738\n",
      "0.026490066225165563\n"
     ]
    }
   ],
   "source": [
    "print(all_stage1_frac)\n",
    "print(all_stage2_frac)\n",
    "print(all_stage3_frac)\n",
    "print(all_stage4_frac)"
   ]
  },
  {
   "cell_type": "code",
   "execution_count": 304,
   "id": "b16f682b-3280-4300-875e-6440707eee07",
   "metadata": {},
   "outputs": [],
   "source": [
    "normalisation = np.array([\n",
    "    len(df_combined.query('category == \"stage1\"')) / len(df_combined.query('category == \"stage1\"')),\n",
    "    len(df_combined.query('category == \"stage2\"')) / len(df_combined.query('category == \"stage1\"')),\n",
    "    len(df_combined.query('category == \"stage3\"')) / len(df_combined.query('category == \"stage1\"')),\n",
    "    len(df_combined.query('category == \"stage4\"')) / len(df_combined.query('category == \"stage1\"')),\n",
    "])"
   ]
  },
  {
   "cell_type": "code",
   "execution_count": 305,
   "id": "5aa39219-abc3-4647-8e42-fa83ff9a20ca",
   "metadata": {},
   "outputs": [
    {
     "data": {
      "text/plain": [
       "array([1.        , 1.15217391, 2.        , 1.08695652])"
      ]
     },
     "execution_count": 305,
     "metadata": {},
     "output_type": "execute_result"
    }
   ],
   "source": [
    "normalisation"
   ]
  },
  {
   "cell_type": "code",
   "execution_count": 306,
   "id": "e6855628-58c3-440e-805e-b48b9af64a1e",
   "metadata": {},
   "outputs": [],
   "source": [
    "x = ['Separated', 'Pericentre', 'Apocentre','Merging']"
   ]
  },
  {
   "cell_type": "code",
   "execution_count": 307,
   "id": "ab17a9b2-0765-4af6-9886-9ed04e6dca56",
   "metadata": {},
   "outputs": [
    {
     "data": {
      "image/png": "[encoded data removed]",
      "text/plain": [
       "<Figure size 800x800 with 1 Axes>"
      ]
     },
     "metadata": {},
     "output_type": "display_data"
    }
   ],
   "source": [
    "plt.figure(figsize = (8,8))\n",
    "plt.scatter(x, all_frac, color = 'black', marker = 'x')\n",
    "plt.plot(x, all_frac, color = 'black', linestyle='--')\n",
    "plt.show()"
   ]
  },
  {
   "cell_type": "markdown",
   "id": "43cc7cee-604f-4cbe-83eb-bdea730a0e84",
   "metadata": {},
   "source": [
    "## Introducing Weighting"
   ]
  },
  {
   "cell_type": "code",
   "execution_count": 308,
   "id": "e954c169",
   "metadata": {},
   "outputs": [],
   "source": [
    "def weight_dist(arrs, compare=1, bins=None, return_bins=True, renorm=False):\n",
    "    # this will take 2 arrays of values from 2 different samples\n",
    "    # e.g. redshift distributions from 2 samples\n",
    "    # and return weights for each value such that the weighted\n",
    "    # distributions of each sample will match.\n",
    "\n",
    "    # note the bins need to be the same for both datasets\n",
    "    # so either supply 1 number or 1 array of bin edges\n",
    "    # also if you have fully specified the bins you don't need them returned\n",
    "    # but if we've had to figure them out, you do need them returned\n",
    "    # if you want to make sure you aren't under-weighting (e.g. if a whole dataset is\n",
    "    # much larger than the other so you might always be able select >1 object\n",
    "    # in dataset 1 for each object in dataset 2) then you can re-normalise to make\n",
    "    # sure the max weight of both datasets is 1\n",
    "    # Note, if the distributions cross this won't make a difference\n",
    "\n",
    "    # weight arrays\n",
    "    # w1 = np.zeros_like(arr1)\n",
    "    # w2 = np.zeros_like(arr2)\n",
    "    \n",
    "    ws_list = []\n",
    "    for i in arrs:\n",
    "        ws_list.append(np.zeros_like(i))\n",
    "\n",
    "    # if bins not specified, guess at them ourselves\n",
    "    if bins is None:\n",
    "        minsize = np.amin([    len(arr1),     len(arr2)])\n",
    "        themin  = np.amin([np.amin(arr1), np.amin(arr2)])\n",
    "        themax  = np.amax([np.amax(arr1), np.amax(arr2)])\n",
    "\n",
    "        # on average 5 data points per bin, but at least 3 bins pls, max value is last bin edge\n",
    "        bins = np.linspace(themin, themax, int(np.amax([(minsize/5)+1, 3])), endpoint=True)\n",
    "\n",
    "    else:\n",
    "        pass\n",
    "        # because the np.histogram function can deal with distinguishing between number of bins or specific bins itself\n",
    "        # so we don't have to\n",
    "    hists = []\n",
    "    hist1, thebins = np.histogram(arrs[compare], bins=bins)  # returns (counts_arr, bins_arr)\n",
    "    # use the bins from hist1 to make hist2\n",
    "    # note: for these purposes, any values of hist2 outside the minmax range of hist1 should have 0 weight\n",
    "    # which is taken care of by the zeros_like initialisation of w1 and w2 above\n",
    "    # so it's fine for them to be excluded below\n",
    "    # hists.append(hist1)\n",
    "    for i in arrs:\n",
    "        hist_tmp, thebins = np.histogram(i, bins=thebins)\n",
    "        hists.append(hist_tmp)\n",
    "\n",
    "    # now step through the bins and assign weights\n",
    "    for i_bin in range(len(thebins)-1):\n",
    "        for i_hist in range(len(hists)):\n",
    "            # zero-\"index\"ing these because they're indices and not values\n",
    "            # and if I get them mixed up below I want this to error that there's no b2 or whatever\n",
    "            b0 = thebins[i_bin]\n",
    "            b1 = thebins[i_bin+1]\n",
    "\n",
    "            count1 = hists[compare][i_bin]\n",
    "            count2 = hists[i_hist][i_bin]\n",
    "\n",
    "            # don't miss any values and don't double-count\n",
    "            if i_bin == 0:\n",
    "                in_bin1 = (arrs[compare] >= b0) & (arrs[compare] <= b1)\n",
    "                in_bin2 = (arrs[i_hist] >= b0) & (arrs[i_hist] <= b1)\n",
    "            else: \n",
    "                in_bin1 = (arrs[compare] >  b0) & (arrs[compare] <= b1)\n",
    "                in_bin2 = (arrs[i_hist] >  b0) & (arrs[i_hist] <= b1)\n",
    "\n",
    "\n",
    "            # don't divide by 0 in the rest of the if/else\n",
    "            if (count1 == 0) | (count2 == 0):\n",
    "                ws_list[compare][in_bin1] = 0.0\n",
    "                ws_list[i_hist][in_bin2] = 0.0\n",
    "\n",
    "            elif count1 < count2:\n",
    "                # weight count2 values so the sum of wt2 in this bin equals count1\n",
    "                # wt_fac will always be < 1\n",
    "                wt_fac = float(count1)/float(count2)\n",
    "                ws_list[compare][in_bin1] = 1.0\n",
    "                ws_list[i_hist][in_bin2] = wt_fac\n",
    "\n",
    "            else:\n",
    "                # weight count1 values so the sum of wt1 in this bin equals count2\n",
    "                # wt_fac will always be <= 1\n",
    "                wt_fac = float(count2)/float(count1)\n",
    "                ws_list[compare][in_bin1] = wt_fac\n",
    "                ws_list[i_hist][in_bin2] = 1.0\n",
    "\n",
    "\n",
    "    # now the weights should be determined\n",
    "    # we can optionally re-normalise to make sure we are getting max value out of the datasets\n",
    "    if renorm:\n",
    "        if (np.sum(ws) > 0.00000) & (np.amax(w1) < 1.0):\n",
    "            ws /= np.amax(ws)\n",
    "\n",
    "        if (np.sum(ws) > 0.00000) & (np.amax(w2) < 1.0):\n",
    "            ws /= np.amax(ws)\n",
    "\n",
    "\n",
    "    if return_bins:\n",
    "        return ws, thebins \n",
    "    else: \n",
    "        return ws_list"
   ]
  },
  {
   "cell_type": "code",
   "execution_count": 309,
   "id": "d3d6f432-2342-428d-ad9e-5f06bd53549f",
   "metadata": {},
   "outputs": [],
   "source": [
    "df_combined_mass = df_combined.merge(df_or_noextra[['ID', 'lp_mass_best']], left_on = 'ID_2020', right_on = 'ID', how = 'left').drop(columns = ['ID_2020'])"
   ]
  },
  {
   "cell_type": "code",
   "execution_count": 310,
   "id": "a83fd7fc-d859-4dd6-84ff-a11f60af6570",
   "metadata": {},
   "outputs": [
    {
     "data": {
      "text/html": [
       "<div>\n",
       "<style scoped>\n",
       "    .dataframe tbody tr th:only-of-type {\n",
       "        vertical-align: middle;\n",
       "    }\n",
       "\n",
       "    .dataframe tbody tr th {\n",
       "        vertical-align: top;\n",
       "    }\n",
       "\n",
       "    .dataframe thead th {\n",
       "        text-align: right;\n",
       "    }\n",
       "</style>\n",
       "<table border=\"1\" class=\"dataframe\">\n",
       "  <thead>\n",
       "    <tr style=\"text-align: right;\">\n",
       "      <th></th>\n",
       "      <th>ORyanID_23</th>\n",
       "      <th>ID_x</th>\n",
       "      <th>category</th>\n",
       "      <th>ID_COSMOS2015</th>\n",
       "      <th>gal_clsf</th>\n",
       "      <th>ID_y</th>\n",
       "      <th>lp_mass_best</th>\n",
       "    </tr>\n",
       "  </thead>\n",
       "  <tbody>\n",
       "    <tr>\n",
       "      <th>0</th>\n",
       "      <td>4000706649921</td>\n",
       "      <td>844303.0</td>\n",
       "      <td>stage3</td>\n",
       "      <td>607340</td>\n",
       "      <td>AGN</td>\n",
       "      <td>NaN</td>\n",
       "      <td>NaN</td>\n",
       "    </tr>\n",
       "    <tr>\n",
       "      <th>1</th>\n",
       "      <td>4000707047113</td>\n",
       "      <td>230625.0</td>\n",
       "      <td>stage3</td>\n",
       "      <td>230785</td>\n",
       "      <td>AGN</td>\n",
       "      <td>NaN</td>\n",
       "      <td>NaN</td>\n",
       "    </tr>\n",
       "    <tr>\n",
       "      <th>2</th>\n",
       "      <td>4000707049267</td>\n",
       "      <td>250320.0</td>\n",
       "      <td>stage3</td>\n",
       "      <td>244910</td>\n",
       "      <td>SFG</td>\n",
       "      <td>NaN</td>\n",
       "      <td>NaN</td>\n",
       "    </tr>\n",
       "    <tr>\n",
       "      <th>3</th>\n",
       "      <td>4000711823990</td>\n",
       "      <td>1458688.0</td>\n",
       "      <td>stage1</td>\n",
       "      <td>990736</td>\n",
       "      <td>AGN</td>\n",
       "      <td>NaN</td>\n",
       "      <td>NaN</td>\n",
       "    </tr>\n",
       "    <tr>\n",
       "      <th>4</th>\n",
       "      <td>4000716471288</td>\n",
       "      <td>509282.0</td>\n",
       "      <td>stage4</td>\n",
       "      <td>405672</td>\n",
       "      <td>SFG</td>\n",
       "      <td>NaN</td>\n",
       "      <td>NaN</td>\n",
       "    </tr>\n",
       "    <tr>\n",
       "      <th>...</th>\n",
       "      <td>...</td>\n",
       "      <td>...</td>\n",
       "      <td>...</td>\n",
       "      <td>...</td>\n",
       "      <td>...</td>\n",
       "      <td>...</td>\n",
       "      <td>...</td>\n",
       "    </tr>\n",
       "    <tr>\n",
       "      <th>477</th>\n",
       "      <td>4001074024690</td>\n",
       "      <td>NaN</td>\n",
       "      <td>stage1</td>\n",
       "      <td>574966</td>\n",
       "      <td>SFG</td>\n",
       "      <td>793474.0</td>\n",
       "      <td>11.24425</td>\n",
       "    </tr>\n",
       "    <tr>\n",
       "      <th>478</th>\n",
       "      <td>4000753150821</td>\n",
       "      <td>NaN</td>\n",
       "      <td>stage1</td>\n",
       "      <td>546253</td>\n",
       "      <td>SFG</td>\n",
       "      <td>743564.0</td>\n",
       "      <td>10.64598</td>\n",
       "    </tr>\n",
       "    <tr>\n",
       "      <th>479</th>\n",
       "      <td>4000767040363</td>\n",
       "      <td>NaN</td>\n",
       "      <td>stage1</td>\n",
       "      <td>553512</td>\n",
       "      <td>SFG</td>\n",
       "      <td>757426.0</td>\n",
       "      <td>9.04703</td>\n",
       "    </tr>\n",
       "    <tr>\n",
       "      <th>480</th>\n",
       "      <td>4000778985207</td>\n",
       "      <td>NaN</td>\n",
       "      <td>stage3</td>\n",
       "      <td>664975</td>\n",
       "      <td>SFG</td>\n",
       "      <td>938996.0</td>\n",
       "      <td>10.93256</td>\n",
       "    </tr>\n",
       "    <tr>\n",
       "      <th>481</th>\n",
       "      <td>4001089789527</td>\n",
       "      <td>NaN</td>\n",
       "      <td>stage1</td>\n",
       "      <td>659751</td>\n",
       "      <td>AGN</td>\n",
       "      <td>927713.0</td>\n",
       "      <td>10.77854</td>\n",
       "    </tr>\n",
       "  </tbody>\n",
       "</table>\n",
       "<p>482 rows × 7 columns</p>\n",
       "</div>"
      ],
      "text/plain": [
       "        ORyanID_23       ID_x category  ID_COSMOS2015 gal_clsf      ID_y  \\\n",
       "0    4000706649921   844303.0   stage3         607340      AGN       NaN   \n",
       "1    4000707047113   230625.0   stage3         230785      AGN       NaN   \n",
       "2    4000707049267   250320.0   stage3         244910      SFG       NaN   \n",
       "3    4000711823990  1458688.0   stage1         990736      AGN       NaN   \n",
       "4    4000716471288   509282.0   stage4         405672      SFG       NaN   \n",
       "..             ...        ...      ...            ...      ...       ...   \n",
       "477  4001074024690        NaN   stage1         574966      SFG  793474.0   \n",
       "478  4000753150821        NaN   stage1         546253      SFG  743564.0   \n",
       "479  4000767040363        NaN   stage1         553512      SFG  757426.0   \n",
       "480  4000778985207        NaN   stage3         664975      SFG  938996.0   \n",
       "481  4001089789527        NaN   stage1         659751      AGN  927713.0   \n",
       "\n",
       "     lp_mass_best  \n",
       "0             NaN  \n",
       "1             NaN  \n",
       "2             NaN  \n",
       "3             NaN  \n",
       "4             NaN  \n",
       "..            ...  \n",
       "477      11.24425  \n",
       "478      10.64598  \n",
       "479       9.04703  \n",
       "480      10.93256  \n",
       "481      10.77854  \n",
       "\n",
       "[482 rows x 7 columns]"
      ]
     },
     "execution_count": 310,
     "metadata": {},
     "output_type": "execute_result"
    }
   ],
   "source": [
    "df_combined_mass"
   ]
  },
  {
   "cell_type": "code",
   "execution_count": 311,
   "id": "e27eb194-05ff-43ca-b5a8-a6b3a57e4b23",
   "metadata": {},
   "outputs": [
    {
     "ename": "KeyError",
     "evalue": "\"['ID'] not in index\"",
     "output_type": "error",
     "traceback": [
      "\u001b[1;31m---------------------------------------------------------------------------\u001b[0m",
      "\u001b[1;31mKeyError\u001b[0m                                  Traceback (most recent call last)",
      "\u001b[1;32m~\\AppData\\Local\\Temp\\ipykernel_4988\\3840079603.py\u001b[0m in \u001b[0;36m<module>\u001b[1;34m\u001b[0m\n\u001b[0;32m      1\u001b[0m df_unknown = (\n\u001b[0;32m      2\u001b[0m     \u001b[0mdf_or_cat\u001b[0m\u001b[1;33m\u001b[0m\u001b[1;33m\u001b[0m\u001b[0m\n\u001b[1;32m----> 3\u001b[1;33m     \u001b[1;33m.\u001b[0m\u001b[0mmerge\u001b[0m\u001b[1;33m(\u001b[0m\u001b[0mdf_combined_mass\u001b[0m\u001b[1;33m[\u001b[0m\u001b[1;33m[\u001b[0m\u001b[1;34m'ID'\u001b[0m\u001b[1;33m,\u001b[0m \u001b[1;34m'gal_clsf'\u001b[0m\u001b[1;33m]\u001b[0m\u001b[1;33m]\u001b[0m\u001b[1;33m,\u001b[0m \u001b[0mon\u001b[0m \u001b[1;33m=\u001b[0m \u001b[1;34m'ID'\u001b[0m\u001b[1;33m,\u001b[0m \u001b[0mhow\u001b[0m \u001b[1;33m=\u001b[0m \u001b[1;34m'left'\u001b[0m\u001b[1;33m)\u001b[0m\u001b[1;33m\u001b[0m\u001b[1;33m\u001b[0m\u001b[0m\n\u001b[0m\u001b[0;32m      4\u001b[0m     \u001b[1;33m[\u001b[0m\u001b[1;33m[\u001b[0m\u001b[1;34m'ORyanID_23'\u001b[0m\u001b[1;33m,\u001b[0m \u001b[1;34m'ID'\u001b[0m\u001b[1;33m,\u001b[0m \u001b[1;34m'category'\u001b[0m\u001b[1;33m,\u001b[0m \u001b[1;34m'lp_mass_best'\u001b[0m\u001b[1;33m,\u001b[0m \u001b[1;34m'gal_clsf'\u001b[0m\u001b[1;33m,\u001b[0m \u001b[1;34m'ID_COSMOS2015'\u001b[0m\u001b[1;33m]\u001b[0m\u001b[1;33m]\u001b[0m\u001b[1;33m\u001b[0m\u001b[1;33m\u001b[0m\u001b[0m\n\u001b[0;32m      5\u001b[0m     \u001b[1;33m.\u001b[0m\u001b[0mquery\u001b[0m\u001b[1;33m(\u001b[0m\u001b[1;34m'gal_clsf != \"AGN\" and gal_clsf != \"SFG\"'\u001b[0m\u001b[1;33m)\u001b[0m\u001b[1;33m\u001b[0m\u001b[1;33m\u001b[0m\u001b[0m\n",
      "\u001b[1;32m~\\AppData\\Local\\Continuum\\anaconda3\\lib\\site-packages\\pandas\\core\\frame.py\u001b[0m in \u001b[0;36m__getitem__\u001b[1;34m(self, key)\u001b[0m\n\u001b[0;32m   3462\u001b[0m             \u001b[1;32mif\u001b[0m \u001b[0mis_iterator\u001b[0m\u001b[1;33m(\u001b[0m\u001b[0mkey\u001b[0m\u001b[1;33m)\u001b[0m\u001b[1;33m:\u001b[0m\u001b[1;33m\u001b[0m\u001b[1;33m\u001b[0m\u001b[0m\n\u001b[0;32m   3463\u001b[0m                 \u001b[0mkey\u001b[0m \u001b[1;33m=\u001b[0m \u001b[0mlist\u001b[0m\u001b[1;33m(\u001b[0m\u001b[0mkey\u001b[0m\u001b[1;33m)\u001b[0m\u001b[1;33m\u001b[0m\u001b[1;33m\u001b[0m\u001b[0m\n\u001b[1;32m-> 3464\u001b[1;33m             \u001b[0mindexer\u001b[0m \u001b[1;33m=\u001b[0m \u001b[0mself\u001b[0m\u001b[1;33m.\u001b[0m\u001b[0mloc\u001b[0m\u001b[1;33m.\u001b[0m\u001b[0m_get_listlike_indexer\u001b[0m\u001b[1;33m(\u001b[0m\u001b[0mkey\u001b[0m\u001b[1;33m,\u001b[0m \u001b[0maxis\u001b[0m\u001b[1;33m=\u001b[0m\u001b[1;36m1\u001b[0m\u001b[1;33m)\u001b[0m\u001b[1;33m[\u001b[0m\u001b[1;36m1\u001b[0m\u001b[1;33m]\u001b[0m\u001b[1;33m\u001b[0m\u001b[1;33m\u001b[0m\u001b[0m\n\u001b[0m\u001b[0;32m   3465\u001b[0m \u001b[1;33m\u001b[0m\u001b[0m\n\u001b[0;32m   3466\u001b[0m         \u001b[1;31m# take() does not accept boolean indexers\u001b[0m\u001b[1;33m\u001b[0m\u001b[1;33m\u001b[0m\u001b[1;33m\u001b[0m\u001b[0m\n",
      "\u001b[1;32m~\\AppData\\Local\\Continuum\\anaconda3\\lib\\site-packages\\pandas\\core\\indexing.py\u001b[0m in \u001b[0;36m_get_listlike_indexer\u001b[1;34m(self, key, axis)\u001b[0m\n\u001b[0;32m   1312\u001b[0m             \u001b[0mkeyarr\u001b[0m\u001b[1;33m,\u001b[0m \u001b[0mindexer\u001b[0m\u001b[1;33m,\u001b[0m \u001b[0mnew_indexer\u001b[0m \u001b[1;33m=\u001b[0m \u001b[0max\u001b[0m\u001b[1;33m.\u001b[0m\u001b[0m_reindex_non_unique\u001b[0m\u001b[1;33m(\u001b[0m\u001b[0mkeyarr\u001b[0m\u001b[1;33m)\u001b[0m\u001b[1;33m\u001b[0m\u001b[1;33m\u001b[0m\u001b[0m\n\u001b[0;32m   1313\u001b[0m \u001b[1;33m\u001b[0m\u001b[0m\n\u001b[1;32m-> 1314\u001b[1;33m         \u001b[0mself\u001b[0m\u001b[1;33m.\u001b[0m\u001b[0m_validate_read_indexer\u001b[0m\u001b[1;33m(\u001b[0m\u001b[0mkeyarr\u001b[0m\u001b[1;33m,\u001b[0m \u001b[0mindexer\u001b[0m\u001b[1;33m,\u001b[0m \u001b[0maxis\u001b[0m\u001b[1;33m)\u001b[0m\u001b[1;33m\u001b[0m\u001b[1;33m\u001b[0m\u001b[0m\n\u001b[0m\u001b[0;32m   1315\u001b[0m \u001b[1;33m\u001b[0m\u001b[0m\n\u001b[0;32m   1316\u001b[0m         if needs_i8_conversion(ax.dtype) or isinstance(\n",
      "\u001b[1;32m~\\AppData\\Local\\Continuum\\anaconda3\\lib\\site-packages\\pandas\\core\\indexing.py\u001b[0m in \u001b[0;36m_validate_read_indexer\u001b[1;34m(self, key, indexer, axis)\u001b[0m\n\u001b[0;32m   1375\u001b[0m \u001b[1;33m\u001b[0m\u001b[0m\n\u001b[0;32m   1376\u001b[0m             \u001b[0mnot_found\u001b[0m \u001b[1;33m=\u001b[0m \u001b[0mlist\u001b[0m\u001b[1;33m(\u001b[0m\u001b[0mensure_index\u001b[0m\u001b[1;33m(\u001b[0m\u001b[0mkey\u001b[0m\u001b[1;33m)\u001b[0m\u001b[1;33m[\u001b[0m\u001b[0mmissing_mask\u001b[0m\u001b[1;33m.\u001b[0m\u001b[0mnonzero\u001b[0m\u001b[1;33m(\u001b[0m\u001b[1;33m)\u001b[0m\u001b[1;33m[\u001b[0m\u001b[1;36m0\u001b[0m\u001b[1;33m]\u001b[0m\u001b[1;33m]\u001b[0m\u001b[1;33m.\u001b[0m\u001b[0munique\u001b[0m\u001b[1;33m(\u001b[0m\u001b[1;33m)\u001b[0m\u001b[1;33m)\u001b[0m\u001b[1;33m\u001b[0m\u001b[1;33m\u001b[0m\u001b[0m\n\u001b[1;32m-> 1377\u001b[1;33m             \u001b[1;32mraise\u001b[0m \u001b[0mKeyError\u001b[0m\u001b[1;33m(\u001b[0m\u001b[1;34mf\"{not_found} not in index\"\u001b[0m\u001b[1;33m)\u001b[0m\u001b[1;33m\u001b[0m\u001b[1;33m\u001b[0m\u001b[0m\n\u001b[0m\u001b[0;32m   1378\u001b[0m \u001b[1;33m\u001b[0m\u001b[0m\n\u001b[0;32m   1379\u001b[0m \u001b[1;33m\u001b[0m\u001b[0m\n",
      "\u001b[1;31mKeyError\u001b[0m: \"['ID'] not in index\""
     ]
    }
   ],
   "source": [
    "df_unknown = (\n",
    "    df_or_cat\n",
    "    .merge(df_combined_mass[['ID', 'gal_clsf']], on = 'ID', how = 'left')\n",
    "    [['ORyanID_23', 'ID', 'category', 'lp_mass_best', 'gal_clsf', 'ID_COSMOS2015']]\n",
    "    .query('gal_clsf != \"AGN\" and gal_clsf != \"SFG\"')\n",
    "    .drop(columns = 'gal_clsf')\n",
    "    .assign(gal_clsf = 'unknown')\n",
    ")"
   ]
  },
  {
   "cell_type": "code",
   "execution_count": 920,
   "id": "88cbafc6-424f-4198-b077-6c4d0242ac9e",
   "metadata": {},
   "outputs": [
    {
     "data": {
      "text/html": [
       "<div>\n",
       "<style scoped>\n",
       "    .dataframe tbody tr th:only-of-type {\n",
       "        vertical-align: middle;\n",
       "    }\n",
       "\n",
       "    .dataframe tbody tr th {\n",
       "        vertical-align: top;\n",
       "    }\n",
       "\n",
       "    .dataframe thead th {\n",
       "        text-align: right;\n",
       "    }\n",
       "</style>\n",
       "<table border=\"1\" class=\"dataframe\">\n",
       "  <thead>\n",
       "    <tr style=\"text-align: right;\">\n",
       "      <th></th>\n",
       "      <th>ORyanID_23</th>\n",
       "      <th>ID</th>\n",
       "      <th>category</th>\n",
       "      <th>lp_mass_best</th>\n",
       "      <th>ID_COSMOS2015</th>\n",
       "      <th>gal_clsf</th>\n",
       "    </tr>\n",
       "  </thead>\n",
       "  <tbody>\n",
       "    <tr>\n",
       "      <th>0</th>\n",
       "      <td>4000705532455</td>\n",
       "      <td>816891</td>\n",
       "      <td>stage4</td>\n",
       "      <td>9.28590</td>\n",
       "      <td>590539</td>\n",
       "      <td>unknown</td>\n",
       "    </tr>\n",
       "    <tr>\n",
       "      <th>1</th>\n",
       "      <td>4000705533383</td>\n",
       "      <td>860686</td>\n",
       "      <td>stage3</td>\n",
       "      <td>10.44862</td>\n",
       "      <td>618751</td>\n",
       "      <td>unknown</td>\n",
       "    </tr>\n",
       "    <tr>\n",
       "      <th>2</th>\n",
       "      <td>4000705539941</td>\n",
       "      <td>1301188</td>\n",
       "      <td>stage2</td>\n",
       "      <td>8.72372</td>\n",
       "      <td>893328</td>\n",
       "      <td>unknown</td>\n",
       "    </tr>\n",
       "    <tr>\n",
       "      <th>3</th>\n",
       "      <td>4000705540034</td>\n",
       "      <td>1304538</td>\n",
       "      <td>stage3</td>\n",
       "      <td>9.96798</td>\n",
       "      <td>895502</td>\n",
       "      <td>unknown</td>\n",
       "    </tr>\n",
       "    <tr>\n",
       "      <th>4</th>\n",
       "      <td>4000705540064</td>\n",
       "      <td>1310001</td>\n",
       "      <td>stage3</td>\n",
       "      <td>10.41827</td>\n",
       "      <td>898397</td>\n",
       "      <td>unknown</td>\n",
       "    </tr>\n",
       "    <tr>\n",
       "      <th>...</th>\n",
       "      <td>...</td>\n",
       "      <td>...</td>\n",
       "      <td>...</td>\n",
       "      <td>...</td>\n",
       "      <td>...</td>\n",
       "      <td>...</td>\n",
       "    </tr>\n",
       "    <tr>\n",
       "      <th>3927</th>\n",
       "      <td>4001204758614_extra</td>\n",
       "      <td>1520733</td>\n",
       "      <td>stage4</td>\n",
       "      <td>9.27097</td>\n",
       "      <td>1030872</td>\n",
       "      <td>unknown</td>\n",
       "    </tr>\n",
       "    <tr>\n",
       "      <th>3928</th>\n",
       "      <td>4546055995_extra</td>\n",
       "      <td>1520749</td>\n",
       "      <td>stage2</td>\n",
       "      <td>9.50357</td>\n",
       "      <td>1029954</td>\n",
       "      <td>unknown</td>\n",
       "    </tr>\n",
       "    <tr>\n",
       "      <th>3929</th>\n",
       "      <td>4000927318133_extra</td>\n",
       "      <td>1523385</td>\n",
       "      <td>stage3</td>\n",
       "      <td>9.53909</td>\n",
       "      <td>1031020</td>\n",
       "      <td>unknown</td>\n",
       "    </tr>\n",
       "    <tr>\n",
       "      <th>3930</th>\n",
       "      <td>4000747939904_extra</td>\n",
       "      <td>1524909</td>\n",
       "      <td>stage3</td>\n",
       "      <td>9.76084</td>\n",
       "      <td>1034203</td>\n",
       "      <td>unknown</td>\n",
       "    </tr>\n",
       "    <tr>\n",
       "      <th>3931</th>\n",
       "      <td>4001239405815_extra</td>\n",
       "      <td>1529226</td>\n",
       "      <td>stage4</td>\n",
       "      <td>11.16721</td>\n",
       "      <td>1037414</td>\n",
       "      <td>unknown</td>\n",
       "    </tr>\n",
       "  </tbody>\n",
       "</table>\n",
       "<p>3576 rows × 6 columns</p>\n",
       "</div>"
      ],
      "text/plain": [
       "               ORyanID_23       ID category  lp_mass_best  ID_COSMOS2015  \\\n",
       "0           4000705532455   816891   stage4       9.28590         590539   \n",
       "1           4000705533383   860686   stage3      10.44862         618751   \n",
       "2           4000705539941  1301188   stage2       8.72372         893328   \n",
       "3           4000705540034  1304538   stage3       9.96798         895502   \n",
       "4           4000705540064  1310001   stage3      10.41827         898397   \n",
       "...                   ...      ...      ...           ...            ...   \n",
       "3927  4001204758614_extra  1520733   stage4       9.27097        1030872   \n",
       "3928     4546055995_extra  1520749   stage2       9.50357        1029954   \n",
       "3929  4000927318133_extra  1523385   stage3       9.53909        1031020   \n",
       "3930  4000747939904_extra  1524909   stage3       9.76084        1034203   \n",
       "3931  4001239405815_extra  1529226   stage4      11.16721        1037414   \n",
       "\n",
       "     gal_clsf  \n",
       "0     unknown  \n",
       "1     unknown  \n",
       "2     unknown  \n",
       "3     unknown  \n",
       "4     unknown  \n",
       "...       ...  \n",
       "3927  unknown  \n",
       "3928  unknown  \n",
       "3929  unknown  \n",
       "3930  unknown  \n",
       "3931  unknown  \n",
       "\n",
       "[3576 rows x 6 columns]"
      ]
     },
     "execution_count": 920,
     "metadata": {},
     "output_type": "execute_result"
    }
   ],
   "source": [
    "df_unknown"
   ]
  },
  {
   "cell_type": "code",
   "execution_count": 921,
   "id": "79268a00-9832-4eb2-a081-1f23c7b54972",
   "metadata": {},
   "outputs": [],
   "source": [
    "df_all = pd.concat([df_combined_mass, df_unknown])"
   ]
  },
  {
   "cell_type": "code",
   "execution_count": 922,
   "id": "6f90dd13-544a-45bc-8efb-0ca6b5e12bd9",
   "metadata": {},
   "outputs": [
    {
     "data": {
      "text/html": [
       "<div>\n",
       "<style scoped>\n",
       "    .dataframe tbody tr th:only-of-type {\n",
       "        vertical-align: middle;\n",
       "    }\n",
       "\n",
       "    .dataframe tbody tr th {\n",
       "        vertical-align: top;\n",
       "    }\n",
       "\n",
       "    .dataframe thead th {\n",
       "        text-align: right;\n",
       "    }\n",
       "</style>\n",
       "<table border=\"1\" class=\"dataframe\">\n",
       "  <thead>\n",
       "    <tr style=\"text-align: right;\">\n",
       "      <th></th>\n",
       "      <th>ORyanID_23</th>\n",
       "      <th>category</th>\n",
       "      <th>ID_COSMOS2015</th>\n",
       "      <th>gal_clsf</th>\n",
       "      <th>ID</th>\n",
       "      <th>lp_mass_best</th>\n",
       "    </tr>\n",
       "  </thead>\n",
       "  <tbody>\n",
       "    <tr>\n",
       "      <th>0</th>\n",
       "      <td>4000815070677</td>\n",
       "      <td>stage2</td>\n",
       "      <td>-99</td>\n",
       "      <td>AGN</td>\n",
       "      <td>507364</td>\n",
       "      <td>9.84012</td>\n",
       "    </tr>\n",
       "    <tr>\n",
       "      <th>1</th>\n",
       "      <td>4000767041112</td>\n",
       "      <td>stage2</td>\n",
       "      <td>-99</td>\n",
       "      <td>AGN</td>\n",
       "      <td>787760</td>\n",
       "      <td>9.31051</td>\n",
       "    </tr>\n",
       "    <tr>\n",
       "      <th>2</th>\n",
       "      <td>6000518662663</td>\n",
       "      <td>stage2</td>\n",
       "      <td>-99</td>\n",
       "      <td>AGN</td>\n",
       "      <td>588501</td>\n",
       "      <td>10.48922</td>\n",
       "    </tr>\n",
       "    <tr>\n",
       "      <th>3</th>\n",
       "      <td>4000706649921</td>\n",
       "      <td>stage3</td>\n",
       "      <td>607340</td>\n",
       "      <td>AGN</td>\n",
       "      <td>844303</td>\n",
       "      <td>11.05237</td>\n",
       "    </tr>\n",
       "    <tr>\n",
       "      <th>4</th>\n",
       "      <td>4000707049267</td>\n",
       "      <td>stage3</td>\n",
       "      <td>244910</td>\n",
       "      <td>SFG</td>\n",
       "      <td>250320</td>\n",
       "      <td>10.56664</td>\n",
       "    </tr>\n",
       "    <tr>\n",
       "      <th>...</th>\n",
       "      <td>...</td>\n",
       "      <td>...</td>\n",
       "      <td>...</td>\n",
       "      <td>...</td>\n",
       "      <td>...</td>\n",
       "      <td>...</td>\n",
       "    </tr>\n",
       "    <tr>\n",
       "      <th>3927</th>\n",
       "      <td>4001204758614_extra</td>\n",
       "      <td>stage4</td>\n",
       "      <td>1030872</td>\n",
       "      <td>unknown</td>\n",
       "      <td>1520733</td>\n",
       "      <td>9.27097</td>\n",
       "    </tr>\n",
       "    <tr>\n",
       "      <th>3928</th>\n",
       "      <td>4546055995_extra</td>\n",
       "      <td>stage2</td>\n",
       "      <td>1029954</td>\n",
       "      <td>unknown</td>\n",
       "      <td>1520749</td>\n",
       "      <td>9.50357</td>\n",
       "    </tr>\n",
       "    <tr>\n",
       "      <th>3929</th>\n",
       "      <td>4000927318133_extra</td>\n",
       "      <td>stage3</td>\n",
       "      <td>1031020</td>\n",
       "      <td>unknown</td>\n",
       "      <td>1523385</td>\n",
       "      <td>9.53909</td>\n",
       "    </tr>\n",
       "    <tr>\n",
       "      <th>3930</th>\n",
       "      <td>4000747939904_extra</td>\n",
       "      <td>stage3</td>\n",
       "      <td>1034203</td>\n",
       "      <td>unknown</td>\n",
       "      <td>1524909</td>\n",
       "      <td>9.76084</td>\n",
       "    </tr>\n",
       "    <tr>\n",
       "      <th>3931</th>\n",
       "      <td>4001239405815_extra</td>\n",
       "      <td>stage4</td>\n",
       "      <td>1037414</td>\n",
       "      <td>unknown</td>\n",
       "      <td>1529226</td>\n",
       "      <td>11.16721</td>\n",
       "    </tr>\n",
       "  </tbody>\n",
       "</table>\n",
       "<p>3932 rows × 6 columns</p>\n",
       "</div>"
      ],
      "text/plain": [
       "               ORyanID_23 category  ID_COSMOS2015 gal_clsf       ID  \\\n",
       "0           4000815070677   stage2            -99      AGN   507364   \n",
       "1           4000767041112   stage2            -99      AGN   787760   \n",
       "2           6000518662663   stage2            -99      AGN   588501   \n",
       "3           4000706649921   stage3         607340      AGN   844303   \n",
       "4           4000707049267   stage3         244910      SFG   250320   \n",
       "...                   ...      ...            ...      ...      ...   \n",
       "3927  4001204758614_extra   stage4        1030872  unknown  1520733   \n",
       "3928     4546055995_extra   stage2        1029954  unknown  1520749   \n",
       "3929  4000927318133_extra   stage3        1031020  unknown  1523385   \n",
       "3930  4000747939904_extra   stage3        1034203  unknown  1524909   \n",
       "3931  4001239405815_extra   stage4        1037414  unknown  1529226   \n",
       "\n",
       "      lp_mass_best  \n",
       "0          9.84012  \n",
       "1          9.31051  \n",
       "2         10.48922  \n",
       "3         11.05237  \n",
       "4         10.56664  \n",
       "...            ...  \n",
       "3927       9.27097  \n",
       "3928       9.50357  \n",
       "3929       9.53909  \n",
       "3930       9.76084  \n",
       "3931      11.16721  \n",
       "\n",
       "[3932 rows x 6 columns]"
      ]
     },
     "execution_count": 922,
     "metadata": {},
     "output_type": "execute_result"
    }
   ],
   "source": [
    "df_all"
   ]
  },
  {
   "cell_type": "code",
   "execution_count": 923,
   "id": "47a33737-fa35-492a-89b2-462398cf2fc1",
   "metadata": {},
   "outputs": [],
   "source": [
    "all_s1 = np.array(df_all.query('category == \"stage1\"')['lp_mass_best'])\n",
    "all_s2 = np.array(df_all.query('category == \"stage2\"')['lp_mass_best'])\n",
    "all_s3 = np.array(df_all.query('category == \"stage3\"')['lp_mass_best'])\n",
    "all_s4 = np.array(df_all.query('category == \"stage4\"')['lp_mass_best'])"
   ]
  },
  {
   "cell_type": "code",
   "execution_count": 986,
   "id": "cc8b1f18-f6e7-4fa9-8cd3-6c8fb81717f8",
   "metadata": {},
   "outputs": [],
   "source": [
    "weights = weight_dist([all_s1, all_s2, all_s3, all_s4], compare=0, bins = 10, renorm = False, return_bins = False)"
   ]
  },
  {
   "cell_type": "code",
   "execution_count": 987,
   "id": "df6f9240-c3af-4a23-a151-8605d8b702db",
   "metadata": {},
   "outputs": [],
   "source": [
    "stage1_weights = df_all.query('category == \"stage1\"').assign(weight = weights[0])\n",
    "stage2_weights = df_all.query('category == \"stage2\"').assign(weight = weights[1])\n",
    "stage3_weights = df_all.query('category == \"stage3\"').assign(weight = weights[2])\n",
    "stage4_weights = df_all.query('category == \"stage4\"').assign(weight = weights[3])"
   ]
  },
  {
   "cell_type": "code",
   "execution_count": 988,
   "id": "468dee06-b018-451e-9710-267375347eb6",
   "metadata": {},
   "outputs": [
    {
     "data": {
      "text/plain": [
       "array([ 8.06246877, 20.86586515, 20.85561871, 10.        ])"
      ]
     },
     "execution_count": 988,
     "metadata": {},
     "output_type": "execute_result"
    }
   ],
   "source": [
    "weighted_agn_counts = np.array([\n",
    "    np.sum(np.array(list(stage1_weights.query('gal_clsf == \"AGN\"').weight))),\n",
    "    np.sum(np.array(list(stage2_weights.query('gal_clsf == \"AGN\"').weight))),\n",
    "    np.sum(np.array(list(stage3_weights.query('gal_clsf == \"AGN\"').weight))),\n",
    "    np.sum(np.array(list(stage4_weights.query('gal_clsf == \"AGN\"').weight)))\n",
    "])\n",
    "weighted_agn_counts"
   ]
  },
  {
   "cell_type": "code",
   "execution_count": null,
   "id": "9e745aa3-b58c-4797-b986-4bd0047ae3fa",
   "metadata": {},
   "outputs": [
    {
     "data": {
      "text/plain": [
       "63"
      ]
     },
     "execution_count": 998,
     "metadata": {},
     "output_type": "execute_result"
    }
   ],
   "source": [
    "len(stage4_weights.query('gal_clsf == \"SFG\"'))"
   ]
  },
  {
   "cell_type": "code",
   "execution_count": 989,
   "id": "c30de4c3-5db5-467c-9da1-aff2024b67b4",
   "metadata": {},
   "outputs": [
    {
     "data": {
      "text/plain": [
       "array([25.42378811, 56.10783279, 73.85553958, 59.48258547])"
      ]
     },
     "execution_count": 989,
     "metadata": {},
     "output_type": "execute_result"
    }
   ],
   "source": [
    "weighted_sfg_counts = np.array([\n",
    "    np.sum(np.array(list(stage1_weights.query('gal_clsf == \"SFG\"').weight))),\n",
    "    np.sum(np.array(list(stage2_weights.query('gal_clsf == \"SFG\"').weight))),\n",
    "    np.sum(np.array(list(stage3_weights.query('gal_clsf == \"SFG\"').weight))),\n",
    "    np.sum(np.array(list(stage4_weights.query('gal_clsf == \"SFG\"').weight)))\n",
    "])\n",
    "weighted_sfg_counts"
   ]
  },
  {
   "cell_type": "code",
   "execution_count": 990,
   "id": "d3b220fa-c53f-451a-b51a-ddaf44eaf5bd",
   "metadata": {},
   "outputs": [
    {
     "data": {
      "text/plain": [
       "array([665., 766., 793., 665.])"
      ]
     },
     "execution_count": 990,
     "metadata": {},
     "output_type": "execute_result"
    }
   ],
   "source": [
    "weighted_all_counts = np.array([\n",
    "    stage1_weights.weight.sum(),\n",
    "    stage2_weights.weight.sum(),\n",
    "    stage3_weights.weight.sum(),\n",
    "    stage4_weights.weight.sum(),\n",
    "])\n",
    "weighted_all_counts"
   ]
  },
  {
   "cell_type": "code",
   "execution_count": 991,
   "id": "d8c75935-baf9-4d48-b69f-2783a01616d1",
   "metadata": {},
   "outputs": [
    {
     "data": {
      "text/plain": [
       "array([0.01212401, 0.02724003, 0.02629965, 0.01503759])"
      ]
     },
     "execution_count": 991,
     "metadata": {},
     "output_type": "execute_result"
    }
   ],
   "source": [
    "weighted_fracs = weighted_agn_counts / (weighted_all_counts)\n",
    "weighted_fracs"
   ]
  },
  {
   "cell_type": "code",
   "execution_count": 992,
   "id": "26f4d9ea-5ced-4bf7-a05b-d34abb7a6184",
   "metadata": {},
   "outputs": [],
   "source": [
    "x = ['Separated', 'Pericentre', 'Apocentre','Merging']"
   ]
  },
  {
   "cell_type": "code",
   "execution_count": 993,
   "id": "3736fb98-9171-44fe-91d6-00bdb3a446a5",
   "metadata": {},
   "outputs": [
    {
     "data": {
      "image/png": "[encoded data removed]",
      "text/plain": [
       "<Figure size 800x800 with 1 Axes>"
      ]
     },
     "metadata": {},
     "output_type": "display_data"
    }
   ],
   "source": [
    "plt.figure(figsize = (8,8))\n",
    "plt.scatter(x, weighted_fracs, color = 'black', marker = 'x')\n",
    "plt.plot(x, weighted_fracs, color = 'black', linestyle='--')\n",
    "plt.show()"
   ]
  },
  {
   "cell_type": "code",
   "execution_count": null,
   "id": "a5115402-549a-4b47-8d98-02971857046c",
   "metadata": {},
   "outputs": [],
   "source": []
  }
 ],
 "metadata": {
  "kernelspec": {
   "display_name": "Python 3 (ipykernel)",
   "language": "python",
   "name": "python3"
  },
  "language_info": {
   "codemirror_mode": {
    "name": "ipython",
    "version": 3
   },
   "file_extension": ".py",
   "mimetype": "text/x-python",
   "name": "python",
   "nbconvert_exporter": "python",
   "pygments_lexer": "ipython3",
   "version": "3.7.13"
  }
 },
 "nbformat": 4,
 "nbformat_minor": 5
}
