{
 "cells": [
  {
   "cell_type": "code",
   "execution_count": 7,
   "id": "e897efa9-e29a-4099-99fd-980ef9f41179",
   "metadata": {},
   "outputs": [],
   "source": [
    "import numpy as np"
   ]
  },
  {
   "cell_type": "code",
   "execution_count": 15,
   "id": "f37c80d3-ebe6-4871-8e83-edf63dd7dfca",
   "metadata": {},
   "outputs": [],
   "source": [
    "import pandas as pd\n",
    "import numpy as np\n",
    "import matplotlib.pyplot as plt\n",
    "\n",
    "from tqdm import tqdm\n",
    "tqdm.pandas()"
   ]
  },
  {
   "cell_type": "code",
   "execution_count": 3,
   "id": "ee936093-6d81-4faf-b7e3-a3f24cedcd56",
   "metadata": {},
   "outputs": [],
   "source": [
    "data_folder = 'E:/cosmos-data'"
   ]
  },
  {
   "cell_type": "code",
   "execution_count": 4,
   "id": "6a4d6da7-315a-4a9d-b668-2029626af52b",
   "metadata": {},
   "outputs": [],
   "source": [
    "df = pd.read_csv(f'{data_folder}/full-sample-all-environ.csv', index_col = 0)"
   ]
  },
  {
   "cell_type": "code",
   "execution_count": 9,
   "id": "96c5c878-0942-47a9-a02b-cfca68cc8104",
   "metadata": {},
   "outputs": [
    {
     "data": {
      "text/html": [
       "<div>\n",
       "<style scoped>\n",
       "    .dataframe tbody tr th:only-of-type {\n",
       "        vertical-align: middle;\n",
       "    }\n",
       "\n",
       "    .dataframe tbody tr th {\n",
       "        vertical-align: top;\n",
       "    }\n",
       "\n",
       "    .dataframe thead th {\n",
       "        text-align: right;\n",
       "    }\n",
       "</style>\n",
       "<table border=\"1\" class=\"dataframe\">\n",
       "  <thead>\n",
       "    <tr style=\"text-align: right;\">\n",
       "      <th></th>\n",
       "      <th>ID</th>\n",
       "      <th>IDs</th>\n",
       "      <th>N_1</th>\n",
       "      <th>N_2</th>\n",
       "      <th>N_3</th>\n",
       "      <th>N_4</th>\n",
       "      <th>N_5</th>\n",
       "    </tr>\n",
       "  </thead>\n",
       "  <tbody>\n",
       "    <tr>\n",
       "      <th>0</th>\n",
       "      <td>105328</td>\n",
       "      <td>[98912, 107352, 89486, 119552, 126716]</td>\n",
       "      <td>15.806091</td>\n",
       "      <td>2.968615</td>\n",
       "      <td>3.922999</td>\n",
       "      <td>4.416560</td>\n",
       "      <td>4.817184</td>\n",
       "    </tr>\n",
       "    <tr>\n",
       "      <th>1</th>\n",
       "      <td>105329</td>\n",
       "      <td>[99367, 107262, 125813, 143679, 129175]</td>\n",
       "      <td>2.137290</td>\n",
       "      <td>1.547286</td>\n",
       "      <td>2.457201</td>\n",
       "      <td>3.266828</td>\n",
       "      <td>4.167507</td>\n",
       "    </tr>\n",
       "    <tr>\n",
       "      <th>2</th>\n",
       "      <td>105330</td>\n",
       "      <td>[103160, 112890, 108320, 115320, 100144]</td>\n",
       "      <td>885.613152</td>\n",
       "      <td>65.905503</td>\n",
       "      <td>8.263137</td>\n",
       "      <td>9.152902</td>\n",
       "      <td>9.277347</td>\n",
       "    </tr>\n",
       "    <tr>\n",
       "      <th>3</th>\n",
       "      <td>105331</td>\n",
       "      <td>[97772, 103073, 105478, 98688, 115564]</td>\n",
       "      <td>24.778566</td>\n",
       "      <td>12.809960</td>\n",
       "      <td>9.704822</td>\n",
       "      <td>9.646868</td>\n",
       "      <td>9.429629</td>\n",
       "    </tr>\n",
       "    <tr>\n",
       "      <th>4</th>\n",
       "      <td>105332</td>\n",
       "      <td>[131663, 84804, 54453, 78285, 163744]</td>\n",
       "      <td>0.245998</td>\n",
       "      <td>1.167488</td>\n",
       "      <td>2.141145</td>\n",
       "      <td>3.131527</td>\n",
       "      <td>4.121687</td>\n",
       "    </tr>\n",
       "    <tr>\n",
       "      <th>...</th>\n",
       "      <td>...</td>\n",
       "      <td>...</td>\n",
       "      <td>...</td>\n",
       "      <td>...</td>\n",
       "      <td>...</td>\n",
       "      <td>...</td>\n",
       "      <td>...</td>\n",
       "    </tr>\n",
       "    <tr>\n",
       "      <th>49996</th>\n",
       "      <td>211493</td>\n",
       "      <td>[208649, 201946, 234097, 223946, 236317]</td>\n",
       "      <td>14.426260</td>\n",
       "      <td>3.195919</td>\n",
       "      <td>2.544165</td>\n",
       "      <td>3.523323</td>\n",
       "      <td>4.520402</td>\n",
       "    </tr>\n",
       "    <tr>\n",
       "      <th>49997</th>\n",
       "      <td>211494</td>\n",
       "      <td>[223504, 218605, 230637, 214141, 225708]</td>\n",
       "      <td>2.307450</td>\n",
       "      <td>2.672396</td>\n",
       "      <td>2.733395</td>\n",
       "      <td>3.602101</td>\n",
       "      <td>4.506347</td>\n",
       "    </tr>\n",
       "    <tr>\n",
       "      <th>49998</th>\n",
       "      <td>211495</td>\n",
       "      <td>[222258, 231871, 184948, 255408, 180131]</td>\n",
       "      <td>2.588519</td>\n",
       "      <td>1.309166</td>\n",
       "      <td>2.171124</td>\n",
       "      <td>3.164856</td>\n",
       "      <td>4.142917</td>\n",
       "    </tr>\n",
       "    <tr>\n",
       "      <th>49999</th>\n",
       "      <td>211496</td>\n",
       "      <td>[210020, 205217, 216036, 207194, 222670]</td>\n",
       "      <td>368.469909</td>\n",
       "      <td>92.095319</td>\n",
       "      <td>70.021044</td>\n",
       "      <td>55.064362</td>\n",
       "      <td>51.150925</td>\n",
       "    </tr>\n",
       "    <tr>\n",
       "      <th>50000</th>\n",
       "      <td>211497</td>\n",
       "      <td>[226826, 221450, 192647, 207359, 203845]</td>\n",
       "      <td>1.423306</td>\n",
       "      <td>2.359499</td>\n",
       "      <td>2.766189</td>\n",
       "      <td>3.670434</td>\n",
       "      <td>4.458199</td>\n",
       "    </tr>\n",
       "  </tbody>\n",
       "</table>\n",
       "<p>1600032 rows × 7 columns</p>\n",
       "</div>"
      ],
      "text/plain": [
       "           ID                                       IDs         N_1  \\\n",
       "0      105328    [98912, 107352, 89486, 119552, 126716]   15.806091   \n",
       "1      105329   [99367, 107262, 125813, 143679, 129175]    2.137290   \n",
       "2      105330  [103160, 112890, 108320, 115320, 100144]  885.613152   \n",
       "3      105331    [97772, 103073, 105478, 98688, 115564]   24.778566   \n",
       "4      105332     [131663, 84804, 54453, 78285, 163744]    0.245998   \n",
       "...       ...                                       ...         ...   \n",
       "49996  211493  [208649, 201946, 234097, 223946, 236317]   14.426260   \n",
       "49997  211494  [223504, 218605, 230637, 214141, 225708]    2.307450   \n",
       "49998  211495  [222258, 231871, 184948, 255408, 180131]    2.588519   \n",
       "49999  211496  [210020, 205217, 216036, 207194, 222670]  368.469909   \n",
       "50000  211497  [226826, 221450, 192647, 207359, 203845]    1.423306   \n",
       "\n",
       "             N_2        N_3        N_4        N_5  \n",
       "0       2.968615   3.922999   4.416560   4.817184  \n",
       "1       1.547286   2.457201   3.266828   4.167507  \n",
       "2      65.905503   8.263137   9.152902   9.277347  \n",
       "3      12.809960   9.704822   9.646868   9.429629  \n",
       "4       1.167488   2.141145   3.131527   4.121687  \n",
       "...          ...        ...        ...        ...  \n",
       "49996   3.195919   2.544165   3.523323   4.520402  \n",
       "49997   2.672396   2.733395   3.602101   4.506347  \n",
       "49998   1.309166   2.171124   3.164856   4.142917  \n",
       "49999  92.095319  70.021044  55.064362  51.150925  \n",
       "50000   2.359499   2.766189   3.670434   4.458199  \n",
       "\n",
       "[1600032 rows x 7 columns]"
      ]
     },
     "execution_count": 9,
     "metadata": {},
     "output_type": "execute_result"
    }
   ],
   "source": [
    "df"
   ]
  },
  {
   "cell_type": "code",
   "execution_count": 33,
   "id": "d89e2067-0ffe-4829-a130-13ed643af02e",
   "metadata": {},
   "outputs": [
    {
     "name": "stderr",
     "output_type": "stream",
     "text": [
      "100%|██████████| 1600032/1600032 [00:53<00:00, 29699.33it/s]\n",
      "100%|██████████| 1600032/1600032 [00:56<00:00, 28289.20it/s]\n"
     ]
    }
   ],
   "source": [
    "df_environ = (\n",
    "    df\n",
    "    .assign(log_sigma = df.progress_apply(lambda row: ((np.log10(row.N_4) + np.log10(row.N_5)) / 2), axis = 1))\n",
    "    .assign(sigma = df.progress_apply(lambda row: 10**((np.log10(row.N_4) + np.log10(row.N_5)) / 2), axis = 1))\n",
    ")"
   ]
  },
  {
   "cell_type": "code",
   "execution_count": 34,
   "id": "6301e5ca-5d1e-4471-b24b-feb7b716bf0e",
   "metadata": {},
   "outputs": [
    {
     "data": {
      "text/plain": [
       "0.5419854538005765"
      ]
     },
     "execution_count": 34,
     "metadata": {},
     "output_type": "execute_result"
    }
   ],
   "source": [
    "df_environ.log_sigma.min()"
   ]
  },
  {
   "cell_type": "code",
   "execution_count": 35,
   "id": "2b2e4d28-f584-409d-846a-c5846f1b2a0e",
   "metadata": {},
   "outputs": [
    {
     "data": {
      "text/plain": [
       "4.181183928862328"
      ]
     },
     "execution_count": 35,
     "metadata": {},
     "output_type": "execute_result"
    }
   ],
   "source": [
    "df_environ.log_sigma.max()"
   ]
  },
  {
   "cell_type": "code",
   "execution_count": 36,
   "id": "a5598ab1-201a-42e4-9d3d-be7778c7b3c5",
   "metadata": {},
   "outputs": [
    {
     "data": {
      "text/plain": [
       "3.4832564806945614"
      ]
     },
     "execution_count": 36,
     "metadata": {},
     "output_type": "execute_result"
    }
   ],
   "source": [
    "df_environ.sigma.min()"
   ]
  },
  {
   "cell_type": "code",
   "execution_count": 37,
   "id": "35d40a10-663c-4faa-9bee-de8892edc597",
   "metadata": {},
   "outputs": [
    {
     "data": {
      "text/plain": [
       "15176.929923469916"
      ]
     },
     "execution_count": 37,
     "metadata": {},
     "output_type": "execute_result"
    }
   ],
   "source": [
    "df_environ.sigma.max()"
   ]
  },
  {
   "cell_type": "code",
   "execution_count": 41,
   "id": "722dadcb-6b33-4599-a4b3-28c5a5930eac",
   "metadata": {},
   "outputs": [
    {
     "data": {
      "text/html": [
       "<div>\n",
       "<style scoped>\n",
       "    .dataframe tbody tr th:only-of-type {\n",
       "        vertical-align: middle;\n",
       "    }\n",
       "\n",
       "    .dataframe tbody tr th {\n",
       "        vertical-align: top;\n",
       "    }\n",
       "\n",
       "    .dataframe thead th {\n",
       "        text-align: right;\n",
       "    }\n",
       "</style>\n",
       "<table border=\"1\" class=\"dataframe\">\n",
       "  <thead>\n",
       "    <tr style=\"text-align: right;\">\n",
       "      <th></th>\n",
       "      <th>ID</th>\n",
       "      <th>IDs</th>\n",
       "      <th>N_1</th>\n",
       "      <th>N_2</th>\n",
       "      <th>N_3</th>\n",
       "      <th>N_4</th>\n",
       "      <th>N_5</th>\n",
       "      <th>log_sigma</th>\n",
       "      <th>sigma</th>\n",
       "    </tr>\n",
       "  </thead>\n",
       "  <tbody>\n",
       "    <tr>\n",
       "      <th>0</th>\n",
       "      <td>105328</td>\n",
       "      <td>[98912, 107352, 89486, 119552, 126716]</td>\n",
       "      <td>15.806091</td>\n",
       "      <td>2.968615</td>\n",
       "      <td>3.922999</td>\n",
       "      <td>4.416560</td>\n",
       "      <td>4.817184</td>\n",
       "      <td>0.663939</td>\n",
       "      <td>4.612524</td>\n",
       "    </tr>\n",
       "    <tr>\n",
       "      <th>1</th>\n",
       "      <td>105329</td>\n",
       "      <td>[99367, 107262, 125813, 143679, 129175]</td>\n",
       "      <td>2.137290</td>\n",
       "      <td>1.547286</td>\n",
       "      <td>2.457201</td>\n",
       "      <td>3.266828</td>\n",
       "      <td>4.167507</td>\n",
       "      <td>0.567001</td>\n",
       "      <td>3.689787</td>\n",
       "    </tr>\n",
       "    <tr>\n",
       "      <th>2</th>\n",
       "      <td>105330</td>\n",
       "      <td>[103160, 112890, 108320, 115320, 100144]</td>\n",
       "      <td>885.613152</td>\n",
       "      <td>65.905503</td>\n",
       "      <td>8.263137</td>\n",
       "      <td>9.152902</td>\n",
       "      <td>9.277347</td>\n",
       "      <td>0.964491</td>\n",
       "      <td>9.214914</td>\n",
       "    </tr>\n",
       "    <tr>\n",
       "      <th>3</th>\n",
       "      <td>105331</td>\n",
       "      <td>[97772, 103073, 105478, 98688, 115564]</td>\n",
       "      <td>24.778566</td>\n",
       "      <td>12.809960</td>\n",
       "      <td>9.704822</td>\n",
       "      <td>9.646868</td>\n",
       "      <td>9.429629</td>\n",
       "      <td>0.979440</td>\n",
       "      <td>9.537630</td>\n",
       "    </tr>\n",
       "    <tr>\n",
       "      <th>4</th>\n",
       "      <td>105332</td>\n",
       "      <td>[131663, 84804, 54453, 78285, 163744]</td>\n",
       "      <td>0.245998</td>\n",
       "      <td>1.167488</td>\n",
       "      <td>2.141145</td>\n",
       "      <td>3.131527</td>\n",
       "      <td>4.121687</td>\n",
       "      <td>0.555416</td>\n",
       "      <td>3.592655</td>\n",
       "    </tr>\n",
       "    <tr>\n",
       "      <th>...</th>\n",
       "      <td>...</td>\n",
       "      <td>...</td>\n",
       "      <td>...</td>\n",
       "      <td>...</td>\n",
       "      <td>...</td>\n",
       "      <td>...</td>\n",
       "      <td>...</td>\n",
       "      <td>...</td>\n",
       "      <td>...</td>\n",
       "    </tr>\n",
       "    <tr>\n",
       "      <th>49995</th>\n",
       "      <td>211492</td>\n",
       "      <td>[236121, 219950, 239665, 190989, 179556]</td>\n",
       "      <td>0.493535</td>\n",
       "      <td>1.490127</td>\n",
       "      <td>2.442296</td>\n",
       "      <td>3.389394</td>\n",
       "      <td>4.348956</td>\n",
       "      <td>0.584254</td>\n",
       "      <td>3.839313</td>\n",
       "    </tr>\n",
       "    <tr>\n",
       "      <th>49996</th>\n",
       "      <td>211493</td>\n",
       "      <td>[208649, 201946, 234097, 223946, 236317]</td>\n",
       "      <td>14.426260</td>\n",
       "      <td>3.195919</td>\n",
       "      <td>2.544165</td>\n",
       "      <td>3.523323</td>\n",
       "      <td>4.520402</td>\n",
       "      <td>0.601065</td>\n",
       "      <td>3.990844</td>\n",
       "    </tr>\n",
       "    <tr>\n",
       "      <th>49997</th>\n",
       "      <td>211494</td>\n",
       "      <td>[223504, 218605, 230637, 214141, 225708]</td>\n",
       "      <td>2.307450</td>\n",
       "      <td>2.672396</td>\n",
       "      <td>2.733395</td>\n",
       "      <td>3.602101</td>\n",
       "      <td>4.506347</td>\n",
       "      <td>0.605190</td>\n",
       "      <td>4.028935</td>\n",
       "    </tr>\n",
       "    <tr>\n",
       "      <th>49998</th>\n",
       "      <td>211495</td>\n",
       "      <td>[222258, 231871, 184948, 255408, 180131]</td>\n",
       "      <td>2.588519</td>\n",
       "      <td>1.309166</td>\n",
       "      <td>2.171124</td>\n",
       "      <td>3.164856</td>\n",
       "      <td>4.142917</td>\n",
       "      <td>0.558830</td>\n",
       "      <td>3.621013</td>\n",
       "    </tr>\n",
       "    <tr>\n",
       "      <th>50000</th>\n",
       "      <td>211497</td>\n",
       "      <td>[226826, 221450, 192647, 207359, 203845]</td>\n",
       "      <td>1.423306</td>\n",
       "      <td>2.359499</td>\n",
       "      <td>2.766189</td>\n",
       "      <td>3.670434</td>\n",
       "      <td>4.458199</td>\n",
       "      <td>0.606938</td>\n",
       "      <td>4.045185</td>\n",
       "    </tr>\n",
       "  </tbody>\n",
       "</table>\n",
       "<p>1481765 rows × 9 columns</p>\n",
       "</div>"
      ],
      "text/plain": [
       "           ID                                       IDs         N_1  \\\n",
       "0      105328    [98912, 107352, 89486, 119552, 126716]   15.806091   \n",
       "1      105329   [99367, 107262, 125813, 143679, 129175]    2.137290   \n",
       "2      105330  [103160, 112890, 108320, 115320, 100144]  885.613152   \n",
       "3      105331    [97772, 103073, 105478, 98688, 115564]   24.778566   \n",
       "4      105332     [131663, 84804, 54453, 78285, 163744]    0.245998   \n",
       "...       ...                                       ...         ...   \n",
       "49995  211492  [236121, 219950, 239665, 190989, 179556]    0.493535   \n",
       "49996  211493  [208649, 201946, 234097, 223946, 236317]   14.426260   \n",
       "49997  211494  [223504, 218605, 230637, 214141, 225708]    2.307450   \n",
       "49998  211495  [222258, 231871, 184948, 255408, 180131]    2.588519   \n",
       "50000  211497  [226826, 221450, 192647, 207359, 203845]    1.423306   \n",
       "\n",
       "             N_2       N_3       N_4       N_5  log_sigma     sigma  \n",
       "0       2.968615  3.922999  4.416560  4.817184   0.663939  4.612524  \n",
       "1       1.547286  2.457201  3.266828  4.167507   0.567001  3.689787  \n",
       "2      65.905503  8.263137  9.152902  9.277347   0.964491  9.214914  \n",
       "3      12.809960  9.704822  9.646868  9.429629   0.979440  9.537630  \n",
       "4       1.167488  2.141145  3.131527  4.121687   0.555416  3.592655  \n",
       "...          ...       ...       ...       ...        ...       ...  \n",
       "49995   1.490127  2.442296  3.389394  4.348956   0.584254  3.839313  \n",
       "49996   3.195919  2.544165  3.523323  4.520402   0.601065  3.990844  \n",
       "49997   2.672396  2.733395  3.602101  4.506347   0.605190  4.028935  \n",
       "49998   1.309166  2.171124  3.164856  4.142917   0.558830  3.621013  \n",
       "50000   2.359499  2.766189  3.670434  4.458199   0.606938  4.045185  \n",
       "\n",
       "[1481765 rows x 9 columns]"
      ]
     },
     "execution_count": 41,
     "metadata": {},
     "output_type": "execute_result"
    }
   ],
   "source": [
    "df_environ.query('sigma < 50')"
   ]
  },
  {
   "cell_type": "code",
   "execution_count": 46,
   "id": "08203afd-8022-4d50-9ff2-93e49751b091",
   "metadata": {},
   "outputs": [
    {
     "data": {
      "image/png": "[encoded data removed]",
      "text/plain": [
       "<Figure size 640x480 with 1 Axes>"
      ]
     },
     "metadata": {},
     "output_type": "display_data"
    }
   ],
   "source": [
    "df_environ.query('sigma < 20').hist(\n",
    "    column = 'N_5',\n",
    "    bins = 25,\n",
    "    histtype = 'step',\n",
    "    color = 'black'\n",
    ")\n",
    "plt.xlabel('Surface Density (Mpc$^{-2}$)')\n",
    "plt.title('')\n",
    "plt.show()"
   ]
  },
  {
   "cell_type": "code",
   "execution_count": 49,
   "id": "38d67fb3-0b3f-4101-a528-53e7f0ab89c1",
   "metadata": {},
   "outputs": [
    {
     "data": {
      "image/png": "[encoded data removed]",
      "text/plain": [
       "<Figure size 640x480 with 1 Axes>"
      ]
     },
     "metadata": {},
     "output_type": "display_data"
    }
   ],
   "source": [
    "df_environ.query('sigma < 20').hist(\n",
    "    column = 'log_sigma',\n",
    "    bins = 25,\n",
    "    histtype = 'step',\n",
    "    color = 'black'\n",
    ")\n",
    "plt.xlabel('Log ($\\Sigma$) (Mpc$^{-2}$)')\n",
    "plt.ylabel('Counts')\n",
    "plt.title('')\n",
    "plt.show()"
   ]
  },
  {
   "cell_type": "code",
   "execution_count": null,
   "id": "f232bf0d-f605-4fca-9b93-81d1bbf300ef",
   "metadata": {},
   "outputs": [],
   "source": []
  }
 ],
 "metadata": {
  "kernelspec": {
   "display_name": "Python 3 (ipykernel)",
   "language": "python",
   "name": "python3"
  },
  "language_info": {
   "codemirror_mode": {
    "name": "ipython",
    "version": 3
   },
   "file_extension": ".py",
   "mimetype": "text/x-python",
   "name": "python",
   "nbconvert_exporter": "python",
   "pygments_lexer": "ipython3",
   "version": "3.7.13"
  }
 },
 "nbformat": 4,
 "nbformat_minor": 5
}
