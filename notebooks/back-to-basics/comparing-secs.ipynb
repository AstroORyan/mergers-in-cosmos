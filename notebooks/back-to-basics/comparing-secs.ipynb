{
 "cells": [
  {
   "cell_type": "code",
   "execution_count": null,
   "id": "2b2c3d40-d2c1-47a3-9e72-4d088a2bd894",
   "metadata": {},
   "outputs": [],
   "source": [
    "import pandas as pd"
   ]
  },
  {
   "cell_type": "code",
   "execution_count": 2,
   "id": "b4755c52-d549-4077-9c60-0b0fa0747c98",
   "metadata": {},
   "outputs": [],
   "source": [
    "data_folder = 'C:/Users/oryan/Documents/mergers-in-cosmos/back-to-basics-data'\n",
    "folder = 'C:/Users/oryan/Documents/mergers-in-cosmos'\n",
    "student_folder = 'C:/Users/oryan/Documents/mergers-in-cosmos/followup-data'\n",
    "results_folder = 'C:/Users/oryan/Documents/mergers-in-cosmos/back-to-basics-results'\n",
    "cosmos_folder = 'E:/cosmos-data'"
   ]
  },
  {
   "cell_type": "code",
   "execution_count": 3,
   "id": "6e4be3c0-b314-433b-b261-8df165449144",
   "metadata": {},
   "outputs": [],
   "source": [
    "orig_secs = pd.read_csv(f'{data_folder}/secondary-ids.csv', index_col = 0)"
   ]
  },
  {
   "cell_type": "code",
   "execution_count": 4,
   "id": "4248ccac-9ebd-436c-a0f9-9a13bde6a5e6",
   "metadata": {},
   "outputs": [],
   "source": [
    "new_secs = pd.read_csv(f'{data_folder}/secondary-ids-redone.csv', index_col = 0)"
   ]
  },
  {
   "cell_type": "code",
   "execution_count": 7,
   "id": "ad04947b-ec8e-4764-a1fb-1910b1c62f6c",
   "metadata": {},
   "outputs": [],
   "source": [
    "df_merged = orig_secs.merge(new_secs, left_index = True, right_index = True, how = 'left')"
   ]
  },
  {
   "cell_type": "code",
   "execution_count": 8,
   "id": "9dddb316-aa12-49ec-be74-39171a760e71",
   "metadata": {},
   "outputs": [
    {
     "data": {
      "text/html": [
       "<div>\n",
       "<style scoped>\n",
       "    .dataframe tbody tr th:only-of-type {\n",
       "        vertical-align: middle;\n",
       "    }\n",
       "\n",
       "    .dataframe tbody tr th {\n",
       "        vertical-align: top;\n",
       "    }\n",
       "\n",
       "    .dataframe thead th {\n",
       "        text-align: right;\n",
       "    }\n",
       "</style>\n",
       "<table border=\"1\" class=\"dataframe\">\n",
       "  <thead>\n",
       "    <tr style=\"text-align: right;\">\n",
       "      <th></th>\n",
       "      <th>sec_id_x</th>\n",
       "      <th>sec_id_y</th>\n",
       "    </tr>\n",
       "  </thead>\n",
       "  <tbody>\n",
       "    <tr>\n",
       "      <th>4000705532455</th>\n",
       "      <td>807207</td>\n",
       "      <td>807207</td>\n",
       "    </tr>\n",
       "    <tr>\n",
       "      <th>4000705532984</th>\n",
       "      <td>848644</td>\n",
       "      <td>848644</td>\n",
       "    </tr>\n",
       "    <tr>\n",
       "      <th>4000705533312</th>\n",
       "      <td>872228</td>\n",
       "      <td>872228</td>\n",
       "    </tr>\n",
       "    <tr>\n",
       "      <th>4000705533383</th>\n",
       "      <td>847365</td>\n",
       "      <td>847365</td>\n",
       "    </tr>\n",
       "    <tr>\n",
       "      <th>4000705539529</th>\n",
       "      <td>1298521</td>\n",
       "      <td>1298521</td>\n",
       "    </tr>\n",
       "  </tbody>\n",
       "</table>\n",
       "</div>"
      ],
      "text/plain": [
       "               sec_id_x  sec_id_y\n",
       "4000705532455    807207    807207\n",
       "4000705532984    848644    848644\n",
       "4000705533312    872228    872228\n",
       "4000705533383    847365    847365\n",
       "4000705539529   1298521   1298521"
      ]
     },
     "execution_count": 8,
     "metadata": {},
     "output_type": "execute_result"
    }
   ],
   "source": [
    "df_merged.head()"
   ]
  }
 ],
 "metadata": {
  "kernelspec": {
   "display_name": "Python 3 (ipykernel)",
   "language": "python",
   "name": "python3"
  },
  "language_info": {
   "codemirror_mode": {
    "name": "ipython",
    "version": 3
   },
   "file_extension": ".py",
   "mimetype": "text/x-python",
   "name": "python",
   "nbconvert_exporter": "python",
   "pygments_lexer": "ipython3",
   "version": "3.7.13"
  }
 },
 "nbformat": 4,
 "nbformat_minor": 5
}
