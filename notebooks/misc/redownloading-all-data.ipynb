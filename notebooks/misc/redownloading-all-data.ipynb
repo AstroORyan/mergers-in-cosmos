{
 "cells": [
  {
   "cell_type": "markdown",
   "id": "2513ef85-c09d-4d6c-8030-9712140c1c2b",
   "metadata": {},
   "source": [
    "# Redownloading ALL Cosmos Data\n",
    "Realised that downloading parts of the data previously limits what I can do with it. Therefore, redownloading the data and saving everything. Using the previously matched catalogue though, for speed."
   ]
  },
  {
   "cell_type": "code",
   "execution_count": 1,
   "id": "6109e527-e53b-40ad-b2f2-25d4e2e0c471",
   "metadata": {},
   "outputs": [
    {
     "name": "stderr",
     "output_type": "stream",
     "text": [
      "C:\\Users\\oryan\\AppData\\Local\\Continuum\\anaconda3\\lib\\site-packages\\ipykernel_launcher.py:9: DeprecationWarning: the ``irsa`` module has been moved to astroquery.ipac.irsa, please update your imports.\n",
      "  if __name__ == \"__main__\":\n"
     ]
    }
   ],
   "source": [
    "import pandas as pd\n",
    "import sys\n",
    "import time\n",
    "from tqdm import tqdm\n",
    "tqdm.pandas()\n",
    "\n",
    "from IPython.display import clear_output\n",
    "\n",
    "from astroquery.irsa import Irsa\n",
    "from astropy.coordinates import SkyCoord\n",
    "import astropy.units as u"
   ]
  },
  {
   "cell_type": "code",
   "execution_count": 2,
   "id": "ba65cb0f-4a6e-4b07-a0be-48f413105464",
   "metadata": {},
   "outputs": [],
   "source": [
    "folder = 'C:/Users/oryan/Documents/mergers-in-cosmos/data'"
   ]
  },
  {
   "cell_type": "code",
   "execution_count": 3,
   "id": "812918d6-ea6d-4069-af7c-92bc70b7d9cd",
   "metadata": {},
   "outputs": [],
   "source": [
    "my_cosmo_cat = pd.read_csv(f'{folder}/cosmos-matched-df.csv', index_col = 0)"
   ]
  },
  {
   "cell_type": "code",
   "execution_count": 4,
   "id": "bb81c8fa-728f-4ca3-83be-a806b6684a67",
   "metadata": {},
   "outputs": [
    {
     "data": {
      "text/html": [
       "<div>\n",
       "<style scoped>\n",
       "    .dataframe tbody tr th:only-of-type {\n",
       "        vertical-align: middle;\n",
       "    }\n",
       "\n",
       "    .dataframe tbody tr th {\n",
       "        vertical-align: top;\n",
       "    }\n",
       "\n",
       "    .dataframe thead th {\n",
       "        text-align: right;\n",
       "    }\n",
       "</style>\n",
       "<table border=\"1\" class=\"dataframe\">\n",
       "  <thead>\n",
       "    <tr style=\"text-align: right;\">\n",
       "      <th></th>\n",
       "      <th>SourceID</th>\n",
       "      <th>id_1</th>\n",
       "      <th>ssfr_best_1</th>\n",
       "      <th>ssfr_med_max68_1</th>\n",
       "      <th>ssfr_med_min68_1</th>\n",
       "      <th>ssfr_med_1</th>\n",
       "      <th>sfr_best_1</th>\n",
       "      <th>sfr_med_max68_1</th>\n",
       "      <th>sfr_med_min68_1</th>\n",
       "      <th>sfr_med_1</th>\n",
       "      <th>...</th>\n",
       "      <th>flag_shallow_2</th>\n",
       "      <th>l_r_2</th>\n",
       "      <th>l_k_2</th>\n",
       "      <th>l_nu_2</th>\n",
       "      <th>dist_2</th>\n",
       "      <th>RA</th>\n",
       "      <th>Dec</th>\n",
       "      <th>int_prediction</th>\n",
       "      <th>references</th>\n",
       "      <th>status</th>\n",
       "    </tr>\n",
       "  </thead>\n",
       "  <tbody>\n",
       "    <tr>\n",
       "      <th>0</th>\n",
       "      <td>4000705532455</td>\n",
       "      <td>590539.0</td>\n",
       "      <td>-8.847</td>\n",
       "      <td>-8.463</td>\n",
       "      <td>-8.865</td>\n",
       "      <td>-8.712</td>\n",
       "      <td>0.508</td>\n",
       "      <td>0.835</td>\n",
       "      <td>0.477</td>\n",
       "      <td>0.655</td>\n",
       "      <td>...</td>\n",
       "      <td>1.0</td>\n",
       "      <td>27.260</td>\n",
       "      <td>27.124</td>\n",
       "      <td>27.074</td>\n",
       "      <td>9.361438</td>\n",
       "      <td>150.679664</td>\n",
       "      <td>2.196615</td>\n",
       "      <td>0.970096</td>\n",
       "      <td>['2007ApJS..172...99C']</td>\n",
       "      <td>Referenced</td>\n",
       "    </tr>\n",
       "    <tr>\n",
       "      <th>1</th>\n",
       "      <td>4000705532984</td>\n",
       "      <td>610283.0</td>\n",
       "      <td>-10.040</td>\n",
       "      <td>-9.922</td>\n",
       "      <td>-10.065</td>\n",
       "      <td>-9.990</td>\n",
       "      <td>0.536</td>\n",
       "      <td>0.486</td>\n",
       "      <td>0.335</td>\n",
       "      <td>0.411</td>\n",
       "      <td>...</td>\n",
       "      <td>1.0</td>\n",
       "      <td>27.868</td>\n",
       "      <td>27.811</td>\n",
       "      <td>27.848</td>\n",
       "      <td>7.778731</td>\n",
       "      <td>150.673546</td>\n",
       "      <td>2.226438</td>\n",
       "      <td>0.961160</td>\n",
       "      <td>['2007ApJS..172...99C']</td>\n",
       "      <td>Referenced</td>\n",
       "    </tr>\n",
       "    <tr>\n",
       "      <th>2</th>\n",
       "      <td>4000705533312</td>\n",
       "      <td>621053.0</td>\n",
       "      <td>-10.258</td>\n",
       "      <td>-10.232</td>\n",
       "      <td>-10.368</td>\n",
       "      <td>-10.300</td>\n",
       "      <td>-0.058</td>\n",
       "      <td>-0.032</td>\n",
       "      <td>-0.168</td>\n",
       "      <td>-0.100</td>\n",
       "      <td>...</td>\n",
       "      <td>1.0</td>\n",
       "      <td>29.620</td>\n",
       "      <td>29.874</td>\n",
       "      <td>28.661</td>\n",
       "      <td>2.627196</td>\n",
       "      <td>150.667975</td>\n",
       "      <td>2.242945</td>\n",
       "      <td>0.995066</td>\n",
       "      <td>['2007ApJS..172...99C', '2007ApJS..172...99C',...</td>\n",
       "      <td>Referenced</td>\n",
       "    </tr>\n",
       "    <tr>\n",
       "      <th>3</th>\n",
       "      <td>4000705533383</td>\n",
       "      <td>617834.0</td>\n",
       "      <td>-9.445</td>\n",
       "      <td>-9.322</td>\n",
       "      <td>-9.470</td>\n",
       "      <td>-9.398</td>\n",
       "      <td>0.132</td>\n",
       "      <td>0.179</td>\n",
       "      <td>0.034</td>\n",
       "      <td>0.107</td>\n",
       "      <td>...</td>\n",
       "      <td>1.0</td>\n",
       "      <td>29.232</td>\n",
       "      <td>29.068</td>\n",
       "      <td>29.135</td>\n",
       "      <td>2.241379</td>\n",
       "      <td>150.645125</td>\n",
       "      <td>2.237650</td>\n",
       "      <td>0.985773</td>\n",
       "      <td>['2007ApJS..172...99C', '2007ApJS..172...99C',...</td>\n",
       "      <td>Referenced</td>\n",
       "    </tr>\n",
       "    <tr>\n",
       "      <th>4</th>\n",
       "      <td>4000705539529</td>\n",
       "      <td>882817.0</td>\n",
       "      <td>-8.783</td>\n",
       "      <td>-8.753</td>\n",
       "      <td>-9.122</td>\n",
       "      <td>-8.868</td>\n",
       "      <td>1.319</td>\n",
       "      <td>1.346</td>\n",
       "      <td>1.025</td>\n",
       "      <td>1.232</td>\n",
       "      <td>...</td>\n",
       "      <td>0.0</td>\n",
       "      <td>28.572</td>\n",
       "      <td>28.466</td>\n",
       "      <td>28.323</td>\n",
       "      <td>3.301196</td>\n",
       "      <td>149.686626</td>\n",
       "      <td>2.637161</td>\n",
       "      <td>0.992917</td>\n",
       "      <td>['2009ApJS..184..218L', '2007ApJS..172...99C']</td>\n",
       "      <td>Referenced</td>\n",
       "    </tr>\n",
       "  </tbody>\n",
       "</table>\n",
       "<p>5 rows × 50 columns</p>\n",
       "</div>"
      ],
      "text/plain": [
       "        SourceID      id_1  ssfr_best_1  ssfr_med_max68_1  ssfr_med_min68_1  \\\n",
       "0  4000705532455  590539.0       -8.847            -8.463            -8.865   \n",
       "1  4000705532984  610283.0      -10.040            -9.922           -10.065   \n",
       "2  4000705533312  621053.0      -10.258           -10.232           -10.368   \n",
       "3  4000705533383  617834.0       -9.445            -9.322            -9.470   \n",
       "4  4000705539529  882817.0       -8.783            -8.753            -9.122   \n",
       "\n",
       "   ssfr_med_1  sfr_best_1  sfr_med_max68_1  sfr_med_min68_1  sfr_med_1  ...  \\\n",
       "0      -8.712       0.508            0.835            0.477      0.655  ...   \n",
       "1      -9.990       0.536            0.486            0.335      0.411  ...   \n",
       "2     -10.300      -0.058           -0.032           -0.168     -0.100  ...   \n",
       "3      -9.398       0.132            0.179            0.034      0.107  ...   \n",
       "4      -8.868       1.319            1.346            1.025      1.232  ...   \n",
       "\n",
       "   flag_shallow_2   l_r_2   l_k_2  l_nu_2    dist_2          RA       Dec  \\\n",
       "0             1.0  27.260  27.124  27.074  9.361438  150.679664  2.196615   \n",
       "1             1.0  27.868  27.811  27.848  7.778731  150.673546  2.226438   \n",
       "2             1.0  29.620  29.874  28.661  2.627196  150.667975  2.242945   \n",
       "3             1.0  29.232  29.068  29.135  2.241379  150.645125  2.237650   \n",
       "4             0.0  28.572  28.466  28.323  3.301196  149.686626  2.637161   \n",
       "\n",
       "   int_prediction                                         references  \\\n",
       "0        0.970096                            ['2007ApJS..172...99C']   \n",
       "1        0.961160                            ['2007ApJS..172...99C']   \n",
       "2        0.995066  ['2007ApJS..172...99C', '2007ApJS..172...99C',...   \n",
       "3        0.985773  ['2007ApJS..172...99C', '2007ApJS..172...99C',...   \n",
       "4        0.992917     ['2009ApJS..184..218L', '2007ApJS..172...99C']   \n",
       "\n",
       "       status  \n",
       "0  Referenced  \n",
       "1  Referenced  \n",
       "2  Referenced  \n",
       "3  Referenced  \n",
       "4  Referenced  \n",
       "\n",
       "[5 rows x 50 columns]"
      ]
     },
     "execution_count": 4,
     "metadata": {},
     "output_type": "execute_result"
    }
   ],
   "source": [
    "my_cosmo_cat.head()"
   ]
  },
  {
   "cell_type": "markdown",
   "id": "36fa996f-437f-4836-9b32-aa7d4bbdfac8",
   "metadata": {},
   "source": [
    "### Downloading all Data"
   ]
  },
  {
   "cell_type": "code",
   "execution_count": 5,
   "id": "4bb243ed-1a0a-4898-af5b-f630ec23d3eb",
   "metadata": {},
   "outputs": [],
   "source": [
    "limits_cosmos = [150.11916667 - 2, 150.11916667 + 2, 2.20583333 - 2, 2.20583333 + 2.20583333]"
   ]
  },
  {
   "cell_type": "markdown",
   "id": "af99db18-8c72-479c-80f3-8daf83677013",
   "metadata": {},
   "source": [
    "I get everything from the Catalogue! The columns I want are:\n",
    "\n",
    "    1. id - Running Object Number\n",
    "    2. SSFR_BEST - The Best Fit log Specific SFR Using BC03 Templates. Taken at the minimum Chi Squared\n",
    "    3. SSFR_MED_MAX68 - Upper limit on the 68% Confidence Interval\n",
    "    4. SSFR_MED_MIN68 - Lower limit on the 68% confidence interval.\n",
    "    5. SSFR_MED - log sSFR from BC03 best-fit template. median of the PDF\n",
    "    6. SFR_BEST - log SFR from BC03 best-fit template. Taken at the minimum chi2\n",
    "    7. SFR_MED_MAX68 -  upper limit, 68% confidence level\n",
    "    8. SFR_MED_MIN68 -  lower limit, 68% confidence level\n",
    "    9. SFR_MED -  log sSFR from BC03 best-fit template. median of the PDF\n",
    "    10. MASS_BEST - \t log Stellar mass from BC03 best-fit template\n",
    "    11. MASS_MED_MAX68 - \t upper limit, 68% confidence level\n",
    "    12. MASS_MED_MIN68 -  lower limit, 68% confidence level\n",
    "    13. MASS_MED - log Stellar mass from BC03 best-fit template. median of the PDF\n",
    "    14. AGE -  BC03 age\n",
    "    15. TYPE - \t Type: 0 = galaxy, 1 = star, 2 = X-ray source\n",
    "    16. ZPDF - \t photo-z measured using the galaxy templates\n",
    "    17. FLAG_DEEP - 1: Ultra-deep stripes, 0: deep stripes\n",
    "    18. FLAG_SHALLOW - Shallow Flag\n",
    "    19. l_r - \t log(dust corr lum in erg/s/Hz) in r filter\n",
    "    20. l_k - \t log(dust corr lum in erg/s/Hz) in NUV filter\n",
    "    21. l_nu -  log(dust corr lum in erg/s/Hz) in NUV filter\n",
    "    22. dist - I have assumed this is the seperation from my coordinates to the catalogue ones."
   ]
  },
  {
   "cell_type": "code",
   "execution_count": 6,
   "id": "8a3798cc-2773-400b-82d4-14193ee229ba",
   "metadata": {},
   "outputs": [],
   "source": [
    "def convert_results(table, empty_dict):\n",
    "    \n",
    "    red_table = table.query('type == 0.0')\n",
    "    \n",
    "    ## Initialise dictionary\n",
    "    export_dict = empty_dict.copy()\n",
    "    \n",
    "    sort_tab = red_table.sort_values('dist', ascending = True)\n",
    "    \n",
    "    prim_series = sort_tab.iloc[0]\n",
    "    \n",
    "    ## Add all values\n",
    "    for i in (prim_series.keys()):\n",
    "        export_dict[f'{i}_1'] = prim_series[f'{i}']\n",
    "    \n",
    "    target_z = prim_series.photoz\n",
    "    prim_id = prim_series.id\n",
    "    \n",
    "    sec_df = red_table.query('id != @prim_id')\n",
    "    \n",
    "    if len(sec_df) == 0:\n",
    "        return export_dict\n",
    "    \n",
    "    sec_df_z = (\n",
    "        sec_df\n",
    "        .assign(abs_z_diff = sec_df.apply(lambda row: abs(row.photoz - target_z), axis = 1))\n",
    "    )\n",
    "    \n",
    "    sec_df_sort = sec_df_z.sort_values('abs_z_diff', ascending = True).drop(columns = ['abs_z_diff'])\n",
    "    sec_series = sec_df_sort.iloc[0]\n",
    "    \n",
    "    ## Assign values for secondary.\n",
    "    for i in (sec_series.keys()):\n",
    "        export_dict[f'{i}_2'] = sec_series[f'{i}']\n",
    "    \n",
    "    return export_dict"
   ]
  },
  {
   "cell_type": "code",
   "execution_count": 11,
   "id": "7bcf76fd-08ad-40c0-b2c0-b4bb560792ad",
   "metadata": {},
   "outputs": [],
   "source": [
    "def get_table(ra, dec, reg_limits, empty_dict):\n",
    "    \n",
    "    if ra < limits_cosmos[0] or ra > limits_cosmos[1] or dec < limits_cosmos[2] or dec > limits_cosmos[3]:\n",
    "        return 'outwith_cosmos'\n",
    "    \n",
    "    coord = SkyCoord(ra = ra * u.deg, dec = dec * u.deg)\n",
    "    for attempt in range(5):\n",
    "        try:\n",
    "            table = Irsa.query_region(coord, catalog = 'cosmos2015', radius = 10 * u.arcsec)\n",
    "            break\n",
    "        except:\n",
    "            time.sleep(5)      \n",
    "        \n",
    "    if attempt == 4:\n",
    "        return 'Failed'\n",
    "            \n",
    "    if len(table) == 0:\n",
    "        return 'null'\n",
    "    \n",
    "    \n",
    "    \n",
    "    table_df = table.to_pandas()\n",
    "    \n",
    "    table_dict = convert_results(table_df, empty_dict)\n",
    "    \n",
    "    time.sleep(0.01)\n",
    "    \n",
    "    clear_output(wait = True)\n",
    "    \n",
    "    return table_dict"
   ]
  },
  {
   "cell_type": "code",
   "execution_count": 8,
   "id": "cf73a1de-0eed-4830-9583-586846b1f258",
   "metadata": {},
   "outputs": [],
   "source": [
    "init_dict = {}\n",
    "coord = SkyCoord(ra = my_cosmo_cat.RA.iloc[0] * u.deg, dec = my_cosmo_cat.Dec.iloc[0] * u.deg)\n",
    "table = Irsa.query_region(coord, catalog = 'cosmos2015', radius = 10 * u.arcsec)\n",
    "table_df = table.to_pandas()\n",
    "\n",
    "for i in range(2):\n",
    "    for j in list(table_df.columns):\n",
    "        init_dict[f'{j}_{i+1}'] = None"
   ]
  },
  {
   "cell_type": "code",
   "execution_count": 9,
   "id": "27f3320d-14fa-4d39-8cab-25f18de7d964",
   "metadata": {},
   "outputs": [],
   "source": [
    "dict_red = my_cosmo_cat[['SourceID', 'RA', 'Dec']].set_index('SourceID').to_dict(orient='index')"
   ]
  },
  {
   "cell_type": "code",
   "execution_count": 12,
   "id": "5626e5c8-91ef-4b08-8e0a-202c62ad35d8",
   "metadata": {},
   "outputs": [
    {
     "name": "stderr",
     "output_type": "stream",
     "text": [
      "\n",
      "100%|██████████| 2919/2919 [4:23:06<00:00,  5.41s/it]\u001b[A\n"
     ]
    }
   ],
   "source": [
    "dict_results = {key : get_table(dict_red[key]['RA'], dict_red[key]['Dec'], limits_cosmos, init_dict) for key in tqdm(list(dict_red.keys()))}"
   ]
  },
  {
   "cell_type": "code",
   "execution_count": 15,
   "id": "d87be8f8-6f57-49e3-8170-84a69e919a42",
   "metadata": {},
   "outputs": [
    {
     "name": "stderr",
     "output_type": "stream",
     "text": [
      " 12%|█▏        | 344/2919 [4:51:00<36:18:17, 50.76s/it]\n"
     ]
    }
   ],
   "source": [
    "df_in_cosmos = pd.DataFrame.from_dict(dict_results, orient = 'index').rename(columns = {0 : 'dict_results'})"
   ]
  },
  {
   "cell_type": "code",
   "execution_count": 20,
   "id": "067a1020-d38f-48be-a850-ccdaaa0e633c",
   "metadata": {},
   "outputs": [],
   "source": [
    "df_in_cosmos.reset_index().rename(columns = {'index' : 'SourceID'}).to_csv('C:/Users/oryan/Documents/mergers-in-cosmos/data/cosmos-matched-all-df.csv')"
   ]
  },
  {
   "cell_type": "code",
   "execution_count": 16,
   "id": "36bdc83c-06e9-47f8-8233-cf77d984651e",
   "metadata": {},
   "outputs": [
    {
     "ename": "KeyError",
     "evalue": "'dict_results'",
     "output_type": "error",
     "traceback": [
      "\u001b[1;31m---------------------------------------------------------------------------\u001b[0m",
      "\u001b[1;31mKeyError\u001b[0m                                  Traceback (most recent call last)",
      "\u001b[1;32m~\\AppData\\Local\\Temp\\ipykernel_11756\\1669828744.py\u001b[0m in \u001b[0;36m<module>\u001b[1;34m\u001b[0m\n\u001b[1;32m----> 1\u001b[1;33m \u001b[0mdict_cosmos\u001b[0m \u001b[1;33m=\u001b[0m \u001b[0mdf_in_cosmos\u001b[0m\u001b[1;33m.\u001b[0m\u001b[0mto_dict\u001b[0m\u001b[1;33m(\u001b[0m\u001b[1;33m)\u001b[0m\u001b[1;33m[\u001b[0m\u001b[1;34m'dict_results'\u001b[0m\u001b[1;33m]\u001b[0m\u001b[1;33m\u001b[0m\u001b[1;33m\u001b[0m\u001b[0m\n\u001b[0m",
      "\u001b[1;31mKeyError\u001b[0m: 'dict_results'"
     ]
    }
   ],
   "source": [
    "dict_cosmos = df_in_cosmos.to_dict()"
   ]
  },
  {
   "cell_type": "code",
   "execution_count": null,
   "id": "caf2c53f-757f-4fc0-88b0-9b4807b46ba8",
   "metadata": {},
   "outputs": [],
   "source": [
    "exp_df = pd.DataFrame.from_dict(dict_cosmos, orient = 'index').reset_index().rename(columns = {'index' : 'SourceID'}).dropna()"
   ]
  },
  {
   "cell_type": "code",
   "execution_count": null,
   "id": "ee09bed3-83d7-4b2e-b199-ebb12fef03d9",
   "metadata": {},
   "outputs": [],
   "source": [
    "exp_df.columns"
   ]
  },
  {
   "cell_type": "code",
   "execution_count": null,
   "id": "f72f55bc-d8e1-4f4e-b737-a259b1a14fab",
   "metadata": {},
   "outputs": [],
   "source": [
    "exp_df[['SourceID', 'photoz_1', 'photoz_2']]"
   ]
  },
  {
   "cell_type": "code",
   "execution_count": 101,
   "id": "61e267da-ec73-4b33-a887-5fd64575e90c",
   "metadata": {},
   "outputs": [],
   "source": [
    "full_df = exp_df.merge(df, on = 'SourceID', how = 'left')"
   ]
  },
  {
   "cell_type": "code",
   "execution_count": 102,
   "id": "1ac017a2-9409-4f0b-96e2-b82f4524265e",
   "metadata": {},
   "outputs": [],
   "source": [
    "full_df_dedup = full_df.drop_duplicates('id_1', keep = 'first')"
   ]
  },
  {
   "cell_type": "code",
   "execution_count": 105,
   "id": "6f070c68-3510-492d-9655-d1b442006c2b",
   "metadata": {},
   "outputs": [],
   "source": [
    "full_df_dedup.to_csv('C:/Users/oryan/Documents/mergers-in-cosmos/data/cosmos-matched-all-df.csv')"
   ]
  }
 ],
 "metadata": {
  "kernelspec": {
   "display_name": "Python 3 (ipykernel)",
   "language": "python",
   "name": "python3"
  },
  "language_info": {
   "codemirror_mode": {
    "name": "ipython",
    "version": 3
   },
   "file_extension": ".py",
   "mimetype": "text/x-python",
   "name": "python",
   "nbconvert_exporter": "python",
   "pygments_lexer": "ipython3",
   "version": "3.7.13"
  }
 },
 "nbformat": 4,
 "nbformat_minor": 5
}
