{
 "cells": [
  {
   "cell_type": "code",
   "execution_count": 1,
   "id": "b0c19668-ef9d-499e-944f-c914272f0e98",
   "metadata": {},
   "outputs": [],
   "source": [
    "import pandas as pd"
   ]
  },
  {
   "cell_type": "code",
   "execution_count": 8,
   "id": "ac34cc56-837a-4074-ae2c-891dbf2ef4eb",
   "metadata": {},
   "outputs": [],
   "source": [
    "stu_data_folder = 'C:/Users/oryan/Documents/esac-project/followup-data'"
   ]
  },
  {
   "cell_type": "code",
   "execution_count": 3,
   "id": "48d582f1-fecc-4b63-a5c2-6bba8ae585e5",
   "metadata": {},
   "outputs": [],
   "source": [
    "data_folder = 'C:/Users/oryan/Documents/esac-project/data'"
   ]
  },
  {
   "cell_type": "code",
   "execution_count": 5,
   "id": "67825462-95f8-41f2-ad45-9c681294ac1b",
   "metadata": {},
   "outputs": [],
   "source": [
    "categ_data = pd.read_csv(f'{data_folder}/categorised_sources.csv', index_col = 0)"
   ]
  },
  {
   "cell_type": "code",
   "execution_count": 10,
   "id": "ea167dd4-36fe-4833-af87-288b5ea3691b",
   "metadata": {},
   "outputs": [],
   "source": [
    "match_data = pd.read_csv(f'{stu_data_folder}/group_cosmos_with_main_cosmos_matches.csv', index_col = 0)"
   ]
  },
  {
   "cell_type": "code",
   "execution_count": 18,
   "id": "408257eb-8b9d-4aa8-84a1-bcc851e6971e",
   "metadata": {},
   "outputs": [],
   "source": [
    "cos_data = (\n",
    "    match_data\n",
    "    .drop(columns = ['isStageOne','isStageTwo','isStageThree','isStageFour'])\n",
    ")"
   ]
  },
  {
   "cell_type": "code",
   "execution_count": 22,
   "id": "e7c7644c-e183-49fa-ad0d-71cffcb73136",
   "metadata": {},
   "outputs": [],
   "source": [
    "red_data = categ_data[['SourceID','category']]"
   ]
  },
  {
   "cell_type": "code",
   "execution_count": 28,
   "id": "a33f25d9-e5f9-4926-b3f0-03443861413a",
   "metadata": {},
   "outputs": [],
   "source": [
    "df_merg = red_data.merge(cos_data, on = 'SourceID', how = 'left').dropna()"
   ]
  },
  {
   "cell_type": "code",
   "execution_count": 34,
   "id": "8f8952f4-3841-465d-a17a-987a42fab97b",
   "metadata": {},
   "outputs": [],
   "source": [
    "df_merg.to_csv(f'{data_folder}/cat-matched-to-cosmos.csv')"
   ]
  },
  {
   "cell_type": "code",
   "execution_count": null,
   "id": "1aa19e59-8745-41c9-8cc0-f7a80d1aaa54",
   "metadata": {},
   "outputs": [],
   "source": []
  }
 ],
 "metadata": {
  "kernelspec": {
   "display_name": "Python 3 (ipykernel)",
   "language": "python",
   "name": "python3"
  },
  "language_info": {
   "codemirror_mode": {
    "name": "ipython",
    "version": 3
   },
   "file_extension": ".py",
   "mimetype": "text/x-python",
   "name": "python",
   "nbconvert_exporter": "python",
   "pygments_lexer": "ipython3",
   "version": "3.7.13"
  }
 },
 "nbformat": 4,
 "nbformat_minor": 5
}
