{
 "cells": [
  {
   "cell_type": "code",
   "execution_count": 69,
   "id": "2a6df6a5-1483-4f5e-a02b-a7a3eebb0cd4",
   "metadata": {},
   "outputs": [],
   "source": [
    "import pandas as pd\n",
    "import numpy as np\n",
    "import matplotlib.pyplot as plt\n",
    "\n",
    "from tqdm import tqdm\n",
    "tqdm.pandas()\n",
    "\n",
    "from astropy.coordinates import SkyCoord\n",
    "from astropy.io import fits\n",
    "from astropy.table import Table\n",
    "import astropy.units as u\n",
    "\n",
    "import scipy.stats.distributions as dist"
   ]
  },
  {
   "cell_type": "code",
   "execution_count": 2,
   "id": "50ae1fc1-1779-4490-9a3f-3cc32c1e28c0",
   "metadata": {},
   "outputs": [],
   "source": [
    "combine_fold = 'C:/Users/oryan/Documents/mergers-in-cosmos/cats-to-combine'\n",
    "data_folder = 'C:/Users/oryan/Documents/mergers-in-cosmos/back-to-basics-data'\n",
    "fig_folder = 'C:/Users/oryan/Documents/mergers-in-cosmos/paper-source/figures'\n",
    "cos_dat_fold = 'E:/cosmos-data'"
   ]
  },
  {
   "cell_type": "code",
   "execution_count": 3,
   "id": "f8009867-9955-4e58-9fb3-e7d43f4b9db9",
   "metadata": {},
   "outputs": [
    {
     "name": "stderr",
     "output_type": "stream",
     "text": [
      "C:\\Users\\oryan\\AppData\\Local\\Continuum\\anaconda3\\lib\\site-packages\\IPython\\core\\interactiveshell.py:3457: DtypeWarning: Columns (2) have mixed types.Specify dtype option on import or set low_memory=False.\n",
      "  exec(code_obj, self.user_global_ns, self.user_ns)\n"
     ]
    }
   ],
   "source": [
    "df_or_cat = pd.read_csv(f'{combine_fold}/dor-all-restaged-full-rem-seps-z.csv', index_col = 0)"
   ]
  },
  {
   "cell_type": "code",
   "execution_count": 4,
   "id": "2d007316-3d08-4d42-887f-2aef3c48bbeb",
   "metadata": {},
   "outputs": [
    {
     "data": {
      "text/html": [
       "<div>\n",
       "<style scoped>\n",
       "    .dataframe tbody tr th:only-of-type {\n",
       "        vertical-align: middle;\n",
       "    }\n",
       "\n",
       "    .dataframe tbody tr th {\n",
       "        vertical-align: top;\n",
       "    }\n",
       "\n",
       "    .dataframe thead th {\n",
       "        text-align: right;\n",
       "    }\n",
       "</style>\n",
       "<table border=\"1\" class=\"dataframe\">\n",
       "  <thead>\n",
       "    <tr style=\"text-align: right;\">\n",
       "      <th></th>\n",
       "      <th>ID</th>\n",
       "      <th>ORyanID_23</th>\n",
       "      <th>category</th>\n",
       "      <th>ALPHA_J2000</th>\n",
       "      <th>DELTA_J2000</th>\n",
       "      <th>X_IMAGE</th>\n",
       "      <th>Y_IMAGE</th>\n",
       "      <th>ERRX2_IMAGE</th>\n",
       "      <th>ERRY2_IMAGE</th>\n",
       "      <th>ERRXY_IMAGE</th>\n",
       "      <th>...</th>\n",
       "      <th>ez_ssfr_p025</th>\n",
       "      <th>ez_ssfr_p160</th>\n",
       "      <th>ez_ssfr_p500</th>\n",
       "      <th>ez_ssfr_p840</th>\n",
       "      <th>ez_ssfr_p975</th>\n",
       "      <th>ez_Av_p025</th>\n",
       "      <th>ez_Av_p160</th>\n",
       "      <th>ez_Av_p500</th>\n",
       "      <th>ez_Av_p840</th>\n",
       "      <th>ez_Av_p975</th>\n",
       "    </tr>\n",
       "  </thead>\n",
       "  <tbody>\n",
       "    <tr>\n",
       "      <th>0</th>\n",
       "      <td>816891</td>\n",
       "      <td>4000705532455</td>\n",
       "      <td>stage4</td>\n",
       "      <td>150.679846</td>\n",
       "      <td>2.196543</td>\n",
       "      <td>9200.399414</td>\n",
       "      <td>21737.232422</td>\n",
       "      <td>0.000052</td>\n",
       "      <td>0.000059</td>\n",
       "      <td>-1.043282e-05</td>\n",
       "      <td>...</td>\n",
       "      <td>-8.931825</td>\n",
       "      <td>-8.911355</td>\n",
       "      <td>-8.899668</td>\n",
       "      <td>-8.883307</td>\n",
       "      <td>-8.872990</td>\n",
       "      <td>0.529107</td>\n",
       "      <td>0.560142</td>\n",
       "      <td>0.599624</td>\n",
       "      <td>0.630920</td>\n",
       "      <td>0.652330</td>\n",
       "    </tr>\n",
       "    <tr>\n",
       "      <th>1</th>\n",
       "      <td>860686</td>\n",
       "      <td>4000705533383</td>\n",
       "      <td>stage3</td>\n",
       "      <td>150.644522</td>\n",
       "      <td>2.237226</td>\n",
       "      <td>10047.978516</td>\n",
       "      <td>22713.351562</td>\n",
       "      <td>0.000051</td>\n",
       "      <td>0.000046</td>\n",
       "      <td>1.571297e-06</td>\n",
       "      <td>...</td>\n",
       "      <td>-9.314209</td>\n",
       "      <td>-9.106611</td>\n",
       "      <td>-8.941274</td>\n",
       "      <td>-8.713107</td>\n",
       "      <td>-8.541205</td>\n",
       "      <td>0.341270</td>\n",
       "      <td>0.545498</td>\n",
       "      <td>0.732327</td>\n",
       "      <td>0.906665</td>\n",
       "      <td>1.020098</td>\n",
       "    </tr>\n",
       "    <tr>\n",
       "      <th>2</th>\n",
       "      <td>1301188</td>\n",
       "      <td>4000705539941</td>\n",
       "      <td>stage2</td>\n",
       "      <td>149.702462</td>\n",
       "      <td>2.654895</td>\n",
       "      <td>32637.949219</td>\n",
       "      <td>32737.013672</td>\n",
       "      <td>0.000064</td>\n",
       "      <td>0.000104</td>\n",
       "      <td>-2.881107e-06</td>\n",
       "      <td>...</td>\n",
       "      <td>-9.794128</td>\n",
       "      <td>-9.784252</td>\n",
       "      <td>-9.766013</td>\n",
       "      <td>-9.743796</td>\n",
       "      <td>-9.727879</td>\n",
       "      <td>0.018737</td>\n",
       "      <td>0.018737</td>\n",
       "      <td>0.018737</td>\n",
       "      <td>0.018737</td>\n",
       "      <td>0.018737</td>\n",
       "    </tr>\n",
       "    <tr>\n",
       "      <th>3</th>\n",
       "      <td>1304538</td>\n",
       "      <td>4000705540034</td>\n",
       "      <td>stage3</td>\n",
       "      <td>149.726828</td>\n",
       "      <td>2.658172</td>\n",
       "      <td>32053.712891</td>\n",
       "      <td>32815.468750</td>\n",
       "      <td>0.000071</td>\n",
       "      <td>0.000086</td>\n",
       "      <td>-6.036952e-06</td>\n",
       "      <td>...</td>\n",
       "      <td>-9.480532</td>\n",
       "      <td>-9.443615</td>\n",
       "      <td>-9.402433</td>\n",
       "      <td>-9.352081</td>\n",
       "      <td>-9.325659</td>\n",
       "      <td>0.302629</td>\n",
       "      <td>0.376027</td>\n",
       "      <td>0.440394</td>\n",
       "      <td>0.508153</td>\n",
       "      <td>0.567727</td>\n",
       "    </tr>\n",
       "    <tr>\n",
       "      <th>4</th>\n",
       "      <td>1310001</td>\n",
       "      <td>4000705540064</td>\n",
       "      <td>stage3</td>\n",
       "      <td>149.701230</td>\n",
       "      <td>2.660343</td>\n",
       "      <td>32667.441406</td>\n",
       "      <td>32867.789062</td>\n",
       "      <td>0.000026</td>\n",
       "      <td>0.000020</td>\n",
       "      <td>-1.023530e-05</td>\n",
       "      <td>...</td>\n",
       "      <td>-9.882174</td>\n",
       "      <td>-9.855921</td>\n",
       "      <td>-9.816085</td>\n",
       "      <td>-9.697225</td>\n",
       "      <td>-9.573506</td>\n",
       "      <td>0.455258</td>\n",
       "      <td>0.482555</td>\n",
       "      <td>0.522239</td>\n",
       "      <td>0.600383</td>\n",
       "      <td>0.660279</td>\n",
       "    </tr>\n",
       "    <tr>\n",
       "      <th>...</th>\n",
       "      <td>...</td>\n",
       "      <td>...</td>\n",
       "      <td>...</td>\n",
       "      <td>...</td>\n",
       "      <td>...</td>\n",
       "      <td>...</td>\n",
       "      <td>...</td>\n",
       "      <td>...</td>\n",
       "      <td>...</td>\n",
       "      <td>...</td>\n",
       "      <td>...</td>\n",
       "      <td>...</td>\n",
       "      <td>...</td>\n",
       "      <td>...</td>\n",
       "      <td>...</td>\n",
       "      <td>...</td>\n",
       "      <td>...</td>\n",
       "      <td>...</td>\n",
       "      <td>...</td>\n",
       "      <td>...</td>\n",
       "      <td>...</td>\n",
       "    </tr>\n",
       "    <tr>\n",
       "      <th>3927</th>\n",
       "      <td>1520733</td>\n",
       "      <td>4001204758614_extra</td>\n",
       "      <td>stage4</td>\n",
       "      <td>149.891374</td>\n",
       "      <td>2.866981</td>\n",
       "      <td>28107.876953</td>\n",
       "      <td>37826.437500</td>\n",
       "      <td>0.000086</td>\n",
       "      <td>0.000104</td>\n",
       "      <td>-9.313976e-07</td>\n",
       "      <td>...</td>\n",
       "      <td>-9.441206</td>\n",
       "      <td>-9.279022</td>\n",
       "      <td>-9.095134</td>\n",
       "      <td>-9.003501</td>\n",
       "      <td>-8.955496</td>\n",
       "      <td>0.120441</td>\n",
       "      <td>0.213251</td>\n",
       "      <td>0.306832</td>\n",
       "      <td>0.556012</td>\n",
       "      <td>0.731876</td>\n",
       "    </tr>\n",
       "    <tr>\n",
       "      <th>3928</th>\n",
       "      <td>1520749</td>\n",
       "      <td>4546055995_extra</td>\n",
       "      <td>stage2</td>\n",
       "      <td>150.383110</td>\n",
       "      <td>2.865367</td>\n",
       "      <td>16320.103516</td>\n",
       "      <td>37787.917969</td>\n",
       "      <td>0.000131</td>\n",
       "      <td>0.000236</td>\n",
       "      <td>7.123858e-05</td>\n",
       "      <td>...</td>\n",
       "      <td>-9.857880</td>\n",
       "      <td>-9.658215</td>\n",
       "      <td>-9.485625</td>\n",
       "      <td>-9.235816</td>\n",
       "      <td>-8.971795</td>\n",
       "      <td>0.162147</td>\n",
       "      <td>0.238640</td>\n",
       "      <td>0.432004</td>\n",
       "      <td>0.592193</td>\n",
       "      <td>0.687256</td>\n",
       "    </tr>\n",
       "    <tr>\n",
       "      <th>3929</th>\n",
       "      <td>1523385</td>\n",
       "      <td>4000927318133_extra</td>\n",
       "      <td>stage3</td>\n",
       "      <td>149.789910</td>\n",
       "      <td>2.865132</td>\n",
       "      <td>30540.179688</td>\n",
       "      <td>37782.648438</td>\n",
       "      <td>0.000045</td>\n",
       "      <td>0.000059</td>\n",
       "      <td>1.600747e-05</td>\n",
       "      <td>...</td>\n",
       "      <td>-9.525900</td>\n",
       "      <td>-9.472779</td>\n",
       "      <td>-9.353454</td>\n",
       "      <td>-9.273221</td>\n",
       "      <td>-9.213521</td>\n",
       "      <td>0.262676</td>\n",
       "      <td>0.355466</td>\n",
       "      <td>0.410356</td>\n",
       "      <td>0.489105</td>\n",
       "      <td>0.566003</td>\n",
       "    </tr>\n",
       "    <tr>\n",
       "      <th>3930</th>\n",
       "      <td>1524909</td>\n",
       "      <td>4000747939904_extra</td>\n",
       "      <td>stage3</td>\n",
       "      <td>150.450581</td>\n",
       "      <td>2.872371</td>\n",
       "      <td>14702.710938</td>\n",
       "      <td>37956.468750</td>\n",
       "      <td>0.000248</td>\n",
       "      <td>0.000292</td>\n",
       "      <td>7.378556e-06</td>\n",
       "      <td>...</td>\n",
       "      <td>-9.556987</td>\n",
       "      <td>-9.385500</td>\n",
       "      <td>-9.154130</td>\n",
       "      <td>-9.026810</td>\n",
       "      <td>-8.938077</td>\n",
       "      <td>0.153294</td>\n",
       "      <td>0.283249</td>\n",
       "      <td>0.436332</td>\n",
       "      <td>0.600615</td>\n",
       "      <td>0.693621</td>\n",
       "    </tr>\n",
       "    <tr>\n",
       "      <th>3931</th>\n",
       "      <td>1529226</td>\n",
       "      <td>4001239405815_extra</td>\n",
       "      <td>stage4</td>\n",
       "      <td>150.372099</td>\n",
       "      <td>2.872333</td>\n",
       "      <td>16584.076172</td>\n",
       "      <td>37955.070312</td>\n",
       "      <td>0.000018</td>\n",
       "      <td>0.000019</td>\n",
       "      <td>5.020723e-06</td>\n",
       "      <td>...</td>\n",
       "      <td>-10.793317</td>\n",
       "      <td>-10.749337</td>\n",
       "      <td>-10.671772</td>\n",
       "      <td>-10.571155</td>\n",
       "      <td>-10.450612</td>\n",
       "      <td>0.541194</td>\n",
       "      <td>0.584935</td>\n",
       "      <td>0.723596</td>\n",
       "      <td>0.791648</td>\n",
       "      <td>0.920438</td>\n",
       "    </tr>\n",
       "  </tbody>\n",
       "</table>\n",
       "<p>3932 rows × 756 columns</p>\n",
       "</div>"
      ],
      "text/plain": [
       "           ID           ORyanID_23 category  ALPHA_J2000  DELTA_J2000  \\\n",
       "0      816891        4000705532455   stage4   150.679846     2.196543   \n",
       "1      860686        4000705533383   stage3   150.644522     2.237226   \n",
       "2     1301188        4000705539941   stage2   149.702462     2.654895   \n",
       "3     1304538        4000705540034   stage3   149.726828     2.658172   \n",
       "4     1310001        4000705540064   stage3   149.701230     2.660343   \n",
       "...       ...                  ...      ...          ...          ...   \n",
       "3927  1520733  4001204758614_extra   stage4   149.891374     2.866981   \n",
       "3928  1520749     4546055995_extra   stage2   150.383110     2.865367   \n",
       "3929  1523385  4000927318133_extra   stage3   149.789910     2.865132   \n",
       "3930  1524909  4000747939904_extra   stage3   150.450581     2.872371   \n",
       "3931  1529226  4001239405815_extra   stage4   150.372099     2.872333   \n",
       "\n",
       "           X_IMAGE       Y_IMAGE  ERRX2_IMAGE  ERRY2_IMAGE   ERRXY_IMAGE  ...  \\\n",
       "0      9200.399414  21737.232422     0.000052     0.000059 -1.043282e-05  ...   \n",
       "1     10047.978516  22713.351562     0.000051     0.000046  1.571297e-06  ...   \n",
       "2     32637.949219  32737.013672     0.000064     0.000104 -2.881107e-06  ...   \n",
       "3     32053.712891  32815.468750     0.000071     0.000086 -6.036952e-06  ...   \n",
       "4     32667.441406  32867.789062     0.000026     0.000020 -1.023530e-05  ...   \n",
       "...            ...           ...          ...          ...           ...  ...   \n",
       "3927  28107.876953  37826.437500     0.000086     0.000104 -9.313976e-07  ...   \n",
       "3928  16320.103516  37787.917969     0.000131     0.000236  7.123858e-05  ...   \n",
       "3929  30540.179688  37782.648438     0.000045     0.000059  1.600747e-05  ...   \n",
       "3930  14702.710938  37956.468750     0.000248     0.000292  7.378556e-06  ...   \n",
       "3931  16584.076172  37955.070312     0.000018     0.000019  5.020723e-06  ...   \n",
       "\n",
       "      ez_ssfr_p025  ez_ssfr_p160  ez_ssfr_p500  ez_ssfr_p840  ez_ssfr_p975  \\\n",
       "0        -8.931825     -8.911355     -8.899668     -8.883307     -8.872990   \n",
       "1        -9.314209     -9.106611     -8.941274     -8.713107     -8.541205   \n",
       "2        -9.794128     -9.784252     -9.766013     -9.743796     -9.727879   \n",
       "3        -9.480532     -9.443615     -9.402433     -9.352081     -9.325659   \n",
       "4        -9.882174     -9.855921     -9.816085     -9.697225     -9.573506   \n",
       "...            ...           ...           ...           ...           ...   \n",
       "3927     -9.441206     -9.279022     -9.095134     -9.003501     -8.955496   \n",
       "3928     -9.857880     -9.658215     -9.485625     -9.235816     -8.971795   \n",
       "3929     -9.525900     -9.472779     -9.353454     -9.273221     -9.213521   \n",
       "3930     -9.556987     -9.385500     -9.154130     -9.026810     -8.938077   \n",
       "3931    -10.793317    -10.749337    -10.671772    -10.571155    -10.450612   \n",
       "\n",
       "      ez_Av_p025  ez_Av_p160  ez_Av_p500  ez_Av_p840  ez_Av_p975  \n",
       "0       0.529107    0.560142    0.599624    0.630920    0.652330  \n",
       "1       0.341270    0.545498    0.732327    0.906665    1.020098  \n",
       "2       0.018737    0.018737    0.018737    0.018737    0.018737  \n",
       "3       0.302629    0.376027    0.440394    0.508153    0.567727  \n",
       "4       0.455258    0.482555    0.522239    0.600383    0.660279  \n",
       "...          ...         ...         ...         ...         ...  \n",
       "3927    0.120441    0.213251    0.306832    0.556012    0.731876  \n",
       "3928    0.162147    0.238640    0.432004    0.592193    0.687256  \n",
       "3929    0.262676    0.355466    0.410356    0.489105    0.566003  \n",
       "3930    0.153294    0.283249    0.436332    0.600615    0.693621  \n",
       "3931    0.541194    0.584935    0.723596    0.791648    0.920438  \n",
       "\n",
       "[3932 rows x 756 columns]"
      ]
     },
     "execution_count": 4,
     "metadata": {},
     "output_type": "execute_result"
    }
   ],
   "source": [
    "df_or_cat"
   ]
  },
  {
   "cell_type": "code",
   "execution_count": 5,
   "id": "ab0afa54-eca4-4f4a-8f3a-e5381eb56d07",
   "metadata": {},
   "outputs": [],
   "source": [
    "df_or_noextra = (\n",
    "    df_or_cat\n",
    "    .assign(extra = df_or_cat.ORyanID_23.apply(lambda x: True if type(x) == str and 'extra' in str(x) else False))\n",
    "    .query('extra == False')\n",
    ")"
   ]
  },
  {
   "cell_type": "code",
   "execution_count": 6,
   "id": "c07d11e4-140b-4aab-a51f-9e09f5bca996",
   "metadata": {},
   "outputs": [
    {
     "data": {
      "text/plain": [
       "stage3    1437\n",
       "stage2     972\n",
       "stage1     801\n",
       "stage4     722\n",
       "Name: category, dtype: int64"
      ]
     },
     "execution_count": 6,
     "metadata": {},
     "output_type": "execute_result"
    }
   ],
   "source": [
    "df_or_cat.category.value_counts()"
   ]
  },
  {
   "cell_type": "code",
   "execution_count": 7,
   "id": "0d2bdb55-3110-415b-9a9f-452777aed528",
   "metadata": {},
   "outputs": [
    {
     "data": {
      "text/plain": [
       "stage3    1206\n",
       "stage2     865\n",
       "stage4     586\n",
       "stage1     461\n",
       "Name: category, dtype: int64"
      ]
     },
     "execution_count": 7,
     "metadata": {},
     "output_type": "execute_result"
    }
   ],
   "source": [
    "df_or_noextra.category.value_counts()"
   ]
  },
  {
   "cell_type": "code",
   "execution_count": 8,
   "id": "07a68651-b12a-4598-8fef-a40a83831d22",
   "metadata": {},
   "outputs": [],
   "source": [
    "with fits.open(f'{cos_dat_fold}/VLA_3GHz_counterpart_array_20170210_paper_smolcic_et_al.fits') as hdul:\n",
    "    smol_rec = hdul[1].data"
   ]
  },
  {
   "cell_type": "code",
   "execution_count": 9,
   "id": "4ad63d5a-40db-4c36-aee1-187037fcc67d",
   "metadata": {},
   "outputs": [],
   "source": [
    "def getting_smol_info(id_str, smol_rec):\n",
    "    \n",
    "    row = smol_rec[(smol_rec['ID_VLA'] == id_str)]\n",
    "    if len(row) > 0:        \n",
    "        if row['SFG'] == 'true':\n",
    "            return 'SFG'\n",
    "        else:\n",
    "            return 'AGN'\n",
    "    else:\n",
    "        return np.nan"
   ]
  },
  {
   "cell_type": "code",
   "execution_count": 10,
   "id": "7a52b5c7-e32f-41d6-9332-343034a0b831",
   "metadata": {},
   "outputs": [],
   "source": [
    "# Function that selects the closest object in the MPA_JHU as the galaxy of interest.\n",
    "def get_correct_smolcic_id(ra, dec, tab):\n",
    "    cosmos_coord = SkyCoord(ra = ra * u.deg, dec = dec * u.deg, frame = 'fk5')\n",
    "    \n",
    "    mpa_coords = SkyCoord(ra = tab['RA_VLA_J2000'] * u.deg, dec = tab['DEC_VLA_J2000'] * u.deg, frame = 'fk5')\n",
    "    \n",
    "    seps = list(abs((cosmos_coord.separation(mpa_coords)).to(u.arcsec) / u.arcsec))\n",
    "    \n",
    "    min_ind = seps.index(min(seps))\n",
    "    \n",
    "    return {'smol_ID' : int(tab['ID_VLA'][min_ind]), 'RA' : tab[min_ind]['RA_VLA_J2000'], 'Dec' : tab[min_ind]['DEC_VLA_J2000']}"
   ]
  },
  {
   "cell_type": "code",
   "execution_count": 11,
   "id": "0513a112-110f-4065-81e6-a8c1005f4084",
   "metadata": {},
   "outputs": [],
   "source": [
    "def matching_smolcic_ids(ra, dec, smol_rec):\n",
    "    arcsec_sep_deg = 1 / (60 * 60)\n",
    "    \n",
    "    matching_tab = smol_rec[(smol_rec['RA_VLA_J2000'] > ra - arcsec_sep_deg) & (smol_rec['RA_VLA_J2000'] < ra + arcsec_sep_deg) & (smol_rec['DEC_VLA_J2000'] > dec - arcsec_sep_deg) & (smol_rec['DEC_VLA_J2000'] < dec + arcsec_sep_deg)]\n",
    "    if len(matching_tab) < 0.5:\n",
    "        return {'smol_ID' : np.nan, 'RA' : np.nan, 'Dec' : np.nan}\n",
    "    elif len(matching_tab) == 1:\n",
    "        return {'smol_ID' : int(matching_tab['ID_VLA'][0]), 'RA' : matching_tab['RA_VLA_J2000'][0], 'Dec' : matching_tab['DEC_VLA_J2000'][0]}\n",
    "    elif len(matching_tab) > 1:\n",
    "        return get_correct_smolcic_id(ra, dec, matching_tab)\n",
    "    else:\n",
    "        print('Somethings gone very wrong!!')\n",
    "        sys.exit()"
   ]
  },
  {
   "cell_type": "code",
   "execution_count": 12,
   "id": "ad26002b-3401-4697-8586-091738417894",
   "metadata": {},
   "outputs": [],
   "source": [
    "coords_dict = (\n",
    "    df_or_noextra[['ID', 'ALPHA_J2000', 'DELTA_J2000']]\n",
    "    .rename(columns = {'ALPHA_J2000' : 'RA', 'DELTA_J2000' : 'DEC'})\n",
    "    .set_index('ID').to_dict(orient = 'index')\n",
    ")"
   ]
  },
  {
   "cell_type": "code",
   "execution_count": 13,
   "id": "4e02fedc-e0f3-4a20-928a-2e1f79b92271",
   "metadata": {},
   "outputs": [],
   "source": [
    "smolcic_matched_dict = {}"
   ]
  },
  {
   "cell_type": "code",
   "execution_count": 14,
   "id": "0cbbf9c7-0c5e-427b-af34-bde7f6d50876",
   "metadata": {},
   "outputs": [
    {
     "name": "stderr",
     "output_type": "stream",
     "text": [
      "100%|██████████| 3118/3118 [00:17<00:00, 173.88it/s]\n"
     ]
    }
   ],
   "source": [
    "done_ids = list(smolcic_matched_dict.keys())\n",
    "for i in tqdm(list(coords_dict.keys())):\n",
    "    if i in done_ids:\n",
    "        continue\n",
    "    \n",
    "    smolcic_matched_dict[i] = matching_smolcic_ids(coords_dict[i]['RA'], coords_dict[i]['DEC'], smol_rec)"
   ]
  },
  {
   "cell_type": "code",
   "execution_count": 15,
   "id": "9d17ba1f-b593-4304-869d-079d366d08ce",
   "metadata": {},
   "outputs": [],
   "source": [
    "smolcic_df = pd.DataFrame.from_dict(smolcic_matched_dict, orient = 'index').dropna().reset_index().rename(columns = {'index' : 'ID'})"
   ]
  },
  {
   "cell_type": "code",
   "execution_count": 16,
   "id": "b3d633db-62c9-44bd-9c0e-160fbc58658b",
   "metadata": {},
   "outputs": [],
   "source": [
    "smolcic_df_clsfs = smolcic_df.assign(gal_clsf = smolcic_df.smol_ID.apply(lambda x: getting_smol_info(x, smol_rec))).drop_duplicates('smol_ID', keep = 'first')"
   ]
  },
  {
   "cell_type": "code",
   "execution_count": 17,
   "id": "48732349-5c5f-4e7a-bacf-d14c2ee69acf",
   "metadata": {},
   "outputs": [
    {
     "data": {
      "text/plain": [
       "SFG    269\n",
       "AGN     82\n",
       "Name: gal_clsf, dtype: int64"
      ]
     },
     "execution_count": 17,
     "metadata": {},
     "output_type": "execute_result"
    }
   ],
   "source": [
    "smolcic_df_clsfs.gal_clsf.value_counts()"
   ]
  },
  {
   "cell_type": "code",
   "execution_count": 18,
   "id": "42e83a1c-019d-4fb6-9f18-610d21c2fc17",
   "metadata": {},
   "outputs": [
    {
     "data": {
      "text/plain": [
       "SFG    269\n",
       "AGN     82\n",
       "Name: gal_clsf, dtype: int64"
      ]
     },
     "execution_count": 18,
     "metadata": {},
     "output_type": "execute_result"
    }
   ],
   "source": [
    "smolcic_df_clsfs.drop_duplicates('smol_ID', keep = 'first').gal_clsf.value_counts()"
   ]
  },
  {
   "cell_type": "code",
   "execution_count": 19,
   "id": "eeeb49ad-211e-4b4e-bc8f-63a8db10d3f3",
   "metadata": {},
   "outputs": [],
   "source": [
    "smolcic_no_red = smolcic_df_clsfs[['ID', 'gal_clsf']]"
   ]
  },
  {
   "cell_type": "code",
   "execution_count": 20,
   "id": "fd42636e-67cc-48c4-a726-cd33ea3e7af5",
   "metadata": {},
   "outputs": [],
   "source": [
    "df_no_merged = (\n",
    "    smolcic_no_red\n",
    "    .merge(df_or_cat, on = 'ID', how = 'left')\n",
    ")"
   ]
  },
  {
   "cell_type": "code",
   "execution_count": 21,
   "id": "89804f9f-4480-413d-a3a6-9452f53a0cb0",
   "metadata": {},
   "outputs": [
    {
     "data": {
      "text/html": [
       "<div>\n",
       "<style scoped>\n",
       "    .dataframe tbody tr th:only-of-type {\n",
       "        vertical-align: middle;\n",
       "    }\n",
       "\n",
       "    .dataframe tbody tr th {\n",
       "        vertical-align: top;\n",
       "    }\n",
       "\n",
       "    .dataframe thead th {\n",
       "        text-align: right;\n",
       "    }\n",
       "</style>\n",
       "<table border=\"1\" class=\"dataframe\">\n",
       "  <thead>\n",
       "    <tr style=\"text-align: right;\">\n",
       "      <th></th>\n",
       "      <th>ID</th>\n",
       "      <th>gal_clsf</th>\n",
       "      <th>ORyanID_23</th>\n",
       "      <th>category</th>\n",
       "      <th>ALPHA_J2000</th>\n",
       "      <th>DELTA_J2000</th>\n",
       "      <th>X_IMAGE</th>\n",
       "      <th>Y_IMAGE</th>\n",
       "      <th>ERRX2_IMAGE</th>\n",
       "      <th>ERRY2_IMAGE</th>\n",
       "      <th>...</th>\n",
       "      <th>ez_ssfr_p025</th>\n",
       "      <th>ez_ssfr_p160</th>\n",
       "      <th>ez_ssfr_p500</th>\n",
       "      <th>ez_ssfr_p840</th>\n",
       "      <th>ez_ssfr_p975</th>\n",
       "      <th>ez_Av_p025</th>\n",
       "      <th>ez_Av_p160</th>\n",
       "      <th>ez_Av_p500</th>\n",
       "      <th>ez_Av_p840</th>\n",
       "      <th>ez_Av_p975</th>\n",
       "    </tr>\n",
       "  </thead>\n",
       "  <tbody>\n",
       "    <tr>\n",
       "      <th>0</th>\n",
       "      <td>844303</td>\n",
       "      <td>AGN</td>\n",
       "      <td>4000706649921</td>\n",
       "      <td>stage3</td>\n",
       "      <td>150.059115</td>\n",
       "      <td>2.219933</td>\n",
       "      <td>24087.431641</td>\n",
       "      <td>22296.068359</td>\n",
       "      <td>1.760487e-05</td>\n",
       "      <td>2.045168e-05</td>\n",
       "      <td>...</td>\n",
       "      <td>-9.125792</td>\n",
       "      <td>-8.891618</td>\n",
       "      <td>-8.577000</td>\n",
       "      <td>-8.342815</td>\n",
       "      <td>-8.276746</td>\n",
       "      <td>1.678882</td>\n",
       "      <td>1.798450</td>\n",
       "      <td>1.974514</td>\n",
       "      <td>2.120620</td>\n",
       "      <td>2.250814</td>\n",
       "    </tr>\n",
       "    <tr>\n",
       "      <th>1</th>\n",
       "      <td>230625</td>\n",
       "      <td>AGN</td>\n",
       "      <td>4000707047113</td>\n",
       "      <td>stage3</td>\n",
       "      <td>150.231845</td>\n",
       "      <td>1.627975</td>\n",
       "      <td>19943.902344</td>\n",
       "      <td>8088.662109</td>\n",
       "      <td>3.233492e-05</td>\n",
       "      <td>1.895889e-05</td>\n",
       "      <td>...</td>\n",
       "      <td>-10.733325</td>\n",
       "      <td>-10.606746</td>\n",
       "      <td>-10.378867</td>\n",
       "      <td>-9.887330</td>\n",
       "      <td>-9.657894</td>\n",
       "      <td>0.822825</td>\n",
       "      <td>0.878771</td>\n",
       "      <td>0.955453</td>\n",
       "      <td>1.114303</td>\n",
       "      <td>1.234099</td>\n",
       "    </tr>\n",
       "    <tr>\n",
       "      <th>2</th>\n",
       "      <td>250320</td>\n",
       "      <td>SFG</td>\n",
       "      <td>4000707049267</td>\n",
       "      <td>stage3</td>\n",
       "      <td>150.233391</td>\n",
       "      <td>1.651848</td>\n",
       "      <td>19906.861328</td>\n",
       "      <td>8661.684570</td>\n",
       "      <td>2.008575e-05</td>\n",
       "      <td>1.584788e-05</td>\n",
       "      <td>...</td>\n",
       "      <td>-9.879090</td>\n",
       "      <td>-9.509571</td>\n",
       "      <td>-9.250247</td>\n",
       "      <td>-9.072077</td>\n",
       "      <td>-8.900543</td>\n",
       "      <td>0.665933</td>\n",
       "      <td>0.893426</td>\n",
       "      <td>1.101838</td>\n",
       "      <td>1.288189</td>\n",
       "      <td>1.583752</td>\n",
       "    </tr>\n",
       "    <tr>\n",
       "      <th>3</th>\n",
       "      <td>509282</td>\n",
       "      <td>SFG</td>\n",
       "      <td>4000716471288</td>\n",
       "      <td>stage4</td>\n",
       "      <td>149.887117</td>\n",
       "      <td>1.908720</td>\n",
       "      <td>28213.458984</td>\n",
       "      <td>14827.238281</td>\n",
       "      <td>1.731534e-04</td>\n",
       "      <td>7.874386e-05</td>\n",
       "      <td>...</td>\n",
       "      <td>-10.428830</td>\n",
       "      <td>-10.298646</td>\n",
       "      <td>-10.107775</td>\n",
       "      <td>-9.738449</td>\n",
       "      <td>-9.533908</td>\n",
       "      <td>0.669421</td>\n",
       "      <td>0.823108</td>\n",
       "      <td>1.062129</td>\n",
       "      <td>1.202793</td>\n",
       "      <td>1.291477</td>\n",
       "    </tr>\n",
       "    <tr>\n",
       "      <th>4</th>\n",
       "      <td>541991</td>\n",
       "      <td>SFG</td>\n",
       "      <td>4000716472139</td>\n",
       "      <td>stage3</td>\n",
       "      <td>149.927294</td>\n",
       "      <td>1.938299</td>\n",
       "      <td>27249.621094</td>\n",
       "      <td>15537.033203</td>\n",
       "      <td>3.872015e-05</td>\n",
       "      <td>4.327236e-05</td>\n",
       "      <td>...</td>\n",
       "      <td>-10.323037</td>\n",
       "      <td>-10.240524</td>\n",
       "      <td>-10.102973</td>\n",
       "      <td>-9.976230</td>\n",
       "      <td>-9.923860</td>\n",
       "      <td>0.866347</td>\n",
       "      <td>0.953774</td>\n",
       "      <td>1.027753</td>\n",
       "      <td>1.128404</td>\n",
       "      <td>1.209716</td>\n",
       "    </tr>\n",
       "    <tr>\n",
       "      <th>...</th>\n",
       "      <td>...</td>\n",
       "      <td>...</td>\n",
       "      <td>...</td>\n",
       "      <td>...</td>\n",
       "      <td>...</td>\n",
       "      <td>...</td>\n",
       "      <td>...</td>\n",
       "      <td>...</td>\n",
       "      <td>...</td>\n",
       "      <td>...</td>\n",
       "      <td>...</td>\n",
       "      <td>...</td>\n",
       "      <td>...</td>\n",
       "      <td>...</td>\n",
       "      <td>...</td>\n",
       "      <td>...</td>\n",
       "      <td>...</td>\n",
       "      <td>...</td>\n",
       "      <td>...</td>\n",
       "      <td>...</td>\n",
       "      <td>...</td>\n",
       "    </tr>\n",
       "    <tr>\n",
       "      <th>346</th>\n",
       "      <td>358919</td>\n",
       "      <td>SFG</td>\n",
       "      <td>6000511588261</td>\n",
       "      <td>stage3</td>\n",
       "      <td>150.248838</td>\n",
       "      <td>1.761441</td>\n",
       "      <td>19536.511719</td>\n",
       "      <td>11292.128906</td>\n",
       "      <td>3.388341e-05</td>\n",
       "      <td>2.419436e-05</td>\n",
       "      <td>...</td>\n",
       "      <td>-11.498836</td>\n",
       "      <td>-11.376282</td>\n",
       "      <td>-10.996401</td>\n",
       "      <td>-10.658434</td>\n",
       "      <td>-10.470866</td>\n",
       "      <td>1.027574</td>\n",
       "      <td>1.097931</td>\n",
       "      <td>1.131383</td>\n",
       "      <td>1.161948</td>\n",
       "      <td>1.181445</td>\n",
       "    </tr>\n",
       "    <tr>\n",
       "      <th>347</th>\n",
       "      <td>302055</td>\n",
       "      <td>SFG</td>\n",
       "      <td>6000529676819</td>\n",
       "      <td>stage2</td>\n",
       "      <td>149.672809</td>\n",
       "      <td>1.705123</td>\n",
       "      <td>33355.699219</td>\n",
       "      <td>9941.517578</td>\n",
       "      <td>1.032136e-05</td>\n",
       "      <td>6.374337e-06</td>\n",
       "      <td>...</td>\n",
       "      <td>-9.744911</td>\n",
       "      <td>-9.587836</td>\n",
       "      <td>-9.398809</td>\n",
       "      <td>-9.239985</td>\n",
       "      <td>-9.098722</td>\n",
       "      <td>0.681651</td>\n",
       "      <td>0.707942</td>\n",
       "      <td>0.767624</td>\n",
       "      <td>0.817824</td>\n",
       "      <td>0.880134</td>\n",
       "    </tr>\n",
       "    <tr>\n",
       "      <th>348</th>\n",
       "      <td>715824</td>\n",
       "      <td>SFG</td>\n",
       "      <td>6000534883051</td>\n",
       "      <td>stage1</td>\n",
       "      <td>150.224457</td>\n",
       "      <td>2.104780</td>\n",
       "      <td>20121.996094</td>\n",
       "      <td>19532.460938</td>\n",
       "      <td>7.730274e-06</td>\n",
       "      <td>8.491398e-06</td>\n",
       "      <td>...</td>\n",
       "      <td>-10.033968</td>\n",
       "      <td>-9.957228</td>\n",
       "      <td>-9.893579</td>\n",
       "      <td>-9.849008</td>\n",
       "      <td>-9.814916</td>\n",
       "      <td>0.876113</td>\n",
       "      <td>0.905105</td>\n",
       "      <td>0.998252</td>\n",
       "      <td>1.082617</td>\n",
       "      <td>1.142795</td>\n",
       "    </tr>\n",
       "    <tr>\n",
       "      <th>349</th>\n",
       "      <td>1016112</td>\n",
       "      <td>AGN</td>\n",
       "      <td>6000535008523</td>\n",
       "      <td>stage2</td>\n",
       "      <td>150.027738</td>\n",
       "      <td>2.373879</td>\n",
       "      <td>24839.683594</td>\n",
       "      <td>25990.814453</td>\n",
       "      <td>2.894171e-07</td>\n",
       "      <td>5.559183e-07</td>\n",
       "      <td>...</td>\n",
       "      <td>-13.550710</td>\n",
       "      <td>-13.550710</td>\n",
       "      <td>-13.540160</td>\n",
       "      <td>-13.528674</td>\n",
       "      <td>-13.520179</td>\n",
       "      <td>0.348619</td>\n",
       "      <td>0.376110</td>\n",
       "      <td>0.456763</td>\n",
       "      <td>0.527628</td>\n",
       "      <td>0.582440</td>\n",
       "    </tr>\n",
       "    <tr>\n",
       "      <th>350</th>\n",
       "      <td>588501</td>\n",
       "      <td>SFG</td>\n",
       "      <td>6000518662663</td>\n",
       "      <td>stage2</td>\n",
       "      <td>150.421150</td>\n",
       "      <td>1.985098</td>\n",
       "      <td>15403.874023</td>\n",
       "      <td>16660.652344</td>\n",
       "      <td>9.962566e-08</td>\n",
       "      <td>2.546812e-07</td>\n",
       "      <td>...</td>\n",
       "      <td>-10.107174</td>\n",
       "      <td>-9.930705</td>\n",
       "      <td>-9.738979</td>\n",
       "      <td>-9.509589</td>\n",
       "      <td>-9.270629</td>\n",
       "      <td>0.980156</td>\n",
       "      <td>1.049309</td>\n",
       "      <td>1.179160</td>\n",
       "      <td>1.383147</td>\n",
       "      <td>1.605140</td>\n",
       "    </tr>\n",
       "  </tbody>\n",
       "</table>\n",
       "<p>351 rows × 757 columns</p>\n",
       "</div>"
      ],
      "text/plain": [
       "          ID gal_clsf     ORyanID_23 category  ALPHA_J2000  DELTA_J2000  \\\n",
       "0     844303      AGN  4000706649921   stage3   150.059115     2.219933   \n",
       "1     230625      AGN  4000707047113   stage3   150.231845     1.627975   \n",
       "2     250320      SFG  4000707049267   stage3   150.233391     1.651848   \n",
       "3     509282      SFG  4000716471288   stage4   149.887117     1.908720   \n",
       "4     541991      SFG  4000716472139   stage3   149.927294     1.938299   \n",
       "..       ...      ...            ...      ...          ...          ...   \n",
       "346   358919      SFG  6000511588261   stage3   150.248838     1.761441   \n",
       "347   302055      SFG  6000529676819   stage2   149.672809     1.705123   \n",
       "348   715824      SFG  6000534883051   stage1   150.224457     2.104780   \n",
       "349  1016112      AGN  6000535008523   stage2   150.027738     2.373879   \n",
       "350   588501      SFG  6000518662663   stage2   150.421150     1.985098   \n",
       "\n",
       "          X_IMAGE       Y_IMAGE   ERRX2_IMAGE   ERRY2_IMAGE  ...  \\\n",
       "0    24087.431641  22296.068359  1.760487e-05  2.045168e-05  ...   \n",
       "1    19943.902344   8088.662109  3.233492e-05  1.895889e-05  ...   \n",
       "2    19906.861328   8661.684570  2.008575e-05  1.584788e-05  ...   \n",
       "3    28213.458984  14827.238281  1.731534e-04  7.874386e-05  ...   \n",
       "4    27249.621094  15537.033203  3.872015e-05  4.327236e-05  ...   \n",
       "..            ...           ...           ...           ...  ...   \n",
       "346  19536.511719  11292.128906  3.388341e-05  2.419436e-05  ...   \n",
       "347  33355.699219   9941.517578  1.032136e-05  6.374337e-06  ...   \n",
       "348  20121.996094  19532.460938  7.730274e-06  8.491398e-06  ...   \n",
       "349  24839.683594  25990.814453  2.894171e-07  5.559183e-07  ...   \n",
       "350  15403.874023  16660.652344  9.962566e-08  2.546812e-07  ...   \n",
       "\n",
       "     ez_ssfr_p025  ez_ssfr_p160  ez_ssfr_p500  ez_ssfr_p840  ez_ssfr_p975  \\\n",
       "0       -9.125792     -8.891618     -8.577000     -8.342815     -8.276746   \n",
       "1      -10.733325    -10.606746    -10.378867     -9.887330     -9.657894   \n",
       "2       -9.879090     -9.509571     -9.250247     -9.072077     -8.900543   \n",
       "3      -10.428830    -10.298646    -10.107775     -9.738449     -9.533908   \n",
       "4      -10.323037    -10.240524    -10.102973     -9.976230     -9.923860   \n",
       "..            ...           ...           ...           ...           ...   \n",
       "346    -11.498836    -11.376282    -10.996401    -10.658434    -10.470866   \n",
       "347     -9.744911     -9.587836     -9.398809     -9.239985     -9.098722   \n",
       "348    -10.033968     -9.957228     -9.893579     -9.849008     -9.814916   \n",
       "349    -13.550710    -13.550710    -13.540160    -13.528674    -13.520179   \n",
       "350    -10.107174     -9.930705     -9.738979     -9.509589     -9.270629   \n",
       "\n",
       "     ez_Av_p025  ez_Av_p160  ez_Av_p500  ez_Av_p840  ez_Av_p975  \n",
       "0      1.678882    1.798450    1.974514    2.120620    2.250814  \n",
       "1      0.822825    0.878771    0.955453    1.114303    1.234099  \n",
       "2      0.665933    0.893426    1.101838    1.288189    1.583752  \n",
       "3      0.669421    0.823108    1.062129    1.202793    1.291477  \n",
       "4      0.866347    0.953774    1.027753    1.128404    1.209716  \n",
       "..          ...         ...         ...         ...         ...  \n",
       "346    1.027574    1.097931    1.131383    1.161948    1.181445  \n",
       "347    0.681651    0.707942    0.767624    0.817824    0.880134  \n",
       "348    0.876113    0.905105    0.998252    1.082617    1.142795  \n",
       "349    0.348619    0.376110    0.456763    0.527628    0.582440  \n",
       "350    0.980156    1.049309    1.179160    1.383147    1.605140  \n",
       "\n",
       "[351 rows x 757 columns]"
      ]
     },
     "execution_count": 21,
     "metadata": {},
     "output_type": "execute_result"
    }
   ],
   "source": [
    "df_no_merged"
   ]
  },
  {
   "cell_type": "code",
   "execution_count": 22,
   "id": "3a982e99-f9b3-4006-9579-4470e9489b5e",
   "metadata": {},
   "outputs": [],
   "source": [
    "df_no_red = df_no_merged[['ORyanID_23', 'ID', 'category', 'ID_COSMOS2015', 'gal_clsf']]"
   ]
  },
  {
   "cell_type": "code",
   "execution_count": 23,
   "id": "340a4b02-e66d-43ec-a13b-c341e59dfd68",
   "metadata": {},
   "outputs": [
    {
     "data": {
      "text/html": [
       "<div>\n",
       "<style scoped>\n",
       "    .dataframe tbody tr th:only-of-type {\n",
       "        vertical-align: middle;\n",
       "    }\n",
       "\n",
       "    .dataframe tbody tr th {\n",
       "        vertical-align: top;\n",
       "    }\n",
       "\n",
       "    .dataframe thead th {\n",
       "        text-align: right;\n",
       "    }\n",
       "</style>\n",
       "<table border=\"1\" class=\"dataframe\">\n",
       "  <thead>\n",
       "    <tr style=\"text-align: right;\">\n",
       "      <th></th>\n",
       "      <th>ORyanID_23</th>\n",
       "      <th>ID</th>\n",
       "      <th>category</th>\n",
       "      <th>ID_COSMOS2015</th>\n",
       "      <th>gal_clsf</th>\n",
       "    </tr>\n",
       "  </thead>\n",
       "  <tbody>\n",
       "    <tr>\n",
       "      <th>0</th>\n",
       "      <td>4000706649921</td>\n",
       "      <td>844303</td>\n",
       "      <td>stage3</td>\n",
       "      <td>607340</td>\n",
       "      <td>AGN</td>\n",
       "    </tr>\n",
       "    <tr>\n",
       "      <th>1</th>\n",
       "      <td>4000707047113</td>\n",
       "      <td>230625</td>\n",
       "      <td>stage3</td>\n",
       "      <td>230785</td>\n",
       "      <td>AGN</td>\n",
       "    </tr>\n",
       "    <tr>\n",
       "      <th>2</th>\n",
       "      <td>4000707049267</td>\n",
       "      <td>250320</td>\n",
       "      <td>stage3</td>\n",
       "      <td>244910</td>\n",
       "      <td>SFG</td>\n",
       "    </tr>\n",
       "    <tr>\n",
       "      <th>3</th>\n",
       "      <td>4000716471288</td>\n",
       "      <td>509282</td>\n",
       "      <td>stage4</td>\n",
       "      <td>405672</td>\n",
       "      <td>SFG</td>\n",
       "    </tr>\n",
       "    <tr>\n",
       "      <th>4</th>\n",
       "      <td>4000716472139</td>\n",
       "      <td>541991</td>\n",
       "      <td>stage3</td>\n",
       "      <td>425594</td>\n",
       "      <td>SFG</td>\n",
       "    </tr>\n",
       "    <tr>\n",
       "      <th>...</th>\n",
       "      <td>...</td>\n",
       "      <td>...</td>\n",
       "      <td>...</td>\n",
       "      <td>...</td>\n",
       "      <td>...</td>\n",
       "    </tr>\n",
       "    <tr>\n",
       "      <th>346</th>\n",
       "      <td>6000511588261</td>\n",
       "      <td>358919</td>\n",
       "      <td>stage3</td>\n",
       "      <td>312597</td>\n",
       "      <td>SFG</td>\n",
       "    </tr>\n",
       "    <tr>\n",
       "      <th>347</th>\n",
       "      <td>6000529676819</td>\n",
       "      <td>302055</td>\n",
       "      <td>stage2</td>\n",
       "      <td>278056</td>\n",
       "      <td>SFG</td>\n",
       "    </tr>\n",
       "    <tr>\n",
       "      <th>348</th>\n",
       "      <td>6000534883051</td>\n",
       "      <td>715824</td>\n",
       "      <td>stage1</td>\n",
       "      <td>529514</td>\n",
       "      <td>SFG</td>\n",
       "    </tr>\n",
       "    <tr>\n",
       "      <th>349</th>\n",
       "      <td>6000535008523</td>\n",
       "      <td>1016112</td>\n",
       "      <td>stage2</td>\n",
       "      <td>707132</td>\n",
       "      <td>AGN</td>\n",
       "    </tr>\n",
       "    <tr>\n",
       "      <th>350</th>\n",
       "      <td>6000518662663</td>\n",
       "      <td>588501</td>\n",
       "      <td>stage2</td>\n",
       "      <td>-99</td>\n",
       "      <td>SFG</td>\n",
       "    </tr>\n",
       "  </tbody>\n",
       "</table>\n",
       "<p>351 rows × 5 columns</p>\n",
       "</div>"
      ],
      "text/plain": [
       "        ORyanID_23       ID category  ID_COSMOS2015 gal_clsf\n",
       "0    4000706649921   844303   stage3         607340      AGN\n",
       "1    4000707047113   230625   stage3         230785      AGN\n",
       "2    4000707049267   250320   stage3         244910      SFG\n",
       "3    4000716471288   509282   stage4         405672      SFG\n",
       "4    4000716472139   541991   stage3         425594      SFG\n",
       "..             ...      ...      ...            ...      ...\n",
       "346  6000511588261   358919   stage3         312597      SFG\n",
       "347  6000529676819   302055   stage2         278056      SFG\n",
       "348  6000534883051   715824   stage1         529514      SFG\n",
       "349  6000535008523  1016112   stage2         707132      AGN\n",
       "350  6000518662663   588501   stage2            -99      SFG\n",
       "\n",
       "[351 rows x 5 columns]"
      ]
     },
     "execution_count": 23,
     "metadata": {},
     "output_type": "execute_result"
    }
   ],
   "source": [
    "df_no_red"
   ]
  },
  {
   "cell_type": "code",
   "execution_count": 24,
   "id": "ba0e2b48-ea7a-428f-b522-6d8469942ba8",
   "metadata": {},
   "outputs": [
    {
     "data": {
      "text/html": [
       "<div>\n",
       "<style scoped>\n",
       "    .dataframe tbody tr th:only-of-type {\n",
       "        vertical-align: middle;\n",
       "    }\n",
       "\n",
       "    .dataframe tbody tr th {\n",
       "        vertical-align: top;\n",
       "    }\n",
       "\n",
       "    .dataframe thead th {\n",
       "        text-align: right;\n",
       "    }\n",
       "</style>\n",
       "<table border=\"1\" class=\"dataframe\">\n",
       "  <thead>\n",
       "    <tr style=\"text-align: right;\">\n",
       "      <th></th>\n",
       "      <th>ORyanID_23</th>\n",
       "      <th>ID</th>\n",
       "      <th>category</th>\n",
       "      <th>ID_COSMOS2015</th>\n",
       "      <th>gal_clsf</th>\n",
       "    </tr>\n",
       "  </thead>\n",
       "  <tbody>\n",
       "    <tr>\n",
       "      <th>0</th>\n",
       "      <td>4000706649921</td>\n",
       "      <td>844303</td>\n",
       "      <td>stage3</td>\n",
       "      <td>607340</td>\n",
       "      <td>AGN</td>\n",
       "    </tr>\n",
       "    <tr>\n",
       "      <th>1</th>\n",
       "      <td>4000707047113</td>\n",
       "      <td>230625</td>\n",
       "      <td>stage3</td>\n",
       "      <td>230785</td>\n",
       "      <td>AGN</td>\n",
       "    </tr>\n",
       "    <tr>\n",
       "      <th>2</th>\n",
       "      <td>4000707049267</td>\n",
       "      <td>250320</td>\n",
       "      <td>stage3</td>\n",
       "      <td>244910</td>\n",
       "      <td>SFG</td>\n",
       "    </tr>\n",
       "    <tr>\n",
       "      <th>3</th>\n",
       "      <td>4000716471288</td>\n",
       "      <td>509282</td>\n",
       "      <td>stage4</td>\n",
       "      <td>405672</td>\n",
       "      <td>SFG</td>\n",
       "    </tr>\n",
       "    <tr>\n",
       "      <th>4</th>\n",
       "      <td>4000716472139</td>\n",
       "      <td>541991</td>\n",
       "      <td>stage3</td>\n",
       "      <td>425594</td>\n",
       "      <td>SFG</td>\n",
       "    </tr>\n",
       "    <tr>\n",
       "      <th>...</th>\n",
       "      <td>...</td>\n",
       "      <td>...</td>\n",
       "      <td>...</td>\n",
       "      <td>...</td>\n",
       "      <td>...</td>\n",
       "    </tr>\n",
       "    <tr>\n",
       "      <th>346</th>\n",
       "      <td>6000511588261</td>\n",
       "      <td>358919</td>\n",
       "      <td>stage3</td>\n",
       "      <td>312597</td>\n",
       "      <td>SFG</td>\n",
       "    </tr>\n",
       "    <tr>\n",
       "      <th>347</th>\n",
       "      <td>6000529676819</td>\n",
       "      <td>302055</td>\n",
       "      <td>stage2</td>\n",
       "      <td>278056</td>\n",
       "      <td>SFG</td>\n",
       "    </tr>\n",
       "    <tr>\n",
       "      <th>348</th>\n",
       "      <td>6000534883051</td>\n",
       "      <td>715824</td>\n",
       "      <td>stage1</td>\n",
       "      <td>529514</td>\n",
       "      <td>SFG</td>\n",
       "    </tr>\n",
       "    <tr>\n",
       "      <th>349</th>\n",
       "      <td>6000535008523</td>\n",
       "      <td>1016112</td>\n",
       "      <td>stage2</td>\n",
       "      <td>707132</td>\n",
       "      <td>AGN</td>\n",
       "    </tr>\n",
       "    <tr>\n",
       "      <th>350</th>\n",
       "      <td>6000518662663</td>\n",
       "      <td>588501</td>\n",
       "      <td>stage2</td>\n",
       "      <td>-99</td>\n",
       "      <td>SFG</td>\n",
       "    </tr>\n",
       "  </tbody>\n",
       "</table>\n",
       "<p>351 rows × 5 columns</p>\n",
       "</div>"
      ],
      "text/plain": [
       "        ORyanID_23       ID category  ID_COSMOS2015 gal_clsf\n",
       "0    4000706649921   844303   stage3         607340      AGN\n",
       "1    4000707047113   230625   stage3         230785      AGN\n",
       "2    4000707049267   250320   stage3         244910      SFG\n",
       "3    4000716471288   509282   stage4         405672      SFG\n",
       "4    4000716472139   541991   stage3         425594      SFG\n",
       "..             ...      ...      ...            ...      ...\n",
       "346  6000511588261   358919   stage3         312597      SFG\n",
       "347  6000529676819   302055   stage2         278056      SFG\n",
       "348  6000534883051   715824   stage1         529514      SFG\n",
       "349  6000535008523  1016112   stage2         707132      AGN\n",
       "350  6000518662663   588501   stage2            -99      SFG\n",
       "\n",
       "[351 rows x 5 columns]"
      ]
     },
     "execution_count": 24,
     "metadata": {},
     "output_type": "execute_result"
    }
   ],
   "source": [
    "df_dna = df_no_red.dropna()\n",
    "df_dna"
   ]
  },
  {
   "cell_type": "code",
   "execution_count": 25,
   "id": "4b94077d-dd9a-4bcd-bb55-9cad8d9ddcf7",
   "metadata": {},
   "outputs": [
    {
     "data": {
      "text/plain": [
       "stage3    143\n",
       "stage2     85\n",
       "stage4     81\n",
       "stage1     42\n",
       "Name: category, dtype: int64"
      ]
     },
     "execution_count": 25,
     "metadata": {},
     "output_type": "execute_result"
    }
   ],
   "source": [
    "df_dna.category.value_counts()"
   ]
  },
  {
   "cell_type": "code",
   "execution_count": 26,
   "id": "746fc9e9-27ed-4bc5-839e-8b90f5fcacce",
   "metadata": {},
   "outputs": [
    {
     "name": "stdout",
     "output_type": "stream",
     "text": [
      "SFG    30\n",
      "AGN    12\n",
      "Name: gal_clsf, dtype: int64\n",
      "\n",
      "SFG    64\n",
      "AGN    21\n",
      "Name: gal_clsf, dtype: int64\n",
      "\n",
      "SFG    112\n",
      "AGN     31\n",
      "Name: gal_clsf, dtype: int64\n",
      "\n",
      "SFG    63\n",
      "AGN    18\n",
      "Name: gal_clsf, dtype: int64\n"
     ]
    }
   ],
   "source": [
    "print(df_dna.query('category == \"stage1\"').gal_clsf.value_counts())\n",
    "print('')\n",
    "print(df_dna.query('category == \"stage2\"').gal_clsf.value_counts())\n",
    "print('')\n",
    "print(df_dna.query('category == \"stage3\"').gal_clsf.value_counts())\n",
    "print('')\n",
    "print(df_dna.query('category == \"stage4\"').gal_clsf.value_counts())"
   ]
  },
  {
   "cell_type": "code",
   "execution_count": 27,
   "id": "30b386ba-e21c-43f4-b987-667a271ac380",
   "metadata": {},
   "outputs": [],
   "source": [
    "stage1_counts = df_dna.query('category == \"stage1\"').gal_clsf.value_counts()\n",
    "stage2_counts = df_dna.query('category == \"stage2\"').gal_clsf.value_counts()\n",
    "stage3_counts = df_dna.query('category == \"stage3\"').gal_clsf.value_counts()\n",
    "stage4_counts = df_dna.query('category == \"stage4\"').gal_clsf.value_counts()"
   ]
  },
  {
   "cell_type": "code",
   "execution_count": 28,
   "id": "495fe8e5-9f22-40d5-80ff-5616df5234c1",
   "metadata": {},
   "outputs": [],
   "source": [
    "stage1_frac = stage1_counts['AGN'] / (stage1_counts['AGN'] + stage1_counts['SFG'])\n",
    "stage2_frac = stage2_counts['AGN'] / (stage2_counts['AGN'] + stage2_counts['SFG'])\n",
    "stage3_frac = stage3_counts['AGN'] / (stage3_counts['AGN'] + stage3_counts['SFG'])\n",
    "stage4_frac = stage4_counts['AGN'] / (stage4_counts['AGN'] + stage4_counts['SFG'])"
   ]
  },
  {
   "cell_type": "code",
   "execution_count": 29,
   "id": "9869362e-e5b6-461e-9a4d-20ff1c5dac50",
   "metadata": {},
   "outputs": [
    {
     "name": "stdout",
     "output_type": "stream",
     "text": [
      "0.2857142857142857\n",
      "0.24705882352941178\n",
      "0.21678321678321677\n",
      "0.2222222222222222\n"
     ]
    }
   ],
   "source": [
    "print(stage1_frac)\n",
    "print(stage2_frac)\n",
    "print(stage3_frac)\n",
    "print(stage4_frac)"
   ]
  },
  {
   "cell_type": "code",
   "execution_count": 30,
   "id": "18d599d8-64e8-47aa-b5d7-2071e3a55cdc",
   "metadata": {},
   "outputs": [],
   "source": [
    "all_stage1_frac = stage1_counts['AGN'] / len(df_or_cat.query('category == \"stage1\"'))\n",
    "all_stage2_frac = stage2_counts['AGN'] / len(df_or_cat.query('category == \"stage2\"'))\n",
    "all_stage3_frac = stage3_counts['AGN'] / len(df_or_cat.query('category == \"stage3\"'))\n",
    "all_stage4_frac = stage4_counts['AGN'] / len(df_or_cat.query('category == \"stage4\"'))"
   ]
  },
  {
   "cell_type": "code",
   "execution_count": 31,
   "id": "265f1207-f41e-4dac-9620-b065c085856a",
   "metadata": {},
   "outputs": [],
   "source": [
    "all_fracts = np.array([\n",
    "    all_stage1_frac,\n",
    "    all_stage2_frac,\n",
    "    all_stage3_frac,\n",
    "    all_stage4_frac\n",
    "])"
   ]
  },
  {
   "cell_type": "code",
   "execution_count": 32,
   "id": "655e7342-5d57-4f40-a8d2-1e4391243927",
   "metadata": {},
   "outputs": [
    {
     "name": "stdout",
     "output_type": "stream",
     "text": [
      "0.0149812734082397\n",
      "0.021604938271604937\n",
      "0.021572720946416143\n",
      "0.024930747922437674\n"
     ]
    }
   ],
   "source": [
    "print(all_stage1_frac)\n",
    "print(all_stage2_frac)\n",
    "print(all_stage3_frac)\n",
    "print(all_stage4_frac)"
   ]
  },
  {
   "cell_type": "code",
   "execution_count": 33,
   "id": "1fbe8012-4c5e-4007-a73f-feb4680fd373",
   "metadata": {},
   "outputs": [],
   "source": [
    "x = ['Separated', 'Pericentre', 'Apocentre','Merging']"
   ]
  },
  {
   "cell_type": "code",
   "execution_count": 34,
   "id": "b9769a5c-4029-4971-a190-94f0a20636a8",
   "metadata": {},
   "outputs": [
    {
     "data": {
      "image/png": "[encoded data removed]",
      "text/plain": [
       "<Figure size 800x800 with 1 Axes>"
      ]
     },
     "metadata": {},
     "output_type": "display_data"
    }
   ],
   "source": [
    "plt.figure(figsize = (8,8))\n",
    "plt.scatter(x, all_fracts / all_fracts[0] , color = 'black', marker = 'x')\n",
    "plt.plot(x, all_fracts / all_fracts[0], color = 'black', linestyle='--')\n",
    "plt.show()"
   ]
  },
  {
   "cell_type": "markdown",
   "id": "102e2ed0-ef41-4bbe-97a7-90ffd08f036d",
   "metadata": {},
   "source": [
    "## Also Using Chandra"
   ]
  },
  {
   "cell_type": "code",
   "execution_count": 35,
   "id": "e9365fc7-7947-42de-9f25-014c28644ba5",
   "metadata": {},
   "outputs": [],
   "source": [
    "with fits.open(f'{cos_dat_fold}/chandra_COSMOS_legacy_opt_NIR_counterparts_20160113_4d.fits') as hdul:\n",
    "    chandra_cat = hdul[1].data"
   ]
  },
  {
   "cell_type": "code",
   "execution_count": 36,
   "id": "7eb25213-bb39-4beb-adc9-ab0d59407a95",
   "metadata": {},
   "outputs": [],
   "source": [
    "# Function that selects the closest object in the MPA_JHU as the galaxy of interest.\n",
    "def get_correct_chandra_id(ra, dec, tab):\n",
    "    cosmos_coord = SkyCoord(ra = ra * u.deg, dec = dec * u.deg, frame = 'fk5')\n",
    "    \n",
    "    chandra_coords = SkyCoord(ra = tab['RA_x'] * u.deg, dec = tab['DEC_x'] * u.deg, frame = 'fk5')\n",
    "    \n",
    "    seps = list(abs((cosmos_coord.separation(chandra_coords)).to(u.arcsec) / u.arcsec))\n",
    "    \n",
    "    min_ind = seps.index(min(seps))\n",
    "    \n",
    "    return {'CHANDRA_ID' : tab[min_ind]['id_x'], 'RA' : tab[min_ind]['RA_x'], 'Dec' : tab[min_ind]['DEC_x']}"
   ]
  },
  {
   "cell_type": "code",
   "execution_count": 37,
   "id": "6b6d6de0-fa85-4595-bd4c-edf66fc98960",
   "metadata": {},
   "outputs": [],
   "source": [
    "def matching_chandra_ids(ra, dec, chandra_cat):\n",
    "    arcsec_sep_deg = 1 / (60 * 60)\n",
    "    \n",
    "    matching_tab = chandra_cat[(chandra_cat['RA_x'] > ra - arcsec_sep_deg) & (chandra_cat['RA_x'] < ra + arcsec_sep_deg) & (chandra_cat['DEC_x'] > dec - arcsec_sep_deg) & (chandra_cat['DEC_x'] < dec + arcsec_sep_deg)]\n",
    "    if len(matching_tab) < 0.5:\n",
    "        return {'CHANDRA_ID' : np.nan, 'RA' : np.nan, 'Dec' : np.nan}\n",
    "    elif len(matching_tab) == 1:\n",
    "        return {'CHANDRA_ID' : matching_tab['id_x'][0], 'RA' : matching_tab['RA_x'][0], 'Dec' : matching_tab['DEC_x'][0]}\n",
    "    elif len(matching_tab) > 1:\n",
    "        print('Multiple Options')\n",
    "        return get_correct_chandra_id(ra, dec, matching_tab)\n",
    "    else:\n",
    "        print('Somethings gone very wrong!!')\n",
    "        sys.exit()"
   ]
  },
  {
   "cell_type": "code",
   "execution_count": 38,
   "id": "c20a8e15-3717-48fd-8548-d284a9123dfb",
   "metadata": {},
   "outputs": [],
   "source": [
    "df_tmp_merge = df_or_noextra[['ID', 'ALPHA_J2000', 'DELTA_J2000']].merge(df_dna, how = 'left', on = 'ID', indicator = True)"
   ]
  },
  {
   "cell_type": "code",
   "execution_count": 39,
   "id": "b5e23ac1-8967-4736-adab-f67b40d92489",
   "metadata": {},
   "outputs": [],
   "source": [
    "coords_dict_chand = (\n",
    "    df_tmp_merge\n",
    "    .query('_merge == \"left_only\"')\n",
    "    [['ID', 'ALPHA_J2000', 'DELTA_J2000']]\n",
    "    .rename(columns = {'ALPHA_J2000' : 'RA', 'DELTA_J2000' : 'DEC'})\n",
    "    .set_index('ID')\n",
    "    .to_dict(orient = 'index')\n",
    ")"
   ]
  },
  {
   "cell_type": "code",
   "execution_count": 40,
   "id": "c8a97e10-828c-47fe-b318-3ca855b32495",
   "metadata": {},
   "outputs": [],
   "source": [
    "chandra_matched_dict = {}"
   ]
  },
  {
   "cell_type": "code",
   "execution_count": 41,
   "id": "80035f51-748c-42b7-8f38-043ff07de503",
   "metadata": {},
   "outputs": [
    {
     "name": "stderr",
     "output_type": "stream",
     "text": [
      "100%|██████████| 2767/2767 [00:33<00:00, 81.77it/s]\n"
     ]
    }
   ],
   "source": [
    "done_ids = list(chandra_matched_dict.keys())\n",
    "for i in tqdm(list(coords_dict_chand.keys())):\n",
    "    if i in done_ids:\n",
    "        continue\n",
    "    \n",
    "    chandra_matched_dict[i] = matching_chandra_ids(coords_dict_chand[i]['RA'], coords_dict_chand[i]['DEC'], chandra_cat)"
   ]
  },
  {
   "cell_type": "code",
   "execution_count": 42,
   "id": "c4c14120-6aaf-4807-a6a5-3230459ef470",
   "metadata": {},
   "outputs": [
    {
     "data": {
      "text/plain": [
       "25"
      ]
     },
     "execution_count": 42,
     "metadata": {},
     "output_type": "execute_result"
    }
   ],
   "source": [
    "chandra_df = pd.DataFrame.from_dict(chandra_matched_dict, orient = 'index').dropna()\n",
    "len(chandra_df)"
   ]
  },
  {
   "cell_type": "code",
   "execution_count": 43,
   "id": "751fe8d2-1927-4c81-a85c-51cc97d9c69b",
   "metadata": {},
   "outputs": [],
   "source": [
    "chandra_ids = chandra_df.reset_index().rename(columns = {'index': 'ID'})"
   ]
  },
  {
   "cell_type": "code",
   "execution_count": 44,
   "id": "45ca0ce8-1d89-4967-a901-dd06890337ef",
   "metadata": {},
   "outputs": [],
   "source": [
    "smol_ids = list(df_dna.ID)"
   ]
  },
  {
   "cell_type": "code",
   "execution_count": 45,
   "id": "21f3b023-23ce-4c1d-adf5-8bc86125495a",
   "metadata": {},
   "outputs": [
    {
     "data": {
      "text/html": [
       "<div>\n",
       "<style scoped>\n",
       "    .dataframe tbody tr th:only-of-type {\n",
       "        vertical-align: middle;\n",
       "    }\n",
       "\n",
       "    .dataframe tbody tr th {\n",
       "        vertical-align: top;\n",
       "    }\n",
       "\n",
       "    .dataframe thead th {\n",
       "        text-align: right;\n",
       "    }\n",
       "</style>\n",
       "<table border=\"1\" class=\"dataframe\">\n",
       "  <thead>\n",
       "    <tr style=\"text-align: right;\">\n",
       "      <th></th>\n",
       "      <th>ID</th>\n",
       "      <th>CHANDRA_ID</th>\n",
       "      <th>RA</th>\n",
       "      <th>Dec</th>\n",
       "      <th>in_smol</th>\n",
       "    </tr>\n",
       "  </thead>\n",
       "  <tbody>\n",
       "  </tbody>\n",
       "</table>\n",
       "</div>"
      ],
      "text/plain": [
       "Empty DataFrame\n",
       "Columns: [ID, CHANDRA_ID, RA, Dec, in_smol]\n",
       "Index: []"
      ]
     },
     "execution_count": 45,
     "metadata": {},
     "output_type": "execute_result"
    }
   ],
   "source": [
    "chandra_ids.assign(in_smol = chandra_ids.ID.apply(lambda x: True if x in smol_ids else False)).query('in_smol')"
   ]
  },
  {
   "cell_type": "code",
   "execution_count": 46,
   "id": "db1e7647-b134-46c2-8381-4754e78689cc",
   "metadata": {},
   "outputs": [],
   "source": [
    "def getting_chandra_info(chandra_id, chandra_cat):\n",
    "    row = chandra_cat[chandra_cat['id_x'] == chandra_id]    \n",
    "    hard_lum = row['Lx_210'][0]\n",
    "    \n",
    "    if hard_lum <= 44:\n",
    "        return 'SFG'\n",
    "    elif hard_lum > 44:\n",
    "        return 'AGN'\n",
    "    else:\n",
    "        return np.nan"
   ]
  },
  {
   "cell_type": "code",
   "execution_count": 47,
   "id": "5cfd923b-9e5b-4f05-b964-332c6de3b8c4",
   "metadata": {},
   "outputs": [],
   "source": [
    "chandra_clsfs = (\n",
    "    chandra_ids\n",
    "    .assign(gal_clsf = chandra_ids.CHANDRA_ID.apply(lambda x: getting_chandra_info(x, chandra_cat)))\n",
    ")"
   ]
  },
  {
   "cell_type": "code",
   "execution_count": 48,
   "id": "d42f0753-088b-4fe7-8b3b-3a541b6808b2",
   "metadata": {},
   "outputs": [
    {
     "data": {
      "text/plain": [
       "SFG    25\n",
       "Name: gal_clsf, dtype: int64"
      ]
     },
     "execution_count": 48,
     "metadata": {},
     "output_type": "execute_result"
    }
   ],
   "source": [
    "chandra_clsfs.gal_clsf.value_counts()"
   ]
  },
  {
   "cell_type": "code",
   "execution_count": 49,
   "id": "30e67fcb-4592-4ad4-87eb-d7c92de92ac2",
   "metadata": {},
   "outputs": [],
   "source": [
    "chandra_or_cat = (\n",
    "    chandra_clsfs\n",
    "    .merge(df_or_cat, on = 'ID', how = 'left')\n",
    "    [['ORyanID_23', 'ID', 'category', 'ID_COSMOS2015', 'gal_clsf']]\n",
    ")"
   ]
  },
  {
   "cell_type": "code",
   "execution_count": 50,
   "id": "472258e8-8b50-4046-ac59-6eb3666c9ee6",
   "metadata": {},
   "outputs": [],
   "source": [
    "df_combined = (\n",
    "    pd.concat([df_dna, chandra_or_cat])\n",
    "    .drop_duplicates('ID_COSMOS2015', keep='last')\n",
    ")"
   ]
  },
  {
   "cell_type": "code",
   "execution_count": 51,
   "id": "5415a2ca-18e4-479a-93cf-fb1d2e55bf81",
   "metadata": {},
   "outputs": [
    {
     "name": "stdout",
     "output_type": "stream",
     "text": [
      "SFG    38\n",
      "AGN    12\n",
      "Name: gal_clsf, dtype: int64\n",
      "\n",
      "SFG    66\n",
      "AGN    21\n",
      "Name: gal_clsf, dtype: int64\n",
      "\n",
      "SFG    124\n",
      "AGN     31\n",
      "Name: gal_clsf, dtype: int64\n",
      "\n",
      "SFG    64\n",
      "AGN    18\n",
      "Name: gal_clsf, dtype: int64\n"
     ]
    }
   ],
   "source": [
    "print(df_combined.query('category == \"stage1\"').gal_clsf.value_counts())\n",
    "print('')\n",
    "print(df_combined.query('category == \"stage2\"').gal_clsf.value_counts())\n",
    "print('')\n",
    "print(df_combined.query('category == \"stage3\"').gal_clsf.value_counts())\n",
    "print('')\n",
    "print(df_combined.query('category == \"stage4\"').gal_clsf.value_counts())"
   ]
  },
  {
   "cell_type": "code",
   "execution_count": 52,
   "id": "f96947b1-8f17-4ab0-bf5a-42be05a9c218",
   "metadata": {},
   "outputs": [],
   "source": [
    "stage1_counts_cha = df_combined.query('category == \"stage1\"').gal_clsf.value_counts()\n",
    "stage2_counts_cha = df_combined.query('category == \"stage2\"').gal_clsf.value_counts()\n",
    "stage3_counts_cha = df_combined.query('category == \"stage3\"').gal_clsf.value_counts()\n",
    "stage4_counts_cha = df_combined.query('category == \"stage4\"').gal_clsf.value_counts()"
   ]
  },
  {
   "cell_type": "code",
   "execution_count": 53,
   "id": "756691a8-5ab7-40eb-bcdf-4e36fcfe7a7b",
   "metadata": {},
   "outputs": [],
   "source": [
    "stage1_frac_cha = stage1_counts_cha['AGN'] / (stage1_counts_cha['AGN'] + stage1_counts_cha['SFG'])\n",
    "stage2_frac_cha = stage2_counts_cha['AGN'] / (stage2_counts_cha['AGN'] + stage2_counts_cha['SFG'])\n",
    "stage3_frac_cha = stage3_counts_cha['AGN'] / (stage3_counts_cha['AGN'] + stage3_counts_cha['SFG'])\n",
    "stage4_frac_cha = stage4_counts_cha['AGN'] / (stage4_counts_cha['AGN'] + stage4_counts_cha['SFG'])"
   ]
  },
  {
   "cell_type": "code",
   "execution_count": 54,
   "id": "9c25b995-1a77-49b1-b79e-f78a74afe01c",
   "metadata": {},
   "outputs": [
    {
     "name": "stdout",
     "output_type": "stream",
     "text": [
      "0.24\n",
      "0.2413793103448276\n",
      "0.2\n",
      "0.21951219512195122\n"
     ]
    }
   ],
   "source": [
    "print(stage1_frac_cha)\n",
    "print(stage2_frac_cha)\n",
    "print(stage3_frac_cha)\n",
    "print(stage4_frac_cha)"
   ]
  },
  {
   "cell_type": "code",
   "execution_count": 55,
   "id": "efd6613f-fbcf-4374-a06b-95b0463884d8",
   "metadata": {},
   "outputs": [],
   "source": [
    "all_stage1_frac = stage1_counts_cha['AGN'] / len(df_or_noextra.query('category == \"stage1\"'))\n",
    "all_stage2_frac = stage2_counts_cha['AGN'] / len(df_or_noextra.query('category == \"stage2\"'))\n",
    "all_stage3_frac = stage3_counts_cha['AGN'] / len(df_or_noextra.query('category == \"stage3\"'))\n",
    "all_stage4_frac = stage4_counts_cha['AGN'] / len(df_or_noextra.query('category == \"stage4\"'))"
   ]
  },
  {
   "cell_type": "code",
   "execution_count": 56,
   "id": "2464a5d4-6d13-4e9b-b93b-1a2e2a53ecde",
   "metadata": {},
   "outputs": [],
   "source": [
    "all_fracts = np.array([\n",
    "    all_stage1_frac,\n",
    "    all_stage2_frac,\n",
    "    all_stage3_frac,\n",
    "    all_stage4_frac\n",
    "])"
   ]
  },
  {
   "cell_type": "code",
   "execution_count": 57,
   "id": "c39b9726-9877-4e70-990b-31c0d829cd1a",
   "metadata": {},
   "outputs": [
    {
     "name": "stdout",
     "output_type": "stream",
     "text": [
      "0.026030368763557483\n",
      "0.024277456647398842\n",
      "0.02570480928689884\n",
      "0.030716723549488054\n"
     ]
    }
   ],
   "source": [
    "print(all_stage1_frac)\n",
    "print(all_stage2_frac)\n",
    "print(all_stage3_frac)\n",
    "print(all_stage4_frac)"
   ]
  },
  {
   "cell_type": "code",
   "execution_count": 58,
   "id": "e806440d-c380-4205-8b9d-8c8dda378b08",
   "metadata": {},
   "outputs": [],
   "source": [
    "x = ['Separated', 'Pericentre', 'Apocentre','Merging']"
   ]
  },
  {
   "cell_type": "code",
   "execution_count": 59,
   "id": "01c665ca-874f-45f0-9bd2-375c59fcccb2",
   "metadata": {},
   "outputs": [
    {
     "data": {
      "image/png": "[encoded data removed]",
      "text/plain": [
       "<Figure size 600x600 with 1 Axes>"
      ]
     },
     "metadata": {},
     "output_type": "display_data"
    }
   ],
   "source": [
    "plt.figure(figsize = (6,6))\n",
    "plt.scatter(x, all_fracts / all_fracts[0] , color = 'black', marker = 'x')\n",
    "plt.plot(x, all_fracts / all_fracts[0], color = 'black', linestyle='--')\n",
    "plt.axhline(1.0, color = 'gray', linestyle = '--')\n",
    "plt.ylim([0.90,1.20])\n",
    "plt.show()"
   ]
  },
  {
   "cell_type": "markdown",
   "id": "e6002eeb-5f2a-4713-8c37-a7caaa06e7f9",
   "metadata": {},
   "source": [
    "## Calculating the Errors"
   ]
  },
  {
   "cell_type": "code",
   "execution_count": 62,
   "id": "eaaf5a15-a1a2-4956-9b3f-d3c883a7c683",
   "metadata": {},
   "outputs": [],
   "source": [
    "def lower_beta(c,k,n):\n",
    "    return dist.beta.ppf((1-c)/2, k+1, n-k+1)"
   ]
  },
  {
   "cell_type": "code",
   "execution_count": 63,
   "id": "9b345377-3d48-4679-a210-b90958f6b1be",
   "metadata": {},
   "outputs": [],
   "source": [
    "def upper_beta(c,k,n):\n",
    "    return dist.beta.ppf(1-(1-c)/2, k+1, n-k+1)"
   ]
  },
  {
   "cell_type": "code",
   "execution_count": 183,
   "id": "443f4718-45e6-4e69-9489-4c5638bb166a",
   "metadata": {},
   "outputs": [],
   "source": [
    "agn_s1_upper = upper_beta(0.683, stage1_counts_cha['AGN'] , len(df_or_noextra.query('category == \"stage1\"'))) - all_fracts[0]\n",
    "agn_s1_lower = all_fracts[0] - lower_beta(0.683, stage1_counts_cha['AGN'] , len(df_or_noextra.query('category == \"stage1\"')))\n",
    "\n",
    "agn_s2_upper = upper_beta(0.683, stage2_counts_cha['AGN'] , len(df_or_noextra.query('category == \"stage2\"'))) - all_stage2_frac\n",
    "agn_s2_lower = all_stage2_frac - lower_beta(0.683, stage2_counts_cha['AGN'] , len(df_or_noextra.query('category == \"stage2\"')))\n",
    "\n",
    "agn_s3_upper = upper_beta(0.683, stage3_counts_cha['AGN'] , len(df_or_noextra.query('category == \"stage3\"'))) - all_stage3_frac\n",
    "agn_s3_lower = all_stage3_frac - lower_beta(0.683, stage3_counts_cha['AGN'] , len(df_or_noextra.query('category == \"stage3\"')))\n",
    "\n",
    "agn_s4_upper = upper_beta(0.683, stage4_counts_cha['AGN'] , len(df_or_noextra.query('category == \"stage4\"'))) - all_stage4_frac\n",
    "agn_s4_lower = all_stage4_frac - lower_beta(0.683, stage4_counts_cha['AGN'] , len(df_or_noextra.query('category == \"stage4\"')))"
   ]
  },
  {
   "cell_type": "code",
   "execution_count": 184,
   "id": "30d6595b-18e0-4c36-9e5e-fa3812f849b7",
   "metadata": {},
   "outputs": [],
   "source": [
    "agn_frac_err = np.array([\n",
    "    [agn_s1_lower, agn_s1_upper],\n",
    "    [agn_s2_lower, agn_s2_upper],\n",
    "    [agn_s3_lower, agn_s3_upper],\n",
    "    [agn_s4_lower, agn_s4_upper]\n",
    "])"
   ]
  },
  {
   "cell_type": "code",
   "execution_count": 185,
   "id": "084a5b70-057e-4554-91ae-a8d633a5727b",
   "metadata": {},
   "outputs": [
    {
     "data": {
      "image/png": "[encoded data removed]",
      "text/plain": [
       "<Figure size 600x600 with 1 Axes>"
      ]
     },
     "metadata": {},
     "output_type": "display_data"
    }
   ],
   "source": [
    "plt.figure(figsize = (6,6))\n",
    "plt.scatter(x, all_fracts , color = 'black', marker = 'x')\n",
    "plt.plot(x, all_fracts, color = 'black', linestyle='--')\n",
    "# plt.axhli}ne(1.0, color = 'gray', linestyle = '--')\n",
    "plt.errorbar(x, all_fracts, yerr=agn_frac_err.T, linestyle = '', color='black', barsabove=True, capsize=2.5)\n",
    "# plt.ylim([0.90,1.20])\n",
    "plt.ylabel('Relative AGN Fraction', fontsize = 16)\n",
    "# plt.savefig(f'{}')\n",
    "plt.show()"
   ]
  },
  {
   "cell_type": "code",
   "execution_count": 186,
   "id": "4bc6e025-1f5b-471e-9b7a-103f1bdd0863",
   "metadata": {},
   "outputs": [
    {
     "data": {
      "image/png": "[encoded data removed]",
      "text/plain": [
       "<Figure size 600x600 with 1 Axes>"
      ]
     },
     "metadata": {},
     "output_type": "display_data"
    }
   ],
   "source": [
    "plt.figure(figsize = (6,6))\n",
    "plt.scatter(x, all_fracts / all_fracts[0] , color = 'black', marker = 'x')\n",
    "plt.plot(x, all_fracts / all_fracts[0], color = 'black', linestyle='--')\n",
    "plt.axhline(1.0, color = 'gray', linestyle = '--')\n",
    "plt.errorbar(x, all_fracts / all_fracts[0], yerr=agn_frac_err.T, linestyle = '', color='black', barsabove=True, capsize=2.5)\n",
    "plt.ylim([0.90,1.20])\n",
    "plt.ylabel('Relative AGN Fraction', fontsize = 16)\n",
    "plt.savefig(f'{fig_folder}/relative-agn-fraction.pdf', dpi=720, bbox_inches = 'tight')\n",
    "plt.show()"
   ]
  },
  {
   "cell_type": "code",
   "execution_count": null,
   "id": "f1157cbb-073d-4387-a303-033bbbb76b1c",
   "metadata": {},
   "outputs": [],
   "source": []
  }
 ],
 "metadata": {
  "kernelspec": {
   "display_name": "Python 3 (ipykernel)",
   "language": "python",
   "name": "python3"
  },
  "language_info": {
   "codemirror_mode": {
    "name": "ipython",
    "version": 3
   },
   "file_extension": ".py",
   "mimetype": "text/x-python",
   "name": "python",
   "nbconvert_exporter": "python",
   "pygments_lexer": "ipython3",
   "version": "3.7.13"
  }
 },
 "nbformat": 4,
 "nbformat_minor": 5
}
