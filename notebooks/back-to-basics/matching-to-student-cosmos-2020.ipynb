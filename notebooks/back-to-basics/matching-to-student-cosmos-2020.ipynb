{
 "cells": [
  {
   "cell_type": "code",
   "execution_count": 24,
   "id": "0a3dc1f4-a3af-40b4-bc1f-19d416586e01",
   "metadata": {},
   "outputs": [],
   "source": [
    "import pandas as pd\n",
    "import numpy as np\n",
    "\n",
    "from tqdm import tqdm\n",
    "\n",
    "import sys\n",
    "\n",
    "from astropy.io import fits"
   ]
  },
  {
   "cell_type": "code",
   "execution_count": 3,
   "id": "65771493-c10c-4170-9731-430b5c7494f0",
   "metadata": {},
   "outputs": [],
   "source": [
    "data_folder = 'C:/Users/oryan/Documents/mergers-in-cosmos/back-to-basics-data'\n",
    "folder = 'C:/Users/oryan/Documents/mergers-in-cosmos'\n",
    "student_folder = 'C:/Users/oryan/Documents/mergers-in-cosmos/followup-data'\n",
    "results_folder = 'C:/Users/oryan/Documents/mergers-in-cosmos/back-to-basics-results'\n",
    "cosmos_folder = 'E:/cosmos-data'"
   ]
  },
  {
   "cell_type": "markdown",
   "id": "ebd16dc6-0c61-4eea-9ea1-adf8bc7246d5",
   "metadata": {},
   "source": [
    "### Getting Student Data"
   ]
  },
  {
   "cell_type": "code",
   "execution_count": 20,
   "id": "d6b2ad9c-1e6d-4248-a6e8-4eeaedf21f5f",
   "metadata": {},
   "outputs": [],
   "source": [
    "df = pd.read_csv(f'{data_folder}/cosmos2015_ids.csv', index_col = 0).reset_index().rename(columns = {'index':'SourceID'})"
   ]
  },
  {
   "cell_type": "markdown",
   "id": "0fc779a2-1e73-4247-a3ef-173893a56588",
   "metadata": {},
   "source": [
    "### Getting COSMOS 20202"
   ]
  },
  {
   "cell_type": "code",
   "execution_count": 9,
   "id": "8291c761-0435-4d0e-8fbc-9c0dfd960919",
   "metadata": {},
   "outputs": [],
   "source": [
    "with fits.open(f'{cosmos_folder}/COSMOS2020_CLASSIC_R1_v2.1_p3.fits.gz') as hdul:\n",
    "    data = hdul[1].data"
   ]
  },
  {
   "cell_type": "markdown",
   "id": "01962479-bd56-4c2f-a4ea-f428d7ea3e76",
   "metadata": {},
   "source": [
    "### Combining"
   ]
  },
  {
   "cell_type": "code",
   "execution_count": 15,
   "id": "c88e2eae-99b0-4d51-b0e0-f14ab3b184e6",
   "metadata": {},
   "outputs": [],
   "source": [
    "global data"
   ]
  },
  {
   "cell_type": "code",
   "execution_count": 14,
   "id": "bd5bf90a-7486-4d51-bedd-7ea6f80260cf",
   "metadata": {},
   "outputs": [],
   "source": [
    "ids_dict = {}"
   ]
  },
  {
   "cell_type": "code",
   "execution_count": 38,
   "id": "68bc7cc1-23e6-44e1-a61c-67f9f8e66a1c",
   "metadata": {},
   "outputs": [],
   "source": [
    "def get_id2020(id_2015):\n",
    "    row = data[data['ID_COSMOS2015'] == id_2015]\n",
    "    if len(row) > 1:\n",
    "        print('Duplicated')\n",
    "        sys.exit()\n",
    "    elif len(row) == 0.0:\n",
    "        return np.nan\n",
    "    \n",
    "    return row['ID']"
   ]
  },
  {
   "cell_type": "code",
   "execution_count": 39,
   "id": "f821597c-fb20-4e70-91da-ee1c9979339d",
   "metadata": {},
   "outputs": [
    {
     "name": "stderr",
     "output_type": "stream",
     "text": [
      "100%|██████████| 3803/3803 [27:28<00:00,  2.31it/s]\n"
     ]
    }
   ],
   "source": [
    "done_ids = list(ids_dict.keys())\n",
    "for i in tqdm(list(df.SourceID)):\n",
    "    \n",
    "    if i in done_ids:\n",
    "        continue\n",
    "    \n",
    "    \n",
    "    id_2015 = df.query('SourceID == @i').id_2015.iloc[0]\n",
    "    ids_dict[i] = get_id2020(id_2015)"
   ]
  },
  {
   "cell_type": "code",
   "execution_count": 51,
   "id": "43186300-cf51-476a-b825-9f178f686261",
   "metadata": {
    "tags": []
   },
   "outputs": [],
   "source": [
    "float_dict = {}\n",
    "for i in list(ids_dict.keys()):\n",
    "    if np.isnan(ids_dict[i]):\n",
    "        float_dict[i] = np.nan\n",
    "    else:\n",
    "        float_dict[i] = int(ids_dict[i][0])"
   ]
  },
  {
   "cell_type": "code",
   "execution_count": 53,
   "id": "bb56781a-de91-4495-bd23-cb9a38803188",
   "metadata": {},
   "outputs": [],
   "source": [
    "df_ids_float = pd.DataFrame.from_dict(float_dict, orient = 'index').rename(columns = {0 : 'cosmos_2020ids'})"
   ]
  },
  {
   "cell_type": "code",
   "execution_count": 54,
   "id": "bb3da67f-2366-4fc3-8038-71451e3da0e7",
   "metadata": {},
   "outputs": [],
   "source": [
    "df_ids_float.to_csv(f'{data_folder}/cosmos-2020ids-nans.csv')"
   ]
  },
  {
   "cell_type": "code",
   "execution_count": null,
   "id": "de2b55e7-c191-4b20-b865-77b4211167cc",
   "metadata": {},
   "outputs": [],
   "source": []
  }
 ],
 "metadata": {
  "kernelspec": {
   "display_name": "Python 3 (ipykernel)",
   "language": "python",
   "name": "python3"
  },
  "language_info": {
   "codemirror_mode": {
    "name": "ipython",
    "version": 3
   },
   "file_extension": ".py",
   "mimetype": "text/x-python",
   "name": "python",
   "nbconvert_exporter": "python",
   "pygments_lexer": "ipython3",
   "version": "3.7.13"
  }
 },
 "nbformat": 4,
 "nbformat_minor": 5
}
