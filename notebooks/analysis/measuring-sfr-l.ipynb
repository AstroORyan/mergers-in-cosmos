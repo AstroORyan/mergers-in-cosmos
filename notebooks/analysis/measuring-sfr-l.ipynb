{
 "cells": [
  {
   "cell_type": "markdown",
   "id": "de88f0f9-ecb0-4e44-9ff0-e002dff8e154",
   "metadata": {},
   "source": [
    "# Measuring the SFR From Luminosity\n",
    "Notebook to measure the SFR of each galaxy from the IR and UV luminosities. Need to find the formula online, and can just directly do the calculation."
   ]
  },
  {
   "cell_type": "code",
   "execution_count": null,
   "id": "bc205b40-c4c0-405f-9b22-d7dfd86980ac",
   "metadata": {},
   "outputs": [],
   "source": []
  }
 ],
 "metadata": {
  "kernelspec": {
   "display_name": "Python 3 (ipykernel)",
   "language": "python",
   "name": "python3"
  },
  "language_info": {
   "codemirror_mode": {
    "name": "ipython",
    "version": 3
   },
   "file_extension": ".py",
   "mimetype": "text/x-python",
   "name": "python",
   "nbconvert_exporter": "python",
   "pygments_lexer": "ipython3",
   "version": "3.7.13"
  }
 },
 "nbformat": 4,
 "nbformat_minor": 5
}
