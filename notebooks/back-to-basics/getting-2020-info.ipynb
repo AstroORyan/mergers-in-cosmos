{
 "cells": [
  {
   "cell_type": "code",
   "execution_count": 14,
   "id": "f382550a-1227-42af-9827-cdf3181c6597",
   "metadata": {},
   "outputs": [],
   "source": [
    "import pandas as pd\n",
    "import numpy as np\n",
    "\n",
    "import sys\n",
    "from tqdm import tqdm\n",
    "\n",
    "from astropy.io import fits"
   ]
  },
  {
   "cell_type": "code",
   "execution_count": 2,
   "id": "307dd963-4c44-4716-a4be-6764e6b63b8b",
   "metadata": {},
   "outputs": [],
   "source": [
    "data_folder = 'C:/Users/oryan/Documents/mergers-in-cosmos/back-to-basics-data'\n",
    "folder = 'C:/Users/oryan/Documents/mergers-in-cosmos'\n",
    "student_folder = 'C:/Users/oryan/Documents/mergers-in-cosmos/followup-data'\n",
    "results_folder = 'C:/Users/oryan/Documents/mergers-in-cosmos/back-to-basics-results'\n",
    "cosmos_folder = 'E:/cosmos-data'"
   ]
  },
  {
   "cell_type": "markdown",
   "id": "79e527ab-23e0-4d53-b71c-dcad0f3b9dd6",
   "metadata": {},
   "source": [
    "### Getting IDs"
   ]
  },
  {
   "cell_type": "code",
   "execution_count": 3,
   "id": "3c2366e5-97b8-418b-aa04-2b7b2db8daa8",
   "metadata": {},
   "outputs": [],
   "source": [
    "df = pd.read_csv(f'{data_folder}/cosmos-2020ids.csv', index_col = 0)"
   ]
  },
  {
   "cell_type": "markdown",
   "id": "4fd5f314-a38e-46c4-b200-15b596ef67ba",
   "metadata": {},
   "source": [
    "### Getting COSMOS2020 Data"
   ]
  },
  {
   "cell_type": "code",
   "execution_count": 4,
   "id": "7214b0ae-3890-4b60-b2e1-6364117c9ed4",
   "metadata": {},
   "outputs": [],
   "source": [
    "with fits.open(f'{cosmos_folder}/COSMOS2020_CLASSIC_R1_v2.1_p3.fits.gz') as hdul:\n",
    "    data = hdul[1].data"
   ]
  },
  {
   "cell_type": "code",
   "execution_count": 5,
   "id": "f650b460-6895-4c41-ba25-1fe85371d876",
   "metadata": {},
   "outputs": [],
   "source": [
    "global data"
   ]
  },
  {
   "cell_type": "code",
   "execution_count": 38,
   "id": "107abb45-0434-42fc-96c1-90539dffdac3",
   "metadata": {},
   "outputs": [],
   "source": [
    "def get_data(id_2020):\n",
    "    row = data[data['ID'] == id_2020]\n",
    "    \n",
    "    if len(row) == 0.0:\n",
    "        print('ID not found... Something went wrong!')\n",
    "        sys.exit()\n",
    "    \n",
    "    sub_dict = {}\n",
    "    for i in list(row.names):\n",
    "        sub_dict[i] = row[i][0]\n",
    "    \n",
    "    return sub_dict"
   ]
  },
  {
   "cell_type": "code",
   "execution_count": 35,
   "id": "08c04ea4-3376-4612-8f6b-b46e676218f5",
   "metadata": {},
   "outputs": [],
   "source": [
    "cosmos_dict = {}"
   ]
  },
  {
   "cell_type": "code",
   "execution_count": null,
   "id": "9df52a37-d6ce-432e-90bb-8b2890b1ca8c",
   "metadata": {},
   "outputs": [
    {
     "name": "stderr",
     "output_type": "stream",
     "text": [
      " 65%|██████▍   | 2444/3786 [27:36<16:14,  1.38it/s]"
     ]
    }
   ],
   "source": [
    "done_ids = list(cosmos_dict.keys())\n",
    "for i in tqdm(list(df.SourceID)):\n",
    "    id_2020 = df.query('SourceID == @i').cosmos_2020ids.iloc[0]\n",
    "    cosmos_dict[i] = get_data(id_2020)"
   ]
  },
  {
   "cell_type": "code",
   "execution_count": null,
   "id": "3aed99e3-e403-453f-b916-46e094b95af1",
   "metadata": {},
   "outputs": [],
   "source": []
  }
 ],
 "metadata": {
  "kernelspec": {
   "display_name": "Python 3 (ipykernel)",
   "language": "python",
   "name": "python3"
  },
  "language_info": {
   "codemirror_mode": {
    "name": "ipython",
    "version": 3
   },
   "file_extension": ".py",
   "mimetype": "text/x-python",
   "name": "python",
   "nbconvert_exporter": "python",
   "pygments_lexer": "ipython3",
   "version": "3.7.13"
  }
 },
 "nbformat": 4,
 "nbformat_minor": 5
}
