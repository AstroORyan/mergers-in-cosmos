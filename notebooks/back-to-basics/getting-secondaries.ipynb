{
 "cells": [
  {
   "cell_type": "code",
   "execution_count": 1,
   "id": "6263e0d6-4a33-488f-a8de-7a4dd73ed987",
   "metadata": {},
   "outputs": [],
   "source": [
    "import pandas as pd\n",
    "import numpy as np\n",
    "\n",
    "from tqdm import tqdm\n",
    "\n",
    "import sys\n",
    "\n",
    "from astropy.io import fits\n",
    "from astropy.table import Table\n",
    "from astropy.cosmology import FlatLambdaCDM\n",
    "from astropy.coordinates import SkyCoord\n",
    "import astropy.units as u"
   ]
  },
  {
   "cell_type": "code",
   "execution_count": 2,
   "id": "2562a569-a688-4fef-9373-f344bbdc2489",
   "metadata": {},
   "outputs": [],
   "source": [
    "data_folder = 'C:/Users/oryan/Documents/mergers-in-cosmos/back-to-basics-data'\n",
    "folder = 'C:/Users/oryan/Documents/mergers-in-cosmos'\n",
    "student_folder = 'C:/Users/oryan/Documents/mergers-in-cosmos/followup-data'\n",
    "results_folder = 'C:/Users/oryan/Documents/mergers-in-cosmos/back-to-basics-results'\n",
    "cosmos_folder = 'E:/cosmos-data'"
   ]
  },
  {
   "cell_type": "markdown",
   "id": "f83f5fca-ae5e-407e-8157-7c506a805fbf",
   "metadata": {},
   "source": [
    "### Getting Cosmos Data"
   ]
  },
  {
   "cell_type": "code",
   "execution_count": 3,
   "id": "167ca2d9-87e5-4a9f-b249-8f42a8390caa",
   "metadata": {},
   "outputs": [],
   "source": [
    "df = pd.read_csv(f'{data_folder}/cosmos-primary-data.csv', index_col = 0)"
   ]
  },
  {
   "cell_type": "markdown",
   "id": "03f109dd-2686-4d44-897f-33a4dfa9f90d",
   "metadata": {},
   "source": [
    "### Filtering Redshift"
   ]
  },
  {
   "cell_type": "code",
   "execution_count": 4,
   "id": "b3a0c7a7-fe97-410e-8820-1fe4e57132a1",
   "metadata": {},
   "outputs": [
    {
     "data": {
      "text/html": [
       "<div>\n",
       "<style scoped>\n",
       "    .dataframe tbody tr th:only-of-type {\n",
       "        vertical-align: middle;\n",
       "    }\n",
       "\n",
       "    .dataframe tbody tr th {\n",
       "        vertical-align: top;\n",
       "    }\n",
       "\n",
       "    .dataframe thead th {\n",
       "        text-align: right;\n",
       "    }\n",
       "</style>\n",
       "<table border=\"1\" class=\"dataframe\">\n",
       "  <thead>\n",
       "    <tr style=\"text-align: right;\">\n",
       "      <th></th>\n",
       "      <th>ID</th>\n",
       "      <th>ALPHA_J2000</th>\n",
       "      <th>DELTA_J2000</th>\n",
       "      <th>ez_z_phot</th>\n",
       "      <th>lp_zBEST</th>\n",
       "    </tr>\n",
       "  </thead>\n",
       "  <tbody>\n",
       "    <tr>\n",
       "      <th>4000705532455</th>\n",
       "      <td>816891</td>\n",
       "      <td>150.679846</td>\n",
       "      <td>2.196543</td>\n",
       "      <td>0.519525</td>\n",
       "      <td>0.5304</td>\n",
       "    </tr>\n",
       "    <tr>\n",
       "      <th>4000705532984</th>\n",
       "      <td>857121</td>\n",
       "      <td>150.673667</td>\n",
       "      <td>2.226291</td>\n",
       "      <td>0.219858</td>\n",
       "      <td>0.2235</td>\n",
       "    </tr>\n",
       "    <tr>\n",
       "      <th>4000705533312</th>\n",
       "      <td>873195</td>\n",
       "      <td>150.668102</td>\n",
       "      <td>2.242849</td>\n",
       "      <td>0.346519</td>\n",
       "      <td>0.3024</td>\n",
       "    </tr>\n",
       "    <tr>\n",
       "      <th>4000705533383</th>\n",
       "      <td>861738</td>\n",
       "      <td>150.645118</td>\n",
       "      <td>2.237538</td>\n",
       "      <td>0.619803</td>\n",
       "      <td>0.6224</td>\n",
       "    </tr>\n",
       "    <tr>\n",
       "      <th>4000705539529</th>\n",
       "      <td>1284864</td>\n",
       "      <td>149.686223</td>\n",
       "      <td>2.637412</td>\n",
       "      <td>0.705821</td>\n",
       "      <td>0.6984</td>\n",
       "    </tr>\n",
       "  </tbody>\n",
       "</table>\n",
       "</div>"
      ],
      "text/plain": [
       "                    ID  ALPHA_J2000  DELTA_J2000  ez_z_phot  lp_zBEST\n",
       "4000705532455   816891   150.679846     2.196543   0.519525    0.5304\n",
       "4000705532984   857121   150.673667     2.226291   0.219858    0.2235\n",
       "4000705533312   873195   150.668102     2.242849   0.346519    0.3024\n",
       "4000705533383   861738   150.645118     2.237538   0.619803    0.6224\n",
       "4000705539529  1284864   149.686223     2.637412   0.705821    0.6984"
      ]
     },
     "execution_count": 4,
     "metadata": {},
     "output_type": "execute_result"
    }
   ],
   "source": [
    "df_z = df[['ID', 'ALPHA_J2000', 'DELTA_J2000', 'ez_z_phot', 'lp_zBEST']]\n",
    "df_z.head()"
   ]
  },
  {
   "cell_type": "code",
   "execution_count": 5,
   "id": "cae21d1a-7040-4c1c-8a9b-19a194856eb0",
   "metadata": {},
   "outputs": [],
   "source": [
    "def picking_z(ez_z, lp_z):\n",
    "    if np.isnan(ez_z):\n",
    "        if not np.isnan(lp_z):\n",
    "            return lp_z\n",
    "        else:\n",
    "            return np.nan\n",
    "    \n",
    "    if np.isnan(lp_z):\n",
    "        if not np.isnan(ez_z):\n",
    "            return ez_z\n",
    "        else:\n",
    "            return np.nan\n",
    "    \n",
    "    if lp_z < ez_z:\n",
    "        return lp_z\n",
    "    elif ez_z <= lp_z:\n",
    "        return ez_z\n",
    "    else:\n",
    "        return 'what'"
   ]
  },
  {
   "cell_type": "code",
   "execution_count": 6,
   "id": "ac54a833-d9b6-44d7-9e10-44c4515c83b4",
   "metadata": {},
   "outputs": [],
   "source": [
    "df_chosen_z = (\n",
    "    df_z\n",
    "    .assign(redshift = df_z.apply(lambda row: picking_z(row.ez_z_phot, row.lp_zBEST), axis = 1))\n",
    ")"
   ]
  },
  {
   "cell_type": "code",
   "execution_count": 7,
   "id": "1ae1b7b3-87a5-43a0-a586-dbc2d63e68bf",
   "metadata": {},
   "outputs": [],
   "source": [
    "df_z_filtered = df_chosen_z[['ID', 'ALPHA_J2000', 'DELTA_J2000', 'redshift']].dropna().query('redshift <= 1.5').drop_duplicates('ID').reset_index().rename(columns = {'index':'SourceID'})"
   ]
  },
  {
   "cell_type": "code",
   "execution_count": 8,
   "id": "56eeb8db-0a4f-4bb8-8d86-24e59941bb76",
   "metadata": {},
   "outputs": [
    {
     "data": {
      "text/html": [
       "<div>\n",
       "<style scoped>\n",
       "    .dataframe tbody tr th:only-of-type {\n",
       "        vertical-align: middle;\n",
       "    }\n",
       "\n",
       "    .dataframe tbody tr th {\n",
       "        vertical-align: top;\n",
       "    }\n",
       "\n",
       "    .dataframe thead th {\n",
       "        text-align: right;\n",
       "    }\n",
       "</style>\n",
       "<table border=\"1\" class=\"dataframe\">\n",
       "  <thead>\n",
       "    <tr style=\"text-align: right;\">\n",
       "      <th></th>\n",
       "      <th>SourceID</th>\n",
       "      <th>ID</th>\n",
       "      <th>ALPHA_J2000</th>\n",
       "      <th>DELTA_J2000</th>\n",
       "      <th>redshift</th>\n",
       "    </tr>\n",
       "  </thead>\n",
       "  <tbody>\n",
       "    <tr>\n",
       "      <th>0</th>\n",
       "      <td>4000705532455</td>\n",
       "      <td>816891</td>\n",
       "      <td>150.679846</td>\n",
       "      <td>2.196543</td>\n",
       "      <td>0.519525</td>\n",
       "    </tr>\n",
       "    <tr>\n",
       "      <th>1</th>\n",
       "      <td>4000705532984</td>\n",
       "      <td>857121</td>\n",
       "      <td>150.673667</td>\n",
       "      <td>2.226291</td>\n",
       "      <td>0.219858</td>\n",
       "    </tr>\n",
       "    <tr>\n",
       "      <th>2</th>\n",
       "      <td>4000705533312</td>\n",
       "      <td>873195</td>\n",
       "      <td>150.668102</td>\n",
       "      <td>2.242849</td>\n",
       "      <td>0.302400</td>\n",
       "    </tr>\n",
       "    <tr>\n",
       "      <th>3</th>\n",
       "      <td>4000705533383</td>\n",
       "      <td>861738</td>\n",
       "      <td>150.645118</td>\n",
       "      <td>2.237538</td>\n",
       "      <td>0.619803</td>\n",
       "    </tr>\n",
       "    <tr>\n",
       "      <th>4</th>\n",
       "      <td>4000705539529</td>\n",
       "      <td>1284864</td>\n",
       "      <td>149.686223</td>\n",
       "      <td>2.637412</td>\n",
       "      <td>0.698400</td>\n",
       "    </tr>\n",
       "    <tr>\n",
       "      <th>...</th>\n",
       "      <td>...</td>\n",
       "      <td>...</td>\n",
       "      <td>...</td>\n",
       "      <td>...</td>\n",
       "      <td>...</td>\n",
       "    </tr>\n",
       "    <tr>\n",
       "      <th>3530</th>\n",
       "      <td>6000534269373</td>\n",
       "      <td>1193387</td>\n",
       "      <td>150.588619</td>\n",
       "      <td>2.546616</td>\n",
       "      <td>0.883769</td>\n",
       "    </tr>\n",
       "    <tr>\n",
       "      <th>3531</th>\n",
       "      <td>6000535064806</td>\n",
       "      <td>1041748</td>\n",
       "      <td>150.435644</td>\n",
       "      <td>2.404769</td>\n",
       "      <td>1.091646</td>\n",
       "    </tr>\n",
       "    <tr>\n",
       "      <th>3532</th>\n",
       "      <td>6000535781610</td>\n",
       "      <td>1231637</td>\n",
       "      <td>150.428931</td>\n",
       "      <td>2.588176</td>\n",
       "      <td>0.498800</td>\n",
       "    </tr>\n",
       "    <tr>\n",
       "      <th>3533</th>\n",
       "      <td>6000535864481</td>\n",
       "      <td>1042682</td>\n",
       "      <td>150.505365</td>\n",
       "      <td>2.407106</td>\n",
       "      <td>1.440600</td>\n",
       "    </tr>\n",
       "    <tr>\n",
       "      <th>3534</th>\n",
       "      <td>6000535892182</td>\n",
       "      <td>1300684</td>\n",
       "      <td>150.136778</td>\n",
       "      <td>2.655906</td>\n",
       "      <td>0.831942</td>\n",
       "    </tr>\n",
       "  </tbody>\n",
       "</table>\n",
       "<p>3535 rows × 5 columns</p>\n",
       "</div>"
      ],
      "text/plain": [
       "           SourceID       ID  ALPHA_J2000  DELTA_J2000  redshift\n",
       "0     4000705532455   816891   150.679846     2.196543  0.519525\n",
       "1     4000705532984   857121   150.673667     2.226291  0.219858\n",
       "2     4000705533312   873195   150.668102     2.242849  0.302400\n",
       "3     4000705533383   861738   150.645118     2.237538  0.619803\n",
       "4     4000705539529  1284864   149.686223     2.637412  0.698400\n",
       "...             ...      ...          ...          ...       ...\n",
       "3530  6000534269373  1193387   150.588619     2.546616  0.883769\n",
       "3531  6000535064806  1041748   150.435644     2.404769  1.091646\n",
       "3532  6000535781610  1231637   150.428931     2.588176  0.498800\n",
       "3533  6000535864481  1042682   150.505365     2.407106  1.440600\n",
       "3534  6000535892182  1300684   150.136778     2.655906  0.831942\n",
       "\n",
       "[3535 rows x 5 columns]"
      ]
     },
     "execution_count": 8,
     "metadata": {},
     "output_type": "execute_result"
    }
   ],
   "source": [
    "df_z_filtered"
   ]
  },
  {
   "cell_type": "markdown",
   "id": "e6a41c63-8b94-4ee9-94ba-0ea7b931ed4f",
   "metadata": {},
   "source": [
    "### Importing Data"
   ]
  },
  {
   "cell_type": "code",
   "execution_count": 9,
   "id": "da73dde0-d00a-45dd-a9cb-43963d7f926b",
   "metadata": {},
   "outputs": [],
   "source": [
    "with fits.open(f'{cosmos_folder}/COSMOS2020_CLASSIC_R1_v2.1_p3.fits.gz') as hdul:\n",
    "    data = hdul[1].data"
   ]
  },
  {
   "cell_type": "markdown",
   "id": "1cf0a79c-12a4-4a3c-abd8-130dde92e472",
   "metadata": {},
   "source": [
    "### Finding the Secondaries"
   ]
  },
  {
   "cell_type": "code",
   "execution_count": 10,
   "id": "67be35be-9cf2-4cc1-889c-5c46110d0dcd",
   "metadata": {},
   "outputs": [],
   "source": [
    "cosmo = FlatLambdaCDM(H0=70 * u.km / u.s / u.Mpc, Tcmb0=2.725 * u.K, Om0=0.3)"
   ]
  },
  {
   "cell_type": "code",
   "execution_count": 11,
   "id": "25296077-7636-44ee-9666-7e177fd2eea8",
   "metadata": {},
   "outputs": [],
   "source": [
    "global data, cosmo"
   ]
  },
  {
   "cell_type": "code",
   "execution_count": 27,
   "id": "ce70c331-64be-4b9c-b7aa-208cd71772f1",
   "metadata": {},
   "outputs": [],
   "source": [
    "sec_dict = {}"
   ]
  },
  {
   "cell_type": "code",
   "execution_count": 28,
   "id": "40da3316-3dbe-4708-9de2-a610cadd31a4",
   "metadata": {},
   "outputs": [],
   "source": [
    "def getting_secondary(ra, dec, z, prim_id):\n",
    "    record = data[(data['ALPHA_J2000'] > ra - 0.1) & (data['ALPHA_J2000'] < ra + 0.1) & (data['DELTA_J2000'] > dec - 0.1) & (data['DELTA_J2000'] < dec + 0.1)]\n",
    "    \n",
    "    df = Table(record).to_pandas()[['ID', 'ALPHA_J2000', 'DELTA_J2000', 'ez_z_phot', 'lp_zBEST']]\n",
    "    \n",
    "    df_z = (\n",
    "        df\n",
    "        .assign(redshift = df.apply(lambda row: picking_z(row.ez_z_phot, row.lp_zBEST), axis = 1))\n",
    "        .drop(columns = ['ez_z_phot', 'lp_zBEST'])\n",
    "        .dropna()\n",
    "        .query('ID != @prim_id')\n",
    "    )\n",
    "    \n",
    "    df_diff = (\n",
    "        df_z\n",
    "        .assign(del_z = df_z.redshift.apply(lambda x: abs((z - x)*2.998e5)))\n",
    "    )\n",
    "    \n",
    "    df_red = df_diff.query('del_z <= 1000')\n",
    "    \n",
    "    if len(df_red) == 0.0:\n",
    "        return np.nan\n",
    "    \n",
    "    if len(df_red) > 1:\n",
    "        c1 = SkyCoord(ra = ra * u.deg, dec = dec * u.deg, frame = 'fk5', distance = cosmo.comoving_distance(z))\n",
    "        df_sep = (\n",
    "            df_red\n",
    "            .assign(separations = df_red.apply(lambda row: np.float64((c1.separation_3d(SkyCoord(ra = row.ALPHA_J2000 * u.deg, dec = row.DELTA_J2000 * u.deg, frame = 'fk5', distance = cosmo.comoving_distance(row.redshift)))).to(u.kpc) / (u.kpc)), axis = 1))\n",
    "        )\n",
    "        df_sep = df_sep.query('separations <= 750')\n",
    "        if len(df_sep) == 0.0:\n",
    "            return np.nan\n",
    "        df_red = df_sep.sort_values('separations', ascending = True)\n",
    "    else:\n",
    "        df_sep = (\n",
    "            df_red\n",
    "            .assign(separations = df_red.apply(lambda row: np.float64((c1.separation_3d(SkyCoord(ra = row.ALPHA_J2000 * u.deg, dec = row.DELTA_J2000 * u.deg, frame = 'fk5', distance = cosmo.comoving_distance(row.redshift)))).to(u.kpc) / (u.kpc)), axis = 1))\n",
    "        )\n",
    "        df_red = df_sep.query('separations <= 750')\n",
    "        if len(df_red) == 0.0:\n",
    "            return np.nan\n",
    "    \n",
    "    id_sec = df_red.ID.iloc[0]\n",
    "    \n",
    "    return id_sec"
   ]
  },
  {
   "cell_type": "code",
   "execution_count": 29,
   "id": "ff859cf9-d470-423a-9d27-e715396a1ff3",
   "metadata": {},
   "outputs": [
    {
     "name": "stderr",
     "output_type": "stream",
     "text": [
      "100%|██████████| 3535/3535 [2:48:04<00:00,  2.85s/it]  \n"
     ]
    }
   ],
   "source": [
    "done_ids = list(sec_dict.keys())\n",
    "for i in tqdm(list(df_z_filtered.SourceID)):\n",
    "    row = df_z_filtered.query('SourceID == @i')\n",
    "    ra = row.ALPHA_J2000.iloc[0]\n",
    "    dec = row.DELTA_J2000.iloc[0]\n",
    "    z = row.redshift.iloc[0]\n",
    "    prim_id = row.ID.iloc[0]\n",
    "    \n",
    "    sec_dict[i] = getting_secondary(ra, dec, z, prim_id)"
   ]
  },
  {
   "cell_type": "code",
   "execution_count": 31,
   "id": "37bdcdf1-b985-4d07-b024-20df26cfe5e0",
   "metadata": {},
   "outputs": [],
   "source": [
    "df_secs = pd.DataFrame.from_dict(sec_dict, orient = 'index')"
   ]
  },
  {
   "cell_type": "code",
   "execution_count": 32,
   "id": "740928a0-cacb-453d-bea5-8c12ce22bbc2",
   "metadata": {},
   "outputs": [
    {
     "data": {
      "text/html": [
       "<div>\n",
       "<style scoped>\n",
       "    .dataframe tbody tr th:only-of-type {\n",
       "        vertical-align: middle;\n",
       "    }\n",
       "\n",
       "    .dataframe tbody tr th {\n",
       "        vertical-align: top;\n",
       "    }\n",
       "\n",
       "    .dataframe thead th {\n",
       "        text-align: right;\n",
       "    }\n",
       "</style>\n",
       "<table border=\"1\" class=\"dataframe\">\n",
       "  <thead>\n",
       "    <tr style=\"text-align: right;\">\n",
       "      <th></th>\n",
       "      <th>0</th>\n",
       "    </tr>\n",
       "  </thead>\n",
       "  <tbody>\n",
       "    <tr>\n",
       "      <th>4000705532984</th>\n",
       "      <td>846770.0</td>\n",
       "    </tr>\n",
       "    <tr>\n",
       "      <th>4000705539529</th>\n",
       "      <td>1298521.0</td>\n",
       "    </tr>\n",
       "    <tr>\n",
       "      <th>4000707045178</th>\n",
       "      <td>271755.0</td>\n",
       "    </tr>\n",
       "    <tr>\n",
       "      <th>4000707047768</th>\n",
       "      <td>260900.0</td>\n",
       "    </tr>\n",
       "    <tr>\n",
       "      <th>4000707048117</th>\n",
       "      <td>252331.0</td>\n",
       "    </tr>\n",
       "    <tr>\n",
       "      <th>...</th>\n",
       "      <td>...</td>\n",
       "    </tr>\n",
       "    <tr>\n",
       "      <th>6000435703307</th>\n",
       "      <td>863206.0</td>\n",
       "    </tr>\n",
       "    <tr>\n",
       "      <th>6000443709301</th>\n",
       "      <td>987251.0</td>\n",
       "    </tr>\n",
       "    <tr>\n",
       "      <th>6000513404870</th>\n",
       "      <td>826072.0</td>\n",
       "    </tr>\n",
       "    <tr>\n",
       "      <th>6000516624203</th>\n",
       "      <td>821410.0</td>\n",
       "    </tr>\n",
       "    <tr>\n",
       "      <th>6000518662663</th>\n",
       "      <td>591065.0</td>\n",
       "    </tr>\n",
       "  </tbody>\n",
       "</table>\n",
       "<p>661 rows × 1 columns</p>\n",
       "</div>"
      ],
      "text/plain": [
       "                       0\n",
       "4000705532984   846770.0\n",
       "4000705539529  1298521.0\n",
       "4000707045178   271755.0\n",
       "4000707047768   260900.0\n",
       "4000707048117   252331.0\n",
       "...                  ...\n",
       "6000435703307   863206.0\n",
       "6000443709301   987251.0\n",
       "6000513404870   826072.0\n",
       "6000516624203   821410.0\n",
       "6000518662663   591065.0\n",
       "\n",
       "[661 rows x 1 columns]"
      ]
     },
     "execution_count": 32,
     "metadata": {},
     "output_type": "execute_result"
    }
   ],
   "source": [
    "df_secs.dropna()"
   ]
  },
  {
   "cell_type": "code",
   "execution_count": 33,
   "id": "0ebec5db-7ab2-4585-862b-3abfd3ba9ee6",
   "metadata": {},
   "outputs": [],
   "source": [
    "# df_secs.to_csv(f'{data_folder}/secondary-ids-redone-2.csv')"
   ]
  },
  {
   "cell_type": "code",
   "execution_count": 34,
   "id": "79fd6906-a187-43d5-a630-679d3c196136",
   "metadata": {},
   "outputs": [],
   "source": [
    "df_secs.rename(columns = {0:'sec_id'}).dropna().drop_duplicates('sec_id').astype(np.int64).to_csv(f'{data_folder}/secondary-ids-redone-2.csv')"
   ]
  },
  {
   "cell_type": "code",
   "execution_count": 37,
   "id": "18de74e7-9eb5-4a73-91a3-beb6a73eecb9",
   "metadata": {},
   "outputs": [],
   "source": [
    "tmp_df = pd.read_csv(f'{data_folder}/secondary-ids-redone-2.csv', index_col = 0)"
   ]
  },
  {
   "cell_type": "code",
   "execution_count": 38,
   "id": "023e5ab6-d6bd-48d4-ae28-2544fecc79e8",
   "metadata": {},
   "outputs": [
    {
     "data": {
      "text/html": [
       "<div>\n",
       "<style scoped>\n",
       "    .dataframe tbody tr th:only-of-type {\n",
       "        vertical-align: middle;\n",
       "    }\n",
       "\n",
       "    .dataframe tbody tr th {\n",
       "        vertical-align: top;\n",
       "    }\n",
       "\n",
       "    .dataframe thead th {\n",
       "        text-align: right;\n",
       "    }\n",
       "</style>\n",
       "<table border=\"1\" class=\"dataframe\">\n",
       "  <thead>\n",
       "    <tr style=\"text-align: right;\">\n",
       "      <th></th>\n",
       "      <th>sec_id</th>\n",
       "    </tr>\n",
       "  </thead>\n",
       "  <tbody>\n",
       "    <tr>\n",
       "      <th>4000705532984</th>\n",
       "      <td>846770</td>\n",
       "    </tr>\n",
       "    <tr>\n",
       "      <th>4000705539529</th>\n",
       "      <td>1298521</td>\n",
       "    </tr>\n",
       "    <tr>\n",
       "      <th>4000707045178</th>\n",
       "      <td>271755</td>\n",
       "    </tr>\n",
       "    <tr>\n",
       "      <th>4000707047768</th>\n",
       "      <td>260900</td>\n",
       "    </tr>\n",
       "    <tr>\n",
       "      <th>4000707048117</th>\n",
       "      <td>252331</td>\n",
       "    </tr>\n",
       "    <tr>\n",
       "      <th>...</th>\n",
       "      <td>...</td>\n",
       "    </tr>\n",
       "    <tr>\n",
       "      <th>6000435703307</th>\n",
       "      <td>863206</td>\n",
       "    </tr>\n",
       "    <tr>\n",
       "      <th>6000443709301</th>\n",
       "      <td>987251</td>\n",
       "    </tr>\n",
       "    <tr>\n",
       "      <th>6000513404870</th>\n",
       "      <td>826072</td>\n",
       "    </tr>\n",
       "    <tr>\n",
       "      <th>6000516624203</th>\n",
       "      <td>821410</td>\n",
       "    </tr>\n",
       "    <tr>\n",
       "      <th>6000518662663</th>\n",
       "      <td>591065</td>\n",
       "    </tr>\n",
       "  </tbody>\n",
       "</table>\n",
       "<p>661 rows × 1 columns</p>\n",
       "</div>"
      ],
      "text/plain": [
       "                sec_id\n",
       "4000705532984   846770\n",
       "4000705539529  1298521\n",
       "4000707045178   271755\n",
       "4000707047768   260900\n",
       "4000707048117   252331\n",
       "...                ...\n",
       "6000435703307   863206\n",
       "6000443709301   987251\n",
       "6000513404870   826072\n",
       "6000516624203   821410\n",
       "6000518662663   591065\n",
       "\n",
       "[661 rows x 1 columns]"
      ]
     },
     "execution_count": 38,
     "metadata": {},
     "output_type": "execute_result"
    }
   ],
   "source": [
    "tmp_df"
   ]
  },
  {
   "cell_type": "code",
   "execution_count": null,
   "id": "36fa9c37-fc70-4e3d-9705-aed02f6b6159",
   "metadata": {},
   "outputs": [],
   "source": []
  }
 ],
 "metadata": {
  "kernelspec": {
   "display_name": "Python 3 (ipykernel)",
   "language": "python",
   "name": "python3"
  },
  "language_info": {
   "codemirror_mode": {
    "name": "ipython",
    "version": 3
   },
   "file_extension": ".py",
   "mimetype": "text/x-python",
   "name": "python",
   "nbconvert_exporter": "python",
   "pygments_lexer": "ipython3",
   "version": "3.7.13"
  }
 },
 "nbformat": 4,
 "nbformat_minor": 5
}
