{
 "cells": [
  {
   "cell_type": "code",
   "execution_count": 5,
   "id": "24ad52ba-fc08-454b-8fa7-1abb837677d1",
   "metadata": {},
   "outputs": [],
   "source": [
    "import pandas as pd\n",
    "import seaborn as sns\n",
    "import matplotlib.pyplot as plt\n",
    "import numpy as np\n",
    "import glob\n",
    "import sys\n",
    "import cv2 as cv\n",
    "from tqdm import tqdm\n",
    "tqdm.pandas()\n",
    "\n",
    "from astropy.cosmology import FlatLambdaCDM\n",
    "import astropy.units as u\n",
    "from astropy.io import fits\n",
    "from astropy.coordinates import SkyCoord\n",
    "import astropy.units as u\n",
    "from astropy.table import Table"
   ]
  },
  {
   "cell_type": "code",
   "execution_count": 6,
   "id": "9ef2b246-f3c1-4065-a076-46dfd935f3f5",
   "metadata": {},
   "outputs": [],
   "source": [
    "combine_fold = 'C:/Users/oryan/Documents/mergers-in-cosmos/cats-to-combine'\n",
    "data_folder = 'C:/Users/oryan/Documents/mergers-in-cosmos/back-to-basics-data'\n",
    "fig_folder = 'C:/Users/oryan/Documents/mergers-in-cosmos/paper-source/figures'\n",
    "cos_dat_fold = 'E:/cosmos-data'"
   ]
  },
  {
   "cell_type": "code",
   "execution_count": 7,
   "id": "710d02eb-39da-4ec4-9b27-9c311004c89d",
   "metadata": {},
   "outputs": [
    {
     "name": "stderr",
     "output_type": "stream",
     "text": [
      "C:\\Users\\oryan\\AppData\\Local\\Continuum\\anaconda3\\lib\\site-packages\\IPython\\core\\interactiveshell.py:3457: DtypeWarning: Columns (2) have mixed types.Specify dtype option on import or set low_memory=False.\n",
      "  exec(code_obj, self.user_global_ns, self.user_ns)\n"
     ]
    }
   ],
   "source": [
    "df_cat = pd.read_csv(f'{combine_fold}/dor-all-restaged-full-rem-seps-z.csv', index_col = 0)"
   ]
  },
  {
   "cell_type": "code",
   "execution_count": 8,
   "id": "3643f898-63cb-4334-84da-8c3e1aa85d54",
   "metadata": {},
   "outputs": [
    {
     "data": {
      "text/html": [
       "<div>\n",
       "<style scoped>\n",
       "    .dataframe tbody tr th:only-of-type {\n",
       "        vertical-align: middle;\n",
       "    }\n",
       "\n",
       "    .dataframe tbody tr th {\n",
       "        vertical-align: top;\n",
       "    }\n",
       "\n",
       "    .dataframe thead th {\n",
       "        text-align: right;\n",
       "    }\n",
       "</style>\n",
       "<table border=\"1\" class=\"dataframe\">\n",
       "  <thead>\n",
       "    <tr style=\"text-align: right;\">\n",
       "      <th></th>\n",
       "      <th>ID</th>\n",
       "      <th>ORyanID_23</th>\n",
       "      <th>category</th>\n",
       "      <th>ALPHA_J2000</th>\n",
       "      <th>DELTA_J2000</th>\n",
       "      <th>X_IMAGE</th>\n",
       "      <th>Y_IMAGE</th>\n",
       "      <th>ERRX2_IMAGE</th>\n",
       "      <th>ERRY2_IMAGE</th>\n",
       "      <th>ERRXY_IMAGE</th>\n",
       "      <th>...</th>\n",
       "      <th>ez_ssfr_p025</th>\n",
       "      <th>ez_ssfr_p160</th>\n",
       "      <th>ez_ssfr_p500</th>\n",
       "      <th>ez_ssfr_p840</th>\n",
       "      <th>ez_ssfr_p975</th>\n",
       "      <th>ez_Av_p025</th>\n",
       "      <th>ez_Av_p160</th>\n",
       "      <th>ez_Av_p500</th>\n",
       "      <th>ez_Av_p840</th>\n",
       "      <th>ez_Av_p975</th>\n",
       "    </tr>\n",
       "  </thead>\n",
       "  <tbody>\n",
       "    <tr>\n",
       "      <th>0</th>\n",
       "      <td>816891</td>\n",
       "      <td>4000705532455</td>\n",
       "      <td>stage4</td>\n",
       "      <td>150.679846</td>\n",
       "      <td>2.196543</td>\n",
       "      <td>9200.399414</td>\n",
       "      <td>21737.232422</td>\n",
       "      <td>0.000052</td>\n",
       "      <td>0.000059</td>\n",
       "      <td>-1.043282e-05</td>\n",
       "      <td>...</td>\n",
       "      <td>-8.931825</td>\n",
       "      <td>-8.911355</td>\n",
       "      <td>-8.899668</td>\n",
       "      <td>-8.883307</td>\n",
       "      <td>-8.872990</td>\n",
       "      <td>0.529107</td>\n",
       "      <td>0.560142</td>\n",
       "      <td>0.599624</td>\n",
       "      <td>0.630920</td>\n",
       "      <td>0.652330</td>\n",
       "    </tr>\n",
       "    <tr>\n",
       "      <th>1</th>\n",
       "      <td>860686</td>\n",
       "      <td>4000705533383</td>\n",
       "      <td>stage3</td>\n",
       "      <td>150.644522</td>\n",
       "      <td>2.237226</td>\n",
       "      <td>10047.978516</td>\n",
       "      <td>22713.351562</td>\n",
       "      <td>0.000051</td>\n",
       "      <td>0.000046</td>\n",
       "      <td>1.571297e-06</td>\n",
       "      <td>...</td>\n",
       "      <td>-9.314209</td>\n",
       "      <td>-9.106611</td>\n",
       "      <td>-8.941274</td>\n",
       "      <td>-8.713107</td>\n",
       "      <td>-8.541205</td>\n",
       "      <td>0.341270</td>\n",
       "      <td>0.545498</td>\n",
       "      <td>0.732327</td>\n",
       "      <td>0.906665</td>\n",
       "      <td>1.020098</td>\n",
       "    </tr>\n",
       "    <tr>\n",
       "      <th>2</th>\n",
       "      <td>1301188</td>\n",
       "      <td>4000705539941</td>\n",
       "      <td>stage2</td>\n",
       "      <td>149.702462</td>\n",
       "      <td>2.654895</td>\n",
       "      <td>32637.949219</td>\n",
       "      <td>32737.013672</td>\n",
       "      <td>0.000064</td>\n",
       "      <td>0.000104</td>\n",
       "      <td>-2.881107e-06</td>\n",
       "      <td>...</td>\n",
       "      <td>-9.794128</td>\n",
       "      <td>-9.784252</td>\n",
       "      <td>-9.766013</td>\n",
       "      <td>-9.743796</td>\n",
       "      <td>-9.727879</td>\n",
       "      <td>0.018737</td>\n",
       "      <td>0.018737</td>\n",
       "      <td>0.018737</td>\n",
       "      <td>0.018737</td>\n",
       "      <td>0.018737</td>\n",
       "    </tr>\n",
       "    <tr>\n",
       "      <th>3</th>\n",
       "      <td>1304538</td>\n",
       "      <td>4000705540034</td>\n",
       "      <td>stage3</td>\n",
       "      <td>149.726828</td>\n",
       "      <td>2.658172</td>\n",
       "      <td>32053.712891</td>\n",
       "      <td>32815.468750</td>\n",
       "      <td>0.000071</td>\n",
       "      <td>0.000086</td>\n",
       "      <td>-6.036952e-06</td>\n",
       "      <td>...</td>\n",
       "      <td>-9.480532</td>\n",
       "      <td>-9.443615</td>\n",
       "      <td>-9.402433</td>\n",
       "      <td>-9.352081</td>\n",
       "      <td>-9.325659</td>\n",
       "      <td>0.302629</td>\n",
       "      <td>0.376027</td>\n",
       "      <td>0.440394</td>\n",
       "      <td>0.508153</td>\n",
       "      <td>0.567727</td>\n",
       "    </tr>\n",
       "    <tr>\n",
       "      <th>4</th>\n",
       "      <td>1310001</td>\n",
       "      <td>4000705540064</td>\n",
       "      <td>stage3</td>\n",
       "      <td>149.701230</td>\n",
       "      <td>2.660343</td>\n",
       "      <td>32667.441406</td>\n",
       "      <td>32867.789062</td>\n",
       "      <td>0.000026</td>\n",
       "      <td>0.000020</td>\n",
       "      <td>-1.023530e-05</td>\n",
       "      <td>...</td>\n",
       "      <td>-9.882174</td>\n",
       "      <td>-9.855921</td>\n",
       "      <td>-9.816085</td>\n",
       "      <td>-9.697225</td>\n",
       "      <td>-9.573506</td>\n",
       "      <td>0.455258</td>\n",
       "      <td>0.482555</td>\n",
       "      <td>0.522239</td>\n",
       "      <td>0.600383</td>\n",
       "      <td>0.660279</td>\n",
       "    </tr>\n",
       "    <tr>\n",
       "      <th>...</th>\n",
       "      <td>...</td>\n",
       "      <td>...</td>\n",
       "      <td>...</td>\n",
       "      <td>...</td>\n",
       "      <td>...</td>\n",
       "      <td>...</td>\n",
       "      <td>...</td>\n",
       "      <td>...</td>\n",
       "      <td>...</td>\n",
       "      <td>...</td>\n",
       "      <td>...</td>\n",
       "      <td>...</td>\n",
       "      <td>...</td>\n",
       "      <td>...</td>\n",
       "      <td>...</td>\n",
       "      <td>...</td>\n",
       "      <td>...</td>\n",
       "      <td>...</td>\n",
       "      <td>...</td>\n",
       "      <td>...</td>\n",
       "      <td>...</td>\n",
       "    </tr>\n",
       "    <tr>\n",
       "      <th>3927</th>\n",
       "      <td>1520733</td>\n",
       "      <td>4001204758614_extra</td>\n",
       "      <td>stage4</td>\n",
       "      <td>149.891374</td>\n",
       "      <td>2.866981</td>\n",
       "      <td>28107.876953</td>\n",
       "      <td>37826.437500</td>\n",
       "      <td>0.000086</td>\n",
       "      <td>0.000104</td>\n",
       "      <td>-9.313976e-07</td>\n",
       "      <td>...</td>\n",
       "      <td>-9.441206</td>\n",
       "      <td>-9.279022</td>\n",
       "      <td>-9.095134</td>\n",
       "      <td>-9.003501</td>\n",
       "      <td>-8.955496</td>\n",
       "      <td>0.120441</td>\n",
       "      <td>0.213251</td>\n",
       "      <td>0.306832</td>\n",
       "      <td>0.556012</td>\n",
       "      <td>0.731876</td>\n",
       "    </tr>\n",
       "    <tr>\n",
       "      <th>3928</th>\n",
       "      <td>1520749</td>\n",
       "      <td>4546055995_extra</td>\n",
       "      <td>stage2</td>\n",
       "      <td>150.383110</td>\n",
       "      <td>2.865367</td>\n",
       "      <td>16320.103516</td>\n",
       "      <td>37787.917969</td>\n",
       "      <td>0.000131</td>\n",
       "      <td>0.000236</td>\n",
       "      <td>7.123858e-05</td>\n",
       "      <td>...</td>\n",
       "      <td>-9.857880</td>\n",
       "      <td>-9.658215</td>\n",
       "      <td>-9.485625</td>\n",
       "      <td>-9.235816</td>\n",
       "      <td>-8.971795</td>\n",
       "      <td>0.162147</td>\n",
       "      <td>0.238640</td>\n",
       "      <td>0.432004</td>\n",
       "      <td>0.592193</td>\n",
       "      <td>0.687256</td>\n",
       "    </tr>\n",
       "    <tr>\n",
       "      <th>3929</th>\n",
       "      <td>1523385</td>\n",
       "      <td>4000927318133_extra</td>\n",
       "      <td>stage3</td>\n",
       "      <td>149.789910</td>\n",
       "      <td>2.865132</td>\n",
       "      <td>30540.179688</td>\n",
       "      <td>37782.648438</td>\n",
       "      <td>0.000045</td>\n",
       "      <td>0.000059</td>\n",
       "      <td>1.600747e-05</td>\n",
       "      <td>...</td>\n",
       "      <td>-9.525900</td>\n",
       "      <td>-9.472779</td>\n",
       "      <td>-9.353454</td>\n",
       "      <td>-9.273221</td>\n",
       "      <td>-9.213521</td>\n",
       "      <td>0.262676</td>\n",
       "      <td>0.355466</td>\n",
       "      <td>0.410356</td>\n",
       "      <td>0.489105</td>\n",
       "      <td>0.566003</td>\n",
       "    </tr>\n",
       "    <tr>\n",
       "      <th>3930</th>\n",
       "      <td>1524909</td>\n",
       "      <td>4000747939904_extra</td>\n",
       "      <td>stage3</td>\n",
       "      <td>150.450581</td>\n",
       "      <td>2.872371</td>\n",
       "      <td>14702.710938</td>\n",
       "      <td>37956.468750</td>\n",
       "      <td>0.000248</td>\n",
       "      <td>0.000292</td>\n",
       "      <td>7.378556e-06</td>\n",
       "      <td>...</td>\n",
       "      <td>-9.556987</td>\n",
       "      <td>-9.385500</td>\n",
       "      <td>-9.154130</td>\n",
       "      <td>-9.026810</td>\n",
       "      <td>-8.938077</td>\n",
       "      <td>0.153294</td>\n",
       "      <td>0.283249</td>\n",
       "      <td>0.436332</td>\n",
       "      <td>0.600615</td>\n",
       "      <td>0.693621</td>\n",
       "    </tr>\n",
       "    <tr>\n",
       "      <th>3931</th>\n",
       "      <td>1529226</td>\n",
       "      <td>4001239405815_extra</td>\n",
       "      <td>stage4</td>\n",
       "      <td>150.372099</td>\n",
       "      <td>2.872333</td>\n",
       "      <td>16584.076172</td>\n",
       "      <td>37955.070312</td>\n",
       "      <td>0.000018</td>\n",
       "      <td>0.000019</td>\n",
       "      <td>5.020723e-06</td>\n",
       "      <td>...</td>\n",
       "      <td>-10.793317</td>\n",
       "      <td>-10.749337</td>\n",
       "      <td>-10.671772</td>\n",
       "      <td>-10.571155</td>\n",
       "      <td>-10.450612</td>\n",
       "      <td>0.541194</td>\n",
       "      <td>0.584935</td>\n",
       "      <td>0.723596</td>\n",
       "      <td>0.791648</td>\n",
       "      <td>0.920438</td>\n",
       "    </tr>\n",
       "  </tbody>\n",
       "</table>\n",
       "<p>3932 rows × 756 columns</p>\n",
       "</div>"
      ],
      "text/plain": [
       "           ID           ORyanID_23 category  ALPHA_J2000  DELTA_J2000  \\\n",
       "0      816891        4000705532455   stage4   150.679846     2.196543   \n",
       "1      860686        4000705533383   stage3   150.644522     2.237226   \n",
       "2     1301188        4000705539941   stage2   149.702462     2.654895   \n",
       "3     1304538        4000705540034   stage3   149.726828     2.658172   \n",
       "4     1310001        4000705540064   stage3   149.701230     2.660343   \n",
       "...       ...                  ...      ...          ...          ...   \n",
       "3927  1520733  4001204758614_extra   stage4   149.891374     2.866981   \n",
       "3928  1520749     4546055995_extra   stage2   150.383110     2.865367   \n",
       "3929  1523385  4000927318133_extra   stage3   149.789910     2.865132   \n",
       "3930  1524909  4000747939904_extra   stage3   150.450581     2.872371   \n",
       "3931  1529226  4001239405815_extra   stage4   150.372099     2.872333   \n",
       "\n",
       "           X_IMAGE       Y_IMAGE  ERRX2_IMAGE  ERRY2_IMAGE   ERRXY_IMAGE  ...  \\\n",
       "0      9200.399414  21737.232422     0.000052     0.000059 -1.043282e-05  ...   \n",
       "1     10047.978516  22713.351562     0.000051     0.000046  1.571297e-06  ...   \n",
       "2     32637.949219  32737.013672     0.000064     0.000104 -2.881107e-06  ...   \n",
       "3     32053.712891  32815.468750     0.000071     0.000086 -6.036952e-06  ...   \n",
       "4     32667.441406  32867.789062     0.000026     0.000020 -1.023530e-05  ...   \n",
       "...            ...           ...          ...          ...           ...  ...   \n",
       "3927  28107.876953  37826.437500     0.000086     0.000104 -9.313976e-07  ...   \n",
       "3928  16320.103516  37787.917969     0.000131     0.000236  7.123858e-05  ...   \n",
       "3929  30540.179688  37782.648438     0.000045     0.000059  1.600747e-05  ...   \n",
       "3930  14702.710938  37956.468750     0.000248     0.000292  7.378556e-06  ...   \n",
       "3931  16584.076172  37955.070312     0.000018     0.000019  5.020723e-06  ...   \n",
       "\n",
       "      ez_ssfr_p025  ez_ssfr_p160  ez_ssfr_p500  ez_ssfr_p840  ez_ssfr_p975  \\\n",
       "0        -8.931825     -8.911355     -8.899668     -8.883307     -8.872990   \n",
       "1        -9.314209     -9.106611     -8.941274     -8.713107     -8.541205   \n",
       "2        -9.794128     -9.784252     -9.766013     -9.743796     -9.727879   \n",
       "3        -9.480532     -9.443615     -9.402433     -9.352081     -9.325659   \n",
       "4        -9.882174     -9.855921     -9.816085     -9.697225     -9.573506   \n",
       "...            ...           ...           ...           ...           ...   \n",
       "3927     -9.441206     -9.279022     -9.095134     -9.003501     -8.955496   \n",
       "3928     -9.857880     -9.658215     -9.485625     -9.235816     -8.971795   \n",
       "3929     -9.525900     -9.472779     -9.353454     -9.273221     -9.213521   \n",
       "3930     -9.556987     -9.385500     -9.154130     -9.026810     -8.938077   \n",
       "3931    -10.793317    -10.749337    -10.671772    -10.571155    -10.450612   \n",
       "\n",
       "      ez_Av_p025  ez_Av_p160  ez_Av_p500  ez_Av_p840  ez_Av_p975  \n",
       "0       0.529107    0.560142    0.599624    0.630920    0.652330  \n",
       "1       0.341270    0.545498    0.732327    0.906665    1.020098  \n",
       "2       0.018737    0.018737    0.018737    0.018737    0.018737  \n",
       "3       0.302629    0.376027    0.440394    0.508153    0.567727  \n",
       "4       0.455258    0.482555    0.522239    0.600383    0.660279  \n",
       "...          ...         ...         ...         ...         ...  \n",
       "3927    0.120441    0.213251    0.306832    0.556012    0.731876  \n",
       "3928    0.162147    0.238640    0.432004    0.592193    0.687256  \n",
       "3929    0.262676    0.355466    0.410356    0.489105    0.566003  \n",
       "3930    0.153294    0.283249    0.436332    0.600615    0.693621  \n",
       "3931    0.541194    0.584935    0.723596    0.791648    0.920438  \n",
       "\n",
       "[3932 rows x 756 columns]"
      ]
     },
     "execution_count": 8,
     "metadata": {},
     "output_type": "execute_result"
    }
   ],
   "source": [
    "df_cat"
   ]
  },
  {
   "cell_type": "code",
   "execution_count": 9,
   "id": "65babb47-1098-40c4-8010-2e2fb31e8b95",
   "metadata": {},
   "outputs": [],
   "source": [
    "df_red_tmp = df_cat.query('ez_sfr < 10')\n",
    "df_red = df_red_tmp.query('lp_mass_best > 6.5')"
   ]
  },
  {
   "cell_type": "code",
   "execution_count": 10,
   "id": "fdb38a12-5cb5-4b18-b4b6-ecab2937a057",
   "metadata": {},
   "outputs": [],
   "source": [
    "def picking_z(ez_z, lp_z):\n",
    "    if np.isnan(ez_z):\n",
    "        if not np.isnan(lp_z):\n",
    "            return lp_z\n",
    "        else:\n",
    "            return np.nan\n",
    "    \n",
    "    if np.isnan(lp_z):\n",
    "        if not np.isnan(ez_z):\n",
    "            return ez_z\n",
    "        else:\n",
    "            return np.nan\n",
    "    \n",
    "    if lp_z < ez_z:\n",
    "        return lp_z\n",
    "    elif ez_z <= lp_z:\n",
    "        return ez_z\n",
    "    else:\n",
    "        return 'what'"
   ]
  },
  {
   "cell_type": "code",
   "execution_count": 11,
   "id": "02259882-1c2c-410c-b79f-46cf2fc252a7",
   "metadata": {},
   "outputs": [],
   "source": [
    "df_z_tmp = (\n",
    "    df_red[['ORyanID_23', 'ID', 'category', 'ALPHA_J2000', 'DELTA_J2000', 'lp_mass_best', 'ez_sfr', 'lp_zBEST', 'ez_z_phot', 'ID_COSMOS2015']]\n",
    "    .assign(redshift = df_red.apply(lambda row: picking_z(row.ez_z_phot, row.lp_zBEST), axis = 1))\n",
    "    .assign(contains_extra = df_red.ORyanID_23.apply(lambda x: 'y' if type(x) == str else 'n'))\n",
    ")\n",
    "df_z = df_z_tmp.query('redshift < 1.2').drop(columns = ['contains_extra'])"
   ]
  },
  {
   "cell_type": "code",
   "execution_count": 12,
   "id": "a513744e-f5a4-4f38-8f38-3212dfca7f2b",
   "metadata": {},
   "outputs": [
    {
     "data": {
      "text/html": [
       "<div>\n",
       "<style scoped>\n",
       "    .dataframe tbody tr th:only-of-type {\n",
       "        vertical-align: middle;\n",
       "    }\n",
       "\n",
       "    .dataframe tbody tr th {\n",
       "        vertical-align: top;\n",
       "    }\n",
       "\n",
       "    .dataframe thead th {\n",
       "        text-align: right;\n",
       "    }\n",
       "</style>\n",
       "<table border=\"1\" class=\"dataframe\">\n",
       "  <thead>\n",
       "    <tr style=\"text-align: right;\">\n",
       "      <th></th>\n",
       "      <th>ORyanID_23</th>\n",
       "      <th>ID</th>\n",
       "      <th>category</th>\n",
       "      <th>ALPHA_J2000</th>\n",
       "      <th>DELTA_J2000</th>\n",
       "      <th>lp_mass_best</th>\n",
       "      <th>ez_sfr</th>\n",
       "      <th>lp_zBEST</th>\n",
       "      <th>ez_z_phot</th>\n",
       "      <th>ID_COSMOS2015</th>\n",
       "      <th>redshift</th>\n",
       "    </tr>\n",
       "  </thead>\n",
       "  <tbody>\n",
       "    <tr>\n",
       "      <th>0</th>\n",
       "      <td>4000705532455</td>\n",
       "      <td>816891</td>\n",
       "      <td>stage4</td>\n",
       "      <td>150.679846</td>\n",
       "      <td>2.196543</td>\n",
       "      <td>9.28590</td>\n",
       "      <td>0.589695</td>\n",
       "      <td>0.5304</td>\n",
       "      <td>0.519525</td>\n",
       "      <td>590539</td>\n",
       "      <td>0.519525</td>\n",
       "    </tr>\n",
       "    <tr>\n",
       "      <th>1</th>\n",
       "      <td>4000705533383</td>\n",
       "      <td>860686</td>\n",
       "      <td>stage3</td>\n",
       "      <td>150.644522</td>\n",
       "      <td>2.237226</td>\n",
       "      <td>10.44862</td>\n",
       "      <td>1.609304</td>\n",
       "      <td>1.1244</td>\n",
       "      <td>1.198015</td>\n",
       "      <td>618751</td>\n",
       "      <td>1.124400</td>\n",
       "    </tr>\n",
       "    <tr>\n",
       "      <th>2</th>\n",
       "      <td>4000705539941</td>\n",
       "      <td>1301188</td>\n",
       "      <td>stage2</td>\n",
       "      <td>149.702462</td>\n",
       "      <td>2.654895</td>\n",
       "      <td>8.72372</td>\n",
       "      <td>-0.987761</td>\n",
       "      <td>NaN</td>\n",
       "      <td>0.230293</td>\n",
       "      <td>893328</td>\n",
       "      <td>0.230293</td>\n",
       "    </tr>\n",
       "    <tr>\n",
       "      <th>3</th>\n",
       "      <td>4000705540034</td>\n",
       "      <td>1304538</td>\n",
       "      <td>stage3</td>\n",
       "      <td>149.726828</td>\n",
       "      <td>2.658172</td>\n",
       "      <td>9.96798</td>\n",
       "      <td>1.101499</td>\n",
       "      <td>NaN</td>\n",
       "      <td>1.024009</td>\n",
       "      <td>895502</td>\n",
       "      <td>1.024009</td>\n",
       "    </tr>\n",
       "    <tr>\n",
       "      <th>4</th>\n",
       "      <td>4000705540064</td>\n",
       "      <td>1310001</td>\n",
       "      <td>stage3</td>\n",
       "      <td>149.701230</td>\n",
       "      <td>2.660343</td>\n",
       "      <td>10.41827</td>\n",
       "      <td>1.083541</td>\n",
       "      <td>0.4864</td>\n",
       "      <td>0.501348</td>\n",
       "      <td>898397</td>\n",
       "      <td>0.486400</td>\n",
       "    </tr>\n",
       "    <tr>\n",
       "      <th>...</th>\n",
       "      <td>...</td>\n",
       "      <td>...</td>\n",
       "      <td>...</td>\n",
       "      <td>...</td>\n",
       "      <td>...</td>\n",
       "      <td>...</td>\n",
       "      <td>...</td>\n",
       "      <td>...</td>\n",
       "      <td>...</td>\n",
       "      <td>...</td>\n",
       "      <td>...</td>\n",
       "    </tr>\n",
       "    <tr>\n",
       "      <th>3927</th>\n",
       "      <td>4001204758614_extra</td>\n",
       "      <td>1520733</td>\n",
       "      <td>stage4</td>\n",
       "      <td>149.891374</td>\n",
       "      <td>2.866981</td>\n",
       "      <td>9.27097</td>\n",
       "      <td>0.369745</td>\n",
       "      <td>NaN</td>\n",
       "      <td>0.484922</td>\n",
       "      <td>1030872</td>\n",
       "      <td>0.484922</td>\n",
       "    </tr>\n",
       "    <tr>\n",
       "      <th>3928</th>\n",
       "      <td>4546055995_extra</td>\n",
       "      <td>1520749</td>\n",
       "      <td>stage2</td>\n",
       "      <td>150.383110</td>\n",
       "      <td>2.865367</td>\n",
       "      <td>9.50357</td>\n",
       "      <td>0.507741</td>\n",
       "      <td>NaN</td>\n",
       "      <td>0.647512</td>\n",
       "      <td>1029954</td>\n",
       "      <td>0.647512</td>\n",
       "    </tr>\n",
       "    <tr>\n",
       "      <th>3929</th>\n",
       "      <td>4000927318133_extra</td>\n",
       "      <td>1523385</td>\n",
       "      <td>stage3</td>\n",
       "      <td>149.789910</td>\n",
       "      <td>2.865132</td>\n",
       "      <td>9.53909</td>\n",
       "      <td>0.406027</td>\n",
       "      <td>NaN</td>\n",
       "      <td>0.301645</td>\n",
       "      <td>1031020</td>\n",
       "      <td>0.301645</td>\n",
       "    </tr>\n",
       "    <tr>\n",
       "      <th>3930</th>\n",
       "      <td>4000747939904_extra</td>\n",
       "      <td>1524909</td>\n",
       "      <td>stage3</td>\n",
       "      <td>150.450581</td>\n",
       "      <td>2.872371</td>\n",
       "      <td>9.76084</td>\n",
       "      <td>0.637714</td>\n",
       "      <td>NaN</td>\n",
       "      <td>0.855695</td>\n",
       "      <td>1034203</td>\n",
       "      <td>0.855695</td>\n",
       "    </tr>\n",
       "    <tr>\n",
       "      <th>3931</th>\n",
       "      <td>4001239405815_extra</td>\n",
       "      <td>1529226</td>\n",
       "      <td>stage4</td>\n",
       "      <td>150.372099</td>\n",
       "      <td>2.872333</td>\n",
       "      <td>11.16721</td>\n",
       "      <td>0.602814</td>\n",
       "      <td>NaN</td>\n",
       "      <td>0.541008</td>\n",
       "      <td>1037414</td>\n",
       "      <td>0.541008</td>\n",
       "    </tr>\n",
       "  </tbody>\n",
       "</table>\n",
       "<p>3911 rows × 11 columns</p>\n",
       "</div>"
      ],
      "text/plain": [
       "               ORyanID_23       ID category  ALPHA_J2000  DELTA_J2000  \\\n",
       "0           4000705532455   816891   stage4   150.679846     2.196543   \n",
       "1           4000705533383   860686   stage3   150.644522     2.237226   \n",
       "2           4000705539941  1301188   stage2   149.702462     2.654895   \n",
       "3           4000705540034  1304538   stage3   149.726828     2.658172   \n",
       "4           4000705540064  1310001   stage3   149.701230     2.660343   \n",
       "...                   ...      ...      ...          ...          ...   \n",
       "3927  4001204758614_extra  1520733   stage4   149.891374     2.866981   \n",
       "3928     4546055995_extra  1520749   stage2   150.383110     2.865367   \n",
       "3929  4000927318133_extra  1523385   stage3   149.789910     2.865132   \n",
       "3930  4000747939904_extra  1524909   stage3   150.450581     2.872371   \n",
       "3931  4001239405815_extra  1529226   stage4   150.372099     2.872333   \n",
       "\n",
       "      lp_mass_best    ez_sfr  lp_zBEST  ez_z_phot  ID_COSMOS2015  redshift  \n",
       "0          9.28590  0.589695    0.5304   0.519525         590539  0.519525  \n",
       "1         10.44862  1.609304    1.1244   1.198015         618751  1.124400  \n",
       "2          8.72372 -0.987761       NaN   0.230293         893328  0.230293  \n",
       "3          9.96798  1.101499       NaN   1.024009         895502  1.024009  \n",
       "4         10.41827  1.083541    0.4864   0.501348         898397  0.486400  \n",
       "...            ...       ...       ...        ...            ...       ...  \n",
       "3927       9.27097  0.369745       NaN   0.484922        1030872  0.484922  \n",
       "3928       9.50357  0.507741       NaN   0.647512        1029954  0.647512  \n",
       "3929       9.53909  0.406027       NaN   0.301645        1031020  0.301645  \n",
       "3930       9.76084  0.637714       NaN   0.855695        1034203  0.855695  \n",
       "3931      11.16721  0.602814       NaN   0.541008        1037414  0.541008  \n",
       "\n",
       "[3911 rows x 11 columns]"
      ]
     },
     "execution_count": 12,
     "metadata": {},
     "output_type": "execute_result"
    }
   ],
   "source": [
    "df_z"
   ]
  },
  {
   "cell_type": "markdown",
   "id": "1caef339-0185-4a4f-b5be-525c6389a197",
   "metadata": {
    "tags": []
   },
   "source": [
    "### Cross Matching with AGN Catalogues"
   ]
  },
  {
   "cell_type": "code",
   "execution_count": 13,
   "id": "d07e2dd8",
   "metadata": {},
   "outputs": [],
   "source": [
    "df_coords = (\n",
    "    df_z[['ID', 'ALPHA_J2000', 'DELTA_J2000']]\n",
    "    .rename(columns = {'ALPHA_J2000':'RA','DELTA_J2000':'DEC'})\n",
    "    .set_index('ID')\n",
    ")"
   ]
  },
  {
   "cell_type": "code",
   "execution_count": 14,
   "id": "02baf88a-aea3-4904-85c9-a2ab9bc52e31",
   "metadata": {},
   "outputs": [],
   "source": [
    "coords_dict = df_coords.to_dict(orient='index')"
   ]
  },
  {
   "cell_type": "code",
   "execution_count": 15,
   "id": "7acd3a04-b137-4712-9390-4c23e4d1aa5e",
   "metadata": {},
   "outputs": [],
   "source": [
    "with fits.open(f'{cos_dat_fold}/VLA_3GHz_counterpart_array_20170210_paper_smolcic_et_al.fits') as hdul:\n",
    "    smol_rec = hdul[1].data"
   ]
  },
  {
   "cell_type": "code",
   "execution_count": 16,
   "id": "8ac175b7-f0a4-4f07-8036-9925c2689e36",
   "metadata": {},
   "outputs": [
    {
     "data": {
      "text/plain": [
       "['ID_VLA',\n",
       " 'RA_VLA_J2000',\n",
       " 'DEC_VLA_J2000',\n",
       " 'MULTI',\n",
       " 'CAT_CPT',\n",
       " 'ID_CPT',\n",
       " 'RA_CPT_J2000',\n",
       " 'DEC_CPT_J2000',\n",
       " 'SEP_VLA_CPT',\n",
       " 'P_FALSE',\n",
       " 'Z_BEST',\n",
       " 'FLUX_INT_3GHz',\n",
       " 'Lradio_10cm',\n",
       " 'Lradio_21cm',\n",
       " 'L_TIR_SF',\n",
       " 'SFR_KENN98',\n",
       " 'Xray_AGN',\n",
       " 'MIR_AGN',\n",
       " 'SED_AGN',\n",
       " 'Quiescent_MLAGN',\n",
       " 'SFG',\n",
       " 'Clean_SFG',\n",
       " 'HLAGN',\n",
       " 'MLAGN',\n",
       " 'Radio_excess',\n",
       " 'flag_COSMOS2015']"
      ]
     },
     "execution_count": 16,
     "metadata": {},
     "output_type": "execute_result"
    }
   ],
   "source": [
    "smol_rec.names"
   ]
  },
  {
   "cell_type": "code",
   "execution_count": 17,
   "id": "b4a3840a-7191-4952-a67f-54d689836824",
   "metadata": {},
   "outputs": [],
   "source": [
    "smol_df = Table(smol_rec).to_pandas().query('CAT_CPT == \"COSMOS2015     \"')"
   ]
  },
  {
   "cell_type": "code",
   "execution_count": 18,
   "id": "8e83792d-7de0-4063-a08e-7fb0a94ac370",
   "metadata": {},
   "outputs": [
    {
     "data": {
      "text/plain": [
       "0     7729\n",
       "4        6\n",
       "5        2\n",
       "11       1\n",
       "1        1\n",
       "3        1\n",
       "8        1\n",
       "7        1\n",
       "Name: flag_COSMOS2015, dtype: int64"
      ]
     },
     "execution_count": 18,
     "metadata": {},
     "output_type": "execute_result"
    }
   ],
   "source": [
    "smol_df.flag_COSMOS2015.value_counts()"
   ]
  },
  {
   "cell_type": "code",
   "execution_count": 19,
   "id": "61cf421c-0c65-4734-8067-17f27eb9b3bb",
   "metadata": {},
   "outputs": [],
   "source": [
    "def getting_smol_info(clsfs_nostrip, flag):\n",
    "            \n",
    "    if flag != 0:\n",
    "        return 'no_COSMOS'\n",
    "    \n",
    "    clsfs = []\n",
    "    for j in clsfs_nostrip:\n",
    "        clsfs.append(j.strip())\n",
    "    \n",
    "    if clsfs[0] == 'true':\n",
    "        return 'AGN'\n",
    "    elif clsfs[1] == 'true':\n",
    "        return 'AGN'\n",
    "    elif clsfs[2] == 'true':\n",
    "        return 'AGN'\n",
    "    elif clsfs[3] == 'true':\n",
    "        return 'AGN'\n",
    "    elif clsfs[4] == 'true':\n",
    "        return 'SFG'\n",
    "    elif clsfs[5] == 'true':\n",
    "        return 'SFG'\n",
    "    elif clsfs[6] == 'true':\n",
    "        return 'AGN'\n",
    "    elif clsfs[7] == 'true':\n",
    "        return 'AGN'\n",
    "    elif clsfs[8] == 'true':\n",
    "        return 'AGN'\n",
    "    else:\n",
    "        return 'unknown'"
   ]
  },
  {
   "cell_type": "code",
   "execution_count": 20,
   "id": "bbdab8ce-036f-4fee-bf75-fa4b59c85ee7",
   "metadata": {},
   "outputs": [
    {
     "name": "stderr",
     "output_type": "stream",
     "text": [
      "100%|██████████| 7742/7742 [00:00<00:00, 15020.90it/s]\n"
     ]
    }
   ],
   "source": [
    "smol_clsf = (\n",
    "    smol_df.assign(gal_clsf = smol_df.progress_apply(lambda row: getting_smol_info(\n",
    "        [\n",
    "            row.Xray_AGN, \n",
    "            row.MIR_AGN, \n",
    "            row.SED_AGN, \n",
    "            row.Quiescent_MLAGN, \n",
    "            row.SFG, \n",
    "            row.Clean_SFG,\n",
    "            row.HLAGN,\n",
    "            row.MLAGN,\n",
    "            row.Radio_excess\n",
    "        ], \n",
    "        row.flag_COSMOS2015), axis = 1)\n",
    "                  )\n",
    ")"
   ]
  },
  {
   "cell_type": "code",
   "execution_count": 21,
   "id": "3ecbc9d7-c3e4-480f-8c28-ef561f0f95e8",
   "metadata": {},
   "outputs": [
    {
     "data": {
      "text/plain": [
       "SFG          5334\n",
       "AGN          2395\n",
       "no_COSMOS      13\n",
       "Name: gal_clsf, dtype: int64"
      ]
     },
     "execution_count": 21,
     "metadata": {},
     "output_type": "execute_result"
    }
   ],
   "source": [
    "smol_clsf.gal_clsf.value_counts()"
   ]
  },
  {
   "cell_type": "markdown",
   "id": "3e379851-0041-43e3-9cc5-c10bd660c65a",
   "metadata": {},
   "source": [
    "ID_COSMOS2015"
   ]
  },
  {
   "cell_type": "code",
   "execution_count": 22,
   "id": "b4855dcd-d308-4762-8812-d23dae82efc4",
   "metadata": {},
   "outputs": [
    {
     "data": {
      "text/html": [
       "<div>\n",
       "<style scoped>\n",
       "    .dataframe tbody tr th:only-of-type {\n",
       "        vertical-align: middle;\n",
       "    }\n",
       "\n",
       "    .dataframe tbody tr th {\n",
       "        vertical-align: top;\n",
       "    }\n",
       "\n",
       "    .dataframe thead th {\n",
       "        text-align: right;\n",
       "    }\n",
       "</style>\n",
       "<table border=\"1\" class=\"dataframe\">\n",
       "  <thead>\n",
       "    <tr style=\"text-align: right;\">\n",
       "      <th></th>\n",
       "      <th>ID_VLA</th>\n",
       "      <th>RA_VLA_J2000</th>\n",
       "      <th>DEC_VLA_J2000</th>\n",
       "      <th>MULTI</th>\n",
       "      <th>CAT_CPT</th>\n",
       "      <th>ID_CPT</th>\n",
       "      <th>RA_CPT_J2000</th>\n",
       "      <th>DEC_CPT_J2000</th>\n",
       "      <th>SEP_VLA_CPT</th>\n",
       "      <th>P_FALSE</th>\n",
       "      <th>...</th>\n",
       "      <th>MIR_AGN</th>\n",
       "      <th>SED_AGN</th>\n",
       "      <th>Quiescent_MLAGN</th>\n",
       "      <th>SFG</th>\n",
       "      <th>Clean_SFG</th>\n",
       "      <th>HLAGN</th>\n",
       "      <th>MLAGN</th>\n",
       "      <th>Radio_excess</th>\n",
       "      <th>flag_COSMOS2015</th>\n",
       "      <th>gal_clsf</th>\n",
       "    </tr>\n",
       "  </thead>\n",
       "  <tbody>\n",
       "    <tr>\n",
       "      <th>0</th>\n",
       "      <td>1</td>\n",
       "      <td>149.647714</td>\n",
       "      <td>2.095465</td>\n",
       "      <td>0</td>\n",
       "      <td>COSMOS2015</td>\n",
       "      <td>522583</td>\n",
       "      <td>149.647721</td>\n",
       "      <td>2.095436</td>\n",
       "      <td>0.1080</td>\n",
       "      <td>0.0017</td>\n",
       "      <td>...</td>\n",
       "      <td>false</td>\n",
       "      <td>false</td>\n",
       "      <td>true</td>\n",
       "      <td>false</td>\n",
       "      <td>false</td>\n",
       "      <td>false</td>\n",
       "      <td>true</td>\n",
       "      <td>true</td>\n",
       "      <td>0</td>\n",
       "      <td>AGN</td>\n",
       "    </tr>\n",
       "    <tr>\n",
       "      <th>2</th>\n",
       "      <td>3</td>\n",
       "      <td>150.333603</td>\n",
       "      <td>2.578800</td>\n",
       "      <td>0</td>\n",
       "      <td>COSMOS2015</td>\n",
       "      <td>842703</td>\n",
       "      <td>150.333568</td>\n",
       "      <td>2.578822</td>\n",
       "      <td>0.1467</td>\n",
       "      <td>0.0182</td>\n",
       "      <td>...</td>\n",
       "      <td>true</td>\n",
       "      <td>true</td>\n",
       "      <td>false</td>\n",
       "      <td>false</td>\n",
       "      <td>false</td>\n",
       "      <td>true</td>\n",
       "      <td>false</td>\n",
       "      <td>true</td>\n",
       "      <td>0</td>\n",
       "      <td>AGN</td>\n",
       "    </tr>\n",
       "    <tr>\n",
       "      <th>3</th>\n",
       "      <td>5</td>\n",
       "      <td>150.720353</td>\n",
       "      <td>1.930465</td>\n",
       "      <td>0</td>\n",
       "      <td>COSMOS2015</td>\n",
       "      <td>418696</td>\n",
       "      <td>150.720380</td>\n",
       "      <td>1.930472</td>\n",
       "      <td>0.0981</td>\n",
       "      <td>0.0037</td>\n",
       "      <td>...</td>\n",
       "      <td>false</td>\n",
       "      <td>false</td>\n",
       "      <td>true</td>\n",
       "      <td>false</td>\n",
       "      <td>false</td>\n",
       "      <td>false</td>\n",
       "      <td>true</td>\n",
       "      <td>true</td>\n",
       "      <td>0</td>\n",
       "      <td>AGN</td>\n",
       "    </tr>\n",
       "    <tr>\n",
       "      <th>4</th>\n",
       "      <td>6</td>\n",
       "      <td>150.474055</td>\n",
       "      <td>2.831667</td>\n",
       "      <td>0</td>\n",
       "      <td>COSMOS2015</td>\n",
       "      <td>1005059</td>\n",
       "      <td>150.474047</td>\n",
       "      <td>2.831703</td>\n",
       "      <td>0.1340</td>\n",
       "      <td>0.0010</td>\n",
       "      <td>...</td>\n",
       "      <td>false</td>\n",
       "      <td>false</td>\n",
       "      <td>false</td>\n",
       "      <td>false</td>\n",
       "      <td>false</td>\n",
       "      <td>true</td>\n",
       "      <td>false</td>\n",
       "      <td>true</td>\n",
       "      <td>0</td>\n",
       "      <td>AGN</td>\n",
       "    </tr>\n",
       "    <tr>\n",
       "      <th>6</th>\n",
       "      <td>8</td>\n",
       "      <td>150.002560</td>\n",
       "      <td>2.258629</td>\n",
       "      <td>0</td>\n",
       "      <td>COSMOS2015</td>\n",
       "      <td>631339</td>\n",
       "      <td>150.002553</td>\n",
       "      <td>2.258631</td>\n",
       "      <td>0.0236</td>\n",
       "      <td>0.0040</td>\n",
       "      <td>...</td>\n",
       "      <td>true</td>\n",
       "      <td>true</td>\n",
       "      <td>false</td>\n",
       "      <td>false</td>\n",
       "      <td>false</td>\n",
       "      <td>true</td>\n",
       "      <td>false</td>\n",
       "      <td>true</td>\n",
       "      <td>0</td>\n",
       "      <td>AGN</td>\n",
       "    </tr>\n",
       "    <tr>\n",
       "      <th>...</th>\n",
       "      <td>...</td>\n",
       "      <td>...</td>\n",
       "      <td>...</td>\n",
       "      <td>...</td>\n",
       "      <td>...</td>\n",
       "      <td>...</td>\n",
       "      <td>...</td>\n",
       "      <td>...</td>\n",
       "      <td>...</td>\n",
       "      <td>...</td>\n",
       "      <td>...</td>\n",
       "      <td>...</td>\n",
       "      <td>...</td>\n",
       "      <td>...</td>\n",
       "      <td>...</td>\n",
       "      <td>...</td>\n",
       "      <td>...</td>\n",
       "      <td>...</td>\n",
       "      <td>...</td>\n",
       "      <td>...</td>\n",
       "      <td>...</td>\n",
       "    </tr>\n",
       "    <tr>\n",
       "      <th>9156</th>\n",
       "      <td>10962</td>\n",
       "      <td>150.713272</td>\n",
       "      <td>2.713353</td>\n",
       "      <td>1</td>\n",
       "      <td>COSMOS2015</td>\n",
       "      <td>931677</td>\n",
       "      <td>150.713241</td>\n",
       "      <td>2.713342</td>\n",
       "      <td>0.1179</td>\n",
       "      <td>-1.0000</td>\n",
       "      <td>...</td>\n",
       "      <td>false</td>\n",
       "      <td>true</td>\n",
       "      <td>false</td>\n",
       "      <td>false</td>\n",
       "      <td>false</td>\n",
       "      <td>true</td>\n",
       "      <td>false</td>\n",
       "      <td>true</td>\n",
       "      <td>0</td>\n",
       "      <td>AGN</td>\n",
       "    </tr>\n",
       "    <tr>\n",
       "      <th>9157</th>\n",
       "      <td>10963</td>\n",
       "      <td>150.037180</td>\n",
       "      <td>2.669570</td>\n",
       "      <td>1</td>\n",
       "      <td>COSMOS2015</td>\n",
       "      <td>902320</td>\n",
       "      <td>150.037263</td>\n",
       "      <td>2.669598</td>\n",
       "      <td>0.3151</td>\n",
       "      <td>-1.0000</td>\n",
       "      <td>...</td>\n",
       "      <td>false</td>\n",
       "      <td>false</td>\n",
       "      <td>false</td>\n",
       "      <td>true</td>\n",
       "      <td>true</td>\n",
       "      <td>false</td>\n",
       "      <td>false</td>\n",
       "      <td>false</td>\n",
       "      <td>0</td>\n",
       "      <td>SFG</td>\n",
       "    </tr>\n",
       "    <tr>\n",
       "      <th>9158</th>\n",
       "      <td>10964</td>\n",
       "      <td>150.547031</td>\n",
       "      <td>1.618578</td>\n",
       "      <td>1</td>\n",
       "      <td>COSMOS2015</td>\n",
       "      <td>223951</td>\n",
       "      <td>150.546984</td>\n",
       "      <td>1.618482</td>\n",
       "      <td>0.3848</td>\n",
       "      <td>-1.0000</td>\n",
       "      <td>...</td>\n",
       "      <td>true</td>\n",
       "      <td>true</td>\n",
       "      <td>false</td>\n",
       "      <td>false</td>\n",
       "      <td>false</td>\n",
       "      <td>true</td>\n",
       "      <td>false</td>\n",
       "      <td>false</td>\n",
       "      <td>0</td>\n",
       "      <td>AGN</td>\n",
       "    </tr>\n",
       "    <tr>\n",
       "      <th>9159</th>\n",
       "      <td>10965</td>\n",
       "      <td>150.188705</td>\n",
       "      <td>1.646525</td>\n",
       "      <td>1</td>\n",
       "      <td>COSMOS2015</td>\n",
       "      <td>234240</td>\n",
       "      <td>150.188770</td>\n",
       "      <td>1.646547</td>\n",
       "      <td>0.2482</td>\n",
       "      <td>-1.0000</td>\n",
       "      <td>...</td>\n",
       "      <td>false</td>\n",
       "      <td>false</td>\n",
       "      <td>false</td>\n",
       "      <td>true</td>\n",
       "      <td>true</td>\n",
       "      <td>false</td>\n",
       "      <td>false</td>\n",
       "      <td>false</td>\n",
       "      <td>0</td>\n",
       "      <td>SFG</td>\n",
       "    </tr>\n",
       "    <tr>\n",
       "      <th>9160</th>\n",
       "      <td>10966</td>\n",
       "      <td>150.278061</td>\n",
       "      <td>1.555656</td>\n",
       "      <td>1</td>\n",
       "      <td>COSMOS2015</td>\n",
       "      <td>182559</td>\n",
       "      <td>150.278073</td>\n",
       "      <td>1.555581</td>\n",
       "      <td>0.2749</td>\n",
       "      <td>-1.0000</td>\n",
       "      <td>...</td>\n",
       "      <td>false</td>\n",
       "      <td>false</td>\n",
       "      <td>true</td>\n",
       "      <td>false</td>\n",
       "      <td>false</td>\n",
       "      <td>false</td>\n",
       "      <td>true</td>\n",
       "      <td>true</td>\n",
       "      <td>7</td>\n",
       "      <td>no_COSMOS</td>\n",
       "    </tr>\n",
       "  </tbody>\n",
       "</table>\n",
       "<p>7742 rows × 27 columns</p>\n",
       "</div>"
      ],
      "text/plain": [
       "      ID_VLA  RA_VLA_J2000  DEC_VLA_J2000  MULTI          CAT_CPT   ID_CPT  \\\n",
       "0          1    149.647714       2.095465      0  COSMOS2015        522583   \n",
       "2          3    150.333603       2.578800      0  COSMOS2015        842703   \n",
       "3          5    150.720353       1.930465      0  COSMOS2015        418696   \n",
       "4          6    150.474055       2.831667      0  COSMOS2015       1005059   \n",
       "6          8    150.002560       2.258629      0  COSMOS2015        631339   \n",
       "...      ...           ...            ...    ...              ...      ...   \n",
       "9156   10962    150.713272       2.713353      1  COSMOS2015        931677   \n",
       "9157   10963    150.037180       2.669570      1  COSMOS2015        902320   \n",
       "9158   10964    150.547031       1.618578      1  COSMOS2015        223951   \n",
       "9159   10965    150.188705       1.646525      1  COSMOS2015        234240   \n",
       "9160   10966    150.278061       1.555656      1  COSMOS2015        182559   \n",
       "\n",
       "      RA_CPT_J2000  DEC_CPT_J2000  SEP_VLA_CPT  P_FALSE  ...       MIR_AGN  \\\n",
       "0       149.647721       2.095436       0.1080   0.0017  ...  false          \n",
       "2       150.333568       2.578822       0.1467   0.0182  ...  true           \n",
       "3       150.720380       1.930472       0.0981   0.0037  ...  false          \n",
       "4       150.474047       2.831703       0.1340   0.0010  ...  false          \n",
       "6       150.002553       2.258631       0.0236   0.0040  ...  true           \n",
       "...            ...            ...          ...      ...  ...           ...   \n",
       "9156    150.713241       2.713342       0.1179  -1.0000  ...  false          \n",
       "9157    150.037263       2.669598       0.3151  -1.0000  ...  false          \n",
       "9158    150.546984       1.618482       0.3848  -1.0000  ...  true           \n",
       "9159    150.188770       1.646547       0.2482  -1.0000  ...  false          \n",
       "9160    150.278073       1.555581       0.2749  -1.0000  ...  false          \n",
       "\n",
       "           SED_AGN       Quiescent_MLAGN         SFG       Clean_SFG  \\\n",
       "0     false         true                  false       false            \n",
       "2     true          false                 false       false            \n",
       "3     false         true                  false       false            \n",
       "4     false         false                 false       false            \n",
       "6     true          false                 false       false            \n",
       "...            ...                   ...         ...             ...   \n",
       "9156  true          false                 false       false            \n",
       "9157  false         false                 true        true             \n",
       "9158  true          false                 false       false            \n",
       "9159  false         false                 true        true             \n",
       "9160  false         true                  false       false            \n",
       "\n",
       "           HLAGN       MLAGN       Radio_excess flag_COSMOS2015   gal_clsf  \n",
       "0     false       true        true                            0        AGN  \n",
       "2     true        false       true                            0        AGN  \n",
       "3     false       true        true                            0        AGN  \n",
       "4     true        false       true                            0        AGN  \n",
       "6     true        false       true                            0        AGN  \n",
       "...          ...         ...                ...             ...        ...  \n",
       "9156  true        false       true                            0        AGN  \n",
       "9157  false       false       false                           0        SFG  \n",
       "9158  true        false       false                           0        AGN  \n",
       "9159  false       false       false                           0        SFG  \n",
       "9160  false       true        true                            7  no_COSMOS  \n",
       "\n",
       "[7742 rows x 27 columns]"
      ]
     },
     "execution_count": 22,
     "metadata": {},
     "output_type": "execute_result"
    }
   ],
   "source": [
    "smol_clsf"
   ]
  },
  {
   "cell_type": "code",
   "execution_count": 23,
   "id": "eccfc6b8-e17c-4762-946b-2074442fbca9",
   "metadata": {},
   "outputs": [],
   "source": [
    "smol_red = smol_clsf[['ID_CPT', 'gal_clsf']].rename(columns = {'ID_CPT' : 'ID_COSMOS2015'})"
   ]
  },
  {
   "cell_type": "code",
   "execution_count": 24,
   "id": "0477d68f-1777-49ac-8a8a-02c57c7b7ff4",
   "metadata": {},
   "outputs": [
    {
     "data": {
      "text/plain": [
       "522583    1\n",
       "977231    1\n",
       "267189    1\n",
       "287995    1\n",
       "987949    1\n",
       "         ..\n",
       "699146    1\n",
       "520863    1\n",
       "754205    1\n",
       "891663    1\n",
       "182559    1\n",
       "Name: ID_COSMOS2015, Length: 7742, dtype: int64"
      ]
     },
     "execution_count": 24,
     "metadata": {},
     "output_type": "execute_result"
    }
   ],
   "source": [
    "smol_red.ID_COSMOS2015.value_counts()"
   ]
  },
  {
   "cell_type": "code",
   "execution_count": 25,
   "id": "e027948a-6223-4b5f-94bc-e8f559990d4c",
   "metadata": {},
   "outputs": [],
   "source": [
    "df_cols = df_z[['ORyanID_23', 'ID', 'category', 'lp_mass_best', 'ez_sfr', 'lp_zBEST', 'ez_z_phot', 'ID_COSMOS2015']].rename(columns = {'ID' : 'ID_2020'})"
   ]
  },
  {
   "cell_type": "code",
   "execution_count": 26,
   "id": "75ca61bf-b507-442e-8c77-ab843cafd210",
   "metadata": {},
   "outputs": [
    {
     "data": {
      "text/html": [
       "<div>\n",
       "<style scoped>\n",
       "    .dataframe tbody tr th:only-of-type {\n",
       "        vertical-align: middle;\n",
       "    }\n",
       "\n",
       "    .dataframe tbody tr th {\n",
       "        vertical-align: top;\n",
       "    }\n",
       "\n",
       "    .dataframe thead th {\n",
       "        text-align: right;\n",
       "    }\n",
       "</style>\n",
       "<table border=\"1\" class=\"dataframe\">\n",
       "  <thead>\n",
       "    <tr style=\"text-align: right;\">\n",
       "      <th></th>\n",
       "      <th>ID_COSMOS2015</th>\n",
       "      <th>gal_clsf</th>\n",
       "    </tr>\n",
       "  </thead>\n",
       "  <tbody>\n",
       "    <tr>\n",
       "      <th>0</th>\n",
       "      <td>522583</td>\n",
       "      <td>AGN</td>\n",
       "    </tr>\n",
       "    <tr>\n",
       "      <th>2</th>\n",
       "      <td>842703</td>\n",
       "      <td>AGN</td>\n",
       "    </tr>\n",
       "    <tr>\n",
       "      <th>3</th>\n",
       "      <td>418696</td>\n",
       "      <td>AGN</td>\n",
       "    </tr>\n",
       "    <tr>\n",
       "      <th>4</th>\n",
       "      <td>1005059</td>\n",
       "      <td>AGN</td>\n",
       "    </tr>\n",
       "    <tr>\n",
       "      <th>6</th>\n",
       "      <td>631339</td>\n",
       "      <td>AGN</td>\n",
       "    </tr>\n",
       "    <tr>\n",
       "      <th>...</th>\n",
       "      <td>...</td>\n",
       "      <td>...</td>\n",
       "    </tr>\n",
       "    <tr>\n",
       "      <th>9156</th>\n",
       "      <td>931677</td>\n",
       "      <td>AGN</td>\n",
       "    </tr>\n",
       "    <tr>\n",
       "      <th>9157</th>\n",
       "      <td>902320</td>\n",
       "      <td>SFG</td>\n",
       "    </tr>\n",
       "    <tr>\n",
       "      <th>9158</th>\n",
       "      <td>223951</td>\n",
       "      <td>AGN</td>\n",
       "    </tr>\n",
       "    <tr>\n",
       "      <th>9159</th>\n",
       "      <td>234240</td>\n",
       "      <td>SFG</td>\n",
       "    </tr>\n",
       "    <tr>\n",
       "      <th>9160</th>\n",
       "      <td>182559</td>\n",
       "      <td>no_COSMOS</td>\n",
       "    </tr>\n",
       "  </tbody>\n",
       "</table>\n",
       "<p>7742 rows × 2 columns</p>\n",
       "</div>"
      ],
      "text/plain": [
       "      ID_COSMOS2015   gal_clsf\n",
       "0            522583        AGN\n",
       "2            842703        AGN\n",
       "3            418696        AGN\n",
       "4           1005059        AGN\n",
       "6            631339        AGN\n",
       "...             ...        ...\n",
       "9156         931677        AGN\n",
       "9157         902320        SFG\n",
       "9158         223951        AGN\n",
       "9159         234240        SFG\n",
       "9160         182559  no_COSMOS\n",
       "\n",
       "[7742 rows x 2 columns]"
      ]
     },
     "execution_count": 26,
     "metadata": {},
     "output_type": "execute_result"
    }
   ],
   "source": [
    "smol_red"
   ]
  },
  {
   "cell_type": "code",
   "execution_count": 27,
   "id": "7a52b5c7-e32f-41d6-9332-343034a0b831",
   "metadata": {},
   "outputs": [],
   "source": [
    "# Function that selects the closest object in the MPA_JHU as the galaxy of interest.\n",
    "def get_correct_smolcic_id(ra, dec, tab):\n",
    "    cosmos_coord = SkyCoord(ra = ra * u.deg, dec = dec * u.deg, frame = 'fk5')\n",
    "    \n",
    "    mpa_coords = SkyCoord(ra = tab['RA_VLA_J2000'] * u.deg, dec = tab['DEC_VLA_J2000'] * u.deg, frame = 'fk5')\n",
    "    \n",
    "    seps = list(abs((cosmos_coord.separation(mpa_coords)).to(u.arcsec) / u.arcsec))\n",
    "    \n",
    "    min_ind = seps.index(min(seps))\n",
    "    \n",
    "    return {'smol_ID' : int(tab['ID_VLA'][min_ind]), 'RA' : tab[min_ind]['RA_VLA_J2000'], 'Dec' : tab[min_ind]['DEC_VLA_J2000']}"
   ]
  },
  {
   "cell_type": "code",
   "execution_count": 28,
   "id": "0513a112-110f-4065-81e6-a8c1005f4084",
   "metadata": {},
   "outputs": [],
   "source": [
    "def matching_smolcic_ids(ra, dec, smol_rec):\n",
    "    arcsec_sep_deg = 2 / (60 * 60)\n",
    "    \n",
    "    matching_tab = smol_rec[(smol_rec['RA_VLA_J2000'] > ra - arcsec_sep_deg) & (smol_rec['RA_VLA_J2000'] < ra + arcsec_sep_deg) & (smol_rec['DEC_VLA_J2000'] > dec - arcsec_sep_deg) & (smol_rec['DEC_VLA_J2000'] < dec + arcsec_sep_deg)]\n",
    "    if len(matching_tab) < 0.5:\n",
    "        return {'smol_ID' : np.nan, 'RA' : np.nan, 'Dec' : np.nan}\n",
    "    elif len(matching_tab) == 1:\n",
    "        return {'smol_ID' : int(matching_tab['ID_VLA'][0]), 'RA' : matching_tab['RA_VLA_J2000'][0], 'Dec' : matching_tab['DEC_VLA_J2000'][0]}\n",
    "    elif len(matching_tab) > 1:\n",
    "        return get_correct_smolcic_id(ra, dec, matching_tab)\n",
    "    else:\n",
    "        print('Somethings gone very wrong!!')\n",
    "        sys.exit()"
   ]
  },
  {
   "cell_type": "code",
   "execution_count": 29,
   "id": "4fd263fa-f5e6-4023-bf82-1953aeb41d5a",
   "metadata": {},
   "outputs": [],
   "source": [
    "smolcic_matched_dict = {}"
   ]
  },
  {
   "cell_type": "code",
   "execution_count": 30,
   "id": "10fcea53-a14c-406b-9c64-5089c0056b45",
   "metadata": {},
   "outputs": [
    {
     "name": "stderr",
     "output_type": "stream",
     "text": [
      "100%|██████████| 3911/3911 [00:21<00:00, 181.77it/s]\n"
     ]
    }
   ],
   "source": [
    "done_ids = list(smolcic_matched_dict.keys())\n",
    "for i in tqdm(list(coords_dict.keys())):\n",
    "    if i in done_ids:\n",
    "        continue\n",
    "    \n",
    "    smolcic_matched_dict[i] = matching_smolcic_ids(coords_dict[i]['RA'], coords_dict[i]['DEC'], smol_rec)"
   ]
  },
  {
   "cell_type": "code",
   "execution_count": 31,
   "id": "c5aed097-28ca-4650-b2d8-85dbe2af5d74",
   "metadata": {},
   "outputs": [],
   "source": [
    "smolcic_id_df = pd.DataFrame.from_dict(smolcic_matched_dict, orient = 'index').dropna().reset_index().rename(columns = {'index':'ID'})"
   ]
  },
  {
   "cell_type": "code",
   "execution_count": 32,
   "id": "2a9b815b-7c66-4b5f-87b5-c7ceee7a679a",
   "metadata": {},
   "outputs": [],
   "source": [
    "smolcic_dedup = smolcic_id_df.drop_duplicates('smol_ID', keep = 'first')"
   ]
  },
  {
   "cell_type": "code",
   "execution_count": 33,
   "id": "558745bb-c70b-45f6-aaed-e84fb87f342f",
   "metadata": {},
   "outputs": [],
   "source": [
    "def getting_smol_info(smol_id, smol_rec):\n",
    "    row = smol_rec[smol_rec['ID_VLA'] == smol_id]\n",
    "    clsfs = [row['SFG'][0], row['Clean_SFG'][0], row['Radio_excess'][0]]\n",
    "    \n",
    "    if clsfs[0] == 'true' and clsfs[1] == 'true':\n",
    "        return 'SFG'\n",
    "    elif clsfs[0] == 'false' and clsfs[1] == 'false':\n",
    "        return 'AGN'\n",
    "    elif clsfs[0] == 'true' and clsfs[1] == 'false':\n",
    "        return 'SFG'\n",
    "    elif clsfs[0] == 'false' and clsfs[1] == 'true':\n",
    "        print('Something wrong: 1')\n",
    "        sys.exit()\n",
    "    elif clsfs[3] == 'true':\n",
    "        return 'AGN'"
   ]
  },
  {
   "cell_type": "code",
   "execution_count": 34,
   "id": "0bbb798e-8598-472b-83c7-a73591babe6b",
   "metadata": {},
   "outputs": [
    {
     "name": "stderr",
     "output_type": "stream",
     "text": [
      "100%|██████████| 433/433 [00:02<00:00, 198.99it/s]\n"
     ]
    }
   ],
   "source": [
    "smolcic_clsf = (\n",
    "    smolcic_dedup\n",
    "    .assign(smolcic_clsf = smolcic_dedup.smol_ID.progress_apply(lambda x: getting_smol_info(x, smol_rec)))\n",
    ")"
   ]
  },
  {
   "cell_type": "code",
   "execution_count": 35,
   "id": "4751d273-5a8b-4eb9-88df-769d86455399",
   "metadata": {},
   "outputs": [],
   "source": [
    "smolcic_clsf_red = smolcic_clsf[['ID', 'smolcic_clsf']]"
   ]
  },
  {
   "cell_type": "code",
   "execution_count": 36,
   "id": "87b4c72f-4989-4ca1-b6f3-703983f21f04",
   "metadata": {},
   "outputs": [],
   "source": [
    "df_merge = (\n",
    "    df_z[['ORyanID_23', 'ID', 'category', 'lp_mass_best', 'ez_sfr', 'lp_zBEST', 'ez_z_phot', 'ID_COSMOS2015']]\n",
    "    .merge(smolcic_clsf_red, on = 'ID', how = 'left')\n",
    ")"
   ]
  },
  {
   "cell_type": "code",
   "execution_count": 37,
   "id": "d99f420d-47b1-47d6-ae61-670ee47f1442",
   "metadata": {},
   "outputs": [],
   "source": [
    "df_reclsf = (\n",
    "    df_merge\n",
    "    .assign(agn_clsf = df_merge.smolcic_clsf.apply(lambda x: x if type(x) == str else 'SFG'))\n",
    "    .drop(columns = ['smolcic_clsf'])\n",
    ")"
   ]
  },
  {
   "cell_type": "code",
   "execution_count": 38,
   "id": "01c953e8-c2ae-40a2-b979-c862a8776b54",
   "metadata": {},
   "outputs": [],
   "source": [
    "df_s1 = df_reclsf.query(f'category == \"stage1\"')\n",
    "df_s2 = df_reclsf.query(f'category == \"stage2\"')\n",
    "df_s3 = df_reclsf.query(f'category == \"stage3\"')\n",
    "df_s4 = df_reclsf.query(f'category == \"stage4\"')"
   ]
  },
  {
   "cell_type": "code",
   "execution_count": 39,
   "id": "fdaedf8f-0de4-4619-9c23-7d2102741057",
   "metadata": {},
   "outputs": [
    {
     "data": {
      "text/plain": [
       "SFG    3800\n",
       "AGN     111\n",
       "Name: agn_clsf, dtype: int64"
      ]
     },
     "execution_count": 39,
     "metadata": {},
     "output_type": "execute_result"
    }
   ],
   "source": [
    "df_reclsf.agn_clsf.value_counts()"
   ]
  },
  {
   "cell_type": "code",
   "execution_count": 40,
   "id": "2ec6ff47-22e8-489c-9f8a-ee5b54af6c05",
   "metadata": {},
   "outputs": [
    {
     "data": {
      "text/plain": [
       "SFG    766\n",
       "AGN     34\n",
       "Name: agn_clsf, dtype: int64"
      ]
     },
     "execution_count": 40,
     "metadata": {},
     "output_type": "execute_result"
    }
   ],
   "source": [
    "df_s1.agn_clsf.value_counts()"
   ]
  },
  {
   "cell_type": "code",
   "execution_count": 41,
   "id": "a5b4da3f-2d40-4180-a682-2cdd51ea4f96",
   "metadata": {},
   "outputs": [
    {
     "data": {
      "text/plain": [
       "SFG    946\n",
       "AGN     21\n",
       "Name: agn_clsf, dtype: int64"
      ]
     },
     "execution_count": 41,
     "metadata": {},
     "output_type": "execute_result"
    }
   ],
   "source": [
    "df_s2.agn_clsf.value_counts()"
   ]
  },
  {
   "cell_type": "code",
   "execution_count": 42,
   "id": "d70bb24f-451e-4415-a7aa-f9f4209dde2e",
   "metadata": {},
   "outputs": [
    {
     "data": {
      "text/plain": [
       "SFG    1392\n",
       "AGN      35\n",
       "Name: agn_clsf, dtype: int64"
      ]
     },
     "execution_count": 42,
     "metadata": {},
     "output_type": "execute_result"
    }
   ],
   "source": [
    "df_s3.agn_clsf.value_counts()"
   ]
  },
  {
   "cell_type": "code",
   "execution_count": 43,
   "id": "ca774899-1f99-477b-b5f2-4856f74db187",
   "metadata": {},
   "outputs": [
    {
     "data": {
      "text/plain": [
       "SFG    696\n",
       "AGN     21\n",
       "Name: agn_clsf, dtype: int64"
      ]
     },
     "execution_count": 43,
     "metadata": {},
     "output_type": "execute_result"
    }
   ],
   "source": [
    "df_s4.agn_clsf.value_counts()"
   ]
  },
  {
   "cell_type": "code",
   "execution_count": 44,
   "id": "b84129d8-5a39-45f2-9bd3-ece84f2cb11e",
   "metadata": {},
   "outputs": [],
   "source": [
    "with fits.open(f'{cos_dat_fold}/chandra_COSMOS_legacy_opt_NIR_counterparts_20160113_4d.fits') as hdul:\n",
    "    chandra_cat = hdul[1].data"
   ]
  },
  {
   "cell_type": "code",
   "execution_count": 45,
   "id": "7eb25213-bb39-4beb-adc9-ab0d59407a95",
   "metadata": {},
   "outputs": [],
   "source": [
    "# Function that selects the closest object in the MPA_JHU as the galaxy of interest.\n",
    "def get_correct_chandra_id(ra, dec, tab):\n",
    "    cosmos_coord = SkyCoord(ra = ra * u.deg, dec = dec * u.deg, frame = 'fk5')\n",
    "    \n",
    "    chandra_coords = SkyCoord(ra = tab['RA_x'] * u.deg, dec = tab['DEC_x'] * u.deg, frame = 'fk5')\n",
    "    \n",
    "    seps = list(abs((cosmos_coord.separation(chandra_coords)).to(u.arcsec) / u.arcsec))\n",
    "    \n",
    "    min_ind = seps.index(min(seps))\n",
    "    \n",
    "    return {'CHANDRA_ID' : tab[min_ind]['id_x'], 'RA' : tab[min_ind]['RA_x'], 'Dec' : tab[min_ind]['DEC_x']}"
   ]
  },
  {
   "cell_type": "code",
   "execution_count": 46,
   "id": "6b6d6de0-fa85-4595-bd4c-edf66fc98960",
   "metadata": {},
   "outputs": [],
   "source": [
    "def matching_chandra_ids(ra, dec, chandra_cat):\n",
    "    arcsec_sep_deg = 2 / (60 * 60)\n",
    "    \n",
    "    matching_tab = chandra_cat[(chandra_cat['RA_x'] > ra - arcsec_sep_deg) & (chandra_cat['RA_x'] < ra + arcsec_sep_deg) & (chandra_cat['DEC_x'] > dec - arcsec_sep_deg) & (chandra_cat['DEC_x'] < dec + arcsec_sep_deg)]\n",
    "    if len(matching_tab) < 0.5:\n",
    "        return {'CHANDRA_ID' : np.nan, 'RA' : np.nan, 'Dec' : np.nan}\n",
    "    elif len(matching_tab) == 1:\n",
    "        return {'CHANDRA_ID' : matching_tab['id_x'][0], 'RA' : matching_tab['RA_x'][0], 'Dec' : matching_tab['DEC_x'][0]}\n",
    "    elif len(matching_tab) > 1:\n",
    "        return get_correct_chandra_id(ra, dec, matching_tab)\n",
    "    else:\n",
    "        print('Somethings gone very wrong!!')\n",
    "        sys.exit()"
   ]
  },
  {
   "cell_type": "code",
   "execution_count": 47,
   "id": "c8a97e10-828c-47fe-b318-3ca855b32495",
   "metadata": {},
   "outputs": [],
   "source": [
    "chandra_matched_dict = {}"
   ]
  },
  {
   "cell_type": "code",
   "execution_count": 48,
   "id": "80035f51-748c-42b7-8f38-043ff07de503",
   "metadata": {},
   "outputs": [
    {
     "name": "stderr",
     "output_type": "stream",
     "text": [
      "100%|██████████| 3911/3911 [00:53<00:00, 73.09it/s]\n"
     ]
    }
   ],
   "source": [
    "done_ids = list(chandra_matched_dict.keys())\n",
    "for i in tqdm(list(coords_dict.keys())):\n",
    "    if i in done_ids:\n",
    "        continue\n",
    "    \n",
    "    chandra_matched_dict[i] = matching_chandra_ids(coords_dict[i]['RA'], coords_dict[i]['DEC'], chandra_cat)"
   ]
  },
  {
   "cell_type": "code",
   "execution_count": 49,
   "id": "613798cb-70e2-4cc1-bcd9-6e7f3a437aec",
   "metadata": {},
   "outputs": [],
   "source": [
    "chandra_matched_df = (\n",
    "    pd.DataFrame.from_dict(chandra_matched_dict, orient = 'index')\n",
    "    .dropna()\n",
    "    .reset_index()\n",
    "    .rename(columns = {'index':'ID'})\n",
    ")"
   ]
  },
  {
   "cell_type": "code",
   "execution_count": 50,
   "id": "3b625c65-cfd9-418d-97e0-2ee61a731401",
   "metadata": {},
   "outputs": [
    {
     "data": {
      "text/html": [
       "<div>\n",
       "<style scoped>\n",
       "    .dataframe tbody tr th:only-of-type {\n",
       "        vertical-align: middle;\n",
       "    }\n",
       "\n",
       "    .dataframe tbody tr th {\n",
       "        vertical-align: top;\n",
       "    }\n",
       "\n",
       "    .dataframe thead th {\n",
       "        text-align: right;\n",
       "    }\n",
       "</style>\n",
       "<table border=\"1\" class=\"dataframe\">\n",
       "  <thead>\n",
       "    <tr style=\"text-align: right;\">\n",
       "      <th></th>\n",
       "      <th>ID</th>\n",
       "      <th>CHANDRA_ID</th>\n",
       "      <th>RA</th>\n",
       "      <th>Dec</th>\n",
       "    </tr>\n",
       "  </thead>\n",
       "  <tbody>\n",
       "    <tr>\n",
       "      <th>0</th>\n",
       "      <td>844303</td>\n",
       "      <td>cid_1139</td>\n",
       "      <td>150.059130</td>\n",
       "      <td>2.219824</td>\n",
       "    </tr>\n",
       "    <tr>\n",
       "      <th>1</th>\n",
       "      <td>230625</td>\n",
       "      <td>cid_737</td>\n",
       "      <td>150.231813</td>\n",
       "      <td>1.628142</td>\n",
       "    </tr>\n",
       "    <tr>\n",
       "      <th>2</th>\n",
       "      <td>525280</td>\n",
       "      <td>cid_799</td>\n",
       "      <td>149.912110</td>\n",
       "      <td>1.923509</td>\n",
       "    </tr>\n",
       "    <tr>\n",
       "      <th>3</th>\n",
       "      <td>349071</td>\n",
       "      <td>lid_1008</td>\n",
       "      <td>149.867547</td>\n",
       "      <td>1.747775</td>\n",
       "    </tr>\n",
       "    <tr>\n",
       "      <th>4</th>\n",
       "      <td>858361</td>\n",
       "      <td>cid_405</td>\n",
       "      <td>149.779040</td>\n",
       "      <td>2.232796</td>\n",
       "    </tr>\n",
       "    <tr>\n",
       "      <th>...</th>\n",
       "      <td>...</td>\n",
       "      <td>...</td>\n",
       "      <td>...</td>\n",
       "      <td>...</td>\n",
       "    </tr>\n",
       "    <tr>\n",
       "      <th>82</th>\n",
       "      <td>1050756</td>\n",
       "      <td>cid_1189</td>\n",
       "      <td>149.839030</td>\n",
       "      <td>2.407744</td>\n",
       "    </tr>\n",
       "    <tr>\n",
       "      <th>83</th>\n",
       "      <td>1070007</td>\n",
       "      <td>cid_1831</td>\n",
       "      <td>150.455481</td>\n",
       "      <td>2.431071</td>\n",
       "    </tr>\n",
       "    <tr>\n",
       "      <th>84</th>\n",
       "      <td>1106065</td>\n",
       "      <td>cid_1586</td>\n",
       "      <td>150.638928</td>\n",
       "      <td>2.464424</td>\n",
       "    </tr>\n",
       "    <tr>\n",
       "      <th>85</th>\n",
       "      <td>1272183</td>\n",
       "      <td>cid_726</td>\n",
       "      <td>150.129825</td>\n",
       "      <td>2.624839</td>\n",
       "    </tr>\n",
       "    <tr>\n",
       "      <th>86</th>\n",
       "      <td>1465158</td>\n",
       "      <td>lid_3224</td>\n",
       "      <td>150.673890</td>\n",
       "      <td>2.814361</td>\n",
       "    </tr>\n",
       "  </tbody>\n",
       "</table>\n",
       "<p>87 rows × 4 columns</p>\n",
       "</div>"
      ],
      "text/plain": [
       "         ID CHANDRA_ID          RA       Dec\n",
       "0    844303   cid_1139  150.059130  2.219824\n",
       "1    230625    cid_737  150.231813  1.628142\n",
       "2    525280    cid_799  149.912110  1.923509\n",
       "3    349071   lid_1008  149.867547  1.747775\n",
       "4    858361    cid_405  149.779040  2.232796\n",
       "..      ...        ...         ...       ...\n",
       "82  1050756   cid_1189  149.839030  2.407744\n",
       "83  1070007   cid_1831  150.455481  2.431071\n",
       "84  1106065   cid_1586  150.638928  2.464424\n",
       "85  1272183    cid_726  150.129825  2.624839\n",
       "86  1465158   lid_3224  150.673890  2.814361\n",
       "\n",
       "[87 rows x 4 columns]"
      ]
     },
     "execution_count": 50,
     "metadata": {},
     "output_type": "execute_result"
    }
   ],
   "source": [
    "chandra_matched_df"
   ]
  },
  {
   "cell_type": "code",
   "execution_count": 51,
   "id": "71a0608b-6d48-424a-a658-3cd2fac920a7",
   "metadata": {},
   "outputs": [],
   "source": [
    "smol_ids_list = list(df_merge[['ID', 'smolcic_clsf']].dropna().ID)"
   ]
  },
  {
   "cell_type": "code",
   "execution_count": 52,
   "id": "7083d390-9769-43f7-b71d-ee936cbf50f3",
   "metadata": {},
   "outputs": [],
   "source": [
    "chandra_dup = (\n",
    "    chandra_matched_df\n",
    "    .assign(dup = chandra_matched_df.ID.apply(lambda x: True if x in smol_ids_list else False))\n",
    ")"
   ]
  },
  {
   "cell_type": "code",
   "execution_count": 53,
   "id": "d01b294f-76d6-4696-b7c1-cfe71705fc0b",
   "metadata": {},
   "outputs": [],
   "source": [
    "chandra_dedup = chandra_dup.query('dup == False').drop_duplicates('ID').drop(columns = 'dup')"
   ]
  },
  {
   "cell_type": "code",
   "execution_count": 54,
   "id": "297ef472-c128-4783-9840-14ca46db3d24",
   "metadata": {},
   "outputs": [],
   "source": [
    "def getting_chandra_info(chandra_id, chandra_cat):\n",
    "    row = chandra_cat[chandra_cat['id_x'] == chandra_id]    \n",
    "    hard_lum = row['Lx_210'][0]\n",
    "    \n",
    "    if hard_lum < 42:\n",
    "        return 'SFG'\n",
    "    elif hard_lum >= 42:\n",
    "        return 'AGN'\n",
    "    else:\n",
    "        return np.nan"
   ]
  },
  {
   "cell_type": "code",
   "execution_count": 55,
   "id": "628b323a-d787-40e3-a6a4-13a246a9f2a2",
   "metadata": {},
   "outputs": [],
   "source": [
    "chandra_dict = chandra_dedup[['ID', 'CHANDRA_ID']].set_index('ID').to_dict(orient = 'index')"
   ]
  },
  {
   "cell_type": "code",
   "execution_count": 56,
   "id": "e41c2276-b2d5-4fe9-a104-e393eeaa710f",
   "metadata": {},
   "outputs": [],
   "source": [
    "chandra_cat_dict = {}"
   ]
  },
  {
   "cell_type": "code",
   "execution_count": 57,
   "id": "3f1f495e-94cd-4162-ab46-c8d8baf91f89",
   "metadata": {},
   "outputs": [
    {
     "name": "stderr",
     "output_type": "stream",
     "text": [
      "100%|██████████| 43/43 [00:00<00:00, 63.69it/s]\n"
     ]
    }
   ],
   "source": [
    "done_ids = list(chandra_cat_dict.keys())\n",
    "for i in tqdm(list(chandra_dict.keys())):\n",
    "    if i in done_ids:\n",
    "        continue\n",
    "    \n",
    "    chandra_cat_dict[i] = getting_chandra_info(chandra_dict[i]['CHANDRA_ID'], chandra_cat)"
   ]
  },
  {
   "cell_type": "code",
   "execution_count": 58,
   "id": "a6b259cc-5c5c-4756-9587-95da5aa15f50",
   "metadata": {},
   "outputs": [],
   "source": [
    "chandra_add = pd.DataFrame.from_dict(chandra_cat_dict, orient = 'index').reset_index().rename(columns = {0 : 'chandra_clsf', 'index':'ID'})"
   ]
  },
  {
   "cell_type": "code",
   "execution_count": 59,
   "id": "c3ff996a-9a49-4cc4-a233-a7780e7ac61e",
   "metadata": {},
   "outputs": [
    {
     "data": {
      "text/html": [
       "<div>\n",
       "<style scoped>\n",
       "    .dataframe tbody tr th:only-of-type {\n",
       "        vertical-align: middle;\n",
       "    }\n",
       "\n",
       "    .dataframe tbody tr th {\n",
       "        vertical-align: top;\n",
       "    }\n",
       "\n",
       "    .dataframe thead th {\n",
       "        text-align: right;\n",
       "    }\n",
       "</style>\n",
       "<table border=\"1\" class=\"dataframe\">\n",
       "  <thead>\n",
       "    <tr style=\"text-align: right;\">\n",
       "      <th></th>\n",
       "      <th>ORyanID_23</th>\n",
       "      <th>ID</th>\n",
       "      <th>category</th>\n",
       "      <th>lp_mass_best</th>\n",
       "      <th>ez_sfr</th>\n",
       "      <th>lp_zBEST</th>\n",
       "      <th>ez_z_phot</th>\n",
       "      <th>ID_COSMOS2015</th>\n",
       "      <th>smolcic_clsf</th>\n",
       "    </tr>\n",
       "  </thead>\n",
       "  <tbody>\n",
       "    <tr>\n",
       "      <th>0</th>\n",
       "      <td>4000705532455</td>\n",
       "      <td>816891</td>\n",
       "      <td>stage4</td>\n",
       "      <td>9.28590</td>\n",
       "      <td>0.589695</td>\n",
       "      <td>0.5304</td>\n",
       "      <td>0.519525</td>\n",
       "      <td>590539</td>\n",
       "      <td>NaN</td>\n",
       "    </tr>\n",
       "    <tr>\n",
       "      <th>1</th>\n",
       "      <td>4000705533383</td>\n",
       "      <td>860686</td>\n",
       "      <td>stage3</td>\n",
       "      <td>10.44862</td>\n",
       "      <td>1.609304</td>\n",
       "      <td>1.1244</td>\n",
       "      <td>1.198015</td>\n",
       "      <td>618751</td>\n",
       "      <td>NaN</td>\n",
       "    </tr>\n",
       "    <tr>\n",
       "      <th>2</th>\n",
       "      <td>4000705539941</td>\n",
       "      <td>1301188</td>\n",
       "      <td>stage2</td>\n",
       "      <td>8.72372</td>\n",
       "      <td>-0.987761</td>\n",
       "      <td>NaN</td>\n",
       "      <td>0.230293</td>\n",
       "      <td>893328</td>\n",
       "      <td>NaN</td>\n",
       "    </tr>\n",
       "    <tr>\n",
       "      <th>3</th>\n",
       "      <td>4000705540034</td>\n",
       "      <td>1304538</td>\n",
       "      <td>stage3</td>\n",
       "      <td>9.96798</td>\n",
       "      <td>1.101499</td>\n",
       "      <td>NaN</td>\n",
       "      <td>1.024009</td>\n",
       "      <td>895502</td>\n",
       "      <td>NaN</td>\n",
       "    </tr>\n",
       "    <tr>\n",
       "      <th>4</th>\n",
       "      <td>4000705540064</td>\n",
       "      <td>1310001</td>\n",
       "      <td>stage3</td>\n",
       "      <td>10.41827</td>\n",
       "      <td>1.083541</td>\n",
       "      <td>0.4864</td>\n",
       "      <td>0.501348</td>\n",
       "      <td>898397</td>\n",
       "      <td>NaN</td>\n",
       "    </tr>\n",
       "    <tr>\n",
       "      <th>...</th>\n",
       "      <td>...</td>\n",
       "      <td>...</td>\n",
       "      <td>...</td>\n",
       "      <td>...</td>\n",
       "      <td>...</td>\n",
       "      <td>...</td>\n",
       "      <td>...</td>\n",
       "      <td>...</td>\n",
       "      <td>...</td>\n",
       "    </tr>\n",
       "    <tr>\n",
       "      <th>3906</th>\n",
       "      <td>4001204758614_extra</td>\n",
       "      <td>1520733</td>\n",
       "      <td>stage4</td>\n",
       "      <td>9.27097</td>\n",
       "      <td>0.369745</td>\n",
       "      <td>NaN</td>\n",
       "      <td>0.484922</td>\n",
       "      <td>1030872</td>\n",
       "      <td>NaN</td>\n",
       "    </tr>\n",
       "    <tr>\n",
       "      <th>3907</th>\n",
       "      <td>4546055995_extra</td>\n",
       "      <td>1520749</td>\n",
       "      <td>stage2</td>\n",
       "      <td>9.50357</td>\n",
       "      <td>0.507741</td>\n",
       "      <td>NaN</td>\n",
       "      <td>0.647512</td>\n",
       "      <td>1029954</td>\n",
       "      <td>NaN</td>\n",
       "    </tr>\n",
       "    <tr>\n",
       "      <th>3908</th>\n",
       "      <td>4000927318133_extra</td>\n",
       "      <td>1523385</td>\n",
       "      <td>stage3</td>\n",
       "      <td>9.53909</td>\n",
       "      <td>0.406027</td>\n",
       "      <td>NaN</td>\n",
       "      <td>0.301645</td>\n",
       "      <td>1031020</td>\n",
       "      <td>NaN</td>\n",
       "    </tr>\n",
       "    <tr>\n",
       "      <th>3909</th>\n",
       "      <td>4000747939904_extra</td>\n",
       "      <td>1524909</td>\n",
       "      <td>stage3</td>\n",
       "      <td>9.76084</td>\n",
       "      <td>0.637714</td>\n",
       "      <td>NaN</td>\n",
       "      <td>0.855695</td>\n",
       "      <td>1034203</td>\n",
       "      <td>NaN</td>\n",
       "    </tr>\n",
       "    <tr>\n",
       "      <th>3910</th>\n",
       "      <td>4001239405815_extra</td>\n",
       "      <td>1529226</td>\n",
       "      <td>stage4</td>\n",
       "      <td>11.16721</td>\n",
       "      <td>0.602814</td>\n",
       "      <td>NaN</td>\n",
       "      <td>0.541008</td>\n",
       "      <td>1037414</td>\n",
       "      <td>NaN</td>\n",
       "    </tr>\n",
       "  </tbody>\n",
       "</table>\n",
       "<p>3911 rows × 9 columns</p>\n",
       "</div>"
      ],
      "text/plain": [
       "               ORyanID_23       ID category  lp_mass_best    ez_sfr  lp_zBEST  \\\n",
       "0           4000705532455   816891   stage4       9.28590  0.589695    0.5304   \n",
       "1           4000705533383   860686   stage3      10.44862  1.609304    1.1244   \n",
       "2           4000705539941  1301188   stage2       8.72372 -0.987761       NaN   \n",
       "3           4000705540034  1304538   stage3       9.96798  1.101499       NaN   \n",
       "4           4000705540064  1310001   stage3      10.41827  1.083541    0.4864   \n",
       "...                   ...      ...      ...           ...       ...       ...   \n",
       "3906  4001204758614_extra  1520733   stage4       9.27097  0.369745       NaN   \n",
       "3907     4546055995_extra  1520749   stage2       9.50357  0.507741       NaN   \n",
       "3908  4000927318133_extra  1523385   stage3       9.53909  0.406027       NaN   \n",
       "3909  4000747939904_extra  1524909   stage3       9.76084  0.637714       NaN   \n",
       "3910  4001239405815_extra  1529226   stage4      11.16721  0.602814       NaN   \n",
       "\n",
       "      ez_z_phot  ID_COSMOS2015 smolcic_clsf  \n",
       "0      0.519525         590539          NaN  \n",
       "1      1.198015         618751          NaN  \n",
       "2      0.230293         893328          NaN  \n",
       "3      1.024009         895502          NaN  \n",
       "4      0.501348         898397          NaN  \n",
       "...         ...            ...          ...  \n",
       "3906   0.484922        1030872          NaN  \n",
       "3907   0.647512        1029954          NaN  \n",
       "3908   0.301645        1031020          NaN  \n",
       "3909   0.855695        1034203          NaN  \n",
       "3910   0.541008        1037414          NaN  \n",
       "\n",
       "[3911 rows x 9 columns]"
      ]
     },
     "execution_count": 59,
     "metadata": {},
     "output_type": "execute_result"
    }
   ],
   "source": [
    "df_merge"
   ]
  },
  {
   "cell_type": "code",
   "execution_count": 60,
   "id": "864ed0a8-05d5-44e5-bafe-b2796f06db53",
   "metadata": {},
   "outputs": [],
   "source": [
    "df_chandra_added = df_merge.merge(chandra_add, on = 'ID', how = 'left')"
   ]
  },
  {
   "cell_type": "code",
   "execution_count": 61,
   "id": "5e5f230a-9e6c-4592-87ae-adda8187a865",
   "metadata": {},
   "outputs": [
    {
     "data": {
      "text/html": [
       "<div>\n",
       "<style scoped>\n",
       "    .dataframe tbody tr th:only-of-type {\n",
       "        vertical-align: middle;\n",
       "    }\n",
       "\n",
       "    .dataframe tbody tr th {\n",
       "        vertical-align: top;\n",
       "    }\n",
       "\n",
       "    .dataframe thead th {\n",
       "        text-align: right;\n",
       "    }\n",
       "</style>\n",
       "<table border=\"1\" class=\"dataframe\">\n",
       "  <thead>\n",
       "    <tr style=\"text-align: right;\">\n",
       "      <th></th>\n",
       "      <th>ORyanID_23</th>\n",
       "      <th>ID</th>\n",
       "      <th>category</th>\n",
       "      <th>lp_mass_best</th>\n",
       "      <th>ez_sfr</th>\n",
       "      <th>lp_zBEST</th>\n",
       "      <th>ez_z_phot</th>\n",
       "      <th>ID_COSMOS2015</th>\n",
       "      <th>smolcic_clsf</th>\n",
       "      <th>chandra_clsf</th>\n",
       "    </tr>\n",
       "  </thead>\n",
       "  <tbody>\n",
       "    <tr>\n",
       "      <th>0</th>\n",
       "      <td>4000705532455</td>\n",
       "      <td>816891</td>\n",
       "      <td>stage4</td>\n",
       "      <td>9.28590</td>\n",
       "      <td>0.589695</td>\n",
       "      <td>0.5304</td>\n",
       "      <td>0.519525</td>\n",
       "      <td>590539</td>\n",
       "      <td>NaN</td>\n",
       "      <td>NaN</td>\n",
       "    </tr>\n",
       "    <tr>\n",
       "      <th>1</th>\n",
       "      <td>4000705533383</td>\n",
       "      <td>860686</td>\n",
       "      <td>stage3</td>\n",
       "      <td>10.44862</td>\n",
       "      <td>1.609304</td>\n",
       "      <td>1.1244</td>\n",
       "      <td>1.198015</td>\n",
       "      <td>618751</td>\n",
       "      <td>NaN</td>\n",
       "      <td>NaN</td>\n",
       "    </tr>\n",
       "    <tr>\n",
       "      <th>2</th>\n",
       "      <td>4000705539941</td>\n",
       "      <td>1301188</td>\n",
       "      <td>stage2</td>\n",
       "      <td>8.72372</td>\n",
       "      <td>-0.987761</td>\n",
       "      <td>NaN</td>\n",
       "      <td>0.230293</td>\n",
       "      <td>893328</td>\n",
       "      <td>NaN</td>\n",
       "      <td>NaN</td>\n",
       "    </tr>\n",
       "    <tr>\n",
       "      <th>3</th>\n",
       "      <td>4000705540034</td>\n",
       "      <td>1304538</td>\n",
       "      <td>stage3</td>\n",
       "      <td>9.96798</td>\n",
       "      <td>1.101499</td>\n",
       "      <td>NaN</td>\n",
       "      <td>1.024009</td>\n",
       "      <td>895502</td>\n",
       "      <td>NaN</td>\n",
       "      <td>NaN</td>\n",
       "    </tr>\n",
       "    <tr>\n",
       "      <th>4</th>\n",
       "      <td>4000705540064</td>\n",
       "      <td>1310001</td>\n",
       "      <td>stage3</td>\n",
       "      <td>10.41827</td>\n",
       "      <td>1.083541</td>\n",
       "      <td>0.4864</td>\n",
       "      <td>0.501348</td>\n",
       "      <td>898397</td>\n",
       "      <td>NaN</td>\n",
       "      <td>NaN</td>\n",
       "    </tr>\n",
       "    <tr>\n",
       "      <th>...</th>\n",
       "      <td>...</td>\n",
       "      <td>...</td>\n",
       "      <td>...</td>\n",
       "      <td>...</td>\n",
       "      <td>...</td>\n",
       "      <td>...</td>\n",
       "      <td>...</td>\n",
       "      <td>...</td>\n",
       "      <td>...</td>\n",
       "      <td>...</td>\n",
       "    </tr>\n",
       "    <tr>\n",
       "      <th>3906</th>\n",
       "      <td>4001204758614_extra</td>\n",
       "      <td>1520733</td>\n",
       "      <td>stage4</td>\n",
       "      <td>9.27097</td>\n",
       "      <td>0.369745</td>\n",
       "      <td>NaN</td>\n",
       "      <td>0.484922</td>\n",
       "      <td>1030872</td>\n",
       "      <td>NaN</td>\n",
       "      <td>NaN</td>\n",
       "    </tr>\n",
       "    <tr>\n",
       "      <th>3907</th>\n",
       "      <td>4546055995_extra</td>\n",
       "      <td>1520749</td>\n",
       "      <td>stage2</td>\n",
       "      <td>9.50357</td>\n",
       "      <td>0.507741</td>\n",
       "      <td>NaN</td>\n",
       "      <td>0.647512</td>\n",
       "      <td>1029954</td>\n",
       "      <td>NaN</td>\n",
       "      <td>NaN</td>\n",
       "    </tr>\n",
       "    <tr>\n",
       "      <th>3908</th>\n",
       "      <td>4000927318133_extra</td>\n",
       "      <td>1523385</td>\n",
       "      <td>stage3</td>\n",
       "      <td>9.53909</td>\n",
       "      <td>0.406027</td>\n",
       "      <td>NaN</td>\n",
       "      <td>0.301645</td>\n",
       "      <td>1031020</td>\n",
       "      <td>NaN</td>\n",
       "      <td>NaN</td>\n",
       "    </tr>\n",
       "    <tr>\n",
       "      <th>3909</th>\n",
       "      <td>4000747939904_extra</td>\n",
       "      <td>1524909</td>\n",
       "      <td>stage3</td>\n",
       "      <td>9.76084</td>\n",
       "      <td>0.637714</td>\n",
       "      <td>NaN</td>\n",
       "      <td>0.855695</td>\n",
       "      <td>1034203</td>\n",
       "      <td>NaN</td>\n",
       "      <td>NaN</td>\n",
       "    </tr>\n",
       "    <tr>\n",
       "      <th>3910</th>\n",
       "      <td>4001239405815_extra</td>\n",
       "      <td>1529226</td>\n",
       "      <td>stage4</td>\n",
       "      <td>11.16721</td>\n",
       "      <td>0.602814</td>\n",
       "      <td>NaN</td>\n",
       "      <td>0.541008</td>\n",
       "      <td>1037414</td>\n",
       "      <td>NaN</td>\n",
       "      <td>NaN</td>\n",
       "    </tr>\n",
       "  </tbody>\n",
       "</table>\n",
       "<p>3911 rows × 10 columns</p>\n",
       "</div>"
      ],
      "text/plain": [
       "               ORyanID_23       ID category  lp_mass_best    ez_sfr  lp_zBEST  \\\n",
       "0           4000705532455   816891   stage4       9.28590  0.589695    0.5304   \n",
       "1           4000705533383   860686   stage3      10.44862  1.609304    1.1244   \n",
       "2           4000705539941  1301188   stage2       8.72372 -0.987761       NaN   \n",
       "3           4000705540034  1304538   stage3       9.96798  1.101499       NaN   \n",
       "4           4000705540064  1310001   stage3      10.41827  1.083541    0.4864   \n",
       "...                   ...      ...      ...           ...       ...       ...   \n",
       "3906  4001204758614_extra  1520733   stage4       9.27097  0.369745       NaN   \n",
       "3907     4546055995_extra  1520749   stage2       9.50357  0.507741       NaN   \n",
       "3908  4000927318133_extra  1523385   stage3       9.53909  0.406027       NaN   \n",
       "3909  4000747939904_extra  1524909   stage3       9.76084  0.637714       NaN   \n",
       "3910  4001239405815_extra  1529226   stage4      11.16721  0.602814       NaN   \n",
       "\n",
       "      ez_z_phot  ID_COSMOS2015 smolcic_clsf chandra_clsf  \n",
       "0      0.519525         590539          NaN          NaN  \n",
       "1      1.198015         618751          NaN          NaN  \n",
       "2      0.230293         893328          NaN          NaN  \n",
       "3      1.024009         895502          NaN          NaN  \n",
       "4      0.501348         898397          NaN          NaN  \n",
       "...         ...            ...          ...          ...  \n",
       "3906   0.484922        1030872          NaN          NaN  \n",
       "3907   0.647512        1029954          NaN          NaN  \n",
       "3908   0.301645        1031020          NaN          NaN  \n",
       "3909   0.855695        1034203          NaN          NaN  \n",
       "3910   0.541008        1037414          NaN          NaN  \n",
       "\n",
       "[3911 rows x 10 columns]"
      ]
     },
     "execution_count": 61,
     "metadata": {},
     "output_type": "execute_result"
    }
   ],
   "source": [
    "df_chandra_added"
   ]
  },
  {
   "cell_type": "code",
   "execution_count": 62,
   "id": "448e70cc-ba7a-4c49-916d-cabb0c0502e6",
   "metadata": {},
   "outputs": [],
   "source": [
    "def check_clsfs(smolcic, chandra):\n",
    "    if type(chandra) == str:\n",
    "        return chandra\n",
    "    else:\n",
    "        return smolcic"
   ]
  },
  {
   "cell_type": "code",
   "execution_count": 63,
   "id": "e8bb2bb3-d5a8-4ff7-8c7b-9aceb6f636fa",
   "metadata": {},
   "outputs": [],
   "source": [
    "df_consolidated = (\n",
    "    df_chandra_added\n",
    "    .assign(agn_clsf = df_chandra_added.apply(lambda row: check_clsfs(row.smolcic_clsf, row.chandra_clsf), axis = 1))\n",
    "    .drop(columns = ['smolcic_clsf', 'chandra_clsf'])\n",
    ")"
   ]
  },
  {
   "cell_type": "code",
   "execution_count": 64,
   "id": "16983a7b-a840-46fb-9b60-ce438c854645",
   "metadata": {},
   "outputs": [],
   "source": [
    "df_reclsf = (\n",
    "    df_consolidated\n",
    "    .assign(all_clsf = df_consolidated.agn_clsf.apply(lambda x: x if type(x) == str else 'unknown'))\n",
    "    .drop(columns = ['agn_clsf'])\n",
    ")"
   ]
  },
  {
   "cell_type": "code",
   "execution_count": 65,
   "id": "1e2d2c16-37a2-47c0-86ad-401351911e25",
   "metadata": {},
   "outputs": [
    {
     "data": {
      "text/plain": [
       "unknown    3435\n",
       "SFG         335\n",
       "AGN         141\n",
       "Name: all_clsf, dtype: int64"
      ]
     },
     "execution_count": 65,
     "metadata": {},
     "output_type": "execute_result"
    }
   ],
   "source": [
    "df_reclsf.all_clsf.value_counts()"
   ]
  },
  {
   "cell_type": "markdown",
   "id": "d7b03a90-d909-48b5-b66d-a2dc55b85a01",
   "metadata": {},
   "source": [
    "## Raw Fractions"
   ]
  },
  {
   "cell_type": "code",
   "execution_count": 66,
   "id": "355e43e5-9a95-43c4-b09d-bcab20919284",
   "metadata": {},
   "outputs": [],
   "source": [
    "agn_counts_s1 = len(df_reclsf.query('category == \"stage1\" and all_clsf == \"AGN\"'))\n",
    "agn_counts_s2 = len(df_reclsf.query('category == \"stage2\" and all_clsf == \"AGN\"'))\n",
    "agn_counts_s3 = len(df_reclsf.query('category == \"stage3\" and all_clsf == \"AGN\"'))\n",
    "agn_counts_s4 = len(df_reclsf.query('category == \"stage4\" and all_clsf == \"AGN\"'))\n",
    "\n",
    "sfg_counts_s1 = len(df_reclsf.query('category == \"stage1\" and all_clsf == \"SFG\"'))\n",
    "sfg_counts_s2 = len(df_reclsf.query('category == \"stage2\" and all_clsf == \"SFG\"'))\n",
    "sfg_counts_s3 = len(df_reclsf.query('category == \"stage3\" and all_clsf == \"SFG\"'))\n",
    "sfg_counts_s4 = len(df_reclsf.query('category == \"stage4\" and all_clsf == \"SFG\"'))\n",
    "\n",
    "unknown_counts_s1 = len(df_reclsf.query('category == \"stage1\" and all_clsf == \"unknown\"'))\n",
    "unknown_counts_s2 = len(df_reclsf.query('category == \"stage2\" and all_clsf == \"unknown\"'))\n",
    "unknown_counts_s3 = len(df_reclsf.query('category == \"stage3\" and all_clsf == \"unknown\"'))\n",
    "unknown_counts_s4 = len(df_reclsf.query('category == \"stage4\" and all_clsf == \"unknown\"'))"
   ]
  },
  {
   "cell_type": "code",
   "execution_count": 67,
   "id": "f3f995fe-0d59-4add-996a-a9d487ac82a5",
   "metadata": {},
   "outputs": [
    {
     "data": {
      "text/plain": [
       "[0.7735849056603774,\n",
       " 0.38028169014084506,\n",
       " 0.373134328358209,\n",
       " 0.2987012987012987]"
      ]
     },
     "execution_count": 67,
     "metadata": {},
     "output_type": "execute_result"
    }
   ],
   "source": [
    "ratios = [\n",
    "    agn_counts_s1 / (sfg_counts_s1),\n",
    "    agn_counts_s2 / (sfg_counts_s2),\n",
    "    agn_counts_s3 / (sfg_counts_s3),\n",
    "    agn_counts_s4 / (sfg_counts_s4),\n",
    "]\n",
    "ratios"
   ]
  },
  {
   "cell_type": "code",
   "execution_count": 68,
   "id": "7a699812-3829-478b-bb87-ab18b2882ba6",
   "metadata": {},
   "outputs": [
    {
     "data": {
      "text/plain": [
       "[0.43617021276595747, 0.2755102040816326, 0.2717391304347826, 0.23]"
      ]
     },
     "execution_count": 68,
     "metadata": {},
     "output_type": "execute_result"
    }
   ],
   "source": [
    "fractions = [\n",
    "    agn_counts_s1 / (agn_counts_s1 + sfg_counts_s1),\n",
    "    agn_counts_s2 / (agn_counts_s2 + sfg_counts_s2),\n",
    "    agn_counts_s3 / (agn_counts_s3 + sfg_counts_s3),\n",
    "    agn_counts_s4 / (agn_counts_s4 + sfg_counts_s4),\n",
    "]\n",
    "fractions"
   ]
  },
  {
   "cell_type": "code",
   "execution_count": 69,
   "id": "38531ef3-fa75-4d3c-a3d8-0468b492117b",
   "metadata": {},
   "outputs": [],
   "source": [
    "unknown_fractions = [\n",
    "    (agn_counts_s1) / ( (agn_counts_s1 + sfg_counts_s1 + unknown_counts_s1)),\n",
    "    (agn_counts_s2) / ( (agn_counts_s2 + sfg_counts_s2 + unknown_counts_s2)),\n",
    "    (agn_counts_s3) / ( (agn_counts_s3 + sfg_counts_s3 + unknown_counts_s3)),\n",
    "    (agn_counts_s4) / ( (agn_counts_s4 + sfg_counts_s4 + unknown_counts_s4))\n",
    "]"
   ]
  },
  {
   "cell_type": "code",
   "execution_count": 70,
   "id": "57ef5f4a-cb07-4a4c-8d0d-45f9f30443dd",
   "metadata": {},
   "outputs": [
    {
     "data": {
      "text/plain": [
       "[0.05125, 0.027921406411582212, 0.0350385423966363, 0.03207810320781032]"
      ]
     },
     "execution_count": 70,
     "metadata": {},
     "output_type": "execute_result"
    }
   ],
   "source": [
    "unknown_fractions"
   ]
  },
  {
   "cell_type": "code",
   "execution_count": 73,
   "id": "8e91aa19-d82d-4814-98db-33e741f5fd20",
   "metadata": {},
   "outputs": [],
   "source": [
    "x = ['Separated', 'Pericentre', 'Apocentre','Merging']"
   ]
  },
  {
   "cell_type": "code",
   "execution_count": 74,
   "id": "a941685e-1239-4e41-a12a-ff3b79a97492",
   "metadata": {},
   "outputs": [
    {
     "data": {
      "image/png": "[encoded data removed]",
      "text/plain": [
       "<Figure size 400x400 with 1 Axes>"
      ]
     },
     "metadata": {},
     "output_type": "display_data"
    }
   ],
   "source": [
    "plt.figure(figsize = (4,4))\n",
    "# plt.axhline(1.0, color = 'gray', linestyle = '--')\n",
    "plt.scatter(x, unknown_fractions, color = 'black', s = 40, marker = 'x')\n",
    "# plt.errorbar(x, fraction_list, color = 'black', yerr = error_array, alpha = 0.75, linestyle = '--', capsize = 3.5)\n",
    "plt.plot(x, unknown_fractions, color='black', linestyle='--')\n",
    "plt.ylabel('Weighted AGN Fraction (N$_{AGN}$ / N$_{stage}$)')\n",
    "# plt.ylim([0.75,1.30])\n",
    "# plt.savefig(f'{fig_folder}/agn-frac-time.pdf', bbox_inches = 'tight')\n",
    "plt.show()"
   ]
  },
  {
   "cell_type": "code",
   "execution_count": 75,
   "id": "8c57597f-c2db-4716-b359-7b03f3343560",
   "metadata": {},
   "outputs": [
    {
     "data": {
      "text/plain": [
       "[0.05125, 0.027921406411582212, 0.0350385423966363, 0.03207810320781032]"
      ]
     },
     "execution_count": 75,
     "metadata": {},
     "output_type": "execute_result"
    }
   ],
   "source": [
    "all_fractions = [\n",
    "    agn_counts_s1 / (agn_counts_s1 + sfg_counts_s1 + unknown_counts_s1),\n",
    "    agn_counts_s2 / (agn_counts_s2 + sfg_counts_s2 + unknown_counts_s2),\n",
    "    agn_counts_s3 / (agn_counts_s3 + sfg_counts_s3 + unknown_counts_s3),\n",
    "    agn_counts_s4 / (agn_counts_s4 + sfg_counts_s4 + unknown_counts_s4),\n",
    "]\n",
    "all_fractions"
   ]
  },
  {
   "cell_type": "code",
   "execution_count": 76,
   "id": "0776af8e-bfff-45ea-80c3-4a06ace1747f",
   "metadata": {},
   "outputs": [],
   "source": [
    "def weight_dist(arrs, compare=1, bins=None, return_bins=True, renorm=False):\n",
    "    # this will take 2 arrays of values from 2 different samples\n",
    "    # e.g. redshift distributions from 2 samples\n",
    "    # and return weights for each value such that the weighted\n",
    "    # distributions of each sample will match.\n",
    "\n",
    "    # note the bins need to be the same for both datasets\n",
    "    # so either supply 1 number or 1 array of bin edges\n",
    "    # also if you have fully specified the bins you don't need them returned\n",
    "    # but if we've had to figure them out, you do need them returned\n",
    "    # if you want to make sure you aren't under-weighting (e.g. if a whole dataset is\n",
    "    # much larger than the other so you might always be able select >1 object\n",
    "    # in dataset 1 for each object in dataset 2) then you can re-normalise to make\n",
    "    # sure the max weight of both datasets is 1\n",
    "    # Note, if the distributions cross this won't make a difference\n",
    "\n",
    "    # weight arrays\n",
    "    # w1 = np.zeros_like(arr1)\n",
    "    # w2 = np.zeros_like(arr2)\n",
    "    \n",
    "    ws_list = []\n",
    "    for i in arrs:\n",
    "        ws_list.append(np.zeros_like(i))\n",
    "\n",
    "    # if bins not specified, guess at them ourselves\n",
    "    if bins is None:\n",
    "        minsize = np.amin([    len(arr1),     len(arr2)])\n",
    "        themin  = np.amin([np.amin(arr1), np.amin(arr2)])\n",
    "        themax  = np.amax([np.amax(arr1), np.amax(arr2)])\n",
    "\n",
    "        # on average 5 data points per bin, but at least 3 bins pls, max value is last bin edge\n",
    "        bins = np.linspace(themin, themax, int(np.amax([(minsize/5)+1, 3])), endpoint=True)\n",
    "\n",
    "    else:\n",
    "        pass\n",
    "        # because the np.histogram function can deal with distinguishing between number of bins or specific bins itself\n",
    "        # so we don't have to\n",
    "    hists = []\n",
    "    hist1, thebins = np.histogram(arrs[compare], bins=bins)  # returns (counts_arr, bins_arr)\n",
    "    # use the bins from hist1 to make hist2\n",
    "    # note: for these purposes, any values of hist2 outside the minmax range of hist1 should have 0 weight\n",
    "    # which is taken care of by the zeros_like initialisation of w1 and w2 above\n",
    "    # so it's fine for them to be excluded below\n",
    "    # hists.append(hist1)\n",
    "    for i in arrs:\n",
    "        hist_tmp, thebins = np.histogram(i, bins=thebins)\n",
    "        hists.append(hist_tmp)\n",
    "\n",
    "    # now step through the bins and assign weights\n",
    "    for i_bin in range(len(thebins)-1):\n",
    "        for i_hist in range(len(hists)):\n",
    "            # zero-\"index\"ing these because they're indices and not values\n",
    "            # and if I get them mixed up below I want this to error that there's no b2 or whatever\n",
    "            if i_hist == compare:\n",
    "                continue\n",
    "            b0 = thebins[i_bin]\n",
    "            b1 = thebins[i_bin+1]\n",
    "\n",
    "            count1 = hists[compare][i_bin]\n",
    "            count2 = hists[i_hist][i_bin]\n",
    "\n",
    "            # don't miss any values and don't double-count\n",
    "            if i_bin == 0:\n",
    "                in_bin1 = (arrs[compare] >= b0) & (arrs[compare] <= b1)\n",
    "                in_bin2 = (arrs[i_hist] >= b0) & (arrs[i_hist] <= b1)\n",
    "            else: \n",
    "                in_bin1 = (arrs[compare] >  b0) & (arrs[compare] <= b1)\n",
    "                in_bin2 = (arrs[i_hist] >  b0) & (arrs[i_hist] <= b1)\n",
    "\n",
    "\n",
    "            # don't divide by 0 in the rest of the if/else\n",
    "            if (count1 == 0) | (count2 == 0):\n",
    "                ws_list[compare][in_bin1] = 0.0\n",
    "                ws_list[i_hist][in_bin2] = 0.0\n",
    "\n",
    "            elif count1 < count2:\n",
    "                # weight count2 values so the sum of wt2 in this bin equals count1\n",
    "                # wt_fac will always be < 1\n",
    "                wt_fac = float(count1)/float(count2)\n",
    "                ws_list[compare][in_bin1] = 1.0\n",
    "                ws_list[i_hist][in_bin2] = wt_fac\n",
    "\n",
    "            else:\n",
    "                # weight count1 values so the sum of wt1 in this bin equals count2\n",
    "                # wt_fac will always be <= 1\n",
    "                wt_fac = float(count2)/float(count1)\n",
    "                ws_list[compare][in_bin1] = wt_fac\n",
    "                ws_list[i_hist][in_bin2] = 1.0\n",
    "\n",
    "\n",
    "    # now the weights should be determined\n",
    "    # we can optionally re-normalise to make sure we are getting max value out of the datasets\n",
    "    if renorm:\n",
    "        if (np.sum(ws) > 0.00000) & (np.amax(w1) < 1.0):\n",
    "            ws /= np.amax(ws)\n",
    "\n",
    "        if (np.sum(ws) > 0.00000) & (np.amax(w2) < 1.0):\n",
    "            ws /= np.amax(ws)\n",
    "\n",
    "\n",
    "    if return_bins:\n",
    "        return ws, thebins \n",
    "    else: \n",
    "        return ws_list"
   ]
  },
  {
   "cell_type": "code",
   "execution_count": 77,
   "id": "a2d07e71-27c3-4bac-a2a1-5c43dc028b37",
   "metadata": {},
   "outputs": [],
   "source": [
    "df_agn = df_reclsf.query('all_clsf == \"AGN\"')\n",
    "df_sfg = df_reclsf.query('all_clsf == \"SFG\"')\n",
    "df_unknown = df_reclsf.query('all_clsf == \"unknown\"')"
   ]
  },
  {
   "cell_type": "code",
   "execution_count": 78,
   "id": "5b9338d9-f87d-422d-b70b-ab043181c0cd",
   "metadata": {},
   "outputs": [],
   "source": [
    "sfg_s1 = np.array(df_sfg.query('category == \"stage1\"')['lp_mass_best'])\n",
    "sfg_s2 = np.array(df_sfg.query('category == \"stage2\"')['lp_mass_best'])\n",
    "sfg_s3 = np.array(df_sfg.query('category == \"stage3\"')['lp_mass_best'])\n",
    "sfg_s4 = np.array(df_sfg.query('category == \"stage4\"')['lp_mass_best'])\n",
    "\n",
    "agn_s1 = np.array(df_agn.query('category == \"stage1\"')['lp_mass_best'])\n",
    "agn_s2 = np.array(df_agn.query('category == \"stage2\"')['lp_mass_best'])\n",
    "agn_s3 = np.array(df_agn.query('category == \"stage3\"')['lp_mass_best'])\n",
    "agn_s4 = np.array(df_agn.query('category == \"stage4\"')['lp_mass_best'])\n",
    "\n",
    "unknown_s1 = np.array(df_unknown.query('category == \"stage1\"')['lp_mass_best'])\n",
    "unknown_s2 = np.array(df_unknown.query('category == \"stage2\"')['lp_mass_best'])\n",
    "unknown_s3 = np.array(df_unknown.query('category == \"stage3\"')['lp_mass_best'])\n",
    "unknown_s4 = np.array(df_unknown.query('category == \"stage4\"')['lp_mass_best'])"
   ]
  },
  {
   "cell_type": "code",
   "execution_count": 79,
   "id": "cc8b1f18-f6e7-4fa9-8cd3-6c8fb81717f8",
   "metadata": {},
   "outputs": [],
   "source": [
    "weights_sfg = weight_dist([sfg_s1, sfg_s2, sfg_s3, sfg_s4], compare=0, bins = 10, renorm = False, return_bins = False)"
   ]
  },
  {
   "cell_type": "code",
   "execution_count": 80,
   "id": "2eda3555-f4c3-4475-afa7-9191316f931a",
   "metadata": {},
   "outputs": [],
   "source": [
    "weights_unknown = weight_dist([unknown_s1, unknown_s2, unknown_s3, unknown_s4], compare=0, bins = 10, renorm = False, return_bins = False)"
   ]
  },
  {
   "cell_type": "code",
   "execution_count": 81,
   "id": "707c97f1-49a4-47f1-9de3-505ca7260a6a",
   "metadata": {},
   "outputs": [],
   "source": [
    "weights_agn = weight_dist([agn_s1, agn_s2, agn_s3, agn_s4], compare = 3, bins = 8, renorm = False, return_bins = False)"
   ]
  },
  {
   "cell_type": "code",
   "execution_count": 82,
   "id": "7a978d4f-5a80-4bbb-8493-9653e64525c3",
   "metadata": {},
   "outputs": [],
   "source": [
    "agn_n_weight_s1 = np.sum(weights_agn[0] * np.ones(len(agn_s1)))\n",
    "agn_n_weight_s2 = np.sum(weights_agn[1] * np.ones(len(agn_s2)))\n",
    "agn_n_weight_s3 = np.sum(weights_agn[2] * np.ones(len(agn_s3)))\n",
    "agn_n_weight_s4 = np.sum(weights_agn[3] * np.ones(len(agn_s4)))"
   ]
  },
  {
   "cell_type": "code",
   "execution_count": 83,
   "id": "1690cad8-8b4f-47dc-8eac-b0164c50aa7f",
   "metadata": {},
   "outputs": [],
   "source": [
    "sfg_n_weight_s1 = np.sum(weights_sfg[0] * np.ones(len(sfg_s1)))\n",
    "sfg_n_weight_s2 = np.sum(weights_sfg[1] * np.ones(len(sfg_s2)))\n",
    "sfg_n_weight_s3 = np.sum(weights_sfg[2] * np.ones(len(sfg_s3)))\n",
    "sfg_n_weight_s4 = np.sum(weights_sfg[3] * np.ones(len(sfg_s4)))"
   ]
  },
  {
   "cell_type": "code",
   "execution_count": 84,
   "id": "ae903f9c-0555-40ce-bdcd-738d5365ba3e",
   "metadata": {},
   "outputs": [],
   "source": [
    "unknown_n_weight_s1 = np.sum(weights_unknown[0] * np.ones(len(unknown_s1)))\n",
    "unknown_n_weight_s2 = np.sum(weights_unknown[1] * np.ones(len(unknown_s2)))\n",
    "unknown_n_weight_s3 = np.sum(weights_unknown[2] * np.ones(len(unknown_s3)))\n",
    "unknown_n_weight_s4 = np.sum(weights_unknown[3] * np.ones(len(unknown_s4)))"
   ]
  },
  {
   "cell_type": "code",
   "execution_count": 102,
   "id": "a5031db5-18a6-4b9d-a06f-486a4a480bff",
   "metadata": {},
   "outputs": [
    {
     "data": {
      "text/plain": [
       "[0.2727272727272727]"
      ]
     },
     "execution_count": 102,
     "metadata": {},
     "output_type": "execute_result"
    }
   ],
   "source": [
    "fraction_list = []\n",
    "fraction_list.append(agn_n_weight_s1 / (agn_n_weight_s1 + sfg_n_weight_s1)) # + unknown_n_weight_s1))\n",
    "fraction_list"
   ]
  },
  {
   "cell_type": "code",
   "execution_count": 103,
   "id": "7b09c7e2-2f0d-40db-9493-e681427d5125",
   "metadata": {},
   "outputs": [],
   "source": [
    "fraction_list.append(agn_n_weight_s2 / (agn_n_weight_s2 + sfg_n_weight_s2))# + unknown_n_weight_s2))"
   ]
  },
  {
   "cell_type": "code",
   "execution_count": 104,
   "id": "d8420e45-ba8e-4885-a7c5-47287349338a",
   "metadata": {},
   "outputs": [],
   "source": [
    "fraction_list.append(agn_n_weight_s3 / (agn_n_weight_s3 + sfg_n_weight_s3))# + unknown_n_weight_s3))"
   ]
  },
  {
   "cell_type": "code",
   "execution_count": 105,
   "id": "72e6d8cb-8c1e-47c6-aabc-ec57f9fbe3ab",
   "metadata": {},
   "outputs": [],
   "source": [
    "fraction_list.append(agn_n_weight_s4 / (agn_n_weight_s4 + sfg_n_weight_s4))# + unknown_n_weight_s4))"
   ]
  },
  {
   "cell_type": "code",
   "execution_count": 106,
   "id": "893aba60-5d5f-41c2-b76f-a4af100fe0a9",
   "metadata": {},
   "outputs": [
    {
     "data": {
      "text/plain": [
       "[0.2727272727272727,\n",
       " 0.26153846153846155,\n",
       " 0.30985915492957744,\n",
       " 0.3142857142857143]"
      ]
     },
     "execution_count": 106,
     "metadata": {},
     "output_type": "execute_result"
    }
   ],
   "source": [
    "fraction_list"
   ]
  },
  {
   "cell_type": "code",
   "execution_count": 107,
   "id": "24bcff68-c931-42be-8540-b4efc6210352",
   "metadata": {},
   "outputs": [
    {
     "data": {
      "text/plain": [
       "array([1.        , 0.95897436, 1.13615023, 1.15238095])"
      ]
     },
     "execution_count": 107,
     "metadata": {},
     "output_type": "execute_result"
    }
   ],
   "source": [
    "np.array(fraction_list) / fraction_list[0]"
   ]
  },
  {
   "cell_type": "code",
   "execution_count": 108,
   "id": "0478963d-b095-4bbe-8706-f57386ef36df",
   "metadata": {},
   "outputs": [],
   "source": [
    "x = ['Separated', 'Pericentre', 'Apocentre','Merging']"
   ]
  },
  {
   "cell_type": "code",
   "execution_count": 109,
   "id": "65ca2572-5438-4784-86eb-49c822f6ec5a",
   "metadata": {},
   "outputs": [],
   "source": [
    "relative_fraction_list = np.array(fraction_list) / fraction_list[0]"
   ]
  },
  {
   "cell_type": "code",
   "execution_count": 110,
   "id": "144c05e6-2379-4cdd-bff7-bbc829640cc9",
   "metadata": {},
   "outputs": [
    {
     "data": {
      "image/png": "[encoded data removed]",
      "text/plain": [
       "<Figure size 400x400 with 1 Axes>"
      ]
     },
     "metadata": {},
     "output_type": "display_data"
    }
   ],
   "source": [
    "plt.figure(figsize = (4,4))\n",
    "plt.axhline(1.0, color = 'gray', linestyle = '--')\n",
    "plt.scatter(x, relative_fraction_list, color = 'black', s = 40, marker = 'x')\n",
    "# plt.errorbar(x, fraction_list, color = 'black', yerr = error_array, alpha = 0.75, linestyle = '--', capsize = 3.5)\n",
    "plt.plot(x, relative_fraction_list, color='black', linestyle='--')\n",
    "plt.ylabel('Weighted AGN Fraction (N$_{AGN}$ / N$_{stage}$)')\n",
    "plt.ylim([0.75,1.30])\n",
    "# plt.savefig(f'{fig_folder}/agn-frac-time-relative.pdf', bbox_inches = 'tight')\n",
    "plt.show()"
   ]
  },
  {
   "cell_type": "markdown",
   "id": "8017063d-72b7-4577-8fff-87e4744d87c9",
   "metadata": {},
   "source": [
    "## Finding Errors"
   ]
  },
  {
   "cell_type": "code",
   "execution_count": 164,
   "id": "7d1874c9-6705-42f7-806e-1d67cbd8d0d3",
   "metadata": {},
   "outputs": [],
   "source": [
    "def lower_beta(c, k, n):\n",
    "    return dist.beta.ppf((1-c) / 2, k+1, n-k+1)"
   ]
  },
  {
   "cell_type": "code",
   "execution_count": 165,
   "id": "09c3f925-9f9e-408d-9dac-308efefc1e85",
   "metadata": {},
   "outputs": [],
   "source": [
    "def upper_beta(c,k,n):\n",
    "    return dist.beta.ppf(1-(1-c)/2, k+1, n-k+1)"
   ]
  },
  {
   "cell_type": "code",
   "execution_count": 166,
   "id": "965a382e-dc49-4071-af86-3e0b79e840ac",
   "metadata": {},
   "outputs": [],
   "source": [
    "c = 0.683\n",
    "k = agn_n_weight_s1\n",
    "n = (agn_n_weight_s1 + sfg_n_weight_s1 + unknown_n_weight_s1)"
   ]
  },
  {
   "cell_type": "code",
   "execution_count": 167,
   "id": "e439a717-0e2b-4d23-a251-3bfd46cdf244",
   "metadata": {},
   "outputs": [],
   "source": [
    "upper_p = upper_beta(c, k, n)\n",
    "lower_p = lower_beta(c, k, n)"
   ]
  },
  {
   "cell_type": "code",
   "execution_count": 168,
   "id": "89ace01c-bd9b-4f14-9bd6-68e91ace64dd",
   "metadata": {},
   "outputs": [
    {
     "data": {
      "text/plain": [
       "0.05108379232670339"
      ]
     },
     "execution_count": 168,
     "metadata": {},
     "output_type": "execute_result"
    }
   ],
   "source": [
    "upper_p"
   ]
  },
  {
   "cell_type": "code",
   "execution_count": 169,
   "id": "aac568db-b11f-4d92-8f17-aea68f4ed15a",
   "metadata": {},
   "outputs": [
    {
     "data": {
      "text/plain": [
       "0.033535501549508344"
      ]
     },
     "execution_count": 169,
     "metadata": {},
     "output_type": "execute_result"
    }
   ],
   "source": [
    "lower_p"
   ]
  },
  {
   "cell_type": "code",
   "execution_count": 170,
   "id": "3335eea5-4f27-4eab-887f-accd8fed7070",
   "metadata": {},
   "outputs": [
    {
     "data": {
      "text/plain": [
       "[0.2957746478873239,\n",
       " 0.3142857142857143,\n",
       " 0.3333333333333333,\n",
       " 0.35064935064935066]"
      ]
     },
     "execution_count": 170,
     "metadata": {},
     "output_type": "execute_result"
    }
   ],
   "source": [
    "fraction_list"
   ]
  },
  {
   "cell_type": "code",
   "execution_count": 171,
   "id": "865a0428-e717-488f-8e4d-abb3cfc11e79",
   "metadata": {},
   "outputs": [],
   "source": [
    "error_list = []\n",
    "c = 0.683\n",
    "\n",
    "k = len(agn_s1)\n",
    "n = len(agn_s1) + len(sfg_s1) + len(unknown_s1)\n",
    "upper_p = upper_beta(c, k, n)\n",
    "lower_p = lower_beta(c,k,n)\n",
    "error_list.append([fraction_list[0] - lower_p, upper_p - fraction_list[0]])\n",
    "\n",
    "k = len(agn_s2)\n",
    "n = len(agn_s2) + len(sfg_s2) + len(unknown_s2)\n",
    "upper_p = upper_beta(c, k, n)\n",
    "lower_p = lower_beta(c,k,n)\n",
    "error_list.append([fraction_list[1] - lower_p, upper_p - fraction_list[1]])\n",
    "\n",
    "k = len(agn_s3)\n",
    "n = len(agn_s3) + len(sfg_s3) + len(unknown_s3)\n",
    "upper_p = upper_beta(c, k, n)\n",
    "lower_p = lower_beta(c,k,n)\n",
    "error_list.append([fraction_list[2] - lower_p, upper_p - fraction_list[2]])\n",
    "\n",
    "k = len(agn_s4)\n",
    "n = len(agn_s4) + len(sfg_s4) + len(unknown_s4)\n",
    "upper_p = upper_beta(c, k, n)\n",
    "lower_p = lower_beta(c,k,n)\n",
    "error_list.append([fraction_list[3] - lower_p, upper_p - fraction_list[3]])"
   ]
  }
 ],
 "metadata": {
  "kernelspec": {
   "display_name": "Python 3 (ipykernel)",
   "language": "python",
   "name": "python3"
  },
  "language_info": {
   "codemirror_mode": {
    "name": "ipython",
    "version": 3
   },
   "file_extension": ".py",
   "mimetype": "text/x-python",
   "name": "python",
   "nbconvert_exporter": "python",
   "pygments_lexer": "ipython3",
   "version": "3.7.13"
  }
 },
 "nbformat": 4,
 "nbformat_minor": 5
}
